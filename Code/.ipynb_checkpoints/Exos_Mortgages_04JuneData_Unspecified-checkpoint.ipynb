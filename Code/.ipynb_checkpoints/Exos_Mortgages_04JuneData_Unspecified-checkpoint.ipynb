{
 "cells": [
  {
   "cell_type": "markdown",
   "metadata": {},
   "source": [
    "# Claira Project: Mortgage Contracts"
   ]
  },
  {
   "cell_type": "markdown",
   "metadata": {},
   "source": [
    "## Import Packages"
   ]
  },
  {
   "cell_type": "code",
   "execution_count": 1,
   "metadata": {},
   "outputs": [
    {
     "name": "stderr",
     "output_type": "stream",
     "text": [
      "/opt/anaconda3/envs/dsi/lib/python3.7/site-packages/sklearn/utils/deprecation.py:144: FutureWarning: The sklearn.feature_extraction.stop_words module is  deprecated in version 0.22 and will be removed in version 0.24. The corresponding classes / functions should instead be imported from sklearn.feature_extraction.text. Anything that cannot be imported from sklearn.feature_extraction.text is now part of the private API.\n",
      "  warnings.warn(message, FutureWarning)\n"
     ]
    }
   ],
   "source": [
    "import pandas as pd\n",
    "import matplotlib.pyplot as plt\n",
    "import json\n",
    "import string\n",
    "import numpy as np\n",
    "import gzip\n",
    "import seaborn as sns\n",
    "np.random.seed(99)\n",
    "RANDOM_STATE = 99\n",
    "import datetime\n",
    "pd.set_option('display.max_rows', 151)\n",
    "\n",
    "\n",
    "# Import vectorizing and modeling tools in preparation for modeling steps\n",
    "from sklearn.feature_extraction.text import CountVectorizer,TfidfVectorizer\n",
    "from sklearn.feature_extraction import text, stop_words\n",
    "from sklearn.naive_bayes import MultinomialNB, GaussianNB, BernoulliNB\n",
    "import time\n",
    "\n",
    "from nltk import word_tokenize\n",
    "from nltk.corpus import stopwords\n",
    "from nltk.stem.wordnet import WordNetLemmatizer\n",
    "\n",
    "import spacy\n",
    "import en_core_web_lg\n",
    "from spacy.lang.en import English\n",
    "from spacy.lang.en.stop_words import STOP_WORDS\n",
    "\n",
    "from sklearn.model_selection import train_test_split, GridSearchCV, cross_val_score, cross_val_predict\n",
    "from sklearn.pipeline import Pipeline\n",
    "from sklearn.linear_model import LogisticRegression\n",
    "from sklearn.tree import DecisionTreeClassifier\n",
    "\n",
    "from sklearn.metrics import roc_curve, auc\n",
    "\n",
    "# Import CountVectorizer and TFIDFVectorizer from feature_extraction.text.\n",
    "from sklearn.feature_extraction.text import CountVectorizer, TfidfVectorizer"
   ]
  },
  {
   "cell_type": "markdown",
   "metadata": {},
   "source": [
    "## Import Data"
   ]
  },
  {
   "cell_type": "code",
   "execution_count": 2,
   "metadata": {},
   "outputs": [],
   "source": [
    "# Import the CSV file\n",
    "# raw_df = pd.read_csv('../data/sasb_cash_trap_triggers.csv')"
   ]
  },
  {
   "cell_type": "code",
   "execution_count": 3,
   "metadata": {},
   "outputs": [],
   "source": [
    "# Import the CSV file\n",
    "raw_df = pd.read_csv('../data/sasb_cash_trap_triggers_06_02_20.csv')"
   ]
  },
  {
   "cell_type": "code",
   "execution_count": 4,
   "metadata": {},
   "outputs": [
    {
     "data": {
      "text/html": [
       "<div>\n",
       "<style scoped>\n",
       "    .dataframe tbody tr th:only-of-type {\n",
       "        vertical-align: middle;\n",
       "    }\n",
       "\n",
       "    .dataframe tbody tr th {\n",
       "        vertical-align: top;\n",
       "    }\n",
       "\n",
       "    .dataframe thead th {\n",
       "        text-align: right;\n",
       "    }\n",
       "</style>\n",
       "<table border=\"1\" class=\"dataframe\">\n",
       "  <thead>\n",
       "    <tr style=\"text-align: right;\">\n",
       "      <th></th>\n",
       "      <th>Document</th>\n",
       "      <th>Sentence</th>\n",
       "      <th>Trigger</th>\n",
       "      <th>Multiclass</th>\n",
       "    </tr>\n",
       "  </thead>\n",
       "  <tbody>\n",
       "    <tr>\n",
       "      <th>0</th>\n",
       "      <td>20120828_01Y0R8_Prospectus_CM00000000205875087...</td>\n",
       "      <td>On each Business Day, the financial institutio...</td>\n",
       "      <td>Loan Default</td>\n",
       "      <td>0</td>\n",
       "    </tr>\n",
       "    <tr>\n",
       "      <th>1</th>\n",
       "      <td>20120828_01Y0R8_Prospectus_CM00000000205875087...</td>\n",
       "      <td>The Borrower has established and is required t...</td>\n",
       "      <td>Aggregate DSCR Fall</td>\n",
       "      <td>1</td>\n",
       "    </tr>\n",
       "    <tr>\n",
       "      <th>2</th>\n",
       "      <td>20120828_01Y0R8_Prospectus_CM00000000205875087...</td>\n",
       "      <td>The Borrower has established and is required t...</td>\n",
       "      <td>Loan Default</td>\n",
       "      <td>1</td>\n",
       "    </tr>\n",
       "    <tr>\n",
       "      <th>3</th>\n",
       "      <td>20120828_01Y0R8_Prospectus_CM00000000205875087...</td>\n",
       "      <td>During a Trigger Period or while an event of d...</td>\n",
       "      <td>Loan Default</td>\n",
       "      <td>0</td>\n",
       "    </tr>\n",
       "    <tr>\n",
       "      <th>4</th>\n",
       "      <td>20120828_01Y0R8_Prospectus_CM00000000205875087...</td>\n",
       "      <td>On any Business Day all amounts on deposit in ...</td>\n",
       "      <td>Loan Default</td>\n",
       "      <td>0</td>\n",
       "    </tr>\n",
       "  </tbody>\n",
       "</table>\n",
       "</div>"
      ],
      "text/plain": [
       "                                            Document  \\\n",
       "0  20120828_01Y0R8_Prospectus_CM00000000205875087...   \n",
       "1  20120828_01Y0R8_Prospectus_CM00000000205875087...   \n",
       "2  20120828_01Y0R8_Prospectus_CM00000000205875087...   \n",
       "3  20120828_01Y0R8_Prospectus_CM00000000205875087...   \n",
       "4  20120828_01Y0R8_Prospectus_CM00000000205875087...   \n",
       "\n",
       "                                            Sentence              Trigger  \\\n",
       "0  On each Business Day, the financial institutio...         Loan Default   \n",
       "1  The Borrower has established and is required t...  Aggregate DSCR Fall   \n",
       "2  The Borrower has established and is required t...         Loan Default   \n",
       "3  During a Trigger Period or while an event of d...         Loan Default   \n",
       "4  On any Business Day all amounts on deposit in ...         Loan Default   \n",
       "\n",
       "   Multiclass  \n",
       "0           0  \n",
       "1           1  \n",
       "2           1  \n",
       "3           0  \n",
       "4           0  "
      ]
     },
     "execution_count": 4,
     "metadata": {},
     "output_type": "execute_result"
    }
   ],
   "source": [
    "# Review the first few rows of the data set\n",
    "raw_df.head()"
   ]
  },
  {
   "cell_type": "code",
   "execution_count": 5,
   "metadata": {},
   "outputs": [
    {
     "data": {
      "text/plain": [
       "(892, 4)"
      ]
     },
     "execution_count": 5,
     "metadata": {},
     "output_type": "execute_result"
    }
   ],
   "source": [
    "# Check size of the data set\n",
    "raw_df.shape"
   ]
  },
  {
   "cell_type": "code",
   "execution_count": 6,
   "metadata": {},
   "outputs": [],
   "source": [
    "raw_df = raw_df[['Document', 'Sentence', 'Trigger', 'Multiclass']]"
   ]
  },
  {
   "cell_type": "code",
   "execution_count": 7,
   "metadata": {},
   "outputs": [
    {
     "data": {
      "text/plain": [
       "Document      0\n",
       "Sentence      0\n",
       "Trigger       0\n",
       "Multiclass    0\n",
       "dtype: int64"
      ]
     },
     "execution_count": 7,
     "metadata": {},
     "output_type": "execute_result"
    }
   ],
   "source": [
    "# Check for null values\n",
    "raw_df.isnull().sum()"
   ]
  },
  {
   "cell_type": "code",
   "execution_count": 8,
   "metadata": {},
   "outputs": [
    {
     "data": {
      "text/plain": [
       "(892, 4)"
      ]
     },
     "execution_count": 8,
     "metadata": {},
     "output_type": "execute_result"
    }
   ],
   "source": [
    "raw_df.dropna()\n",
    "raw_df.shape"
   ]
  },
  {
   "cell_type": "code",
   "execution_count": 9,
   "metadata": {},
   "outputs": [
    {
     "data": {
      "text/html": [
       "<div>\n",
       "<style scoped>\n",
       "    .dataframe tbody tr th:only-of-type {\n",
       "        vertical-align: middle;\n",
       "    }\n",
       "\n",
       "    .dataframe tbody tr th {\n",
       "        vertical-align: top;\n",
       "    }\n",
       "\n",
       "    .dataframe thead th {\n",
       "        text-align: right;\n",
       "    }\n",
       "</style>\n",
       "<table border=\"1\" class=\"dataframe\">\n",
       "  <thead>\n",
       "    <tr style=\"text-align: right;\">\n",
       "      <th></th>\n",
       "      <th>Document</th>\n",
       "      <th>Sentence</th>\n",
       "      <th>Trigger</th>\n",
       "      <th>Multiclass</th>\n",
       "    </tr>\n",
       "  </thead>\n",
       "  <tbody>\n",
       "    <tr>\n",
       "      <th>0</th>\n",
       "      <td>20120828_01Y0R8_Prospectus_CM00000000205875087...</td>\n",
       "      <td>On each Business Day, the financial institutio...</td>\n",
       "      <td>Loan Default</td>\n",
       "      <td>0</td>\n",
       "    </tr>\n",
       "    <tr>\n",
       "      <th>1</th>\n",
       "      <td>20120828_01Y0R8_Prospectus_CM00000000205875087...</td>\n",
       "      <td>The Borrower has established and is required t...</td>\n",
       "      <td>Aggregate DSCR Fall</td>\n",
       "      <td>1</td>\n",
       "    </tr>\n",
       "    <tr>\n",
       "      <th>2</th>\n",
       "      <td>20120828_01Y0R8_Prospectus_CM00000000205875087...</td>\n",
       "      <td>The Borrower has established and is required t...</td>\n",
       "      <td>Loan Default</td>\n",
       "      <td>1</td>\n",
       "    </tr>\n",
       "    <tr>\n",
       "      <th>3</th>\n",
       "      <td>20120828_01Y0R8_Prospectus_CM00000000205875087...</td>\n",
       "      <td>During a Trigger Period or while an event of d...</td>\n",
       "      <td>Loan Default</td>\n",
       "      <td>0</td>\n",
       "    </tr>\n",
       "    <tr>\n",
       "      <th>4</th>\n",
       "      <td>20120828_01Y0R8_Prospectus_CM00000000205875087...</td>\n",
       "      <td>On any Business Day all amounts on deposit in ...</td>\n",
       "      <td>Loan Default</td>\n",
       "      <td>0</td>\n",
       "    </tr>\n",
       "  </tbody>\n",
       "</table>\n",
       "</div>"
      ],
      "text/plain": [
       "                                            Document  \\\n",
       "0  20120828_01Y0R8_Prospectus_CM00000000205875087...   \n",
       "1  20120828_01Y0R8_Prospectus_CM00000000205875087...   \n",
       "2  20120828_01Y0R8_Prospectus_CM00000000205875087...   \n",
       "3  20120828_01Y0R8_Prospectus_CM00000000205875087...   \n",
       "4  20120828_01Y0R8_Prospectus_CM00000000205875087...   \n",
       "\n",
       "                                            Sentence              Trigger  \\\n",
       "0  On each Business Day, the financial institutio...         Loan Default   \n",
       "1  The Borrower has established and is required t...  Aggregate DSCR Fall   \n",
       "2  The Borrower has established and is required t...         Loan Default   \n",
       "3  During a Trigger Period or while an event of d...         Loan Default   \n",
       "4  On any Business Day all amounts on deposit in ...         Loan Default   \n",
       "\n",
       "   Multiclass  \n",
       "0           0  \n",
       "1           1  \n",
       "2           1  \n",
       "3           0  \n",
       "4           0  "
      ]
     },
     "execution_count": 9,
     "metadata": {},
     "output_type": "execute_result"
    }
   ],
   "source": [
    "raw_df.head()"
   ]
  },
  {
   "cell_type": "markdown",
   "metadata": {},
   "source": [
    "## Data Cleaning"
   ]
  },
  {
   "cell_type": "code",
   "execution_count": 10,
   "metadata": {},
   "outputs": [
    {
     "data": {
      "text/plain": [
       "Unspecified                  270\n",
       "Loan Default                 234\n",
       "Debt Yield Fall               85\n",
       "Loan default                  75\n",
       "Mezzanine Default             39\n",
       "Tenant Failure                35\n",
       "Debt yield fall               34\n",
       "Bankruptcy                    20\n",
       "DSCR Fall                     18\n",
       "Operator Termination          17\n",
       "Sponsor Termination           14\n",
       "Aggregate Debt Yield Fall     11\n",
       "Mezzanine Outstanding         10\n",
       "Renovations                    9\n",
       "Mezzanine default              8\n",
       "Aggregate debt yield fall      6\n",
       "Debt Yield Falll               4\n",
       "Aggregate DSCR Fall            2\n",
       "Aggregate debt yield           1\n",
       "Name: Trigger, dtype: int64"
      ]
     },
     "execution_count": 10,
     "metadata": {},
     "output_type": "execute_result"
    }
   ],
   "source": [
    "# Review number of Trigger types\n",
    "raw_df['Trigger'].value_counts()"
   ]
  },
  {
   "cell_type": "code",
   "execution_count": 11,
   "metadata": {},
   "outputs": [],
   "source": [
    "# Convert each category to Title format (to remove discrepancies based on capitalization)\n",
    "raw_df['Trigger'] = raw_df['Trigger'].str.title()"
   ]
  },
  {
   "cell_type": "code",
   "execution_count": 12,
   "metadata": {},
   "outputs": [
    {
     "data": {
      "text/plain": [
       "Loan Default                 309\n",
       "Unspecified                  270\n",
       "Debt Yield Fall              119\n",
       "Mezzanine Default             47\n",
       "Tenant Failure                35\n",
       "Bankruptcy                    20\n",
       "Dscr Fall                     18\n",
       "Operator Termination          17\n",
       "Aggregate Debt Yield Fall     17\n",
       "Sponsor Termination           14\n",
       "Mezzanine Outstanding         10\n",
       "Renovations                    9\n",
       "Debt Yield Falll               4\n",
       "Aggregate Dscr Fall            2\n",
       "Aggregate Debt Yield           1\n",
       "Name: Trigger, dtype: int64"
      ]
     },
     "execution_count": 12,
     "metadata": {},
     "output_type": "execute_result"
    }
   ],
   "source": [
    "# Review clean Trigger Types\n",
    "raw_df['Trigger'].value_counts()"
   ]
  },
  {
   "cell_type": "code",
   "execution_count": 13,
   "metadata": {},
   "outputs": [],
   "source": [
    "raw_df['Trigger'] = raw_df['Trigger'].str.replace('Falll', 'Fall')"
   ]
  },
  {
   "cell_type": "code",
   "execution_count": 14,
   "metadata": {},
   "outputs": [],
   "source": [
    "raw_df.loc[raw_df['Trigger'] == 'Aggregate Debt Yield', 'Trigger'] = 'Aggregate Debt Yield Fall'"
   ]
  },
  {
   "cell_type": "code",
   "execution_count": 15,
   "metadata": {},
   "outputs": [],
   "source": [
    "# Rename first column (document title)\n",
    "# raw_df = raw_df.rename(columns = {'0': 'Document'})"
   ]
  },
  {
   "cell_type": "code",
   "execution_count": 16,
   "metadata": {},
   "outputs": [
    {
     "data": {
      "text/html": [
       "<div>\n",
       "<style scoped>\n",
       "    .dataframe tbody tr th:only-of-type {\n",
       "        vertical-align: middle;\n",
       "    }\n",
       "\n",
       "    .dataframe tbody tr th {\n",
       "        vertical-align: top;\n",
       "    }\n",
       "\n",
       "    .dataframe thead th {\n",
       "        text-align: right;\n",
       "    }\n",
       "</style>\n",
       "<table border=\"1\" class=\"dataframe\">\n",
       "  <thead>\n",
       "    <tr style=\"text-align: right;\">\n",
       "      <th></th>\n",
       "      <th>Document</th>\n",
       "      <th>Sentence</th>\n",
       "      <th>Trigger</th>\n",
       "    </tr>\n",
       "  </thead>\n",
       "  <tbody>\n",
       "    <tr>\n",
       "      <th>0</th>\n",
       "      <td>20120828_01Y0R8_Prospectus_CM00000000205875087...</td>\n",
       "      <td>On each Business Day, the financial institutio...</td>\n",
       "      <td>Loan Default</td>\n",
       "    </tr>\n",
       "    <tr>\n",
       "      <th>1</th>\n",
       "      <td>20120828_01Y0R8_Prospectus_CM00000000205875087...</td>\n",
       "      <td>The Borrower has established and is required t...</td>\n",
       "      <td>Aggregate Dscr Fall</td>\n",
       "    </tr>\n",
       "    <tr>\n",
       "      <th>2</th>\n",
       "      <td>20120828_01Y0R8_Prospectus_CM00000000205875087...</td>\n",
       "      <td>The Borrower has established and is required t...</td>\n",
       "      <td>Loan Default</td>\n",
       "    </tr>\n",
       "    <tr>\n",
       "      <th>3</th>\n",
       "      <td>20120828_01Y0R8_Prospectus_CM00000000205875087...</td>\n",
       "      <td>During a Trigger Period or while an event of d...</td>\n",
       "      <td>Loan Default</td>\n",
       "    </tr>\n",
       "    <tr>\n",
       "      <th>4</th>\n",
       "      <td>20120828_01Y0R8_Prospectus_CM00000000205875087...</td>\n",
       "      <td>On any Business Day all amounts on deposit in ...</td>\n",
       "      <td>Loan Default</td>\n",
       "    </tr>\n",
       "  </tbody>\n",
       "</table>\n",
       "</div>"
      ],
      "text/plain": [
       "                                            Document  \\\n",
       "0  20120828_01Y0R8_Prospectus_CM00000000205875087...   \n",
       "1  20120828_01Y0R8_Prospectus_CM00000000205875087...   \n",
       "2  20120828_01Y0R8_Prospectus_CM00000000205875087...   \n",
       "3  20120828_01Y0R8_Prospectus_CM00000000205875087...   \n",
       "4  20120828_01Y0R8_Prospectus_CM00000000205875087...   \n",
       "\n",
       "                                            Sentence              Trigger  \n",
       "0  On each Business Day, the financial institutio...         Loan Default  \n",
       "1  The Borrower has established and is required t...  Aggregate Dscr Fall  \n",
       "2  The Borrower has established and is required t...         Loan Default  \n",
       "3  During a Trigger Period or while an event of d...         Loan Default  \n",
       "4  On any Business Day all amounts on deposit in ...         Loan Default  "
      ]
     },
     "execution_count": 16,
     "metadata": {},
     "output_type": "execute_result"
    }
   ],
   "source": [
    "# Drop Multiclass column for now \n",
    "raw_df = raw_df.drop('Multiclass', axis = 1)\n",
    "raw_df.head()"
   ]
  },
  {
   "cell_type": "code",
   "execution_count": 17,
   "metadata": {},
   "outputs": [
    {
     "data": {
      "text/plain": [
       "(892, 3)"
      ]
     },
     "execution_count": 17,
     "metadata": {},
     "output_type": "execute_result"
    }
   ],
   "source": [
    "raw_df.shape"
   ]
  },
  {
   "cell_type": "code",
   "execution_count": 18,
   "metadata": {},
   "outputs": [
    {
     "name": "stdout",
     "output_type": "stream",
     "text": [
      "20 unique documents have been included in the data set\n"
     ]
    }
   ],
   "source": [
    "# Count the number of distinct documents\n",
    "num_docs = raw_df['Document'].nunique()\n",
    "print(f'{num_docs} unique documents have been included in the data set')"
   ]
  },
  {
   "cell_type": "code",
   "execution_count": 19,
   "metadata": {
    "scrolled": true
   },
   "outputs": [
    {
     "data": {
      "text/plain": [
       "20190131_02IFE7_Prospectus_SD000000002578234792.pdf    67\n",
       "20190131_02IFDN_Prospectus_SD000000002578234912.pdf    66\n",
       "20181231_02IEP9_Prospectus_SD000000002568455603.pdf    65\n",
       "20190131_02IFCW_Prospectus_SD000000002578232050.pdf    64\n",
       "20190220_02IPLU_Prospectus_SD000000002587491183.pdf    63\n",
       "20190108_02IFF1_Prospectus_SD000000002570458466.pdf    60\n",
       "20190208_02IM7M_Prospectus_SD000000002581684036.pdf    54\n",
       "20190205_02IJ77_Prospectus_SD000000002579874729.pdf    50\n",
       "20160510_02B0XU_Prospectus_SD000000002312723382.pdf    46\n",
       "20180125_02FE6L_Prospectus_SD000000002394837596.pdf    44\n",
       "20170525_02DG4Z_Prospectus_SD000000002352418696.pdf    42\n",
       "20170525_02DFUI_Prospectus_SD000000002352389122.pdf    37\n",
       "20170727_02DTVX_Prospectus_SD000000002362015714.pdf    35\n",
       "20171019_02EFSE_Prospectus_SD000000002376978886.pdf    35\n",
       "20170814_02E227_Prospectus_SD000000002367167139.pdf    34\n",
       "20150307_028S2X_Prospectus_SD000000002389024187.pdf    29\n",
       "20170616_02DNAM_Prospectus_SD000000002355931744.pdf    28\n",
       "20170801_02DX5C_Prospectus_SD000000002363000910.pdf    28\n",
       "20160310_02AQCW_Prospectus_SD0000000-2003264558.pdf    25\n",
       "20120828_01Y0R8_Prospectus_CM000000002058750876.pdf    20\n",
       "Name: Document, dtype: int64"
      ]
     },
     "execution_count": 19,
     "metadata": {},
     "output_type": "execute_result"
    }
   ],
   "source": [
    "# Review the distinct documents and the number of Trigger events identified for each\n",
    "raw_df['Document'].value_counts()"
   ]
  },
  {
   "cell_type": "code",
   "execution_count": 20,
   "metadata": {},
   "outputs": [
    {
     "name": "stdout",
     "output_type": "stream",
     "text": [
      "The 20 Documents have trigger counts that range from 20 to 67.\n"
     ]
    }
   ],
   "source": [
    "# Summarize the trigger counts for the existing Document set\n",
    "max_triggers = raw_df['Document'].value_counts().max()\n",
    "min_triggers = raw_df['Document'].value_counts().min()\n",
    "print(f'The {num_docs} Documents have trigger counts that range from {min_triggers} to {max_triggers}.')"
   ]
  },
  {
   "cell_type": "code",
   "execution_count": 21,
   "metadata": {},
   "outputs": [
    {
     "data": {
      "text/plain": [
       "False    844\n",
       "True      48\n",
       "Name: is_duplicate, dtype: int64"
      ]
     },
     "execution_count": 21,
     "metadata": {},
     "output_type": "execute_result"
    }
   ],
   "source": [
    "# Check for duplicate rows\n",
    "raw_df['is_duplicate'] = raw_df.duplicated(subset = None)\n",
    "raw_df['is_duplicate'].value_counts()"
   ]
  },
  {
   "cell_type": "code",
   "execution_count": 22,
   "metadata": {},
   "outputs": [
    {
     "name": "stdout",
     "output_type": "stream",
     "text": [
      "There are 48 row duplicates in the data set.\n"
     ]
    }
   ],
   "source": [
    "num_duplicated_rows = (raw_df['is_duplicate'] == True).sum()\n",
    "print(f'There are {num_duplicated_rows} row duplicates in the data set.')"
   ]
  },
  {
   "cell_type": "code",
   "execution_count": 23,
   "metadata": {},
   "outputs": [],
   "source": [
    "# We'll remove the extra duplicate rows\n",
    "raw_df = raw_df.drop('is_duplicate', axis = 1)\n",
    "raw_df = raw_df.drop_duplicates()"
   ]
  },
  {
   "cell_type": "code",
   "execution_count": 24,
   "metadata": {},
   "outputs": [
    {
     "data": {
      "text/plain": [
       "(844, 3)"
      ]
     },
     "execution_count": 24,
     "metadata": {},
     "output_type": "execute_result"
    }
   ],
   "source": [
    "raw_df.shape"
   ]
  },
  {
   "cell_type": "code",
   "execution_count": 25,
   "metadata": {},
   "outputs": [
    {
     "data": {
      "text/html": [
       "<div>\n",
       "<style scoped>\n",
       "    .dataframe tbody tr th:only-of-type {\n",
       "        vertical-align: middle;\n",
       "    }\n",
       "\n",
       "    .dataframe tbody tr th {\n",
       "        vertical-align: top;\n",
       "    }\n",
       "\n",
       "    .dataframe thead th {\n",
       "        text-align: right;\n",
       "    }\n",
       "</style>\n",
       "<table border=\"1\" class=\"dataframe\">\n",
       "  <thead>\n",
       "    <tr style=\"text-align: right;\">\n",
       "      <th></th>\n",
       "      <th>Document</th>\n",
       "      <th>Sentence</th>\n",
       "      <th>Trigger</th>\n",
       "    </tr>\n",
       "  </thead>\n",
       "  <tbody>\n",
       "    <tr>\n",
       "      <th>0</th>\n",
       "      <td>20120828_01Y0R8_Prospectus_CM00000000205875087...</td>\n",
       "      <td>On each Business Day, the financial institutio...</td>\n",
       "      <td>Loan Default</td>\n",
       "    </tr>\n",
       "    <tr>\n",
       "      <th>1</th>\n",
       "      <td>20120828_01Y0R8_Prospectus_CM00000000205875087...</td>\n",
       "      <td>The Borrower has established and is required t...</td>\n",
       "      <td>Aggregate Dscr Fall</td>\n",
       "    </tr>\n",
       "    <tr>\n",
       "      <th>2</th>\n",
       "      <td>20120828_01Y0R8_Prospectus_CM00000000205875087...</td>\n",
       "      <td>The Borrower has established and is required t...</td>\n",
       "      <td>Loan Default</td>\n",
       "    </tr>\n",
       "    <tr>\n",
       "      <th>3</th>\n",
       "      <td>20120828_01Y0R8_Prospectus_CM00000000205875087...</td>\n",
       "      <td>During a Trigger Period or while an event of d...</td>\n",
       "      <td>Loan Default</td>\n",
       "    </tr>\n",
       "    <tr>\n",
       "      <th>4</th>\n",
       "      <td>20120828_01Y0R8_Prospectus_CM00000000205875087...</td>\n",
       "      <td>On any Business Day all amounts on deposit in ...</td>\n",
       "      <td>Loan Default</td>\n",
       "    </tr>\n",
       "  </tbody>\n",
       "</table>\n",
       "</div>"
      ],
      "text/plain": [
       "                                            Document  \\\n",
       "0  20120828_01Y0R8_Prospectus_CM00000000205875087...   \n",
       "1  20120828_01Y0R8_Prospectus_CM00000000205875087...   \n",
       "2  20120828_01Y0R8_Prospectus_CM00000000205875087...   \n",
       "3  20120828_01Y0R8_Prospectus_CM00000000205875087...   \n",
       "4  20120828_01Y0R8_Prospectus_CM00000000205875087...   \n",
       "\n",
       "                                            Sentence              Trigger  \n",
       "0  On each Business Day, the financial institutio...         Loan Default  \n",
       "1  The Borrower has established and is required t...  Aggregate Dscr Fall  \n",
       "2  The Borrower has established and is required t...         Loan Default  \n",
       "3  During a Trigger Period or while an event of d...         Loan Default  \n",
       "4  On any Business Day all amounts on deposit in ...         Loan Default  "
      ]
     },
     "execution_count": 25,
     "metadata": {},
     "output_type": "execute_result"
    }
   ],
   "source": [
    "raw_df.head()"
   ]
  },
  {
   "cell_type": "code",
   "execution_count": 26,
   "metadata": {},
   "outputs": [
    {
     "data": {
      "text/plain": [
       "Loan Default                 297\n",
       "Unspecified                  261\n",
       "Debt Yield Fall              110\n",
       "Mezzanine Default             42\n",
       "Tenant Failure                35\n",
       "Aggregate Debt Yield Fall     18\n",
       "Bankruptcy                    17\n",
       "Dscr Fall                     16\n",
       "Operator Termination          15\n",
       "Sponsor Termination           14\n",
       "Renovations                    9\n",
       "Mezzanine Outstanding          8\n",
       "Aggregate Dscr Fall            2\n",
       "Name: Trigger, dtype: int64"
      ]
     },
     "execution_count": 26,
     "metadata": {},
     "output_type": "execute_result"
    }
   ],
   "source": [
    "# Review new number of Trigger types\n",
    "raw_df['Trigger'].value_counts()"
   ]
  },
  {
   "cell_type": "code",
   "execution_count": 27,
   "metadata": {},
   "outputs": [
    {
     "data": {
      "image/png": "[encoded data removed]",
      "text/plain": [
       "<Figure size 576x576 with 1 Axes>"
      ]
     },
     "metadata": {
      "needs_background": "light"
     },
     "output_type": "display_data"
    }
   ],
   "source": [
    "trigger_order = raw_df['Trigger'].value_counts().sort_values(ascending = False).index\n",
    "\n",
    "fig = plt.gcf()\n",
    "fig.set_size_inches(8, 8)\n",
    "ax = sns.countplot(y=raw_df['Trigger'], data=raw_df, orient = 'h', order = trigger_order)\n",
    "ax.set_title('Number of Trigger Types');\n",
    "\n",
    "for p in ax.patches:\n",
    "    ax.annotate(int(p.get_width()),((p.get_x() + p.get_width()), p.get_y()), xytext=(17, -15),fontsize=9,textcoords='offset points', horizontalalignment='right')\n",
    "    \n",
    "#https://stackoverflow.com/questions/50190409/how-to-annotate-horizontal-seaborn-countplots"
   ]
  },
  {
   "cell_type": "code",
   "execution_count": 28,
   "metadata": {},
   "outputs": [
    {
     "data": {
      "text/plain": [
       "20190131_02IFE7_Prospectus_SD000000002578234792.pdf    67\n",
       "20190131_02IFDN_Prospectus_SD000000002578234912.pdf    66\n",
       "20181231_02IEP9_Prospectus_SD000000002568455603.pdf    65\n",
       "20190131_02IFCW_Prospectus_SD000000002578232050.pdf    64\n",
       "20190220_02IPLU_Prospectus_SD000000002587491183.pdf    62\n",
       "20190208_02IM7M_Prospectus_SD000000002581684036.pdf    54\n",
       "20190108_02IFF1_Prospectus_SD000000002570458466.pdf    54\n",
       "20190205_02IJ77_Prospectus_SD000000002579874729.pdf    50\n",
       "20160510_02B0XU_Prospectus_SD000000002312723382.pdf    38\n",
       "20171019_02EFSE_Prospectus_SD000000002376978886.pdf    35\n",
       "20180125_02FE6L_Prospectus_SD000000002394837596.pdf    34\n",
       "20170525_02DG4Z_Prospectus_SD000000002352418696.pdf    34\n",
       "20170525_02DFUI_Prospectus_SD000000002352389122.pdf    33\n",
       "20170814_02E227_Prospectus_SD000000002367167139.pdf    31\n",
       "20150307_028S2X_Prospectus_SD000000002389024187.pdf    29\n",
       "20170616_02DNAM_Prospectus_SD000000002355931744.pdf    28\n",
       "20170727_02DTVX_Prospectus_SD000000002362015714.pdf    28\n",
       "20170801_02DX5C_Prospectus_SD000000002363000910.pdf    27\n",
       "20160310_02AQCW_Prospectus_SD0000000-2003264558.pdf    25\n",
       "20120828_01Y0R8_Prospectus_CM000000002058750876.pdf    20\n",
       "Name: Document, dtype: int64"
      ]
     },
     "execution_count": 28,
     "metadata": {},
     "output_type": "execute_result"
    }
   ],
   "source": [
    "# Review new distinct documents and the number of Trigger events identified for each\n",
    "raw_df['Document'].value_counts()"
   ]
  },
  {
   "cell_type": "code",
   "execution_count": 29,
   "metadata": {},
   "outputs": [
    {
     "data": {
      "text/plain": [
       "Document    object\n",
       "Sentence    object\n",
       "Trigger     object\n",
       "dtype: object"
      ]
     },
     "execution_count": 29,
     "metadata": {},
     "output_type": "execute_result"
    }
   ],
   "source": [
    "raw_df.dtypes"
   ]
  },
  {
   "cell_type": "markdown",
   "metadata": {},
   "source": [
    "## Reshape the Data"
   ]
  },
  {
   "cell_type": "markdown",
   "metadata": {},
   "source": [
    "In this section, we'll reshape the data, such that each sentence is represented once, with separate categorization columns for each Trigger type"
   ]
  },
  {
   "cell_type": "code",
   "execution_count": 30,
   "metadata": {},
   "outputs": [],
   "source": [
    "# function to reshape the dataframe such that the triggers are 0/1 columns. Remove duplicates\n",
    "def reshape_trigger_representation(dataframe):\n",
    "    # select trigger types\n",
    "    trigger_types = list(dataframe['Trigger'].unique())\n",
    "    trigger_types = [x for x in trigger_types if str(x) != 'nan']\n",
    "    \n",
    "    # create new dataframe with unique document-sentence pairs (no duplicates)\n",
    "    reshaped = dataframe.drop('Trigger', axis = 1).drop_duplicates().reset_index().drop('index', axis = 1)\n",
    "    \n",
    "    # select rows by trigger, reassign as 1 or 0 (for True or False)\n",
    "    for tt in trigger_types:\n",
    "        # select part that is trigger_type\n",
    "        temp = dataframe.loc[dataframe['Trigger'] == tt].copy()\n",
    "\n",
    "        # create a new column of true with trigger name\n",
    "        temp[tt.lower().replace(' ', '_')] = np.int64(1)\n",
    "        temp.drop('Trigger', axis=1, inplace=True)\n",
    "        temp[tt.lower().replace(' ', '_')] = temp[tt.lower().replace(' ', '_')].astype('Int64')\n",
    "        \n",
    "        # left join this adjusted column to the unique data\n",
    "        reshaped = reshaped.merge(temp, how='left', left_on=['Document', 'Sentence'], right_on=['Document', 'Sentence'])\n",
    "\n",
    "    # replace nulls with False\n",
    "    reshaped = reshaped.fillna(0)    \n",
    "    \n",
    "    return reshaped"
   ]
  },
  {
   "cell_type": "code",
   "execution_count": 31,
   "metadata": {},
   "outputs": [],
   "source": [
    "# Reshape our original dataframe\n",
    "df = reshape_trigger_representation(raw_df)"
   ]
  },
  {
   "cell_type": "code",
   "execution_count": 32,
   "metadata": {},
   "outputs": [
    {
     "data": {
      "text/html": [
       "<div>\n",
       "<style scoped>\n",
       "    .dataframe tbody tr th:only-of-type {\n",
       "        vertical-align: middle;\n",
       "    }\n",
       "\n",
       "    .dataframe tbody tr th {\n",
       "        vertical-align: top;\n",
       "    }\n",
       "\n",
       "    .dataframe thead th {\n",
       "        text-align: right;\n",
       "    }\n",
       "</style>\n",
       "<table border=\"1\" class=\"dataframe\">\n",
       "  <thead>\n",
       "    <tr style=\"text-align: right;\">\n",
       "      <th></th>\n",
       "      <th>Document</th>\n",
       "      <th>Sentence</th>\n",
       "      <th>loan_default</th>\n",
       "      <th>aggregate_dscr_fall</th>\n",
       "      <th>dscr_fall</th>\n",
       "      <th>unspecified</th>\n",
       "      <th>debt_yield_fall</th>\n",
       "      <th>aggregate_debt_yield_fall</th>\n",
       "      <th>mezzanine_default</th>\n",
       "      <th>tenant_failure</th>\n",
       "      <th>mezzanine_outstanding</th>\n",
       "      <th>operator_termination</th>\n",
       "      <th>bankruptcy</th>\n",
       "      <th>sponsor_termination</th>\n",
       "      <th>renovations</th>\n",
       "    </tr>\n",
       "  </thead>\n",
       "  <tbody>\n",
       "    <tr>\n",
       "      <th>0</th>\n",
       "      <td>20120828_01Y0R8_Prospectus_CM00000000205875087...</td>\n",
       "      <td>On each Business Day, the financial institutio...</td>\n",
       "      <td>1</td>\n",
       "      <td>0</td>\n",
       "      <td>0</td>\n",
       "      <td>0</td>\n",
       "      <td>0</td>\n",
       "      <td>0</td>\n",
       "      <td>0</td>\n",
       "      <td>0</td>\n",
       "      <td>0</td>\n",
       "      <td>0</td>\n",
       "      <td>0</td>\n",
       "      <td>0</td>\n",
       "      <td>0</td>\n",
       "    </tr>\n",
       "    <tr>\n",
       "      <th>1</th>\n",
       "      <td>20120828_01Y0R8_Prospectus_CM00000000205875087...</td>\n",
       "      <td>The Borrower has established and is required t...</td>\n",
       "      <td>1</td>\n",
       "      <td>1</td>\n",
       "      <td>0</td>\n",
       "      <td>0</td>\n",
       "      <td>0</td>\n",
       "      <td>0</td>\n",
       "      <td>0</td>\n",
       "      <td>0</td>\n",
       "      <td>0</td>\n",
       "      <td>0</td>\n",
       "      <td>0</td>\n",
       "      <td>0</td>\n",
       "      <td>0</td>\n",
       "    </tr>\n",
       "    <tr>\n",
       "      <th>2</th>\n",
       "      <td>20120828_01Y0R8_Prospectus_CM00000000205875087...</td>\n",
       "      <td>During a Trigger Period or while an event of d...</td>\n",
       "      <td>1</td>\n",
       "      <td>0</td>\n",
       "      <td>0</td>\n",
       "      <td>0</td>\n",
       "      <td>0</td>\n",
       "      <td>0</td>\n",
       "      <td>0</td>\n",
       "      <td>0</td>\n",
       "      <td>0</td>\n",
       "      <td>0</td>\n",
       "      <td>0</td>\n",
       "      <td>0</td>\n",
       "      <td>0</td>\n",
       "    </tr>\n",
       "    <tr>\n",
       "      <th>3</th>\n",
       "      <td>20120828_01Y0R8_Prospectus_CM00000000205875087...</td>\n",
       "      <td>On any Business Day all amounts on deposit in ...</td>\n",
       "      <td>1</td>\n",
       "      <td>0</td>\n",
       "      <td>0</td>\n",
       "      <td>0</td>\n",
       "      <td>0</td>\n",
       "      <td>0</td>\n",
       "      <td>0</td>\n",
       "      <td>0</td>\n",
       "      <td>0</td>\n",
       "      <td>0</td>\n",
       "      <td>0</td>\n",
       "      <td>0</td>\n",
       "      <td>0</td>\n",
       "    </tr>\n",
       "    <tr>\n",
       "      <th>4</th>\n",
       "      <td>20120828_01Y0R8_Prospectus_CM00000000205875087...</td>\n",
       "      <td>Available funds in each Cash Management Accoun...</td>\n",
       "      <td>1</td>\n",
       "      <td>0</td>\n",
       "      <td>0</td>\n",
       "      <td>0</td>\n",
       "      <td>0</td>\n",
       "      <td>0</td>\n",
       "      <td>0</td>\n",
       "      <td>0</td>\n",
       "      <td>0</td>\n",
       "      <td>0</td>\n",
       "      <td>0</td>\n",
       "      <td>0</td>\n",
       "      <td>0</td>\n",
       "    </tr>\n",
       "  </tbody>\n",
       "</table>\n",
       "</div>"
      ],
      "text/plain": [
       "                                            Document  \\\n",
       "0  20120828_01Y0R8_Prospectus_CM00000000205875087...   \n",
       "1  20120828_01Y0R8_Prospectus_CM00000000205875087...   \n",
       "2  20120828_01Y0R8_Prospectus_CM00000000205875087...   \n",
       "3  20120828_01Y0R8_Prospectus_CM00000000205875087...   \n",
       "4  20120828_01Y0R8_Prospectus_CM00000000205875087...   \n",
       "\n",
       "                                            Sentence  loan_default  \\\n",
       "0  On each Business Day, the financial institutio...             1   \n",
       "1  The Borrower has established and is required t...             1   \n",
       "2  During a Trigger Period or while an event of d...             1   \n",
       "3  On any Business Day all amounts on deposit in ...             1   \n",
       "4  Available funds in each Cash Management Accoun...             1   \n",
       "\n",
       "   aggregate_dscr_fall  dscr_fall  unspecified  debt_yield_fall  \\\n",
       "0                    0          0            0                0   \n",
       "1                    1          0            0                0   \n",
       "2                    0          0            0                0   \n",
       "3                    0          0            0                0   \n",
       "4                    0          0            0                0   \n",
       "\n",
       "   aggregate_debt_yield_fall  mezzanine_default  tenant_failure  \\\n",
       "0                          0                  0               0   \n",
       "1                          0                  0               0   \n",
       "2                          0                  0               0   \n",
       "3                          0                  0               0   \n",
       "4                          0                  0               0   \n",
       "\n",
       "   mezzanine_outstanding  operator_termination  bankruptcy  \\\n",
       "0                      0                     0           0   \n",
       "1                      0                     0           0   \n",
       "2                      0                     0           0   \n",
       "3                      0                     0           0   \n",
       "4                      0                     0           0   \n",
       "\n",
       "   sponsor_termination  renovations  \n",
       "0                    0            0  \n",
       "1                    0            0  \n",
       "2                    0            0  \n",
       "3                    0            0  \n",
       "4                    0            0  "
      ]
     },
     "execution_count": 32,
     "metadata": {},
     "output_type": "execute_result"
    }
   ],
   "source": [
    "df.head(5)"
   ]
  },
  {
   "cell_type": "code",
   "execution_count": 33,
   "metadata": {},
   "outputs": [],
   "source": [
    "# Export reshaped to CSV file\n",
    "# df.to_csv('../data/reshaped_06_02_20.csv')"
   ]
  },
  {
   "cell_type": "code",
   "execution_count": 34,
   "metadata": {},
   "outputs": [
    {
     "data": {
      "text/plain": [
       "Document                     object\n",
       "Sentence                     object\n",
       "loan_default                  Int64\n",
       "aggregate_dscr_fall           Int64\n",
       "dscr_fall                     Int64\n",
       "unspecified                   Int64\n",
       "debt_yield_fall               Int64\n",
       "aggregate_debt_yield_fall     Int64\n",
       "mezzanine_default             Int64\n",
       "tenant_failure                Int64\n",
       "mezzanine_outstanding         Int64\n",
       "operator_termination          Int64\n",
       "bankruptcy                    Int64\n",
       "sponsor_termination           Int64\n",
       "renovations                   Int64\n",
       "dtype: object"
      ]
     },
     "execution_count": 34,
     "metadata": {},
     "output_type": "execute_result"
    }
   ],
   "source": [
    "df.dtypes"
   ]
  },
  {
   "cell_type": "code",
   "execution_count": 35,
   "metadata": {},
   "outputs": [
    {
     "data": {
      "text/plain": [
       "(686, 15)"
      ]
     },
     "execution_count": 35,
     "metadata": {},
     "output_type": "execute_result"
    }
   ],
   "source": [
    "df.shape"
   ]
  },
  {
   "cell_type": "code",
   "execution_count": 36,
   "metadata": {},
   "outputs": [
    {
     "data": {
      "text/plain": [
       "Document                     20120828_01Y0R8_Prospectus_CM00000000205875087...\n",
       "Sentence                     On each Business Day, the financial institutio...\n",
       "loan_default                                                               297\n",
       "aggregate_dscr_fall                                                          2\n",
       "dscr_fall                                                                   16\n",
       "unspecified                                                                261\n",
       "debt_yield_fall                                                            110\n",
       "aggregate_debt_yield_fall                                                   18\n",
       "mezzanine_default                                                           42\n",
       "tenant_failure                                                              35\n",
       "mezzanine_outstanding                                                        8\n",
       "operator_termination                                                        15\n",
       "bankruptcy                                                                  17\n",
       "sponsor_termination                                                         14\n",
       "renovations                                                                  9\n",
       "dtype: object"
      ]
     },
     "execution_count": 36,
     "metadata": {},
     "output_type": "execute_result"
    }
   ],
   "source": [
    "# We can confirm that the number of Triggers is consistent with the prior dataframe\n",
    "df.sum()"
   ]
  },
  {
   "cell_type": "code",
   "execution_count": null,
   "metadata": {},
   "outputs": [],
   "source": []
  },
  {
   "cell_type": "markdown",
   "metadata": {},
   "source": [
    "## Feature Engineering"
   ]
  },
  {
   "cell_type": "code",
   "execution_count": 37,
   "metadata": {},
   "outputs": [],
   "source": [
    "# Create a column with length of Sentence\n",
    "df['sentence_char_count'] = df['Sentence'].str.len()"
   ]
  },
  {
   "cell_type": "code",
   "execution_count": null,
   "metadata": {},
   "outputs": [],
   "source": []
  },
  {
   "cell_type": "code",
   "execution_count": 38,
   "metadata": {},
   "outputs": [
    {
     "data": {
      "text/html": [
       "<div>\n",
       "<style scoped>\n",
       "    .dataframe tbody tr th:only-of-type {\n",
       "        vertical-align: middle;\n",
       "    }\n",
       "\n",
       "    .dataframe tbody tr th {\n",
       "        vertical-align: top;\n",
       "    }\n",
       "\n",
       "    .dataframe thead th {\n",
       "        text-align: right;\n",
       "    }\n",
       "</style>\n",
       "<table border=\"1\" class=\"dataframe\">\n",
       "  <thead>\n",
       "    <tr style=\"text-align: right;\">\n",
       "      <th></th>\n",
       "      <th>Document</th>\n",
       "      <th>Sentence</th>\n",
       "      <th>loan_default</th>\n",
       "      <th>aggregate_dscr_fall</th>\n",
       "      <th>dscr_fall</th>\n",
       "      <th>unspecified</th>\n",
       "      <th>debt_yield_fall</th>\n",
       "      <th>aggregate_debt_yield_fall</th>\n",
       "      <th>mezzanine_default</th>\n",
       "      <th>tenant_failure</th>\n",
       "      <th>mezzanine_outstanding</th>\n",
       "      <th>operator_termination</th>\n",
       "      <th>bankruptcy</th>\n",
       "      <th>sponsor_termination</th>\n",
       "      <th>renovations</th>\n",
       "      <th>sentence_char_count</th>\n",
       "    </tr>\n",
       "  </thead>\n",
       "  <tbody>\n",
       "    <tr>\n",
       "      <th>0</th>\n",
       "      <td>20120828_01Y0R8_Prospectus_CM00000000205875087...</td>\n",
       "      <td>On each Business Day, the financial institutio...</td>\n",
       "      <td>1</td>\n",
       "      <td>0</td>\n",
       "      <td>0</td>\n",
       "      <td>0</td>\n",
       "      <td>0</td>\n",
       "      <td>0</td>\n",
       "      <td>0</td>\n",
       "      <td>0</td>\n",
       "      <td>0</td>\n",
       "      <td>0</td>\n",
       "      <td>0</td>\n",
       "      <td>0</td>\n",
       "      <td>0</td>\n",
       "      <td>446</td>\n",
       "    </tr>\n",
       "    <tr>\n",
       "      <th>1</th>\n",
       "      <td>20120828_01Y0R8_Prospectus_CM00000000205875087...</td>\n",
       "      <td>The Borrower has established and is required t...</td>\n",
       "      <td>1</td>\n",
       "      <td>1</td>\n",
       "      <td>0</td>\n",
       "      <td>0</td>\n",
       "      <td>0</td>\n",
       "      <td>0</td>\n",
       "      <td>0</td>\n",
       "      <td>0</td>\n",
       "      <td>0</td>\n",
       "      <td>0</td>\n",
       "      <td>0</td>\n",
       "      <td>0</td>\n",
       "      <td>0</td>\n",
       "      <td>836</td>\n",
       "    </tr>\n",
       "    <tr>\n",
       "      <th>2</th>\n",
       "      <td>20120828_01Y0R8_Prospectus_CM00000000205875087...</td>\n",
       "      <td>During a Trigger Period or while an event of d...</td>\n",
       "      <td>1</td>\n",
       "      <td>0</td>\n",
       "      <td>0</td>\n",
       "      <td>0</td>\n",
       "      <td>0</td>\n",
       "      <td>0</td>\n",
       "      <td>0</td>\n",
       "      <td>0</td>\n",
       "      <td>0</td>\n",
       "      <td>0</td>\n",
       "      <td>0</td>\n",
       "      <td>0</td>\n",
       "      <td>0</td>\n",
       "      <td>1772</td>\n",
       "    </tr>\n",
       "    <tr>\n",
       "      <th>3</th>\n",
       "      <td>20120828_01Y0R8_Prospectus_CM00000000205875087...</td>\n",
       "      <td>On any Business Day all amounts on deposit in ...</td>\n",
       "      <td>1</td>\n",
       "      <td>0</td>\n",
       "      <td>0</td>\n",
       "      <td>0</td>\n",
       "      <td>0</td>\n",
       "      <td>0</td>\n",
       "      <td>0</td>\n",
       "      <td>0</td>\n",
       "      <td>0</td>\n",
       "      <td>0</td>\n",
       "      <td>0</td>\n",
       "      <td>0</td>\n",
       "      <td>0</td>\n",
       "      <td>302</td>\n",
       "    </tr>\n",
       "    <tr>\n",
       "      <th>4</th>\n",
       "      <td>20120828_01Y0R8_Prospectus_CM00000000205875087...</td>\n",
       "      <td>Available funds in each Cash Management Accoun...</td>\n",
       "      <td>1</td>\n",
       "      <td>0</td>\n",
       "      <td>0</td>\n",
       "      <td>0</td>\n",
       "      <td>0</td>\n",
       "      <td>0</td>\n",
       "      <td>0</td>\n",
       "      <td>0</td>\n",
       "      <td>0</td>\n",
       "      <td>0</td>\n",
       "      <td>0</td>\n",
       "      <td>0</td>\n",
       "      <td>0</td>\n",
       "      <td>235</td>\n",
       "    </tr>\n",
       "  </tbody>\n",
       "</table>\n",
       "</div>"
      ],
      "text/plain": [
       "                                            Document  \\\n",
       "0  20120828_01Y0R8_Prospectus_CM00000000205875087...   \n",
       "1  20120828_01Y0R8_Prospectus_CM00000000205875087...   \n",
       "2  20120828_01Y0R8_Prospectus_CM00000000205875087...   \n",
       "3  20120828_01Y0R8_Prospectus_CM00000000205875087...   \n",
       "4  20120828_01Y0R8_Prospectus_CM00000000205875087...   \n",
       "\n",
       "                                            Sentence  loan_default  \\\n",
       "0  On each Business Day, the financial institutio...             1   \n",
       "1  The Borrower has established and is required t...             1   \n",
       "2  During a Trigger Period or while an event of d...             1   \n",
       "3  On any Business Day all amounts on deposit in ...             1   \n",
       "4  Available funds in each Cash Management Accoun...             1   \n",
       "\n",
       "   aggregate_dscr_fall  dscr_fall  unspecified  debt_yield_fall  \\\n",
       "0                    0          0            0                0   \n",
       "1                    1          0            0                0   \n",
       "2                    0          0            0                0   \n",
       "3                    0          0            0                0   \n",
       "4                    0          0            0                0   \n",
       "\n",
       "   aggregate_debt_yield_fall  mezzanine_default  tenant_failure  \\\n",
       "0                          0                  0               0   \n",
       "1                          0                  0               0   \n",
       "2                          0                  0               0   \n",
       "3                          0                  0               0   \n",
       "4                          0                  0               0   \n",
       "\n",
       "   mezzanine_outstanding  operator_termination  bankruptcy  \\\n",
       "0                      0                     0           0   \n",
       "1                      0                     0           0   \n",
       "2                      0                     0           0   \n",
       "3                      0                     0           0   \n",
       "4                      0                     0           0   \n",
       "\n",
       "   sponsor_termination  renovations  sentence_char_count  \n",
       "0                    0            0                  446  \n",
       "1                    0            0                  836  \n",
       "2                    0            0                 1772  \n",
       "3                    0            0                  302  \n",
       "4                    0            0                  235  "
      ]
     },
     "execution_count": 38,
     "metadata": {},
     "output_type": "execute_result"
    }
   ],
   "source": [
    "df.head()"
   ]
  },
  {
   "cell_type": "code",
   "execution_count": null,
   "metadata": {},
   "outputs": [],
   "source": []
  },
  {
   "cell_type": "code",
   "execution_count": null,
   "metadata": {},
   "outputs": [],
   "source": []
  },
  {
   "cell_type": "markdown",
   "metadata": {},
   "source": [
    "## Natural Language Processing of the sentence column"
   ]
  },
  {
   "cell_type": "code",
   "execution_count": 39,
   "metadata": {},
   "outputs": [],
   "source": [
    "nlp = spacy.load('en_core_web_sm', disable = ['ner', 'parser'])"
   ]
  },
  {
   "cell_type": "code",
   "execution_count": 40,
   "metadata": {},
   "outputs": [
    {
     "data": {
      "text/plain": [
       "['During',\n",
       " 'a',\n",
       " 'Trigger',\n",
       " 'Period',\n",
       " 'or',\n",
       " 'while',\n",
       " 'an',\n",
       " 'event',\n",
       " 'of',\n",
       " 'default',\n",
       " 'under',\n",
       " 'the',\n",
       " 'Mortgage',\n",
       " 'Loan',\n",
       " 'is',\n",
       " 'continuing',\n",
       " ',',\n",
       " 'all',\n",
       " 'amounts',\n",
       " 'available',\n",
       " 'in',\n",
       " 'the',\n",
       " 'Cash',\n",
       " 'Management',\n",
       " 'Account',\n",
       " 'will',\n",
       " 'be',\n",
       " 'applied',\n",
       " 'on',\n",
       " 'each',\n",
       " 'Loan',\n",
       " 'Payment',\n",
       " 'Date',\n",
       " 'in',\n",
       " 'the',\n",
       " 'following',\n",
       " 'order',\n",
       " 'of',\n",
       " 'priority',\n",
       " ':',\n",
       " '(',\n",
       " 'i',\n",
       " ')',\n",
       " 'to',\n",
       " 'the',\n",
       " 'Tax',\n",
       " 'and',\n",
       " 'Insurance',\n",
       " 'Reserve',\n",
       " 'Account',\n",
       " ',',\n",
       " '(',\n",
       " 'a',\n",
       " ')',\n",
       " '1/12th',\n",
       " 'of',\n",
       " 'projected',\n",
       " 'annual',\n",
       " 'taxes',\n",
       " 'and',\n",
       " '(',\n",
       " 'b',\n",
       " ')',\n",
       " '1/12th',\n",
       " 'of',\n",
       " 'projected',\n",
       " 'annual',\n",
       " 'insurance',\n",
       " 'premiums',\n",
       " '(',\n",
       " 'unless',\n",
       " 'certain',\n",
       " 'blanket',\n",
       " 'policies',\n",
       " 'are',\n",
       " 'in',\n",
       " 'effect',\n",
       " ')',\n",
       " ',',\n",
       " '(',\n",
       " 'ii',\n",
       " ')',\n",
       " 'to',\n",
       " 'the',\n",
       " 'lender',\n",
       " ',',\n",
       " 'the',\n",
       " 'amount',\n",
       " 'of',\n",
       " 'all',\n",
       " 'scheduled',\n",
       " 'or',\n",
       " 'delinquent',\n",
       " 'interest',\n",
       " 'and',\n",
       " 'principal',\n",
       " 'on',\n",
       " 'the',\n",
       " 'Mortgage',\n",
       " 'Loan',\n",
       " 'and',\n",
       " 'all',\n",
       " 'other',\n",
       " 'amounts',\n",
       " 'then',\n",
       " 'due',\n",
       " 'and',\n",
       " 'payable',\n",
       " 'under',\n",
       " 'the',\n",
       " 'Loan',\n",
       " 'Documents',\n",
       " '(',\n",
       " 'with',\n",
       " 'amounts',\n",
       " 'in',\n",
       " 'respect',\n",
       " 'of',\n",
       " 'principal',\n",
       " 'paid',\n",
       " 'last',\n",
       " ')',\n",
       " ',',\n",
       " '(',\n",
       " 'iii',\n",
       " ')',\n",
       " 'provided',\n",
       " 'there',\n",
       " 'has',\n",
       " 'been',\n",
       " 'no',\n",
       " 'enforcement',\n",
       " 'action',\n",
       " ',',\n",
       " 'after',\n",
       " 'the',\n",
       " 'occurrence',\n",
       " 'and',\n",
       " 'during',\n",
       " 'the',\n",
       " 'continuance',\n",
       " 'of',\n",
       " 'an',\n",
       " 'event',\n",
       " 'of',\n",
       " 'default',\n",
       " 'under',\n",
       " 'the',\n",
       " 'Mortgage',\n",
       " 'Loan',\n",
       " ',',\n",
       " 'to',\n",
       " 'operating',\n",
       " 'accounts',\n",
       " ',',\n",
       " 'an',\n",
       " 'amount',\n",
       " 'equal',\n",
       " 'to',\n",
       " 'the',\n",
       " 'budgeted',\n",
       " 'operating',\n",
       " 'expenses',\n",
       " 'for',\n",
       " 'the',\n",
       " 'month',\n",
       " 'in',\n",
       " 'which',\n",
       " 'such',\n",
       " 'Loan',\n",
       " 'Payment',\n",
       " 'Date',\n",
       " 'occurs',\n",
       " '(',\n",
       " 'as',\n",
       " 'described',\n",
       " 'in',\n",
       " '“',\n",
       " 'Description',\n",
       " 'of',\n",
       " 'the',\n",
       " 'Mortgage',\n",
       " 'Loan',\n",
       " '—',\n",
       " 'Cash',\n",
       " 'Management',\n",
       " '”',\n",
       " ')',\n",
       " ';',\n",
       " '(',\n",
       " 'iv',\n",
       " ')',\n",
       " 'to',\n",
       " 'the',\n",
       " 'Capital',\n",
       " 'Expenditure',\n",
       " 'Reserve',\n",
       " 'Account,\\U00100003an',\n",
       " 'amount',\n",
       " 'equal',\n",
       " 'to',\n",
       " 'the',\n",
       " 'lesser',\n",
       " 'of',\n",
       " '(',\n",
       " 'a',\n",
       " ')',\n",
       " '$',\n",
       " '9,018',\n",
       " '(',\n",
       " 'which',\n",
       " 'is',\n",
       " '$',\n",
       " '0.15',\n",
       " 'per',\n",
       " 'owned',\n",
       " 'rentable',\n",
       " 'square',\n",
       " 'foot',\n",
       " 'per',\n",
       " 'annum',\n",
       " ')',\n",
       " 'or',\n",
       " '(',\n",
       " 'b',\n",
       " ')',\n",
       " 'the',\n",
       " 'amount',\n",
       " 'that',\n",
       " 'would',\n",
       " 'cause',\n",
       " 'the',\n",
       " 'total',\n",
       " 'amount',\n",
       " 'contained',\n",
       " 'in',\n",
       " 'the',\n",
       " 'Capital',\n",
       " 'Expenditure',\n",
       " 'Reserve',\n",
       " 'Account',\n",
       " 'to',\n",
       " 'equal',\n",
       " '$',\n",
       " '108,216',\n",
       " '(',\n",
       " 'which',\n",
       " 'is',\n",
       " '12',\n",
       " 'times',\n",
       " 'the',\n",
       " 'monthly',\n",
       " 'required',\n",
       " 'amount',\n",
       " 'set',\n",
       " 'forth',\n",
       " 'in',\n",
       " 'clause',\n",
       " '(',\n",
       " 'a',\n",
       " ')',\n",
       " ')',\n",
       " ',',\n",
       " '(',\n",
       " 'v',\n",
       " ')',\n",
       " 'to',\n",
       " 'the',\n",
       " 'TI',\n",
       " '/',\n",
       " 'LC',\n",
       " 'Reserve',\n",
       " 'Account',\n",
       " 'an',\n",
       " 'amount',\n",
       " 'equal',\n",
       " 'to',\n",
       " 'the',\n",
       " 'lesser',\n",
       " 'of',\n",
       " '(',\n",
       " 'a',\n",
       " ')',\n",
       " '$',\n",
       " '60,120',\n",
       " '(',\n",
       " 'which',\n",
       " 'is',\n",
       " '$',\n",
       " '1.00',\n",
       " 'per',\n",
       " 'owned',\n",
       " 'rentable',\n",
       " 'square',\n",
       " 'foot',\n",
       " 'per',\n",
       " 'annum',\n",
       " ')',\n",
       " 'or',\n",
       " '(',\n",
       " 'b',\n",
       " ')',\n",
       " 'the',\n",
       " 'amount',\n",
       " 'that',\n",
       " 'would',\n",
       " 'cause',\n",
       " 'the',\n",
       " 'total',\n",
       " 'amount',\n",
       " 'contained',\n",
       " 'in',\n",
       " 'the',\n",
       " 'Capital',\n",
       " 'Expenditure',\n",
       " 'Reserve',\n",
       " 'Account',\n",
       " 'to',\n",
       " 'equal',\n",
       " '$',\n",
       " '721,438',\n",
       " '(',\n",
       " 'which',\n",
       " 'is',\n",
       " '12',\n",
       " 'times',\n",
       " 'the',\n",
       " 'monthly',\n",
       " 'required',\n",
       " 'amount',\n",
       " 'set',\n",
       " 'forth',\n",
       " 'in',\n",
       " 'clause',\n",
       " '(',\n",
       " 'a',\n",
       " ')',\n",
       " ')',\n",
       " ',',\n",
       " 'and',\n",
       " '(',\n",
       " 'vi',\n",
       " ')',\n",
       " 'unless',\n",
       " 'an',\n",
       " 'event',\n",
       " 'of',\n",
       " 'default',\n",
       " 'under',\n",
       " 'the',\n",
       " 'Loan',\n",
       " 'Documents',\n",
       " 'is',\n",
       " 'continuing',\n",
       " ',',\n",
       " 'all',\n",
       " 'remaining',\n",
       " 'amounts',\n",
       " 'to',\n",
       " 'the',\n",
       " 'Borrower',\n",
       " '.']"
      ]
     },
     "execution_count": 40,
     "metadata": {},
     "output_type": "execute_result"
    }
   ],
   "source": [
    "# Review a tokenized sample Sentence\n",
    "[token.text for token in nlp(df['Sentence'][2])]"
   ]
  },
  {
   "cell_type": "code",
   "execution_count": 41,
   "metadata": {},
   "outputs": [
    {
     "data": {
      "text/plain": [
       "['during',\n",
       " 'a',\n",
       " 'trigger',\n",
       " 'period',\n",
       " 'or',\n",
       " 'while',\n",
       " 'an',\n",
       " 'event',\n",
       " 'of',\n",
       " 'default',\n",
       " 'under',\n",
       " 'the',\n",
       " 'mortgage',\n",
       " 'loan',\n",
       " 'be',\n",
       " 'continue',\n",
       " ',',\n",
       " 'all',\n",
       " 'amount',\n",
       " 'available',\n",
       " 'in',\n",
       " 'the',\n",
       " 'cash',\n",
       " 'management',\n",
       " 'account',\n",
       " 'will',\n",
       " 'be',\n",
       " 'apply',\n",
       " 'on',\n",
       " 'each',\n",
       " 'loan',\n",
       " 'payment',\n",
       " 'date',\n",
       " 'in',\n",
       " 'the',\n",
       " 'follow',\n",
       " 'order',\n",
       " 'of',\n",
       " 'priority',\n",
       " ':',\n",
       " '(',\n",
       " 'i',\n",
       " ')',\n",
       " 'to',\n",
       " 'the',\n",
       " 'tax',\n",
       " 'and',\n",
       " 'insurance',\n",
       " 'reserve',\n",
       " 'account',\n",
       " ',',\n",
       " '(',\n",
       " 'a',\n",
       " ')',\n",
       " '1/12th',\n",
       " 'of',\n",
       " 'project',\n",
       " 'annual',\n",
       " 'tax',\n",
       " 'and',\n",
       " '(',\n",
       " 'b',\n",
       " ')',\n",
       " '1/12th',\n",
       " 'of',\n",
       " 'project',\n",
       " 'annual',\n",
       " 'insurance',\n",
       " 'premium',\n",
       " '(',\n",
       " 'unless',\n",
       " 'certain',\n",
       " 'blanket',\n",
       " 'policy',\n",
       " 'be',\n",
       " 'in',\n",
       " 'effect',\n",
       " ')',\n",
       " ',',\n",
       " '(',\n",
       " 'ii',\n",
       " ')',\n",
       " 'to',\n",
       " 'the',\n",
       " 'lender',\n",
       " ',',\n",
       " 'the',\n",
       " 'amount',\n",
       " 'of',\n",
       " 'all',\n",
       " 'schedule',\n",
       " 'or',\n",
       " 'delinquent',\n",
       " 'interest',\n",
       " 'and',\n",
       " 'principal',\n",
       " 'on',\n",
       " 'the',\n",
       " 'mortgage',\n",
       " 'loan',\n",
       " 'and',\n",
       " 'all',\n",
       " 'other',\n",
       " 'amount',\n",
       " 'then',\n",
       " 'due',\n",
       " 'and',\n",
       " 'payable',\n",
       " 'under',\n",
       " 'the',\n",
       " 'loan',\n",
       " 'documents',\n",
       " '(',\n",
       " 'with',\n",
       " 'amount',\n",
       " 'in',\n",
       " 'respect',\n",
       " 'of',\n",
       " 'principal',\n",
       " 'pay',\n",
       " 'last',\n",
       " ')',\n",
       " ',',\n",
       " '(',\n",
       " 'iii',\n",
       " ')',\n",
       " 'provide',\n",
       " 'there',\n",
       " 'have',\n",
       " 'be',\n",
       " 'no',\n",
       " 'enforcement',\n",
       " 'action',\n",
       " ',',\n",
       " 'after',\n",
       " 'the',\n",
       " 'occurrence',\n",
       " 'and',\n",
       " 'during',\n",
       " 'the',\n",
       " 'continuance',\n",
       " 'of',\n",
       " 'an',\n",
       " 'event',\n",
       " 'of',\n",
       " 'default',\n",
       " 'under',\n",
       " 'the',\n",
       " 'mortgage',\n",
       " 'loan',\n",
       " ',',\n",
       " 'to',\n",
       " 'operating',\n",
       " 'account',\n",
       " ',',\n",
       " 'an',\n",
       " 'amount',\n",
       " 'equal',\n",
       " 'to',\n",
       " 'the',\n",
       " 'budget',\n",
       " 'operating',\n",
       " 'expense',\n",
       " 'for',\n",
       " 'the',\n",
       " 'month',\n",
       " 'in',\n",
       " 'which',\n",
       " 'such',\n",
       " 'loan',\n",
       " 'payment',\n",
       " 'date',\n",
       " 'occur',\n",
       " '(',\n",
       " 'as',\n",
       " 'describe',\n",
       " 'in',\n",
       " '\"',\n",
       " 'description',\n",
       " 'of',\n",
       " 'the',\n",
       " 'mortgage',\n",
       " 'loan',\n",
       " '—',\n",
       " 'cash',\n",
       " 'management',\n",
       " '\"',\n",
       " ')',\n",
       " ';',\n",
       " '(',\n",
       " 'iv',\n",
       " ')',\n",
       " 'to',\n",
       " 'the',\n",
       " 'capital',\n",
       " 'expenditure',\n",
       " 'reserve',\n",
       " 'account,\\U00100003an',\n",
       " 'amount',\n",
       " 'equal',\n",
       " 'to',\n",
       " 'the',\n",
       " 'less',\n",
       " 'of',\n",
       " '(',\n",
       " 'a',\n",
       " ')',\n",
       " '$',\n",
       " '9,018',\n",
       " '(',\n",
       " 'which',\n",
       " 'be',\n",
       " '$',\n",
       " '0.15',\n",
       " 'per',\n",
       " 'own',\n",
       " 'rentable',\n",
       " 'square',\n",
       " 'foot',\n",
       " 'per',\n",
       " 'annum',\n",
       " ')',\n",
       " 'or',\n",
       " '(',\n",
       " 'b',\n",
       " ')',\n",
       " 'the',\n",
       " 'amount',\n",
       " 'that',\n",
       " 'would',\n",
       " 'because',\n",
       " 'the',\n",
       " 'total',\n",
       " 'amount',\n",
       " 'contain',\n",
       " 'in',\n",
       " 'the',\n",
       " 'capital',\n",
       " 'expenditure',\n",
       " 'reserve',\n",
       " 'account',\n",
       " 'to',\n",
       " 'equal',\n",
       " '$',\n",
       " '108,216',\n",
       " '(',\n",
       " 'which',\n",
       " 'be',\n",
       " '12',\n",
       " 'time',\n",
       " 'the',\n",
       " 'monthly',\n",
       " 'require',\n",
       " 'amount',\n",
       " 'set',\n",
       " 'forth',\n",
       " 'in',\n",
       " 'clause',\n",
       " '(',\n",
       " 'a',\n",
       " ')',\n",
       " ')',\n",
       " ',',\n",
       " '(',\n",
       " 'v',\n",
       " ')',\n",
       " 'to',\n",
       " 'the',\n",
       " 'ti',\n",
       " '/',\n",
       " 'lc',\n",
       " 'reserve',\n",
       " 'account',\n",
       " 'an',\n",
       " 'amount',\n",
       " 'equal',\n",
       " 'to',\n",
       " 'the',\n",
       " 'less',\n",
       " 'of',\n",
       " '(',\n",
       " 'a',\n",
       " ')',\n",
       " '$',\n",
       " '60,120',\n",
       " '(',\n",
       " 'which',\n",
       " 'be',\n",
       " '$',\n",
       " '1.00',\n",
       " 'per',\n",
       " 'own',\n",
       " 'rentable',\n",
       " 'square',\n",
       " 'foot',\n",
       " 'per',\n",
       " 'annum',\n",
       " ')',\n",
       " 'or',\n",
       " '(',\n",
       " 'b',\n",
       " ')',\n",
       " 'the',\n",
       " 'amount',\n",
       " 'that',\n",
       " 'would',\n",
       " 'because',\n",
       " 'the',\n",
       " 'total',\n",
       " 'amount',\n",
       " 'contain',\n",
       " 'in',\n",
       " 'the',\n",
       " 'capital',\n",
       " 'expenditure',\n",
       " 'reserve',\n",
       " 'account',\n",
       " 'to',\n",
       " 'equal',\n",
       " '$',\n",
       " '721,438',\n",
       " '(',\n",
       " 'which',\n",
       " 'be',\n",
       " '12',\n",
       " 'time',\n",
       " 'the',\n",
       " 'monthly',\n",
       " 'require',\n",
       " 'amount',\n",
       " 'set',\n",
       " 'forth',\n",
       " 'in',\n",
       " 'clause',\n",
       " '(',\n",
       " 'a',\n",
       " ')',\n",
       " ')',\n",
       " ',',\n",
       " 'and',\n",
       " '(',\n",
       " 'vi',\n",
       " ')',\n",
       " 'unless',\n",
       " 'an',\n",
       " 'event',\n",
       " 'of',\n",
       " 'default',\n",
       " 'under',\n",
       " 'the',\n",
       " 'loan',\n",
       " 'documents',\n",
       " 'be',\n",
       " 'continue',\n",
       " ',',\n",
       " 'all',\n",
       " 'remain',\n",
       " 'amount',\n",
       " 'to',\n",
       " 'the',\n",
       " 'borrower',\n",
       " '.']"
      ]
     },
     "execution_count": 41,
     "metadata": {},
     "output_type": "execute_result"
    }
   ],
   "source": [
    "# Review a lemmatized sample Sentence\n",
    "[token.lemma_ for token in nlp(df['Sentence'][2])]"
   ]
  },
  {
   "cell_type": "code",
   "execution_count": 42,
   "metadata": {},
   "outputs": [],
   "source": [
    "def tokenize(text):\n",
    "    doc = nlp(text)\n",
    "    tokens = [token.text for token in doc]\n",
    "    return ' '.join(tokens)\n",
    "\n",
    "df['SentenceTokens'] = df['Sentence'].apply(tokenize)"
   ]
  },
  {
   "cell_type": "code",
   "execution_count": 43,
   "metadata": {},
   "outputs": [],
   "source": [
    "def lemmatize(text):\n",
    "    doc = nlp(text)\n",
    "    lemmas = [token.lemma_ for token in doc]\n",
    "    return ' '.join(lemmas)\n",
    "\n",
    "df['SentenceLemmas'] = df['Sentence'].apply(lemmatize)"
   ]
  },
  {
   "cell_type": "code",
   "execution_count": 44,
   "metadata": {},
   "outputs": [
    {
     "data": {
      "text/html": [
       "<div>\n",
       "<style scoped>\n",
       "    .dataframe tbody tr th:only-of-type {\n",
       "        vertical-align: middle;\n",
       "    }\n",
       "\n",
       "    .dataframe tbody tr th {\n",
       "        vertical-align: top;\n",
       "    }\n",
       "\n",
       "    .dataframe thead th {\n",
       "        text-align: right;\n",
       "    }\n",
       "</style>\n",
       "<table border=\"1\" class=\"dataframe\">\n",
       "  <thead>\n",
       "    <tr style=\"text-align: right;\">\n",
       "      <th></th>\n",
       "      <th>Document</th>\n",
       "      <th>Sentence</th>\n",
       "      <th>loan_default</th>\n",
       "      <th>aggregate_dscr_fall</th>\n",
       "      <th>dscr_fall</th>\n",
       "      <th>unspecified</th>\n",
       "      <th>debt_yield_fall</th>\n",
       "      <th>aggregate_debt_yield_fall</th>\n",
       "      <th>mezzanine_default</th>\n",
       "      <th>tenant_failure</th>\n",
       "      <th>mezzanine_outstanding</th>\n",
       "      <th>operator_termination</th>\n",
       "      <th>bankruptcy</th>\n",
       "      <th>sponsor_termination</th>\n",
       "      <th>renovations</th>\n",
       "      <th>sentence_char_count</th>\n",
       "      <th>SentenceTokens</th>\n",
       "      <th>SentenceLemmas</th>\n",
       "    </tr>\n",
       "  </thead>\n",
       "  <tbody>\n",
       "    <tr>\n",
       "      <th>0</th>\n",
       "      <td>20120828_01Y0R8_Prospectus_CM00000000205875087...</td>\n",
       "      <td>On each Business Day, the financial institutio...</td>\n",
       "      <td>1</td>\n",
       "      <td>0</td>\n",
       "      <td>0</td>\n",
       "      <td>0</td>\n",
       "      <td>0</td>\n",
       "      <td>0</td>\n",
       "      <td>0</td>\n",
       "      <td>0</td>\n",
       "      <td>0</td>\n",
       "      <td>0</td>\n",
       "      <td>0</td>\n",
       "      <td>0</td>\n",
       "      <td>0</td>\n",
       "      <td>446</td>\n",
       "      <td>On each Business Day , the financial instituti...</td>\n",
       "      <td>on each business day , the financial instituti...</td>\n",
       "    </tr>\n",
       "    <tr>\n",
       "      <th>1</th>\n",
       "      <td>20120828_01Y0R8_Prospectus_CM00000000205875087...</td>\n",
       "      <td>The Borrower has established and is required t...</td>\n",
       "      <td>1</td>\n",
       "      <td>1</td>\n",
       "      <td>0</td>\n",
       "      <td>0</td>\n",
       "      <td>0</td>\n",
       "      <td>0</td>\n",
       "      <td>0</td>\n",
       "      <td>0</td>\n",
       "      <td>0</td>\n",
       "      <td>0</td>\n",
       "      <td>0</td>\n",
       "      <td>0</td>\n",
       "      <td>0</td>\n",
       "      <td>836</td>\n",
       "      <td>The Borrower has established and is required t...</td>\n",
       "      <td>the borrower have establish and be require to ...</td>\n",
       "    </tr>\n",
       "    <tr>\n",
       "      <th>2</th>\n",
       "      <td>20120828_01Y0R8_Prospectus_CM00000000205875087...</td>\n",
       "      <td>During a Trigger Period or while an event of d...</td>\n",
       "      <td>1</td>\n",
       "      <td>0</td>\n",
       "      <td>0</td>\n",
       "      <td>0</td>\n",
       "      <td>0</td>\n",
       "      <td>0</td>\n",
       "      <td>0</td>\n",
       "      <td>0</td>\n",
       "      <td>0</td>\n",
       "      <td>0</td>\n",
       "      <td>0</td>\n",
       "      <td>0</td>\n",
       "      <td>0</td>\n",
       "      <td>1772</td>\n",
       "      <td>During a Trigger Period or while an event of d...</td>\n",
       "      <td>during a trigger period or while an event of d...</td>\n",
       "    </tr>\n",
       "    <tr>\n",
       "      <th>3</th>\n",
       "      <td>20120828_01Y0R8_Prospectus_CM00000000205875087...</td>\n",
       "      <td>On any Business Day all amounts on deposit in ...</td>\n",
       "      <td>1</td>\n",
       "      <td>0</td>\n",
       "      <td>0</td>\n",
       "      <td>0</td>\n",
       "      <td>0</td>\n",
       "      <td>0</td>\n",
       "      <td>0</td>\n",
       "      <td>0</td>\n",
       "      <td>0</td>\n",
       "      <td>0</td>\n",
       "      <td>0</td>\n",
       "      <td>0</td>\n",
       "      <td>0</td>\n",
       "      <td>302</td>\n",
       "      <td>On any Business Day all amounts on deposit in ...</td>\n",
       "      <td>on any business day all amount on deposit in t...</td>\n",
       "    </tr>\n",
       "    <tr>\n",
       "      <th>4</th>\n",
       "      <td>20120828_01Y0R8_Prospectus_CM00000000205875087...</td>\n",
       "      <td>Available funds in each Cash Management Accoun...</td>\n",
       "      <td>1</td>\n",
       "      <td>0</td>\n",
       "      <td>0</td>\n",
       "      <td>0</td>\n",
       "      <td>0</td>\n",
       "      <td>0</td>\n",
       "      <td>0</td>\n",
       "      <td>0</td>\n",
       "      <td>0</td>\n",
       "      <td>0</td>\n",
       "      <td>0</td>\n",
       "      <td>0</td>\n",
       "      <td>0</td>\n",
       "      <td>235</td>\n",
       "      <td>Available funds in each Cash Management Accoun...</td>\n",
       "      <td>available fund in each cash management account...</td>\n",
       "    </tr>\n",
       "  </tbody>\n",
       "</table>\n",
       "</div>"
      ],
      "text/plain": [
       "                                            Document  \\\n",
       "0  20120828_01Y0R8_Prospectus_CM00000000205875087...   \n",
       "1  20120828_01Y0R8_Prospectus_CM00000000205875087...   \n",
       "2  20120828_01Y0R8_Prospectus_CM00000000205875087...   \n",
       "3  20120828_01Y0R8_Prospectus_CM00000000205875087...   \n",
       "4  20120828_01Y0R8_Prospectus_CM00000000205875087...   \n",
       "\n",
       "                                            Sentence  loan_default  \\\n",
       "0  On each Business Day, the financial institutio...             1   \n",
       "1  The Borrower has established and is required t...             1   \n",
       "2  During a Trigger Period or while an event of d...             1   \n",
       "3  On any Business Day all amounts on deposit in ...             1   \n",
       "4  Available funds in each Cash Management Accoun...             1   \n",
       "\n",
       "   aggregate_dscr_fall  dscr_fall  unspecified  debt_yield_fall  \\\n",
       "0                    0          0            0                0   \n",
       "1                    1          0            0                0   \n",
       "2                    0          0            0                0   \n",
       "3                    0          0            0                0   \n",
       "4                    0          0            0                0   \n",
       "\n",
       "   aggregate_debt_yield_fall  mezzanine_default  tenant_failure  \\\n",
       "0                          0                  0               0   \n",
       "1                          0                  0               0   \n",
       "2                          0                  0               0   \n",
       "3                          0                  0               0   \n",
       "4                          0                  0               0   \n",
       "\n",
       "   mezzanine_outstanding  operator_termination  bankruptcy  \\\n",
       "0                      0                     0           0   \n",
       "1                      0                     0           0   \n",
       "2                      0                     0           0   \n",
       "3                      0                     0           0   \n",
       "4                      0                     0           0   \n",
       "\n",
       "   sponsor_termination  renovations  sentence_char_count  \\\n",
       "0                    0            0                  446   \n",
       "1                    0            0                  836   \n",
       "2                    0            0                 1772   \n",
       "3                    0            0                  302   \n",
       "4                    0            0                  235   \n",
       "\n",
       "                                      SentenceTokens  \\\n",
       "0  On each Business Day , the financial instituti...   \n",
       "1  The Borrower has established and is required t...   \n",
       "2  During a Trigger Period or while an event of d...   \n",
       "3  On any Business Day all amounts on deposit in ...   \n",
       "4  Available funds in each Cash Management Accoun...   \n",
       "\n",
       "                                      SentenceLemmas  \n",
       "0  on each business day , the financial instituti...  \n",
       "1  the borrower have establish and be require to ...  \n",
       "2  during a trigger period or while an event of d...  \n",
       "3  on any business day all amount on deposit in t...  \n",
       "4  available fund in each cash management account...  "
      ]
     },
     "execution_count": 44,
     "metadata": {},
     "output_type": "execute_result"
    }
   ],
   "source": [
    "df.head()"
   ]
  },
  {
   "cell_type": "code",
   "execution_count": 45,
   "metadata": {},
   "outputs": [
    {
     "data": {
      "text/plain": [
       "'On each Business Day , the financial institution maintaining the blocked ac'"
      ]
     },
     "execution_count": 45,
     "metadata": {},
     "output_type": "execute_result"
    }
   ],
   "source": [
    "# Put all sentences into a list of review tokens\n",
    "all_sentence_tokens = ' '.join(df['SentenceTokens'])\n",
    "all_sentence_tokens[:75]"
   ]
  },
  {
   "cell_type": "code",
   "execution_count": 46,
   "metadata": {},
   "outputs": [
    {
     "data": {
      "text/plain": [
       "'on each business day , the financial institution maintain the block account'"
      ]
     },
     "execution_count": 46,
     "metadata": {},
     "output_type": "execute_result"
    }
   ],
   "source": [
    "# Put all sentences into a list of review lemmas\n",
    "all_sentence_lemmas = ' '.join(df['SentenceLemmas'])\n",
    "all_sentence_lemmas[:75]"
   ]
  },
  {
   "cell_type": "code",
   "execution_count": 47,
   "metadata": {},
   "outputs": [],
   "source": [
    "sentence_token_list = [token for token in all_sentence_tokens.split(' ')]\n",
    "sentence_lemma_list = [lemma for lemma in all_sentence_lemmas.split(' ')]"
   ]
  },
  {
   "cell_type": "code",
   "execution_count": 48,
   "metadata": {},
   "outputs": [],
   "source": [
    "token_df = pd.Series(sentence_token_list)\n",
    "lemma_df = pd.Series(sentence_lemma_list)"
   ]
  },
  {
   "cell_type": "code",
   "execution_count": 49,
   "metadata": {},
   "outputs": [
    {
     "data": {
      "image/png": "[encoded data removed]",
      "text/plain": [
       "<Figure size 432x432 with 1 Axes>"
      ]
     },
     "metadata": {
      "needs_background": "light"
     },
     "output_type": "display_data"
    }
   ],
   "source": [
    "# Plotting the raw token count\n",
    "token_series = token_df.value_counts().head(15).sort_values(ascending = True)\n",
    "ax = token_series.plot.barh(figsize = (6,6))\n",
    "ax.set_xlabel('count')\n",
    "ax.set_ylabel('token')\n",
    "ax.set_title('Sentences: Raw Token Count');"
   ]
  },
  {
   "cell_type": "code",
   "execution_count": 50,
   "metadata": {},
   "outputs": [
    {
     "data": {
      "image/png": "[encoded data removed]",
      "text/plain": [
       "<Figure size 432x432 with 1 Axes>"
      ]
     },
     "metadata": {
      "needs_background": "light"
     },
     "output_type": "display_data"
    }
   ],
   "source": [
    "# Plotting the raw lemma count\n",
    "lemma_series = lemma_df.value_counts().head(15).sort_values(ascending = True)\n",
    "ax = lemma_series.plot.barh(figsize = (6,6))\n",
    "ax.set_xlabel('count')\n",
    "ax.set_ylabel('lemma')\n",
    "ax.set_title('Sentences: Raw Lemma Count');"
   ]
  },
  {
   "cell_type": "code",
   "execution_count": 51,
   "metadata": {},
   "outputs": [],
   "source": [
    "# Remove punctuation, maintain letters and numbers\n",
    "df['SentenceLemmas_nopunc'] = df['SentenceLemmas'].str.replace(\"[^a-zA-Z0-9#']\", \" \")"
   ]
  },
  {
   "cell_type": "code",
   "execution_count": 52,
   "metadata": {},
   "outputs": [
    {
     "data": {
      "text/plain": [
       "['on',\n",
       " 'each',\n",
       " 'business',\n",
       " 'day',\n",
       " 'the',\n",
       " 'financial',\n",
       " 'institution',\n",
       " 'maintain',\n",
       " 'the',\n",
       " 'block']"
      ]
     },
     "execution_count": 52,
     "metadata": {},
     "output_type": "execute_result"
    }
   ],
   "source": [
    "# Put all SentenceLemmas_nopunc into a list\n",
    "all_lemmas_nopunc = ' '.join(df['SentenceLemmas_nopunc'])\n",
    "lemma_list_nopunc = [lemma for lemma in all_lemmas_nopunc.split(' ')]\n",
    "lemma_list_nopunc = [lemma for lemma in lemma_list_nopunc if lemma not in ['']]\n",
    "lemma_list_nopunc[:10]"
   ]
  },
  {
   "cell_type": "code",
   "execution_count": 53,
   "metadata": {},
   "outputs": [
    {
     "data": {
      "image/png": "[encoded data removed]",
      "text/plain": [
       "<Figure size 432x432 with 1 Axes>"
      ]
     },
     "metadata": {
      "needs_background": "light"
     },
     "output_type": "display_data"
    }
   ],
   "source": [
    "# Create a data series containing the list of words\n",
    "lemma_df_nopunc = pd.Series(lemma_list_nopunc)\n",
    "lemma_series_nopunc = lemma_df_nopunc.value_counts().head(15).sort_values(ascending = True)\n",
    "ax = lemma_series_nopunc.plot.barh(figsize = (6,6))\n",
    "ax.set_xlabel('count')\n",
    "ax.set_ylabel('lemma')\n",
    "ax.set_title('Sentences: Lemma Count, no punctuation');"
   ]
  },
  {
   "cell_type": "code",
   "execution_count": 54,
   "metadata": {},
   "outputs": [
    {
     "data": {
      "text/plain": [
       "0    on each business day   the financial instituti...\n",
       "1    the borrower have establish and be require to ...\n",
       "2    during a trigger period or while an event of d...\n",
       "3    on any business day all amount on deposit in t...\n",
       "4    available fund in each cash management account...\n",
       "Name: SentenceLemmas_nopunc, dtype: object"
      ]
     },
     "execution_count": 54,
     "metadata": {},
     "output_type": "execute_result"
    }
   ],
   "source": [
    "df['SentenceLemmas_nopunc'].head()"
   ]
  },
  {
   "cell_type": "code",
   "execution_count": 55,
   "metadata": {},
   "outputs": [],
   "source": [
    "df['SentenceLemmas_nopunc'] = df['SentenceLemmas_nopunc'].str.replace('\\s{2,}', ' ')"
   ]
  },
  {
   "cell_type": "code",
   "execution_count": 56,
   "metadata": {},
   "outputs": [
    {
     "data": {
      "text/plain": [
       "0    on each business day the financial institution...\n",
       "1    the borrower have establish and be require to ...\n",
       "2    during a trigger period or while an event of d...\n",
       "3    on any business day all amount on deposit in t...\n",
       "4    available fund in each cash management account...\n",
       "Name: SentenceLemmas_nopunc, dtype: object"
      ]
     },
     "execution_count": 56,
     "metadata": {},
     "output_type": "execute_result"
    }
   ],
   "source": [
    "df['SentenceLemmas_nopunc'].head()"
   ]
  },
  {
   "cell_type": "markdown",
   "metadata": {},
   "source": [
    "## Preprocessing and Preparation for Modeling"
   ]
  },
  {
   "cell_type": "code",
   "execution_count": 57,
   "metadata": {},
   "outputs": [],
   "source": [
    "short_stopwords = ['the', 'and', 'a', 'to', 'I', 'it', 'be', 'for', 'with', 'that']"
   ]
  },
  {
   "cell_type": "code",
   "execution_count": 58,
   "metadata": {},
   "outputs": [
    {
     "data": {
      "text/plain": [
       "['there',\n",
       " 'might',\n",
       " 'too',\n",
       " 'per',\n",
       " 'had',\n",
       " 'regarding',\n",
       " 'another',\n",
       " 'call',\n",
       " 'fifteen',\n",
       " 'whoever',\n",
       " 'around',\n",
       " 'sometime',\n",
       " 'down',\n",
       " 'toward',\n",
       " 'was',\n",
       " 'put',\n",
       " 'other',\n",
       " 'none',\n",
       " 'several',\n",
       " 'much',\n",
       " 'everywhere',\n",
       " 'the',\n",
       " 'get',\n",
       " 'will',\n",
       " 'own',\n",
       " 'side',\n",
       " 'since',\n",
       " 'perhaps',\n",
       " 'still',\n",
       " 'becoming',\n",
       " 'him',\n",
       " 'something',\n",
       " 'indeed',\n",
       " 'together',\n",
       " 'whence',\n",
       " 'whereas',\n",
       " 'just',\n",
       " 'somehow',\n",
       " 'about',\n",
       " 'five',\n",
       " 'three',\n",
       " 'are',\n",
       " 'less',\n",
       " 'whenever',\n",
       " 'our',\n",
       " 'without',\n",
       " 'nor',\n",
       " 'ten',\n",
       " 'anyhow',\n",
       " 'back',\n",
       " 'above',\n",
       " 'them',\n",
       " 'yourselves',\n",
       " 'how',\n",
       " 'upon',\n",
       " 'and',\n",
       " 'hundred',\n",
       " 'using',\n",
       " 'became',\n",
       " 'within',\n",
       " 'anyway',\n",
       " 'while',\n",
       " 'nine',\n",
       " 'otherwise',\n",
       " 'could',\n",
       " 'bottom',\n",
       " 'becomes',\n",
       " 'namely',\n",
       " 'also',\n",
       " 'nothing',\n",
       " 'please',\n",
       " 'so',\n",
       " 'again',\n",
       " 'amongst',\n",
       " 'that',\n",
       " 'to',\n",
       " 'via',\n",
       " 'we',\n",
       " 'whereafter',\n",
       " 'behind',\n",
       " 'empty',\n",
       " 'as',\n",
       " 'someone',\n",
       " 'whether',\n",
       " 'why',\n",
       " 'anyone',\n",
       " 'except',\n",
       " 'many',\n",
       " 'you',\n",
       " 'fifty',\n",
       " 'two',\n",
       " 'by',\n",
       " 'always',\n",
       " 'himself',\n",
       " 'give',\n",
       " 'third',\n",
       " 'whose',\n",
       " 'nobody',\n",
       " 'whereby',\n",
       " 'next',\n",
       " 'if',\n",
       " 'thus',\n",
       " 'throughout',\n",
       " 'a',\n",
       " 'among',\n",
       " 'sixty',\n",
       " 'onto',\n",
       " 'beyond',\n",
       " 'eleven',\n",
       " 'nevertheless',\n",
       " 'hereby',\n",
       " 'thereafter',\n",
       " 'twelve',\n",
       " 'top',\n",
       " 'serious',\n",
       " 'for',\n",
       " 'almost',\n",
       " 'across',\n",
       " 'any',\n",
       " 'every',\n",
       " 'have',\n",
       " 'thereby',\n",
       " 'whatever',\n",
       " 'than',\n",
       " 'same',\n",
       " 'i',\n",
       " 'everything',\n",
       " 'once',\n",
       " 'of',\n",
       " 'keep',\n",
       " 'afterwards',\n",
       " 'hence',\n",
       " 'whither',\n",
       " 'already',\n",
       " 'does',\n",
       " 'further',\n",
       " 'most',\n",
       " 'even',\n",
       " 'everyone',\n",
       " 'do',\n",
       " 'hereupon',\n",
       " 'neither',\n",
       " 'not',\n",
       " 'when',\n",
       " 'themselves',\n",
       " 'yours',\n",
       " 'each',\n",
       " 'enough',\n",
       " 'all',\n",
       " 'often',\n",
       " 'some',\n",
       " 'is',\n",
       " 'say',\n",
       " 'name',\n",
       " 'however',\n",
       " 'your',\n",
       " 'then',\n",
       " 'show',\n",
       " 'therefore',\n",
       " 'up',\n",
       " 'has',\n",
       " 'whereupon',\n",
       " 'amount',\n",
       " 'well',\n",
       " 'between',\n",
       " 'first',\n",
       " 'this',\n",
       " 'herein',\n",
       " 'noone',\n",
       " 'may',\n",
       " 'six',\n",
       " 'latterly',\n",
       " 'after',\n",
       " 'more',\n",
       " 'ca',\n",
       " 'last',\n",
       " 'should',\n",
       " 'under',\n",
       " 'can',\n",
       " 'ours',\n",
       " 'he',\n",
       " 'out',\n",
       " 'herself',\n",
       " 'various',\n",
       " 'being',\n",
       " 'were',\n",
       " 'yourself',\n",
       " 'cannot',\n",
       " 'in',\n",
       " 'nowhere',\n",
       " 'which',\n",
       " 'alone',\n",
       " 'these',\n",
       " 'twenty',\n",
       " 'mostly',\n",
       " 'yet',\n",
       " 'part',\n",
       " 'ever',\n",
       " 'what',\n",
       " 'therein',\n",
       " 'myself',\n",
       " 'such',\n",
       " 'formerly',\n",
       " 'take',\n",
       " 'through',\n",
       " 'never',\n",
       " 'but',\n",
       " 'it',\n",
       " 'hereafter',\n",
       " 'its',\n",
       " 'anything',\n",
       " 'during',\n",
       " 'whole',\n",
       " 'now',\n",
       " 'towards',\n",
       " 'quite',\n",
       " 'thru',\n",
       " 'moreover',\n",
       " 'me',\n",
       " 'elsewhere',\n",
       " 'else',\n",
       " 'before',\n",
       " 'seemed',\n",
       " 'mine',\n",
       " 'must',\n",
       " 'anywhere',\n",
       " 'his',\n",
       " 'or',\n",
       " 'against',\n",
       " 'either',\n",
       " 'hers',\n",
       " 'besides',\n",
       " 're',\n",
       " 'make',\n",
       " 'very',\n",
       " 'with',\n",
       " 'off',\n",
       " 'somewhere',\n",
       " 'thence',\n",
       " 'seems',\n",
       " 'thereupon',\n",
       " 'us',\n",
       " 'wherein',\n",
       " 'made',\n",
       " 'whom',\n",
       " 'below',\n",
       " 'she',\n",
       " 'sometimes',\n",
       " 'be',\n",
       " 'from',\n",
       " 'ourselves',\n",
       " 'front',\n",
       " 'those',\n",
       " 'due',\n",
       " 'until',\n",
       " 'am',\n",
       " 'go',\n",
       " 'others',\n",
       " 'really',\n",
       " 'become',\n",
       " 'former',\n",
       " 'an',\n",
       " 'least',\n",
       " 'seem',\n",
       " 'where',\n",
       " 'would',\n",
       " 'no',\n",
       " 'here',\n",
       " 'seeming',\n",
       " 'one',\n",
       " 'at',\n",
       " 'few',\n",
       " 'did',\n",
       " 'her',\n",
       " 'itself',\n",
       " 'my',\n",
       " 'used',\n",
       " 'over',\n",
       " 'although',\n",
       " 'beside',\n",
       " 'doing',\n",
       " 'done',\n",
       " 'forty',\n",
       " 'wherever',\n",
       " 'been',\n",
       " 'four',\n",
       " 'eight',\n",
       " 'latter',\n",
       " 'full',\n",
       " 'move',\n",
       " 'rather',\n",
       " 'their',\n",
       " 'though',\n",
       " 'on',\n",
       " 'along',\n",
       " 'who',\n",
       " 'unless',\n",
       " 'into',\n",
       " 'only',\n",
       " 'see',\n",
       " 'meanwhile',\n",
       " 'they',\n",
       " 'beforehand',\n",
       " 'both',\n",
       " 'because']"
      ]
     },
     "execution_count": 58,
     "metadata": {},
     "output_type": "execute_result"
    }
   ],
   "source": [
    "# Look at original stopword list\n",
    "stopwords = list(STOP_WORDS)\n",
    "stopwords"
   ]
  },
  {
   "cell_type": "code",
   "execution_count": 59,
   "metadata": {},
   "outputs": [],
   "source": [
    "# Choose to exclude anything with numbers are might be particularly relevant\n",
    "to_exclude = ['thereupon', 'cannot', 'should'] "
   ]
  },
  {
   "cell_type": "code",
   "execution_count": 60,
   "metadata": {},
   "outputs": [
    {
     "data": {
      "text/plain": [
       "['there',\n",
       " 'might',\n",
       " 'too',\n",
       " 'per',\n",
       " 'had',\n",
       " 'regarding',\n",
       " 'another',\n",
       " 'call',\n",
       " 'fifteen',\n",
       " 'whoever',\n",
       " 'around',\n",
       " 'sometime',\n",
       " 'down',\n",
       " 'toward',\n",
       " 'was',\n",
       " 'put',\n",
       " 'other',\n",
       " 'none',\n",
       " 'several',\n",
       " 'much',\n",
       " 'everywhere',\n",
       " 'the',\n",
       " 'get',\n",
       " 'will',\n",
       " 'own',\n",
       " 'side',\n",
       " 'since',\n",
       " 'perhaps',\n",
       " 'still',\n",
       " 'becoming',\n",
       " 'him',\n",
       " 'something',\n",
       " 'indeed',\n",
       " 'together',\n",
       " 'whence',\n",
       " 'whereas',\n",
       " 'just',\n",
       " 'somehow',\n",
       " 'about',\n",
       " 'five',\n",
       " 'three',\n",
       " 'are',\n",
       " 'less',\n",
       " 'whenever',\n",
       " 'our',\n",
       " 'without',\n",
       " 'nor',\n",
       " 'ten',\n",
       " 'anyhow',\n",
       " 'back',\n",
       " 'above',\n",
       " 'them',\n",
       " 'yourselves',\n",
       " 'how',\n",
       " 'upon',\n",
       " 'and',\n",
       " 'hundred',\n",
       " 'using',\n",
       " 'became',\n",
       " 'within',\n",
       " 'anyway',\n",
       " 'while',\n",
       " 'nine',\n",
       " 'otherwise',\n",
       " 'could',\n",
       " 'bottom',\n",
       " 'becomes',\n",
       " 'namely',\n",
       " 'also',\n",
       " 'nothing',\n",
       " 'please',\n",
       " 'so',\n",
       " 'again',\n",
       " 'amongst',\n",
       " 'that',\n",
       " 'to',\n",
       " 'via',\n",
       " 'we',\n",
       " 'whereafter',\n",
       " 'behind',\n",
       " 'empty',\n",
       " 'as',\n",
       " 'someone',\n",
       " 'whether',\n",
       " 'why',\n",
       " 'anyone',\n",
       " 'except',\n",
       " 'many',\n",
       " 'you',\n",
       " 'fifty',\n",
       " 'two',\n",
       " 'by',\n",
       " 'always',\n",
       " 'himself',\n",
       " 'give',\n",
       " 'third',\n",
       " 'whose',\n",
       " 'nobody',\n",
       " 'whereby',\n",
       " 'next',\n",
       " 'if',\n",
       " 'thus',\n",
       " 'throughout',\n",
       " 'a',\n",
       " 'among',\n",
       " 'sixty',\n",
       " 'onto',\n",
       " 'beyond',\n",
       " 'eleven',\n",
       " 'nevertheless',\n",
       " 'hereby',\n",
       " 'thereafter',\n",
       " 'twelve',\n",
       " 'top',\n",
       " 'serious',\n",
       " 'for',\n",
       " 'almost',\n",
       " 'across',\n",
       " 'any',\n",
       " 'every',\n",
       " 'have',\n",
       " 'thereby',\n",
       " 'whatever',\n",
       " 'than',\n",
       " 'same',\n",
       " 'i',\n",
       " 'everything',\n",
       " 'once',\n",
       " 'of',\n",
       " 'keep',\n",
       " 'afterwards',\n",
       " 'hence',\n",
       " 'whither',\n",
       " 'already',\n",
       " 'does',\n",
       " 'further',\n",
       " 'most',\n",
       " 'even',\n",
       " 'everyone',\n",
       " 'do',\n",
       " 'hereupon',\n",
       " 'neither',\n",
       " 'not',\n",
       " 'when',\n",
       " 'themselves',\n",
       " 'yours',\n",
       " 'each',\n",
       " 'enough',\n",
       " 'all',\n",
       " 'often',\n",
       " 'some',\n",
       " 'is',\n",
       " 'say',\n",
       " 'name',\n",
       " 'however',\n",
       " 'your',\n",
       " 'then',\n",
       " 'show',\n",
       " 'therefore',\n",
       " 'up',\n",
       " 'has',\n",
       " 'whereupon',\n",
       " 'amount',\n",
       " 'well',\n",
       " 'between',\n",
       " 'first',\n",
       " 'this',\n",
       " 'herein',\n",
       " 'noone',\n",
       " 'may',\n",
       " 'six',\n",
       " 'latterly',\n",
       " 'after',\n",
       " 'more',\n",
       " 'ca',\n",
       " 'last',\n",
       " 'under',\n",
       " 'can',\n",
       " 'ours',\n",
       " 'he',\n",
       " 'out',\n",
       " 'herself',\n",
       " 'various',\n",
       " 'being',\n",
       " 'were',\n",
       " 'yourself',\n",
       " 'in',\n",
       " 'nowhere',\n",
       " 'which',\n",
       " 'alone',\n",
       " 'these',\n",
       " 'twenty',\n",
       " 'mostly',\n",
       " 'yet',\n",
       " 'part',\n",
       " 'ever',\n",
       " 'what',\n",
       " 'therein',\n",
       " 'myself',\n",
       " 'such',\n",
       " 'formerly',\n",
       " 'take',\n",
       " 'through',\n",
       " 'never',\n",
       " 'but',\n",
       " 'it',\n",
       " 'hereafter',\n",
       " 'its',\n",
       " 'anything',\n",
       " 'during',\n",
       " 'whole',\n",
       " 'now',\n",
       " 'towards',\n",
       " 'quite',\n",
       " 'thru',\n",
       " 'moreover',\n",
       " 'me',\n",
       " 'elsewhere',\n",
       " 'else',\n",
       " 'before',\n",
       " 'seemed',\n",
       " 'mine',\n",
       " 'must',\n",
       " 'anywhere',\n",
       " 'his',\n",
       " 'or',\n",
       " 'against',\n",
       " 'either',\n",
       " 'hers',\n",
       " 'besides',\n",
       " 're',\n",
       " 'make',\n",
       " 'very',\n",
       " 'with',\n",
       " 'off',\n",
       " 'somewhere',\n",
       " 'thence',\n",
       " 'seems',\n",
       " 'us',\n",
       " 'wherein',\n",
       " 'made',\n",
       " 'whom',\n",
       " 'below',\n",
       " 'she',\n",
       " 'sometimes',\n",
       " 'be',\n",
       " 'from',\n",
       " 'ourselves',\n",
       " 'front',\n",
       " 'those',\n",
       " 'due',\n",
       " 'until',\n",
       " 'am',\n",
       " 'go',\n",
       " 'others',\n",
       " 'really',\n",
       " 'become',\n",
       " 'former',\n",
       " 'an',\n",
       " 'least',\n",
       " 'seem',\n",
       " 'where',\n",
       " 'would',\n",
       " 'no',\n",
       " 'here',\n",
       " 'seeming',\n",
       " 'one',\n",
       " 'at',\n",
       " 'few',\n",
       " 'did',\n",
       " 'her',\n",
       " 'itself',\n",
       " 'my',\n",
       " 'used',\n",
       " 'over',\n",
       " 'although',\n",
       " 'beside',\n",
       " 'doing',\n",
       " 'done',\n",
       " 'forty',\n",
       " 'wherever',\n",
       " 'been',\n",
       " 'four',\n",
       " 'eight',\n",
       " 'latter',\n",
       " 'full',\n",
       " 'move',\n",
       " 'rather',\n",
       " 'their',\n",
       " 'though',\n",
       " 'on',\n",
       " 'along',\n",
       " 'who',\n",
       " 'unless',\n",
       " 'into',\n",
       " 'only',\n",
       " 'see',\n",
       " 'meanwhile',\n",
       " 'they',\n",
       " 'beforehand',\n",
       " 'both',\n",
       " 'because']"
      ]
     },
     "execution_count": 60,
     "metadata": {},
     "output_type": "execute_result"
    }
   ],
   "source": [
    "# Define our selected stopword lists \n",
    "select_stopwords = [word for word in stopwords if word not in to_exclude]\n",
    "select_stopwords"
   ]
  },
  {
   "cell_type": "code",
   "execution_count": null,
   "metadata": {},
   "outputs": [],
   "source": []
  },
  {
   "cell_type": "code",
   "execution_count": null,
   "metadata": {},
   "outputs": [],
   "source": []
  },
  {
   "cell_type": "markdown",
   "metadata": {},
   "source": [
    "## Train/Test Split"
   ]
  },
  {
   "cell_type": "code",
   "execution_count": 61,
   "metadata": {},
   "outputs": [
    {
     "data": {
      "text/html": [
       "<div>\n",
       "<style scoped>\n",
       "    .dataframe tbody tr th:only-of-type {\n",
       "        vertical-align: middle;\n",
       "    }\n",
       "\n",
       "    .dataframe tbody tr th {\n",
       "        vertical-align: top;\n",
       "    }\n",
       "\n",
       "    .dataframe thead th {\n",
       "        text-align: right;\n",
       "    }\n",
       "</style>\n",
       "<table border=\"1\" class=\"dataframe\">\n",
       "  <thead>\n",
       "    <tr style=\"text-align: right;\">\n",
       "      <th></th>\n",
       "      <th>Document</th>\n",
       "      <th>Sentence</th>\n",
       "      <th>loan_default</th>\n",
       "      <th>aggregate_dscr_fall</th>\n",
       "      <th>dscr_fall</th>\n",
       "      <th>unspecified</th>\n",
       "      <th>debt_yield_fall</th>\n",
       "      <th>aggregate_debt_yield_fall</th>\n",
       "      <th>mezzanine_default</th>\n",
       "      <th>tenant_failure</th>\n",
       "      <th>mezzanine_outstanding</th>\n",
       "      <th>operator_termination</th>\n",
       "      <th>bankruptcy</th>\n",
       "      <th>sponsor_termination</th>\n",
       "      <th>renovations</th>\n",
       "      <th>sentence_char_count</th>\n",
       "      <th>SentenceTokens</th>\n",
       "      <th>SentenceLemmas</th>\n",
       "      <th>SentenceLemmas_nopunc</th>\n",
       "    </tr>\n",
       "  </thead>\n",
       "  <tbody>\n",
       "    <tr>\n",
       "      <th>0</th>\n",
       "      <td>20120828_01Y0R8_Prospectus_CM00000000205875087...</td>\n",
       "      <td>On each Business Day, the financial institutio...</td>\n",
       "      <td>1</td>\n",
       "      <td>0</td>\n",
       "      <td>0</td>\n",
       "      <td>0</td>\n",
       "      <td>0</td>\n",
       "      <td>0</td>\n",
       "      <td>0</td>\n",
       "      <td>0</td>\n",
       "      <td>0</td>\n",
       "      <td>0</td>\n",
       "      <td>0</td>\n",
       "      <td>0</td>\n",
       "      <td>0</td>\n",
       "      <td>446</td>\n",
       "      <td>On each Business Day , the financial instituti...</td>\n",
       "      <td>on each business day , the financial instituti...</td>\n",
       "      <td>on each business day the financial institution...</td>\n",
       "    </tr>\n",
       "    <tr>\n",
       "      <th>1</th>\n",
       "      <td>20120828_01Y0R8_Prospectus_CM00000000205875087...</td>\n",
       "      <td>The Borrower has established and is required t...</td>\n",
       "      <td>1</td>\n",
       "      <td>1</td>\n",
       "      <td>0</td>\n",
       "      <td>0</td>\n",
       "      <td>0</td>\n",
       "      <td>0</td>\n",
       "      <td>0</td>\n",
       "      <td>0</td>\n",
       "      <td>0</td>\n",
       "      <td>0</td>\n",
       "      <td>0</td>\n",
       "      <td>0</td>\n",
       "      <td>0</td>\n",
       "      <td>836</td>\n",
       "      <td>The Borrower has established and is required t...</td>\n",
       "      <td>the borrower have establish and be require to ...</td>\n",
       "      <td>the borrower have establish and be require to ...</td>\n",
       "    </tr>\n",
       "    <tr>\n",
       "      <th>2</th>\n",
       "      <td>20120828_01Y0R8_Prospectus_CM00000000205875087...</td>\n",
       "      <td>During a Trigger Period or while an event of d...</td>\n",
       "      <td>1</td>\n",
       "      <td>0</td>\n",
       "      <td>0</td>\n",
       "      <td>0</td>\n",
       "      <td>0</td>\n",
       "      <td>0</td>\n",
       "      <td>0</td>\n",
       "      <td>0</td>\n",
       "      <td>0</td>\n",
       "      <td>0</td>\n",
       "      <td>0</td>\n",
       "      <td>0</td>\n",
       "      <td>0</td>\n",
       "      <td>1772</td>\n",
       "      <td>During a Trigger Period or while an event of d...</td>\n",
       "      <td>during a trigger period or while an event of d...</td>\n",
       "      <td>during a trigger period or while an event of d...</td>\n",
       "    </tr>\n",
       "    <tr>\n",
       "      <th>3</th>\n",
       "      <td>20120828_01Y0R8_Prospectus_CM00000000205875087...</td>\n",
       "      <td>On any Business Day all amounts on deposit in ...</td>\n",
       "      <td>1</td>\n",
       "      <td>0</td>\n",
       "      <td>0</td>\n",
       "      <td>0</td>\n",
       "      <td>0</td>\n",
       "      <td>0</td>\n",
       "      <td>0</td>\n",
       "      <td>0</td>\n",
       "      <td>0</td>\n",
       "      <td>0</td>\n",
       "      <td>0</td>\n",
       "      <td>0</td>\n",
       "      <td>0</td>\n",
       "      <td>302</td>\n",
       "      <td>On any Business Day all amounts on deposit in ...</td>\n",
       "      <td>on any business day all amount on deposit in t...</td>\n",
       "      <td>on any business day all amount on deposit in t...</td>\n",
       "    </tr>\n",
       "    <tr>\n",
       "      <th>4</th>\n",
       "      <td>20120828_01Y0R8_Prospectus_CM00000000205875087...</td>\n",
       "      <td>Available funds in each Cash Management Accoun...</td>\n",
       "      <td>1</td>\n",
       "      <td>0</td>\n",
       "      <td>0</td>\n",
       "      <td>0</td>\n",
       "      <td>0</td>\n",
       "      <td>0</td>\n",
       "      <td>0</td>\n",
       "      <td>0</td>\n",
       "      <td>0</td>\n",
       "      <td>0</td>\n",
       "      <td>0</td>\n",
       "      <td>0</td>\n",
       "      <td>0</td>\n",
       "      <td>235</td>\n",
       "      <td>Available funds in each Cash Management Accoun...</td>\n",
       "      <td>available fund in each cash management account...</td>\n",
       "      <td>available fund in each cash management account...</td>\n",
       "    </tr>\n",
       "  </tbody>\n",
       "</table>\n",
       "</div>"
      ],
      "text/plain": [
       "                                            Document  \\\n",
       "0  20120828_01Y0R8_Prospectus_CM00000000205875087...   \n",
       "1  20120828_01Y0R8_Prospectus_CM00000000205875087...   \n",
       "2  20120828_01Y0R8_Prospectus_CM00000000205875087...   \n",
       "3  20120828_01Y0R8_Prospectus_CM00000000205875087...   \n",
       "4  20120828_01Y0R8_Prospectus_CM00000000205875087...   \n",
       "\n",
       "                                            Sentence  loan_default  \\\n",
       "0  On each Business Day, the financial institutio...             1   \n",
       "1  The Borrower has established and is required t...             1   \n",
       "2  During a Trigger Period or while an event of d...             1   \n",
       "3  On any Business Day all amounts on deposit in ...             1   \n",
       "4  Available funds in each Cash Management Accoun...             1   \n",
       "\n",
       "   aggregate_dscr_fall  dscr_fall  unspecified  debt_yield_fall  \\\n",
       "0                    0          0            0                0   \n",
       "1                    1          0            0                0   \n",
       "2                    0          0            0                0   \n",
       "3                    0          0            0                0   \n",
       "4                    0          0            0                0   \n",
       "\n",
       "   aggregate_debt_yield_fall  mezzanine_default  tenant_failure  \\\n",
       "0                          0                  0               0   \n",
       "1                          0                  0               0   \n",
       "2                          0                  0               0   \n",
       "3                          0                  0               0   \n",
       "4                          0                  0               0   \n",
       "\n",
       "   mezzanine_outstanding  operator_termination  bankruptcy  \\\n",
       "0                      0                     0           0   \n",
       "1                      0                     0           0   \n",
       "2                      0                     0           0   \n",
       "3                      0                     0           0   \n",
       "4                      0                     0           0   \n",
       "\n",
       "   sponsor_termination  renovations  sentence_char_count  \\\n",
       "0                    0            0                  446   \n",
       "1                    0            0                  836   \n",
       "2                    0            0                 1772   \n",
       "3                    0            0                  302   \n",
       "4                    0            0                  235   \n",
       "\n",
       "                                      SentenceTokens  \\\n",
       "0  On each Business Day , the financial instituti...   \n",
       "1  The Borrower has established and is required t...   \n",
       "2  During a Trigger Period or while an event of d...   \n",
       "3  On any Business Day all amounts on deposit in ...   \n",
       "4  Available funds in each Cash Management Accoun...   \n",
       "\n",
       "                                      SentenceLemmas  \\\n",
       "0  on each business day , the financial instituti...   \n",
       "1  the borrower have establish and be require to ...   \n",
       "2  during a trigger period or while an event of d...   \n",
       "3  on any business day all amount on deposit in t...   \n",
       "4  available fund in each cash management account...   \n",
       "\n",
       "                               SentenceLemmas_nopunc  \n",
       "0  on each business day the financial institution...  \n",
       "1  the borrower have establish and be require to ...  \n",
       "2  during a trigger period or while an event of d...  \n",
       "3  on any business day all amount on deposit in t...  \n",
       "4  available fund in each cash management account...  "
      ]
     },
     "execution_count": 61,
     "metadata": {},
     "output_type": "execute_result"
    }
   ],
   "source": [
    "df.head()"
   ]
  },
  {
   "cell_type": "code",
   "execution_count": 62,
   "metadata": {},
   "outputs": [],
   "source": [
    "# Start by predicting Loan Default trigger\n",
    "\n",
    "target = 'loan_default'\n",
    "\n",
    "\n",
    "X = df['Sentence']\n",
    "y = df['unspecified']\n",
    "\n",
    "y = y.astype('int')"
   ]
  },
  {
   "cell_type": "code",
   "execution_count": 63,
   "metadata": {},
   "outputs": [
    {
     "data": {
      "text/plain": [
       "dtype('int64')"
      ]
     },
     "execution_count": 63,
     "metadata": {},
     "output_type": "execute_result"
    }
   ],
   "source": [
    "y.dtypes"
   ]
  },
  {
   "cell_type": "code",
   "execution_count": null,
   "metadata": {},
   "outputs": [],
   "source": []
  },
  {
   "cell_type": "code",
   "execution_count": 64,
   "metadata": {},
   "outputs": [
    {
     "name": "stdout",
     "output_type": "stream",
     "text": [
      "X shape is (686,)\n",
      "y shape is (686,)\n"
     ]
    }
   ],
   "source": [
    "# Checking shape of X and y \n",
    "print(f'X shape is {X.shape}')\n",
    "print(f'y shape is {y.shape}')"
   ]
  },
  {
   "cell_type": "code",
   "execution_count": 65,
   "metadata": {},
   "outputs": [
    {
     "data": {
      "text/plain": [
       "0    425\n",
       "1    261\n",
       "Name: unspecified, dtype: int64"
      ]
     },
     "execution_count": 65,
     "metadata": {},
     "output_type": "execute_result"
    }
   ],
   "source": [
    "y.value_counts()"
   ]
  },
  {
   "cell_type": "code",
   "execution_count": 66,
   "metadata": {},
   "outputs": [
    {
     "name": "stdout",
     "output_type": "stream",
     "text": [
      "(514,) (514,)\n",
      "(172,) (172,)\n"
     ]
    }
   ],
   "source": [
    "X_train, X_test, y_train, y_test = train_test_split(X, y, random_state = RANDOM_STATE)\n",
    "print(X_train.shape, y_train.shape)\n",
    "print(X_test.shape, y_test.shape)"
   ]
  },
  {
   "cell_type": "code",
   "execution_count": 67,
   "metadata": {},
   "outputs": [
    {
     "data": {
      "text/plain": [
       "0    On each Business Day, the financial institutio...\n",
       "1    The Borrower has established and is required t...\n",
       "2    During a Trigger Period or while an event of d...\n",
       "3    On any Business Day all amounts on deposit in ...\n",
       "4    Available funds in each Cash Management Accoun...\n",
       "Name: Sentence, dtype: object"
      ]
     },
     "execution_count": 67,
     "metadata": {},
     "output_type": "execute_result"
    }
   ],
   "source": [
    "X.head()"
   ]
  },
  {
   "cell_type": "code",
   "execution_count": 68,
   "metadata": {},
   "outputs": [
    {
     "data": {
      "text/plain": [
       "514"
      ]
     },
     "execution_count": 68,
     "metadata": {},
     "output_type": "execute_result"
    }
   ],
   "source": [
    "X_train.shape[0]"
   ]
  },
  {
   "cell_type": "code",
   "execution_count": 69,
   "metadata": {},
   "outputs": [
    {
     "data": {
      "text/plain": [
       "514"
      ]
     },
     "execution_count": 69,
     "metadata": {},
     "output_type": "execute_result"
    }
   ],
   "source": [
    "y_train.shape[0]"
   ]
  },
  {
   "cell_type": "code",
   "execution_count": null,
   "metadata": {},
   "outputs": [],
   "source": []
  },
  {
   "cell_type": "markdown",
   "metadata": {},
   "source": [
    "## Modeling"
   ]
  },
  {
   "cell_type": "markdown",
   "metadata": {},
   "source": [
    "### CountVectorizer + Logistic Regression GridSearch and modeling"
   ]
  },
  {
   "cell_type": "code",
   "execution_count": 70,
   "metadata": {},
   "outputs": [
    {
     "name": "stdout",
     "output_type": "stream",
     "text": [
      "Seconds elapsed for fitting: 174.404\n"
     ]
    }
   ],
   "source": [
    "# Define CVEC + Logistic Regression Pipeline\n",
    "pipe_cvec = Pipeline([('cvec', CountVectorizer()), ('lr', LogisticRegression(solver = 'liblinear', random_state = RANDOM_STATE))])\n",
    "cvec_params = {\n",
    "    'cvec__ngram_range': [(1,2), (1,3), (1,4), (1,5), (1,6), (1,7), (1,8), (1,9), (1,10)],\n",
    "    'cvec__stop_words': [None, short_stopwords, select_stopwords],  \n",
    "    'cvec__max_features': [100, 200, 400, 600, 800, 1000],\n",
    "#    'cvec__min_df': [2],\n",
    "#    'cvec__max_df': [.99],\n",
    "    }\n",
    "\n",
    "gs_cvec = GridSearchCV(pipe_cvec, param_grid = cvec_params, cv = 3, scoring = 'accuracy')\n",
    "\n",
    "# Start the timer.\n",
    "t0 = time.time()\n",
    "\n",
    "results_cvec = gs_cvec.fit(X_train, y_train)\n",
    "\n",
    "print(f'Seconds elapsed for fitting: {(time.time() - t0):.3f}') # How many seconds elapsed.\n",
    "\n"
   ]
  },
  {
   "cell_type": "code",
   "execution_count": 71,
   "metadata": {},
   "outputs": [],
   "source": [
    "#log_reg = LogisticRegression()\n",
    "#logreg.fit(X_train, y_train)\n"
   ]
  },
  {
   "cell_type": "code",
   "execution_count": 72,
   "metadata": {},
   "outputs": [
    {
     "name": "stdout",
     "output_type": "stream",
     "text": [
      "Training score is 0.998\n",
      "Test score is 0.953\n",
      "Cross Validation score is 0.911\n",
      "Seconds elapsed for score calculation: 2.254\n"
     ]
    }
   ],
   "source": [
    "t0 = time.time()\n",
    "print(f'Training score is {results_cvec.score(X_train, y_train):.3f}')\n",
    "print(f'Test score is {results_cvec.score(X_test, y_test):.3f}')\n",
    "print(f'Cross Validation score is {cross_val_score(results_cvec.best_estimator_, X, y, cv = 3).mean():.3f}')\n",
    "print(f'Seconds elapsed for score calculation: {(time.time() - t0):.3f}') # How many seconds elapsed."
   ]
  },
  {
   "cell_type": "code",
   "execution_count": 73,
   "metadata": {},
   "outputs": [
    {
     "name": "stdout",
     "output_type": "stream",
     "text": [
      "Best Score:0.947\n",
      "Best Parameters :{'cvec__max_features': 400, 'cvec__ngram_range': (1, 8), 'cvec__stop_words': ['the', 'and', 'a', 'to', 'I', 'it', 'be', 'for', 'with', 'that']}\n"
     ]
    }
   ],
   "source": [
    "print(f'Best Score:{(results_cvec.best_score_):.3f}')\n",
    "print(f'Best Parameters :{results_cvec.best_params_}')"
   ]
  },
  {
   "cell_type": "code",
   "execution_count": null,
   "metadata": {},
   "outputs": [],
   "source": []
  },
  {
   "cell_type": "markdown",
   "metadata": {},
   "source": [
    "### 2: TFIDF + Logistic Regression GridSearch and modeling"
   ]
  },
  {
   "cell_type": "code",
   "execution_count": 74,
   "metadata": {},
   "outputs": [
    {
     "name": "stdout",
     "output_type": "stream",
     "text": [
      "Seconds elapsed for fitting: 186.282\n"
     ]
    }
   ],
   "source": [
    "# Define TFIDF + Logistic Regression Pipeline\n",
    "\n",
    "pipe_tfidf = Pipeline([('tfidf', TfidfVectorizer()), ('lr', LogisticRegression(max_iter = 4000, random_state = RANDOM_STATE))])\n",
    "\n",
    "tfidf_params = {\n",
    "    'tfidf__ngram_range': [(1,2), (1,3), (1,4), (1,5), (1,6), (1,7), (1,8), (1,9), (1,10)],\n",
    "    'tfidf__stop_words': [None, short_stopwords, select_stopwords],  \n",
    "    'tfidf__max_features': [100, 200, 400, 600, 800, 1000],\n",
    "#    'tfidf__min_df': [2],\n",
    "#    'tfidf__max_df': [.99],\n",
    "    }\n",
    "\n",
    "gs_tfidf = GridSearchCV(pipe_tfidf, param_grid = tfidf_params, cv = 3, scoring = 'accuracy')\n",
    "\n",
    "results_tfidf = gs_tfidf.fit(X_train, y_train)\n",
    "\n",
    "print(f'Seconds elapsed for fitting: {(time.time() - t0):.3f}') # How many seconds elapsed.\n",
    "\n"
   ]
  },
  {
   "cell_type": "code",
   "execution_count": 75,
   "metadata": {},
   "outputs": [
    {
     "name": "stdout",
     "output_type": "stream",
     "text": [
      "Training score is 0.971\n",
      "Test score is 0.936\n",
      "Cross Validation score is 0.908\n",
      "Seconds elapsed for score calculation: 1.185\n"
     ]
    }
   ],
   "source": [
    "t0 = time.time()\n",
    "print(f'Training score is {results_tfidf.score(X_train, y_train):.3f}')\n",
    "print(f'Test score is {results_tfidf.score(X_test, y_test):.3f}')\n",
    "print(f'Cross Validation score is {cross_val_score(results_tfidf.best_estimator_, X, y, cv = 3).mean():.3f}')\n",
    "print(f'Seconds elapsed for score calculation: {(time.time() - t0):.3f}') # How many seconds elapsed."
   ]
  },
  {
   "cell_type": "code",
   "execution_count": 76,
   "metadata": {},
   "outputs": [
    {
     "name": "stdout",
     "output_type": "stream",
     "text": [
      "Best Score: 0.9396618160388049\n",
      "Best Parameters: {'tfidf__max_features': 1000, 'tfidf__ngram_range': (1, 4), 'tfidf__stop_words': ['the', 'and', 'a', 'to', 'I', 'it', 'be', 'for', 'with', 'that']}\n"
     ]
    }
   ],
   "source": [
    "print(f'Best Score: {results_tfidf.best_score_}')\n",
    "print(f'Best Parameters: {results_tfidf.best_params_}')"
   ]
  },
  {
   "cell_type": "code",
   "execution_count": null,
   "metadata": {},
   "outputs": [],
   "source": []
  },
  {
   "cell_type": "markdown",
   "metadata": {},
   "source": [
    "### 3: CountVectorizer + Multinomial Naive Bayes GridSearch & modeling"
   ]
  },
  {
   "cell_type": "code",
   "execution_count": 77,
   "metadata": {},
   "outputs": [
    {
     "name": "stdout",
     "output_type": "stream",
     "text": [
      "Seconds elapsed for fitting: 184.992\n"
     ]
    }
   ],
   "source": [
    "# Define CountVectorizer + Multinomial Naive Bayes Grisearch pipeline\n",
    "\n",
    "pipe_mnb = Pipeline([('cvec', CountVectorizer()), ('mnb', MultinomialNB())])\n",
    "mnb_params = {\n",
    "    'cvec__ngram_range': [(1,2), (1,3), (1,4), (1,5), (1,6), (1,7), (1,8), (1,9), (1,10)],\n",
    "    'cvec__stop_words': [None, short_stopwords, select_stopwords],\n",
    "    'cvec__max_features': [100, 200, 400, 600, 800, 1000],\n",
    "#    'cvec__min_df': [3],\n",
    "#    'cvec__max_df': [ .99],\n",
    "    }\n",
    "\n",
    "gs_mnb = GridSearchCV(pipe_mnb, param_grid = mnb_params, cv = 3, scoring = 'accuracy')\n",
    "\n",
    "# Start the timer.\n",
    "t0 = time.time()\n",
    "\n",
    "results_mnb = gs_mnb.fit(X_train, y_train)\n",
    "\n",
    "print(f'Seconds elapsed for fitting: {(time.time() - t0):.3f}') # How many seconds elapsed."
   ]
  },
  {
   "cell_type": "code",
   "execution_count": 78,
   "metadata": {},
   "outputs": [
    {
     "name": "stdout",
     "output_type": "stream",
     "text": [
      "Training score is 0.936\n",
      "Test score is 0.924\n",
      "Cross Validation score is 0.881\n",
      "Seconds elapsed for score calculation: 1.114\n"
     ]
    }
   ],
   "source": [
    "t0 = time.time()\n",
    "print(f'Training score is {results_mnb.score(X_train, y_train):.3f}')\n",
    "print(f'Test score is {results_mnb.score(X_test, y_test):.3f}')\n",
    "print(f'Cross Validation score is {cross_val_score(results_mnb.best_estimator_, X, y, cv = 3).mean():.3f}')\n",
    "print(f'Seconds elapsed for score calculation: {(time.time() - t0):.3f}') # How many seconds elapsed."
   ]
  },
  {
   "cell_type": "code",
   "execution_count": 79,
   "metadata": {},
   "outputs": [
    {
     "name": "stdout",
     "output_type": "stream",
     "text": [
      "Best Score: 0.9240559408858062\n",
      "Best Parameters: {'cvec__max_features': 1000, 'cvec__ngram_range': (1, 5), 'cvec__stop_words': ['there', 'might', 'too', 'per', 'had', 'regarding', 'another', 'call', 'fifteen', 'whoever', 'around', 'sometime', 'down', 'toward', 'was', 'put', 'other', 'none', 'several', 'much', 'everywhere', 'the', 'get', 'will', 'own', 'side', 'since', 'perhaps', 'still', 'becoming', 'him', 'something', 'indeed', 'together', 'whence', 'whereas', 'just', 'somehow', 'about', 'five', 'three', 'are', 'less', 'whenever', 'our', 'without', 'nor', 'ten', 'anyhow', 'back', 'above', 'them', 'yourselves', 'how', 'upon', 'and', 'hundred', 'using', 'became', 'within', 'anyway', 'while', 'nine', 'otherwise', 'could', 'bottom', 'becomes', 'namely', 'also', 'nothing', 'please', 'so', 'again', 'amongst', 'that', 'to', 'via', 'we', 'whereafter', 'behind', 'empty', 'as', 'someone', 'whether', 'why', 'anyone', 'except', 'many', 'you', 'fifty', 'two', 'by', 'always', 'himself', 'give', 'third', 'whose', 'nobody', 'whereby', 'next', 'if', 'thus', 'throughout', 'a', 'among', 'sixty', 'onto', 'beyond', 'eleven', 'nevertheless', 'hereby', 'thereafter', 'twelve', 'top', 'serious', 'for', 'almost', 'across', 'any', 'every', 'have', 'thereby', 'whatever', 'than', 'same', 'i', 'everything', 'once', 'of', 'keep', 'afterwards', 'hence', 'whither', 'already', 'does', 'further', 'most', 'even', 'everyone', 'do', 'hereupon', 'neither', 'not', 'when', 'themselves', 'yours', 'each', 'enough', 'all', 'often', 'some', 'is', 'say', 'name', 'however', 'your', 'then', 'show', 'therefore', 'up', 'has', 'whereupon', 'amount', 'well', 'between', 'first', 'this', 'herein', 'noone', 'may', 'six', 'latterly', 'after', 'more', 'ca', 'last', 'under', 'can', 'ours', 'he', 'out', 'herself', 'various', 'being', 'were', 'yourself', 'in', 'nowhere', 'which', 'alone', 'these', 'twenty', 'mostly', 'yet', 'part', 'ever', 'what', 'therein', 'myself', 'such', 'formerly', 'take', 'through', 'never', 'but', 'it', 'hereafter', 'its', 'anything', 'during', 'whole', 'now', 'towards', 'quite', 'thru', 'moreover', 'me', 'elsewhere', 'else', 'before', 'seemed', 'mine', 'must', 'anywhere', 'his', 'or', 'against', 'either', 'hers', 'besides', 're', 'make', 'very', 'with', 'off', 'somewhere', 'thence', 'seems', 'us', 'wherein', 'made', 'whom', 'below', 'she', 'sometimes', 'be', 'from', 'ourselves', 'front', 'those', 'due', 'until', 'am', 'go', 'others', 'really', 'become', 'former', 'an', 'least', 'seem', 'where', 'would', 'no', 'here', 'seeming', 'one', 'at', 'few', 'did', 'her', 'itself', 'my', 'used', 'over', 'although', 'beside', 'doing', 'done', 'forty', 'wherever', 'been', 'four', 'eight', 'latter', 'full', 'move', 'rather', 'their', 'though', 'on', 'along', 'who', 'unless', 'into', 'only', 'see', 'meanwhile', 'they', 'beforehand', 'both', 'because']}\n"
     ]
    }
   ],
   "source": [
    "print(f'Best Score: {results_mnb.best_score_}')\n",
    "print(f'Best Parameters: {results_mnb.best_params_}')"
   ]
  },
  {
   "cell_type": "code",
   "execution_count": null,
   "metadata": {},
   "outputs": [],
   "source": []
  },
  {
   "cell_type": "markdown",
   "metadata": {},
   "source": [
    "### 4: TFIDF + Gaussian Naive Bayes GridSearch & modeling"
   ]
  },
  {
   "cell_type": "code",
   "execution_count": 80,
   "metadata": {},
   "outputs": [
    {
     "name": "stdout",
     "output_type": "stream",
     "text": [
      "Seconds elapsed for fitting: 187.726\n"
     ]
    }
   ],
   "source": [
    "# Define TFIDF + Gaussian Naive Bayes Gridsearch pipeline\n",
    "\n",
    "from sklearn.base import TransformerMixin\n",
    "class DenseTransformer(TransformerMixin):\n",
    "\n",
    "    def fit(self, X, y=None, **fit_params):\n",
    "        return self\n",
    "\n",
    "    def transform(self, X, y=None, **fit_params):\n",
    "        return X.todense()\n",
    "\n",
    "\n",
    "pipe_gnb = Pipeline([('tfidf', TfidfVectorizer()), ('to_dense', DenseTransformer()),('gnb', GaussianNB())])\n",
    "\n",
    "gnb_params = {\n",
    "    'tfidf__ngram_range': [(1,2), (1,3), (1,4), (1,5), (1,6), (1,7), (1,8), (1,9), (1,10)],\n",
    "    'tfidf__stop_words': [None, short_stopwords, select_stopwords],\n",
    "    'tfidf__max_features': [100, 200, 400, 600, 800, 1000],\n",
    "#    'tfidf__min_df': [2],\n",
    "#    'tfidf__max_df': [.99],\n",
    "    }\n",
    "\n",
    "gs_gnb = GridSearchCV(pipe_gnb, param_grid = gnb_params, cv = 3, scoring = 'accuracy')\n",
    "\n",
    "# Start the timer.\n",
    "t0 = time.time()\n",
    "\n",
    "results_gnb = gs_gnb.fit(X_train, y_train)\n",
    "\n",
    "print(f'Seconds elapsed for fitting: {(time.time() - t0):.3f}') # How many seconds elapsed."
   ]
  },
  {
   "cell_type": "code",
   "execution_count": 81,
   "metadata": {},
   "outputs": [
    {
     "name": "stdout",
     "output_type": "stream",
     "text": [
      "Training score is 0.967\n",
      "Test score is 0.953\n",
      "Cross Validation score is 0.913\n",
      "Seconds elapsed for score calculation: 1.487\n"
     ]
    }
   ],
   "source": [
    "t0 = time.time()\n",
    "print(f'Training score is {results_gnb.score(X_train, y_train):.3f}')\n",
    "print(f'Test score is {results_gnb.score(X_test, y_test):.3f}')\n",
    "print(f'Cross Validation score is {cross_val_score(results_gnb.best_estimator_, X, y, cv = 3).mean():.3f}')\n",
    "print(f'Seconds elapsed for score calculation: {(time.time() - t0):.3f}') # How many seconds elapsed."
   ]
  },
  {
   "cell_type": "code",
   "execution_count": 82,
   "metadata": {},
   "outputs": [
    {
     "name": "stdout",
     "output_type": "stream",
     "text": [
      "Best Score: 0.945532435740514\n",
      "Best Parameters: {'tfidf__max_features': 400, 'tfidf__ngram_range': (1, 5), 'tfidf__stop_words': ['the', 'and', 'a', 'to', 'I', 'it', 'be', 'for', 'with', 'that']}\n"
     ]
    }
   ],
   "source": [
    "print(f'Best Score: {results_gnb.best_score_}')\n",
    "print(f'Best Parameters: {results_gnb.best_params_}')"
   ]
  },
  {
   "cell_type": "code",
   "execution_count": null,
   "metadata": {},
   "outputs": [],
   "source": []
  },
  {
   "cell_type": "markdown",
   "metadata": {},
   "source": [
    "## Model Selection\n",
    "- In this section we compare the Train and Test scores across the various models"
   ]
  },
  {
   "cell_type": "code",
   "execution_count": null,
   "metadata": {},
   "outputs": [],
   "source": []
  },
  {
   "cell_type": "code",
   "execution_count": 83,
   "metadata": {},
   "outputs": [
    {
     "name": "stdout",
     "output_type": "stream",
     "text": [
      "Baseline Score:                                0.610\n",
      "CountVectorizer + LogisticRegression Accuracy: 0.998\n",
      "TfidfVectorizer + LogisticRegression Accuracy: 0.971\n",
      "CountVectorizer + Multinomial Naive Bayes:     0.936\n",
      "TfidfVectorizer + Gaussian Naive Bayes:        0.967\n"
     ]
    }
   ],
   "source": [
    "# Check Training Scores across all models\n",
    "print(f'Baseline Score:                                {y_test.value_counts(normalize=True)[0]:.3f}')\n",
    "print(f'CountVectorizer + LogisticRegression Accuracy: {results_cvec.score(X_train, y_train):.3f}')\n",
    "print(f'TfidfVectorizer + LogisticRegression Accuracy: {results_tfidf.score(X_train, y_train):.3f}')\n",
    "print(f'CountVectorizer + Multinomial Naive Bayes:     {results_mnb.score(X_train, y_train):.3f}')\n",
    "print(f'TfidfVectorizer + Gaussian Naive Bayes:        {results_gnb.score(X_train, y_train):.3f}')"
   ]
  },
  {
   "cell_type": "code",
   "execution_count": 84,
   "metadata": {},
   "outputs": [
    {
     "name": "stdout",
     "output_type": "stream",
     "text": [
      "Baseline Score:                                0.610\n",
      "CountVectorizer + LogisticRegression Accuracy: 0.953\n",
      "TfidfVectorizer + LogisticRegression Accuracy: 0.936\n",
      "CountVectorizer + Multinomial Naive Bayes:     0.924\n",
      "TfidfVectorizer + Gaussian Naive Bayes:        0.953\n"
     ]
    }
   ],
   "source": [
    "# Check Testing Scores across all models\n",
    "print(f'Baseline Score:                                {y_test.value_counts(normalize=True)[0]:.3f}')\n",
    "print(f'CountVectorizer + LogisticRegression Accuracy: {results_cvec.score(X_test, y_test):.3f}')\n",
    "print(f'TfidfVectorizer + LogisticRegression Accuracy: {results_tfidf.score(X_test, y_test):.3f}')\n",
    "print(f'CountVectorizer + Multinomial Naive Bayes:     {results_mnb.score(X_test, y_test):.3f}')\n",
    "print(f'TfidfVectorizer + Gaussian Naive Bayes:        {results_gnb.score(X_test, y_test):.3f}')"
   ]
  },
  {
   "cell_type": "code",
   "execution_count": null,
   "metadata": {},
   "outputs": [],
   "source": []
  },
  {
   "cell_type": "markdown",
   "metadata": {},
   "source": [
    "## Model Evaluation"
   ]
  },
  {
   "cell_type": "code",
   "execution_count": 85,
   "metadata": {},
   "outputs": [],
   "source": [
    "# Isolate the individual words and their coefficients\n",
    "# Feature names (i.e., words in the Sentences):\n",
    "names = results_cvec.best_estimator_.steps[0][1].get_feature_names()\n",
    "\n",
    "# classifier (betas):\n",
    "classifier = results_cvec.best_estimator_.named_steps['lr']\n",
    "\n",
    "# https://stackoverflow.com/questions/43856280/return-coefficients-from-pipeline-object-in-sklearn"
   ]
  },
  {
   "cell_type": "code",
   "execution_count": 86,
   "metadata": {},
   "outputs": [
    {
     "data": {
      "text/plain": [
       "[0.06591656439185199,\n",
       " -0.04677821640793433,\n",
       " 0.2320587029097714,\n",
       " 0.36115597632642965,\n",
       " -0.0576661739883037,\n",
       " -0.0576661739883037,\n",
       " 0.2019222745149388,\n",
       " -0.13410135411597182,\n",
       " -0.03434497651578352,\n",
       " -0.09444241995092743]"
      ]
     },
     "execution_count": 86,
     "metadata": {},
     "output_type": "execute_result"
    }
   ],
   "source": [
    "# Extract coefficients from the classifier defined above\n",
    "coef_cvec = np.array(classifier.coef_).tolist()[0]\n",
    "coef_cvec[:10] #Look at 10 coefficients"
   ]
  },
  {
   "cell_type": "code",
   "execution_count": 87,
   "metadata": {},
   "outputs": [],
   "source": [
    "# Create zipped list of the word names with their corresponding beta coefficients\n",
    "cvec_top_words = list(zip(names, coef_cvec))"
   ]
  },
  {
   "cell_type": "code",
   "execution_count": 88,
   "metadata": {},
   "outputs": [],
   "source": [
    "# Create final dataframe of words with their corresponding coefficients\n",
    "df_cvec_coefs = pd.DataFrame(cvec_top_words).rename(columns = {0: 'word', 1: 'coef'}).sort_values(by = 'coef', ascending = True)"
   ]
  },
  {
   "cell_type": "code",
   "execution_count": 89,
   "metadata": {},
   "outputs": [
    {
     "data": {
      "text/html": [
       "<div>\n",
       "<style scoped>\n",
       "    .dataframe tbody tr th:only-of-type {\n",
       "        vertical-align: middle;\n",
       "    }\n",
       "\n",
       "    .dataframe tbody tr th {\n",
       "        vertical-align: top;\n",
       "    }\n",
       "\n",
       "    .dataframe thead th {\n",
       "        text-align: right;\n",
       "    }\n",
       "</style>\n",
       "<table border=\"1\" class=\"dataframe\">\n",
       "  <thead>\n",
       "    <tr style=\"text-align: right;\">\n",
       "      <th></th>\n",
       "      <th>word</th>\n",
       "      <th>coef</th>\n",
       "    </tr>\n",
       "  </thead>\n",
       "  <tbody>\n",
       "    <tr>\n",
       "      <th>265</th>\n",
       "      <td>of cash</td>\n",
       "      <td>0.693289</td>\n",
       "    </tr>\n",
       "    <tr>\n",
       "      <th>380</th>\n",
       "      <td>trigger period</td>\n",
       "      <td>0.658605</td>\n",
       "    </tr>\n",
       "    <tr>\n",
       "      <th>194</th>\n",
       "      <td>is required</td>\n",
       "      <td>0.627216</td>\n",
       "    </tr>\n",
       "    <tr>\n",
       "      <th>30</th>\n",
       "      <td>approved</td>\n",
       "      <td>0.578250</td>\n",
       "    </tr>\n",
       "    <tr>\n",
       "      <th>307</th>\n",
       "      <td>period borrower</td>\n",
       "      <td>0.536048</td>\n",
       "    </tr>\n",
       "    <tr>\n",
       "      <th>83</th>\n",
       "      <td>cure</td>\n",
       "      <td>0.534067</td>\n",
       "    </tr>\n",
       "    <tr>\n",
       "      <th>120</th>\n",
       "      <td>during</td>\n",
       "      <td>0.483705</td>\n",
       "    </tr>\n",
       "    <tr>\n",
       "      <th>284</th>\n",
       "      <td>on each</td>\n",
       "      <td>0.472242</td>\n",
       "    </tr>\n",
       "    <tr>\n",
       "      <th>217</th>\n",
       "      <td>lockbox</td>\n",
       "      <td>0.454808</td>\n",
       "    </tr>\n",
       "    <tr>\n",
       "      <th>31</th>\n",
       "      <td>are</td>\n",
       "      <td>0.451592</td>\n",
       "    </tr>\n",
       "    <tr>\n",
       "      <th>293</th>\n",
       "      <td>other</td>\n",
       "      <td>0.432996</td>\n",
       "    </tr>\n",
       "    <tr>\n",
       "      <th>379</th>\n",
       "      <td>trigger</td>\n",
       "      <td>0.409439</td>\n",
       "    </tr>\n",
       "    <tr>\n",
       "      <th>279</th>\n",
       "      <td>of trigger</td>\n",
       "      <td>0.389363</td>\n",
       "    </tr>\n",
       "    <tr>\n",
       "      <th>280</th>\n",
       "      <td>of trigger period</td>\n",
       "      <td>0.389363</td>\n",
       "    </tr>\n",
       "    <tr>\n",
       "      <th>140</th>\n",
       "      <td>exists</td>\n",
       "      <td>0.375038</td>\n",
       "    </tr>\n",
       "    <tr>\n",
       "      <th>281</th>\n",
       "      <td>on</td>\n",
       "      <td>0.370306</td>\n",
       "    </tr>\n",
       "    <tr>\n",
       "      <th>3</th>\n",
       "      <td>account</td>\n",
       "      <td>0.361156</td>\n",
       "    </tr>\n",
       "    <tr>\n",
       "      <th>26</th>\n",
       "      <td>applicable</td>\n",
       "      <td>0.359922</td>\n",
       "    </tr>\n",
       "    <tr>\n",
       "      <th>359</th>\n",
       "      <td>sweep</td>\n",
       "      <td>0.346284</td>\n",
       "    </tr>\n",
       "    <tr>\n",
       "      <th>230</th>\n",
       "      <td>management agreement</td>\n",
       "      <td>0.339386</td>\n",
       "    </tr>\n",
       "  </tbody>\n",
       "</table>\n",
       "</div>"
      ],
      "text/plain": [
       "                     word      coef\n",
       "265               of cash  0.693289\n",
       "380        trigger period  0.658605\n",
       "194           is required  0.627216\n",
       "30               approved  0.578250\n",
       "307       period borrower  0.536048\n",
       "83                   cure  0.534067\n",
       "120                during  0.483705\n",
       "284               on each  0.472242\n",
       "217               lockbox  0.454808\n",
       "31                    are  0.451592\n",
       "293                 other  0.432996\n",
       "379               trigger  0.409439\n",
       "279            of trigger  0.389363\n",
       "280     of trigger period  0.389363\n",
       "140                exists  0.375038\n",
       "281                    on  0.370306\n",
       "3                 account  0.361156\n",
       "26             applicable  0.359922\n",
       "359                 sweep  0.346284\n",
       "230  management agreement  0.339386"
      ]
     },
     "execution_count": 89,
     "metadata": {},
     "output_type": "execute_result"
    }
   ],
   "source": [
    "# Top differentiating words and phrases for this Trigger type\n",
    "df_cvec_coefs.tail(20).sort_values('coef', ascending = False)"
   ]
  },
  {
   "cell_type": "code",
   "execution_count": 90,
   "metadata": {},
   "outputs": [
    {
     "data": {
      "text/html": [
       "<div>\n",
       "<style scoped>\n",
       "    .dataframe tbody tr th:only-of-type {\n",
       "        vertical-align: middle;\n",
       "    }\n",
       "\n",
       "    .dataframe tbody tr th {\n",
       "        vertical-align: top;\n",
       "    }\n",
       "\n",
       "    .dataframe thead th {\n",
       "        text-align: right;\n",
       "    }\n",
       "</style>\n",
       "<table border=\"1\" class=\"dataframe\">\n",
       "  <thead>\n",
       "    <tr style=\"text-align: right;\">\n",
       "      <th></th>\n",
       "      <th>word</th>\n",
       "      <th>coef</th>\n",
       "    </tr>\n",
       "  </thead>\n",
       "  <tbody>\n",
       "    <tr>\n",
       "      <th>167</th>\n",
       "      <td>hotel</td>\n",
       "      <td>-1.035662</td>\n",
       "    </tr>\n",
       "    <tr>\n",
       "      <th>93</th>\n",
       "      <td>default</td>\n",
       "      <td>-1.011180</td>\n",
       "    </tr>\n",
       "    <tr>\n",
       "      <th>134</th>\n",
       "      <td>event of default</td>\n",
       "      <td>-0.999424</td>\n",
       "    </tr>\n",
       "    <tr>\n",
       "      <th>267</th>\n",
       "      <td>of default</td>\n",
       "      <td>-0.999415</td>\n",
       "    </tr>\n",
       "    <tr>\n",
       "      <th>309</th>\n",
       "      <td>period or</td>\n",
       "      <td>-0.991355</td>\n",
       "    </tr>\n",
       "    <tr>\n",
       "      <th>133</th>\n",
       "      <td>event of</td>\n",
       "      <td>-0.726916</td>\n",
       "    </tr>\n",
       "    <tr>\n",
       "      <th>132</th>\n",
       "      <td>event</td>\n",
       "      <td>-0.718143</td>\n",
       "    </tr>\n",
       "    <tr>\n",
       "      <th>251</th>\n",
       "      <td>no</td>\n",
       "      <td>-0.692095</td>\n",
       "    </tr>\n",
       "    <tr>\n",
       "      <th>118</th>\n",
       "      <td>due</td>\n",
       "      <td>-0.683921</td>\n",
       "    </tr>\n",
       "    <tr>\n",
       "      <th>89</th>\n",
       "      <td>debt</td>\n",
       "      <td>-0.623922</td>\n",
       "    </tr>\n",
       "    <tr>\n",
       "      <th>234</th>\n",
       "      <td>mezzanine</td>\n",
       "      <td>-0.567770</td>\n",
       "    </tr>\n",
       "    <tr>\n",
       "      <th>91</th>\n",
       "      <td>debt yield</td>\n",
       "      <td>-0.527010</td>\n",
       "    </tr>\n",
       "    <tr>\n",
       "      <th>398</th>\n",
       "      <td>yield</td>\n",
       "      <td>-0.527010</td>\n",
       "    </tr>\n",
       "    <tr>\n",
       "      <th>335</th>\n",
       "      <td>reserve</td>\n",
       "      <td>-0.515380</td>\n",
       "    </tr>\n",
       "    <tr>\n",
       "      <th>43</th>\n",
       "      <td>as of</td>\n",
       "      <td>-0.506403</td>\n",
       "    </tr>\n",
       "    <tr>\n",
       "      <th>336</th>\n",
       "      <td>reserve account</td>\n",
       "      <td>-0.487705</td>\n",
       "    </tr>\n",
       "    <tr>\n",
       "      <th>16</th>\n",
       "      <td>an</td>\n",
       "      <td>-0.478465</td>\n",
       "    </tr>\n",
       "    <tr>\n",
       "      <th>365</th>\n",
       "      <td>tenant</td>\n",
       "      <td>-0.475102</td>\n",
       "    </tr>\n",
       "    <tr>\n",
       "      <th>362</th>\n",
       "      <td>tax</td>\n",
       "      <td>-0.465426</td>\n",
       "    </tr>\n",
       "    <tr>\n",
       "      <th>191</th>\n",
       "      <td>into which</td>\n",
       "      <td>-0.454234</td>\n",
       "    </tr>\n",
       "  </tbody>\n",
       "</table>\n",
       "</div>"
      ],
      "text/plain": [
       "                 word      coef\n",
       "167             hotel -1.035662\n",
       "93            default -1.011180\n",
       "134  event of default -0.999424\n",
       "267        of default -0.999415\n",
       "309         period or -0.991355\n",
       "133          event of -0.726916\n",
       "132             event -0.718143\n",
       "251                no -0.692095\n",
       "118               due -0.683921\n",
       "89               debt -0.623922\n",
       "234         mezzanine -0.567770\n",
       "91         debt yield -0.527010\n",
       "398             yield -0.527010\n",
       "335           reserve -0.515380\n",
       "43              as of -0.506403\n",
       "336   reserve account -0.487705\n",
       "16                 an -0.478465\n",
       "365            tenant -0.475102\n",
       "362               tax -0.465426\n",
       "191        into which -0.454234"
      ]
     },
     "execution_count": 90,
     "metadata": {},
     "output_type": "execute_result"
    }
   ],
   "source": [
    "# Display top opposing words and phrases for this Trigger type\n",
    "df_cvec_coefs.head(20)"
   ]
  },
  {
   "cell_type": "code",
   "execution_count": 104,
   "metadata": {},
   "outputs": [
    {
     "data": {
      "image/png": "[encoded data removed]",
      "text/plain": [
       "<Figure size 720x576 with 1 Axes>"
      ]
     },
     "metadata": {},
     "output_type": "display_data"
    }
   ],
   "source": [
    "def coef_plot(category):\n",
    "    '''\n",
    "    Plots the top 10 and bottom 10 coefficients for the complexity category specified\n",
    "    '''\n",
    "    coefs_1 = df_cvec_coefs.sort_values(by=category, ascending=False).tail(10) # getting the top 10 coefficients\n",
    "    coefs_2 = df_cvec_coefs.sort_values(by=category, ascending=False).head(10) # getting the bottom 10 coefficients\n",
    "    coefs = pd.concat([coefs_2, coefs_1], axis = 0) # merging the two into one\n",
    "    # plotting importance\n",
    "    plt.figure(figsize=(10, 8)) # plotting the coefficients\n",
    "    plt.title(f'Feature Coefficients for Unspecified Triggers', fontsize=25)\n",
    "    sns.set_style(\"darkgrid\")\n",
    "    sns.barplot(data=coefs,\n",
    "                x=category,\n",
    "                y='word',\n",
    "                orient='h',\n",
    "                palette = 'PuBuGn_d')\n",
    "    plt.xlabel('coefficient', fontsize=15)\n",
    "    plt.ylabel('feature', fontsize=15)\n",
    "    plt.tick_params(labelsize=15)\n",
    "coef_plot('coef')"
   ]
  },
  {
   "cell_type": "code",
   "execution_count": null,
   "metadata": {},
   "outputs": [],
   "source": []
  },
  {
   "cell_type": "code",
   "execution_count": null,
   "metadata": {},
   "outputs": [],
   "source": []
  },
  {
   "cell_type": "code",
   "execution_count": null,
   "metadata": {},
   "outputs": [],
   "source": []
  },
  {
   "cell_type": "markdown",
   "metadata": {},
   "source": [
    "### Calculating predictions and Confusion Matrix"
   ]
  },
  {
   "cell_type": "code",
   "execution_count": 92,
   "metadata": {},
   "outputs": [],
   "source": [
    "# Here, we isolate our best model & make predictions based on our test data\n",
    "best_model = results_cvec.best_estimator_\n",
    "preds = best_model.predict(X_test)"
   ]
  },
  {
   "cell_type": "code",
   "execution_count": 93,
   "metadata": {},
   "outputs": [
    {
     "data": {
      "text/plain": [
       "array([0, 0, 0, 0, 0, 1, 0, 1, 0, 0])"
      ]
     },
     "execution_count": 93,
     "metadata": {},
     "output_type": "execute_result"
    }
   ],
   "source": [
    "# Checking our predictions\n",
    "preds[:10]"
   ]
  },
  {
   "cell_type": "code",
   "execution_count": 94,
   "metadata": {},
   "outputs": [
    {
     "name": "stdout",
     "output_type": "stream",
     "text": [
      "This is a confusion matrix for our test data vs predictions:\n",
      "[[101   4]\n",
      " [  4  63]]\n"
     ]
    }
   ],
   "source": [
    "## Create a confusion matrix\n",
    "from sklearn.metrics import confusion_matrix\n",
    "cm_test = confusion_matrix(y_test, preds)\n",
    "print('This is a confusion matrix for our test data vs predictions:')\n",
    "print(cm_test)"
   ]
  },
  {
   "cell_type": "code",
   "execution_count": 95,
   "metadata": {},
   "outputs": [],
   "source": [
    "# Converting our confusion matrix into a dataframe\n",
    "cm_test = pd.DataFrame(cm_test, columns=['Predicted Negative','Predicted Positive'], \n",
    "                       index=['Actual Negative','Actual Positive'])"
   ]
  },
  {
   "cell_type": "code",
   "execution_count": 96,
   "metadata": {},
   "outputs": [
    {
     "data": {
      "text/html": [
       "<div>\n",
       "<style scoped>\n",
       "    .dataframe tbody tr th:only-of-type {\n",
       "        vertical-align: middle;\n",
       "    }\n",
       "\n",
       "    .dataframe tbody tr th {\n",
       "        vertical-align: top;\n",
       "    }\n",
       "\n",
       "    .dataframe thead th {\n",
       "        text-align: right;\n",
       "    }\n",
       "</style>\n",
       "<table border=\"1\" class=\"dataframe\">\n",
       "  <thead>\n",
       "    <tr style=\"text-align: right;\">\n",
       "      <th></th>\n",
       "      <th>Predicted Negative</th>\n",
       "      <th>Predicted Positive</th>\n",
       "    </tr>\n",
       "  </thead>\n",
       "  <tbody>\n",
       "    <tr>\n",
       "      <th>Actual Negative</th>\n",
       "      <td>101</td>\n",
       "      <td>4</td>\n",
       "    </tr>\n",
       "    <tr>\n",
       "      <th>Actual Positive</th>\n",
       "      <td>4</td>\n",
       "      <td>63</td>\n",
       "    </tr>\n",
       "  </tbody>\n",
       "</table>\n",
       "</div>"
      ],
      "text/plain": [
       "                 Predicted Negative  Predicted Positive\n",
       "Actual Negative                 101                   4\n",
       "Actual Positive                   4                  63"
      ]
     },
     "execution_count": 96,
     "metadata": {},
     "output_type": "execute_result"
    }
   ],
   "source": [
    "cm_test"
   ]
  },
  {
   "cell_type": "code",
   "execution_count": 97,
   "metadata": {},
   "outputs": [
    {
     "data": {
      "image/png": "[encoded data removed]",
      "text/plain": [
       "<Figure size 432x432 with 1 Axes>"
      ]
     },
     "metadata": {},
     "output_type": "display_data"
    }
   ],
   "source": [
    "# Plot our confusion matrix\n",
    "plt.figure(figsize = (6,6))\n",
    "ax = plt.subplot()\n",
    "sns.heatmap(cm_test, \n",
    "            annot=True, \n",
    "            ax = ax, \n",
    "            fmt='g', \n",
    "            cbar=False,\n",
    "            cmap=\"Blues\"); #annot=True to annotate cells\n",
    "\n",
    "# labels, title and ticks\n",
    "ax.set_title('Confusion Matrix - Trigger Prediction', size=16)\n",
    "ax.set_xlabel('Predicted', size=14)\n",
    "ax.set_ylabel('Actual', size=14)\n",
    "ax.xaxis.set_ticklabels(['Negative', 'Positive'])\n",
    "ax.yaxis.set_ticklabels(['Negative', 'Positive']);"
   ]
  },
  {
   "cell_type": "code",
   "execution_count": 98,
   "metadata": {},
   "outputs": [],
   "source": [
    "# Setting up probabilities for the ROC curve\n",
    "pred_proba = results_cvec.predict_proba(X_test)\n",
    "preds = results_cvec.predict(X_test)"
   ]
  },
  {
   "cell_type": "code",
   "execution_count": 99,
   "metadata": {},
   "outputs": [
    {
     "data": {
      "image/png": "[encoded data removed]",
      "text/plain": [
       "<Figure size 576x576 with 1 Axes>"
      ]
     },
     "metadata": {},
     "output_type": "display_data"
    }
   ],
   "source": [
    "fpr, tpr, _= roc_curve(y_test, pred_proba[:,1])\n",
    "roc_auc = auc(fpr, tpr)\n",
    "# Plot of a ROC curve for a specific class\n",
    "plt.figure(figsize = (8,8))\n",
    "plt.plot(fpr, tpr, label='ROC curve (area = %0.4f)' % roc_auc)\n",
    "plt.plot([0, 1], [0, 1], 'k--', label='baseline')\n",
    "plt.xlim([-0.01, 1.0])\n",
    "plt.ylim([0.0, 1.01])\n",
    "plt.xlabel('False Positive Rate', fontsize =20)\n",
    "plt.ylabel('True Positive Rate', fontsize = 20)\n",
    "plt.title('Receiver Operating Characteristic Curve', fontsize=18)\n",
    "plt.legend(loc=\"lower right\");"
   ]
  },
  {
   "cell_type": "code",
   "execution_count": 100,
   "metadata": {},
   "outputs": [],
   "source": [
    "# To allow us to better read the Sentences\n",
    "pd.set_option('display.max_colwidth', None)"
   ]
  },
  {
   "cell_type": "code",
   "execution_count": 101,
   "metadata": {},
   "outputs": [
    {
     "data": {
      "text/html": [
       "<div>\n",
       "<style scoped>\n",
       "    .dataframe tbody tr th:only-of-type {\n",
       "        vertical-align: middle;\n",
       "    }\n",
       "\n",
       "    .dataframe tbody tr th {\n",
       "        vertical-align: top;\n",
       "    }\n",
       "\n",
       "    .dataframe thead th {\n",
       "        text-align: right;\n",
       "    }\n",
       "</style>\n",
       "<table border=\"1\" class=\"dataframe\">\n",
       "  <thead>\n",
       "    <tr style=\"text-align: right;\">\n",
       "      <th></th>\n",
       "      <th>prediction</th>\n",
       "      <th>actual</th>\n",
       "      <th>Sentence</th>\n",
       "    </tr>\n",
       "  </thead>\n",
       "  <tbody>\n",
       "    <tr>\n",
       "      <th>0</th>\n",
       "      <td>0</td>\n",
       "      <td>0</td>\n",
       "      <td>“Mezzanine Loan Default” means an “Event of Default” under the Mezzanine Loan documents.</td>\n",
       "    </tr>\n",
       "    <tr>\n",
       "      <th>1</th>\n",
       "      <td>0</td>\n",
       "      <td>0</td>\n",
       "      <td>Provided that no Mortgage Loan Event of Default is continuing, the lender will release to the Borrowers’ operating account all amounts then contained in the Excess Cash Flow Reserve Account on the first Payment Date following termination of a Cash Sweep Period.</td>\n",
       "    </tr>\n",
       "    <tr>\n",
       "      <th>2</th>\n",
       "      <td>0</td>\n",
       "      <td>0</td>\n",
       "      <td>Mortgage Lender will disburse to the Borrower the Leasing Reserve Funds upon satisfaction by the Borrower of each of the following conditions: (i) the Borrower will submit a request for payment to Mortgage Lender at least 10 Business Days prior to the date on which the Borrower requests such payment be made and specifies the Approved Leasing Costs to be paid; (ii) on the date such request is received by Mortgage Lender and on the date such payment is to be made, no Mortgage Loan Event of Default will exist and remain uncured; and (iii) Mortgage Lender will have received a certificate from the Borrower stating either that such tenant improvement payment is required to be paid to the tenant under its Lease or, otherwise, (A) stating that the items to be funded by the requested disbursement are Approved Leasing Costs, (B) stating to the Borrower’s knowledge, that all tenant improvements at the Property to be funded by the requested disbursement have been completed (or completed to the extent of the requested disbursement) in good and workmanlike manner and in accordance with all applicable federal, state and local laws, rules and regulations, and (C) stating that each Person that supplied materials or labor in connection with the tenant improvements to be funded by the requested disbursement has been paid in full for work completed through such date or will be paid in full upon such disbursement (or if progress payments are being made, that such Person has been or will be paid all amounts owed to them based on the work such Person has completed); (iv) at Mortgage Lender’s option, if the amount of any individual disbursement of Leasing Reserve Funds exceeds $250,000, a title search for the Property indicating that the Property is free from all liens, claims and other encumbrances not previously approved by Mortgage Lender; and (v) Mortgage Lender will have received such other evidence as Mortgage Lender will reasonably request that the Approved Leasing Costs to be funded by the requested disbursement have been completed (to the extent applicable), are due and payable and are paid for or will be paid upon such disbursement to the Borrower.</td>\n",
       "    </tr>\n",
       "    <tr>\n",
       "      <th>3</th>\n",
       "      <td>0</td>\n",
       "      <td>0</td>\n",
       "      <td>A “Trigger Period” will commence upon the occurrence of (i) an event of default, (ii) a low debt yield trigger period or (iii) the commencement of an event of default under the Mezzanine Loan; and will end if, (A) with respect to a Trigger Period continuing pursuant to clause (i), the event of default commencing the Trigger Period has been cured and such cure has been accepted by the lender (and no other event of default is then continuing), (B) with respect to a Trigger Period continuing pursuant to clause (ii), the low debt yield trigger period has ended or (C) with respect to a Trigger Period continuing pursuant to clause (iii), receipt by the lender of a mezzanine loan default revocation notice.</td>\n",
       "    </tr>\n",
       "    <tr>\n",
       "      <th>4</th>\n",
       "      <td>0</td>\n",
       "      <td>0</td>\n",
       "      <td>“Low Cash Flow Period” means a period: (a) commencing upon the Debt Yield (tested quarterly) falling below (A) six percent (6.0%) during the initial term of the Whole Loan or the first, second or third Extension Period or (B) six and one-half percent (6.50%) during the fourth or fifth Extension Period, in each case for any two (2) consecutive fiscal quarters; and (b) expiring upon the date that the Debt Yield (tested quarterly) is equal to or greater than (A) six percent (6.00%) during the initial term of the Whole Loan or the first, second or third Extension Period or (B) six and one-half percent (6.50%) during the fourth or fifth Extension Period, in each case for any two (2) consecutive fiscal quarters.</td>\n",
       "    </tr>\n",
       "  </tbody>\n",
       "</table>\n",
       "</div>"
      ],
      "text/plain": [
       "   prediction  actual  \\\n",
       "0           0       0   \n",
       "1           0       0   \n",
       "2           0       0   \n",
       "3           0       0   \n",
       "4           0       0   \n",
       "\n",
       "                                                                                                                                                                                                                                                                                                                                                                                                                                                                                                                                                                                                                                                                                                                                                                                                                                                                                                                                                                                                                                                                                                                                                                                                                                                                                                                                                                                                                                                                                                                                                                                                                                                                                                                                                                                                                                                                                                                                                                                                                                                                                                                                                                                                                                                       Sentence  \n",
       "0                                                                                                                                                                                                                                                                                                                                                                                                                                                                                                                                                                                                                                                                                                                                                                                                                                                                                                                                                                                                                                                                                                                                                                                                                                                                                                                                                                                                                                                                                                                                                                                                                                                                                                                                                                                                                                                                                                                                                                                                                                                                                                                                                                      “Mezzanine Loan Default” means an “Event of Default” under the Mezzanine Loan documents.  \n",
       "1                                                                                                                                                                                                                                                                                                                                                                                                                                                                                                                                                                                                                                                                                                                                                                                                                                                                                                                                                                                                                                                                                                                                                                                                                                                                                                                                                                                                                                                                                                                                                                                                                                                                                                                                                                                                                                                                                                                                                                                         Provided that no Mortgage Loan Event of Default is continuing, the lender will release to the Borrowers’ operating account all amounts then contained in the Excess Cash Flow Reserve Account on the first Payment Date following termination of a Cash Sweep Period.  \n",
       "2  Mortgage Lender will disburse to the Borrower the Leasing Reserve Funds upon satisfaction by the Borrower of each of the following conditions: (i) the Borrower will submit a request for payment to Mortgage Lender at least 10 Business Days prior to the date on which the Borrower requests such payment be made and specifies the Approved Leasing Costs to be paid; (ii) on the date such request is received by Mortgage Lender and on the date such payment is to be made, no Mortgage Loan Event of Default will exist and remain uncured; and (iii) Mortgage Lender will have received a certificate from the Borrower stating either that such tenant improvement payment is required to be paid to the tenant under its Lease or, otherwise, (A) stating that the items to be funded by the requested disbursement are Approved Leasing Costs, (B) stating to the Borrower’s knowledge, that all tenant improvements at the Property to be funded by the requested disbursement have been completed (or completed to the extent of the requested disbursement) in good and workmanlike manner and in accordance with all applicable federal, state and local laws, rules and regulations, and (C) stating that each Person that supplied materials or labor in connection with the tenant improvements to be funded by the requested disbursement has been paid in full for work completed through such date or will be paid in full upon such disbursement (or if progress payments are being made, that such Person has been or will be paid all amounts owed to them based on the work such Person has completed); (iv) at Mortgage Lender’s option, if the amount of any individual disbursement of Leasing Reserve Funds exceeds $250,000, a title search for the Property indicating that the Property is free from all liens, claims and other encumbrances not previously approved by Mortgage Lender; and (v) Mortgage Lender will have received such other evidence as Mortgage Lender will reasonably request that the Approved Leasing Costs to be funded by the requested disbursement have been completed (to the extent applicable), are due and payable and are paid for or will be paid upon such disbursement to the Borrower.  \n",
       "3                                                                                                                                                                                                                                                                                                                                                                                                                                                                                                                                                                                                                                                                                                                                                                                                                                                                                                                                                                                                                                                                                                                                                                                                                                                                                                                                                                                                                                                                                                                          A “Trigger Period” will commence upon the occurrence of (i) an event of default, (ii) a low debt yield trigger period or (iii) the commencement of an event of default under the Mezzanine Loan; and will end if, (A) with respect to a Trigger Period continuing pursuant to clause (i), the event of default commencing the Trigger Period has been cured and such cure has been accepted by the lender (and no other event of default is then continuing), (B) with respect to a Trigger Period continuing pursuant to clause (ii), the low debt yield trigger period has ended or (C) with respect to a Trigger Period continuing pursuant to clause (iii), receipt by the lender of a mezzanine loan default revocation notice.  \n",
       "4                                                                                                                                                                                                                                                                                                                                                                                                                                                                                                                                                                                                                                                                                                                                                                                                                                                                                                                                                                                                                                                                                                                                                                                                                                                                                                                                                                                                                                                                                                                   “Low Cash Flow Period” means a period: (a) commencing upon the Debt Yield (tested quarterly) falling below (A) six percent (6.0%) during the initial term of the Whole Loan or the first, second or third Extension Period or (B) six and one-half percent (6.50%) during the fourth or fifth Extension Period, in each case for any two (2) consecutive fiscal quarters; and (b) expiring upon the date that the Debt Yield (tested quarterly) is equal to or greater than (A) six percent (6.00%) during the initial term of the Whole Loan or the first, second or third Extension Period or (B) six and one-half percent (6.50%) during the fourth or fifth Extension Period, in each case for any two (2) consecutive fiscal quarters.  "
      ]
     },
     "execution_count": 101,
     "metadata": {},
     "output_type": "execute_result"
    }
   ],
   "source": [
    "result_cols = ['prediction', 'actual', 'Sentence']\n",
    "results = pd.DataFrame({'prediction': list(preds), 'actual': list(y_test), 'Sentence': list(X_test)})\n"
   ]
  },
  {
   "cell_type": "code",
   "execution_count": 102,
   "metadata": {},
   "outputs": [],
   "source": [
    "misclassified = results[results['prediction'] != results['actual']]\n"
   ]
  },
  {
   "cell_type": "code",
   "execution_count": 103,
   "metadata": {},
   "outputs": [
    {
     "data": {
      "text/html": [
       "<div>\n",
       "<style scoped>\n",
       "    .dataframe tbody tr th:only-of-type {\n",
       "        vertical-align: middle;\n",
       "    }\n",
       "\n",
       "    .dataframe tbody tr th {\n",
       "        vertical-align: top;\n",
       "    }\n",
       "\n",
       "    .dataframe thead th {\n",
       "        text-align: right;\n",
       "    }\n",
       "</style>\n",
       "<table border=\"1\" class=\"dataframe\">\n",
       "  <thead>\n",
       "    <tr style=\"text-align: right;\">\n",
       "      <th></th>\n",
       "      <th>prediction</th>\n",
       "      <th>actual</th>\n",
       "      <th>Sentence</th>\n",
       "    </tr>\n",
       "  </thead>\n",
       "  <tbody>\n",
       "    <tr>\n",
       "      <th>19</th>\n",
       "      <td>1</td>\n",
       "      <td>0</td>\n",
       "      <td>During the continuance of a Cash Management Period (other than one caused by an Event of Default), the Cash Management Bank will be required to withdraw all available funds on deposit in the Cash Management Account on each Business Day and disburse such funds in the following amounts and order of priority: (i) first, to the tax subaccount of the Cash Management Account, an amount sufficient to fund the required monthly deposit for payment of taxes; (ii) second, unless the Property is covered by a blanket insurance policy, to the insurance subaccount of the Cash Management Account, an amount sufficient to fund the required monthly deposit for payment of insurance premiums; (iii) third, to the debt service subaccount of the Cash Management Account, the amount of any interest accruing at the Default Rate and late payment charges; (iv) fourth, to the debt service subaccount of the Cash Management Account, the monthly debt service amount (provided during the Extension Term this shall only be the interest calculated at the Initial Interest Rate and the Initial B Note Interest Rate); (v) fifth, to the Cash Management Bank, the Cash Management Bank’s fees; (vi) sixth, during a Cash Trap Period (and at all times during the Extension Term), to the Borrowers, an amount equal to the operating expenses reasonably approved by the Lender for the month in which such Loan Payment Date occurs; (vii) seventh, to the capital expenditure subaccount of the Cash Management Account, a monthly amount equal to $24,369.30; (viii) eighth, to the rollover subaccount of the Cash Management Account, a monthly amount equal to $182,770.75; (ix) ninth, other than during the Extension Term, during a Cash Trap Period, to the excess cash flow account, all amounts remaining in the Cash Management Account after deposits for items (i) through (vii) above; (x) tenth, other than during the Extension Term, provided a Cash Trap Period is not then continuing, all amounts remaining in the Cash Management Account after deposits for items (i) through (ix) above will be disbursed to the Borrowers; (xi) eleventh, during the Extension Term, funds sufficient to pay the remaining portion of the monthly debt service amount; (xii) twelfth, during the Extension Term, all amounts remaining in the Cash Management Account after deposits for items (i) through (xi) above (the “Available Cash Flow”) shall pay any outstanding Excess Interest then due and payable; and (xiii) thirteenth, during the Extension Term, all amounts remaining in the Cash Management Account after deposits for items (i) through (xii) above shall be applied to repay the outstanding principal balance of the Whole Loan on a pari passu basis.</td>\n",
       "    </tr>\n",
       "    <tr>\n",
       "      <th>52</th>\n",
       "      <td>0</td>\n",
       "      <td>1</td>\n",
       "      <td>On each Mortgage Loan Payment Date during the continuance of a Cash Sweep Period, the Borrower must pay to the Mortgage Lender one-twelfth of the rents (including both base and additional rents) and other charges due under each Ground Lease that the Mortgage Lender estimates will be payable by the Borrower as lessee under the related Ground Lease (the account into which such funds are deposited, the “Ground Lease Reserve Account”) during the ensuing twelve (12) months in order to accumulate with the Mortgage Lender sufficient funds to pay all such ground rent at least thirty (30) days prior to the respective due dates, provided that, to the extent ground rent is reserved for in the Manager Reserve Account maintained by the Property Manager pursuant to the Management Agreement (or an Approved Replacement Manager pursuant to an Approved Replacement Management Agreement) or is timely paid by the Property Manager pursuant to the Management Agreement (or an Approved Replacement Manager pursuant to an Approved Replacement Management Agreement) and the Borrower delivers to the Mortgage Lender evidence reasonably acceptable to the Mortgage Lender that such Property Manager is holding such funds and making the required payments of ground rent in accordance with the Ground Leases (which evidence may include, a monthly report delivered to the Mortgage Lender in accordance with the Mortgage Loan Agreement that confirms the amounts being held in the Manager Reserve Account and that the required monthly ground rent has been paid) and there is then no event of default continuing under the Management Agreement, the Borrower will not be required to deposit amounts required hereunder for the Ground Lease Reserve Fund hereunder for such month.</td>\n",
       "    </tr>\n",
       "    <tr>\n",
       "      <th>53</th>\n",
       "      <td>0</td>\n",
       "      <td>1</td>\n",
       "      <td>Any Excess Cash Flow Reserve Funds remaining on deposit in the Excess Cash Flow Reserve Account upon the occurrence of a Cash Trap Event Cure will be paid (i) provided a Cash Trap Period (as defined in the Mezzanine Loan Agreement) under the Mezzanine Loan is then continuing or any amounts are then due and payable to Mezzanine Lender, to Mezzanine Lender to be held by Mezzanine Lender pursuant to the Mezzanine Loan Agreement for the purposes described therein and (ii) if the Mezzanine Loan is no longer outstanding or if there does not then exist a Cash Trap Period (as defined in the Mezzanine Loan Agreement) under the Mezzanine Loan and all amounts due and payable to the Mezzanine Lender have been paid, to Borrower.</td>\n",
       "    </tr>\n",
       "    <tr>\n",
       "      <th>106</th>\n",
       "      <td>0</td>\n",
       "      <td>1</td>\n",
       "      <td>No reserve accounts were funded by the Borrowers at origination; however, monthly deposits to certain reserve accounts will be required during the continuance of a Cash Management Period or upon the Borrower’s receipt of certain lease termination fees.</td>\n",
       "    </tr>\n",
       "    <tr>\n",
       "      <th>112</th>\n",
       "      <td>1</td>\n",
       "      <td>0</td>\n",
       "      <td>All funds on deposit in the Cash Management Account will be applied by the lender on each business day (provided no Mortgage Loan Event of Default is continuing) in the following order of priority (and as such defined terms are used in the Offering Circular): First, during a Cash Sweep Period, to the Tax and Insurance Reserve Account, the amount required to be deposited in such account as described under “Monthly Reserves” below; Second, during a Cash Sweep Period, to the Ground Rent Reserve Account, the amount required to be deposited in such account as described under “Monthly Reserves” below; Third, to the lender, the amount of all interest then due and payable on the Mortgage Loan and all other amounts then due and payable under the Mortgage Loan Documents; Fourth, during a Cash Sweep Period, payment to the Borrower for monthly cash expenses incurred in accordance with the related Approved Annual Budget pursuant to a written request for payment submitted by the Borrower to the lender specifying the individual cash expenses in a form acceptable to the lender; Fifth, during a Cash Sweep Period, payment to the Borrower for extraordinary expenses approved by the lender; Sixth, during a Cash Sweep Period, all remaining amounts to the Excess Cash Flow Reserve Account; and Lastly, if no Cash Sweep Period Exists, the remainder, if any, to the Borrower.</td>\n",
       "    </tr>\n",
       "    <tr>\n",
       "      <th>132</th>\n",
       "      <td>0</td>\n",
       "      <td>1</td>\n",
       "      <td>Following the termination of the Trigger Period (determined without consideration of the Partial Payment Guaranty) and provided no subsequent Trigger Period resulting from a separate event has occurred which has not been cured, the Partial Payment Guaranty will be deemed of no further force and effect and Mortgage Lender will, at Borrower’s request, return to Borrower the Partial Payment Guaranty.</td>\n",
       "    </tr>\n",
       "    <tr>\n",
       "      <th>143</th>\n",
       "      <td>1</td>\n",
       "      <td>0</td>\n",
       "      <td>In the event Borrower delivers to Mortgage Lender a Partial Payment Guaranty and thereafter the Aggregate Debt Yield falls below the Threshold Debt Yield (determined without consideration of the Partial Payment Guaranty), then, (a) a Trigger Period will be deemed to exist (notwithstanding the delivery of the Partial Payment Guaranty) and the cash management provisions of the Mortgage Loan Agreement which are applicable during the occurrence and continuance of a Trigger Period (including those applicable during a Reserve Waiver Revocation Event Period commencing as a result of a Trigger Period) will apply and (b) the Partial Payment Guaranty will remain in full force and effect.</td>\n",
       "    </tr>\n",
       "    <tr>\n",
       "      <th>171</th>\n",
       "      <td>1</td>\n",
       "      <td>0</td>\n",
       "      <td>Upon the commencement of any Reserve Waiver Revocation Event Period, Borrower (i) will be required to make the Monthly Ground Rent Deposits on each Payment Date commencing on the first Payment Date following the commencement of the Reserve Waiver Revocation Event Period and (ii) on the first Payment Date following the commencement of the Reserve Waiver Revocation Event Period, Borrower is obligated make a True Up Payment such that there will be sufficient funds, when added to the monthly deposits to be deposited with Mortgage Lender on each Payment Date thereafter, to accumulate sufficient funds to pay all Ground Rent at least 10 days prior to the date such Ground Rent is due.</td>\n",
       "    </tr>\n",
       "  </tbody>\n",
       "</table>\n",
       "</div>"
      ],
      "text/plain": [
       "     prediction  actual  \\\n",
       "19            1       0   \n",
       "52            0       1   \n",
       "53            0       1   \n",
       "106           0       1   \n",
       "112           1       0   \n",
       "132           0       1   \n",
       "143           1       0   \n",
       "171           1       0   \n",
       "\n",
       "                                                                                                                                                                                                                                                                                                                                                                                                                                                                                                                                                                                                                                                                                                                                                                                                                                                                                                                                                                                                                                                                                                                                                                                                                                                                                                                                                                                                                                                                                                                                                                                                                                                                                                                                                                                                                                                                                                                                                                                                                                                                                                                                                                                                                                                                                                                                                                                                                                                                                                                                                                                                                                                                                                                                                                                                      Sentence  \n",
       "19   During the continuance of a Cash Management Period (other than one caused by an Event of Default), the Cash Management Bank will be required to withdraw all available funds on deposit in the Cash Management Account on each Business Day and disburse such funds in the following amounts and order of priority: (i) first, to the tax subaccount of the Cash Management Account, an amount sufficient to fund the required monthly deposit for payment of taxes; (ii) second, unless the Property is covered by a blanket insurance policy, to the insurance subaccount of the Cash Management Account, an amount sufficient to fund the required monthly deposit for payment of insurance premiums; (iii) third, to the debt service subaccount of the Cash Management Account, the amount of any interest accruing at the Default Rate and late payment charges; (iv) fourth, to the debt service subaccount of the Cash Management Account, the monthly debt service amount (provided during the Extension Term this shall only be the interest calculated at the Initial Interest Rate and the Initial B Note Interest Rate); (v) fifth, to the Cash Management Bank, the Cash Management Bank’s fees; (vi) sixth, during a Cash Trap Period (and at all times during the Extension Term), to the Borrowers, an amount equal to the operating expenses reasonably approved by the Lender for the month in which such Loan Payment Date occurs; (vii) seventh, to the capital expenditure subaccount of the Cash Management Account, a monthly amount equal to $24,369.30; (viii) eighth, to the rollover subaccount of the Cash Management Account, a monthly amount equal to $182,770.75; (ix) ninth, other than during the Extension Term, during a Cash Trap Period, to the excess cash flow account, all amounts remaining in the Cash Management Account after deposits for items (i) through (vii) above; (x) tenth, other than during the Extension Term, provided a Cash Trap Period is not then continuing, all amounts remaining in the Cash Management Account after deposits for items (i) through (ix) above will be disbursed to the Borrowers; (xi) eleventh, during the Extension Term, funds sufficient to pay the remaining portion of the monthly debt service amount; (xii) twelfth, during the Extension Term, all amounts remaining in the Cash Management Account after deposits for items (i) through (xi) above (the “Available Cash Flow”) shall pay any outstanding Excess Interest then due and payable; and (xiii) thirteenth, during the Extension Term, all amounts remaining in the Cash Management Account after deposits for items (i) through (xii) above shall be applied to repay the outstanding principal balance of the Whole Loan on a pari passu basis.  \n",
       "52                                                                                                                                                                                                                                                                                                                                                                                                                                                                                                                                                                                                                                                                                                                                                                                                                                                                                                                                                                                  On each Mortgage Loan Payment Date during the continuance of a Cash Sweep Period, the Borrower must pay to the Mortgage Lender one-twelfth of the rents (including both base and additional rents) and other charges due under each Ground Lease that the Mortgage Lender estimates will be payable by the Borrower as lessee under the related Ground Lease (the account into which such funds are deposited, the “Ground Lease Reserve Account”) during the ensuing twelve (12) months in order to accumulate with the Mortgage Lender sufficient funds to pay all such ground rent at least thirty (30) days prior to the respective due dates, provided that, to the extent ground rent is reserved for in the Manager Reserve Account maintained by the Property Manager pursuant to the Management Agreement (or an Approved Replacement Manager pursuant to an Approved Replacement Management Agreement) or is timely paid by the Property Manager pursuant to the Management Agreement (or an Approved Replacement Manager pursuant to an Approved Replacement Management Agreement) and the Borrower delivers to the Mortgage Lender evidence reasonably acceptable to the Mortgage Lender that such Property Manager is holding such funds and making the required payments of ground rent in accordance with the Ground Leases (which evidence may include, a monthly report delivered to the Mortgage Lender in accordance with the Mortgage Loan Agreement that confirms the amounts being held in the Manager Reserve Account and that the required monthly ground rent has been paid) and there is then no event of default continuing under the Management Agreement, the Borrower will not be required to deposit amounts required hereunder for the Ground Lease Reserve Fund hereunder for such month.  \n",
       "53                                                                                                                                                                                                                                                                                                                                                                                                                                                                                                                                                                                                                                                                                                                                                                                                                                                                                                                                                                                                                                                                                                                                                                                                                                                                                                                                                                                                                                                                                                                                                                                                                                                                                                                                                                                                                                                                                                                                                                                                                                                       Any Excess Cash Flow Reserve Funds remaining on deposit in the Excess Cash Flow Reserve Account upon the occurrence of a Cash Trap Event Cure will be paid (i) provided a Cash Trap Period (as defined in the Mezzanine Loan Agreement) under the Mezzanine Loan is then continuing or any amounts are then due and payable to Mezzanine Lender, to Mezzanine Lender to be held by Mezzanine Lender pursuant to the Mezzanine Loan Agreement for the purposes described therein and (ii) if the Mezzanine Loan is no longer outstanding or if there does not then exist a Cash Trap Period (as defined in the Mezzanine Loan Agreement) under the Mezzanine Loan and all amounts due and payable to the Mezzanine Lender have been paid, to Borrower.  \n",
       "106                                                                                                                                                                                                                                                                                                                                                                                                                                                                                                                                                                                                                                                                                                                                                                                                                                                                                                                                                                                                                                                                                                                                                                                                                                                                                                                                                                                                                                                                                                                                                                                                                                                                                                                                                                                                                                                                                                                                                                                                                                                                                                                                                                                                                                                                                                                                                                                                                                                                                                                                               No reserve accounts were funded by the Borrowers at origination; however, monthly deposits to certain reserve accounts will be required during the continuance of a Cash Management Period or upon the Borrower’s receipt of certain lease termination fees.  \n",
       "112                                                                                                                                                                                                                                                                                                                                                                                                                                                                                                                                                                                                                                                                                                                                                                                                                                                                                                                                                                                                                                                                                                                                                                                                                                                                                                                                                                                 All funds on deposit in the Cash Management Account will be applied by the lender on each business day (provided no Mortgage Loan Event of Default is continuing) in the following order of priority (and as such defined terms are used in the Offering Circular): First, during a Cash Sweep Period, to the Tax and Insurance Reserve Account, the amount required to be deposited in such account as described under “Monthly Reserves” below; Second, during a Cash Sweep Period, to the Ground Rent Reserve Account, the amount required to be deposited in such account as described under “Monthly Reserves” below; Third, to the lender, the amount of all interest then due and payable on the Mortgage Loan and all other amounts then due and payable under the Mortgage Loan Documents; Fourth, during a Cash Sweep Period, payment to the Borrower for monthly cash expenses incurred in accordance with the related Approved Annual Budget pursuant to a written request for payment submitted by the Borrower to the lender specifying the individual cash expenses in a form acceptable to the lender; Fifth, during a Cash Sweep Period, payment to the Borrower for extraordinary expenses approved by the lender; Sixth, during a Cash Sweep Period, all remaining amounts to the Excess Cash Flow Reserve Account; and Lastly, if no Cash Sweep Period Exists, the remainder, if any, to the Borrower.  \n",
       "132                                                                                                                                                                                                                                                                                                                                                                                                                                                                                                                                                                                                                                                                                                                                                                                                                                                                                                                                                                                                                                                                                                                                                                                                                                                                                                                                                                                                                                                                                                                                                                                                                                                                                                                                                                                                                                                                                                                                                                                                                                                                                                                                                                                                                                                                                                                                                                                          Following the termination of the Trigger Period (determined without consideration of the Partial Payment Guaranty) and provided no subsequent Trigger Period resulting from a separate event has occurred which has not been cured, the Partial Payment Guaranty will be deemed of no further force and effect and Mortgage Lender will, at Borrower’s request, return to Borrower the Partial Payment Guaranty.   \n",
       "143                                                                                                                                                                                                                                                                                                                                                                                                                                                                                                                                                                                                                                                                                                                                                                                                                                                                                                                                                                                                                                                                                                                                                                                                                                                                                                                                                                                                                                                                                                                                                                                                                                                                                                                                                                                                                                                                                                                                                                                                                                                                                            In the event Borrower delivers to Mortgage Lender a Partial Payment Guaranty and thereafter the Aggregate Debt Yield falls below the Threshold Debt Yield (determined without consideration of the Partial Payment Guaranty), then, (a) a Trigger Period will be deemed to exist (notwithstanding the delivery of the Partial Payment Guaranty) and the cash management provisions of the Mortgage Loan Agreement which are applicable during the occurrence and continuance of a Trigger Period (including those applicable during a Reserve Waiver Revocation Event Period commencing as a result of a Trigger Period) will apply and (b) the Partial Payment Guaranty will remain in full force and effect.   \n",
       "171                                                                                                                                                                                                                                                                                                                                                                                                                                                                                                                                                                                                                                                                                                                                                                                                                                                                                                                                                                                                                                                                                                                                                                                                                                                                                                                                                                                                                                                                                                                                                                                                                                                                                                                                                                                                                                                                                                                                                                                                                                                                                              Upon the commencement of any Reserve Waiver Revocation Event Period, Borrower (i) will be required to make the Monthly Ground Rent Deposits on each Payment Date commencing on the first Payment Date following the commencement of the Reserve Waiver Revocation Event Period and (ii) on the first Payment Date following the commencement of the Reserve Waiver Revocation Event Period, Borrower is obligated make a True Up Payment such that there will be sufficient funds, when added to the monthly deposits to be deposited with Mortgage Lender on each Payment Date thereafter, to accumulate sufficient funds to pay all Ground Rent at least 10 days prior to the date such Ground Rent is due.  "
      ]
     },
     "execution_count": 103,
     "metadata": {},
     "output_type": "execute_result"
    }
   ],
   "source": [
    "misclassified.head(10)"
   ]
  },
  {
   "cell_type": "code",
   "execution_count": null,
   "metadata": {},
   "outputs": [],
   "source": []
  },
  {
   "cell_type": "code",
   "execution_count": null,
   "metadata": {},
   "outputs": [],
   "source": []
  },
  {
   "cell_type": "code",
   "execution_count": null,
   "metadata": {},
   "outputs": [],
   "source": []
  },
  {
   "cell_type": "code",
   "execution_count": null,
   "metadata": {},
   "outputs": [],
   "source": []
  }
 ],
 "metadata": {
  "kernelspec": {
   "display_name": "Python 3",
   "language": "python",
   "name": "python3"
  },
  "language_info": {
   "codemirror_mode": {
    "name": "ipython",
    "version": 3
   },
   "file_extension": ".py",
   "mimetype": "text/x-python",
   "name": "python",
   "nbconvert_exporter": "python",
   "pygments_lexer": "ipython3",
   "version": "3.7.5"
  },
  "toc": {
   "base_numbering": 1,
   "nav_menu": {},
   "number_sections": true,
   "sideBar": true,
   "skip_h1_title": false,
   "title_cell": "Table of Contents",
   "title_sidebar": "Contents",
   "toc_cell": false,
   "toc_position": {},
   "toc_section_display": true,
   "toc_window_display": true
  }
 },
 "nbformat": 4,
 "nbformat_minor": 2
}
