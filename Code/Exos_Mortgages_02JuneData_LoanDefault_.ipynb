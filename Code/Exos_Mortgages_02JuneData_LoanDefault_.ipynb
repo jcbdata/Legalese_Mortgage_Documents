{
 "cells": [
  {
   "cell_type": "markdown",
   "metadata": {},
   "source": [
    "# Claira Project: Mortgage Contracts"
   ]
  },
  {
   "cell_type": "markdown",
   "metadata": {},
   "source": [
    "## Import Packages"
   ]
  },
  {
   "cell_type": "code",
   "execution_count": 1,
   "metadata": {},
   "outputs": [
    {
     "name": "stderr",
     "output_type": "stream",
     "text": [
      "/opt/anaconda3/envs/dsi/lib/python3.7/site-packages/sklearn/utils/deprecation.py:144: FutureWarning: The sklearn.feature_extraction.stop_words module is  deprecated in version 0.22 and will be removed in version 0.24. The corresponding classes / functions should instead be imported from sklearn.feature_extraction.text. Anything that cannot be imported from sklearn.feature_extraction.text is now part of the private API.\n",
      "  warnings.warn(message, FutureWarning)\n"
     ]
    }
   ],
   "source": [
    "import pandas as pd\n",
    "import matplotlib.pyplot as plt\n",
    "import json\n",
    "import string\n",
    "import numpy as np\n",
    "import gzip\n",
    "np.random.seed(99)\n",
    "RANDOM_STATE = 99\n",
    "import datetime\n",
    "pd.set_option('display.max_rows', 151)\n",
    "\n",
    "\n",
    "# Import vectorizing and modeling tools in preparation for modeling steps\n",
    "from sklearn.feature_extraction.text import CountVectorizer,TfidfVectorizer\n",
    "from sklearn.feature_extraction import text, stop_words\n",
    "from sklearn.naive_bayes import MultinomialNB, GaussianNB, BernoulliNB\n",
    "import time\n",
    "\n",
    "from nltk import word_tokenize\n",
    "from nltk.corpus import stopwords\n",
    "from nltk.stem.wordnet import WordNetLemmatizer\n",
    "\n",
    "import spacy\n",
    "import en_core_web_lg\n",
    "from spacy.lang.en import English\n",
    "from spacy.lang.en.stop_words import STOP_WORDS\n",
    "\n",
    "from sklearn.model_selection import train_test_split, GridSearchCV, cross_val_score, cross_val_predict\n",
    "from sklearn.pipeline import Pipeline\n",
    "from sklearn.linear_model import LogisticRegression\n",
    "from sklearn.tree import DecisionTreeClassifier\n",
    "\n",
    "from sklearn.metrics import roc_curve, auc\n",
    "\n",
    "# Import CountVectorizer and TFIDFVectorizer from feature_extraction.text.\n",
    "from sklearn.feature_extraction.text import CountVectorizer, TfidfVectorizer"
   ]
  },
  {
   "cell_type": "markdown",
   "metadata": {},
   "source": [
    "## Import Data"
   ]
  },
  {
   "cell_type": "code",
   "execution_count": 2,
   "metadata": {},
   "outputs": [],
   "source": [
    "# Import the CSV file\n",
    "# raw_df = pd.read_csv('../data/sasb_cash_trap_triggers.csv')"
   ]
  },
  {
   "cell_type": "code",
   "execution_count": 3,
   "metadata": {},
   "outputs": [],
   "source": [
    "# Import the CSV file\n",
    "raw_df = pd.read_csv('../data/sasb_cash_trap_triggers_06_02_20.csv')"
   ]
  },
  {
   "cell_type": "code",
   "execution_count": 4,
   "metadata": {},
   "outputs": [
    {
     "data": {
      "text/html": [
       "<div>\n",
       "<style scoped>\n",
       "    .dataframe tbody tr th:only-of-type {\n",
       "        vertical-align: middle;\n",
       "    }\n",
       "\n",
       "    .dataframe tbody tr th {\n",
       "        vertical-align: top;\n",
       "    }\n",
       "\n",
       "    .dataframe thead th {\n",
       "        text-align: right;\n",
       "    }\n",
       "</style>\n",
       "<table border=\"1\" class=\"dataframe\">\n",
       "  <thead>\n",
       "    <tr style=\"text-align: right;\">\n",
       "      <th></th>\n",
       "      <th>Document</th>\n",
       "      <th>Sentence</th>\n",
       "      <th>Trigger</th>\n",
       "      <th>Multiclass</th>\n",
       "    </tr>\n",
       "  </thead>\n",
       "  <tbody>\n",
       "    <tr>\n",
       "      <th>0</th>\n",
       "      <td>20120828_01Y0R8_Prospectus_CM00000000205875087...</td>\n",
       "      <td>On each Business Day, the financial institutio...</td>\n",
       "      <td>Loan Default</td>\n",
       "      <td>0</td>\n",
       "    </tr>\n",
       "    <tr>\n",
       "      <th>1</th>\n",
       "      <td>20120828_01Y0R8_Prospectus_CM00000000205875087...</td>\n",
       "      <td>The Borrower has established and is required t...</td>\n",
       "      <td>Aggregate DSCR Fall</td>\n",
       "      <td>1</td>\n",
       "    </tr>\n",
       "    <tr>\n",
       "      <th>2</th>\n",
       "      <td>20120828_01Y0R8_Prospectus_CM00000000205875087...</td>\n",
       "      <td>The Borrower has established and is required t...</td>\n",
       "      <td>Loan Default</td>\n",
       "      <td>1</td>\n",
       "    </tr>\n",
       "    <tr>\n",
       "      <th>3</th>\n",
       "      <td>20120828_01Y0R8_Prospectus_CM00000000205875087...</td>\n",
       "      <td>During a Trigger Period or while an event of d...</td>\n",
       "      <td>Loan Default</td>\n",
       "      <td>0</td>\n",
       "    </tr>\n",
       "    <tr>\n",
       "      <th>4</th>\n",
       "      <td>20120828_01Y0R8_Prospectus_CM00000000205875087...</td>\n",
       "      <td>On any Business Day all amounts on deposit in ...</td>\n",
       "      <td>Loan Default</td>\n",
       "      <td>0</td>\n",
       "    </tr>\n",
       "  </tbody>\n",
       "</table>\n",
       "</div>"
      ],
      "text/plain": [
       "                                            Document  \\\n",
       "0  20120828_01Y0R8_Prospectus_CM00000000205875087...   \n",
       "1  20120828_01Y0R8_Prospectus_CM00000000205875087...   \n",
       "2  20120828_01Y0R8_Prospectus_CM00000000205875087...   \n",
       "3  20120828_01Y0R8_Prospectus_CM00000000205875087...   \n",
       "4  20120828_01Y0R8_Prospectus_CM00000000205875087...   \n",
       "\n",
       "                                            Sentence              Trigger  \\\n",
       "0  On each Business Day, the financial institutio...         Loan Default   \n",
       "1  The Borrower has established and is required t...  Aggregate DSCR Fall   \n",
       "2  The Borrower has established and is required t...         Loan Default   \n",
       "3  During a Trigger Period or while an event of d...         Loan Default   \n",
       "4  On any Business Day all amounts on deposit in ...         Loan Default   \n",
       "\n",
       "   Multiclass  \n",
       "0           0  \n",
       "1           1  \n",
       "2           1  \n",
       "3           0  \n",
       "4           0  "
      ]
     },
     "execution_count": 4,
     "metadata": {},
     "output_type": "execute_result"
    }
   ],
   "source": [
    "# Review the first few rows of the data set\n",
    "raw_df.head()"
   ]
  },
  {
   "cell_type": "code",
   "execution_count": 5,
   "metadata": {},
   "outputs": [
    {
     "data": {
      "text/plain": [
       "(892, 4)"
      ]
     },
     "execution_count": 5,
     "metadata": {},
     "output_type": "execute_result"
    }
   ],
   "source": [
    "# Check size of the data set\n",
    "raw_df.shape"
   ]
  },
  {
   "cell_type": "code",
   "execution_count": 6,
   "metadata": {},
   "outputs": [],
   "source": [
    "raw_df = raw_df[['Document', 'Sentence', 'Trigger', 'Multiclass']]"
   ]
  },
  {
   "cell_type": "code",
   "execution_count": 7,
   "metadata": {},
   "outputs": [
    {
     "data": {
      "text/plain": [
       "Document      0\n",
       "Sentence      0\n",
       "Trigger       0\n",
       "Multiclass    0\n",
       "dtype: int64"
      ]
     },
     "execution_count": 7,
     "metadata": {},
     "output_type": "execute_result"
    }
   ],
   "source": [
    "# Check for null values\n",
    "raw_df.isnull().sum()"
   ]
  },
  {
   "cell_type": "code",
   "execution_count": 8,
   "metadata": {},
   "outputs": [
    {
     "data": {
      "text/plain": [
       "(892, 4)"
      ]
     },
     "execution_count": 8,
     "metadata": {},
     "output_type": "execute_result"
    }
   ],
   "source": [
    "raw_df.dropna()\n",
    "raw_df.shape"
   ]
  },
  {
   "cell_type": "code",
   "execution_count": 9,
   "metadata": {},
   "outputs": [
    {
     "data": {
      "text/html": [
       "<div>\n",
       "<style scoped>\n",
       "    .dataframe tbody tr th:only-of-type {\n",
       "        vertical-align: middle;\n",
       "    }\n",
       "\n",
       "    .dataframe tbody tr th {\n",
       "        vertical-align: top;\n",
       "    }\n",
       "\n",
       "    .dataframe thead th {\n",
       "        text-align: right;\n",
       "    }\n",
       "</style>\n",
       "<table border=\"1\" class=\"dataframe\">\n",
       "  <thead>\n",
       "    <tr style=\"text-align: right;\">\n",
       "      <th></th>\n",
       "      <th>Document</th>\n",
       "      <th>Sentence</th>\n",
       "      <th>Trigger</th>\n",
       "      <th>Multiclass</th>\n",
       "    </tr>\n",
       "  </thead>\n",
       "  <tbody>\n",
       "    <tr>\n",
       "      <th>0</th>\n",
       "      <td>20120828_01Y0R8_Prospectus_CM00000000205875087...</td>\n",
       "      <td>On each Business Day, the financial institutio...</td>\n",
       "      <td>Loan Default</td>\n",
       "      <td>0</td>\n",
       "    </tr>\n",
       "    <tr>\n",
       "      <th>1</th>\n",
       "      <td>20120828_01Y0R8_Prospectus_CM00000000205875087...</td>\n",
       "      <td>The Borrower has established and is required t...</td>\n",
       "      <td>Aggregate DSCR Fall</td>\n",
       "      <td>1</td>\n",
       "    </tr>\n",
       "    <tr>\n",
       "      <th>2</th>\n",
       "      <td>20120828_01Y0R8_Prospectus_CM00000000205875087...</td>\n",
       "      <td>The Borrower has established and is required t...</td>\n",
       "      <td>Loan Default</td>\n",
       "      <td>1</td>\n",
       "    </tr>\n",
       "    <tr>\n",
       "      <th>3</th>\n",
       "      <td>20120828_01Y0R8_Prospectus_CM00000000205875087...</td>\n",
       "      <td>During a Trigger Period or while an event of d...</td>\n",
       "      <td>Loan Default</td>\n",
       "      <td>0</td>\n",
       "    </tr>\n",
       "    <tr>\n",
       "      <th>4</th>\n",
       "      <td>20120828_01Y0R8_Prospectus_CM00000000205875087...</td>\n",
       "      <td>On any Business Day all amounts on deposit in ...</td>\n",
       "      <td>Loan Default</td>\n",
       "      <td>0</td>\n",
       "    </tr>\n",
       "  </tbody>\n",
       "</table>\n",
       "</div>"
      ],
      "text/plain": [
       "                                            Document  \\\n",
       "0  20120828_01Y0R8_Prospectus_CM00000000205875087...   \n",
       "1  20120828_01Y0R8_Prospectus_CM00000000205875087...   \n",
       "2  20120828_01Y0R8_Prospectus_CM00000000205875087...   \n",
       "3  20120828_01Y0R8_Prospectus_CM00000000205875087...   \n",
       "4  20120828_01Y0R8_Prospectus_CM00000000205875087...   \n",
       "\n",
       "                                            Sentence              Trigger  \\\n",
       "0  On each Business Day, the financial institutio...         Loan Default   \n",
       "1  The Borrower has established and is required t...  Aggregate DSCR Fall   \n",
       "2  The Borrower has established and is required t...         Loan Default   \n",
       "3  During a Trigger Period or while an event of d...         Loan Default   \n",
       "4  On any Business Day all amounts on deposit in ...         Loan Default   \n",
       "\n",
       "   Multiclass  \n",
       "0           0  \n",
       "1           1  \n",
       "2           1  \n",
       "3           0  \n",
       "4           0  "
      ]
     },
     "execution_count": 9,
     "metadata": {},
     "output_type": "execute_result"
    }
   ],
   "source": [
    "raw_df.head()"
   ]
  },
  {
   "cell_type": "markdown",
   "metadata": {},
   "source": [
    "## Data Cleaning"
   ]
  },
  {
   "cell_type": "code",
   "execution_count": 10,
   "metadata": {},
   "outputs": [
    {
     "data": {
      "text/plain": [
       "Unspecified                  270\n",
       "Loan Default                 234\n",
       "Debt Yield Fall               85\n",
       "Loan default                  75\n",
       "Mezzanine Default             39\n",
       "Tenant Failure                35\n",
       "Debt yield fall               34\n",
       "Bankruptcy                    20\n",
       "DSCR Fall                     18\n",
       "Operator Termination          17\n",
       "Sponsor Termination           14\n",
       "Aggregate Debt Yield Fall     11\n",
       "Mezzanine Outstanding         10\n",
       "Renovations                    9\n",
       "Mezzanine default              8\n",
       "Aggregate debt yield fall      6\n",
       "Debt Yield Falll               4\n",
       "Aggregate DSCR Fall            2\n",
       "Aggregate debt yield           1\n",
       "Name: Trigger, dtype: int64"
      ]
     },
     "execution_count": 10,
     "metadata": {},
     "output_type": "execute_result"
    }
   ],
   "source": [
    "# Review number of Trigger types\n",
    "raw_df['Trigger'].value_counts()"
   ]
  },
  {
   "cell_type": "code",
   "execution_count": 11,
   "metadata": {},
   "outputs": [],
   "source": [
    "# Convert each category to Title format (to remove discrepancies based on capitalization)\n",
    "raw_df['Trigger'] = raw_df['Trigger'].str.title()"
   ]
  },
  {
   "cell_type": "code",
   "execution_count": 12,
   "metadata": {},
   "outputs": [
    {
     "data": {
      "text/plain": [
       "Loan Default                 309\n",
       "Unspecified                  270\n",
       "Debt Yield Fall              119\n",
       "Mezzanine Default             47\n",
       "Tenant Failure                35\n",
       "Bankruptcy                    20\n",
       "Dscr Fall                     18\n",
       "Aggregate Debt Yield Fall     17\n",
       "Operator Termination          17\n",
       "Sponsor Termination           14\n",
       "Mezzanine Outstanding         10\n",
       "Renovations                    9\n",
       "Debt Yield Falll               4\n",
       "Aggregate Dscr Fall            2\n",
       "Aggregate Debt Yield           1\n",
       "Name: Trigger, dtype: int64"
      ]
     },
     "execution_count": 12,
     "metadata": {},
     "output_type": "execute_result"
    }
   ],
   "source": [
    "# Review clean Trigger Types\n",
    "raw_df['Trigger'].value_counts()"
   ]
  },
  {
   "cell_type": "code",
   "execution_count": 13,
   "metadata": {},
   "outputs": [],
   "source": [
    "raw_df['Trigger'] = raw_df['Trigger'].str.replace('Falll', 'Fall')"
   ]
  },
  {
   "cell_type": "code",
   "execution_count": null,
   "metadata": {},
   "outputs": [],
   "source": []
  },
  {
   "cell_type": "code",
   "execution_count": 14,
   "metadata": {},
   "outputs": [],
   "source": [
    "# Rename first column (document title)\n",
    "# raw_df = raw_df.rename(columns = {'0': 'Document'})"
   ]
  },
  {
   "cell_type": "code",
   "execution_count": 15,
   "metadata": {},
   "outputs": [
    {
     "data": {
      "text/html": [
       "<div>\n",
       "<style scoped>\n",
       "    .dataframe tbody tr th:only-of-type {\n",
       "        vertical-align: middle;\n",
       "    }\n",
       "\n",
       "    .dataframe tbody tr th {\n",
       "        vertical-align: top;\n",
       "    }\n",
       "\n",
       "    .dataframe thead th {\n",
       "        text-align: right;\n",
       "    }\n",
       "</style>\n",
       "<table border=\"1\" class=\"dataframe\">\n",
       "  <thead>\n",
       "    <tr style=\"text-align: right;\">\n",
       "      <th></th>\n",
       "      <th>Document</th>\n",
       "      <th>Sentence</th>\n",
       "      <th>Trigger</th>\n",
       "    </tr>\n",
       "  </thead>\n",
       "  <tbody>\n",
       "    <tr>\n",
       "      <th>0</th>\n",
       "      <td>20120828_01Y0R8_Prospectus_CM00000000205875087...</td>\n",
       "      <td>On each Business Day, the financial institutio...</td>\n",
       "      <td>Loan Default</td>\n",
       "    </tr>\n",
       "    <tr>\n",
       "      <th>1</th>\n",
       "      <td>20120828_01Y0R8_Prospectus_CM00000000205875087...</td>\n",
       "      <td>The Borrower has established and is required t...</td>\n",
       "      <td>Aggregate Dscr Fall</td>\n",
       "    </tr>\n",
       "    <tr>\n",
       "      <th>2</th>\n",
       "      <td>20120828_01Y0R8_Prospectus_CM00000000205875087...</td>\n",
       "      <td>The Borrower has established and is required t...</td>\n",
       "      <td>Loan Default</td>\n",
       "    </tr>\n",
       "    <tr>\n",
       "      <th>3</th>\n",
       "      <td>20120828_01Y0R8_Prospectus_CM00000000205875087...</td>\n",
       "      <td>During a Trigger Period or while an event of d...</td>\n",
       "      <td>Loan Default</td>\n",
       "    </tr>\n",
       "    <tr>\n",
       "      <th>4</th>\n",
       "      <td>20120828_01Y0R8_Prospectus_CM00000000205875087...</td>\n",
       "      <td>On any Business Day all amounts on deposit in ...</td>\n",
       "      <td>Loan Default</td>\n",
       "    </tr>\n",
       "  </tbody>\n",
       "</table>\n",
       "</div>"
      ],
      "text/plain": [
       "                                            Document  \\\n",
       "0  20120828_01Y0R8_Prospectus_CM00000000205875087...   \n",
       "1  20120828_01Y0R8_Prospectus_CM00000000205875087...   \n",
       "2  20120828_01Y0R8_Prospectus_CM00000000205875087...   \n",
       "3  20120828_01Y0R8_Prospectus_CM00000000205875087...   \n",
       "4  20120828_01Y0R8_Prospectus_CM00000000205875087...   \n",
       "\n",
       "                                            Sentence              Trigger  \n",
       "0  On each Business Day, the financial institutio...         Loan Default  \n",
       "1  The Borrower has established and is required t...  Aggregate Dscr Fall  \n",
       "2  The Borrower has established and is required t...         Loan Default  \n",
       "3  During a Trigger Period or while an event of d...         Loan Default  \n",
       "4  On any Business Day all amounts on deposit in ...         Loan Default  "
      ]
     },
     "execution_count": 15,
     "metadata": {},
     "output_type": "execute_result"
    }
   ],
   "source": [
    "# Drop Multiclass column for now \n",
    "raw_df = raw_df.drop('Multiclass', axis = 1)\n",
    "raw_df.head()"
   ]
  },
  {
   "cell_type": "code",
   "execution_count": 16,
   "metadata": {},
   "outputs": [
    {
     "data": {
      "text/plain": [
       "(892, 3)"
      ]
     },
     "execution_count": 16,
     "metadata": {},
     "output_type": "execute_result"
    }
   ],
   "source": [
    "raw_df.shape"
   ]
  },
  {
   "cell_type": "code",
   "execution_count": 17,
   "metadata": {},
   "outputs": [
    {
     "name": "stdout",
     "output_type": "stream",
     "text": [
      "20 unique documents have been included in the data set\n"
     ]
    }
   ],
   "source": [
    "# Count the number of distinct documents\n",
    "num_docs = raw_df['Document'].nunique()\n",
    "print(f'{num_docs} unique documents have been included in the data set')"
   ]
  },
  {
   "cell_type": "code",
   "execution_count": 18,
   "metadata": {
    "scrolled": true
   },
   "outputs": [
    {
     "data": {
      "text/plain": [
       "20190131_02IFE7_Prospectus_SD000000002578234792.pdf    67\n",
       "20190131_02IFDN_Prospectus_SD000000002578234912.pdf    66\n",
       "20181231_02IEP9_Prospectus_SD000000002568455603.pdf    65\n",
       "20190131_02IFCW_Prospectus_SD000000002578232050.pdf    64\n",
       "20190220_02IPLU_Prospectus_SD000000002587491183.pdf    63\n",
       "20190108_02IFF1_Prospectus_SD000000002570458466.pdf    60\n",
       "20190208_02IM7M_Prospectus_SD000000002581684036.pdf    54\n",
       "20190205_02IJ77_Prospectus_SD000000002579874729.pdf    50\n",
       "20160510_02B0XU_Prospectus_SD000000002312723382.pdf    46\n",
       "20180125_02FE6L_Prospectus_SD000000002394837596.pdf    44\n",
       "20170525_02DG4Z_Prospectus_SD000000002352418696.pdf    42\n",
       "20170525_02DFUI_Prospectus_SD000000002352389122.pdf    37\n",
       "20171019_02EFSE_Prospectus_SD000000002376978886.pdf    35\n",
       "20170727_02DTVX_Prospectus_SD000000002362015714.pdf    35\n",
       "20170814_02E227_Prospectus_SD000000002367167139.pdf    34\n",
       "20150307_028S2X_Prospectus_SD000000002389024187.pdf    29\n",
       "20170616_02DNAM_Prospectus_SD000000002355931744.pdf    28\n",
       "20170801_02DX5C_Prospectus_SD000000002363000910.pdf    28\n",
       "20160310_02AQCW_Prospectus_SD0000000-2003264558.pdf    25\n",
       "20120828_01Y0R8_Prospectus_CM000000002058750876.pdf    20\n",
       "Name: Document, dtype: int64"
      ]
     },
     "execution_count": 18,
     "metadata": {},
     "output_type": "execute_result"
    }
   ],
   "source": [
    "# Review the distinct documents and the number of Trigger events identified for each\n",
    "raw_df['Document'].value_counts()"
   ]
  },
  {
   "cell_type": "code",
   "execution_count": 19,
   "metadata": {},
   "outputs": [
    {
     "name": "stdout",
     "output_type": "stream",
     "text": [
      "The 20 Documents have trigger counts that range from 20 to 67.\n"
     ]
    }
   ],
   "source": [
    "# Summarize the trigger counts for the existing Document set\n",
    "max_triggers = raw_df['Document'].value_counts().max()\n",
    "min_triggers = raw_df['Document'].value_counts().min()\n",
    "print(f'The {num_docs} Documents have trigger counts that range from {min_triggers} to {max_triggers}.')"
   ]
  },
  {
   "cell_type": "code",
   "execution_count": 20,
   "metadata": {},
   "outputs": [
    {
     "data": {
      "text/plain": [
       "False    844\n",
       "True      48\n",
       "Name: is_duplicate, dtype: int64"
      ]
     },
     "execution_count": 20,
     "metadata": {},
     "output_type": "execute_result"
    }
   ],
   "source": [
    "# Check for duplicate rows\n",
    "raw_df['is_duplicate'] = raw_df.duplicated(subset = None)\n",
    "raw_df['is_duplicate'].value_counts()"
   ]
  },
  {
   "cell_type": "code",
   "execution_count": 21,
   "metadata": {},
   "outputs": [
    {
     "name": "stdout",
     "output_type": "stream",
     "text": [
      "There are 48 row duplicates in the data set.\n"
     ]
    }
   ],
   "source": [
    "num_duplicated_rows = (raw_df['is_duplicate'] == True).sum()\n",
    "print(f'There are {num_duplicated_rows} row duplicates in the data set.')"
   ]
  },
  {
   "cell_type": "code",
   "execution_count": 22,
   "metadata": {},
   "outputs": [],
   "source": [
    "# We'll remove the extra duplicate rows\n",
    "raw_df = raw_df.drop('is_duplicate', axis = 1)\n",
    "raw_df = raw_df.drop_duplicates()"
   ]
  },
  {
   "cell_type": "code",
   "execution_count": 23,
   "metadata": {},
   "outputs": [
    {
     "data": {
      "text/plain": [
       "(844, 3)"
      ]
     },
     "execution_count": 23,
     "metadata": {},
     "output_type": "execute_result"
    }
   ],
   "source": [
    "raw_df.shape"
   ]
  },
  {
   "cell_type": "code",
   "execution_count": 24,
   "metadata": {},
   "outputs": [
    {
     "data": {
      "text/html": [
       "<div>\n",
       "<style scoped>\n",
       "    .dataframe tbody tr th:only-of-type {\n",
       "        vertical-align: middle;\n",
       "    }\n",
       "\n",
       "    .dataframe tbody tr th {\n",
       "        vertical-align: top;\n",
       "    }\n",
       "\n",
       "    .dataframe thead th {\n",
       "        text-align: right;\n",
       "    }\n",
       "</style>\n",
       "<table border=\"1\" class=\"dataframe\">\n",
       "  <thead>\n",
       "    <tr style=\"text-align: right;\">\n",
       "      <th></th>\n",
       "      <th>Document</th>\n",
       "      <th>Sentence</th>\n",
       "      <th>Trigger</th>\n",
       "    </tr>\n",
       "  </thead>\n",
       "  <tbody>\n",
       "    <tr>\n",
       "      <th>0</th>\n",
       "      <td>20120828_01Y0R8_Prospectus_CM00000000205875087...</td>\n",
       "      <td>On each Business Day, the financial institutio...</td>\n",
       "      <td>Loan Default</td>\n",
       "    </tr>\n",
       "    <tr>\n",
       "      <th>1</th>\n",
       "      <td>20120828_01Y0R8_Prospectus_CM00000000205875087...</td>\n",
       "      <td>The Borrower has established and is required t...</td>\n",
       "      <td>Aggregate Dscr Fall</td>\n",
       "    </tr>\n",
       "    <tr>\n",
       "      <th>2</th>\n",
       "      <td>20120828_01Y0R8_Prospectus_CM00000000205875087...</td>\n",
       "      <td>The Borrower has established and is required t...</td>\n",
       "      <td>Loan Default</td>\n",
       "    </tr>\n",
       "    <tr>\n",
       "      <th>3</th>\n",
       "      <td>20120828_01Y0R8_Prospectus_CM00000000205875087...</td>\n",
       "      <td>During a Trigger Period or while an event of d...</td>\n",
       "      <td>Loan Default</td>\n",
       "    </tr>\n",
       "    <tr>\n",
       "      <th>4</th>\n",
       "      <td>20120828_01Y0R8_Prospectus_CM00000000205875087...</td>\n",
       "      <td>On any Business Day all amounts on deposit in ...</td>\n",
       "      <td>Loan Default</td>\n",
       "    </tr>\n",
       "  </tbody>\n",
       "</table>\n",
       "</div>"
      ],
      "text/plain": [
       "                                            Document  \\\n",
       "0  20120828_01Y0R8_Prospectus_CM00000000205875087...   \n",
       "1  20120828_01Y0R8_Prospectus_CM00000000205875087...   \n",
       "2  20120828_01Y0R8_Prospectus_CM00000000205875087...   \n",
       "3  20120828_01Y0R8_Prospectus_CM00000000205875087...   \n",
       "4  20120828_01Y0R8_Prospectus_CM00000000205875087...   \n",
       "\n",
       "                                            Sentence              Trigger  \n",
       "0  On each Business Day, the financial institutio...         Loan Default  \n",
       "1  The Borrower has established and is required t...  Aggregate Dscr Fall  \n",
       "2  The Borrower has established and is required t...         Loan Default  \n",
       "3  During a Trigger Period or while an event of d...         Loan Default  \n",
       "4  On any Business Day all amounts on deposit in ...         Loan Default  "
      ]
     },
     "execution_count": 24,
     "metadata": {},
     "output_type": "execute_result"
    }
   ],
   "source": [
    "raw_df.head()"
   ]
  },
  {
   "cell_type": "code",
   "execution_count": 25,
   "metadata": {},
   "outputs": [
    {
     "data": {
      "text/plain": [
       "Loan Default                 297\n",
       "Unspecified                  261\n",
       "Debt Yield Fall              110\n",
       "Mezzanine Default             42\n",
       "Tenant Failure                35\n",
       "Aggregate Debt Yield Fall     17\n",
       "Bankruptcy                    17\n",
       "Dscr Fall                     16\n",
       "Operator Termination          15\n",
       "Sponsor Termination           14\n",
       "Renovations                    9\n",
       "Mezzanine Outstanding          8\n",
       "Aggregate Dscr Fall            2\n",
       "Aggregate Debt Yield           1\n",
       "Name: Trigger, dtype: int64"
      ]
     },
     "execution_count": 25,
     "metadata": {},
     "output_type": "execute_result"
    }
   ],
   "source": [
    "# Review new number of Trigger types\n",
    "raw_df['Trigger'].value_counts()"
   ]
  },
  {
   "cell_type": "code",
   "execution_count": 26,
   "metadata": {},
   "outputs": [
    {
     "data": {
      "text/plain": [
       "20190131_02IFE7_Prospectus_SD000000002578234792.pdf    67\n",
       "20190131_02IFDN_Prospectus_SD000000002578234912.pdf    66\n",
       "20181231_02IEP9_Prospectus_SD000000002568455603.pdf    65\n",
       "20190131_02IFCW_Prospectus_SD000000002578232050.pdf    64\n",
       "20190220_02IPLU_Prospectus_SD000000002587491183.pdf    62\n",
       "20190208_02IM7M_Prospectus_SD000000002581684036.pdf    54\n",
       "20190108_02IFF1_Prospectus_SD000000002570458466.pdf    54\n",
       "20190205_02IJ77_Prospectus_SD000000002579874729.pdf    50\n",
       "20160510_02B0XU_Prospectus_SD000000002312723382.pdf    38\n",
       "20171019_02EFSE_Prospectus_SD000000002376978886.pdf    35\n",
       "20170525_02DG4Z_Prospectus_SD000000002352418696.pdf    34\n",
       "20180125_02FE6L_Prospectus_SD000000002394837596.pdf    34\n",
       "20170525_02DFUI_Prospectus_SD000000002352389122.pdf    33\n",
       "20170814_02E227_Prospectus_SD000000002367167139.pdf    31\n",
       "20150307_028S2X_Prospectus_SD000000002389024187.pdf    29\n",
       "20170616_02DNAM_Prospectus_SD000000002355931744.pdf    28\n",
       "20170727_02DTVX_Prospectus_SD000000002362015714.pdf    28\n",
       "20170801_02DX5C_Prospectus_SD000000002363000910.pdf    27\n",
       "20160310_02AQCW_Prospectus_SD0000000-2003264558.pdf    25\n",
       "20120828_01Y0R8_Prospectus_CM000000002058750876.pdf    20\n",
       "Name: Document, dtype: int64"
      ]
     },
     "execution_count": 26,
     "metadata": {},
     "output_type": "execute_result"
    }
   ],
   "source": [
    "# Review new distinct documents and the number of Trigger events identified for each\n",
    "raw_df['Document'].value_counts()"
   ]
  },
  {
   "cell_type": "code",
   "execution_count": 27,
   "metadata": {},
   "outputs": [
    {
     "data": {
      "text/plain": [
       "Document    object\n",
       "Sentence    object\n",
       "Trigger     object\n",
       "dtype: object"
      ]
     },
     "execution_count": 27,
     "metadata": {},
     "output_type": "execute_result"
    }
   ],
   "source": [
    "raw_df.dtypes"
   ]
  },
  {
   "cell_type": "markdown",
   "metadata": {},
   "source": [
    "## Reshape the Data"
   ]
  },
  {
   "cell_type": "markdown",
   "metadata": {},
   "source": [
    "In this section, we'll reshape the data, such that each sentence is represented once, with separate categorization columns for each Trigger type"
   ]
  },
  {
   "cell_type": "code",
   "execution_count": 28,
   "metadata": {},
   "outputs": [],
   "source": [
    "# function to reshape the dataframe such that the triggers are 0/1 columns. Remove duplicates\n",
    "def reshape_trigger_representation(dataframe):\n",
    "    # select trigger types\n",
    "    trigger_types = list(dataframe['Trigger'].unique())\n",
    "    trigger_types = [x for x in trigger_types if str(x) != 'nan']\n",
    "    \n",
    "    # create new dataframe with unique document-sentence pairs (no duplicates)\n",
    "    reshaped = dataframe.drop('Trigger', axis = 1).drop_duplicates().reset_index().drop('index', axis = 1)\n",
    "    \n",
    "    # select rows by trigger, reassign as 1 or 0 (for True or False)\n",
    "    for tt in trigger_types:\n",
    "        # select part that is trigger_type\n",
    "        temp = dataframe.loc[dataframe['Trigger'] == tt].copy()\n",
    "\n",
    "        # create a new column of true with trigger name\n",
    "        temp[tt.lower().replace(' ', '_')] = np.int64(1)\n",
    "        temp.drop('Trigger', axis=1, inplace=True)\n",
    "        temp[tt.lower().replace(' ', '_')] = temp[tt.lower().replace(' ', '_')].astype('Int64')\n",
    "        \n",
    "        # left join this adjusted column to the unique data\n",
    "        reshaped = reshaped.merge(temp, how='left', left_on=['Document', 'Sentence'], right_on=['Document', 'Sentence'])\n",
    "\n",
    "    # replace nulls with False\n",
    "    reshaped = reshaped.fillna(0)    \n",
    "    \n",
    "    return reshaped"
   ]
  },
  {
   "cell_type": "code",
   "execution_count": 29,
   "metadata": {},
   "outputs": [],
   "source": [
    "# Reshape our original dataframe\n",
    "df = reshape_trigger_representation(raw_df)"
   ]
  },
  {
   "cell_type": "code",
   "execution_count": 30,
   "metadata": {},
   "outputs": [
    {
     "data": {
      "text/html": [
       "<div>\n",
       "<style scoped>\n",
       "    .dataframe tbody tr th:only-of-type {\n",
       "        vertical-align: middle;\n",
       "    }\n",
       "\n",
       "    .dataframe tbody tr th {\n",
       "        vertical-align: top;\n",
       "    }\n",
       "\n",
       "    .dataframe thead th {\n",
       "        text-align: right;\n",
       "    }\n",
       "</style>\n",
       "<table border=\"1\" class=\"dataframe\">\n",
       "  <thead>\n",
       "    <tr style=\"text-align: right;\">\n",
       "      <th></th>\n",
       "      <th>Document</th>\n",
       "      <th>Sentence</th>\n",
       "      <th>loan_default</th>\n",
       "      <th>aggregate_dscr_fall</th>\n",
       "      <th>dscr_fall</th>\n",
       "      <th>unspecified</th>\n",
       "      <th>debt_yield_fall</th>\n",
       "      <th>aggregate_debt_yield_fall</th>\n",
       "      <th>mezzanine_default</th>\n",
       "      <th>tenant_failure</th>\n",
       "      <th>mezzanine_outstanding</th>\n",
       "      <th>operator_termination</th>\n",
       "      <th>bankruptcy</th>\n",
       "      <th>aggregate_debt_yield</th>\n",
       "      <th>sponsor_termination</th>\n",
       "      <th>renovations</th>\n",
       "    </tr>\n",
       "  </thead>\n",
       "  <tbody>\n",
       "    <tr>\n",
       "      <th>0</th>\n",
       "      <td>20120828_01Y0R8_Prospectus_CM00000000205875087...</td>\n",
       "      <td>On each Business Day, the financial institutio...</td>\n",
       "      <td>1</td>\n",
       "      <td>0</td>\n",
       "      <td>0</td>\n",
       "      <td>0</td>\n",
       "      <td>0</td>\n",
       "      <td>0</td>\n",
       "      <td>0</td>\n",
       "      <td>0</td>\n",
       "      <td>0</td>\n",
       "      <td>0</td>\n",
       "      <td>0</td>\n",
       "      <td>0</td>\n",
       "      <td>0</td>\n",
       "      <td>0</td>\n",
       "    </tr>\n",
       "    <tr>\n",
       "      <th>1</th>\n",
       "      <td>20120828_01Y0R8_Prospectus_CM00000000205875087...</td>\n",
       "      <td>The Borrower has established and is required t...</td>\n",
       "      <td>1</td>\n",
       "      <td>1</td>\n",
       "      <td>0</td>\n",
       "      <td>0</td>\n",
       "      <td>0</td>\n",
       "      <td>0</td>\n",
       "      <td>0</td>\n",
       "      <td>0</td>\n",
       "      <td>0</td>\n",
       "      <td>0</td>\n",
       "      <td>0</td>\n",
       "      <td>0</td>\n",
       "      <td>0</td>\n",
       "      <td>0</td>\n",
       "    </tr>\n",
       "    <tr>\n",
       "      <th>2</th>\n",
       "      <td>20120828_01Y0R8_Prospectus_CM00000000205875087...</td>\n",
       "      <td>During a Trigger Period or while an event of d...</td>\n",
       "      <td>1</td>\n",
       "      <td>0</td>\n",
       "      <td>0</td>\n",
       "      <td>0</td>\n",
       "      <td>0</td>\n",
       "      <td>0</td>\n",
       "      <td>0</td>\n",
       "      <td>0</td>\n",
       "      <td>0</td>\n",
       "      <td>0</td>\n",
       "      <td>0</td>\n",
       "      <td>0</td>\n",
       "      <td>0</td>\n",
       "      <td>0</td>\n",
       "    </tr>\n",
       "    <tr>\n",
       "      <th>3</th>\n",
       "      <td>20120828_01Y0R8_Prospectus_CM00000000205875087...</td>\n",
       "      <td>On any Business Day all amounts on deposit in ...</td>\n",
       "      <td>1</td>\n",
       "      <td>0</td>\n",
       "      <td>0</td>\n",
       "      <td>0</td>\n",
       "      <td>0</td>\n",
       "      <td>0</td>\n",
       "      <td>0</td>\n",
       "      <td>0</td>\n",
       "      <td>0</td>\n",
       "      <td>0</td>\n",
       "      <td>0</td>\n",
       "      <td>0</td>\n",
       "      <td>0</td>\n",
       "      <td>0</td>\n",
       "    </tr>\n",
       "    <tr>\n",
       "      <th>4</th>\n",
       "      <td>20120828_01Y0R8_Prospectus_CM00000000205875087...</td>\n",
       "      <td>Available funds in each Cash Management Accoun...</td>\n",
       "      <td>1</td>\n",
       "      <td>0</td>\n",
       "      <td>0</td>\n",
       "      <td>0</td>\n",
       "      <td>0</td>\n",
       "      <td>0</td>\n",
       "      <td>0</td>\n",
       "      <td>0</td>\n",
       "      <td>0</td>\n",
       "      <td>0</td>\n",
       "      <td>0</td>\n",
       "      <td>0</td>\n",
       "      <td>0</td>\n",
       "      <td>0</td>\n",
       "    </tr>\n",
       "  </tbody>\n",
       "</table>\n",
       "</div>"
      ],
      "text/plain": [
       "                                            Document  \\\n",
       "0  20120828_01Y0R8_Prospectus_CM00000000205875087...   \n",
       "1  20120828_01Y0R8_Prospectus_CM00000000205875087...   \n",
       "2  20120828_01Y0R8_Prospectus_CM00000000205875087...   \n",
       "3  20120828_01Y0R8_Prospectus_CM00000000205875087...   \n",
       "4  20120828_01Y0R8_Prospectus_CM00000000205875087...   \n",
       "\n",
       "                                            Sentence  loan_default  \\\n",
       "0  On each Business Day, the financial institutio...             1   \n",
       "1  The Borrower has established and is required t...             1   \n",
       "2  During a Trigger Period or while an event of d...             1   \n",
       "3  On any Business Day all amounts on deposit in ...             1   \n",
       "4  Available funds in each Cash Management Accoun...             1   \n",
       "\n",
       "   aggregate_dscr_fall  dscr_fall  unspecified  debt_yield_fall  \\\n",
       "0                    0          0            0                0   \n",
       "1                    1          0            0                0   \n",
       "2                    0          0            0                0   \n",
       "3                    0          0            0                0   \n",
       "4                    0          0            0                0   \n",
       "\n",
       "   aggregate_debt_yield_fall  mezzanine_default  tenant_failure  \\\n",
       "0                          0                  0               0   \n",
       "1                          0                  0               0   \n",
       "2                          0                  0               0   \n",
       "3                          0                  0               0   \n",
       "4                          0                  0               0   \n",
       "\n",
       "   mezzanine_outstanding  operator_termination  bankruptcy  \\\n",
       "0                      0                     0           0   \n",
       "1                      0                     0           0   \n",
       "2                      0                     0           0   \n",
       "3                      0                     0           0   \n",
       "4                      0                     0           0   \n",
       "\n",
       "   aggregate_debt_yield  sponsor_termination  renovations  \n",
       "0                     0                    0            0  \n",
       "1                     0                    0            0  \n",
       "2                     0                    0            0  \n",
       "3                     0                    0            0  \n",
       "4                     0                    0            0  "
      ]
     },
     "execution_count": 30,
     "metadata": {},
     "output_type": "execute_result"
    }
   ],
   "source": [
    "df.head()"
   ]
  },
  {
   "cell_type": "code",
   "execution_count": 31,
   "metadata": {},
   "outputs": [
    {
     "data": {
      "text/plain": [
       "Document                     object\n",
       "Sentence                     object\n",
       "loan_default                  Int64\n",
       "aggregate_dscr_fall           Int64\n",
       "dscr_fall                     Int64\n",
       "unspecified                   Int64\n",
       "debt_yield_fall               Int64\n",
       "aggregate_debt_yield_fall     Int64\n",
       "mezzanine_default             Int64\n",
       "tenant_failure                Int64\n",
       "mezzanine_outstanding         Int64\n",
       "operator_termination          Int64\n",
       "bankruptcy                    Int64\n",
       "aggregate_debt_yield          Int64\n",
       "sponsor_termination           Int64\n",
       "renovations                   Int64\n",
       "dtype: object"
      ]
     },
     "execution_count": 31,
     "metadata": {},
     "output_type": "execute_result"
    }
   ],
   "source": [
    "df.dtypes"
   ]
  },
  {
   "cell_type": "code",
   "execution_count": 32,
   "metadata": {},
   "outputs": [
    {
     "data": {
      "text/plain": [
       "(686, 16)"
      ]
     },
     "execution_count": 32,
     "metadata": {},
     "output_type": "execute_result"
    }
   ],
   "source": [
    "df.shape"
   ]
  },
  {
   "cell_type": "code",
   "execution_count": 33,
   "metadata": {},
   "outputs": [
    {
     "data": {
      "text/plain": [
       "Document                     20120828_01Y0R8_Prospectus_CM00000000205875087...\n",
       "Sentence                     On each Business Day, the financial institutio...\n",
       "loan_default                                                               297\n",
       "aggregate_dscr_fall                                                          2\n",
       "dscr_fall                                                                   16\n",
       "unspecified                                                                261\n",
       "debt_yield_fall                                                            110\n",
       "aggregate_debt_yield_fall                                                   17\n",
       "mezzanine_default                                                           42\n",
       "tenant_failure                                                              35\n",
       "mezzanine_outstanding                                                        8\n",
       "operator_termination                                                        15\n",
       "bankruptcy                                                                  17\n",
       "aggregate_debt_yield                                                         1\n",
       "sponsor_termination                                                         14\n",
       "renovations                                                                  9\n",
       "dtype: object"
      ]
     },
     "execution_count": 33,
     "metadata": {},
     "output_type": "execute_result"
    }
   ],
   "source": [
    "# We can confirm that the number of Triggers is consistent with the prior dataframe\n",
    "df.sum()"
   ]
  },
  {
   "cell_type": "code",
   "execution_count": null,
   "metadata": {},
   "outputs": [],
   "source": []
  },
  {
   "cell_type": "markdown",
   "metadata": {},
   "source": [
    "## Feature Engineering"
   ]
  },
  {
   "cell_type": "code",
   "execution_count": 34,
   "metadata": {},
   "outputs": [],
   "source": [
    "# Create a column with length of Sentence\n",
    "df['sentence_char_count'] = df['Sentence'].str.len()"
   ]
  },
  {
   "cell_type": "code",
   "execution_count": null,
   "metadata": {},
   "outputs": [],
   "source": []
  },
  {
   "cell_type": "code",
   "execution_count": 35,
   "metadata": {},
   "outputs": [
    {
     "data": {
      "text/html": [
       "<div>\n",
       "<style scoped>\n",
       "    .dataframe tbody tr th:only-of-type {\n",
       "        vertical-align: middle;\n",
       "    }\n",
       "\n",
       "    .dataframe tbody tr th {\n",
       "        vertical-align: top;\n",
       "    }\n",
       "\n",
       "    .dataframe thead th {\n",
       "        text-align: right;\n",
       "    }\n",
       "</style>\n",
       "<table border=\"1\" class=\"dataframe\">\n",
       "  <thead>\n",
       "    <tr style=\"text-align: right;\">\n",
       "      <th></th>\n",
       "      <th>Document</th>\n",
       "      <th>Sentence</th>\n",
       "      <th>loan_default</th>\n",
       "      <th>aggregate_dscr_fall</th>\n",
       "      <th>dscr_fall</th>\n",
       "      <th>unspecified</th>\n",
       "      <th>debt_yield_fall</th>\n",
       "      <th>aggregate_debt_yield_fall</th>\n",
       "      <th>mezzanine_default</th>\n",
       "      <th>tenant_failure</th>\n",
       "      <th>mezzanine_outstanding</th>\n",
       "      <th>operator_termination</th>\n",
       "      <th>bankruptcy</th>\n",
       "      <th>aggregate_debt_yield</th>\n",
       "      <th>sponsor_termination</th>\n",
       "      <th>renovations</th>\n",
       "      <th>sentence_char_count</th>\n",
       "    </tr>\n",
       "  </thead>\n",
       "  <tbody>\n",
       "    <tr>\n",
       "      <th>0</th>\n",
       "      <td>20120828_01Y0R8_Prospectus_CM00000000205875087...</td>\n",
       "      <td>On each Business Day, the financial institutio...</td>\n",
       "      <td>1</td>\n",
       "      <td>0</td>\n",
       "      <td>0</td>\n",
       "      <td>0</td>\n",
       "      <td>0</td>\n",
       "      <td>0</td>\n",
       "      <td>0</td>\n",
       "      <td>0</td>\n",
       "      <td>0</td>\n",
       "      <td>0</td>\n",
       "      <td>0</td>\n",
       "      <td>0</td>\n",
       "      <td>0</td>\n",
       "      <td>0</td>\n",
       "      <td>446</td>\n",
       "    </tr>\n",
       "    <tr>\n",
       "      <th>1</th>\n",
       "      <td>20120828_01Y0R8_Prospectus_CM00000000205875087...</td>\n",
       "      <td>The Borrower has established and is required t...</td>\n",
       "      <td>1</td>\n",
       "      <td>1</td>\n",
       "      <td>0</td>\n",
       "      <td>0</td>\n",
       "      <td>0</td>\n",
       "      <td>0</td>\n",
       "      <td>0</td>\n",
       "      <td>0</td>\n",
       "      <td>0</td>\n",
       "      <td>0</td>\n",
       "      <td>0</td>\n",
       "      <td>0</td>\n",
       "      <td>0</td>\n",
       "      <td>0</td>\n",
       "      <td>836</td>\n",
       "    </tr>\n",
       "    <tr>\n",
       "      <th>2</th>\n",
       "      <td>20120828_01Y0R8_Prospectus_CM00000000205875087...</td>\n",
       "      <td>During a Trigger Period or while an event of d...</td>\n",
       "      <td>1</td>\n",
       "      <td>0</td>\n",
       "      <td>0</td>\n",
       "      <td>0</td>\n",
       "      <td>0</td>\n",
       "      <td>0</td>\n",
       "      <td>0</td>\n",
       "      <td>0</td>\n",
       "      <td>0</td>\n",
       "      <td>0</td>\n",
       "      <td>0</td>\n",
       "      <td>0</td>\n",
       "      <td>0</td>\n",
       "      <td>0</td>\n",
       "      <td>1772</td>\n",
       "    </tr>\n",
       "    <tr>\n",
       "      <th>3</th>\n",
       "      <td>20120828_01Y0R8_Prospectus_CM00000000205875087...</td>\n",
       "      <td>On any Business Day all amounts on deposit in ...</td>\n",
       "      <td>1</td>\n",
       "      <td>0</td>\n",
       "      <td>0</td>\n",
       "      <td>0</td>\n",
       "      <td>0</td>\n",
       "      <td>0</td>\n",
       "      <td>0</td>\n",
       "      <td>0</td>\n",
       "      <td>0</td>\n",
       "      <td>0</td>\n",
       "      <td>0</td>\n",
       "      <td>0</td>\n",
       "      <td>0</td>\n",
       "      <td>0</td>\n",
       "      <td>302</td>\n",
       "    </tr>\n",
       "    <tr>\n",
       "      <th>4</th>\n",
       "      <td>20120828_01Y0R8_Prospectus_CM00000000205875087...</td>\n",
       "      <td>Available funds in each Cash Management Accoun...</td>\n",
       "      <td>1</td>\n",
       "      <td>0</td>\n",
       "      <td>0</td>\n",
       "      <td>0</td>\n",
       "      <td>0</td>\n",
       "      <td>0</td>\n",
       "      <td>0</td>\n",
       "      <td>0</td>\n",
       "      <td>0</td>\n",
       "      <td>0</td>\n",
       "      <td>0</td>\n",
       "      <td>0</td>\n",
       "      <td>0</td>\n",
       "      <td>0</td>\n",
       "      <td>235</td>\n",
       "    </tr>\n",
       "  </tbody>\n",
       "</table>\n",
       "</div>"
      ],
      "text/plain": [
       "                                            Document  \\\n",
       "0  20120828_01Y0R8_Prospectus_CM00000000205875087...   \n",
       "1  20120828_01Y0R8_Prospectus_CM00000000205875087...   \n",
       "2  20120828_01Y0R8_Prospectus_CM00000000205875087...   \n",
       "3  20120828_01Y0R8_Prospectus_CM00000000205875087...   \n",
       "4  20120828_01Y0R8_Prospectus_CM00000000205875087...   \n",
       "\n",
       "                                            Sentence  loan_default  \\\n",
       "0  On each Business Day, the financial institutio...             1   \n",
       "1  The Borrower has established and is required t...             1   \n",
       "2  During a Trigger Period or while an event of d...             1   \n",
       "3  On any Business Day all amounts on deposit in ...             1   \n",
       "4  Available funds in each Cash Management Accoun...             1   \n",
       "\n",
       "   aggregate_dscr_fall  dscr_fall  unspecified  debt_yield_fall  \\\n",
       "0                    0          0            0                0   \n",
       "1                    1          0            0                0   \n",
       "2                    0          0            0                0   \n",
       "3                    0          0            0                0   \n",
       "4                    0          0            0                0   \n",
       "\n",
       "   aggregate_debt_yield_fall  mezzanine_default  tenant_failure  \\\n",
       "0                          0                  0               0   \n",
       "1                          0                  0               0   \n",
       "2                          0                  0               0   \n",
       "3                          0                  0               0   \n",
       "4                          0                  0               0   \n",
       "\n",
       "   mezzanine_outstanding  operator_termination  bankruptcy  \\\n",
       "0                      0                     0           0   \n",
       "1                      0                     0           0   \n",
       "2                      0                     0           0   \n",
       "3                      0                     0           0   \n",
       "4                      0                     0           0   \n",
       "\n",
       "   aggregate_debt_yield  sponsor_termination  renovations  sentence_char_count  \n",
       "0                     0                    0            0                  446  \n",
       "1                     0                    0            0                  836  \n",
       "2                     0                    0            0                 1772  \n",
       "3                     0                    0            0                  302  \n",
       "4                     0                    0            0                  235  "
      ]
     },
     "execution_count": 35,
     "metadata": {},
     "output_type": "execute_result"
    }
   ],
   "source": [
    "df.head()"
   ]
  },
  {
   "cell_type": "code",
   "execution_count": null,
   "metadata": {},
   "outputs": [],
   "source": []
  },
  {
   "cell_type": "code",
   "execution_count": null,
   "metadata": {},
   "outputs": [],
   "source": []
  },
  {
   "cell_type": "markdown",
   "metadata": {},
   "source": [
    "## Natural Language Processing of the sentence column"
   ]
  },
  {
   "cell_type": "code",
   "execution_count": 36,
   "metadata": {},
   "outputs": [],
   "source": [
    "nlp = spacy.load('en_core_web_sm', disable = ['ner', 'parser'])"
   ]
  },
  {
   "cell_type": "code",
   "execution_count": 37,
   "metadata": {},
   "outputs": [
    {
     "data": {
      "text/plain": [
       "['During',\n",
       " 'a',\n",
       " 'Trigger',\n",
       " 'Period',\n",
       " 'or',\n",
       " 'while',\n",
       " 'an',\n",
       " 'event',\n",
       " 'of',\n",
       " 'default',\n",
       " 'under',\n",
       " 'the',\n",
       " 'Mortgage',\n",
       " 'Loan',\n",
       " 'is',\n",
       " 'continuing',\n",
       " ',',\n",
       " 'all',\n",
       " 'amounts',\n",
       " 'available',\n",
       " 'in',\n",
       " 'the',\n",
       " 'Cash',\n",
       " 'Management',\n",
       " 'Account',\n",
       " 'will',\n",
       " 'be',\n",
       " 'applied',\n",
       " 'on',\n",
       " 'each',\n",
       " 'Loan',\n",
       " 'Payment',\n",
       " 'Date',\n",
       " 'in',\n",
       " 'the',\n",
       " 'following',\n",
       " 'order',\n",
       " 'of',\n",
       " 'priority',\n",
       " ':',\n",
       " '(',\n",
       " 'i',\n",
       " ')',\n",
       " 'to',\n",
       " 'the',\n",
       " 'Tax',\n",
       " 'and',\n",
       " 'Insurance',\n",
       " 'Reserve',\n",
       " 'Account',\n",
       " ',',\n",
       " '(',\n",
       " 'a',\n",
       " ')',\n",
       " '1/12th',\n",
       " 'of',\n",
       " 'projected',\n",
       " 'annual',\n",
       " 'taxes',\n",
       " 'and',\n",
       " '(',\n",
       " 'b',\n",
       " ')',\n",
       " '1/12th',\n",
       " 'of',\n",
       " 'projected',\n",
       " 'annual',\n",
       " 'insurance',\n",
       " 'premiums',\n",
       " '(',\n",
       " 'unless',\n",
       " 'certain',\n",
       " 'blanket',\n",
       " 'policies',\n",
       " 'are',\n",
       " 'in',\n",
       " 'effect',\n",
       " ')',\n",
       " ',',\n",
       " '(',\n",
       " 'ii',\n",
       " ')',\n",
       " 'to',\n",
       " 'the',\n",
       " 'lender',\n",
       " ',',\n",
       " 'the',\n",
       " 'amount',\n",
       " 'of',\n",
       " 'all',\n",
       " 'scheduled',\n",
       " 'or',\n",
       " 'delinquent',\n",
       " 'interest',\n",
       " 'and',\n",
       " 'principal',\n",
       " 'on',\n",
       " 'the',\n",
       " 'Mortgage',\n",
       " 'Loan',\n",
       " 'and',\n",
       " 'all',\n",
       " 'other',\n",
       " 'amounts',\n",
       " 'then',\n",
       " 'due',\n",
       " 'and',\n",
       " 'payable',\n",
       " 'under',\n",
       " 'the',\n",
       " 'Loan',\n",
       " 'Documents',\n",
       " '(',\n",
       " 'with',\n",
       " 'amounts',\n",
       " 'in',\n",
       " 'respect',\n",
       " 'of',\n",
       " 'principal',\n",
       " 'paid',\n",
       " 'last',\n",
       " ')',\n",
       " ',',\n",
       " '(',\n",
       " 'iii',\n",
       " ')',\n",
       " 'provided',\n",
       " 'there',\n",
       " 'has',\n",
       " 'been',\n",
       " 'no',\n",
       " 'enforcement',\n",
       " 'action',\n",
       " ',',\n",
       " 'after',\n",
       " 'the',\n",
       " 'occurrence',\n",
       " 'and',\n",
       " 'during',\n",
       " 'the',\n",
       " 'continuance',\n",
       " 'of',\n",
       " 'an',\n",
       " 'event',\n",
       " 'of',\n",
       " 'default',\n",
       " 'under',\n",
       " 'the',\n",
       " 'Mortgage',\n",
       " 'Loan',\n",
       " ',',\n",
       " 'to',\n",
       " 'operating',\n",
       " 'accounts',\n",
       " ',',\n",
       " 'an',\n",
       " 'amount',\n",
       " 'equal',\n",
       " 'to',\n",
       " 'the',\n",
       " 'budgeted',\n",
       " 'operating',\n",
       " 'expenses',\n",
       " 'for',\n",
       " 'the',\n",
       " 'month',\n",
       " 'in',\n",
       " 'which',\n",
       " 'such',\n",
       " 'Loan',\n",
       " 'Payment',\n",
       " 'Date',\n",
       " 'occurs',\n",
       " '(',\n",
       " 'as',\n",
       " 'described',\n",
       " 'in',\n",
       " '“',\n",
       " 'Description',\n",
       " 'of',\n",
       " 'the',\n",
       " 'Mortgage',\n",
       " 'Loan',\n",
       " '—',\n",
       " 'Cash',\n",
       " 'Management',\n",
       " '”',\n",
       " ')',\n",
       " ';',\n",
       " '(',\n",
       " 'iv',\n",
       " ')',\n",
       " 'to',\n",
       " 'the',\n",
       " 'Capital',\n",
       " 'Expenditure',\n",
       " 'Reserve',\n",
       " 'Account,\\U00100003an',\n",
       " 'amount',\n",
       " 'equal',\n",
       " 'to',\n",
       " 'the',\n",
       " 'lesser',\n",
       " 'of',\n",
       " '(',\n",
       " 'a',\n",
       " ')',\n",
       " '$',\n",
       " '9,018',\n",
       " '(',\n",
       " 'which',\n",
       " 'is',\n",
       " '$',\n",
       " '0.15',\n",
       " 'per',\n",
       " 'owned',\n",
       " 'rentable',\n",
       " 'square',\n",
       " 'foot',\n",
       " 'per',\n",
       " 'annum',\n",
       " ')',\n",
       " 'or',\n",
       " '(',\n",
       " 'b',\n",
       " ')',\n",
       " 'the',\n",
       " 'amount',\n",
       " 'that',\n",
       " 'would',\n",
       " 'cause',\n",
       " 'the',\n",
       " 'total',\n",
       " 'amount',\n",
       " 'contained',\n",
       " 'in',\n",
       " 'the',\n",
       " 'Capital',\n",
       " 'Expenditure',\n",
       " 'Reserve',\n",
       " 'Account',\n",
       " 'to',\n",
       " 'equal',\n",
       " '$',\n",
       " '108,216',\n",
       " '(',\n",
       " 'which',\n",
       " 'is',\n",
       " '12',\n",
       " 'times',\n",
       " 'the',\n",
       " 'monthly',\n",
       " 'required',\n",
       " 'amount',\n",
       " 'set',\n",
       " 'forth',\n",
       " 'in',\n",
       " 'clause',\n",
       " '(',\n",
       " 'a',\n",
       " ')',\n",
       " ')',\n",
       " ',',\n",
       " '(',\n",
       " 'v',\n",
       " ')',\n",
       " 'to',\n",
       " 'the',\n",
       " 'TI',\n",
       " '/',\n",
       " 'LC',\n",
       " 'Reserve',\n",
       " 'Account',\n",
       " 'an',\n",
       " 'amount',\n",
       " 'equal',\n",
       " 'to',\n",
       " 'the',\n",
       " 'lesser',\n",
       " 'of',\n",
       " '(',\n",
       " 'a',\n",
       " ')',\n",
       " '$',\n",
       " '60,120',\n",
       " '(',\n",
       " 'which',\n",
       " 'is',\n",
       " '$',\n",
       " '1.00',\n",
       " 'per',\n",
       " 'owned',\n",
       " 'rentable',\n",
       " 'square',\n",
       " 'foot',\n",
       " 'per',\n",
       " 'annum',\n",
       " ')',\n",
       " 'or',\n",
       " '(',\n",
       " 'b',\n",
       " ')',\n",
       " 'the',\n",
       " 'amount',\n",
       " 'that',\n",
       " 'would',\n",
       " 'cause',\n",
       " 'the',\n",
       " 'total',\n",
       " 'amount',\n",
       " 'contained',\n",
       " 'in',\n",
       " 'the',\n",
       " 'Capital',\n",
       " 'Expenditure',\n",
       " 'Reserve',\n",
       " 'Account',\n",
       " 'to',\n",
       " 'equal',\n",
       " '$',\n",
       " '721,438',\n",
       " '(',\n",
       " 'which',\n",
       " 'is',\n",
       " '12',\n",
       " 'times',\n",
       " 'the',\n",
       " 'monthly',\n",
       " 'required',\n",
       " 'amount',\n",
       " 'set',\n",
       " 'forth',\n",
       " 'in',\n",
       " 'clause',\n",
       " '(',\n",
       " 'a',\n",
       " ')',\n",
       " ')',\n",
       " ',',\n",
       " 'and',\n",
       " '(',\n",
       " 'vi',\n",
       " ')',\n",
       " 'unless',\n",
       " 'an',\n",
       " 'event',\n",
       " 'of',\n",
       " 'default',\n",
       " 'under',\n",
       " 'the',\n",
       " 'Loan',\n",
       " 'Documents',\n",
       " 'is',\n",
       " 'continuing',\n",
       " ',',\n",
       " 'all',\n",
       " 'remaining',\n",
       " 'amounts',\n",
       " 'to',\n",
       " 'the',\n",
       " 'Borrower',\n",
       " '.']"
      ]
     },
     "execution_count": 37,
     "metadata": {},
     "output_type": "execute_result"
    }
   ],
   "source": [
    "# Review a tokenized sample Sentence\n",
    "[token.text for token in nlp(df['Sentence'][2])]"
   ]
  },
  {
   "cell_type": "code",
   "execution_count": 38,
   "metadata": {},
   "outputs": [
    {
     "data": {
      "text/plain": [
       "['during',\n",
       " 'a',\n",
       " 'trigger',\n",
       " 'period',\n",
       " 'or',\n",
       " 'while',\n",
       " 'an',\n",
       " 'event',\n",
       " 'of',\n",
       " 'default',\n",
       " 'under',\n",
       " 'the',\n",
       " 'mortgage',\n",
       " 'loan',\n",
       " 'be',\n",
       " 'continue',\n",
       " ',',\n",
       " 'all',\n",
       " 'amount',\n",
       " 'available',\n",
       " 'in',\n",
       " 'the',\n",
       " 'cash',\n",
       " 'management',\n",
       " 'account',\n",
       " 'will',\n",
       " 'be',\n",
       " 'apply',\n",
       " 'on',\n",
       " 'each',\n",
       " 'loan',\n",
       " 'payment',\n",
       " 'date',\n",
       " 'in',\n",
       " 'the',\n",
       " 'follow',\n",
       " 'order',\n",
       " 'of',\n",
       " 'priority',\n",
       " ':',\n",
       " '(',\n",
       " 'i',\n",
       " ')',\n",
       " 'to',\n",
       " 'the',\n",
       " 'tax',\n",
       " 'and',\n",
       " 'insurance',\n",
       " 'reserve',\n",
       " 'account',\n",
       " ',',\n",
       " '(',\n",
       " 'a',\n",
       " ')',\n",
       " '1/12th',\n",
       " 'of',\n",
       " 'project',\n",
       " 'annual',\n",
       " 'tax',\n",
       " 'and',\n",
       " '(',\n",
       " 'b',\n",
       " ')',\n",
       " '1/12th',\n",
       " 'of',\n",
       " 'project',\n",
       " 'annual',\n",
       " 'insurance',\n",
       " 'premium',\n",
       " '(',\n",
       " 'unless',\n",
       " 'certain',\n",
       " 'blanket',\n",
       " 'policy',\n",
       " 'be',\n",
       " 'in',\n",
       " 'effect',\n",
       " ')',\n",
       " ',',\n",
       " '(',\n",
       " 'ii',\n",
       " ')',\n",
       " 'to',\n",
       " 'the',\n",
       " 'lender',\n",
       " ',',\n",
       " 'the',\n",
       " 'amount',\n",
       " 'of',\n",
       " 'all',\n",
       " 'schedule',\n",
       " 'or',\n",
       " 'delinquent',\n",
       " 'interest',\n",
       " 'and',\n",
       " 'principal',\n",
       " 'on',\n",
       " 'the',\n",
       " 'mortgage',\n",
       " 'loan',\n",
       " 'and',\n",
       " 'all',\n",
       " 'other',\n",
       " 'amount',\n",
       " 'then',\n",
       " 'due',\n",
       " 'and',\n",
       " 'payable',\n",
       " 'under',\n",
       " 'the',\n",
       " 'loan',\n",
       " 'documents',\n",
       " '(',\n",
       " 'with',\n",
       " 'amount',\n",
       " 'in',\n",
       " 'respect',\n",
       " 'of',\n",
       " 'principal',\n",
       " 'pay',\n",
       " 'last',\n",
       " ')',\n",
       " ',',\n",
       " '(',\n",
       " 'iii',\n",
       " ')',\n",
       " 'provide',\n",
       " 'there',\n",
       " 'have',\n",
       " 'be',\n",
       " 'no',\n",
       " 'enforcement',\n",
       " 'action',\n",
       " ',',\n",
       " 'after',\n",
       " 'the',\n",
       " 'occurrence',\n",
       " 'and',\n",
       " 'during',\n",
       " 'the',\n",
       " 'continuance',\n",
       " 'of',\n",
       " 'an',\n",
       " 'event',\n",
       " 'of',\n",
       " 'default',\n",
       " 'under',\n",
       " 'the',\n",
       " 'mortgage',\n",
       " 'loan',\n",
       " ',',\n",
       " 'to',\n",
       " 'operating',\n",
       " 'account',\n",
       " ',',\n",
       " 'an',\n",
       " 'amount',\n",
       " 'equal',\n",
       " 'to',\n",
       " 'the',\n",
       " 'budget',\n",
       " 'operating',\n",
       " 'expense',\n",
       " 'for',\n",
       " 'the',\n",
       " 'month',\n",
       " 'in',\n",
       " 'which',\n",
       " 'such',\n",
       " 'loan',\n",
       " 'payment',\n",
       " 'date',\n",
       " 'occur',\n",
       " '(',\n",
       " 'as',\n",
       " 'describe',\n",
       " 'in',\n",
       " '\"',\n",
       " 'description',\n",
       " 'of',\n",
       " 'the',\n",
       " 'mortgage',\n",
       " 'loan',\n",
       " '—',\n",
       " 'cash',\n",
       " 'management',\n",
       " '\"',\n",
       " ')',\n",
       " ';',\n",
       " '(',\n",
       " 'iv',\n",
       " ')',\n",
       " 'to',\n",
       " 'the',\n",
       " 'capital',\n",
       " 'expenditure',\n",
       " 'reserve',\n",
       " 'account,\\U00100003an',\n",
       " 'amount',\n",
       " 'equal',\n",
       " 'to',\n",
       " 'the',\n",
       " 'less',\n",
       " 'of',\n",
       " '(',\n",
       " 'a',\n",
       " ')',\n",
       " '$',\n",
       " '9,018',\n",
       " '(',\n",
       " 'which',\n",
       " 'be',\n",
       " '$',\n",
       " '0.15',\n",
       " 'per',\n",
       " 'own',\n",
       " 'rentable',\n",
       " 'square',\n",
       " 'foot',\n",
       " 'per',\n",
       " 'annum',\n",
       " ')',\n",
       " 'or',\n",
       " '(',\n",
       " 'b',\n",
       " ')',\n",
       " 'the',\n",
       " 'amount',\n",
       " 'that',\n",
       " 'would',\n",
       " 'because',\n",
       " 'the',\n",
       " 'total',\n",
       " 'amount',\n",
       " 'contain',\n",
       " 'in',\n",
       " 'the',\n",
       " 'capital',\n",
       " 'expenditure',\n",
       " 'reserve',\n",
       " 'account',\n",
       " 'to',\n",
       " 'equal',\n",
       " '$',\n",
       " '108,216',\n",
       " '(',\n",
       " 'which',\n",
       " 'be',\n",
       " '12',\n",
       " 'time',\n",
       " 'the',\n",
       " 'monthly',\n",
       " 'require',\n",
       " 'amount',\n",
       " 'set',\n",
       " 'forth',\n",
       " 'in',\n",
       " 'clause',\n",
       " '(',\n",
       " 'a',\n",
       " ')',\n",
       " ')',\n",
       " ',',\n",
       " '(',\n",
       " 'v',\n",
       " ')',\n",
       " 'to',\n",
       " 'the',\n",
       " 'ti',\n",
       " '/',\n",
       " 'lc',\n",
       " 'reserve',\n",
       " 'account',\n",
       " 'an',\n",
       " 'amount',\n",
       " 'equal',\n",
       " 'to',\n",
       " 'the',\n",
       " 'less',\n",
       " 'of',\n",
       " '(',\n",
       " 'a',\n",
       " ')',\n",
       " '$',\n",
       " '60,120',\n",
       " '(',\n",
       " 'which',\n",
       " 'be',\n",
       " '$',\n",
       " '1.00',\n",
       " 'per',\n",
       " 'own',\n",
       " 'rentable',\n",
       " 'square',\n",
       " 'foot',\n",
       " 'per',\n",
       " 'annum',\n",
       " ')',\n",
       " 'or',\n",
       " '(',\n",
       " 'b',\n",
       " ')',\n",
       " 'the',\n",
       " 'amount',\n",
       " 'that',\n",
       " 'would',\n",
       " 'because',\n",
       " 'the',\n",
       " 'total',\n",
       " 'amount',\n",
       " 'contain',\n",
       " 'in',\n",
       " 'the',\n",
       " 'capital',\n",
       " 'expenditure',\n",
       " 'reserve',\n",
       " 'account',\n",
       " 'to',\n",
       " 'equal',\n",
       " '$',\n",
       " '721,438',\n",
       " '(',\n",
       " 'which',\n",
       " 'be',\n",
       " '12',\n",
       " 'time',\n",
       " 'the',\n",
       " 'monthly',\n",
       " 'require',\n",
       " 'amount',\n",
       " 'set',\n",
       " 'forth',\n",
       " 'in',\n",
       " 'clause',\n",
       " '(',\n",
       " 'a',\n",
       " ')',\n",
       " ')',\n",
       " ',',\n",
       " 'and',\n",
       " '(',\n",
       " 'vi',\n",
       " ')',\n",
       " 'unless',\n",
       " 'an',\n",
       " 'event',\n",
       " 'of',\n",
       " 'default',\n",
       " 'under',\n",
       " 'the',\n",
       " 'loan',\n",
       " 'documents',\n",
       " 'be',\n",
       " 'continue',\n",
       " ',',\n",
       " 'all',\n",
       " 'remain',\n",
       " 'amount',\n",
       " 'to',\n",
       " 'the',\n",
       " 'borrower',\n",
       " '.']"
      ]
     },
     "execution_count": 38,
     "metadata": {},
     "output_type": "execute_result"
    }
   ],
   "source": [
    "# Review a lemmatized sample Sentence\n",
    "[token.lemma_ for token in nlp(df['Sentence'][2])]"
   ]
  },
  {
   "cell_type": "code",
   "execution_count": 39,
   "metadata": {},
   "outputs": [],
   "source": [
    "def tokenize(text):\n",
    "    doc = nlp(text)\n",
    "    tokens = [token.text for token in doc]\n",
    "    return ' '.join(tokens)\n",
    "\n",
    "df['SentenceTokens'] = df['Sentence'].apply(tokenize)"
   ]
  },
  {
   "cell_type": "code",
   "execution_count": 40,
   "metadata": {},
   "outputs": [],
   "source": [
    "def lemmatize(text):\n",
    "    doc = nlp(text)\n",
    "    lemmas = [token.lemma_ for token in doc]\n",
    "    return ' '.join(lemmas)\n",
    "\n",
    "df['SentenceLemmas'] = df['Sentence'].apply(lemmatize)"
   ]
  },
  {
   "cell_type": "code",
   "execution_count": 41,
   "metadata": {},
   "outputs": [
    {
     "data": {
      "text/html": [
       "<div>\n",
       "<style scoped>\n",
       "    .dataframe tbody tr th:only-of-type {\n",
       "        vertical-align: middle;\n",
       "    }\n",
       "\n",
       "    .dataframe tbody tr th {\n",
       "        vertical-align: top;\n",
       "    }\n",
       "\n",
       "    .dataframe thead th {\n",
       "        text-align: right;\n",
       "    }\n",
       "</style>\n",
       "<table border=\"1\" class=\"dataframe\">\n",
       "  <thead>\n",
       "    <tr style=\"text-align: right;\">\n",
       "      <th></th>\n",
       "      <th>Document</th>\n",
       "      <th>Sentence</th>\n",
       "      <th>loan_default</th>\n",
       "      <th>aggregate_dscr_fall</th>\n",
       "      <th>dscr_fall</th>\n",
       "      <th>unspecified</th>\n",
       "      <th>debt_yield_fall</th>\n",
       "      <th>aggregate_debt_yield_fall</th>\n",
       "      <th>mezzanine_default</th>\n",
       "      <th>tenant_failure</th>\n",
       "      <th>mezzanine_outstanding</th>\n",
       "      <th>operator_termination</th>\n",
       "      <th>bankruptcy</th>\n",
       "      <th>aggregate_debt_yield</th>\n",
       "      <th>sponsor_termination</th>\n",
       "      <th>renovations</th>\n",
       "      <th>sentence_char_count</th>\n",
       "      <th>SentenceTokens</th>\n",
       "      <th>SentenceLemmas</th>\n",
       "    </tr>\n",
       "  </thead>\n",
       "  <tbody>\n",
       "    <tr>\n",
       "      <th>0</th>\n",
       "      <td>20120828_01Y0R8_Prospectus_CM00000000205875087...</td>\n",
       "      <td>On each Business Day, the financial institutio...</td>\n",
       "      <td>1</td>\n",
       "      <td>0</td>\n",
       "      <td>0</td>\n",
       "      <td>0</td>\n",
       "      <td>0</td>\n",
       "      <td>0</td>\n",
       "      <td>0</td>\n",
       "      <td>0</td>\n",
       "      <td>0</td>\n",
       "      <td>0</td>\n",
       "      <td>0</td>\n",
       "      <td>0</td>\n",
       "      <td>0</td>\n",
       "      <td>0</td>\n",
       "      <td>446</td>\n",
       "      <td>On each Business Day , the financial instituti...</td>\n",
       "      <td>on each business day , the financial instituti...</td>\n",
       "    </tr>\n",
       "    <tr>\n",
       "      <th>1</th>\n",
       "      <td>20120828_01Y0R8_Prospectus_CM00000000205875087...</td>\n",
       "      <td>The Borrower has established and is required t...</td>\n",
       "      <td>1</td>\n",
       "      <td>1</td>\n",
       "      <td>0</td>\n",
       "      <td>0</td>\n",
       "      <td>0</td>\n",
       "      <td>0</td>\n",
       "      <td>0</td>\n",
       "      <td>0</td>\n",
       "      <td>0</td>\n",
       "      <td>0</td>\n",
       "      <td>0</td>\n",
       "      <td>0</td>\n",
       "      <td>0</td>\n",
       "      <td>0</td>\n",
       "      <td>836</td>\n",
       "      <td>The Borrower has established and is required t...</td>\n",
       "      <td>the borrower have establish and be require to ...</td>\n",
       "    </tr>\n",
       "    <tr>\n",
       "      <th>2</th>\n",
       "      <td>20120828_01Y0R8_Prospectus_CM00000000205875087...</td>\n",
       "      <td>During a Trigger Period or while an event of d...</td>\n",
       "      <td>1</td>\n",
       "      <td>0</td>\n",
       "      <td>0</td>\n",
       "      <td>0</td>\n",
       "      <td>0</td>\n",
       "      <td>0</td>\n",
       "      <td>0</td>\n",
       "      <td>0</td>\n",
       "      <td>0</td>\n",
       "      <td>0</td>\n",
       "      <td>0</td>\n",
       "      <td>0</td>\n",
       "      <td>0</td>\n",
       "      <td>0</td>\n",
       "      <td>1772</td>\n",
       "      <td>During a Trigger Period or while an event of d...</td>\n",
       "      <td>during a trigger period or while an event of d...</td>\n",
       "    </tr>\n",
       "    <tr>\n",
       "      <th>3</th>\n",
       "      <td>20120828_01Y0R8_Prospectus_CM00000000205875087...</td>\n",
       "      <td>On any Business Day all amounts on deposit in ...</td>\n",
       "      <td>1</td>\n",
       "      <td>0</td>\n",
       "      <td>0</td>\n",
       "      <td>0</td>\n",
       "      <td>0</td>\n",
       "      <td>0</td>\n",
       "      <td>0</td>\n",
       "      <td>0</td>\n",
       "      <td>0</td>\n",
       "      <td>0</td>\n",
       "      <td>0</td>\n",
       "      <td>0</td>\n",
       "      <td>0</td>\n",
       "      <td>0</td>\n",
       "      <td>302</td>\n",
       "      <td>On any Business Day all amounts on deposit in ...</td>\n",
       "      <td>on any business day all amount on deposit in t...</td>\n",
       "    </tr>\n",
       "    <tr>\n",
       "      <th>4</th>\n",
       "      <td>20120828_01Y0R8_Prospectus_CM00000000205875087...</td>\n",
       "      <td>Available funds in each Cash Management Accoun...</td>\n",
       "      <td>1</td>\n",
       "      <td>0</td>\n",
       "      <td>0</td>\n",
       "      <td>0</td>\n",
       "      <td>0</td>\n",
       "      <td>0</td>\n",
       "      <td>0</td>\n",
       "      <td>0</td>\n",
       "      <td>0</td>\n",
       "      <td>0</td>\n",
       "      <td>0</td>\n",
       "      <td>0</td>\n",
       "      <td>0</td>\n",
       "      <td>0</td>\n",
       "      <td>235</td>\n",
       "      <td>Available funds in each Cash Management Accoun...</td>\n",
       "      <td>available fund in each cash management account...</td>\n",
       "    </tr>\n",
       "  </tbody>\n",
       "</table>\n",
       "</div>"
      ],
      "text/plain": [
       "                                            Document  \\\n",
       "0  20120828_01Y0R8_Prospectus_CM00000000205875087...   \n",
       "1  20120828_01Y0R8_Prospectus_CM00000000205875087...   \n",
       "2  20120828_01Y0R8_Prospectus_CM00000000205875087...   \n",
       "3  20120828_01Y0R8_Prospectus_CM00000000205875087...   \n",
       "4  20120828_01Y0R8_Prospectus_CM00000000205875087...   \n",
       "\n",
       "                                            Sentence  loan_default  \\\n",
       "0  On each Business Day, the financial institutio...             1   \n",
       "1  The Borrower has established and is required t...             1   \n",
       "2  During a Trigger Period or while an event of d...             1   \n",
       "3  On any Business Day all amounts on deposit in ...             1   \n",
       "4  Available funds in each Cash Management Accoun...             1   \n",
       "\n",
       "   aggregate_dscr_fall  dscr_fall  unspecified  debt_yield_fall  \\\n",
       "0                    0          0            0                0   \n",
       "1                    1          0            0                0   \n",
       "2                    0          0            0                0   \n",
       "3                    0          0            0                0   \n",
       "4                    0          0            0                0   \n",
       "\n",
       "   aggregate_debt_yield_fall  mezzanine_default  tenant_failure  \\\n",
       "0                          0                  0               0   \n",
       "1                          0                  0               0   \n",
       "2                          0                  0               0   \n",
       "3                          0                  0               0   \n",
       "4                          0                  0               0   \n",
       "\n",
       "   mezzanine_outstanding  operator_termination  bankruptcy  \\\n",
       "0                      0                     0           0   \n",
       "1                      0                     0           0   \n",
       "2                      0                     0           0   \n",
       "3                      0                     0           0   \n",
       "4                      0                     0           0   \n",
       "\n",
       "   aggregate_debt_yield  sponsor_termination  renovations  \\\n",
       "0                     0                    0            0   \n",
       "1                     0                    0            0   \n",
       "2                     0                    0            0   \n",
       "3                     0                    0            0   \n",
       "4                     0                    0            0   \n",
       "\n",
       "   sentence_char_count                                     SentenceTokens  \\\n",
       "0                  446  On each Business Day , the financial instituti...   \n",
       "1                  836  The Borrower has established and is required t...   \n",
       "2                 1772  During a Trigger Period or while an event of d...   \n",
       "3                  302  On any Business Day all amounts on deposit in ...   \n",
       "4                  235  Available funds in each Cash Management Accoun...   \n",
       "\n",
       "                                      SentenceLemmas  \n",
       "0  on each business day , the financial instituti...  \n",
       "1  the borrower have establish and be require to ...  \n",
       "2  during a trigger period or while an event of d...  \n",
       "3  on any business day all amount on deposit in t...  \n",
       "4  available fund in each cash management account...  "
      ]
     },
     "execution_count": 41,
     "metadata": {},
     "output_type": "execute_result"
    }
   ],
   "source": [
    "df.head()"
   ]
  },
  {
   "cell_type": "code",
   "execution_count": 42,
   "metadata": {},
   "outputs": [
    {
     "data": {
      "text/plain": [
       "'On each Business Day , the financial institution maintaining the blocked ac'"
      ]
     },
     "execution_count": 42,
     "metadata": {},
     "output_type": "execute_result"
    }
   ],
   "source": [
    "# Put all sentences into a list of review tokens\n",
    "all_sentence_tokens = ' '.join(df['SentenceTokens'])\n",
    "all_sentence_tokens[:75]"
   ]
  },
  {
   "cell_type": "code",
   "execution_count": 43,
   "metadata": {},
   "outputs": [
    {
     "data": {
      "text/plain": [
       "'on each business day , the financial institution maintain the block account'"
      ]
     },
     "execution_count": 43,
     "metadata": {},
     "output_type": "execute_result"
    }
   ],
   "source": [
    "# Put all sentences into a list of review lemmas\n",
    "all_sentence_lemmas = ' '.join(df['SentenceLemmas'])\n",
    "all_sentence_lemmas[:75]"
   ]
  },
  {
   "cell_type": "code",
   "execution_count": 44,
   "metadata": {},
   "outputs": [],
   "source": [
    "sentence_token_list = [token for token in all_sentence_tokens.split(' ')]\n",
    "sentence_lemma_list = [lemma for lemma in all_sentence_lemmas.split(' ')]"
   ]
  },
  {
   "cell_type": "code",
   "execution_count": 45,
   "metadata": {},
   "outputs": [],
   "source": [
    "token_df = pd.Series(sentence_token_list)\n",
    "lemma_df = pd.Series(sentence_lemma_list)"
   ]
  },
  {
   "cell_type": "code",
   "execution_count": 46,
   "metadata": {},
   "outputs": [
    {
     "data": {
      "image/png": "[encoded data removed]",
      "text/plain": [
       "<Figure size 432x432 with 1 Axes>"
      ]
     },
     "metadata": {
      "needs_background": "light"
     },
     "output_type": "display_data"
    }
   ],
   "source": [
    "# Plotting the raw token count\n",
    "token_series = token_df.value_counts().head(15).sort_values(ascending = True)\n",
    "ax = token_series.plot.barh(figsize = (6,6))\n",
    "ax.set_xlabel('count')\n",
    "ax.set_ylabel('token')\n",
    "ax.set_title('Sentences: Raw Token Count');"
   ]
  },
  {
   "cell_type": "code",
   "execution_count": 47,
   "metadata": {},
   "outputs": [
    {
     "data": {
      "image/png": "[encoded data removed]",
      "text/plain": [
       "<Figure size 432x432 with 1 Axes>"
      ]
     },
     "metadata": {
      "needs_background": "light"
     },
     "output_type": "display_data"
    }
   ],
   "source": [
    "# Plotting the raw lemma count\n",
    "lemma_series = lemma_df.value_counts().head(15).sort_values(ascending = True)\n",
    "ax = lemma_series.plot.barh(figsize = (6,6))\n",
    "ax.set_xlabel('count')\n",
    "ax.set_ylabel('lemma')\n",
    "ax.set_title('Sentences: Raw Lemma Count');"
   ]
  },
  {
   "cell_type": "code",
   "execution_count": 48,
   "metadata": {},
   "outputs": [],
   "source": [
    "# Remove punctuation, maintain letters and numbers\n",
    "df['SentenceLemmas_nopunc'] = df['SentenceLemmas'].str.replace(\"[^a-zA-Z0-9#']\", \" \")"
   ]
  },
  {
   "cell_type": "code",
   "execution_count": 49,
   "metadata": {},
   "outputs": [
    {
     "data": {
      "text/plain": [
       "['on',\n",
       " 'each',\n",
       " 'business',\n",
       " 'day',\n",
       " 'the',\n",
       " 'financial',\n",
       " 'institution',\n",
       " 'maintain',\n",
       " 'the',\n",
       " 'block']"
      ]
     },
     "execution_count": 49,
     "metadata": {},
     "output_type": "execute_result"
    }
   ],
   "source": [
    "# Put all SentenceLemmas_nopunc into a list\n",
    "all_lemmas_nopunc = ' '.join(df['SentenceLemmas_nopunc'])\n",
    "lemma_list_nopunc = [lemma for lemma in all_lemmas_nopunc.split(' ')]\n",
    "lemma_list_nopunc = [lemma for lemma in lemma_list_nopunc if lemma not in ['']]\n",
    "lemma_list_nopunc[:10]"
   ]
  },
  {
   "cell_type": "code",
   "execution_count": 50,
   "metadata": {},
   "outputs": [
    {
     "data": {
      "image/png": "[encoded data removed]",
      "text/plain": [
       "<Figure size 432x432 with 1 Axes>"
      ]
     },
     "metadata": {
      "needs_background": "light"
     },
     "output_type": "display_data"
    }
   ],
   "source": [
    "# Create a data series containing the list of words\n",
    "lemma_df_nopunc = pd.Series(lemma_list_nopunc)\n",
    "lemma_series_nopunc = lemma_df_nopunc.value_counts().head(15).sort_values(ascending = True)\n",
    "ax = lemma_series_nopunc.plot.barh(figsize = (6,6))\n",
    "ax.set_xlabel('count')\n",
    "ax.set_ylabel('lemma')\n",
    "ax.set_title('Sentences: Lemma Count, no punctuation');"
   ]
  },
  {
   "cell_type": "code",
   "execution_count": 51,
   "metadata": {},
   "outputs": [
    {
     "data": {
      "text/plain": [
       "0    on each business day   the financial instituti...\n",
       "1    the borrower have establish and be require to ...\n",
       "2    during a trigger period or while an event of d...\n",
       "3    on any business day all amount on deposit in t...\n",
       "4    available fund in each cash management account...\n",
       "Name: SentenceLemmas_nopunc, dtype: object"
      ]
     },
     "execution_count": 51,
     "metadata": {},
     "output_type": "execute_result"
    }
   ],
   "source": [
    "df['SentenceLemmas_nopunc'].head()"
   ]
  },
  {
   "cell_type": "code",
   "execution_count": 52,
   "metadata": {},
   "outputs": [],
   "source": [
    "df['SentenceLemmas_nopunc'] = df['SentenceLemmas_nopunc'].str.replace('\\s{2,}', ' ')"
   ]
  },
  {
   "cell_type": "code",
   "execution_count": 53,
   "metadata": {},
   "outputs": [
    {
     "data": {
      "text/plain": [
       "0    on each business day the financial institution...\n",
       "1    the borrower have establish and be require to ...\n",
       "2    during a trigger period or while an event of d...\n",
       "3    on any business day all amount on deposit in t...\n",
       "4    available fund in each cash management account...\n",
       "Name: SentenceLemmas_nopunc, dtype: object"
      ]
     },
     "execution_count": 53,
     "metadata": {},
     "output_type": "execute_result"
    }
   ],
   "source": [
    "df['SentenceLemmas_nopunc'].head()"
   ]
  },
  {
   "cell_type": "markdown",
   "metadata": {},
   "source": [
    "## Preprocessing and Preparation for Modeling"
   ]
  },
  {
   "cell_type": "code",
   "execution_count": 54,
   "metadata": {},
   "outputs": [],
   "source": [
    "short_stopwords = ['the', 'and', 'a', 'to', 'I', 'it', 'be', 'for', 'with', 'that']"
   ]
  },
  {
   "cell_type": "code",
   "execution_count": 55,
   "metadata": {},
   "outputs": [
    {
     "data": {
      "text/plain": [
       "['became',\n",
       " 'by',\n",
       " 'above',\n",
       " 'latter',\n",
       " 'ten',\n",
       " 'whence',\n",
       " 'wherever',\n",
       " 'whose',\n",
       " 'bottom',\n",
       " 'call',\n",
       " 'except',\n",
       " 'hers',\n",
       " 'ca',\n",
       " 'much',\n",
       " 'alone',\n",
       " 'there',\n",
       " 'over',\n",
       " 'during',\n",
       " 'ours',\n",
       " 'unless',\n",
       " 'latterly',\n",
       " 'their',\n",
       " 'part',\n",
       " 'before',\n",
       " 'behind',\n",
       " 'hereafter',\n",
       " 'off',\n",
       " 'without',\n",
       " 'myself',\n",
       " 'nevertheless',\n",
       " 'once',\n",
       " 'two',\n",
       " 'will',\n",
       " 'whereafter',\n",
       " 'name',\n",
       " 'are',\n",
       " 'becomes',\n",
       " 'already',\n",
       " 'perhaps',\n",
       " 'into',\n",
       " 'is',\n",
       " 'one',\n",
       " 're',\n",
       " 'serious',\n",
       " 'at',\n",
       " 'thereafter',\n",
       " 'back',\n",
       " 'beforehand',\n",
       " 'seems',\n",
       " 'do',\n",
       " 'third',\n",
       " 'other',\n",
       " 'anyhow',\n",
       " 'why',\n",
       " 'always',\n",
       " 'eleven',\n",
       " 'amount',\n",
       " 'give',\n",
       " 'some',\n",
       " 'whereupon',\n",
       " 'these',\n",
       " 'as',\n",
       " 'amongst',\n",
       " 'others',\n",
       " 'he',\n",
       " 'here',\n",
       " 'sometime',\n",
       " 'least',\n",
       " 'ever',\n",
       " 'himself',\n",
       " 'throughout',\n",
       " 'own',\n",
       " 'onto',\n",
       " 'due',\n",
       " 'fifteen',\n",
       " 'however',\n",
       " 'can',\n",
       " 'moreover',\n",
       " 'four',\n",
       " 'keep',\n",
       " 'still',\n",
       " 'front',\n",
       " 'on',\n",
       " 'whenever',\n",
       " 'former',\n",
       " 'take',\n",
       " 'that',\n",
       " 'between',\n",
       " 'from',\n",
       " 'hundred',\n",
       " 'not',\n",
       " 'those',\n",
       " 'made',\n",
       " 'three',\n",
       " 'through',\n",
       " 'what',\n",
       " 'with',\n",
       " 'sometimes',\n",
       " 'get',\n",
       " 'the',\n",
       " 'after',\n",
       " 'whom',\n",
       " 'another',\n",
       " 'doing',\n",
       " 'else',\n",
       " 'even',\n",
       " 'him',\n",
       " 'namely',\n",
       " 'nine',\n",
       " 'or',\n",
       " 'thereupon',\n",
       " 'someone',\n",
       " 'upon',\n",
       " 'please',\n",
       " 'my',\n",
       " 'no',\n",
       " 'whole',\n",
       " 'nor',\n",
       " 'would',\n",
       " 'full',\n",
       " 'elsewhere',\n",
       " 'any',\n",
       " 'never',\n",
       " 'just',\n",
       " 'toward',\n",
       " 'who',\n",
       " 'eight',\n",
       " 'yourselves',\n",
       " 'an',\n",
       " 'does',\n",
       " 'noone',\n",
       " 'than',\n",
       " 'via',\n",
       " 'us',\n",
       " 'yourself',\n",
       " 'often',\n",
       " 'about',\n",
       " 'none',\n",
       " 'whereas',\n",
       " 'everyone',\n",
       " 'somehow',\n",
       " 'its',\n",
       " 'against',\n",
       " 'were',\n",
       " 'almost',\n",
       " 'go',\n",
       " 'make',\n",
       " 'been',\n",
       " 'our',\n",
       " 'each',\n",
       " 'now',\n",
       " 'such',\n",
       " 'am',\n",
       " 'be',\n",
       " 'mostly',\n",
       " 'whether',\n",
       " 'to',\n",
       " 'quite',\n",
       " 'whatever',\n",
       " 'regarding',\n",
       " 'side',\n",
       " 'me',\n",
       " 'for',\n",
       " 'his',\n",
       " 'among',\n",
       " 'forty',\n",
       " 'see',\n",
       " 'should',\n",
       " 'they',\n",
       " 'thru',\n",
       " 'nobody',\n",
       " 'wherein',\n",
       " 'up',\n",
       " 'though',\n",
       " 'enough',\n",
       " 'she',\n",
       " 'otherwise',\n",
       " 'then',\n",
       " 'did',\n",
       " 'her',\n",
       " 'seem',\n",
       " 'seemed',\n",
       " 'twelve',\n",
       " 'more',\n",
       " 'so',\n",
       " 'somewhere',\n",
       " 'hereupon',\n",
       " 'say',\n",
       " 'either',\n",
       " 'hence',\n",
       " 'could',\n",
       " 'indeed',\n",
       " 'out',\n",
       " 'using',\n",
       " 'few',\n",
       " 'six',\n",
       " 'around',\n",
       " 'too',\n",
       " 'afterwards',\n",
       " 'last',\n",
       " 'anything',\n",
       " 'anywhere',\n",
       " 'meanwhile',\n",
       " 'anyone',\n",
       " 'herein',\n",
       " 'formerly',\n",
       " 'used',\n",
       " 'herself',\n",
       " 'had',\n",
       " 'neither',\n",
       " 'next',\n",
       " 'per',\n",
       " 'thereby',\n",
       " 'under',\n",
       " 'therefore',\n",
       " 'fifty',\n",
       " 'how',\n",
       " 'becoming',\n",
       " 'anyway',\n",
       " 'when',\n",
       " 'must',\n",
       " 'all',\n",
       " 'together',\n",
       " 'cannot',\n",
       " 'whither',\n",
       " 'whoever',\n",
       " 'and',\n",
       " 'you',\n",
       " 'beside',\n",
       " 'them',\n",
       " 'most',\n",
       " 'below',\n",
       " 'itself',\n",
       " 'beyond',\n",
       " 'but',\n",
       " 'show',\n",
       " 'empty',\n",
       " 'themselves',\n",
       " 'therein',\n",
       " 'may',\n",
       " 'yours',\n",
       " 'various',\n",
       " 'was',\n",
       " 'five',\n",
       " 'towards',\n",
       " 'done',\n",
       " 'everything',\n",
       " 'it',\n",
       " 'whereby',\n",
       " 'which',\n",
       " 'first',\n",
       " 'well',\n",
       " 'less',\n",
       " 'many',\n",
       " 'only',\n",
       " 'a',\n",
       " 'besides',\n",
       " 'has',\n",
       " 'really',\n",
       " 'across',\n",
       " 'several',\n",
       " 'until',\n",
       " 'both',\n",
       " 'every',\n",
       " 'since',\n",
       " 'we',\n",
       " 'yet',\n",
       " 'everywhere',\n",
       " 'also',\n",
       " 'although',\n",
       " 'nothing',\n",
       " 'of',\n",
       " 'very',\n",
       " 'put',\n",
       " 'same',\n",
       " 'mine',\n",
       " 'ourselves',\n",
       " 'top',\n",
       " 'your',\n",
       " 'because',\n",
       " 'in',\n",
       " 'along',\n",
       " 'might',\n",
       " 'move',\n",
       " 'hereby',\n",
       " 'rather',\n",
       " 'seeming',\n",
       " 'sixty',\n",
       " 'thence',\n",
       " 'nowhere',\n",
       " 'this',\n",
       " 'i',\n",
       " 'become',\n",
       " 'thus',\n",
       " 'where',\n",
       " 'being',\n",
       " 'if',\n",
       " 'something',\n",
       " 'within',\n",
       " 'twenty',\n",
       " 'down',\n",
       " 'while',\n",
       " 'have',\n",
       " 'further',\n",
       " 'again']"
      ]
     },
     "execution_count": 55,
     "metadata": {},
     "output_type": "execute_result"
    }
   ],
   "source": [
    "# Look at original stopword list\n",
    "stopwords = list(STOP_WORDS)\n",
    "stopwords"
   ]
  },
  {
   "cell_type": "code",
   "execution_count": 56,
   "metadata": {},
   "outputs": [],
   "source": [
    "# Choose to exclude anything with numbers are might be particularly relevant\n",
    "to_exclude = ['thereupon', 'cannot', 'should'] "
   ]
  },
  {
   "cell_type": "code",
   "execution_count": 57,
   "metadata": {},
   "outputs": [
    {
     "data": {
      "text/plain": [
       "['became',\n",
       " 'by',\n",
       " 'above',\n",
       " 'latter',\n",
       " 'ten',\n",
       " 'whence',\n",
       " 'wherever',\n",
       " 'whose',\n",
       " 'bottom',\n",
       " 'call',\n",
       " 'except',\n",
       " 'hers',\n",
       " 'ca',\n",
       " 'much',\n",
       " 'alone',\n",
       " 'there',\n",
       " 'over',\n",
       " 'during',\n",
       " 'ours',\n",
       " 'unless',\n",
       " 'latterly',\n",
       " 'their',\n",
       " 'part',\n",
       " 'before',\n",
       " 'behind',\n",
       " 'hereafter',\n",
       " 'off',\n",
       " 'without',\n",
       " 'myself',\n",
       " 'nevertheless',\n",
       " 'once',\n",
       " 'two',\n",
       " 'will',\n",
       " 'whereafter',\n",
       " 'name',\n",
       " 'are',\n",
       " 'becomes',\n",
       " 'already',\n",
       " 'perhaps',\n",
       " 'into',\n",
       " 'is',\n",
       " 'one',\n",
       " 're',\n",
       " 'serious',\n",
       " 'at',\n",
       " 'thereafter',\n",
       " 'back',\n",
       " 'beforehand',\n",
       " 'seems',\n",
       " 'do',\n",
       " 'third',\n",
       " 'other',\n",
       " 'anyhow',\n",
       " 'why',\n",
       " 'always',\n",
       " 'eleven',\n",
       " 'amount',\n",
       " 'give',\n",
       " 'some',\n",
       " 'whereupon',\n",
       " 'these',\n",
       " 'as',\n",
       " 'amongst',\n",
       " 'others',\n",
       " 'he',\n",
       " 'here',\n",
       " 'sometime',\n",
       " 'least',\n",
       " 'ever',\n",
       " 'himself',\n",
       " 'throughout',\n",
       " 'own',\n",
       " 'onto',\n",
       " 'due',\n",
       " 'fifteen',\n",
       " 'however',\n",
       " 'can',\n",
       " 'moreover',\n",
       " 'four',\n",
       " 'keep',\n",
       " 'still',\n",
       " 'front',\n",
       " 'on',\n",
       " 'whenever',\n",
       " 'former',\n",
       " 'take',\n",
       " 'that',\n",
       " 'between',\n",
       " 'from',\n",
       " 'hundred',\n",
       " 'not',\n",
       " 'those',\n",
       " 'made',\n",
       " 'three',\n",
       " 'through',\n",
       " 'what',\n",
       " 'with',\n",
       " 'sometimes',\n",
       " 'get',\n",
       " 'the',\n",
       " 'after',\n",
       " 'whom',\n",
       " 'another',\n",
       " 'doing',\n",
       " 'else',\n",
       " 'even',\n",
       " 'him',\n",
       " 'namely',\n",
       " 'nine',\n",
       " 'or',\n",
       " 'someone',\n",
       " 'upon',\n",
       " 'please',\n",
       " 'my',\n",
       " 'no',\n",
       " 'whole',\n",
       " 'nor',\n",
       " 'would',\n",
       " 'full',\n",
       " 'elsewhere',\n",
       " 'any',\n",
       " 'never',\n",
       " 'just',\n",
       " 'toward',\n",
       " 'who',\n",
       " 'eight',\n",
       " 'yourselves',\n",
       " 'an',\n",
       " 'does',\n",
       " 'noone',\n",
       " 'than',\n",
       " 'via',\n",
       " 'us',\n",
       " 'yourself',\n",
       " 'often',\n",
       " 'about',\n",
       " 'none',\n",
       " 'whereas',\n",
       " 'everyone',\n",
       " 'somehow',\n",
       " 'its',\n",
       " 'against',\n",
       " 'were',\n",
       " 'almost',\n",
       " 'go',\n",
       " 'make',\n",
       " 'been',\n",
       " 'our',\n",
       " 'each',\n",
       " 'now',\n",
       " 'such',\n",
       " 'am',\n",
       " 'be',\n",
       " 'mostly',\n",
       " 'whether',\n",
       " 'to',\n",
       " 'quite',\n",
       " 'whatever',\n",
       " 'regarding',\n",
       " 'side',\n",
       " 'me',\n",
       " 'for',\n",
       " 'his',\n",
       " 'among',\n",
       " 'forty',\n",
       " 'see',\n",
       " 'they',\n",
       " 'thru',\n",
       " 'nobody',\n",
       " 'wherein',\n",
       " 'up',\n",
       " 'though',\n",
       " 'enough',\n",
       " 'she',\n",
       " 'otherwise',\n",
       " 'then',\n",
       " 'did',\n",
       " 'her',\n",
       " 'seem',\n",
       " 'seemed',\n",
       " 'twelve',\n",
       " 'more',\n",
       " 'so',\n",
       " 'somewhere',\n",
       " 'hereupon',\n",
       " 'say',\n",
       " 'either',\n",
       " 'hence',\n",
       " 'could',\n",
       " 'indeed',\n",
       " 'out',\n",
       " 'using',\n",
       " 'few',\n",
       " 'six',\n",
       " 'around',\n",
       " 'too',\n",
       " 'afterwards',\n",
       " 'last',\n",
       " 'anything',\n",
       " 'anywhere',\n",
       " 'meanwhile',\n",
       " 'anyone',\n",
       " 'herein',\n",
       " 'formerly',\n",
       " 'used',\n",
       " 'herself',\n",
       " 'had',\n",
       " 'neither',\n",
       " 'next',\n",
       " 'per',\n",
       " 'thereby',\n",
       " 'under',\n",
       " 'therefore',\n",
       " 'fifty',\n",
       " 'how',\n",
       " 'becoming',\n",
       " 'anyway',\n",
       " 'when',\n",
       " 'must',\n",
       " 'all',\n",
       " 'together',\n",
       " 'whither',\n",
       " 'whoever',\n",
       " 'and',\n",
       " 'you',\n",
       " 'beside',\n",
       " 'them',\n",
       " 'most',\n",
       " 'below',\n",
       " 'itself',\n",
       " 'beyond',\n",
       " 'but',\n",
       " 'show',\n",
       " 'empty',\n",
       " 'themselves',\n",
       " 'therein',\n",
       " 'may',\n",
       " 'yours',\n",
       " 'various',\n",
       " 'was',\n",
       " 'five',\n",
       " 'towards',\n",
       " 'done',\n",
       " 'everything',\n",
       " 'it',\n",
       " 'whereby',\n",
       " 'which',\n",
       " 'first',\n",
       " 'well',\n",
       " 'less',\n",
       " 'many',\n",
       " 'only',\n",
       " 'a',\n",
       " 'besides',\n",
       " 'has',\n",
       " 'really',\n",
       " 'across',\n",
       " 'several',\n",
       " 'until',\n",
       " 'both',\n",
       " 'every',\n",
       " 'since',\n",
       " 'we',\n",
       " 'yet',\n",
       " 'everywhere',\n",
       " 'also',\n",
       " 'although',\n",
       " 'nothing',\n",
       " 'of',\n",
       " 'very',\n",
       " 'put',\n",
       " 'same',\n",
       " 'mine',\n",
       " 'ourselves',\n",
       " 'top',\n",
       " 'your',\n",
       " 'because',\n",
       " 'in',\n",
       " 'along',\n",
       " 'might',\n",
       " 'move',\n",
       " 'hereby',\n",
       " 'rather',\n",
       " 'seeming',\n",
       " 'sixty',\n",
       " 'thence',\n",
       " 'nowhere',\n",
       " 'this',\n",
       " 'i',\n",
       " 'become',\n",
       " 'thus',\n",
       " 'where',\n",
       " 'being',\n",
       " 'if',\n",
       " 'something',\n",
       " 'within',\n",
       " 'twenty',\n",
       " 'down',\n",
       " 'while',\n",
       " 'have',\n",
       " 'further',\n",
       " 'again']"
      ]
     },
     "execution_count": 57,
     "metadata": {},
     "output_type": "execute_result"
    }
   ],
   "source": [
    "# Define our selected stopword lists \n",
    "select_stopwords = [word for word in stopwords if word not in to_exclude]\n",
    "select_stopwords"
   ]
  },
  {
   "cell_type": "code",
   "execution_count": null,
   "metadata": {},
   "outputs": [],
   "source": []
  },
  {
   "cell_type": "code",
   "execution_count": null,
   "metadata": {},
   "outputs": [],
   "source": []
  },
  {
   "cell_type": "markdown",
   "metadata": {},
   "source": [
    "## Train/Test Split"
   ]
  },
  {
   "cell_type": "code",
   "execution_count": 58,
   "metadata": {},
   "outputs": [
    {
     "data": {
      "text/html": [
       "<div>\n",
       "<style scoped>\n",
       "    .dataframe tbody tr th:only-of-type {\n",
       "        vertical-align: middle;\n",
       "    }\n",
       "\n",
       "    .dataframe tbody tr th {\n",
       "        vertical-align: top;\n",
       "    }\n",
       "\n",
       "    .dataframe thead th {\n",
       "        text-align: right;\n",
       "    }\n",
       "</style>\n",
       "<table border=\"1\" class=\"dataframe\">\n",
       "  <thead>\n",
       "    <tr style=\"text-align: right;\">\n",
       "      <th></th>\n",
       "      <th>Document</th>\n",
       "      <th>Sentence</th>\n",
       "      <th>loan_default</th>\n",
       "      <th>aggregate_dscr_fall</th>\n",
       "      <th>dscr_fall</th>\n",
       "      <th>unspecified</th>\n",
       "      <th>debt_yield_fall</th>\n",
       "      <th>aggregate_debt_yield_fall</th>\n",
       "      <th>mezzanine_default</th>\n",
       "      <th>tenant_failure</th>\n",
       "      <th>mezzanine_outstanding</th>\n",
       "      <th>operator_termination</th>\n",
       "      <th>bankruptcy</th>\n",
       "      <th>aggregate_debt_yield</th>\n",
       "      <th>sponsor_termination</th>\n",
       "      <th>renovations</th>\n",
       "      <th>sentence_char_count</th>\n",
       "      <th>SentenceTokens</th>\n",
       "      <th>SentenceLemmas</th>\n",
       "      <th>SentenceLemmas_nopunc</th>\n",
       "    </tr>\n",
       "  </thead>\n",
       "  <tbody>\n",
       "    <tr>\n",
       "      <th>0</th>\n",
       "      <td>20120828_01Y0R8_Prospectus_CM00000000205875087...</td>\n",
       "      <td>On each Business Day, the financial institutio...</td>\n",
       "      <td>1</td>\n",
       "      <td>0</td>\n",
       "      <td>0</td>\n",
       "      <td>0</td>\n",
       "      <td>0</td>\n",
       "      <td>0</td>\n",
       "      <td>0</td>\n",
       "      <td>0</td>\n",
       "      <td>0</td>\n",
       "      <td>0</td>\n",
       "      <td>0</td>\n",
       "      <td>0</td>\n",
       "      <td>0</td>\n",
       "      <td>0</td>\n",
       "      <td>446</td>\n",
       "      <td>On each Business Day , the financial instituti...</td>\n",
       "      <td>on each business day , the financial instituti...</td>\n",
       "      <td>on each business day the financial institution...</td>\n",
       "    </tr>\n",
       "    <tr>\n",
       "      <th>1</th>\n",
       "      <td>20120828_01Y0R8_Prospectus_CM00000000205875087...</td>\n",
       "      <td>The Borrower has established and is required t...</td>\n",
       "      <td>1</td>\n",
       "      <td>1</td>\n",
       "      <td>0</td>\n",
       "      <td>0</td>\n",
       "      <td>0</td>\n",
       "      <td>0</td>\n",
       "      <td>0</td>\n",
       "      <td>0</td>\n",
       "      <td>0</td>\n",
       "      <td>0</td>\n",
       "      <td>0</td>\n",
       "      <td>0</td>\n",
       "      <td>0</td>\n",
       "      <td>0</td>\n",
       "      <td>836</td>\n",
       "      <td>The Borrower has established and is required t...</td>\n",
       "      <td>the borrower have establish and be require to ...</td>\n",
       "      <td>the borrower have establish and be require to ...</td>\n",
       "    </tr>\n",
       "    <tr>\n",
       "      <th>2</th>\n",
       "      <td>20120828_01Y0R8_Prospectus_CM00000000205875087...</td>\n",
       "      <td>During a Trigger Period or while an event of d...</td>\n",
       "      <td>1</td>\n",
       "      <td>0</td>\n",
       "      <td>0</td>\n",
       "      <td>0</td>\n",
       "      <td>0</td>\n",
       "      <td>0</td>\n",
       "      <td>0</td>\n",
       "      <td>0</td>\n",
       "      <td>0</td>\n",
       "      <td>0</td>\n",
       "      <td>0</td>\n",
       "      <td>0</td>\n",
       "      <td>0</td>\n",
       "      <td>0</td>\n",
       "      <td>1772</td>\n",
       "      <td>During a Trigger Period or while an event of d...</td>\n",
       "      <td>during a trigger period or while an event of d...</td>\n",
       "      <td>during a trigger period or while an event of d...</td>\n",
       "    </tr>\n",
       "    <tr>\n",
       "      <th>3</th>\n",
       "      <td>20120828_01Y0R8_Prospectus_CM00000000205875087...</td>\n",
       "      <td>On any Business Day all amounts on deposit in ...</td>\n",
       "      <td>1</td>\n",
       "      <td>0</td>\n",
       "      <td>0</td>\n",
       "      <td>0</td>\n",
       "      <td>0</td>\n",
       "      <td>0</td>\n",
       "      <td>0</td>\n",
       "      <td>0</td>\n",
       "      <td>0</td>\n",
       "      <td>0</td>\n",
       "      <td>0</td>\n",
       "      <td>0</td>\n",
       "      <td>0</td>\n",
       "      <td>0</td>\n",
       "      <td>302</td>\n",
       "      <td>On any Business Day all amounts on deposit in ...</td>\n",
       "      <td>on any business day all amount on deposit in t...</td>\n",
       "      <td>on any business day all amount on deposit in t...</td>\n",
       "    </tr>\n",
       "    <tr>\n",
       "      <th>4</th>\n",
       "      <td>20120828_01Y0R8_Prospectus_CM00000000205875087...</td>\n",
       "      <td>Available funds in each Cash Management Accoun...</td>\n",
       "      <td>1</td>\n",
       "      <td>0</td>\n",
       "      <td>0</td>\n",
       "      <td>0</td>\n",
       "      <td>0</td>\n",
       "      <td>0</td>\n",
       "      <td>0</td>\n",
       "      <td>0</td>\n",
       "      <td>0</td>\n",
       "      <td>0</td>\n",
       "      <td>0</td>\n",
       "      <td>0</td>\n",
       "      <td>0</td>\n",
       "      <td>0</td>\n",
       "      <td>235</td>\n",
       "      <td>Available funds in each Cash Management Accoun...</td>\n",
       "      <td>available fund in each cash management account...</td>\n",
       "      <td>available fund in each cash management account...</td>\n",
       "    </tr>\n",
       "  </tbody>\n",
       "</table>\n",
       "</div>"
      ],
      "text/plain": [
       "                                            Document  \\\n",
       "0  20120828_01Y0R8_Prospectus_CM00000000205875087...   \n",
       "1  20120828_01Y0R8_Prospectus_CM00000000205875087...   \n",
       "2  20120828_01Y0R8_Prospectus_CM00000000205875087...   \n",
       "3  20120828_01Y0R8_Prospectus_CM00000000205875087...   \n",
       "4  20120828_01Y0R8_Prospectus_CM00000000205875087...   \n",
       "\n",
       "                                            Sentence  loan_default  \\\n",
       "0  On each Business Day, the financial institutio...             1   \n",
       "1  The Borrower has established and is required t...             1   \n",
       "2  During a Trigger Period or while an event of d...             1   \n",
       "3  On any Business Day all amounts on deposit in ...             1   \n",
       "4  Available funds in each Cash Management Accoun...             1   \n",
       "\n",
       "   aggregate_dscr_fall  dscr_fall  unspecified  debt_yield_fall  \\\n",
       "0                    0          0            0                0   \n",
       "1                    1          0            0                0   \n",
       "2                    0          0            0                0   \n",
       "3                    0          0            0                0   \n",
       "4                    0          0            0                0   \n",
       "\n",
       "   aggregate_debt_yield_fall  mezzanine_default  tenant_failure  \\\n",
       "0                          0                  0               0   \n",
       "1                          0                  0               0   \n",
       "2                          0                  0               0   \n",
       "3                          0                  0               0   \n",
       "4                          0                  0               0   \n",
       "\n",
       "   mezzanine_outstanding  operator_termination  bankruptcy  \\\n",
       "0                      0                     0           0   \n",
       "1                      0                     0           0   \n",
       "2                      0                     0           0   \n",
       "3                      0                     0           0   \n",
       "4                      0                     0           0   \n",
       "\n",
       "   aggregate_debt_yield  sponsor_termination  renovations  \\\n",
       "0                     0                    0            0   \n",
       "1                     0                    0            0   \n",
       "2                     0                    0            0   \n",
       "3                     0                    0            0   \n",
       "4                     0                    0            0   \n",
       "\n",
       "   sentence_char_count                                     SentenceTokens  \\\n",
       "0                  446  On each Business Day , the financial instituti...   \n",
       "1                  836  The Borrower has established and is required t...   \n",
       "2                 1772  During a Trigger Period or while an event of d...   \n",
       "3                  302  On any Business Day all amounts on deposit in ...   \n",
       "4                  235  Available funds in each Cash Management Accoun...   \n",
       "\n",
       "                                      SentenceLemmas  \\\n",
       "0  on each business day , the financial instituti...   \n",
       "1  the borrower have establish and be require to ...   \n",
       "2  during a trigger period or while an event of d...   \n",
       "3  on any business day all amount on deposit in t...   \n",
       "4  available fund in each cash management account...   \n",
       "\n",
       "                               SentenceLemmas_nopunc  \n",
       "0  on each business day the financial institution...  \n",
       "1  the borrower have establish and be require to ...  \n",
       "2  during a trigger period or while an event of d...  \n",
       "3  on any business day all amount on deposit in t...  \n",
       "4  available fund in each cash management account...  "
      ]
     },
     "execution_count": 58,
     "metadata": {},
     "output_type": "execute_result"
    }
   ],
   "source": [
    "df.head()"
   ]
  },
  {
   "cell_type": "code",
   "execution_count": 59,
   "metadata": {},
   "outputs": [],
   "source": [
    "# Start by predicting Loan Default trigger\n",
    "\n",
    "target = 'loan_default'\n",
    "\n",
    "\n",
    "X = df['Sentence']\n",
    "y = df['loan_default']\n",
    "\n",
    "y = y.astype('int')"
   ]
  },
  {
   "cell_type": "code",
   "execution_count": 60,
   "metadata": {},
   "outputs": [
    {
     "data": {
      "text/plain": [
       "dtype('int64')"
      ]
     },
     "execution_count": 60,
     "metadata": {},
     "output_type": "execute_result"
    }
   ],
   "source": [
    "y.dtypes"
   ]
  },
  {
   "cell_type": "code",
   "execution_count": null,
   "metadata": {},
   "outputs": [],
   "source": []
  },
  {
   "cell_type": "code",
   "execution_count": 61,
   "metadata": {},
   "outputs": [
    {
     "name": "stdout",
     "output_type": "stream",
     "text": [
      "X shape is (686,)\n",
      "y shape is (686,)\n"
     ]
    }
   ],
   "source": [
    "# Checking shape of X and y \n",
    "print(f'X shape is {X.shape}')\n",
    "print(f'y shape is {y.shape}')"
   ]
  },
  {
   "cell_type": "code",
   "execution_count": 62,
   "metadata": {},
   "outputs": [
    {
     "data": {
      "text/plain": [
       "0    389\n",
       "1    297\n",
       "Name: loan_default, dtype: int64"
      ]
     },
     "execution_count": 62,
     "metadata": {},
     "output_type": "execute_result"
    }
   ],
   "source": [
    "y.value_counts()"
   ]
  },
  {
   "cell_type": "code",
   "execution_count": 63,
   "metadata": {},
   "outputs": [
    {
     "name": "stdout",
     "output_type": "stream",
     "text": [
      "(514,) (514,)\n",
      "(172,) (172,)\n"
     ]
    }
   ],
   "source": [
    "X_train, X_test, y_train, y_test = train_test_split(X, y, random_state = RANDOM_STATE)\n",
    "print(X_train.shape, y_train.shape)\n",
    "print(X_test.shape, y_test.shape)"
   ]
  },
  {
   "cell_type": "code",
   "execution_count": 64,
   "metadata": {},
   "outputs": [
    {
     "data": {
      "text/plain": [
       "0    On each Business Day, the financial institutio...\n",
       "1    The Borrower has established and is required t...\n",
       "2    During a Trigger Period or while an event of d...\n",
       "3    On any Business Day all amounts on deposit in ...\n",
       "4    Available funds in each Cash Management Accoun...\n",
       "Name: Sentence, dtype: object"
      ]
     },
     "execution_count": 64,
     "metadata": {},
     "output_type": "execute_result"
    }
   ],
   "source": [
    "X.head()"
   ]
  },
  {
   "cell_type": "code",
   "execution_count": 65,
   "metadata": {},
   "outputs": [
    {
     "data": {
      "text/plain": [
       "514"
      ]
     },
     "execution_count": 65,
     "metadata": {},
     "output_type": "execute_result"
    }
   ],
   "source": [
    "X_train.shape[0]"
   ]
  },
  {
   "cell_type": "code",
   "execution_count": 66,
   "metadata": {},
   "outputs": [
    {
     "data": {
      "text/plain": [
       "514"
      ]
     },
     "execution_count": 66,
     "metadata": {},
     "output_type": "execute_result"
    }
   ],
   "source": [
    "y_train.shape[0]"
   ]
  },
  {
   "cell_type": "code",
   "execution_count": null,
   "metadata": {},
   "outputs": [],
   "source": []
  },
  {
   "cell_type": "markdown",
   "metadata": {},
   "source": [
    "## Modeling"
   ]
  },
  {
   "cell_type": "markdown",
   "metadata": {},
   "source": [
    "### CountVectorizer + Logistic Regression GridSearch and modeling"
   ]
  },
  {
   "cell_type": "code",
   "execution_count": 67,
   "metadata": {},
   "outputs": [
    {
     "name": "stdout",
     "output_type": "stream",
     "text": [
      "Seconds elapsed for fitting: 190.328\n"
     ]
    }
   ],
   "source": [
    "# Define CVEC + Logistic Regression Pipeline\n",
    "pipe_cvec = Pipeline([('cvec', CountVectorizer()), ('lr', LogisticRegression(solver = 'liblinear', random_state = RANDOM_STATE))])\n",
    "cvec_params = {\n",
    "    'cvec__ngram_range': [(1,2), (1,3), (1,4), (1,5), (1,6), (1,7), (1,8), (1,9), (1,10)],\n",
    "    'cvec__stop_words': [None, short_stopwords, select_stopwords],  \n",
    "    'cvec__max_features': [100, 200, 400, 600, 800, 1000],\n",
    "#    'cvec__min_df': [2],\n",
    "#    'cvec__max_df': [.99],\n",
    "    }\n",
    "\n",
    "gs_cvec = GridSearchCV(pipe_cvec, param_grid = cvec_params, cv = 3, scoring = 'accuracy')\n",
    "\n",
    "# Start the timer.\n",
    "t0 = time.time()\n",
    "\n",
    "results_cvec = gs_cvec.fit(X_train, y_train)\n",
    "\n",
    "print(f'Seconds elapsed for fitting: {(time.time() - t0):.3f}') # How many seconds elapsed.\n",
    "\n"
   ]
  },
  {
   "cell_type": "code",
   "execution_count": 68,
   "metadata": {},
   "outputs": [],
   "source": [
    "#log_reg = LogisticRegression()\n",
    "#logreg.fit(X_train, y_train)\n"
   ]
  },
  {
   "cell_type": "code",
   "execution_count": 69,
   "metadata": {},
   "outputs": [
    {
     "name": "stdout",
     "output_type": "stream",
     "text": [
      "Training score is 0.996\n",
      "Test score is 0.994\n",
      "Cross Validation score is 0.923\n",
      "Seconds elapsed for score calculation: 1.182\n"
     ]
    }
   ],
   "source": [
    "t0 = time.time()\n",
    "print(f'Training score is {results_cvec.score(X_train, y_train):.3f}')\n",
    "print(f'Test score is {results_cvec.score(X_test, y_test):.3f}')\n",
    "print(f'Cross Validation score is {cross_val_score(results_cvec.best_estimator_, X, y, cv = 3).mean():.3f}')\n",
    "print(f'Seconds elapsed for score calculation: {(time.time() - t0):.3f}') # How many seconds elapsed."
   ]
  },
  {
   "cell_type": "code",
   "execution_count": 70,
   "metadata": {},
   "outputs": [
    {
     "name": "stdout",
     "output_type": "stream",
     "text": [
      "Best Score:0.969\n",
      "Best Parameters :{'cvec__max_features': 1000, 'cvec__ngram_range': (1, 4), 'cvec__stop_words': ['the', 'and', 'a', 'to', 'I', 'it', 'be', 'for', 'with', 'that']}\n"
     ]
    }
   ],
   "source": [
    "print(f'Best Score:{(results_cvec.best_score_):.3f}')\n",
    "print(f'Best Parameters :{results_cvec.best_params_}')"
   ]
  },
  {
   "cell_type": "code",
   "execution_count": null,
   "metadata": {},
   "outputs": [],
   "source": []
  },
  {
   "cell_type": "markdown",
   "metadata": {},
   "source": [
    "### 2: TFIDF + Logistic Regression GridSearch and modeling"
   ]
  },
  {
   "cell_type": "code",
   "execution_count": 71,
   "metadata": {},
   "outputs": [
    {
     "name": "stdout",
     "output_type": "stream",
     "text": [
      "Seconds elapsed for fitting: 191.845\n"
     ]
    }
   ],
   "source": [
    "# Define TFIDF + Logistic Regression Pipeline\n",
    "\n",
    "pipe_tfidf = Pipeline([('tfidf', TfidfVectorizer()), ('lr', LogisticRegression(max_iter = 4000, random_state = RANDOM_STATE))])\n",
    "\n",
    "tfidf_params = {\n",
    "    'tfidf__ngram_range': [(1,2), (1,3), (1,4), (1,5), (1,6), (1,7), (1,8), (1,9), (1,10)],\n",
    "    'tfidf__stop_words': [None, short_stopwords, select_stopwords],  \n",
    "    'tfidf__max_features': [100, 200, 400, 600, 800, 1000],\n",
    "#    'tfidf__min_df': [2],\n",
    "#    'tfidf__max_df': [.99],\n",
    "    }\n",
    "\n",
    "gs_tfidf = GridSearchCV(pipe_tfidf, param_grid = tfidf_params, cv = 3, scoring = 'accuracy')\n",
    "\n",
    "results_tfidf = gs_tfidf.fit(X_train, y_train)\n",
    "\n",
    "print(f'Seconds elapsed for fitting: {(time.time() - t0):.3f}') # How many seconds elapsed.\n",
    "\n"
   ]
  },
  {
   "cell_type": "code",
   "execution_count": 72,
   "metadata": {},
   "outputs": [
    {
     "name": "stdout",
     "output_type": "stream",
     "text": [
      "Training score is 0.967\n",
      "Test score is 0.942\n",
      "Cross Validation score is 0.921\n",
      "Seconds elapsed for score calculation: 1.751\n"
     ]
    }
   ],
   "source": [
    "t0 = time.time()\n",
    "print(f'Training score is {results_tfidf.score(X_train, y_train):.3f}')\n",
    "print(f'Test score is {results_tfidf.score(X_test, y_test):.3f}')\n",
    "print(f'Cross Validation score is {cross_val_score(results_tfidf.best_estimator_, X, y, cv = 3).mean():.3f}')\n",
    "print(f'Seconds elapsed for score calculation: {(time.time() - t0):.3f}') # How many seconds elapsed."
   ]
  },
  {
   "cell_type": "code",
   "execution_count": 73,
   "metadata": {},
   "outputs": [
    {
     "name": "stdout",
     "output_type": "stream",
     "text": [
      "Best Score: 0.9513463892288861\n",
      "Best Parameters: {'tfidf__max_features': 1000, 'tfidf__ngram_range': (1, 5), 'tfidf__stop_words': None}\n"
     ]
    }
   ],
   "source": [
    "print(f'Best Score: {results_tfidf.best_score_}')\n",
    "print(f'Best Parameters: {results_tfidf.best_params_}')"
   ]
  },
  {
   "cell_type": "code",
   "execution_count": null,
   "metadata": {},
   "outputs": [],
   "source": []
  },
  {
   "cell_type": "markdown",
   "metadata": {},
   "source": [
    "### 3: CountVectorizer + Multinomial Naive Bayes GridSearch & modeling"
   ]
  },
  {
   "cell_type": "code",
   "execution_count": 74,
   "metadata": {},
   "outputs": [
    {
     "name": "stdout",
     "output_type": "stream",
     "text": [
      "Seconds elapsed for fitting: 192.709\n"
     ]
    }
   ],
   "source": [
    "# Define CountVectorizer + Multinomial Naive Bayes Grisearch pipeline\n",
    "\n",
    "pipe_mnb = Pipeline([('cvec', CountVectorizer()), ('mnb', MultinomialNB())])\n",
    "mnb_params = {\n",
    "    'cvec__ngram_range': [(1,2), (1,3), (1,4), (1,5), (1,6), (1,7), (1,8), (1,9), (1,10)],\n",
    "    'cvec__stop_words': [None, short_stopwords, select_stopwords],\n",
    "    'cvec__max_features': [100, 200, 400, 600, 800, 1000],\n",
    "#    'cvec__min_df': [3],\n",
    "#    'cvec__max_df': [ .99],\n",
    "    }\n",
    "\n",
    "gs_mnb = GridSearchCV(pipe_mnb, param_grid = mnb_params, cv = 3, scoring = 'accuracy')\n",
    "\n",
    "# Start the timer.\n",
    "t0 = time.time()\n",
    "\n",
    "results_mnb = gs_mnb.fit(X_train, y_train)\n",
    "\n",
    "print(f'Seconds elapsed for fitting: {(time.time() - t0):.3f}') # How many seconds elapsed."
   ]
  },
  {
   "cell_type": "code",
   "execution_count": 75,
   "metadata": {},
   "outputs": [
    {
     "name": "stdout",
     "output_type": "stream",
     "text": [
      "Training score is 0.951\n",
      "Test score is 0.919\n",
      "Cross Validation score is 0.915\n",
      "Seconds elapsed for score calculation: 1.691\n"
     ]
    }
   ],
   "source": [
    "t0 = time.time()\n",
    "print(f'Training score is {results_mnb.score(X_train, y_train):.3f}')\n",
    "print(f'Test score is {results_mnb.score(X_test, y_test):.3f}')\n",
    "print(f'Cross Validation score is {cross_val_score(results_mnb.best_estimator_, X, y, cv = 3).mean():.3f}')\n",
    "print(f'Seconds elapsed for score calculation: {(time.time() - t0):.3f}') # How many seconds elapsed."
   ]
  },
  {
   "cell_type": "code",
   "execution_count": 76,
   "metadata": {},
   "outputs": [
    {
     "name": "stdout",
     "output_type": "stream",
     "text": [
      "Best Score: 0.9415658008069269\n",
      "Best Parameters: {'cvec__max_features': 100, 'cvec__ngram_range': (1, 5), 'cvec__stop_words': None}\n"
     ]
    }
   ],
   "source": [
    "print(f'Best Score: {results_mnb.best_score_}')\n",
    "print(f'Best Parameters: {results_mnb.best_params_}')"
   ]
  },
  {
   "cell_type": "code",
   "execution_count": null,
   "metadata": {},
   "outputs": [],
   "source": []
  },
  {
   "cell_type": "markdown",
   "metadata": {},
   "source": [
    "### 4: TFIDF + Gaussian Naive Bayes GridSearch & modeling"
   ]
  },
  {
   "cell_type": "code",
   "execution_count": 77,
   "metadata": {},
   "outputs": [
    {
     "name": "stdout",
     "output_type": "stream",
     "text": [
      "Seconds elapsed for fitting: 195.417\n"
     ]
    }
   ],
   "source": [
    "# Define TFIDF + Gaussian Naive Bayes Gridsearch pipeline\n",
    "\n",
    "from sklearn.base import TransformerMixin\n",
    "class DenseTransformer(TransformerMixin):\n",
    "\n",
    "    def fit(self, X, y=None, **fit_params):\n",
    "        return self\n",
    "\n",
    "    def transform(self, X, y=None, **fit_params):\n",
    "        return X.todense()\n",
    "\n",
    "\n",
    "pipe_gnb = Pipeline([('tfidf', TfidfVectorizer()), ('to_dense', DenseTransformer()),('gnb', GaussianNB())])\n",
    "\n",
    "gnb_params = {\n",
    "    'tfidf__ngram_range': [(1,2), (1,3), (1,4), (1,5), (1,6), (1,7), (1,8), (1,9), (1,10)],\n",
    "    'tfidf__stop_words': [None, short_stopwords, select_stopwords],\n",
    "    'tfidf__max_features': [100, 200, 400, 600, 800, 1000],\n",
    "#    'tfidf__min_df': [2],\n",
    "#    'tfidf__max_df': [.99],\n",
    "    }\n",
    "\n",
    "gs_gnb = GridSearchCV(pipe_gnb, param_grid = gnb_params, cv = 3, scoring = 'accuracy')\n",
    "\n",
    "# Start the timer.\n",
    "t0 = time.time()\n",
    "\n",
    "results_gnb = gs_gnb.fit(X_train, y_train)\n",
    "\n",
    "print(f'Seconds elapsed for fitting: {(time.time() - t0):.3f}') # How many seconds elapsed."
   ]
  },
  {
   "cell_type": "code",
   "execution_count": 78,
   "metadata": {},
   "outputs": [
    {
     "name": "stdout",
     "output_type": "stream",
     "text": [
      "Training score is 0.957\n",
      "Test score is 0.936\n",
      "Cross Validation score is 0.939\n",
      "Seconds elapsed for score calculation: 0.937\n"
     ]
    }
   ],
   "source": [
    "t0 = time.time()\n",
    "print(f'Training score is {results_gnb.score(X_train, y_train):.3f}')\n",
    "print(f'Test score is {results_gnb.score(X_test, y_test):.3f}')\n",
    "print(f'Cross Validation score is {cross_val_score(results_gnb.best_estimator_, X, y, cv = 3).mean():.3f}')\n",
    "print(f'Seconds elapsed for score calculation: {(time.time() - t0):.3f}') # How many seconds elapsed."
   ]
  },
  {
   "cell_type": "code",
   "execution_count": 79,
   "metadata": {},
   "outputs": [
    {
     "name": "stdout",
     "output_type": "stream",
     "text": [
      "Best Score: 0.9533297066956797\n",
      "Best Parameters: {'tfidf__max_features': 100, 'tfidf__ngram_range': (1, 3), 'tfidf__stop_words': None}\n"
     ]
    }
   ],
   "source": [
    "print(f'Best Score: {results_gnb.best_score_}')\n",
    "print(f'Best Parameters: {results_gnb.best_params_}')"
   ]
  },
  {
   "cell_type": "code",
   "execution_count": null,
   "metadata": {},
   "outputs": [],
   "source": []
  },
  {
   "cell_type": "markdown",
   "metadata": {},
   "source": [
    "## Model Selection\n",
    "- In this section we compare the Train and Test scores across the various models"
   ]
  },
  {
   "cell_type": "code",
   "execution_count": null,
   "metadata": {},
   "outputs": [],
   "source": []
  },
  {
   "cell_type": "code",
   "execution_count": 80,
   "metadata": {},
   "outputs": [
    {
     "name": "stdout",
     "output_type": "stream",
     "text": [
      "Baseline Score:                                0.570\n",
      "CountVectorizer + LogisticRegression Accuracy: 0.996\n",
      "TfidfVectorizer + LogisticRegression Accuracy: 0.967\n",
      "CountVectorizer + Multinomial Naive Bayes:     0.951\n",
      "TfidfVectorizer + Gaussian Naive Bayes:        0.957\n"
     ]
    }
   ],
   "source": [
    "# Check Training Scores across all models\n",
    "print(f'Baseline Score:                                {y_test.value_counts(normalize=True)[0]:.3f}')\n",
    "print(f'CountVectorizer + LogisticRegression Accuracy: {results_cvec.score(X_train, y_train):.3f}')\n",
    "print(f'TfidfVectorizer + LogisticRegression Accuracy: {results_tfidf.score(X_train, y_train):.3f}')\n",
    "print(f'CountVectorizer + Multinomial Naive Bayes:     {results_mnb.score(X_train, y_train):.3f}')\n",
    "print(f'TfidfVectorizer + Gaussian Naive Bayes:        {results_gnb.score(X_train, y_train):.3f}')"
   ]
  },
  {
   "cell_type": "code",
   "execution_count": 81,
   "metadata": {},
   "outputs": [
    {
     "name": "stdout",
     "output_type": "stream",
     "text": [
      "Baseline Score:                                0.570\n",
      "CountVectorizer + LogisticRegression Accuracy: 0.994\n",
      "TfidfVectorizer + LogisticRegression Accuracy: 0.942\n",
      "CountVectorizer + Multinomial Naive Bayes:     0.919\n",
      "TfidfVectorizer + Gaussian Naive Bayes:        0.936\n"
     ]
    }
   ],
   "source": [
    "# Check Testing Scores across all models\n",
    "print(f'Baseline Score:                                {y_test.value_counts(normalize=True)[0]:.3f}')\n",
    "print(f'CountVectorizer + LogisticRegression Accuracy: {results_cvec.score(X_test, y_test):.3f}')\n",
    "print(f'TfidfVectorizer + LogisticRegression Accuracy: {results_tfidf.score(X_test, y_test):.3f}')\n",
    "print(f'CountVectorizer + Multinomial Naive Bayes:     {results_mnb.score(X_test, y_test):.3f}')\n",
    "print(f'TfidfVectorizer + Gaussian Naive Bayes:        {results_gnb.score(X_test, y_test):.3f}')"
   ]
  },
  {
   "cell_type": "code",
   "execution_count": null,
   "metadata": {},
   "outputs": [],
   "source": []
  },
  {
   "cell_type": "markdown",
   "metadata": {},
   "source": [
    "## Model Evaluation"
   ]
  },
  {
   "cell_type": "code",
   "execution_count": 82,
   "metadata": {},
   "outputs": [],
   "source": [
    "# Isolate the individual words and their coefficients\n",
    "# Feature names (i.e., words in the Sentences):\n",
    "names = results_cvec.best_estimator_.steps[0][1].get_feature_names()\n",
    "\n",
    "# classifier (betas):\n",
    "classifier = results_cvec.best_estimator_.named_steps['lr']\n",
    "\n",
    "# https://stackoverflow.com/questions/43856280/return-coefficients-from-pipeline-object-in-sklearn"
   ]
  },
  {
   "cell_type": "code",
   "execution_count": 83,
   "metadata": {},
   "outputs": [
    {
     "data": {
      "text/plain": [
       "[0.0465346443265699,\n",
       " -0.06335916413150773,\n",
       " -0.06335916413150773,\n",
       " -0.05204746679990289,\n",
       " -0.11691564829730042,\n",
       " -0.06472622785493409,\n",
       " 0.058209630755139706,\n",
       " -0.03218164103911576,\n",
       " -0.09009276601990726,\n",
       " -0.09009276601990726]"
      ]
     },
     "execution_count": 83,
     "metadata": {},
     "output_type": "execute_result"
    }
   ],
   "source": [
    "# Extract coefficients from the classifier defined above\n",
    "coef_cvec = np.array(classifier.coef_).tolist()[0]\n",
    "coef_cvec[:10] #Look at 10 coefficients"
   ]
  },
  {
   "cell_type": "code",
   "execution_count": 84,
   "metadata": {},
   "outputs": [],
   "source": [
    "# Create zipped list of the word names with their corresponding beta coefficients\n",
    "cvec_top_words = list(zip(names, coef_cvec))"
   ]
  },
  {
   "cell_type": "code",
   "execution_count": 85,
   "metadata": {},
   "outputs": [],
   "source": [
    "# Create final dataframe of words with their corresponding coefficients\n",
    "df_cvec_coefs = pd.DataFrame(cvec_top_words).rename(columns = {0: 'word', 1: 'coef'}).sort_values(by = 'coef', ascending = False)"
   ]
  },
  {
   "cell_type": "code",
   "execution_count": 86,
   "metadata": {},
   "outputs": [
    {
     "data": {
      "text/html": [
       "<div>\n",
       "<style scoped>\n",
       "    .dataframe tbody tr th:only-of-type {\n",
       "        vertical-align: middle;\n",
       "    }\n",
       "\n",
       "    .dataframe tbody tr th {\n",
       "        vertical-align: top;\n",
       "    }\n",
       "\n",
       "    .dataframe thead th {\n",
       "        text-align: right;\n",
       "    }\n",
       "</style>\n",
       "<table border=\"1\" class=\"dataframe\">\n",
       "  <thead>\n",
       "    <tr style=\"text-align: right;\">\n",
       "      <th></th>\n",
       "      <th>word</th>\n",
       "      <th>coef</th>\n",
       "    </tr>\n",
       "  </thead>\n",
       "  <tbody>\n",
       "    <tr>\n",
       "      <th>561</th>\n",
       "      <td>mezzanine loan</td>\n",
       "      <td>-0.650086</td>\n",
       "    </tr>\n",
       "    <tr>\n",
       "      <th>554</th>\n",
       "      <td>means</td>\n",
       "      <td>-0.478898</td>\n",
       "    </tr>\n",
       "    <tr>\n",
       "      <th>757</th>\n",
       "      <td>pool</td>\n",
       "      <td>-0.428319</td>\n",
       "    </tr>\n",
       "    <tr>\n",
       "      <th>563</th>\n",
       "      <td>mezzanine loan documents</td>\n",
       "      <td>-0.405111</td>\n",
       "    </tr>\n",
       "    <tr>\n",
       "      <th>339</th>\n",
       "      <td>exists</td>\n",
       "      <td>-0.394458</td>\n",
       "    </tr>\n",
       "    <tr>\n",
       "      <th>658</th>\n",
       "      <td>of trigger period</td>\n",
       "      <td>-0.389397</td>\n",
       "    </tr>\n",
       "    <tr>\n",
       "      <th>657</th>\n",
       "      <td>of trigger</td>\n",
       "      <td>-0.389397</td>\n",
       "    </tr>\n",
       "    <tr>\n",
       "      <th>661</th>\n",
       "      <td>on</td>\n",
       "      <td>-0.377731</td>\n",
       "    </tr>\n",
       "    <tr>\n",
       "      <th>557</th>\n",
       "      <td>mezzanine</td>\n",
       "      <td>-0.370611</td>\n",
       "    </tr>\n",
       "    <tr>\n",
       "      <th>89</th>\n",
       "      <td>applicable</td>\n",
       "      <td>-0.331873</td>\n",
       "    </tr>\n",
       "    <tr>\n",
       "      <th>438</th>\n",
       "      <td>in event</td>\n",
       "      <td>-0.308924</td>\n",
       "    </tr>\n",
       "    <tr>\n",
       "      <th>100</th>\n",
       "      <td>approved</td>\n",
       "      <td>-0.302673</td>\n",
       "    </tr>\n",
       "    <tr>\n",
       "      <th>104</th>\n",
       "      <td>approved operating expenses</td>\n",
       "      <td>-0.296007</td>\n",
       "    </tr>\n",
       "    <tr>\n",
       "      <th>501</th>\n",
       "      <td>lender has</td>\n",
       "      <td>-0.294658</td>\n",
       "    </tr>\n",
       "    <tr>\n",
       "      <th>547</th>\n",
       "      <td>management period</td>\n",
       "      <td>-0.292542</td>\n",
       "    </tr>\n",
       "    <tr>\n",
       "      <th>180</th>\n",
       "      <td>cash management period</td>\n",
       "      <td>-0.289760</td>\n",
       "    </tr>\n",
       "    <tr>\n",
       "      <th>392</th>\n",
       "      <td>has</td>\n",
       "      <td>-0.287995</td>\n",
       "    </tr>\n",
       "    <tr>\n",
       "      <th>731</th>\n",
       "      <td>period</td>\n",
       "      <td>-0.278904</td>\n",
       "    </tr>\n",
       "    <tr>\n",
       "      <th>478</th>\n",
       "      <td>is required</td>\n",
       "      <td>-0.277785</td>\n",
       "    </tr>\n",
       "    <tr>\n",
       "      <th>142</th>\n",
       "      <td>borrower is</td>\n",
       "      <td>-0.274099</td>\n",
       "    </tr>\n",
       "  </tbody>\n",
       "</table>\n",
       "</div>"
      ],
      "text/plain": [
       "                            word      coef\n",
       "561               mezzanine loan -0.650086\n",
       "554                        means -0.478898\n",
       "757                         pool -0.428319\n",
       "563     mezzanine loan documents -0.405111\n",
       "339                       exists -0.394458\n",
       "658            of trigger period -0.389397\n",
       "657                   of trigger -0.389397\n",
       "661                           on -0.377731\n",
       "557                    mezzanine -0.370611\n",
       "89                    applicable -0.331873\n",
       "438                     in event -0.308924\n",
       "100                     approved -0.302673\n",
       "104  approved operating expenses -0.296007\n",
       "501                   lender has -0.294658\n",
       "547            management period -0.292542\n",
       "180       cash management period -0.289760\n",
       "392                          has -0.287995\n",
       "731                       period -0.278904\n",
       "478                  is required -0.277785\n",
       "142                  borrower is -0.274099"
      ]
     },
     "execution_count": 86,
     "metadata": {},
     "output_type": "execute_result"
    }
   ],
   "source": [
    "# Top differentiating words and phrases in High Star Ratings\n",
    "df_cvec_coefs.tail(20).sort_values('coef', ascending = True)"
   ]
  },
  {
   "cell_type": "code",
   "execution_count": 87,
   "metadata": {},
   "outputs": [
    {
     "data": {
      "text/html": [
       "<div>\n",
       "<style scoped>\n",
       "    .dataframe tbody tr th:only-of-type {\n",
       "        vertical-align: middle;\n",
       "    }\n",
       "\n",
       "    .dataframe tbody tr th {\n",
       "        vertical-align: top;\n",
       "    }\n",
       "\n",
       "    .dataframe thead th {\n",
       "        text-align: right;\n",
       "    }\n",
       "</style>\n",
       "<table border=\"1\" class=\"dataframe\">\n",
       "  <thead>\n",
       "    <tr style=\"text-align: right;\">\n",
       "      <th></th>\n",
       "      <th>word</th>\n",
       "      <th>coef</th>\n",
       "    </tr>\n",
       "  </thead>\n",
       "  <tbody>\n",
       "    <tr>\n",
       "      <th>247</th>\n",
       "      <td>default</td>\n",
       "      <td>1.172290</td>\n",
       "    </tr>\n",
       "    <tr>\n",
       "      <th>635</th>\n",
       "      <td>of default</td>\n",
       "      <td>0.938724</td>\n",
       "    </tr>\n",
       "    <tr>\n",
       "      <th>323</th>\n",
       "      <td>event of default</td>\n",
       "      <td>0.925069</td>\n",
       "    </tr>\n",
       "    <tr>\n",
       "      <th>322</th>\n",
       "      <td>event of</td>\n",
       "      <td>0.791555</td>\n",
       "    </tr>\n",
       "    <tr>\n",
       "      <th>747</th>\n",
       "      <td>period or</td>\n",
       "      <td>0.631278</td>\n",
       "    </tr>\n",
       "    <tr>\n",
       "      <th>586</th>\n",
       "      <td>mortgage loan event</td>\n",
       "      <td>0.530904</td>\n",
       "    </tr>\n",
       "    <tr>\n",
       "      <th>587</th>\n",
       "      <td>mortgage loan event of</td>\n",
       "      <td>0.530904</td>\n",
       "    </tr>\n",
       "    <tr>\n",
       "      <th>521</th>\n",
       "      <td>loan event of default</td>\n",
       "      <td>0.421558</td>\n",
       "    </tr>\n",
       "    <tr>\n",
       "      <th>520</th>\n",
       "      <td>loan event of</td>\n",
       "      <td>0.421558</td>\n",
       "    </tr>\n",
       "    <tr>\n",
       "      <th>519</th>\n",
       "      <td>loan event</td>\n",
       "      <td>0.421558</td>\n",
       "    </tr>\n",
       "    <tr>\n",
       "      <th>720</th>\n",
       "      <td>payment</td>\n",
       "      <td>0.401273</td>\n",
       "    </tr>\n",
       "    <tr>\n",
       "      <th>686</th>\n",
       "      <td>or</td>\n",
       "      <td>0.383341</td>\n",
       "    </tr>\n",
       "    <tr>\n",
       "      <th>509</th>\n",
       "      <td>lender will</td>\n",
       "      <td>0.344098</td>\n",
       "    </tr>\n",
       "    <tr>\n",
       "      <th>893</th>\n",
       "      <td>tax</td>\n",
       "      <td>0.307701</td>\n",
       "    </tr>\n",
       "    <tr>\n",
       "      <th>320</th>\n",
       "      <td>event</td>\n",
       "      <td>0.300500</td>\n",
       "    </tr>\n",
       "    <tr>\n",
       "      <th>538</th>\n",
       "      <td>made</td>\n",
       "      <td>0.291196</td>\n",
       "    </tr>\n",
       "    <tr>\n",
       "      <th>679</th>\n",
       "      <td>only</td>\n",
       "      <td>0.278221</td>\n",
       "    </tr>\n",
       "    <tr>\n",
       "      <th>595</th>\n",
       "      <td>no mortgage</td>\n",
       "      <td>0.273825</td>\n",
       "    </tr>\n",
       "    <tr>\n",
       "      <th>939</th>\n",
       "      <td>trigger period means</td>\n",
       "      <td>0.272469</td>\n",
       "    </tr>\n",
       "    <tr>\n",
       "      <th>914</th>\n",
       "      <td>than</td>\n",
       "      <td>0.271618</td>\n",
       "    </tr>\n",
       "  </tbody>\n",
       "</table>\n",
       "</div>"
      ],
      "text/plain": [
       "                       word      coef\n",
       "247                 default  1.172290\n",
       "635              of default  0.938724\n",
       "323        event of default  0.925069\n",
       "322                event of  0.791555\n",
       "747               period or  0.631278\n",
       "586     mortgage loan event  0.530904\n",
       "587  mortgage loan event of  0.530904\n",
       "521   loan event of default  0.421558\n",
       "520           loan event of  0.421558\n",
       "519              loan event  0.421558\n",
       "720                 payment  0.401273\n",
       "686                      or  0.383341\n",
       "509             lender will  0.344098\n",
       "893                     tax  0.307701\n",
       "320                   event  0.300500\n",
       "538                    made  0.291196\n",
       "679                    only  0.278221\n",
       "595             no mortgage  0.273825\n",
       "939    trigger period means  0.272469\n",
       "914                    than  0.271618"
      ]
     },
     "execution_count": 87,
     "metadata": {},
     "output_type": "execute_result"
    }
   ],
   "source": [
    "# Display top differentiating words and phrases in Low Star Ratings\n",
    "df_cvec_coefs.head(20)"
   ]
  },
  {
   "cell_type": "markdown",
   "metadata": {},
   "source": [
    "### Calculating predictions and Confusion Matrix"
   ]
  },
  {
   "cell_type": "code",
   "execution_count": 88,
   "metadata": {},
   "outputs": [],
   "source": [
    "# Here, we isolate our best model & make predictions based on our test data\n",
    "best_model = results_cvec.best_estimator_\n",
    "preds = best_model.predict(X_test)"
   ]
  },
  {
   "cell_type": "code",
   "execution_count": 89,
   "metadata": {},
   "outputs": [
    {
     "data": {
      "text/plain": [
       "array([0, 1, 1, 1, 0, 0, 1, 0, 1, 1])"
      ]
     },
     "execution_count": 89,
     "metadata": {},
     "output_type": "execute_result"
    }
   ],
   "source": [
    "# Checking our predictions\n",
    "preds[:10]"
   ]
  },
  {
   "cell_type": "code",
   "execution_count": 90,
   "metadata": {},
   "outputs": [
    {
     "name": "stdout",
     "output_type": "stream",
     "text": [
      "This is a confusion matrix for our test data vs predictions:\n",
      "[[97  1]\n",
      " [ 0 74]]\n"
     ]
    }
   ],
   "source": [
    "## Create a confusion matrix\n",
    "from sklearn.metrics import confusion_matrix\n",
    "cm_test = confusion_matrix(y_test, preds)\n",
    "print('This is a confusion matrix for our test data vs predictions:')\n",
    "print(cm_test)"
   ]
  },
  {
   "cell_type": "code",
   "execution_count": 91,
   "metadata": {},
   "outputs": [],
   "source": [
    "# Converting our confusion matrix into a dataframe\n",
    "cm_test = pd.DataFrame(cm_test, columns=['Predicted Negative','Predicted Positive'], \n",
    "                       index=['Actual Negative','Actual Positive'])"
   ]
  },
  {
   "cell_type": "code",
   "execution_count": 92,
   "metadata": {},
   "outputs": [
    {
     "data": {
      "text/html": [
       "<div>\n",
       "<style scoped>\n",
       "    .dataframe tbody tr th:only-of-type {\n",
       "        vertical-align: middle;\n",
       "    }\n",
       "\n",
       "    .dataframe tbody tr th {\n",
       "        vertical-align: top;\n",
       "    }\n",
       "\n",
       "    .dataframe thead th {\n",
       "        text-align: right;\n",
       "    }\n",
       "</style>\n",
       "<table border=\"1\" class=\"dataframe\">\n",
       "  <thead>\n",
       "    <tr style=\"text-align: right;\">\n",
       "      <th></th>\n",
       "      <th>Predicted Negative</th>\n",
       "      <th>Predicted Positive</th>\n",
       "    </tr>\n",
       "  </thead>\n",
       "  <tbody>\n",
       "    <tr>\n",
       "      <th>Actual Negative</th>\n",
       "      <td>97</td>\n",
       "      <td>1</td>\n",
       "    </tr>\n",
       "    <tr>\n",
       "      <th>Actual Positive</th>\n",
       "      <td>0</td>\n",
       "      <td>74</td>\n",
       "    </tr>\n",
       "  </tbody>\n",
       "</table>\n",
       "</div>"
      ],
      "text/plain": [
       "                 Predicted Negative  Predicted Positive\n",
       "Actual Negative                  97                   1\n",
       "Actual Positive                   0                  74"
      ]
     },
     "execution_count": 92,
     "metadata": {},
     "output_type": "execute_result"
    }
   ],
   "source": [
    "cm_test"
   ]
  },
  {
   "cell_type": "code",
   "execution_count": 93,
   "metadata": {},
   "outputs": [],
   "source": [
    "# Setting up probabilities for the ROC curve\n",
    "pred_proba = results_cvec.predict_proba(X_test)\n",
    "preds = results_cvec.predict(X_test)"
   ]
  },
  {
   "cell_type": "code",
   "execution_count": 94,
   "metadata": {},
   "outputs": [
    {
     "data": {
      "image/png": "[encoded data removed]",
      "text/plain": [
       "<Figure size 576x576 with 1 Axes>"
      ]
     },
     "metadata": {
      "needs_background": "light"
     },
     "output_type": "display_data"
    }
   ],
   "source": [
    "fpr, tpr, _= roc_curve(y_test, pred_proba[:,1])\n",
    "roc_auc = auc(fpr, tpr)\n",
    "# Plot of a ROC curve for a specific class\n",
    "plt.figure(figsize = (8,8))\n",
    "plt.plot(fpr, tpr, label='ROC curve (area = %0.4f)' % roc_auc)\n",
    "plt.plot([0, 1], [0, 1], 'k--', label='baseline')\n",
    "plt.xlim([-0.01, 1.0])\n",
    "plt.ylim([0.0, 1.01])\n",
    "plt.xlabel('False Positive Rate', fontsize =20)\n",
    "plt.ylabel('True Positive Rate', fontsize = 20)\n",
    "plt.title('Receiver Operating Characteristic Curve', fontsize=18)\n",
    "plt.legend(loc=\"lower right\");"
   ]
  },
  {
   "cell_type": "code",
   "execution_count": 95,
   "metadata": {},
   "outputs": [],
   "source": [
    "# To allow us to better read the Sentences\n",
    "pd.set_option('display.max_colwidth', None)"
   ]
  },
  {
   "cell_type": "code",
   "execution_count": 96,
   "metadata": {},
   "outputs": [
    {
     "data": {
      "text/html": [
       "<div>\n",
       "<style scoped>\n",
       "    .dataframe tbody tr th:only-of-type {\n",
       "        vertical-align: middle;\n",
       "    }\n",
       "\n",
       "    .dataframe tbody tr th {\n",
       "        vertical-align: top;\n",
       "    }\n",
       "\n",
       "    .dataframe thead th {\n",
       "        text-align: right;\n",
       "    }\n",
       "</style>\n",
       "<table border=\"1\" class=\"dataframe\">\n",
       "  <thead>\n",
       "    <tr style=\"text-align: right;\">\n",
       "      <th></th>\n",
       "      <th>prediction</th>\n",
       "      <th>actual</th>\n",
       "      <th>Sentence</th>\n",
       "    </tr>\n",
       "  </thead>\n",
       "  <tbody>\n",
       "    <tr>\n",
       "      <th>0</th>\n",
       "      <td>0</td>\n",
       "      <td>0</td>\n",
       "      <td>“Mezzanine Loan Default” means an “Event of Default” under the Mezzanine Loan documents.</td>\n",
       "    </tr>\n",
       "    <tr>\n",
       "      <th>1</th>\n",
       "      <td>1</td>\n",
       "      <td>1</td>\n",
       "      <td>Provided that no Mortgage Loan Event of Default is continuing, the lender will release to the Borrowers’ operating account all amounts then contained in the Excess Cash Flow Reserve Account on the first Payment Date following termination of a Cash Sweep Period.</td>\n",
       "    </tr>\n",
       "    <tr>\n",
       "      <th>2</th>\n",
       "      <td>1</td>\n",
       "      <td>1</td>\n",
       "      <td>Mortgage Lender will disburse to the Borrower the Leasing Reserve Funds upon satisfaction by the Borrower of each of the following conditions: (i) the Borrower will submit a request for payment to Mortgage Lender at least 10 Business Days prior to the date on which the Borrower requests such payment be made and specifies the Approved Leasing Costs to be paid; (ii) on the date such request is received by Mortgage Lender and on the date such payment is to be made, no Mortgage Loan Event of Default will exist and remain uncured; and (iii) Mortgage Lender will have received a certificate from the Borrower stating either that such tenant improvement payment is required to be paid to the tenant under its Lease or, otherwise, (A) stating that the items to be funded by the requested disbursement are Approved Leasing Costs, (B) stating to the Borrower’s knowledge, that all tenant improvements at the Property to be funded by the requested disbursement have been completed (or completed to the extent of the requested disbursement) in good and workmanlike manner and in accordance with all applicable federal, state and local laws, rules and regulations, and (C) stating that each Person that supplied materials or labor in connection with the tenant improvements to be funded by the requested disbursement has been paid in full for work completed through such date or will be paid in full upon such disbursement (or if progress payments are being made, that such Person has been or will be paid all amounts owed to them based on the work such Person has completed); (iv) at Mortgage Lender’s option, if the amount of any individual disbursement of Leasing Reserve Funds exceeds $250,000, a title search for the Property indicating that the Property is free from all liens, claims and other encumbrances not previously approved by Mortgage Lender; and (v) Mortgage Lender will have received such other evidence as Mortgage Lender will reasonably request that the Approved Leasing Costs to be funded by the requested disbursement have been completed (to the extent applicable), are due and payable and are paid for or will be paid upon such disbursement to the Borrower.</td>\n",
       "    </tr>\n",
       "    <tr>\n",
       "      <th>3</th>\n",
       "      <td>1</td>\n",
       "      <td>1</td>\n",
       "      <td>A “Trigger Period” will commence upon the occurrence of (i) an event of default, (ii) a low debt yield trigger period or (iii) the commencement of an event of default under the Mezzanine Loan; and will end if, (A) with respect to a Trigger Period continuing pursuant to clause (i), the event of default commencing the Trigger Period has been cured and such cure has been accepted by the lender (and no other event of default is then continuing), (B) with respect to a Trigger Period continuing pursuant to clause (ii), the low debt yield trigger period has ended or (C) with respect to a Trigger Period continuing pursuant to clause (iii), receipt by the lender of a mezzanine loan default revocation notice.</td>\n",
       "    </tr>\n",
       "    <tr>\n",
       "      <th>4</th>\n",
       "      <td>0</td>\n",
       "      <td>0</td>\n",
       "      <td>“Low Cash Flow Period” means a period: (a) commencing upon the Debt Yield (tested quarterly) falling below (A) six percent (6.0%) during the initial term of the Whole Loan or the first, second or third Extension Period or (B) six and one-half percent (6.50%) during the fourth or fifth Extension Period, in each case for any two (2) consecutive fiscal quarters; and (b) expiring upon the date that the Debt Yield (tested quarterly) is equal to or greater than (A) six percent (6.00%) during the initial term of the Whole Loan or the first, second or third Extension Period or (B) six and one-half percent (6.50%) during the fourth or fifth Extension Period, in each case for any two (2) consecutive fiscal quarters.</td>\n",
       "    </tr>\n",
       "  </tbody>\n",
       "</table>\n",
       "</div>"
      ],
      "text/plain": [
       "   prediction  actual  \\\n",
       "0           0       0   \n",
       "1           1       1   \n",
       "2           1       1   \n",
       "3           1       1   \n",
       "4           0       0   \n",
       "\n",
       "                                                                                                                                                                                                                                                                                                                                                                                                                                                                                                                                                                                                                                                                                                                                                                                                                                                                                                                                                                                                                                                                                                                                                                                                                                                                                                                                                                                                                                                                                                                                                                                                                                                                                                                                                                                                                                                                                                                                                                                                                                                                                                                                                                                                                                                       Sentence  \n",
       "0                                                                                                                                                                                                                                                                                                                                                                                                                                                                                                                                                                                                                                                                                                                                                                                                                                                                                                                                                                                                                                                                                                                                                                                                                                                                                                                                                                                                                                                                                                                                                                                                                                                                                                                                                                                                                                                                                                                                                                                                                                                                                                                                                                      “Mezzanine Loan Default” means an “Event of Default” under the Mezzanine Loan documents.  \n",
       "1                                                                                                                                                                                                                                                                                                                                                                                                                                                                                                                                                                                                                                                                                                                                                                                                                                                                                                                                                                                                                                                                                                                                                                                                                                                                                                                                                                                                                                                                                                                                                                                                                                                                                                                                                                                                                                                                                                                                                                                         Provided that no Mortgage Loan Event of Default is continuing, the lender will release to the Borrowers’ operating account all amounts then contained in the Excess Cash Flow Reserve Account on the first Payment Date following termination of a Cash Sweep Period.  \n",
       "2  Mortgage Lender will disburse to the Borrower the Leasing Reserve Funds upon satisfaction by the Borrower of each of the following conditions: (i) the Borrower will submit a request for payment to Mortgage Lender at least 10 Business Days prior to the date on which the Borrower requests such payment be made and specifies the Approved Leasing Costs to be paid; (ii) on the date such request is received by Mortgage Lender and on the date such payment is to be made, no Mortgage Loan Event of Default will exist and remain uncured; and (iii) Mortgage Lender will have received a certificate from the Borrower stating either that such tenant improvement payment is required to be paid to the tenant under its Lease or, otherwise, (A) stating that the items to be funded by the requested disbursement are Approved Leasing Costs, (B) stating to the Borrower’s knowledge, that all tenant improvements at the Property to be funded by the requested disbursement have been completed (or completed to the extent of the requested disbursement) in good and workmanlike manner and in accordance with all applicable federal, state and local laws, rules and regulations, and (C) stating that each Person that supplied materials or labor in connection with the tenant improvements to be funded by the requested disbursement has been paid in full for work completed through such date or will be paid in full upon such disbursement (or if progress payments are being made, that such Person has been or will be paid all amounts owed to them based on the work such Person has completed); (iv) at Mortgage Lender’s option, if the amount of any individual disbursement of Leasing Reserve Funds exceeds $250,000, a title search for the Property indicating that the Property is free from all liens, claims and other encumbrances not previously approved by Mortgage Lender; and (v) Mortgage Lender will have received such other evidence as Mortgage Lender will reasonably request that the Approved Leasing Costs to be funded by the requested disbursement have been completed (to the extent applicable), are due and payable and are paid for or will be paid upon such disbursement to the Borrower.  \n",
       "3                                                                                                                                                                                                                                                                                                                                                                                                                                                                                                                                                                                                                                                                                                                                                                                                                                                                                                                                                                                                                                                                                                                                                                                                                                                                                                                                                                                                                                                                                                                          A “Trigger Period” will commence upon the occurrence of (i) an event of default, (ii) a low debt yield trigger period or (iii) the commencement of an event of default under the Mezzanine Loan; and will end if, (A) with respect to a Trigger Period continuing pursuant to clause (i), the event of default commencing the Trigger Period has been cured and such cure has been accepted by the lender (and no other event of default is then continuing), (B) with respect to a Trigger Period continuing pursuant to clause (ii), the low debt yield trigger period has ended or (C) with respect to a Trigger Period continuing pursuant to clause (iii), receipt by the lender of a mezzanine loan default revocation notice.  \n",
       "4                                                                                                                                                                                                                                                                                                                                                                                                                                                                                                                                                                                                                                                                                                                                                                                                                                                                                                                                                                                                                                                                                                                                                                                                                                                                                                                                                                                                                                                                                                                   “Low Cash Flow Period” means a period: (a) commencing upon the Debt Yield (tested quarterly) falling below (A) six percent (6.0%) during the initial term of the Whole Loan or the first, second or third Extension Period or (B) six and one-half percent (6.50%) during the fourth or fifth Extension Period, in each case for any two (2) consecutive fiscal quarters; and (b) expiring upon the date that the Debt Yield (tested quarterly) is equal to or greater than (A) six percent (6.00%) during the initial term of the Whole Loan or the first, second or third Extension Period or (B) six and one-half percent (6.50%) during the fourth or fifth Extension Period, in each case for any two (2) consecutive fiscal quarters.  "
      ]
     },
     "execution_count": 96,
     "metadata": {},
     "output_type": "execute_result"
    }
   ],
   "source": [
    "result_cols = ['prediction', 'actual', 'Sentence']\n",
    "results = pd.DataFrame({'prediction': list(preds), 'actual': list(y_test), 'Sentence': list(X_test)})\n",
    "results.head()"
   ]
  },
  {
   "cell_type": "code",
   "execution_count": 97,
   "metadata": {},
   "outputs": [],
   "source": [
    "misclassified = results[results['prediction'] != results['actual']]\n"
   ]
  },
  {
   "cell_type": "code",
   "execution_count": 98,
   "metadata": {},
   "outputs": [
    {
     "data": {
      "text/html": [
       "<div>\n",
       "<style scoped>\n",
       "    .dataframe tbody tr th:only-of-type {\n",
       "        vertical-align: middle;\n",
       "    }\n",
       "\n",
       "    .dataframe tbody tr th {\n",
       "        vertical-align: top;\n",
       "    }\n",
       "\n",
       "    .dataframe thead th {\n",
       "        text-align: right;\n",
       "    }\n",
       "</style>\n",
       "<table border=\"1\" class=\"dataframe\">\n",
       "  <thead>\n",
       "    <tr style=\"text-align: right;\">\n",
       "      <th></th>\n",
       "      <th>prediction</th>\n",
       "      <th>actual</th>\n",
       "      <th>Sentence</th>\n",
       "    </tr>\n",
       "  </thead>\n",
       "  <tbody>\n",
       "    <tr>\n",
       "      <th>67</th>\n",
       "      <td>1</td>\n",
       "      <td>0</td>\n",
       "      <td>“Loan Event of Default” means an “Event of Default” under the Loan Documents.</td>\n",
       "    </tr>\n",
       "  </tbody>\n",
       "</table>\n",
       "</div>"
      ],
      "text/plain": [
       "    prediction  actual  \\\n",
       "67           1       0   \n",
       "\n",
       "                                                                         Sentence  \n",
       "67  “Loan Event of Default” means an “Event of Default” under the Loan Documents.  "
      ]
     },
     "execution_count": 98,
     "metadata": {},
     "output_type": "execute_result"
    }
   ],
   "source": [
    "misclassified.head(10)"
   ]
  },
  {
   "cell_type": "code",
   "execution_count": null,
   "metadata": {},
   "outputs": [],
   "source": []
  },
  {
   "cell_type": "code",
   "execution_count": null,
   "metadata": {},
   "outputs": [],
   "source": []
  },
  {
   "cell_type": "code",
   "execution_count": null,
   "metadata": {},
   "outputs": [],
   "source": []
  },
  {
   "cell_type": "code",
   "execution_count": null,
   "metadata": {},
   "outputs": [],
   "source": []
  }
 ],
 "metadata": {
  "kernelspec": {
   "display_name": "Python 3",
   "language": "python",
   "name": "python3"
  },
  "language_info": {
   "codemirror_mode": {
    "name": "ipython",
    "version": 3
   },
   "file_extension": ".py",
   "mimetype": "text/x-python",
   "name": "python",
   "nbconvert_exporter": "python",
   "pygments_lexer": "ipython3",
   "version": "3.7.5"
  },
  "toc": {
   "base_numbering": 1,
   "nav_menu": {},
   "number_sections": true,
   "sideBar": true,
   "skip_h1_title": false,
   "title_cell": "Table of Contents",
   "title_sidebar": "Contents",
   "toc_cell": false,
   "toc_position": {},
   "toc_section_display": true,
   "toc_window_display": true
  }
 },
 "nbformat": 4,
 "nbformat_minor": 2
}
