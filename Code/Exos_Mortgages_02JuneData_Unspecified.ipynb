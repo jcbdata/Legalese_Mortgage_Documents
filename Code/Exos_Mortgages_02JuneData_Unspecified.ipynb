{
 "cells": [
  {
   "cell_type": "markdown",
   "metadata": {},
   "source": [
    "# Claira Project: Mortgage Contracts"
   ]
  },
  {
   "cell_type": "markdown",
   "metadata": {},
   "source": [
    "## Import Packages"
   ]
  },
  {
   "cell_type": "code",
   "execution_count": 1,
   "metadata": {},
   "outputs": [
    {
     "name": "stderr",
     "output_type": "stream",
     "text": [
      "/opt/anaconda3/envs/dsi/lib/python3.7/site-packages/sklearn/utils/deprecation.py:144: FutureWarning: The sklearn.feature_extraction.stop_words module is  deprecated in version 0.22 and will be removed in version 0.24. The corresponding classes / functions should instead be imported from sklearn.feature_extraction.text. Anything that cannot be imported from sklearn.feature_extraction.text is now part of the private API.\n",
      "  warnings.warn(message, FutureWarning)\n"
     ]
    }
   ],
   "source": [
    "import pandas as pd\n",
    "import matplotlib.pyplot as plt\n",
    "import json\n",
    "import string\n",
    "import numpy as np\n",
    "import gzip\n",
    "np.random.seed(99)\n",
    "RANDOM_STATE = 99\n",
    "import datetime\n",
    "pd.set_option('display.max_rows', 151)\n",
    "\n",
    "\n",
    "# Import vectorizing and modeling tools in preparation for modeling steps\n",
    "from sklearn.feature_extraction.text import CountVectorizer,TfidfVectorizer\n",
    "from sklearn.feature_extraction import text, stop_words\n",
    "from sklearn.naive_bayes import MultinomialNB, GaussianNB, BernoulliNB\n",
    "import time\n",
    "\n",
    "from nltk import word_tokenize\n",
    "from nltk.corpus import stopwords\n",
    "from nltk.stem.wordnet import WordNetLemmatizer\n",
    "\n",
    "import spacy\n",
    "import en_core_web_lg\n",
    "from spacy.lang.en import English\n",
    "from spacy.lang.en.stop_words import STOP_WORDS\n",
    "\n",
    "from sklearn.model_selection import train_test_split, GridSearchCV, cross_val_score, cross_val_predict\n",
    "from sklearn.pipeline import Pipeline\n",
    "from sklearn.linear_model import LogisticRegression\n",
    "from sklearn.tree import DecisionTreeClassifier\n",
    "\n",
    "from sklearn.metrics import roc_curve, auc\n",
    "\n",
    "# Import CountVectorizer and TFIDFVectorizer from feature_extraction.text.\n",
    "from sklearn.feature_extraction.text import CountVectorizer, TfidfVectorizer"
   ]
  },
  {
   "cell_type": "markdown",
   "metadata": {},
   "source": [
    "## Import Data"
   ]
  },
  {
   "cell_type": "code",
   "execution_count": 2,
   "metadata": {},
   "outputs": [],
   "source": [
    "# Import the CSV file\n",
    "# raw_df = pd.read_csv('../data/sasb_cash_trap_triggers.csv')"
   ]
  },
  {
   "cell_type": "code",
   "execution_count": 3,
   "metadata": {},
   "outputs": [],
   "source": [
    "# Import the CSV file\n",
    "raw_df = pd.read_csv('../data/sasb_cash_trap_triggers_06_02_20.csv')"
   ]
  },
  {
   "cell_type": "code",
   "execution_count": 4,
   "metadata": {},
   "outputs": [
    {
     "data": {
      "text/html": [
       "<div>\n",
       "<style scoped>\n",
       "    .dataframe tbody tr th:only-of-type {\n",
       "        vertical-align: middle;\n",
       "    }\n",
       "\n",
       "    .dataframe tbody tr th {\n",
       "        vertical-align: top;\n",
       "    }\n",
       "\n",
       "    .dataframe thead th {\n",
       "        text-align: right;\n",
       "    }\n",
       "</style>\n",
       "<table border=\"1\" class=\"dataframe\">\n",
       "  <thead>\n",
       "    <tr style=\"text-align: right;\">\n",
       "      <th></th>\n",
       "      <th>Document</th>\n",
       "      <th>Sentence</th>\n",
       "      <th>Trigger</th>\n",
       "      <th>Multiclass</th>\n",
       "    </tr>\n",
       "  </thead>\n",
       "  <tbody>\n",
       "    <tr>\n",
       "      <th>0</th>\n",
       "      <td>20120828_01Y0R8_Prospectus_CM00000000205875087...</td>\n",
       "      <td>On each Business Day, the financial institutio...</td>\n",
       "      <td>Loan Default</td>\n",
       "      <td>0</td>\n",
       "    </tr>\n",
       "    <tr>\n",
       "      <th>1</th>\n",
       "      <td>20120828_01Y0R8_Prospectus_CM00000000205875087...</td>\n",
       "      <td>The Borrower has established and is required t...</td>\n",
       "      <td>Aggregate DSCR Fall</td>\n",
       "      <td>1</td>\n",
       "    </tr>\n",
       "    <tr>\n",
       "      <th>2</th>\n",
       "      <td>20120828_01Y0R8_Prospectus_CM00000000205875087...</td>\n",
       "      <td>The Borrower has established and is required t...</td>\n",
       "      <td>Loan Default</td>\n",
       "      <td>1</td>\n",
       "    </tr>\n",
       "    <tr>\n",
       "      <th>3</th>\n",
       "      <td>20120828_01Y0R8_Prospectus_CM00000000205875087...</td>\n",
       "      <td>During a Trigger Period or while an event of d...</td>\n",
       "      <td>Loan Default</td>\n",
       "      <td>0</td>\n",
       "    </tr>\n",
       "    <tr>\n",
       "      <th>4</th>\n",
       "      <td>20120828_01Y0R8_Prospectus_CM00000000205875087...</td>\n",
       "      <td>On any Business Day all amounts on deposit in ...</td>\n",
       "      <td>Loan Default</td>\n",
       "      <td>0</td>\n",
       "    </tr>\n",
       "  </tbody>\n",
       "</table>\n",
       "</div>"
      ],
      "text/plain": [
       "                                            Document  \\\n",
       "0  20120828_01Y0R8_Prospectus_CM00000000205875087...   \n",
       "1  20120828_01Y0R8_Prospectus_CM00000000205875087...   \n",
       "2  20120828_01Y0R8_Prospectus_CM00000000205875087...   \n",
       "3  20120828_01Y0R8_Prospectus_CM00000000205875087...   \n",
       "4  20120828_01Y0R8_Prospectus_CM00000000205875087...   \n",
       "\n",
       "                                            Sentence              Trigger  \\\n",
       "0  On each Business Day, the financial institutio...         Loan Default   \n",
       "1  The Borrower has established and is required t...  Aggregate DSCR Fall   \n",
       "2  The Borrower has established and is required t...         Loan Default   \n",
       "3  During a Trigger Period or while an event of d...         Loan Default   \n",
       "4  On any Business Day all amounts on deposit in ...         Loan Default   \n",
       "\n",
       "   Multiclass  \n",
       "0           0  \n",
       "1           1  \n",
       "2           1  \n",
       "3           0  \n",
       "4           0  "
      ]
     },
     "execution_count": 4,
     "metadata": {},
     "output_type": "execute_result"
    }
   ],
   "source": [
    "# Review the first few rows of the data set\n",
    "raw_df.head()"
   ]
  },
  {
   "cell_type": "code",
   "execution_count": 5,
   "metadata": {},
   "outputs": [
    {
     "data": {
      "text/plain": [
       "(892, 4)"
      ]
     },
     "execution_count": 5,
     "metadata": {},
     "output_type": "execute_result"
    }
   ],
   "source": [
    "# Check size of the data set\n",
    "raw_df.shape"
   ]
  },
  {
   "cell_type": "code",
   "execution_count": 6,
   "metadata": {},
   "outputs": [
    {
     "data": {
      "text/plain": [
       "Document      0\n",
       "Sentence      0\n",
       "Trigger       0\n",
       "Multiclass    0\n",
       "dtype: int64"
      ]
     },
     "execution_count": 6,
     "metadata": {},
     "output_type": "execute_result"
    }
   ],
   "source": [
    "# Check for null values\n",
    "raw_df.isnull().sum()"
   ]
  },
  {
   "cell_type": "markdown",
   "metadata": {},
   "source": [
    "## Data Cleaning"
   ]
  },
  {
   "cell_type": "code",
   "execution_count": 7,
   "metadata": {},
   "outputs": [
    {
     "data": {
      "text/plain": [
       "Unspecified                  270\n",
       "Loan Default                 234\n",
       "Debt Yield Fall               85\n",
       "Loan default                  75\n",
       "Mezzanine Default             39\n",
       "Tenant Failure                35\n",
       "Debt yield fall               34\n",
       "Bankruptcy                    20\n",
       "DSCR Fall                     18\n",
       "Operator Termination          17\n",
       "Sponsor Termination           14\n",
       "Aggregate Debt Yield Fall     11\n",
       "Mezzanine Outstanding         10\n",
       "Renovations                    9\n",
       "Mezzanine default              8\n",
       "Aggregate debt yield fall      6\n",
       "Debt Yield Falll               4\n",
       "Aggregate DSCR Fall            2\n",
       "Aggregate debt yield           1\n",
       "Name: Trigger, dtype: int64"
      ]
     },
     "execution_count": 7,
     "metadata": {},
     "output_type": "execute_result"
    }
   ],
   "source": [
    "# Review number of Trigger types\n",
    "raw_df['Trigger'].value_counts()"
   ]
  },
  {
   "cell_type": "code",
   "execution_count": 8,
   "metadata": {},
   "outputs": [],
   "source": [
    "# Convert each category to Title format (to remove discrepancies based on capitalization)\n",
    "raw_df['Trigger'] = raw_df['Trigger'].str.title()"
   ]
  },
  {
   "cell_type": "code",
   "execution_count": 9,
   "metadata": {},
   "outputs": [
    {
     "data": {
      "text/plain": [
       "Loan Default                 309\n",
       "Unspecified                  270\n",
       "Debt Yield Fall              119\n",
       "Mezzanine Default             47\n",
       "Tenant Failure                35\n",
       "Bankruptcy                    20\n",
       "Dscr Fall                     18\n",
       "Aggregate Debt Yield Fall     17\n",
       "Operator Termination          17\n",
       "Sponsor Termination           14\n",
       "Mezzanine Outstanding         10\n",
       "Renovations                    9\n",
       "Debt Yield Falll               4\n",
       "Aggregate Dscr Fall            2\n",
       "Aggregate Debt Yield           1\n",
       "Name: Trigger, dtype: int64"
      ]
     },
     "execution_count": 9,
     "metadata": {},
     "output_type": "execute_result"
    }
   ],
   "source": [
    "# Review clean Trigger Types\n",
    "raw_df['Trigger'].value_counts()"
   ]
  },
  {
   "cell_type": "code",
   "execution_count": 10,
   "metadata": {},
   "outputs": [],
   "source": [
    "raw_df['Trigger'] = raw_df['Trigger'].str.replace('Falll', 'Fall')"
   ]
  },
  {
   "cell_type": "code",
   "execution_count": 11,
   "metadata": {},
   "outputs": [],
   "source": [
    "# Rename first column (document title)\n",
    "raw_df = raw_df.rename(columns = {'0': 'Document'})"
   ]
  },
  {
   "cell_type": "code",
   "execution_count": 12,
   "metadata": {},
   "outputs": [
    {
     "data": {
      "text/html": [
       "<div>\n",
       "<style scoped>\n",
       "    .dataframe tbody tr th:only-of-type {\n",
       "        vertical-align: middle;\n",
       "    }\n",
       "\n",
       "    .dataframe tbody tr th {\n",
       "        vertical-align: top;\n",
       "    }\n",
       "\n",
       "    .dataframe thead th {\n",
       "        text-align: right;\n",
       "    }\n",
       "</style>\n",
       "<table border=\"1\" class=\"dataframe\">\n",
       "  <thead>\n",
       "    <tr style=\"text-align: right;\">\n",
       "      <th></th>\n",
       "      <th>Document</th>\n",
       "      <th>Sentence</th>\n",
       "      <th>Trigger</th>\n",
       "    </tr>\n",
       "  </thead>\n",
       "  <tbody>\n",
       "    <tr>\n",
       "      <th>0</th>\n",
       "      <td>20120828_01Y0R8_Prospectus_CM00000000205875087...</td>\n",
       "      <td>On each Business Day, the financial institutio...</td>\n",
       "      <td>Loan Default</td>\n",
       "    </tr>\n",
       "    <tr>\n",
       "      <th>1</th>\n",
       "      <td>20120828_01Y0R8_Prospectus_CM00000000205875087...</td>\n",
       "      <td>The Borrower has established and is required t...</td>\n",
       "      <td>Aggregate Dscr Fall</td>\n",
       "    </tr>\n",
       "    <tr>\n",
       "      <th>2</th>\n",
       "      <td>20120828_01Y0R8_Prospectus_CM00000000205875087...</td>\n",
       "      <td>The Borrower has established and is required t...</td>\n",
       "      <td>Loan Default</td>\n",
       "    </tr>\n",
       "    <tr>\n",
       "      <th>3</th>\n",
       "      <td>20120828_01Y0R8_Prospectus_CM00000000205875087...</td>\n",
       "      <td>During a Trigger Period or while an event of d...</td>\n",
       "      <td>Loan Default</td>\n",
       "    </tr>\n",
       "    <tr>\n",
       "      <th>4</th>\n",
       "      <td>20120828_01Y0R8_Prospectus_CM00000000205875087...</td>\n",
       "      <td>On any Business Day all amounts on deposit in ...</td>\n",
       "      <td>Loan Default</td>\n",
       "    </tr>\n",
       "  </tbody>\n",
       "</table>\n",
       "</div>"
      ],
      "text/plain": [
       "                                            Document  \\\n",
       "0  20120828_01Y0R8_Prospectus_CM00000000205875087...   \n",
       "1  20120828_01Y0R8_Prospectus_CM00000000205875087...   \n",
       "2  20120828_01Y0R8_Prospectus_CM00000000205875087...   \n",
       "3  20120828_01Y0R8_Prospectus_CM00000000205875087...   \n",
       "4  20120828_01Y0R8_Prospectus_CM00000000205875087...   \n",
       "\n",
       "                                            Sentence              Trigger  \n",
       "0  On each Business Day, the financial institutio...         Loan Default  \n",
       "1  The Borrower has established and is required t...  Aggregate Dscr Fall  \n",
       "2  The Borrower has established and is required t...         Loan Default  \n",
       "3  During a Trigger Period or while an event of d...         Loan Default  \n",
       "4  On any Business Day all amounts on deposit in ...         Loan Default  "
      ]
     },
     "execution_count": 12,
     "metadata": {},
     "output_type": "execute_result"
    }
   ],
   "source": [
    "# Drop Multiclass column for now \n",
    "raw_df = raw_df.drop('Multiclass', axis = 1)\n",
    "raw_df.head()"
   ]
  },
  {
   "cell_type": "code",
   "execution_count": 13,
   "metadata": {},
   "outputs": [
    {
     "data": {
      "text/plain": [
       "(892, 3)"
      ]
     },
     "execution_count": 13,
     "metadata": {},
     "output_type": "execute_result"
    }
   ],
   "source": [
    "raw_df.shape"
   ]
  },
  {
   "cell_type": "code",
   "execution_count": 14,
   "metadata": {},
   "outputs": [
    {
     "name": "stdout",
     "output_type": "stream",
     "text": [
      "20 unique documents have been included in the data set\n"
     ]
    }
   ],
   "source": [
    "# Count the number of distinct documents\n",
    "num_docs = raw_df['Document'].nunique()\n",
    "print(f'{num_docs} unique documents have been included in the data set')"
   ]
  },
  {
   "cell_type": "code",
   "execution_count": 15,
   "metadata": {
    "scrolled": true
   },
   "outputs": [
    {
     "data": {
      "text/plain": [
       "20190131_02IFE7_Prospectus_SD000000002578234792.pdf    67\n",
       "20190131_02IFDN_Prospectus_SD000000002578234912.pdf    66\n",
       "20181231_02IEP9_Prospectus_SD000000002568455603.pdf    65\n",
       "20190131_02IFCW_Prospectus_SD000000002578232050.pdf    64\n",
       "20190220_02IPLU_Prospectus_SD000000002587491183.pdf    63\n",
       "20190108_02IFF1_Prospectus_SD000000002570458466.pdf    60\n",
       "20190208_02IM7M_Prospectus_SD000000002581684036.pdf    54\n",
       "20190205_02IJ77_Prospectus_SD000000002579874729.pdf    50\n",
       "20160510_02B0XU_Prospectus_SD000000002312723382.pdf    46\n",
       "20180125_02FE6L_Prospectus_SD000000002394837596.pdf    44\n",
       "20170525_02DG4Z_Prospectus_SD000000002352418696.pdf    42\n",
       "20170525_02DFUI_Prospectus_SD000000002352389122.pdf    37\n",
       "20170727_02DTVX_Prospectus_SD000000002362015714.pdf    35\n",
       "20171019_02EFSE_Prospectus_SD000000002376978886.pdf    35\n",
       "20170814_02E227_Prospectus_SD000000002367167139.pdf    34\n",
       "20150307_028S2X_Prospectus_SD000000002389024187.pdf    29\n",
       "20170616_02DNAM_Prospectus_SD000000002355931744.pdf    28\n",
       "20170801_02DX5C_Prospectus_SD000000002363000910.pdf    28\n",
       "20160310_02AQCW_Prospectus_SD0000000-2003264558.pdf    25\n",
       "20120828_01Y0R8_Prospectus_CM000000002058750876.pdf    20\n",
       "Name: Document, dtype: int64"
      ]
     },
     "execution_count": 15,
     "metadata": {},
     "output_type": "execute_result"
    }
   ],
   "source": [
    "# Review the distinct documents and the number of Trigger events identified for each\n",
    "raw_df['Document'].value_counts()"
   ]
  },
  {
   "cell_type": "code",
   "execution_count": 16,
   "metadata": {},
   "outputs": [
    {
     "name": "stdout",
     "output_type": "stream",
     "text": [
      "The 20 Documents have trigger counts that range from 20 to 67.\n"
     ]
    }
   ],
   "source": [
    "# Summarize the trigger counts for the existing Document set\n",
    "max_triggers = raw_df['Document'].value_counts().max()\n",
    "min_triggers = raw_df['Document'].value_counts().min()\n",
    "print(f'The {num_docs} Documents have trigger counts that range from {min_triggers} to {max_triggers}.')"
   ]
  },
  {
   "cell_type": "code",
   "execution_count": 17,
   "metadata": {},
   "outputs": [
    {
     "data": {
      "text/plain": [
       "False    844\n",
       "True      48\n",
       "Name: is_duplicate, dtype: int64"
      ]
     },
     "execution_count": 17,
     "metadata": {},
     "output_type": "execute_result"
    }
   ],
   "source": [
    "# Check for duplicate rows\n",
    "raw_df['is_duplicate'] = raw_df.duplicated(subset = None)\n",
    "raw_df['is_duplicate'].value_counts()"
   ]
  },
  {
   "cell_type": "code",
   "execution_count": 18,
   "metadata": {},
   "outputs": [
    {
     "name": "stdout",
     "output_type": "stream",
     "text": [
      "There are 48 row duplicates in the data set.\n"
     ]
    }
   ],
   "source": [
    "num_duplicated_rows = (raw_df['is_duplicate'] == True).sum()\n",
    "print(f'There are {num_duplicated_rows} row duplicates in the data set.')"
   ]
  },
  {
   "cell_type": "code",
   "execution_count": 19,
   "metadata": {},
   "outputs": [],
   "source": [
    "# We'll remove the extra duplicate rows\n",
    "raw_df = raw_df.drop('is_duplicate', axis = 1)\n",
    "raw_df = raw_df.drop_duplicates()"
   ]
  },
  {
   "cell_type": "code",
   "execution_count": 20,
   "metadata": {},
   "outputs": [
    {
     "data": {
      "text/plain": [
       "(844, 3)"
      ]
     },
     "execution_count": 20,
     "metadata": {},
     "output_type": "execute_result"
    }
   ],
   "source": [
    "raw_df.shape"
   ]
  },
  {
   "cell_type": "code",
   "execution_count": 21,
   "metadata": {},
   "outputs": [
    {
     "data": {
      "text/html": [
       "<div>\n",
       "<style scoped>\n",
       "    .dataframe tbody tr th:only-of-type {\n",
       "        vertical-align: middle;\n",
       "    }\n",
       "\n",
       "    .dataframe tbody tr th {\n",
       "        vertical-align: top;\n",
       "    }\n",
       "\n",
       "    .dataframe thead th {\n",
       "        text-align: right;\n",
       "    }\n",
       "</style>\n",
       "<table border=\"1\" class=\"dataframe\">\n",
       "  <thead>\n",
       "    <tr style=\"text-align: right;\">\n",
       "      <th></th>\n",
       "      <th>Document</th>\n",
       "      <th>Sentence</th>\n",
       "      <th>Trigger</th>\n",
       "    </tr>\n",
       "  </thead>\n",
       "  <tbody>\n",
       "    <tr>\n",
       "      <th>0</th>\n",
       "      <td>20120828_01Y0R8_Prospectus_CM00000000205875087...</td>\n",
       "      <td>On each Business Day, the financial institutio...</td>\n",
       "      <td>Loan Default</td>\n",
       "    </tr>\n",
       "    <tr>\n",
       "      <th>1</th>\n",
       "      <td>20120828_01Y0R8_Prospectus_CM00000000205875087...</td>\n",
       "      <td>The Borrower has established and is required t...</td>\n",
       "      <td>Aggregate Dscr Fall</td>\n",
       "    </tr>\n",
       "    <tr>\n",
       "      <th>2</th>\n",
       "      <td>20120828_01Y0R8_Prospectus_CM00000000205875087...</td>\n",
       "      <td>The Borrower has established and is required t...</td>\n",
       "      <td>Loan Default</td>\n",
       "    </tr>\n",
       "    <tr>\n",
       "      <th>3</th>\n",
       "      <td>20120828_01Y0R8_Prospectus_CM00000000205875087...</td>\n",
       "      <td>During a Trigger Period or while an event of d...</td>\n",
       "      <td>Loan Default</td>\n",
       "    </tr>\n",
       "    <tr>\n",
       "      <th>4</th>\n",
       "      <td>20120828_01Y0R8_Prospectus_CM00000000205875087...</td>\n",
       "      <td>On any Business Day all amounts on deposit in ...</td>\n",
       "      <td>Loan Default</td>\n",
       "    </tr>\n",
       "  </tbody>\n",
       "</table>\n",
       "</div>"
      ],
      "text/plain": [
       "                                            Document  \\\n",
       "0  20120828_01Y0R8_Prospectus_CM00000000205875087...   \n",
       "1  20120828_01Y0R8_Prospectus_CM00000000205875087...   \n",
       "2  20120828_01Y0R8_Prospectus_CM00000000205875087...   \n",
       "3  20120828_01Y0R8_Prospectus_CM00000000205875087...   \n",
       "4  20120828_01Y0R8_Prospectus_CM00000000205875087...   \n",
       "\n",
       "                                            Sentence              Trigger  \n",
       "0  On each Business Day, the financial institutio...         Loan Default  \n",
       "1  The Borrower has established and is required t...  Aggregate Dscr Fall  \n",
       "2  The Borrower has established and is required t...         Loan Default  \n",
       "3  During a Trigger Period or while an event of d...         Loan Default  \n",
       "4  On any Business Day all amounts on deposit in ...         Loan Default  "
      ]
     },
     "execution_count": 21,
     "metadata": {},
     "output_type": "execute_result"
    }
   ],
   "source": [
    "raw_df.head()"
   ]
  },
  {
   "cell_type": "code",
   "execution_count": 22,
   "metadata": {},
   "outputs": [
    {
     "data": {
      "text/plain": [
       "Loan Default                 297\n",
       "Unspecified                  261\n",
       "Debt Yield Fall              110\n",
       "Mezzanine Default             42\n",
       "Tenant Failure                35\n",
       "Aggregate Debt Yield Fall     17\n",
       "Bankruptcy                    17\n",
       "Dscr Fall                     16\n",
       "Operator Termination          15\n",
       "Sponsor Termination           14\n",
       "Renovations                    9\n",
       "Mezzanine Outstanding          8\n",
       "Aggregate Dscr Fall            2\n",
       "Aggregate Debt Yield           1\n",
       "Name: Trigger, dtype: int64"
      ]
     },
     "execution_count": 22,
     "metadata": {},
     "output_type": "execute_result"
    }
   ],
   "source": [
    "# Review new number of Trigger types\n",
    "raw_df['Trigger'].value_counts()"
   ]
  },
  {
   "cell_type": "code",
   "execution_count": 23,
   "metadata": {},
   "outputs": [
    {
     "data": {
      "text/plain": [
       "20190131_02IFE7_Prospectus_SD000000002578234792.pdf    67\n",
       "20190131_02IFDN_Prospectus_SD000000002578234912.pdf    66\n",
       "20181231_02IEP9_Prospectus_SD000000002568455603.pdf    65\n",
       "20190131_02IFCW_Prospectus_SD000000002578232050.pdf    64\n",
       "20190220_02IPLU_Prospectus_SD000000002587491183.pdf    62\n",
       "20190108_02IFF1_Prospectus_SD000000002570458466.pdf    54\n",
       "20190208_02IM7M_Prospectus_SD000000002581684036.pdf    54\n",
       "20190205_02IJ77_Prospectus_SD000000002579874729.pdf    50\n",
       "20160510_02B0XU_Prospectus_SD000000002312723382.pdf    38\n",
       "20171019_02EFSE_Prospectus_SD000000002376978886.pdf    35\n",
       "20170525_02DG4Z_Prospectus_SD000000002352418696.pdf    34\n",
       "20180125_02FE6L_Prospectus_SD000000002394837596.pdf    34\n",
       "20170525_02DFUI_Prospectus_SD000000002352389122.pdf    33\n",
       "20170814_02E227_Prospectus_SD000000002367167139.pdf    31\n",
       "20150307_028S2X_Prospectus_SD000000002389024187.pdf    29\n",
       "20170616_02DNAM_Prospectus_SD000000002355931744.pdf    28\n",
       "20170727_02DTVX_Prospectus_SD000000002362015714.pdf    28\n",
       "20170801_02DX5C_Prospectus_SD000000002363000910.pdf    27\n",
       "20160310_02AQCW_Prospectus_SD0000000-2003264558.pdf    25\n",
       "20120828_01Y0R8_Prospectus_CM000000002058750876.pdf    20\n",
       "Name: Document, dtype: int64"
      ]
     },
     "execution_count": 23,
     "metadata": {},
     "output_type": "execute_result"
    }
   ],
   "source": [
    "# Review new distinct documents and the number of Trigger events identified for each\n",
    "raw_df['Document'].value_counts()"
   ]
  },
  {
   "cell_type": "markdown",
   "metadata": {},
   "source": [
    "## Reshape the Data"
   ]
  },
  {
   "cell_type": "markdown",
   "metadata": {},
   "source": [
    "In this section, we'll reshape the data, such that each sentence is represented once, with separate categorization columns for each Trigger type"
   ]
  },
  {
   "cell_type": "code",
   "execution_count": 24,
   "metadata": {},
   "outputs": [],
   "source": [
    "# function to reshape the dataframe such that the triggers are 0/1 columns. Remove duplicates\n",
    "def reshape_trigger_representation(dataframe):\n",
    "    # select trigger types\n",
    "    trigger_types = list(dataframe['Trigger'].unique())\n",
    "    \n",
    "    # create new dataframe with unique document-sentence pairs (no duplicates)\n",
    "    reshaped = dataframe.drop('Trigger', axis = 1).drop_duplicates().reset_index().drop('index', axis = 1)\n",
    "    \n",
    "    # select rows by trigger, reassign as 1 or 0 (for True or False)\n",
    "    for tt in trigger_types:\n",
    "        # select part that is trigger_type\n",
    "        temp = dataframe.loc[dataframe['Trigger'] == tt].copy()\n",
    "\n",
    "        # create a new column of true with trigger name\n",
    "        temp[tt.lower().replace(' ', '_')] = np.int64(1)\n",
    "        temp.drop('Trigger', axis=1, inplace=True)\n",
    "        temp[tt.lower().replace(' ', '_')] = temp[tt.lower().replace(' ', '_')].astype('Int64')\n",
    "        \n",
    "        # left join this adjusted column to the unique data\n",
    "        reshaped = reshaped.merge(temp, how='left', left_on=['Document', 'Sentence'], right_on=['Document', 'Sentence'])\n",
    "\n",
    "    # replace nulls with False\n",
    "    reshaped = reshaped.fillna(0)    \n",
    "    \n",
    "    return reshaped"
   ]
  },
  {
   "cell_type": "code",
   "execution_count": 25,
   "metadata": {},
   "outputs": [],
   "source": [
    "# Reshape our original dataframe\n",
    "df = reshape_trigger_representation(raw_df)"
   ]
  },
  {
   "cell_type": "code",
   "execution_count": 26,
   "metadata": {},
   "outputs": [
    {
     "data": {
      "text/html": [
       "<div>\n",
       "<style scoped>\n",
       "    .dataframe tbody tr th:only-of-type {\n",
       "        vertical-align: middle;\n",
       "    }\n",
       "\n",
       "    .dataframe tbody tr th {\n",
       "        vertical-align: top;\n",
       "    }\n",
       "\n",
       "    .dataframe thead th {\n",
       "        text-align: right;\n",
       "    }\n",
       "</style>\n",
       "<table border=\"1\" class=\"dataframe\">\n",
       "  <thead>\n",
       "    <tr style=\"text-align: right;\">\n",
       "      <th></th>\n",
       "      <th>Document</th>\n",
       "      <th>Sentence</th>\n",
       "      <th>loan_default</th>\n",
       "      <th>aggregate_dscr_fall</th>\n",
       "      <th>dscr_fall</th>\n",
       "      <th>unspecified</th>\n",
       "      <th>debt_yield_fall</th>\n",
       "      <th>aggregate_debt_yield_fall</th>\n",
       "      <th>mezzanine_default</th>\n",
       "      <th>tenant_failure</th>\n",
       "      <th>mezzanine_outstanding</th>\n",
       "      <th>operator_termination</th>\n",
       "      <th>bankruptcy</th>\n",
       "      <th>aggregate_debt_yield</th>\n",
       "      <th>sponsor_termination</th>\n",
       "      <th>renovations</th>\n",
       "    </tr>\n",
       "  </thead>\n",
       "  <tbody>\n",
       "    <tr>\n",
       "      <th>0</th>\n",
       "      <td>20120828_01Y0R8_Prospectus_CM00000000205875087...</td>\n",
       "      <td>On each Business Day, the financial institutio...</td>\n",
       "      <td>1</td>\n",
       "      <td>0</td>\n",
       "      <td>0</td>\n",
       "      <td>0</td>\n",
       "      <td>0</td>\n",
       "      <td>0</td>\n",
       "      <td>0</td>\n",
       "      <td>0</td>\n",
       "      <td>0</td>\n",
       "      <td>0</td>\n",
       "      <td>0</td>\n",
       "      <td>0</td>\n",
       "      <td>0</td>\n",
       "      <td>0</td>\n",
       "    </tr>\n",
       "    <tr>\n",
       "      <th>1</th>\n",
       "      <td>20120828_01Y0R8_Prospectus_CM00000000205875087...</td>\n",
       "      <td>The Borrower has established and is required t...</td>\n",
       "      <td>1</td>\n",
       "      <td>1</td>\n",
       "      <td>0</td>\n",
       "      <td>0</td>\n",
       "      <td>0</td>\n",
       "      <td>0</td>\n",
       "      <td>0</td>\n",
       "      <td>0</td>\n",
       "      <td>0</td>\n",
       "      <td>0</td>\n",
       "      <td>0</td>\n",
       "      <td>0</td>\n",
       "      <td>0</td>\n",
       "      <td>0</td>\n",
       "    </tr>\n",
       "    <tr>\n",
       "      <th>2</th>\n",
       "      <td>20120828_01Y0R8_Prospectus_CM00000000205875087...</td>\n",
       "      <td>During a Trigger Period or while an event of d...</td>\n",
       "      <td>1</td>\n",
       "      <td>0</td>\n",
       "      <td>0</td>\n",
       "      <td>0</td>\n",
       "      <td>0</td>\n",
       "      <td>0</td>\n",
       "      <td>0</td>\n",
       "      <td>0</td>\n",
       "      <td>0</td>\n",
       "      <td>0</td>\n",
       "      <td>0</td>\n",
       "      <td>0</td>\n",
       "      <td>0</td>\n",
       "      <td>0</td>\n",
       "    </tr>\n",
       "    <tr>\n",
       "      <th>3</th>\n",
       "      <td>20120828_01Y0R8_Prospectus_CM00000000205875087...</td>\n",
       "      <td>On any Business Day all amounts on deposit in ...</td>\n",
       "      <td>1</td>\n",
       "      <td>0</td>\n",
       "      <td>0</td>\n",
       "      <td>0</td>\n",
       "      <td>0</td>\n",
       "      <td>0</td>\n",
       "      <td>0</td>\n",
       "      <td>0</td>\n",
       "      <td>0</td>\n",
       "      <td>0</td>\n",
       "      <td>0</td>\n",
       "      <td>0</td>\n",
       "      <td>0</td>\n",
       "      <td>0</td>\n",
       "    </tr>\n",
       "    <tr>\n",
       "      <th>4</th>\n",
       "      <td>20120828_01Y0R8_Prospectus_CM00000000205875087...</td>\n",
       "      <td>Available funds in each Cash Management Accoun...</td>\n",
       "      <td>1</td>\n",
       "      <td>0</td>\n",
       "      <td>0</td>\n",
       "      <td>0</td>\n",
       "      <td>0</td>\n",
       "      <td>0</td>\n",
       "      <td>0</td>\n",
       "      <td>0</td>\n",
       "      <td>0</td>\n",
       "      <td>0</td>\n",
       "      <td>0</td>\n",
       "      <td>0</td>\n",
       "      <td>0</td>\n",
       "      <td>0</td>\n",
       "    </tr>\n",
       "  </tbody>\n",
       "</table>\n",
       "</div>"
      ],
      "text/plain": [
       "                                            Document  \\\n",
       "0  20120828_01Y0R8_Prospectus_CM00000000205875087...   \n",
       "1  20120828_01Y0R8_Prospectus_CM00000000205875087...   \n",
       "2  20120828_01Y0R8_Prospectus_CM00000000205875087...   \n",
       "3  20120828_01Y0R8_Prospectus_CM00000000205875087...   \n",
       "4  20120828_01Y0R8_Prospectus_CM00000000205875087...   \n",
       "\n",
       "                                            Sentence  loan_default  \\\n",
       "0  On each Business Day, the financial institutio...             1   \n",
       "1  The Borrower has established and is required t...             1   \n",
       "2  During a Trigger Period or while an event of d...             1   \n",
       "3  On any Business Day all amounts on deposit in ...             1   \n",
       "4  Available funds in each Cash Management Accoun...             1   \n",
       "\n",
       "   aggregate_dscr_fall  dscr_fall  unspecified  debt_yield_fall  \\\n",
       "0                    0          0            0                0   \n",
       "1                    1          0            0                0   \n",
       "2                    0          0            0                0   \n",
       "3                    0          0            0                0   \n",
       "4                    0          0            0                0   \n",
       "\n",
       "   aggregate_debt_yield_fall  mezzanine_default  tenant_failure  \\\n",
       "0                          0                  0               0   \n",
       "1                          0                  0               0   \n",
       "2                          0                  0               0   \n",
       "3                          0                  0               0   \n",
       "4                          0                  0               0   \n",
       "\n",
       "   mezzanine_outstanding  operator_termination  bankruptcy  \\\n",
       "0                      0                     0           0   \n",
       "1                      0                     0           0   \n",
       "2                      0                     0           0   \n",
       "3                      0                     0           0   \n",
       "4                      0                     0           0   \n",
       "\n",
       "   aggregate_debt_yield  sponsor_termination  renovations  \n",
       "0                     0                    0            0  \n",
       "1                     0                    0            0  \n",
       "2                     0                    0            0  \n",
       "3                     0                    0            0  \n",
       "4                     0                    0            0  "
      ]
     },
     "execution_count": 26,
     "metadata": {},
     "output_type": "execute_result"
    }
   ],
   "source": [
    "df.head()"
   ]
  },
  {
   "cell_type": "code",
   "execution_count": 27,
   "metadata": {},
   "outputs": [
    {
     "data": {
      "text/plain": [
       "Document                     object\n",
       "Sentence                     object\n",
       "loan_default                  Int64\n",
       "aggregate_dscr_fall           Int64\n",
       "dscr_fall                     Int64\n",
       "unspecified                   Int64\n",
       "debt_yield_fall               Int64\n",
       "aggregate_debt_yield_fall     Int64\n",
       "mezzanine_default             Int64\n",
       "tenant_failure                Int64\n",
       "mezzanine_outstanding         Int64\n",
       "operator_termination          Int64\n",
       "bankruptcy                    Int64\n",
       "aggregate_debt_yield          Int64\n",
       "sponsor_termination           Int64\n",
       "renovations                   Int64\n",
       "dtype: object"
      ]
     },
     "execution_count": 27,
     "metadata": {},
     "output_type": "execute_result"
    }
   ],
   "source": [
    "df.dtypes"
   ]
  },
  {
   "cell_type": "code",
   "execution_count": null,
   "metadata": {},
   "outputs": [],
   "source": []
  },
  {
   "cell_type": "code",
   "execution_count": null,
   "metadata": {},
   "outputs": [],
   "source": []
  },
  {
   "cell_type": "code",
   "execution_count": null,
   "metadata": {},
   "outputs": [],
   "source": []
  },
  {
   "cell_type": "code",
   "execution_count": null,
   "metadata": {},
   "outputs": [],
   "source": []
  },
  {
   "cell_type": "code",
   "execution_count": null,
   "metadata": {},
   "outputs": [],
   "source": []
  },
  {
   "cell_type": "code",
   "execution_count": null,
   "metadata": {},
   "outputs": [],
   "source": []
  },
  {
   "cell_type": "code",
   "execution_count": 28,
   "metadata": {},
   "outputs": [
    {
     "data": {
      "text/plain": [
       "(686, 16)"
      ]
     },
     "execution_count": 28,
     "metadata": {},
     "output_type": "execute_result"
    }
   ],
   "source": [
    "df.shape"
   ]
  },
  {
   "cell_type": "code",
   "execution_count": 29,
   "metadata": {},
   "outputs": [
    {
     "data": {
      "text/plain": [
       "Document                     20120828_01Y0R8_Prospectus_CM00000000205875087...\n",
       "Sentence                     On each Business Day, the financial institutio...\n",
       "loan_default                                                               297\n",
       "aggregate_dscr_fall                                                          2\n",
       "dscr_fall                                                                   16\n",
       "unspecified                                                                261\n",
       "debt_yield_fall                                                            110\n",
       "aggregate_debt_yield_fall                                                   17\n",
       "mezzanine_default                                                           42\n",
       "tenant_failure                                                              35\n",
       "mezzanine_outstanding                                                        8\n",
       "operator_termination                                                        15\n",
       "bankruptcy                                                                  17\n",
       "aggregate_debt_yield                                                         1\n",
       "sponsor_termination                                                         14\n",
       "renovations                                                                  9\n",
       "dtype: object"
      ]
     },
     "execution_count": 29,
     "metadata": {},
     "output_type": "execute_result"
    }
   ],
   "source": [
    "# We can confirm that the number of Triggers is consistent with the prior dataframe\n",
    "df.sum()"
   ]
  },
  {
   "cell_type": "code",
   "execution_count": null,
   "metadata": {},
   "outputs": [],
   "source": []
  },
  {
   "cell_type": "markdown",
   "metadata": {},
   "source": [
    "## Feature Engineering"
   ]
  },
  {
   "cell_type": "code",
   "execution_count": 30,
   "metadata": {},
   "outputs": [],
   "source": [
    "# Create a column with length of Sentence\n",
    "df['sentence_char_count'] = df['Sentence'].str.len()"
   ]
  },
  {
   "cell_type": "code",
   "execution_count": null,
   "metadata": {},
   "outputs": [],
   "source": []
  },
  {
   "cell_type": "code",
   "execution_count": 31,
   "metadata": {},
   "outputs": [
    {
     "data": {
      "text/html": [
       "<div>\n",
       "<style scoped>\n",
       "    .dataframe tbody tr th:only-of-type {\n",
       "        vertical-align: middle;\n",
       "    }\n",
       "\n",
       "    .dataframe tbody tr th {\n",
       "        vertical-align: top;\n",
       "    }\n",
       "\n",
       "    .dataframe thead th {\n",
       "        text-align: right;\n",
       "    }\n",
       "</style>\n",
       "<table border=\"1\" class=\"dataframe\">\n",
       "  <thead>\n",
       "    <tr style=\"text-align: right;\">\n",
       "      <th></th>\n",
       "      <th>Document</th>\n",
       "      <th>Sentence</th>\n",
       "      <th>loan_default</th>\n",
       "      <th>aggregate_dscr_fall</th>\n",
       "      <th>dscr_fall</th>\n",
       "      <th>unspecified</th>\n",
       "      <th>debt_yield_fall</th>\n",
       "      <th>aggregate_debt_yield_fall</th>\n",
       "      <th>mezzanine_default</th>\n",
       "      <th>tenant_failure</th>\n",
       "      <th>mezzanine_outstanding</th>\n",
       "      <th>operator_termination</th>\n",
       "      <th>bankruptcy</th>\n",
       "      <th>aggregate_debt_yield</th>\n",
       "      <th>sponsor_termination</th>\n",
       "      <th>renovations</th>\n",
       "      <th>sentence_char_count</th>\n",
       "    </tr>\n",
       "  </thead>\n",
       "  <tbody>\n",
       "    <tr>\n",
       "      <th>0</th>\n",
       "      <td>20120828_01Y0R8_Prospectus_CM00000000205875087...</td>\n",
       "      <td>On each Business Day, the financial institutio...</td>\n",
       "      <td>1</td>\n",
       "      <td>0</td>\n",
       "      <td>0</td>\n",
       "      <td>0</td>\n",
       "      <td>0</td>\n",
       "      <td>0</td>\n",
       "      <td>0</td>\n",
       "      <td>0</td>\n",
       "      <td>0</td>\n",
       "      <td>0</td>\n",
       "      <td>0</td>\n",
       "      <td>0</td>\n",
       "      <td>0</td>\n",
       "      <td>0</td>\n",
       "      <td>446</td>\n",
       "    </tr>\n",
       "    <tr>\n",
       "      <th>1</th>\n",
       "      <td>20120828_01Y0R8_Prospectus_CM00000000205875087...</td>\n",
       "      <td>The Borrower has established and is required t...</td>\n",
       "      <td>1</td>\n",
       "      <td>1</td>\n",
       "      <td>0</td>\n",
       "      <td>0</td>\n",
       "      <td>0</td>\n",
       "      <td>0</td>\n",
       "      <td>0</td>\n",
       "      <td>0</td>\n",
       "      <td>0</td>\n",
       "      <td>0</td>\n",
       "      <td>0</td>\n",
       "      <td>0</td>\n",
       "      <td>0</td>\n",
       "      <td>0</td>\n",
       "      <td>836</td>\n",
       "    </tr>\n",
       "    <tr>\n",
       "      <th>2</th>\n",
       "      <td>20120828_01Y0R8_Prospectus_CM00000000205875087...</td>\n",
       "      <td>During a Trigger Period or while an event of d...</td>\n",
       "      <td>1</td>\n",
       "      <td>0</td>\n",
       "      <td>0</td>\n",
       "      <td>0</td>\n",
       "      <td>0</td>\n",
       "      <td>0</td>\n",
       "      <td>0</td>\n",
       "      <td>0</td>\n",
       "      <td>0</td>\n",
       "      <td>0</td>\n",
       "      <td>0</td>\n",
       "      <td>0</td>\n",
       "      <td>0</td>\n",
       "      <td>0</td>\n",
       "      <td>1772</td>\n",
       "    </tr>\n",
       "    <tr>\n",
       "      <th>3</th>\n",
       "      <td>20120828_01Y0R8_Prospectus_CM00000000205875087...</td>\n",
       "      <td>On any Business Day all amounts on deposit in ...</td>\n",
       "      <td>1</td>\n",
       "      <td>0</td>\n",
       "      <td>0</td>\n",
       "      <td>0</td>\n",
       "      <td>0</td>\n",
       "      <td>0</td>\n",
       "      <td>0</td>\n",
       "      <td>0</td>\n",
       "      <td>0</td>\n",
       "      <td>0</td>\n",
       "      <td>0</td>\n",
       "      <td>0</td>\n",
       "      <td>0</td>\n",
       "      <td>0</td>\n",
       "      <td>302</td>\n",
       "    </tr>\n",
       "    <tr>\n",
       "      <th>4</th>\n",
       "      <td>20120828_01Y0R8_Prospectus_CM00000000205875087...</td>\n",
       "      <td>Available funds in each Cash Management Accoun...</td>\n",
       "      <td>1</td>\n",
       "      <td>0</td>\n",
       "      <td>0</td>\n",
       "      <td>0</td>\n",
       "      <td>0</td>\n",
       "      <td>0</td>\n",
       "      <td>0</td>\n",
       "      <td>0</td>\n",
       "      <td>0</td>\n",
       "      <td>0</td>\n",
       "      <td>0</td>\n",
       "      <td>0</td>\n",
       "      <td>0</td>\n",
       "      <td>0</td>\n",
       "      <td>235</td>\n",
       "    </tr>\n",
       "  </tbody>\n",
       "</table>\n",
       "</div>"
      ],
      "text/plain": [
       "                                            Document  \\\n",
       "0  20120828_01Y0R8_Prospectus_CM00000000205875087...   \n",
       "1  20120828_01Y0R8_Prospectus_CM00000000205875087...   \n",
       "2  20120828_01Y0R8_Prospectus_CM00000000205875087...   \n",
       "3  20120828_01Y0R8_Prospectus_CM00000000205875087...   \n",
       "4  20120828_01Y0R8_Prospectus_CM00000000205875087...   \n",
       "\n",
       "                                            Sentence  loan_default  \\\n",
       "0  On each Business Day, the financial institutio...             1   \n",
       "1  The Borrower has established and is required t...             1   \n",
       "2  During a Trigger Period or while an event of d...             1   \n",
       "3  On any Business Day all amounts on deposit in ...             1   \n",
       "4  Available funds in each Cash Management Accoun...             1   \n",
       "\n",
       "   aggregate_dscr_fall  dscr_fall  unspecified  debt_yield_fall  \\\n",
       "0                    0          0            0                0   \n",
       "1                    1          0            0                0   \n",
       "2                    0          0            0                0   \n",
       "3                    0          0            0                0   \n",
       "4                    0          0            0                0   \n",
       "\n",
       "   aggregate_debt_yield_fall  mezzanine_default  tenant_failure  \\\n",
       "0                          0                  0               0   \n",
       "1                          0                  0               0   \n",
       "2                          0                  0               0   \n",
       "3                          0                  0               0   \n",
       "4                          0                  0               0   \n",
       "\n",
       "   mezzanine_outstanding  operator_termination  bankruptcy  \\\n",
       "0                      0                     0           0   \n",
       "1                      0                     0           0   \n",
       "2                      0                     0           0   \n",
       "3                      0                     0           0   \n",
       "4                      0                     0           0   \n",
       "\n",
       "   aggregate_debt_yield  sponsor_termination  renovations  sentence_char_count  \n",
       "0                     0                    0            0                  446  \n",
       "1                     0                    0            0                  836  \n",
       "2                     0                    0            0                 1772  \n",
       "3                     0                    0            0                  302  \n",
       "4                     0                    0            0                  235  "
      ]
     },
     "execution_count": 31,
     "metadata": {},
     "output_type": "execute_result"
    }
   ],
   "source": [
    "df.head()"
   ]
  },
  {
   "cell_type": "code",
   "execution_count": 32,
   "metadata": {},
   "outputs": [
    {
     "data": {
      "text/plain": [
       "Document                     20150307_028S2X_Prospectus_SD00000000238902418...\n",
       "Sentence                     Except during a Cash Management Period, funds ...\n",
       "loan_default                                                                 0\n",
       "aggregate_dscr_fall                                                          0\n",
       "dscr_fall                                                                    0\n",
       "unspecified                                                                261\n",
       "debt_yield_fall                                                              0\n",
       "aggregate_debt_yield_fall                                                    0\n",
       "mezzanine_default                                                            0\n",
       "tenant_failure                                                               0\n",
       "mezzanine_outstanding                                                        0\n",
       "operator_termination                                                         0\n",
       "bankruptcy                                                                   0\n",
       "aggregate_debt_yield                                                         0\n",
       "sponsor_termination                                                          0\n",
       "renovations                                                                  0\n",
       "sentence_char_count                                                     110442\n",
       "dtype: object"
      ]
     },
     "execution_count": 32,
     "metadata": {},
     "output_type": "execute_result"
    }
   ],
   "source": [
    "# We confirm that if a sentence is Unspecified, there are no other loan events\n",
    "df[df['unspecified']==1].sum()"
   ]
  },
  {
   "cell_type": "code",
   "execution_count": null,
   "metadata": {},
   "outputs": [],
   "source": []
  },
  {
   "cell_type": "markdown",
   "metadata": {},
   "source": [
    "## Natural Language Processing of the sentence column"
   ]
  },
  {
   "cell_type": "code",
   "execution_count": 33,
   "metadata": {},
   "outputs": [],
   "source": [
    "nlp = spacy.load('en_core_web_sm', disable = ['ner', 'parser'])"
   ]
  },
  {
   "cell_type": "code",
   "execution_count": 34,
   "metadata": {},
   "outputs": [
    {
     "data": {
      "text/plain": [
       "['During',\n",
       " 'a',\n",
       " 'Trigger',\n",
       " 'Period',\n",
       " 'or',\n",
       " 'while',\n",
       " 'an',\n",
       " 'event',\n",
       " 'of',\n",
       " 'default',\n",
       " 'under',\n",
       " 'the',\n",
       " 'Mortgage',\n",
       " 'Loan',\n",
       " 'is',\n",
       " 'continuing',\n",
       " ',',\n",
       " 'all',\n",
       " 'amounts',\n",
       " 'available',\n",
       " 'in',\n",
       " 'the',\n",
       " 'Cash',\n",
       " 'Management',\n",
       " 'Account',\n",
       " 'will',\n",
       " 'be',\n",
       " 'applied',\n",
       " 'on',\n",
       " 'each',\n",
       " 'Loan',\n",
       " 'Payment',\n",
       " 'Date',\n",
       " 'in',\n",
       " 'the',\n",
       " 'following',\n",
       " 'order',\n",
       " 'of',\n",
       " 'priority',\n",
       " ':',\n",
       " '(',\n",
       " 'i',\n",
       " ')',\n",
       " 'to',\n",
       " 'the',\n",
       " 'Tax',\n",
       " 'and',\n",
       " 'Insurance',\n",
       " 'Reserve',\n",
       " 'Account',\n",
       " ',',\n",
       " '(',\n",
       " 'a',\n",
       " ')',\n",
       " '1/12th',\n",
       " 'of',\n",
       " 'projected',\n",
       " 'annual',\n",
       " 'taxes',\n",
       " 'and',\n",
       " '(',\n",
       " 'b',\n",
       " ')',\n",
       " '1/12th',\n",
       " 'of',\n",
       " 'projected',\n",
       " 'annual',\n",
       " 'insurance',\n",
       " 'premiums',\n",
       " '(',\n",
       " 'unless',\n",
       " 'certain',\n",
       " 'blanket',\n",
       " 'policies',\n",
       " 'are',\n",
       " 'in',\n",
       " 'effect',\n",
       " ')',\n",
       " ',',\n",
       " '(',\n",
       " 'ii',\n",
       " ')',\n",
       " 'to',\n",
       " 'the',\n",
       " 'lender',\n",
       " ',',\n",
       " 'the',\n",
       " 'amount',\n",
       " 'of',\n",
       " 'all',\n",
       " 'scheduled',\n",
       " 'or',\n",
       " 'delinquent',\n",
       " 'interest',\n",
       " 'and',\n",
       " 'principal',\n",
       " 'on',\n",
       " 'the',\n",
       " 'Mortgage',\n",
       " 'Loan',\n",
       " 'and',\n",
       " 'all',\n",
       " 'other',\n",
       " 'amounts',\n",
       " 'then',\n",
       " 'due',\n",
       " 'and',\n",
       " 'payable',\n",
       " 'under',\n",
       " 'the',\n",
       " 'Loan',\n",
       " 'Documents',\n",
       " '(',\n",
       " 'with',\n",
       " 'amounts',\n",
       " 'in',\n",
       " 'respect',\n",
       " 'of',\n",
       " 'principal',\n",
       " 'paid',\n",
       " 'last',\n",
       " ')',\n",
       " ',',\n",
       " '(',\n",
       " 'iii',\n",
       " ')',\n",
       " 'provided',\n",
       " 'there',\n",
       " 'has',\n",
       " 'been',\n",
       " 'no',\n",
       " 'enforcement',\n",
       " 'action',\n",
       " ',',\n",
       " 'after',\n",
       " 'the',\n",
       " 'occurrence',\n",
       " 'and',\n",
       " 'during',\n",
       " 'the',\n",
       " 'continuance',\n",
       " 'of',\n",
       " 'an',\n",
       " 'event',\n",
       " 'of',\n",
       " 'default',\n",
       " 'under',\n",
       " 'the',\n",
       " 'Mortgage',\n",
       " 'Loan',\n",
       " ',',\n",
       " 'to',\n",
       " 'operating',\n",
       " 'accounts',\n",
       " ',',\n",
       " 'an',\n",
       " 'amount',\n",
       " 'equal',\n",
       " 'to',\n",
       " 'the',\n",
       " 'budgeted',\n",
       " 'operating',\n",
       " 'expenses',\n",
       " 'for',\n",
       " 'the',\n",
       " 'month',\n",
       " 'in',\n",
       " 'which',\n",
       " 'such',\n",
       " 'Loan',\n",
       " 'Payment',\n",
       " 'Date',\n",
       " 'occurs',\n",
       " '(',\n",
       " 'as',\n",
       " 'described',\n",
       " 'in',\n",
       " '“',\n",
       " 'Description',\n",
       " 'of',\n",
       " 'the',\n",
       " 'Mortgage',\n",
       " 'Loan',\n",
       " '—',\n",
       " 'Cash',\n",
       " 'Management',\n",
       " '”',\n",
       " ')',\n",
       " ';',\n",
       " '(',\n",
       " 'iv',\n",
       " ')',\n",
       " 'to',\n",
       " 'the',\n",
       " 'Capital',\n",
       " 'Expenditure',\n",
       " 'Reserve',\n",
       " 'Account,\\U00100003an',\n",
       " 'amount',\n",
       " 'equal',\n",
       " 'to',\n",
       " 'the',\n",
       " 'lesser',\n",
       " 'of',\n",
       " '(',\n",
       " 'a',\n",
       " ')',\n",
       " '$',\n",
       " '9,018',\n",
       " '(',\n",
       " 'which',\n",
       " 'is',\n",
       " '$',\n",
       " '0.15',\n",
       " 'per',\n",
       " 'owned',\n",
       " 'rentable',\n",
       " 'square',\n",
       " 'foot',\n",
       " 'per',\n",
       " 'annum',\n",
       " ')',\n",
       " 'or',\n",
       " '(',\n",
       " 'b',\n",
       " ')',\n",
       " 'the',\n",
       " 'amount',\n",
       " 'that',\n",
       " 'would',\n",
       " 'cause',\n",
       " 'the',\n",
       " 'total',\n",
       " 'amount',\n",
       " 'contained',\n",
       " 'in',\n",
       " 'the',\n",
       " 'Capital',\n",
       " 'Expenditure',\n",
       " 'Reserve',\n",
       " 'Account',\n",
       " 'to',\n",
       " 'equal',\n",
       " '$',\n",
       " '108,216',\n",
       " '(',\n",
       " 'which',\n",
       " 'is',\n",
       " '12',\n",
       " 'times',\n",
       " 'the',\n",
       " 'monthly',\n",
       " 'required',\n",
       " 'amount',\n",
       " 'set',\n",
       " 'forth',\n",
       " 'in',\n",
       " 'clause',\n",
       " '(',\n",
       " 'a',\n",
       " ')',\n",
       " ')',\n",
       " ',',\n",
       " '(',\n",
       " 'v',\n",
       " ')',\n",
       " 'to',\n",
       " 'the',\n",
       " 'TI',\n",
       " '/',\n",
       " 'LC',\n",
       " 'Reserve',\n",
       " 'Account',\n",
       " 'an',\n",
       " 'amount',\n",
       " 'equal',\n",
       " 'to',\n",
       " 'the',\n",
       " 'lesser',\n",
       " 'of',\n",
       " '(',\n",
       " 'a',\n",
       " ')',\n",
       " '$',\n",
       " '60,120',\n",
       " '(',\n",
       " 'which',\n",
       " 'is',\n",
       " '$',\n",
       " '1.00',\n",
       " 'per',\n",
       " 'owned',\n",
       " 'rentable',\n",
       " 'square',\n",
       " 'foot',\n",
       " 'per',\n",
       " 'annum',\n",
       " ')',\n",
       " 'or',\n",
       " '(',\n",
       " 'b',\n",
       " ')',\n",
       " 'the',\n",
       " 'amount',\n",
       " 'that',\n",
       " 'would',\n",
       " 'cause',\n",
       " 'the',\n",
       " 'total',\n",
       " 'amount',\n",
       " 'contained',\n",
       " 'in',\n",
       " 'the',\n",
       " 'Capital',\n",
       " 'Expenditure',\n",
       " 'Reserve',\n",
       " 'Account',\n",
       " 'to',\n",
       " 'equal',\n",
       " '$',\n",
       " '721,438',\n",
       " '(',\n",
       " 'which',\n",
       " 'is',\n",
       " '12',\n",
       " 'times',\n",
       " 'the',\n",
       " 'monthly',\n",
       " 'required',\n",
       " 'amount',\n",
       " 'set',\n",
       " 'forth',\n",
       " 'in',\n",
       " 'clause',\n",
       " '(',\n",
       " 'a',\n",
       " ')',\n",
       " ')',\n",
       " ',',\n",
       " 'and',\n",
       " '(',\n",
       " 'vi',\n",
       " ')',\n",
       " 'unless',\n",
       " 'an',\n",
       " 'event',\n",
       " 'of',\n",
       " 'default',\n",
       " 'under',\n",
       " 'the',\n",
       " 'Loan',\n",
       " 'Documents',\n",
       " 'is',\n",
       " 'continuing',\n",
       " ',',\n",
       " 'all',\n",
       " 'remaining',\n",
       " 'amounts',\n",
       " 'to',\n",
       " 'the',\n",
       " 'Borrower',\n",
       " '.']"
      ]
     },
     "execution_count": 34,
     "metadata": {},
     "output_type": "execute_result"
    }
   ],
   "source": [
    "# Review a tokenized sample Sentence\n",
    "[token.text for token in nlp(df['Sentence'][2])]"
   ]
  },
  {
   "cell_type": "code",
   "execution_count": 35,
   "metadata": {},
   "outputs": [
    {
     "data": {
      "text/plain": [
       "['during',\n",
       " 'a',\n",
       " 'trigger',\n",
       " 'period',\n",
       " 'or',\n",
       " 'while',\n",
       " 'an',\n",
       " 'event',\n",
       " 'of',\n",
       " 'default',\n",
       " 'under',\n",
       " 'the',\n",
       " 'mortgage',\n",
       " 'loan',\n",
       " 'be',\n",
       " 'continue',\n",
       " ',',\n",
       " 'all',\n",
       " 'amount',\n",
       " 'available',\n",
       " 'in',\n",
       " 'the',\n",
       " 'cash',\n",
       " 'management',\n",
       " 'account',\n",
       " 'will',\n",
       " 'be',\n",
       " 'apply',\n",
       " 'on',\n",
       " 'each',\n",
       " 'loan',\n",
       " 'payment',\n",
       " 'date',\n",
       " 'in',\n",
       " 'the',\n",
       " 'follow',\n",
       " 'order',\n",
       " 'of',\n",
       " 'priority',\n",
       " ':',\n",
       " '(',\n",
       " 'i',\n",
       " ')',\n",
       " 'to',\n",
       " 'the',\n",
       " 'tax',\n",
       " 'and',\n",
       " 'insurance',\n",
       " 'reserve',\n",
       " 'account',\n",
       " ',',\n",
       " '(',\n",
       " 'a',\n",
       " ')',\n",
       " '1/12th',\n",
       " 'of',\n",
       " 'project',\n",
       " 'annual',\n",
       " 'tax',\n",
       " 'and',\n",
       " '(',\n",
       " 'b',\n",
       " ')',\n",
       " '1/12th',\n",
       " 'of',\n",
       " 'project',\n",
       " 'annual',\n",
       " 'insurance',\n",
       " 'premium',\n",
       " '(',\n",
       " 'unless',\n",
       " 'certain',\n",
       " 'blanket',\n",
       " 'policy',\n",
       " 'be',\n",
       " 'in',\n",
       " 'effect',\n",
       " ')',\n",
       " ',',\n",
       " '(',\n",
       " 'ii',\n",
       " ')',\n",
       " 'to',\n",
       " 'the',\n",
       " 'lender',\n",
       " ',',\n",
       " 'the',\n",
       " 'amount',\n",
       " 'of',\n",
       " 'all',\n",
       " 'schedule',\n",
       " 'or',\n",
       " 'delinquent',\n",
       " 'interest',\n",
       " 'and',\n",
       " 'principal',\n",
       " 'on',\n",
       " 'the',\n",
       " 'mortgage',\n",
       " 'loan',\n",
       " 'and',\n",
       " 'all',\n",
       " 'other',\n",
       " 'amount',\n",
       " 'then',\n",
       " 'due',\n",
       " 'and',\n",
       " 'payable',\n",
       " 'under',\n",
       " 'the',\n",
       " 'loan',\n",
       " 'documents',\n",
       " '(',\n",
       " 'with',\n",
       " 'amount',\n",
       " 'in',\n",
       " 'respect',\n",
       " 'of',\n",
       " 'principal',\n",
       " 'pay',\n",
       " 'last',\n",
       " ')',\n",
       " ',',\n",
       " '(',\n",
       " 'iii',\n",
       " ')',\n",
       " 'provide',\n",
       " 'there',\n",
       " 'have',\n",
       " 'be',\n",
       " 'no',\n",
       " 'enforcement',\n",
       " 'action',\n",
       " ',',\n",
       " 'after',\n",
       " 'the',\n",
       " 'occurrence',\n",
       " 'and',\n",
       " 'during',\n",
       " 'the',\n",
       " 'continuance',\n",
       " 'of',\n",
       " 'an',\n",
       " 'event',\n",
       " 'of',\n",
       " 'default',\n",
       " 'under',\n",
       " 'the',\n",
       " 'mortgage',\n",
       " 'loan',\n",
       " ',',\n",
       " 'to',\n",
       " 'operating',\n",
       " 'account',\n",
       " ',',\n",
       " 'an',\n",
       " 'amount',\n",
       " 'equal',\n",
       " 'to',\n",
       " 'the',\n",
       " 'budget',\n",
       " 'operating',\n",
       " 'expense',\n",
       " 'for',\n",
       " 'the',\n",
       " 'month',\n",
       " 'in',\n",
       " 'which',\n",
       " 'such',\n",
       " 'loan',\n",
       " 'payment',\n",
       " 'date',\n",
       " 'occur',\n",
       " '(',\n",
       " 'as',\n",
       " 'describe',\n",
       " 'in',\n",
       " '\"',\n",
       " 'description',\n",
       " 'of',\n",
       " 'the',\n",
       " 'mortgage',\n",
       " 'loan',\n",
       " '—',\n",
       " 'cash',\n",
       " 'management',\n",
       " '\"',\n",
       " ')',\n",
       " ';',\n",
       " '(',\n",
       " 'iv',\n",
       " ')',\n",
       " 'to',\n",
       " 'the',\n",
       " 'capital',\n",
       " 'expenditure',\n",
       " 'reserve',\n",
       " 'account,\\U00100003an',\n",
       " 'amount',\n",
       " 'equal',\n",
       " 'to',\n",
       " 'the',\n",
       " 'less',\n",
       " 'of',\n",
       " '(',\n",
       " 'a',\n",
       " ')',\n",
       " '$',\n",
       " '9,018',\n",
       " '(',\n",
       " 'which',\n",
       " 'be',\n",
       " '$',\n",
       " '0.15',\n",
       " 'per',\n",
       " 'own',\n",
       " 'rentable',\n",
       " 'square',\n",
       " 'foot',\n",
       " 'per',\n",
       " 'annum',\n",
       " ')',\n",
       " 'or',\n",
       " '(',\n",
       " 'b',\n",
       " ')',\n",
       " 'the',\n",
       " 'amount',\n",
       " 'that',\n",
       " 'would',\n",
       " 'because',\n",
       " 'the',\n",
       " 'total',\n",
       " 'amount',\n",
       " 'contain',\n",
       " 'in',\n",
       " 'the',\n",
       " 'capital',\n",
       " 'expenditure',\n",
       " 'reserve',\n",
       " 'account',\n",
       " 'to',\n",
       " 'equal',\n",
       " '$',\n",
       " '108,216',\n",
       " '(',\n",
       " 'which',\n",
       " 'be',\n",
       " '12',\n",
       " 'time',\n",
       " 'the',\n",
       " 'monthly',\n",
       " 'require',\n",
       " 'amount',\n",
       " 'set',\n",
       " 'forth',\n",
       " 'in',\n",
       " 'clause',\n",
       " '(',\n",
       " 'a',\n",
       " ')',\n",
       " ')',\n",
       " ',',\n",
       " '(',\n",
       " 'v',\n",
       " ')',\n",
       " 'to',\n",
       " 'the',\n",
       " 'ti',\n",
       " '/',\n",
       " 'lc',\n",
       " 'reserve',\n",
       " 'account',\n",
       " 'an',\n",
       " 'amount',\n",
       " 'equal',\n",
       " 'to',\n",
       " 'the',\n",
       " 'less',\n",
       " 'of',\n",
       " '(',\n",
       " 'a',\n",
       " ')',\n",
       " '$',\n",
       " '60,120',\n",
       " '(',\n",
       " 'which',\n",
       " 'be',\n",
       " '$',\n",
       " '1.00',\n",
       " 'per',\n",
       " 'own',\n",
       " 'rentable',\n",
       " 'square',\n",
       " 'foot',\n",
       " 'per',\n",
       " 'annum',\n",
       " ')',\n",
       " 'or',\n",
       " '(',\n",
       " 'b',\n",
       " ')',\n",
       " 'the',\n",
       " 'amount',\n",
       " 'that',\n",
       " 'would',\n",
       " 'because',\n",
       " 'the',\n",
       " 'total',\n",
       " 'amount',\n",
       " 'contain',\n",
       " 'in',\n",
       " 'the',\n",
       " 'capital',\n",
       " 'expenditure',\n",
       " 'reserve',\n",
       " 'account',\n",
       " 'to',\n",
       " 'equal',\n",
       " '$',\n",
       " '721,438',\n",
       " '(',\n",
       " 'which',\n",
       " 'be',\n",
       " '12',\n",
       " 'time',\n",
       " 'the',\n",
       " 'monthly',\n",
       " 'require',\n",
       " 'amount',\n",
       " 'set',\n",
       " 'forth',\n",
       " 'in',\n",
       " 'clause',\n",
       " '(',\n",
       " 'a',\n",
       " ')',\n",
       " ')',\n",
       " ',',\n",
       " 'and',\n",
       " '(',\n",
       " 'vi',\n",
       " ')',\n",
       " 'unless',\n",
       " 'an',\n",
       " 'event',\n",
       " 'of',\n",
       " 'default',\n",
       " 'under',\n",
       " 'the',\n",
       " 'loan',\n",
       " 'documents',\n",
       " 'be',\n",
       " 'continue',\n",
       " ',',\n",
       " 'all',\n",
       " 'remain',\n",
       " 'amount',\n",
       " 'to',\n",
       " 'the',\n",
       " 'borrower',\n",
       " '.']"
      ]
     },
     "execution_count": 35,
     "metadata": {},
     "output_type": "execute_result"
    }
   ],
   "source": [
    "# Review a lemmatized sample Sentence\n",
    "[token.lemma_ for token in nlp(df['Sentence'][2])]"
   ]
  },
  {
   "cell_type": "code",
   "execution_count": 36,
   "metadata": {},
   "outputs": [],
   "source": [
    "def tokenize(text):\n",
    "    doc = nlp(text)\n",
    "    tokens = [token.text for token in doc]\n",
    "    return ' '.join(tokens)\n",
    "\n",
    "df['SentenceTokens'] = df['Sentence'].apply(tokenize)"
   ]
  },
  {
   "cell_type": "code",
   "execution_count": 37,
   "metadata": {},
   "outputs": [],
   "source": [
    "def lemmatize(text):\n",
    "    doc = nlp(text)\n",
    "    lemmas = [token.lemma_ for token in doc]\n",
    "    return ' '.join(lemmas)\n",
    "\n",
    "df['SentenceLemmas'] = df['Sentence'].apply(lemmatize)"
   ]
  },
  {
   "cell_type": "code",
   "execution_count": 38,
   "metadata": {},
   "outputs": [
    {
     "data": {
      "text/html": [
       "<div>\n",
       "<style scoped>\n",
       "    .dataframe tbody tr th:only-of-type {\n",
       "        vertical-align: middle;\n",
       "    }\n",
       "\n",
       "    .dataframe tbody tr th {\n",
       "        vertical-align: top;\n",
       "    }\n",
       "\n",
       "    .dataframe thead th {\n",
       "        text-align: right;\n",
       "    }\n",
       "</style>\n",
       "<table border=\"1\" class=\"dataframe\">\n",
       "  <thead>\n",
       "    <tr style=\"text-align: right;\">\n",
       "      <th></th>\n",
       "      <th>Document</th>\n",
       "      <th>Sentence</th>\n",
       "      <th>loan_default</th>\n",
       "      <th>aggregate_dscr_fall</th>\n",
       "      <th>dscr_fall</th>\n",
       "      <th>unspecified</th>\n",
       "      <th>debt_yield_fall</th>\n",
       "      <th>aggregate_debt_yield_fall</th>\n",
       "      <th>mezzanine_default</th>\n",
       "      <th>tenant_failure</th>\n",
       "      <th>mezzanine_outstanding</th>\n",
       "      <th>operator_termination</th>\n",
       "      <th>bankruptcy</th>\n",
       "      <th>aggregate_debt_yield</th>\n",
       "      <th>sponsor_termination</th>\n",
       "      <th>renovations</th>\n",
       "      <th>sentence_char_count</th>\n",
       "      <th>SentenceTokens</th>\n",
       "      <th>SentenceLemmas</th>\n",
       "    </tr>\n",
       "  </thead>\n",
       "  <tbody>\n",
       "    <tr>\n",
       "      <th>0</th>\n",
       "      <td>20120828_01Y0R8_Prospectus_CM00000000205875087...</td>\n",
       "      <td>On each Business Day, the financial institutio...</td>\n",
       "      <td>1</td>\n",
       "      <td>0</td>\n",
       "      <td>0</td>\n",
       "      <td>0</td>\n",
       "      <td>0</td>\n",
       "      <td>0</td>\n",
       "      <td>0</td>\n",
       "      <td>0</td>\n",
       "      <td>0</td>\n",
       "      <td>0</td>\n",
       "      <td>0</td>\n",
       "      <td>0</td>\n",
       "      <td>0</td>\n",
       "      <td>0</td>\n",
       "      <td>446</td>\n",
       "      <td>On each Business Day , the financial instituti...</td>\n",
       "      <td>on each business day , the financial instituti...</td>\n",
       "    </tr>\n",
       "    <tr>\n",
       "      <th>1</th>\n",
       "      <td>20120828_01Y0R8_Prospectus_CM00000000205875087...</td>\n",
       "      <td>The Borrower has established and is required t...</td>\n",
       "      <td>1</td>\n",
       "      <td>1</td>\n",
       "      <td>0</td>\n",
       "      <td>0</td>\n",
       "      <td>0</td>\n",
       "      <td>0</td>\n",
       "      <td>0</td>\n",
       "      <td>0</td>\n",
       "      <td>0</td>\n",
       "      <td>0</td>\n",
       "      <td>0</td>\n",
       "      <td>0</td>\n",
       "      <td>0</td>\n",
       "      <td>0</td>\n",
       "      <td>836</td>\n",
       "      <td>The Borrower has established and is required t...</td>\n",
       "      <td>the borrower have establish and be require to ...</td>\n",
       "    </tr>\n",
       "    <tr>\n",
       "      <th>2</th>\n",
       "      <td>20120828_01Y0R8_Prospectus_CM00000000205875087...</td>\n",
       "      <td>During a Trigger Period or while an event of d...</td>\n",
       "      <td>1</td>\n",
       "      <td>0</td>\n",
       "      <td>0</td>\n",
       "      <td>0</td>\n",
       "      <td>0</td>\n",
       "      <td>0</td>\n",
       "      <td>0</td>\n",
       "      <td>0</td>\n",
       "      <td>0</td>\n",
       "      <td>0</td>\n",
       "      <td>0</td>\n",
       "      <td>0</td>\n",
       "      <td>0</td>\n",
       "      <td>0</td>\n",
       "      <td>1772</td>\n",
       "      <td>During a Trigger Period or while an event of d...</td>\n",
       "      <td>during a trigger period or while an event of d...</td>\n",
       "    </tr>\n",
       "    <tr>\n",
       "      <th>3</th>\n",
       "      <td>20120828_01Y0R8_Prospectus_CM00000000205875087...</td>\n",
       "      <td>On any Business Day all amounts on deposit in ...</td>\n",
       "      <td>1</td>\n",
       "      <td>0</td>\n",
       "      <td>0</td>\n",
       "      <td>0</td>\n",
       "      <td>0</td>\n",
       "      <td>0</td>\n",
       "      <td>0</td>\n",
       "      <td>0</td>\n",
       "      <td>0</td>\n",
       "      <td>0</td>\n",
       "      <td>0</td>\n",
       "      <td>0</td>\n",
       "      <td>0</td>\n",
       "      <td>0</td>\n",
       "      <td>302</td>\n",
       "      <td>On any Business Day all amounts on deposit in ...</td>\n",
       "      <td>on any business day all amount on deposit in t...</td>\n",
       "    </tr>\n",
       "    <tr>\n",
       "      <th>4</th>\n",
       "      <td>20120828_01Y0R8_Prospectus_CM00000000205875087...</td>\n",
       "      <td>Available funds in each Cash Management Accoun...</td>\n",
       "      <td>1</td>\n",
       "      <td>0</td>\n",
       "      <td>0</td>\n",
       "      <td>0</td>\n",
       "      <td>0</td>\n",
       "      <td>0</td>\n",
       "      <td>0</td>\n",
       "      <td>0</td>\n",
       "      <td>0</td>\n",
       "      <td>0</td>\n",
       "      <td>0</td>\n",
       "      <td>0</td>\n",
       "      <td>0</td>\n",
       "      <td>0</td>\n",
       "      <td>235</td>\n",
       "      <td>Available funds in each Cash Management Accoun...</td>\n",
       "      <td>available fund in each cash management account...</td>\n",
       "    </tr>\n",
       "  </tbody>\n",
       "</table>\n",
       "</div>"
      ],
      "text/plain": [
       "                                            Document  \\\n",
       "0  20120828_01Y0R8_Prospectus_CM00000000205875087...   \n",
       "1  20120828_01Y0R8_Prospectus_CM00000000205875087...   \n",
       "2  20120828_01Y0R8_Prospectus_CM00000000205875087...   \n",
       "3  20120828_01Y0R8_Prospectus_CM00000000205875087...   \n",
       "4  20120828_01Y0R8_Prospectus_CM00000000205875087...   \n",
       "\n",
       "                                            Sentence  loan_default  \\\n",
       "0  On each Business Day, the financial institutio...             1   \n",
       "1  The Borrower has established and is required t...             1   \n",
       "2  During a Trigger Period or while an event of d...             1   \n",
       "3  On any Business Day all amounts on deposit in ...             1   \n",
       "4  Available funds in each Cash Management Accoun...             1   \n",
       "\n",
       "   aggregate_dscr_fall  dscr_fall  unspecified  debt_yield_fall  \\\n",
       "0                    0          0            0                0   \n",
       "1                    1          0            0                0   \n",
       "2                    0          0            0                0   \n",
       "3                    0          0            0                0   \n",
       "4                    0          0            0                0   \n",
       "\n",
       "   aggregate_debt_yield_fall  mezzanine_default  tenant_failure  \\\n",
       "0                          0                  0               0   \n",
       "1                          0                  0               0   \n",
       "2                          0                  0               0   \n",
       "3                          0                  0               0   \n",
       "4                          0                  0               0   \n",
       "\n",
       "   mezzanine_outstanding  operator_termination  bankruptcy  \\\n",
       "0                      0                     0           0   \n",
       "1                      0                     0           0   \n",
       "2                      0                     0           0   \n",
       "3                      0                     0           0   \n",
       "4                      0                     0           0   \n",
       "\n",
       "   aggregate_debt_yield  sponsor_termination  renovations  \\\n",
       "0                     0                    0            0   \n",
       "1                     0                    0            0   \n",
       "2                     0                    0            0   \n",
       "3                     0                    0            0   \n",
       "4                     0                    0            0   \n",
       "\n",
       "   sentence_char_count                                     SentenceTokens  \\\n",
       "0                  446  On each Business Day , the financial instituti...   \n",
       "1                  836  The Borrower has established and is required t...   \n",
       "2                 1772  During a Trigger Period or while an event of d...   \n",
       "3                  302  On any Business Day all amounts on deposit in ...   \n",
       "4                  235  Available funds in each Cash Management Accoun...   \n",
       "\n",
       "                                      SentenceLemmas  \n",
       "0  on each business day , the financial instituti...  \n",
       "1  the borrower have establish and be require to ...  \n",
       "2  during a trigger period or while an event of d...  \n",
       "3  on any business day all amount on deposit in t...  \n",
       "4  available fund in each cash management account...  "
      ]
     },
     "execution_count": 38,
     "metadata": {},
     "output_type": "execute_result"
    }
   ],
   "source": [
    "df.head()"
   ]
  },
  {
   "cell_type": "code",
   "execution_count": 39,
   "metadata": {},
   "outputs": [
    {
     "data": {
      "text/plain": [
       "'On each Business Day , the financial institution maintaining the blocked ac'"
      ]
     },
     "execution_count": 39,
     "metadata": {},
     "output_type": "execute_result"
    }
   ],
   "source": [
    "# Put all sentences into a list of review tokens\n",
    "all_sentence_tokens = ' '.join(df['SentenceTokens'])\n",
    "all_sentence_tokens[:75]"
   ]
  },
  {
   "cell_type": "code",
   "execution_count": 40,
   "metadata": {},
   "outputs": [
    {
     "data": {
      "text/plain": [
       "'on each business day , the financial institution maintain the block account'"
      ]
     },
     "execution_count": 40,
     "metadata": {},
     "output_type": "execute_result"
    }
   ],
   "source": [
    "# Put all sentences into a list of review lemmas\n",
    "all_sentence_lemmas = ' '.join(df['SentenceLemmas'])\n",
    "all_sentence_lemmas[:75]"
   ]
  },
  {
   "cell_type": "code",
   "execution_count": 41,
   "metadata": {},
   "outputs": [],
   "source": [
    "sentence_token_list = [token for token in all_sentence_tokens.split(' ')]\n",
    "sentence_lemma_list = [lemma for lemma in all_sentence_lemmas.split(' ')]"
   ]
  },
  {
   "cell_type": "code",
   "execution_count": 42,
   "metadata": {},
   "outputs": [],
   "source": [
    "token_df = pd.Series(sentence_token_list)\n",
    "lemma_df = pd.Series(sentence_lemma_list)"
   ]
  },
  {
   "cell_type": "code",
   "execution_count": 43,
   "metadata": {},
   "outputs": [
    {
     "data": {
      "image/png": "[encoded data removed]",
      "text/plain": [
       "<Figure size 432x432 with 1 Axes>"
      ]
     },
     "metadata": {
      "needs_background": "light"
     },
     "output_type": "display_data"
    }
   ],
   "source": [
    "# Plotting the raw token count\n",
    "token_series = token_df.value_counts().head(15).sort_values(ascending = True)\n",
    "ax = token_series.plot.barh(figsize = (6,6))\n",
    "ax.set_xlabel('count')\n",
    "ax.set_ylabel('token')\n",
    "ax.set_title('Sentences: Raw Token Count');"
   ]
  },
  {
   "cell_type": "code",
   "execution_count": 44,
   "metadata": {},
   "outputs": [
    {
     "data": {
      "image/png": "[encoded data removed]",
      "text/plain": [
       "<Figure size 432x432 with 1 Axes>"
      ]
     },
     "metadata": {
      "needs_background": "light"
     },
     "output_type": "display_data"
    }
   ],
   "source": [
    "# Plotting the raw lemma count\n",
    "lemma_series = lemma_df.value_counts().head(15).sort_values(ascending = True)\n",
    "ax = lemma_series.plot.barh(figsize = (6,6))\n",
    "ax.set_xlabel('count')\n",
    "ax.set_ylabel('lemma')\n",
    "ax.set_title('Sentences: Raw Lemma Count');"
   ]
  },
  {
   "cell_type": "code",
   "execution_count": 45,
   "metadata": {},
   "outputs": [],
   "source": [
    "# Remove punctuation, maintain letters and numbers\n",
    "df['SentenceLemmas_nopunc'] = df['SentenceLemmas'].str.replace(\"[^a-zA-Z0-9#']\", \" \")"
   ]
  },
  {
   "cell_type": "code",
   "execution_count": 46,
   "metadata": {},
   "outputs": [
    {
     "data": {
      "text/plain": [
       "['on',\n",
       " 'each',\n",
       " 'business',\n",
       " 'day',\n",
       " 'the',\n",
       " 'financial',\n",
       " 'institution',\n",
       " 'maintain',\n",
       " 'the',\n",
       " 'block']"
      ]
     },
     "execution_count": 46,
     "metadata": {},
     "output_type": "execute_result"
    }
   ],
   "source": [
    "# Put all SentenceLemmas_nopunc into a list\n",
    "all_lemmas_nopunc = ' '.join(df['SentenceLemmas_nopunc'])\n",
    "lemma_list_nopunc = [lemma for lemma in all_lemmas_nopunc.split(' ')]\n",
    "lemma_list_nopunc = [lemma for lemma in lemma_list_nopunc if lemma not in ['']]\n",
    "lemma_list_nopunc[:10]"
   ]
  },
  {
   "cell_type": "code",
   "execution_count": 47,
   "metadata": {},
   "outputs": [
    {
     "data": {
      "image/png": "[encoded data removed]",
      "text/plain": [
       "<Figure size 432x432 with 1 Axes>"
      ]
     },
     "metadata": {
      "needs_background": "light"
     },
     "output_type": "display_data"
    }
   ],
   "source": [
    "# Create a data series containing the list of words\n",
    "lemma_df_nopunc = pd.Series(lemma_list_nopunc)\n",
    "lemma_series_nopunc = lemma_df_nopunc.value_counts().head(15).sort_values(ascending = True)\n",
    "ax = lemma_series_nopunc.plot.barh(figsize = (6,6))\n",
    "ax.set_xlabel('count')\n",
    "ax.set_ylabel('lemma')\n",
    "ax.set_title('Sentences: Lemma Count, no punctuation');"
   ]
  },
  {
   "cell_type": "code",
   "execution_count": 48,
   "metadata": {},
   "outputs": [
    {
     "data": {
      "text/plain": [
       "0    on each business day   the financial instituti...\n",
       "1    the borrower have establish and be require to ...\n",
       "2    during a trigger period or while an event of d...\n",
       "3    on any business day all amount on deposit in t...\n",
       "4    available fund in each cash management account...\n",
       "Name: SentenceLemmas_nopunc, dtype: object"
      ]
     },
     "execution_count": 48,
     "metadata": {},
     "output_type": "execute_result"
    }
   ],
   "source": [
    "df['SentenceLemmas_nopunc'].head()"
   ]
  },
  {
   "cell_type": "code",
   "execution_count": 49,
   "metadata": {},
   "outputs": [],
   "source": [
    "df['SentenceLemmas_nopunc'] = df['SentenceLemmas_nopunc'].str.replace('\\s{2,}', ' ')"
   ]
  },
  {
   "cell_type": "code",
   "execution_count": 50,
   "metadata": {},
   "outputs": [
    {
     "data": {
      "text/plain": [
       "0    on each business day the financial institution...\n",
       "1    the borrower have establish and be require to ...\n",
       "2    during a trigger period or while an event of d...\n",
       "3    on any business day all amount on deposit in t...\n",
       "4    available fund in each cash management account...\n",
       "Name: SentenceLemmas_nopunc, dtype: object"
      ]
     },
     "execution_count": 50,
     "metadata": {},
     "output_type": "execute_result"
    }
   ],
   "source": [
    "df['SentenceLemmas_nopunc'].head()"
   ]
  },
  {
   "cell_type": "markdown",
   "metadata": {},
   "source": [
    "## Preprocessing and Preparation for Modeling"
   ]
  },
  {
   "cell_type": "code",
   "execution_count": 51,
   "metadata": {},
   "outputs": [],
   "source": [
    "short_stopwords = ['the', 'of', 'to', 'be', 'and', 'a', 'in']"
   ]
  },
  {
   "cell_type": "code",
   "execution_count": 52,
   "metadata": {},
   "outputs": [
    {
     "data": {
      "text/plain": [
       "['while',\n",
       " 'four',\n",
       " 'others',\n",
       " 'further',\n",
       " 'some',\n",
       " 'six',\n",
       " 'somehow',\n",
       " 'what',\n",
       " 'whenever',\n",
       " 'besides',\n",
       " 'seeming',\n",
       " 'yet',\n",
       " 'front',\n",
       " 'done',\n",
       " 'afterwards',\n",
       " 'the',\n",
       " 'under',\n",
       " 'move',\n",
       " 'sometime',\n",
       " 'five',\n",
       " 'otherwise',\n",
       " 'wherever',\n",
       " 'part',\n",
       " 'latter',\n",
       " 'unless',\n",
       " 'empty',\n",
       " 'own',\n",
       " 'ten',\n",
       " 'via',\n",
       " 'with',\n",
       " 'are',\n",
       " 'much',\n",
       " 'except',\n",
       " 'of',\n",
       " 'sixty',\n",
       " 'seemed',\n",
       " 'each',\n",
       " 'beyond',\n",
       " 'twenty',\n",
       " 'he',\n",
       " 'might',\n",
       " 'eight',\n",
       " 'put',\n",
       " 'why',\n",
       " 'i',\n",
       " 'were',\n",
       " 'for',\n",
       " 'though',\n",
       " 'above',\n",
       " 'due',\n",
       " 'neither',\n",
       " 'enough',\n",
       " 'thence',\n",
       " 'call',\n",
       " 'if',\n",
       " 'is',\n",
       " 'rather',\n",
       " 'must',\n",
       " 'them',\n",
       " 'us',\n",
       " 'various',\n",
       " 'who',\n",
       " 'would',\n",
       " 'herself',\n",
       " 'often',\n",
       " 'next',\n",
       " 'their',\n",
       " 'thus',\n",
       " 'on',\n",
       " 'nevertheless',\n",
       " 'fifty',\n",
       " 'wherein',\n",
       " 'from',\n",
       " 'had',\n",
       " 'myself',\n",
       " 'its',\n",
       " 'can',\n",
       " 'well',\n",
       " 'am',\n",
       " 'you',\n",
       " 'thereupon',\n",
       " 'made',\n",
       " 'among',\n",
       " 'then',\n",
       " 'most',\n",
       " 'whatever',\n",
       " 'almost',\n",
       " 'not',\n",
       " 'here',\n",
       " 'even',\n",
       " 'regarding',\n",
       " 'her',\n",
       " 'because',\n",
       " 'did',\n",
       " 'into',\n",
       " 'our',\n",
       " 'along',\n",
       " 'will',\n",
       " 'himself',\n",
       " 'at',\n",
       " 'meanwhile',\n",
       " 'where',\n",
       " 'down',\n",
       " 'already',\n",
       " 'same',\n",
       " 'say',\n",
       " 'still',\n",
       " 'whence',\n",
       " 'become',\n",
       " 'behind',\n",
       " 'but',\n",
       " 'by',\n",
       " 'now',\n",
       " 'thereby',\n",
       " 'together',\n",
       " 'up',\n",
       " 'yours',\n",
       " 'name',\n",
       " 'perhaps',\n",
       " 'there',\n",
       " 'another',\n",
       " 'before',\n",
       " 'see',\n",
       " 'a',\n",
       " 'during',\n",
       " 'throughout',\n",
       " 'between',\n",
       " 'elsewhere',\n",
       " 'two',\n",
       " 'since',\n",
       " 'using',\n",
       " 'whereas',\n",
       " 'has',\n",
       " 'whereby',\n",
       " 'being',\n",
       " 'doing',\n",
       " 'moreover',\n",
       " 'they',\n",
       " 'whose',\n",
       " 'really',\n",
       " 'all',\n",
       " 'out',\n",
       " 'off',\n",
       " 'used',\n",
       " 'whole',\n",
       " 'just',\n",
       " 'whom',\n",
       " 'cannot',\n",
       " 'somewhere',\n",
       " 'amongst',\n",
       " 'however',\n",
       " 'in',\n",
       " 'keep',\n",
       " 'nobody',\n",
       " 'nor',\n",
       " 'per',\n",
       " 'full',\n",
       " 'please',\n",
       " 'thereafter',\n",
       " 'never',\n",
       " 'nothing',\n",
       " 'get',\n",
       " 'top',\n",
       " 'hereby',\n",
       " 'hundred',\n",
       " 'anything',\n",
       " 'or',\n",
       " 'therein',\n",
       " 'onto',\n",
       " 'could',\n",
       " 'show',\n",
       " 'whether',\n",
       " 'go',\n",
       " 'themselves',\n",
       " 'been',\n",
       " 'always',\n",
       " 'former',\n",
       " 'than',\n",
       " 'without',\n",
       " 'any',\n",
       " 'fifteen',\n",
       " 'whereupon',\n",
       " 'few',\n",
       " 'least',\n",
       " 'one',\n",
       " 're',\n",
       " 'seem',\n",
       " 'beside',\n",
       " 'too',\n",
       " 'it',\n",
       " 'first',\n",
       " 'alone',\n",
       " 'less',\n",
       " 'anyhow',\n",
       " 'hence',\n",
       " 'forty',\n",
       " 'should',\n",
       " 'his',\n",
       " 'seems',\n",
       " 'this',\n",
       " 'ca',\n",
       " 'him',\n",
       " 'my',\n",
       " 'serious',\n",
       " 'again',\n",
       " 'became',\n",
       " 'within',\n",
       " 'through',\n",
       " 'your',\n",
       " 'those',\n",
       " 'upon',\n",
       " 'an',\n",
       " 'does',\n",
       " 'mostly',\n",
       " 'against',\n",
       " 'everyone',\n",
       " 'such',\n",
       " 'ourselves',\n",
       " 'third',\n",
       " 'below',\n",
       " 'none',\n",
       " 'beforehand',\n",
       " 'sometimes',\n",
       " 'thru',\n",
       " 'back',\n",
       " 'whereafter',\n",
       " 'whither',\n",
       " 'as',\n",
       " 'indeed',\n",
       " 'side',\n",
       " 'which',\n",
       " 'make',\n",
       " 'becomes',\n",
       " 'last',\n",
       " 'after',\n",
       " 'latterly',\n",
       " 'we',\n",
       " 'else',\n",
       " 'both',\n",
       " 'herein',\n",
       " 'so',\n",
       " 'once',\n",
       " 'formerly',\n",
       " 'more',\n",
       " 'nine',\n",
       " 'other',\n",
       " 'be',\n",
       " 'bottom',\n",
       " 'whoever',\n",
       " 'yourselves',\n",
       " 'around',\n",
       " 'no',\n",
       " 'something',\n",
       " 'toward',\n",
       " 'anywhere',\n",
       " 'becoming',\n",
       " 'three',\n",
       " 'everywhere',\n",
       " 'and',\n",
       " 'across',\n",
       " 'over',\n",
       " 'hers',\n",
       " 'these',\n",
       " 'do',\n",
       " 'ours',\n",
       " 'quite',\n",
       " 'towards',\n",
       " 'until',\n",
       " 'yourself',\n",
       " 'either',\n",
       " 'therefore',\n",
       " 'hereafter',\n",
       " 'many',\n",
       " 'hereupon',\n",
       " 'although',\n",
       " 'that',\n",
       " 'very',\n",
       " 'namely',\n",
       " 'several',\n",
       " 'someone',\n",
       " 'when',\n",
       " 'anyway',\n",
       " 'everything',\n",
       " 'give',\n",
       " 'about',\n",
       " 'mine',\n",
       " 'every',\n",
       " 'only',\n",
       " 'she',\n",
       " 'anyone',\n",
       " 'ever',\n",
       " 'me',\n",
       " 'may',\n",
       " 'eleven',\n",
       " 'take',\n",
       " 'twelve',\n",
       " 'was',\n",
       " 'have',\n",
       " 'itself',\n",
       " 'also',\n",
       " 'amount',\n",
       " 'nowhere',\n",
       " 'to',\n",
       " 'noone',\n",
       " 'how']"
      ]
     },
     "execution_count": 52,
     "metadata": {},
     "output_type": "execute_result"
    }
   ],
   "source": [
    "# Look at original stopword list\n",
    "stopwords = list(STOP_WORDS)\n",
    "stopwords"
   ]
  },
  {
   "cell_type": "code",
   "execution_count": 53,
   "metadata": {},
   "outputs": [],
   "source": [
    "# Choose to exclude anything with numbers are might be particularly relevant\n",
    "to_exclude = ['thereupon', 'cannot', 'should'] "
   ]
  },
  {
   "cell_type": "code",
   "execution_count": 54,
   "metadata": {},
   "outputs": [
    {
     "data": {
      "text/plain": [
       "['while',\n",
       " 'four',\n",
       " 'others',\n",
       " 'further',\n",
       " 'some',\n",
       " 'six',\n",
       " 'somehow',\n",
       " 'what',\n",
       " 'whenever',\n",
       " 'besides',\n",
       " 'seeming',\n",
       " 'yet',\n",
       " 'front',\n",
       " 'done',\n",
       " 'afterwards',\n",
       " 'the',\n",
       " 'under',\n",
       " 'move',\n",
       " 'sometime',\n",
       " 'five',\n",
       " 'otherwise',\n",
       " 'wherever',\n",
       " 'part',\n",
       " 'latter',\n",
       " 'unless',\n",
       " 'empty',\n",
       " 'own',\n",
       " 'ten',\n",
       " 'via',\n",
       " 'with',\n",
       " 'are',\n",
       " 'much',\n",
       " 'except',\n",
       " 'of',\n",
       " 'sixty',\n",
       " 'seemed',\n",
       " 'each',\n",
       " 'beyond',\n",
       " 'twenty',\n",
       " 'he',\n",
       " 'might',\n",
       " 'eight',\n",
       " 'put',\n",
       " 'why',\n",
       " 'i',\n",
       " 'were',\n",
       " 'for',\n",
       " 'though',\n",
       " 'above',\n",
       " 'due',\n",
       " 'neither',\n",
       " 'enough',\n",
       " 'thence',\n",
       " 'call',\n",
       " 'if',\n",
       " 'is',\n",
       " 'rather',\n",
       " 'must',\n",
       " 'them',\n",
       " 'us',\n",
       " 'various',\n",
       " 'who',\n",
       " 'would',\n",
       " 'herself',\n",
       " 'often',\n",
       " 'next',\n",
       " 'their',\n",
       " 'thus',\n",
       " 'on',\n",
       " 'nevertheless',\n",
       " 'fifty',\n",
       " 'wherein',\n",
       " 'from',\n",
       " 'had',\n",
       " 'myself',\n",
       " 'its',\n",
       " 'can',\n",
       " 'well',\n",
       " 'am',\n",
       " 'you',\n",
       " 'made',\n",
       " 'among',\n",
       " 'then',\n",
       " 'most',\n",
       " 'whatever',\n",
       " 'almost',\n",
       " 'not',\n",
       " 'here',\n",
       " 'even',\n",
       " 'regarding',\n",
       " 'her',\n",
       " 'because',\n",
       " 'did',\n",
       " 'into',\n",
       " 'our',\n",
       " 'along',\n",
       " 'will',\n",
       " 'himself',\n",
       " 'at',\n",
       " 'meanwhile',\n",
       " 'where',\n",
       " 'down',\n",
       " 'already',\n",
       " 'same',\n",
       " 'say',\n",
       " 'still',\n",
       " 'whence',\n",
       " 'become',\n",
       " 'behind',\n",
       " 'but',\n",
       " 'by',\n",
       " 'now',\n",
       " 'thereby',\n",
       " 'together',\n",
       " 'up',\n",
       " 'yours',\n",
       " 'name',\n",
       " 'perhaps',\n",
       " 'there',\n",
       " 'another',\n",
       " 'before',\n",
       " 'see',\n",
       " 'a',\n",
       " 'during',\n",
       " 'throughout',\n",
       " 'between',\n",
       " 'elsewhere',\n",
       " 'two',\n",
       " 'since',\n",
       " 'using',\n",
       " 'whereas',\n",
       " 'has',\n",
       " 'whereby',\n",
       " 'being',\n",
       " 'doing',\n",
       " 'moreover',\n",
       " 'they',\n",
       " 'whose',\n",
       " 'really',\n",
       " 'all',\n",
       " 'out',\n",
       " 'off',\n",
       " 'used',\n",
       " 'whole',\n",
       " 'just',\n",
       " 'whom',\n",
       " 'somewhere',\n",
       " 'amongst',\n",
       " 'however',\n",
       " 'in',\n",
       " 'keep',\n",
       " 'nobody',\n",
       " 'nor',\n",
       " 'per',\n",
       " 'full',\n",
       " 'please',\n",
       " 'thereafter',\n",
       " 'never',\n",
       " 'nothing',\n",
       " 'get',\n",
       " 'top',\n",
       " 'hereby',\n",
       " 'hundred',\n",
       " 'anything',\n",
       " 'or',\n",
       " 'therein',\n",
       " 'onto',\n",
       " 'could',\n",
       " 'show',\n",
       " 'whether',\n",
       " 'go',\n",
       " 'themselves',\n",
       " 'been',\n",
       " 'always',\n",
       " 'former',\n",
       " 'than',\n",
       " 'without',\n",
       " 'any',\n",
       " 'fifteen',\n",
       " 'whereupon',\n",
       " 'few',\n",
       " 'least',\n",
       " 'one',\n",
       " 're',\n",
       " 'seem',\n",
       " 'beside',\n",
       " 'too',\n",
       " 'it',\n",
       " 'first',\n",
       " 'alone',\n",
       " 'less',\n",
       " 'anyhow',\n",
       " 'hence',\n",
       " 'forty',\n",
       " 'his',\n",
       " 'seems',\n",
       " 'this',\n",
       " 'ca',\n",
       " 'him',\n",
       " 'my',\n",
       " 'serious',\n",
       " 'again',\n",
       " 'became',\n",
       " 'within',\n",
       " 'through',\n",
       " 'your',\n",
       " 'those',\n",
       " 'upon',\n",
       " 'an',\n",
       " 'does',\n",
       " 'mostly',\n",
       " 'against',\n",
       " 'everyone',\n",
       " 'such',\n",
       " 'ourselves',\n",
       " 'third',\n",
       " 'below',\n",
       " 'none',\n",
       " 'beforehand',\n",
       " 'sometimes',\n",
       " 'thru',\n",
       " 'back',\n",
       " 'whereafter',\n",
       " 'whither',\n",
       " 'as',\n",
       " 'indeed',\n",
       " 'side',\n",
       " 'which',\n",
       " 'make',\n",
       " 'becomes',\n",
       " 'last',\n",
       " 'after',\n",
       " 'latterly',\n",
       " 'we',\n",
       " 'else',\n",
       " 'both',\n",
       " 'herein',\n",
       " 'so',\n",
       " 'once',\n",
       " 'formerly',\n",
       " 'more',\n",
       " 'nine',\n",
       " 'other',\n",
       " 'be',\n",
       " 'bottom',\n",
       " 'whoever',\n",
       " 'yourselves',\n",
       " 'around',\n",
       " 'no',\n",
       " 'something',\n",
       " 'toward',\n",
       " 'anywhere',\n",
       " 'becoming',\n",
       " 'three',\n",
       " 'everywhere',\n",
       " 'and',\n",
       " 'across',\n",
       " 'over',\n",
       " 'hers',\n",
       " 'these',\n",
       " 'do',\n",
       " 'ours',\n",
       " 'quite',\n",
       " 'towards',\n",
       " 'until',\n",
       " 'yourself',\n",
       " 'either',\n",
       " 'therefore',\n",
       " 'hereafter',\n",
       " 'many',\n",
       " 'hereupon',\n",
       " 'although',\n",
       " 'that',\n",
       " 'very',\n",
       " 'namely',\n",
       " 'several',\n",
       " 'someone',\n",
       " 'when',\n",
       " 'anyway',\n",
       " 'everything',\n",
       " 'give',\n",
       " 'about',\n",
       " 'mine',\n",
       " 'every',\n",
       " 'only',\n",
       " 'she',\n",
       " 'anyone',\n",
       " 'ever',\n",
       " 'me',\n",
       " 'may',\n",
       " 'eleven',\n",
       " 'take',\n",
       " 'twelve',\n",
       " 'was',\n",
       " 'have',\n",
       " 'itself',\n",
       " 'also',\n",
       " 'amount',\n",
       " 'nowhere',\n",
       " 'to',\n",
       " 'noone',\n",
       " 'how']"
      ]
     },
     "execution_count": 54,
     "metadata": {},
     "output_type": "execute_result"
    }
   ],
   "source": [
    "# Define our selected stopword lists \n",
    "select_stopwords = [word for word in stopwords if word not in to_exclude]\n",
    "select_stopwords"
   ]
  },
  {
   "cell_type": "code",
   "execution_count": null,
   "metadata": {},
   "outputs": [],
   "source": []
  },
  {
   "cell_type": "code",
   "execution_count": null,
   "metadata": {},
   "outputs": [],
   "source": []
  },
  {
   "cell_type": "markdown",
   "metadata": {},
   "source": [
    "## Train/Test Split"
   ]
  },
  {
   "cell_type": "code",
   "execution_count": 55,
   "metadata": {},
   "outputs": [
    {
     "data": {
      "text/html": [
       "<div>\n",
       "<style scoped>\n",
       "    .dataframe tbody tr th:only-of-type {\n",
       "        vertical-align: middle;\n",
       "    }\n",
       "\n",
       "    .dataframe tbody tr th {\n",
       "        vertical-align: top;\n",
       "    }\n",
       "\n",
       "    .dataframe thead th {\n",
       "        text-align: right;\n",
       "    }\n",
       "</style>\n",
       "<table border=\"1\" class=\"dataframe\">\n",
       "  <thead>\n",
       "    <tr style=\"text-align: right;\">\n",
       "      <th></th>\n",
       "      <th>Document</th>\n",
       "      <th>Sentence</th>\n",
       "      <th>loan_default</th>\n",
       "      <th>aggregate_dscr_fall</th>\n",
       "      <th>dscr_fall</th>\n",
       "      <th>unspecified</th>\n",
       "      <th>debt_yield_fall</th>\n",
       "      <th>aggregate_debt_yield_fall</th>\n",
       "      <th>mezzanine_default</th>\n",
       "      <th>tenant_failure</th>\n",
       "      <th>mezzanine_outstanding</th>\n",
       "      <th>operator_termination</th>\n",
       "      <th>bankruptcy</th>\n",
       "      <th>aggregate_debt_yield</th>\n",
       "      <th>sponsor_termination</th>\n",
       "      <th>renovations</th>\n",
       "      <th>sentence_char_count</th>\n",
       "      <th>SentenceTokens</th>\n",
       "      <th>SentenceLemmas</th>\n",
       "      <th>SentenceLemmas_nopunc</th>\n",
       "    </tr>\n",
       "  </thead>\n",
       "  <tbody>\n",
       "    <tr>\n",
       "      <th>0</th>\n",
       "      <td>20120828_01Y0R8_Prospectus_CM00000000205875087...</td>\n",
       "      <td>On each Business Day, the financial institutio...</td>\n",
       "      <td>1</td>\n",
       "      <td>0</td>\n",
       "      <td>0</td>\n",
       "      <td>0</td>\n",
       "      <td>0</td>\n",
       "      <td>0</td>\n",
       "      <td>0</td>\n",
       "      <td>0</td>\n",
       "      <td>0</td>\n",
       "      <td>0</td>\n",
       "      <td>0</td>\n",
       "      <td>0</td>\n",
       "      <td>0</td>\n",
       "      <td>0</td>\n",
       "      <td>446</td>\n",
       "      <td>On each Business Day , the financial instituti...</td>\n",
       "      <td>on each business day , the financial instituti...</td>\n",
       "      <td>on each business day the financial institution...</td>\n",
       "    </tr>\n",
       "    <tr>\n",
       "      <th>1</th>\n",
       "      <td>20120828_01Y0R8_Prospectus_CM00000000205875087...</td>\n",
       "      <td>The Borrower has established and is required t...</td>\n",
       "      <td>1</td>\n",
       "      <td>1</td>\n",
       "      <td>0</td>\n",
       "      <td>0</td>\n",
       "      <td>0</td>\n",
       "      <td>0</td>\n",
       "      <td>0</td>\n",
       "      <td>0</td>\n",
       "      <td>0</td>\n",
       "      <td>0</td>\n",
       "      <td>0</td>\n",
       "      <td>0</td>\n",
       "      <td>0</td>\n",
       "      <td>0</td>\n",
       "      <td>836</td>\n",
       "      <td>The Borrower has established and is required t...</td>\n",
       "      <td>the borrower have establish and be require to ...</td>\n",
       "      <td>the borrower have establish and be require to ...</td>\n",
       "    </tr>\n",
       "    <tr>\n",
       "      <th>2</th>\n",
       "      <td>20120828_01Y0R8_Prospectus_CM00000000205875087...</td>\n",
       "      <td>During a Trigger Period or while an event of d...</td>\n",
       "      <td>1</td>\n",
       "      <td>0</td>\n",
       "      <td>0</td>\n",
       "      <td>0</td>\n",
       "      <td>0</td>\n",
       "      <td>0</td>\n",
       "      <td>0</td>\n",
       "      <td>0</td>\n",
       "      <td>0</td>\n",
       "      <td>0</td>\n",
       "      <td>0</td>\n",
       "      <td>0</td>\n",
       "      <td>0</td>\n",
       "      <td>0</td>\n",
       "      <td>1772</td>\n",
       "      <td>During a Trigger Period or while an event of d...</td>\n",
       "      <td>during a trigger period or while an event of d...</td>\n",
       "      <td>during a trigger period or while an event of d...</td>\n",
       "    </tr>\n",
       "    <tr>\n",
       "      <th>3</th>\n",
       "      <td>20120828_01Y0R8_Prospectus_CM00000000205875087...</td>\n",
       "      <td>On any Business Day all amounts on deposit in ...</td>\n",
       "      <td>1</td>\n",
       "      <td>0</td>\n",
       "      <td>0</td>\n",
       "      <td>0</td>\n",
       "      <td>0</td>\n",
       "      <td>0</td>\n",
       "      <td>0</td>\n",
       "      <td>0</td>\n",
       "      <td>0</td>\n",
       "      <td>0</td>\n",
       "      <td>0</td>\n",
       "      <td>0</td>\n",
       "      <td>0</td>\n",
       "      <td>0</td>\n",
       "      <td>302</td>\n",
       "      <td>On any Business Day all amounts on deposit in ...</td>\n",
       "      <td>on any business day all amount on deposit in t...</td>\n",
       "      <td>on any business day all amount on deposit in t...</td>\n",
       "    </tr>\n",
       "    <tr>\n",
       "      <th>4</th>\n",
       "      <td>20120828_01Y0R8_Prospectus_CM00000000205875087...</td>\n",
       "      <td>Available funds in each Cash Management Accoun...</td>\n",
       "      <td>1</td>\n",
       "      <td>0</td>\n",
       "      <td>0</td>\n",
       "      <td>0</td>\n",
       "      <td>0</td>\n",
       "      <td>0</td>\n",
       "      <td>0</td>\n",
       "      <td>0</td>\n",
       "      <td>0</td>\n",
       "      <td>0</td>\n",
       "      <td>0</td>\n",
       "      <td>0</td>\n",
       "      <td>0</td>\n",
       "      <td>0</td>\n",
       "      <td>235</td>\n",
       "      <td>Available funds in each Cash Management Accoun...</td>\n",
       "      <td>available fund in each cash management account...</td>\n",
       "      <td>available fund in each cash management account...</td>\n",
       "    </tr>\n",
       "  </tbody>\n",
       "</table>\n",
       "</div>"
      ],
      "text/plain": [
       "                                            Document  \\\n",
       "0  20120828_01Y0R8_Prospectus_CM00000000205875087...   \n",
       "1  20120828_01Y0R8_Prospectus_CM00000000205875087...   \n",
       "2  20120828_01Y0R8_Prospectus_CM00000000205875087...   \n",
       "3  20120828_01Y0R8_Prospectus_CM00000000205875087...   \n",
       "4  20120828_01Y0R8_Prospectus_CM00000000205875087...   \n",
       "\n",
       "                                            Sentence  loan_default  \\\n",
       "0  On each Business Day, the financial institutio...             1   \n",
       "1  The Borrower has established and is required t...             1   \n",
       "2  During a Trigger Period or while an event of d...             1   \n",
       "3  On any Business Day all amounts on deposit in ...             1   \n",
       "4  Available funds in each Cash Management Accoun...             1   \n",
       "\n",
       "   aggregate_dscr_fall  dscr_fall  unspecified  debt_yield_fall  \\\n",
       "0                    0          0            0                0   \n",
       "1                    1          0            0                0   \n",
       "2                    0          0            0                0   \n",
       "3                    0          0            0                0   \n",
       "4                    0          0            0                0   \n",
       "\n",
       "   aggregate_debt_yield_fall  mezzanine_default  tenant_failure  \\\n",
       "0                          0                  0               0   \n",
       "1                          0                  0               0   \n",
       "2                          0                  0               0   \n",
       "3                          0                  0               0   \n",
       "4                          0                  0               0   \n",
       "\n",
       "   mezzanine_outstanding  operator_termination  bankruptcy  \\\n",
       "0                      0                     0           0   \n",
       "1                      0                     0           0   \n",
       "2                      0                     0           0   \n",
       "3                      0                     0           0   \n",
       "4                      0                     0           0   \n",
       "\n",
       "   aggregate_debt_yield  sponsor_termination  renovations  \\\n",
       "0                     0                    0            0   \n",
       "1                     0                    0            0   \n",
       "2                     0                    0            0   \n",
       "3                     0                    0            0   \n",
       "4                     0                    0            0   \n",
       "\n",
       "   sentence_char_count                                     SentenceTokens  \\\n",
       "0                  446  On each Business Day , the financial instituti...   \n",
       "1                  836  The Borrower has established and is required t...   \n",
       "2                 1772  During a Trigger Period or while an event of d...   \n",
       "3                  302  On any Business Day all amounts on deposit in ...   \n",
       "4                  235  Available funds in each Cash Management Accoun...   \n",
       "\n",
       "                                      SentenceLemmas  \\\n",
       "0  on each business day , the financial instituti...   \n",
       "1  the borrower have establish and be require to ...   \n",
       "2  during a trigger period or while an event of d...   \n",
       "3  on any business day all amount on deposit in t...   \n",
       "4  available fund in each cash management account...   \n",
       "\n",
       "                               SentenceLemmas_nopunc  \n",
       "0  on each business day the financial institution...  \n",
       "1  the borrower have establish and be require to ...  \n",
       "2  during a trigger period or while an event of d...  \n",
       "3  on any business day all amount on deposit in t...  \n",
       "4  available fund in each cash management account...  "
      ]
     },
     "execution_count": 55,
     "metadata": {},
     "output_type": "execute_result"
    }
   ],
   "source": [
    "df.head()"
   ]
  },
  {
   "cell_type": "code",
   "execution_count": 56,
   "metadata": {},
   "outputs": [],
   "source": [
    "\n",
    "\n",
    "\n",
    "\n",
    "\n",
    "X = df['SentenceLemmas']\n",
    "y = df['unspecified']\n",
    "\n",
    "y = y.astype('int')"
   ]
  },
  {
   "cell_type": "code",
   "execution_count": 57,
   "metadata": {},
   "outputs": [
    {
     "data": {
      "text/plain": [
       "dtype('int64')"
      ]
     },
     "execution_count": 57,
     "metadata": {},
     "output_type": "execute_result"
    }
   ],
   "source": [
    "y.dtypes"
   ]
  },
  {
   "cell_type": "code",
   "execution_count": null,
   "metadata": {},
   "outputs": [],
   "source": []
  },
  {
   "cell_type": "code",
   "execution_count": 58,
   "metadata": {},
   "outputs": [
    {
     "name": "stdout",
     "output_type": "stream",
     "text": [
      "X shape is (686,)\n",
      "y shape is (686,)\n"
     ]
    }
   ],
   "source": [
    "# Checking shape of X and y \n",
    "print(f'X shape is {X.shape}')\n",
    "print(f'y shape is {y.shape}')"
   ]
  },
  {
   "cell_type": "code",
   "execution_count": 59,
   "metadata": {},
   "outputs": [
    {
     "data": {
      "text/plain": [
       "0    425\n",
       "1    261\n",
       "Name: unspecified, dtype: int64"
      ]
     },
     "execution_count": 59,
     "metadata": {},
     "output_type": "execute_result"
    }
   ],
   "source": [
    "y.value_counts()"
   ]
  },
  {
   "cell_type": "code",
   "execution_count": 60,
   "metadata": {},
   "outputs": [
    {
     "name": "stdout",
     "output_type": "stream",
     "text": [
      "(514,) (514,)\n",
      "(172,) (172,)\n"
     ]
    }
   ],
   "source": [
    "X_train, X_test, y_train, y_test = train_test_split(X, y, random_state = RANDOM_STATE)\n",
    "print(X_train.shape, y_train.shape)\n",
    "print(X_test.shape, y_test.shape)"
   ]
  },
  {
   "cell_type": "code",
   "execution_count": 61,
   "metadata": {},
   "outputs": [
    {
     "data": {
      "text/plain": [
       "0    on each business day , the financial instituti...\n",
       "1    the borrower have establish and be require to ...\n",
       "2    during a trigger period or while an event of d...\n",
       "3    on any business day all amount on deposit in t...\n",
       "4    available fund in each cash management account...\n",
       "Name: SentenceLemmas, dtype: object"
      ]
     },
     "execution_count": 61,
     "metadata": {},
     "output_type": "execute_result"
    }
   ],
   "source": [
    "X.head()"
   ]
  },
  {
   "cell_type": "code",
   "execution_count": 62,
   "metadata": {},
   "outputs": [
    {
     "data": {
      "text/plain": [
       "514"
      ]
     },
     "execution_count": 62,
     "metadata": {},
     "output_type": "execute_result"
    }
   ],
   "source": [
    "X_train.shape[0]"
   ]
  },
  {
   "cell_type": "code",
   "execution_count": 63,
   "metadata": {},
   "outputs": [
    {
     "data": {
      "text/plain": [
       "514"
      ]
     },
     "execution_count": 63,
     "metadata": {},
     "output_type": "execute_result"
    }
   ],
   "source": [
    "y_train.shape[0]"
   ]
  },
  {
   "cell_type": "code",
   "execution_count": null,
   "metadata": {},
   "outputs": [],
   "source": []
  },
  {
   "cell_type": "markdown",
   "metadata": {},
   "source": [
    "## Modeling"
   ]
  },
  {
   "cell_type": "markdown",
   "metadata": {},
   "source": [
    "### CountVectorizer + Logistic Regression GridSearch and modeling"
   ]
  },
  {
   "cell_type": "code",
   "execution_count": 64,
   "metadata": {},
   "outputs": [
    {
     "name": "stdout",
     "output_type": "stream",
     "text": [
      "Seconds elapsed for fitting: 286.934\n"
     ]
    }
   ],
   "source": [
    "# Define CVEC + Logistic Regression Pipeline\n",
    "pipe_cvec = Pipeline([('cvec', CountVectorizer()), ('lr', LogisticRegression(solver = 'liblinear', random_state = RANDOM_STATE))])\n",
    "cvec_params = {\n",
    "    'cvec__ngram_range': [(1,2), (1,3), (1,4), (1,5), (1,6), ],\n",
    "    'cvec__stop_words': [None, short_stopwords, select_stopwords],  \n",
    "    'cvec__max_features': [30, 40, 50, 60, 70, 80, 90, 100],\n",
    "    'cvec__min_df': [2,3],\n",
    "    'cvec__max_df': [.99,.98],\n",
    "    }\n",
    "\n",
    "gs_cvec = GridSearchCV(pipe_cvec, param_grid = cvec_params, cv = 3, scoring = 'accuracy')\n",
    "\n",
    "# Start the timer.\n",
    "t0 = time.time()\n",
    "\n",
    "results_cvec = gs_cvec.fit(X_train, y_train)\n",
    "\n",
    "print(f'Seconds elapsed for fitting: {(time.time() - t0):.3f}') # How many seconds elapsed.\n",
    "\n"
   ]
  },
  {
   "cell_type": "code",
   "execution_count": 65,
   "metadata": {},
   "outputs": [],
   "source": [
    "#log_reg = LogisticRegression()\n",
    "#logreg.fit(X_train, y_train)\n"
   ]
  },
  {
   "cell_type": "code",
   "execution_count": 66,
   "metadata": {},
   "outputs": [
    {
     "name": "stdout",
     "output_type": "stream",
     "text": [
      "Training score is 0.977\n",
      "Test score is 0.948\n",
      "Cross Validation score is 0.917\n",
      "Seconds elapsed for score calculation: 0.371\n"
     ]
    }
   ],
   "source": [
    "t0 = time.time()\n",
    "print(f'Training score is {results_cvec.score(X_train, y_train):.3f}')\n",
    "print(f'Test score is {results_cvec.score(X_test, y_test):.3f}')\n",
    "print(f'Cross Validation score is {cross_val_score(results_cvec.best_estimator_, X, y, cv = 3).mean():.3f}')\n",
    "print(f'Seconds elapsed for score calculation: {(time.time() - t0):.3f}') # How many seconds elapsed."
   ]
  },
  {
   "cell_type": "code",
   "execution_count": 67,
   "metadata": {},
   "outputs": [
    {
     "name": "stdout",
     "output_type": "stream",
     "text": [
      "Best Score:0.938\n",
      "Best Parameters :{'cvec__max_df': 0.99, 'cvec__max_features': 90, 'cvec__min_df': 2, 'cvec__ngram_range': (1, 2), 'cvec__stop_words': ['while', 'four', 'others', 'further', 'some', 'six', 'somehow', 'what', 'whenever', 'besides', 'seeming', 'yet', 'front', 'done', 'afterwards', 'the', 'under', 'move', 'sometime', 'five', 'otherwise', 'wherever', 'part', 'latter', 'unless', 'empty', 'own', 'ten', 'via', 'with', 'are', 'much', 'except', 'of', 'sixty', 'seemed', 'each', 'beyond', 'twenty', 'he', 'might', 'eight', 'put', 'why', 'i', 'were', 'for', 'though', 'above', 'due', 'neither', 'enough', 'thence', 'call', 'if', 'is', 'rather', 'must', 'them', 'us', 'various', 'who', 'would', 'herself', 'often', 'next', 'their', 'thus', 'on', 'nevertheless', 'fifty', 'wherein', 'from', 'had', 'myself', 'its', 'can', 'well', 'am', 'you', 'made', 'among', 'then', 'most', 'whatever', 'almost', 'not', 'here', 'even', 'regarding', 'her', 'because', 'did', 'into', 'our', 'along', 'will', 'himself', 'at', 'meanwhile', 'where', 'down', 'already', 'same', 'say', 'still', 'whence', 'become', 'behind', 'but', 'by', 'now', 'thereby', 'together', 'up', 'yours', 'name', 'perhaps', 'there', 'another', 'before', 'see', 'a', 'during', 'throughout', 'between', 'elsewhere', 'two', 'since', 'using', 'whereas', 'has', 'whereby', 'being', 'doing', 'moreover', 'they', 'whose', 'really', 'all', 'out', 'off', 'used', 'whole', 'just', 'whom', 'somewhere', 'amongst', 'however', 'in', 'keep', 'nobody', 'nor', 'per', 'full', 'please', 'thereafter', 'never', 'nothing', 'get', 'top', 'hereby', 'hundred', 'anything', 'or', 'therein', 'onto', 'could', 'show', 'whether', 'go', 'themselves', 'been', 'always', 'former', 'than', 'without', 'any', 'fifteen', 'whereupon', 'few', 'least', 'one', 're', 'seem', 'beside', 'too', 'it', 'first', 'alone', 'less', 'anyhow', 'hence', 'forty', 'his', 'seems', 'this', 'ca', 'him', 'my', 'serious', 'again', 'became', 'within', 'through', 'your', 'those', 'upon', 'an', 'does', 'mostly', 'against', 'everyone', 'such', 'ourselves', 'third', 'below', 'none', 'beforehand', 'sometimes', 'thru', 'back', 'whereafter', 'whither', 'as', 'indeed', 'side', 'which', 'make', 'becomes', 'last', 'after', 'latterly', 'we', 'else', 'both', 'herein', 'so', 'once', 'formerly', 'more', 'nine', 'other', 'be', 'bottom', 'whoever', 'yourselves', 'around', 'no', 'something', 'toward', 'anywhere', 'becoming', 'three', 'everywhere', 'and', 'across', 'over', 'hers', 'these', 'do', 'ours', 'quite', 'towards', 'until', 'yourself', 'either', 'therefore', 'hereafter', 'many', 'hereupon', 'although', 'that', 'very', 'namely', 'several', 'someone', 'when', 'anyway', 'everything', 'give', 'about', 'mine', 'every', 'only', 'she', 'anyone', 'ever', 'me', 'may', 'eleven', 'take', 'twelve', 'was', 'have', 'itself', 'also', 'amount', 'nowhere', 'to', 'noone', 'how']}\n"
     ]
    }
   ],
   "source": [
    "print(f'Best Score:{(results_cvec.best_score_):.3f}')\n",
    "print(f'Best Parameters :{results_cvec.best_params_}')"
   ]
  },
  {
   "cell_type": "code",
   "execution_count": null,
   "metadata": {},
   "outputs": [],
   "source": []
  },
  {
   "cell_type": "markdown",
   "metadata": {},
   "source": [
    "### 2: TFIDF + Logistic Regression GridSearch and modeling"
   ]
  },
  {
   "cell_type": "code",
   "execution_count": 68,
   "metadata": {},
   "outputs": [
    {
     "name": "stdout",
     "output_type": "stream",
     "text": [
      "Seconds elapsed for fitting: 609.585\n"
     ]
    }
   ],
   "source": [
    "# Define TFIDF + Logistic Regression Pipeline\n",
    "\n",
    "pipe_tfidf = Pipeline([('tfidf', TfidfVectorizer()), ('lr', LogisticRegression(max_iter = 4000, random_state = RANDOM_STATE))])\n",
    "\n",
    "tfidf_params = {\n",
    "    'tfidf__ngram_range': [(1,2), (1,3), (1,4), (1,5), (1,6), (1,7), (1,8)],\n",
    "    'tfidf__stop_words': [None, short_stopwords, select_stopwords],  \n",
    "    'tfidf__max_features': [30, 40, 50, 60, 70, 80, 90, 100, 200],\n",
    "    'tfidf__min_df': [2, 3],\n",
    "    'tfidf__max_df': [.99, .98],\n",
    "    }\n",
    "\n",
    "gs_tfidf = GridSearchCV(pipe_tfidf, param_grid = tfidf_params, cv = 3, scoring = 'accuracy')\n",
    "\n",
    "results_tfidf = gs_tfidf.fit(X_train, y_train)\n",
    "\n",
    "print(f'Seconds elapsed for fitting: {(time.time() - t0):.3f}') # How many seconds elapsed.\n",
    "\n"
   ]
  },
  {
   "cell_type": "code",
   "execution_count": 69,
   "metadata": {},
   "outputs": [
    {
     "name": "stdout",
     "output_type": "stream",
     "text": [
      "Training score is 0.953\n",
      "Test score is 0.942\n",
      "Cross Validation score is 0.882\n",
      "Seconds elapsed for score calculation: 1.813\n"
     ]
    }
   ],
   "source": [
    "t0 = time.time()\n",
    "print(f'Training score is {results_tfidf.score(X_train, y_train):.3f}')\n",
    "print(f'Test score is {results_tfidf.score(X_test, y_test):.3f}')\n",
    "print(f'Cross Validation score is {cross_val_score(results_tfidf.best_estimator_, X, y, cv = 3).mean():.3f}')\n",
    "print(f'Seconds elapsed for score calculation: {(time.time() - t0):.3f}') # How many seconds elapsed."
   ]
  },
  {
   "cell_type": "code",
   "execution_count": 70,
   "metadata": {},
   "outputs": [
    {
     "name": "stdout",
     "output_type": "stream",
     "text": [
      "Best Score: 0.9241012738564757\n",
      "Best Parameters: {'tfidf__max_df': 0.99, 'tfidf__max_features': 200, 'tfidf__min_df': 3, 'tfidf__ngram_range': (1, 8), 'tfidf__stop_words': ['while', 'four', 'others', 'further', 'some', 'six', 'somehow', 'what', 'whenever', 'besides', 'seeming', 'yet', 'front', 'done', 'afterwards', 'the', 'under', 'move', 'sometime', 'five', 'otherwise', 'wherever', 'part', 'latter', 'unless', 'empty', 'own', 'ten', 'via', 'with', 'are', 'much', 'except', 'of', 'sixty', 'seemed', 'each', 'beyond', 'twenty', 'he', 'might', 'eight', 'put', 'why', 'i', 'were', 'for', 'though', 'above', 'due', 'neither', 'enough', 'thence', 'call', 'if', 'is', 'rather', 'must', 'them', 'us', 'various', 'who', 'would', 'herself', 'often', 'next', 'their', 'thus', 'on', 'nevertheless', 'fifty', 'wherein', 'from', 'had', 'myself', 'its', 'can', 'well', 'am', 'you', 'made', 'among', 'then', 'most', 'whatever', 'almost', 'not', 'here', 'even', 'regarding', 'her', 'because', 'did', 'into', 'our', 'along', 'will', 'himself', 'at', 'meanwhile', 'where', 'down', 'already', 'same', 'say', 'still', 'whence', 'become', 'behind', 'but', 'by', 'now', 'thereby', 'together', 'up', 'yours', 'name', 'perhaps', 'there', 'another', 'before', 'see', 'a', 'during', 'throughout', 'between', 'elsewhere', 'two', 'since', 'using', 'whereas', 'has', 'whereby', 'being', 'doing', 'moreover', 'they', 'whose', 'really', 'all', 'out', 'off', 'used', 'whole', 'just', 'whom', 'somewhere', 'amongst', 'however', 'in', 'keep', 'nobody', 'nor', 'per', 'full', 'please', 'thereafter', 'never', 'nothing', 'get', 'top', 'hereby', 'hundred', 'anything', 'or', 'therein', 'onto', 'could', 'show', 'whether', 'go', 'themselves', 'been', 'always', 'former', 'than', 'without', 'any', 'fifteen', 'whereupon', 'few', 'least', 'one', 're', 'seem', 'beside', 'too', 'it', 'first', 'alone', 'less', 'anyhow', 'hence', 'forty', 'his', 'seems', 'this', 'ca', 'him', 'my', 'serious', 'again', 'became', 'within', 'through', 'your', 'those', 'upon', 'an', 'does', 'mostly', 'against', 'everyone', 'such', 'ourselves', 'third', 'below', 'none', 'beforehand', 'sometimes', 'thru', 'back', 'whereafter', 'whither', 'as', 'indeed', 'side', 'which', 'make', 'becomes', 'last', 'after', 'latterly', 'we', 'else', 'both', 'herein', 'so', 'once', 'formerly', 'more', 'nine', 'other', 'be', 'bottom', 'whoever', 'yourselves', 'around', 'no', 'something', 'toward', 'anywhere', 'becoming', 'three', 'everywhere', 'and', 'across', 'over', 'hers', 'these', 'do', 'ours', 'quite', 'towards', 'until', 'yourself', 'either', 'therefore', 'hereafter', 'many', 'hereupon', 'although', 'that', 'very', 'namely', 'several', 'someone', 'when', 'anyway', 'everything', 'give', 'about', 'mine', 'every', 'only', 'she', 'anyone', 'ever', 'me', 'may', 'eleven', 'take', 'twelve', 'was', 'have', 'itself', 'also', 'amount', 'nowhere', 'to', 'noone', 'how']}\n"
     ]
    }
   ],
   "source": [
    "print(f'Best Score: {results_tfidf.best_score_}')\n",
    "print(f'Best Parameters: {results_tfidf.best_params_}')"
   ]
  },
  {
   "cell_type": "code",
   "execution_count": null,
   "metadata": {},
   "outputs": [],
   "source": []
  },
  {
   "cell_type": "markdown",
   "metadata": {},
   "source": [
    "### 3: CountVectorizer + Multinomial Naive Bayes GridSearch & modeling"
   ]
  },
  {
   "cell_type": "code",
   "execution_count": 71,
   "metadata": {},
   "outputs": [
    {
     "name": "stdout",
     "output_type": "stream",
     "text": [
      "Seconds elapsed for fitting: 582.716\n"
     ]
    }
   ],
   "source": [
    "# Define CountVectorizer + Multinomial Naive Bayes Grisearch pipeline\n",
    "\n",
    "pipe_mnb = Pipeline([('cvec', CountVectorizer()), ('mnb', MultinomialNB())])\n",
    "mnb_params = {\n",
    "    'cvec__ngram_range': [(1,2), (1,3), (1,4), (1,5), (1,6), (1,7), (1,8)],\n",
    "    'cvec__stop_words': [None, short_stopwords, select_stopwords],\n",
    "    'cvec__max_features': [30, 40, 50, 60, 70, 80, 90, 100, 200],\n",
    "    'cvec__min_df': [2, 3],\n",
    "    'cvec__max_df': [.98, .99],\n",
    "    }\n",
    "\n",
    "gs_mnb = GridSearchCV(pipe_mnb, param_grid = mnb_params, cv = 3, scoring = 'accuracy')\n",
    "\n",
    "# Start the timer.\n",
    "t0 = time.time()\n",
    "\n",
    "results_mnb = gs_mnb.fit(X_train, y_train)\n",
    "\n",
    "print(f'Seconds elapsed for fitting: {(time.time() - t0):.3f}') # How many seconds elapsed."
   ]
  },
  {
   "cell_type": "code",
   "execution_count": 72,
   "metadata": {},
   "outputs": [
    {
     "name": "stdout",
     "output_type": "stream",
     "text": [
      "Training score is 0.918\n",
      "Test score is 0.907\n",
      "Cross Validation score is 0.888\n",
      "Seconds elapsed for score calculation: 0.518\n"
     ]
    }
   ],
   "source": [
    "t0 = time.time()\n",
    "print(f'Training score is {results_mnb.score(X_train, y_train):.3f}')\n",
    "print(f'Test score is {results_mnb.score(X_test, y_test):.3f}')\n",
    "print(f'Cross Validation score is {cross_val_score(results_mnb.best_estimator_, X, y, cv = 3).mean():.3f}')\n",
    "print(f'Seconds elapsed for score calculation: {(time.time() - t0):.3f}') # How many seconds elapsed."
   ]
  },
  {
   "cell_type": "code",
   "execution_count": 73,
   "metadata": {},
   "outputs": [
    {
     "name": "stdout",
     "output_type": "stream",
     "text": [
      "Best Score: 0.9124167006663946\n",
      "Best Parameters: {'cvec__max_df': 0.98, 'cvec__max_features': 200, 'cvec__min_df': 2, 'cvec__ngram_range': (1, 3), 'cvec__stop_words': ['while', 'four', 'others', 'further', 'some', 'six', 'somehow', 'what', 'whenever', 'besides', 'seeming', 'yet', 'front', 'done', 'afterwards', 'the', 'under', 'move', 'sometime', 'five', 'otherwise', 'wherever', 'part', 'latter', 'unless', 'empty', 'own', 'ten', 'via', 'with', 'are', 'much', 'except', 'of', 'sixty', 'seemed', 'each', 'beyond', 'twenty', 'he', 'might', 'eight', 'put', 'why', 'i', 'were', 'for', 'though', 'above', 'due', 'neither', 'enough', 'thence', 'call', 'if', 'is', 'rather', 'must', 'them', 'us', 'various', 'who', 'would', 'herself', 'often', 'next', 'their', 'thus', 'on', 'nevertheless', 'fifty', 'wherein', 'from', 'had', 'myself', 'its', 'can', 'well', 'am', 'you', 'made', 'among', 'then', 'most', 'whatever', 'almost', 'not', 'here', 'even', 'regarding', 'her', 'because', 'did', 'into', 'our', 'along', 'will', 'himself', 'at', 'meanwhile', 'where', 'down', 'already', 'same', 'say', 'still', 'whence', 'become', 'behind', 'but', 'by', 'now', 'thereby', 'together', 'up', 'yours', 'name', 'perhaps', 'there', 'another', 'before', 'see', 'a', 'during', 'throughout', 'between', 'elsewhere', 'two', 'since', 'using', 'whereas', 'has', 'whereby', 'being', 'doing', 'moreover', 'they', 'whose', 'really', 'all', 'out', 'off', 'used', 'whole', 'just', 'whom', 'somewhere', 'amongst', 'however', 'in', 'keep', 'nobody', 'nor', 'per', 'full', 'please', 'thereafter', 'never', 'nothing', 'get', 'top', 'hereby', 'hundred', 'anything', 'or', 'therein', 'onto', 'could', 'show', 'whether', 'go', 'themselves', 'been', 'always', 'former', 'than', 'without', 'any', 'fifteen', 'whereupon', 'few', 'least', 'one', 're', 'seem', 'beside', 'too', 'it', 'first', 'alone', 'less', 'anyhow', 'hence', 'forty', 'his', 'seems', 'this', 'ca', 'him', 'my', 'serious', 'again', 'became', 'within', 'through', 'your', 'those', 'upon', 'an', 'does', 'mostly', 'against', 'everyone', 'such', 'ourselves', 'third', 'below', 'none', 'beforehand', 'sometimes', 'thru', 'back', 'whereafter', 'whither', 'as', 'indeed', 'side', 'which', 'make', 'becomes', 'last', 'after', 'latterly', 'we', 'else', 'both', 'herein', 'so', 'once', 'formerly', 'more', 'nine', 'other', 'be', 'bottom', 'whoever', 'yourselves', 'around', 'no', 'something', 'toward', 'anywhere', 'becoming', 'three', 'everywhere', 'and', 'across', 'over', 'hers', 'these', 'do', 'ours', 'quite', 'towards', 'until', 'yourself', 'either', 'therefore', 'hereafter', 'many', 'hereupon', 'although', 'that', 'very', 'namely', 'several', 'someone', 'when', 'anyway', 'everything', 'give', 'about', 'mine', 'every', 'only', 'she', 'anyone', 'ever', 'me', 'may', 'eleven', 'take', 'twelve', 'was', 'have', 'itself', 'also', 'amount', 'nowhere', 'to', 'noone', 'how']}\n"
     ]
    }
   ],
   "source": [
    "print(f'Best Score: {results_mnb.best_score_}')\n",
    "print(f'Best Parameters: {results_mnb.best_params_}')"
   ]
  },
  {
   "cell_type": "code",
   "execution_count": null,
   "metadata": {},
   "outputs": [],
   "source": []
  },
  {
   "cell_type": "markdown",
   "metadata": {},
   "source": [
    "### 4: TFIDF + Gaussian Naive Bayes GridSearch & modeling"
   ]
  },
  {
   "cell_type": "code",
   "execution_count": 74,
   "metadata": {},
   "outputs": [
    {
     "name": "stdout",
     "output_type": "stream",
     "text": [
      "Seconds elapsed for fitting: 442.845\n"
     ]
    }
   ],
   "source": [
    "# Define TFIDF + Gaussian Naive Bayes Gridsearch pipeline\n",
    "\n",
    "from sklearn.base import TransformerMixin\n",
    "class DenseTransformer(TransformerMixin):\n",
    "\n",
    "    def fit(self, X, y=None, **fit_params):\n",
    "        return self\n",
    "\n",
    "    def transform(self, X, y=None, **fit_params):\n",
    "        return X.todense()\n",
    "\n",
    "\n",
    "pipe_gnb = Pipeline([('tfidf', TfidfVectorizer()), ('to_dense', DenseTransformer()),('gnb', GaussianNB())])\n",
    "\n",
    "gnb_params = {\n",
    "    'tfidf__ngram_range': [(1,2), (1,3), (1,4), (1,5), (1,6), (1,7)],\n",
    "    'tfidf__stop_words': [None, short_stopwords, select_stopwords],\n",
    "    'tfidf__max_features': [50, 60, 70, 80, 90, 100, 200, 400, 600],\n",
    "    'tfidf__min_df': [2, 3],\n",
    "    'tfidf__max_df': [.99, .98],\n",
    "    }\n",
    "\n",
    "gs_gnb = GridSearchCV(pipe_gnb, param_grid = gnb_params, cv = 3, scoring = 'accuracy')\n",
    "\n",
    "# Start the timer.\n",
    "t0 = time.time()\n",
    "\n",
    "results_gnb = gs_gnb.fit(X_train, y_train)\n",
    "\n",
    "print(f'Seconds elapsed for fitting: {(time.time() - t0):.3f}') # How many seconds elapsed."
   ]
  },
  {
   "cell_type": "code",
   "execution_count": 75,
   "metadata": {},
   "outputs": [
    {
     "name": "stdout",
     "output_type": "stream",
     "text": [
      "Training score is 0.967\n",
      "Test score is 0.948\n",
      "Cross Validation score is 0.895\n",
      "Seconds elapsed for score calculation: 1.141\n"
     ]
    }
   ],
   "source": [
    "t0 = time.time()\n",
    "print(f'Training score is {results_gnb.score(X_train, y_train):.3f}')\n",
    "print(f'Test score is {results_gnb.score(X_test, y_test):.3f}')\n",
    "print(f'Cross Validation score is {cross_val_score(results_gnb.best_estimator_, X, y, cv = 3).mean():.3f}')\n",
    "print(f'Seconds elapsed for score calculation: {(time.time() - t0):.3f}') # How many seconds elapsed."
   ]
  },
  {
   "cell_type": "code",
   "execution_count": 76,
   "metadata": {},
   "outputs": [
    {
     "name": "stdout",
     "output_type": "stream",
     "text": [
      "Best Score: 0.94937440500476\n",
      "Best Parameters: {'tfidf__max_df': 0.99, 'tfidf__max_features': 400, 'tfidf__min_df': 3, 'tfidf__ngram_range': (1, 4), 'tfidf__stop_words': None}\n"
     ]
    }
   ],
   "source": [
    "print(f'Best Score: {results_gnb.best_score_}')\n",
    "print(f'Best Parameters: {results_gnb.best_params_}')"
   ]
  },
  {
   "cell_type": "code",
   "execution_count": null,
   "metadata": {},
   "outputs": [],
   "source": []
  },
  {
   "cell_type": "markdown",
   "metadata": {},
   "source": [
    "## Model Selection\n",
    "- In this section we compare the Train and Test scores across the various models"
   ]
  },
  {
   "cell_type": "code",
   "execution_count": null,
   "metadata": {},
   "outputs": [],
   "source": []
  },
  {
   "cell_type": "code",
   "execution_count": 77,
   "metadata": {},
   "outputs": [
    {
     "name": "stdout",
     "output_type": "stream",
     "text": [
      "Baseline Score:                                0.610\n",
      "CountVectorizer + LogisticRegression Accuracy: 0.977\n",
      "TfidfVectorizer + LogisticRegression Accuracy: 0.953\n",
      "CountVectorizer + Multinomial Naive Bayes:     0.918\n",
      "TfidfVectorizer + Gaussian Naive Bayes:        0.967\n"
     ]
    }
   ],
   "source": [
    "# Check Training Scores across all models\n",
    "print(f'Baseline Score:                                {y_test.value_counts(normalize=True)[0]:.3f}')\n",
    "print(f'CountVectorizer + LogisticRegression Accuracy: {results_cvec.score(X_train, y_train):.3f}')\n",
    "print(f'TfidfVectorizer + LogisticRegression Accuracy: {results_tfidf.score(X_train, y_train):.3f}')\n",
    "print(f'CountVectorizer + Multinomial Naive Bayes:     {results_mnb.score(X_train, y_train):.3f}')\n",
    "print(f'TfidfVectorizer + Gaussian Naive Bayes:        {results_gnb.score(X_train, y_train):.3f}')"
   ]
  },
  {
   "cell_type": "code",
   "execution_count": 78,
   "metadata": {},
   "outputs": [
    {
     "name": "stdout",
     "output_type": "stream",
     "text": [
      "Baseline Score:                                0.610\n",
      "CountVectorizer + LogisticRegression Accuracy: 0.948\n",
      "TfidfVectorizer + LogisticRegression Accuracy: 0.942\n",
      "CountVectorizer + Multinomial Naive Bayes:     0.907\n",
      "TfidfVectorizer + Gaussian Naive Bayes:        0.948\n"
     ]
    }
   ],
   "source": [
    "# Check Testing Scores across all models\n",
    "print(f'Baseline Score:                                {y_test.value_counts(normalize=True)[0]:.3f}')\n",
    "print(f'CountVectorizer + LogisticRegression Accuracy: {results_cvec.score(X_test, y_test):.3f}')\n",
    "print(f'TfidfVectorizer + LogisticRegression Accuracy: {results_tfidf.score(X_test, y_test):.3f}')\n",
    "print(f'CountVectorizer + Multinomial Naive Bayes:     {results_mnb.score(X_test, y_test):.3f}')\n",
    "print(f'TfidfVectorizer + Gaussian Naive Bayes:        {results_gnb.score(X_test, y_test):.3f}')"
   ]
  },
  {
   "cell_type": "code",
   "execution_count": null,
   "metadata": {},
   "outputs": [],
   "source": []
  },
  {
   "cell_type": "markdown",
   "metadata": {},
   "source": [
    "## Model Evaluation"
   ]
  },
  {
   "cell_type": "code",
   "execution_count": 79,
   "metadata": {},
   "outputs": [],
   "source": [
    "# Isolate the individual words and their coefficients\n",
    "# Feature names (i.e., words in the Sentences):\n",
    "names = results_cvec.best_estimator_.steps[0][1].get_feature_names()\n",
    "\n",
    "# classifier (betas):\n",
    "classifier = results_cvec.best_estimator_.named_steps['lr']\n",
    "\n",
    "# https://stackoverflow.com/questions/43856280/return-coefficients-from-pipeline-object-in-sklearn"
   ]
  },
  {
   "cell_type": "code",
   "execution_count": 80,
   "metadata": {},
   "outputs": [
    {
     "data": {
      "text/plain": [
       "[0.7612639219006301,\n",
       " 0.19194945045523304,\n",
       " -0.5484203572402151,\n",
       " 0.8682155327934356,\n",
       " -0.5454628515335656,\n",
       " 0.03898358736525979,\n",
       " 0.04239379423817222,\n",
       " 0.24695057165412207,\n",
       " 0.31217506673797824,\n",
       " -0.34125549193562804]"
      ]
     },
     "execution_count": 80,
     "metadata": {},
     "output_type": "execute_result"
    }
   ],
   "source": [
    "# Extract coefficients from the classifier defined above\n",
    "coef_cvec = np.array(classifier.coef_).tolist()[0]\n",
    "coef_cvec[:10] #Look at 10 coefficients"
   ]
  },
  {
   "cell_type": "code",
   "execution_count": 81,
   "metadata": {},
   "outputs": [],
   "source": [
    "# Create zipped list of the word names with their corresponding beta coefficients\n",
    "cvec_top_words = list(zip(names, coef_cvec))"
   ]
  },
  {
   "cell_type": "code",
   "execution_count": 82,
   "metadata": {},
   "outputs": [],
   "source": [
    "# Create final dataframe of words with their corresponding coefficients\n",
    "df_cvec_coefs = pd.DataFrame(cvec_top_words).rename(columns = {0: 'word', 1: 'coef'}).sort_values(by = 'coef', ascending = False)"
   ]
  },
  {
   "cell_type": "code",
   "execution_count": 83,
   "metadata": {},
   "outputs": [
    {
     "data": {
      "text/html": [
       "<div>\n",
       "<style scoped>\n",
       "    .dataframe tbody tr th:only-of-type {\n",
       "        vertical-align: middle;\n",
       "    }\n",
       "\n",
       "    .dataframe tbody tr th {\n",
       "        vertical-align: top;\n",
       "    }\n",
       "\n",
       "    .dataframe thead th {\n",
       "        text-align: right;\n",
       "    }\n",
       "</style>\n",
       "<table border=\"1\" class=\"dataframe\">\n",
       "  <thead>\n",
       "    <tr style=\"text-align: right;\">\n",
       "      <th></th>\n",
       "      <th>word</th>\n",
       "      <th>coef</th>\n",
       "    </tr>\n",
       "  </thead>\n",
       "  <tbody>\n",
       "    <tr>\n",
       "      <th>88</th>\n",
       "      <td>trigger period</td>\n",
       "      <td>1.158504</td>\n",
       "    </tr>\n",
       "    <tr>\n",
       "      <th>15</th>\n",
       "      <td>cure</td>\n",
       "      <td>1.032664</td>\n",
       "    </tr>\n",
       "    <tr>\n",
       "      <th>3</th>\n",
       "      <td>applicable</td>\n",
       "      <td>0.868216</td>\n",
       "    </tr>\n",
       "    <tr>\n",
       "      <th>11</th>\n",
       "      <td>cash sweep</td>\n",
       "      <td>0.795812</td>\n",
       "    </tr>\n",
       "    <tr>\n",
       "      <th>79</th>\n",
       "      <td>sufficient</td>\n",
       "      <td>0.790850</td>\n",
       "    </tr>\n",
       "    <tr>\n",
       "      <th>0</th>\n",
       "      <td>accordance</td>\n",
       "      <td>0.761264</td>\n",
       "    </tr>\n",
       "    <tr>\n",
       "      <th>59</th>\n",
       "      <td>occurrence</td>\n",
       "      <td>0.740066</td>\n",
       "    </tr>\n",
       "    <tr>\n",
       "      <th>30</th>\n",
       "      <td>excess cash</td>\n",
       "      <td>0.655650</td>\n",
       "    </tr>\n",
       "    <tr>\n",
       "      <th>64</th>\n",
       "      <td>payment date</td>\n",
       "      <td>0.632804</td>\n",
       "    </tr>\n",
       "    <tr>\n",
       "      <th>42</th>\n",
       "      <td>leasing</td>\n",
       "      <td>0.575170</td>\n",
       "    </tr>\n",
       "    <tr>\n",
       "      <th>31</th>\n",
       "      <td>exist</td>\n",
       "      <td>0.572714</td>\n",
       "    </tr>\n",
       "    <tr>\n",
       "      <th>45</th>\n",
       "      <td>loan agreement</td>\n",
       "      <td>0.444540</td>\n",
       "    </tr>\n",
       "    <tr>\n",
       "      <th>19</th>\n",
       "      <td>debt service</td>\n",
       "      <td>0.434642</td>\n",
       "    </tr>\n",
       "    <tr>\n",
       "      <th>32</th>\n",
       "      <td>expense</td>\n",
       "      <td>0.431821</td>\n",
       "    </tr>\n",
       "    <tr>\n",
       "      <th>70</th>\n",
       "      <td>rent</td>\n",
       "      <td>0.385651</td>\n",
       "    </tr>\n",
       "    <tr>\n",
       "      <th>75</th>\n",
       "      <td>respect</td>\n",
       "      <td>0.367929</td>\n",
       "    </tr>\n",
       "    <tr>\n",
       "      <th>56</th>\n",
       "      <td>mortgage lender</td>\n",
       "      <td>0.334123</td>\n",
       "    </tr>\n",
       "    <tr>\n",
       "      <th>51</th>\n",
       "      <td>manager</td>\n",
       "      <td>0.321624</td>\n",
       "    </tr>\n",
       "    <tr>\n",
       "      <th>8</th>\n",
       "      <td>cash</td>\n",
       "      <td>0.312175</td>\n",
       "    </tr>\n",
       "    <tr>\n",
       "      <th>49</th>\n",
       "      <td>management</td>\n",
       "      <td>0.306405</td>\n",
       "    </tr>\n",
       "  </tbody>\n",
       "</table>\n",
       "</div>"
      ],
      "text/plain": [
       "               word      coef\n",
       "88   trigger period  1.158504\n",
       "15             cure  1.032664\n",
       "3        applicable  0.868216\n",
       "11       cash sweep  0.795812\n",
       "79       sufficient  0.790850\n",
       "0        accordance  0.761264\n",
       "59       occurrence  0.740066\n",
       "30      excess cash  0.655650\n",
       "64     payment date  0.632804\n",
       "42          leasing  0.575170\n",
       "31            exist  0.572714\n",
       "45   loan agreement  0.444540\n",
       "19     debt service  0.434642\n",
       "32          expense  0.431821\n",
       "70             rent  0.385651\n",
       "75          respect  0.367929\n",
       "56  mortgage lender  0.334123\n",
       "51          manager  0.321624\n",
       "8              cash  0.312175\n",
       "49       management  0.306405"
      ]
     },
     "execution_count": 83,
     "metadata": {},
     "output_type": "execute_result"
    }
   ],
   "source": [
    "# Display top differentiating words and phrases in predicting Trigger Event\n",
    "df_cvec_coefs.head(20)"
   ]
  },
  {
   "cell_type": "code",
   "execution_count": 84,
   "metadata": {},
   "outputs": [
    {
     "data": {
      "text/html": [
       "<div>\n",
       "<style scoped>\n",
       "    .dataframe tbody tr th:only-of-type {\n",
       "        vertical-align: middle;\n",
       "    }\n",
       "\n",
       "    .dataframe tbody tr th {\n",
       "        vertical-align: top;\n",
       "    }\n",
       "\n",
       "    .dataframe thead th {\n",
       "        text-align: right;\n",
       "    }\n",
       "</style>\n",
       "<table border=\"1\" class=\"dataframe\">\n",
       "  <thead>\n",
       "    <tr style=\"text-align: right;\">\n",
       "      <th></th>\n",
       "      <th>word</th>\n",
       "      <th>coef</th>\n",
       "    </tr>\n",
       "  </thead>\n",
       "  <tbody>\n",
       "    <tr>\n",
       "      <th>28</th>\n",
       "      <td>event default</td>\n",
       "      <td>-2.203824</td>\n",
       "    </tr>\n",
       "    <tr>\n",
       "      <th>21</th>\n",
       "      <td>default</td>\n",
       "      <td>-1.949841</td>\n",
       "    </tr>\n",
       "    <tr>\n",
       "      <th>48</th>\n",
       "      <td>low</td>\n",
       "      <td>-1.212421</td>\n",
       "    </tr>\n",
       "    <tr>\n",
       "      <th>27</th>\n",
       "      <td>event</td>\n",
       "      <td>-1.139229</td>\n",
       "    </tr>\n",
       "    <tr>\n",
       "      <th>47</th>\n",
       "      <td>loan event</td>\n",
       "      <td>-0.963687</td>\n",
       "    </tr>\n",
       "    <tr>\n",
       "      <th>84</th>\n",
       "      <td>tenant</td>\n",
       "      <td>-0.955003</td>\n",
       "    </tr>\n",
       "    <tr>\n",
       "      <th>18</th>\n",
       "      <td>debt</td>\n",
       "      <td>-0.934411</td>\n",
       "    </tr>\n",
       "    <tr>\n",
       "      <th>74</th>\n",
       "      <td>reserve account</td>\n",
       "      <td>-0.818502</td>\n",
       "    </tr>\n",
       "    <tr>\n",
       "      <th>85</th>\n",
       "      <td>tenant trigger</td>\n",
       "      <td>-0.722564</td>\n",
       "    </tr>\n",
       "    <tr>\n",
       "      <th>89</th>\n",
       "      <td>yield</td>\n",
       "      <td>-0.710405</td>\n",
       "    </tr>\n",
       "    <tr>\n",
       "      <th>20</th>\n",
       "      <td>debt yield</td>\n",
       "      <td>-0.710405</td>\n",
       "    </tr>\n",
       "    <tr>\n",
       "      <th>65</th>\n",
       "      <td>period</td>\n",
       "      <td>-0.698486</td>\n",
       "    </tr>\n",
       "    <tr>\n",
       "      <th>16</th>\n",
       "      <td>date</td>\n",
       "      <td>-0.650473</td>\n",
       "    </tr>\n",
       "    <tr>\n",
       "      <th>36</th>\n",
       "      <td>funds</td>\n",
       "      <td>-0.562798</td>\n",
       "    </tr>\n",
       "    <tr>\n",
       "      <th>35</th>\n",
       "      <td>fund sufficient</td>\n",
       "      <td>-0.561574</td>\n",
       "    </tr>\n",
       "    <tr>\n",
       "      <th>2</th>\n",
       "      <td>agreement</td>\n",
       "      <td>-0.548420</td>\n",
       "    </tr>\n",
       "    <tr>\n",
       "      <th>4</th>\n",
       "      <td>apply</td>\n",
       "      <td>-0.545463</td>\n",
       "    </tr>\n",
       "    <tr>\n",
       "      <th>77</th>\n",
       "      <td>specified</td>\n",
       "      <td>-0.532863</td>\n",
       "    </tr>\n",
       "    <tr>\n",
       "      <th>78</th>\n",
       "      <td>specified tenant</td>\n",
       "      <td>-0.532863</td>\n",
       "    </tr>\n",
       "    <tr>\n",
       "      <th>43</th>\n",
       "      <td>lender</td>\n",
       "      <td>-0.470101</td>\n",
       "    </tr>\n",
       "  </tbody>\n",
       "</table>\n",
       "</div>"
      ],
      "text/plain": [
       "                word      coef\n",
       "28     event default -2.203824\n",
       "21           default -1.949841\n",
       "48               low -1.212421\n",
       "27             event -1.139229\n",
       "47        loan event -0.963687\n",
       "84            tenant -0.955003\n",
       "18              debt -0.934411\n",
       "74   reserve account -0.818502\n",
       "85    tenant trigger -0.722564\n",
       "89             yield -0.710405\n",
       "20        debt yield -0.710405\n",
       "65            period -0.698486\n",
       "16              date -0.650473\n",
       "36             funds -0.562798\n",
       "35   fund sufficient -0.561574\n",
       "2          agreement -0.548420\n",
       "4              apply -0.545463\n",
       "77         specified -0.532863\n",
       "78  specified tenant -0.532863\n",
       "43            lender -0.470101"
      ]
     },
     "execution_count": 84,
     "metadata": {},
     "output_type": "execute_result"
    }
   ],
   "source": [
    "# Top differentiating words and phrases predicting a non-Trigger Event\n",
    "df_cvec_coefs.tail(20).sort_values('coef', ascending = True)"
   ]
  },
  {
   "cell_type": "markdown",
   "metadata": {},
   "source": [
    "### Calculating predictions and Confusion Matrix"
   ]
  },
  {
   "cell_type": "code",
   "execution_count": 85,
   "metadata": {},
   "outputs": [],
   "source": [
    "# Here, we isolate our best model & make predictions based on our test data\n",
    "best_model = results_gnb.best_estimator_\n",
    "preds = best_model.predict(X_test)"
   ]
  },
  {
   "cell_type": "code",
   "execution_count": 86,
   "metadata": {},
   "outputs": [
    {
     "data": {
      "text/plain": [
       "array([0, 0, 0, 0, 0, 1, 0, 1, 0, 0])"
      ]
     },
     "execution_count": 86,
     "metadata": {},
     "output_type": "execute_result"
    }
   ],
   "source": [
    "# Checking our predictions\n",
    "preds[:10]"
   ]
  },
  {
   "cell_type": "code",
   "execution_count": 87,
   "metadata": {},
   "outputs": [
    {
     "name": "stdout",
     "output_type": "stream",
     "text": [
      "This is a confusion matrix for our test data vs predictions:\n",
      "[[100   5]\n",
      " [  4  63]]\n"
     ]
    }
   ],
   "source": [
    "## Create a confusion matrix\n",
    "from sklearn.metrics import confusion_matrix\n",
    "cm_test = confusion_matrix(y_test, preds)\n",
    "print('This is a confusion matrix for our test data vs predictions:')\n",
    "print(cm_test)"
   ]
  },
  {
   "cell_type": "code",
   "execution_count": 88,
   "metadata": {},
   "outputs": [],
   "source": [
    "# Converting our confusion matrix into a dataframe\n",
    "cm_test = pd.DataFrame(cm_test, columns=['Predicted Negative','Predicted Positive'], \n",
    "                       index=['Actual Negative','Actual Positive'])"
   ]
  },
  {
   "cell_type": "code",
   "execution_count": 89,
   "metadata": {},
   "outputs": [
    {
     "data": {
      "text/html": [
       "<div>\n",
       "<style scoped>\n",
       "    .dataframe tbody tr th:only-of-type {\n",
       "        vertical-align: middle;\n",
       "    }\n",
       "\n",
       "    .dataframe tbody tr th {\n",
       "        vertical-align: top;\n",
       "    }\n",
       "\n",
       "    .dataframe thead th {\n",
       "        text-align: right;\n",
       "    }\n",
       "</style>\n",
       "<table border=\"1\" class=\"dataframe\">\n",
       "  <thead>\n",
       "    <tr style=\"text-align: right;\">\n",
       "      <th></th>\n",
       "      <th>Predicted Negative</th>\n",
       "      <th>Predicted Positive</th>\n",
       "    </tr>\n",
       "  </thead>\n",
       "  <tbody>\n",
       "    <tr>\n",
       "      <th>Actual Negative</th>\n",
       "      <td>100</td>\n",
       "      <td>5</td>\n",
       "    </tr>\n",
       "    <tr>\n",
       "      <th>Actual Positive</th>\n",
       "      <td>4</td>\n",
       "      <td>63</td>\n",
       "    </tr>\n",
       "  </tbody>\n",
       "</table>\n",
       "</div>"
      ],
      "text/plain": [
       "                 Predicted Negative  Predicted Positive\n",
       "Actual Negative                 100                   5\n",
       "Actual Positive                   4                  63"
      ]
     },
     "execution_count": 89,
     "metadata": {},
     "output_type": "execute_result"
    }
   ],
   "source": [
    "cm_test"
   ]
  },
  {
   "cell_type": "code",
   "execution_count": 90,
   "metadata": {},
   "outputs": [],
   "source": [
    "# Setting up probabilities for the ROC curve\n",
    "pred_proba = results_gnb.predict_proba(X_test)\n",
    "preds = results_gnb.predict(X_test)"
   ]
  },
  {
   "cell_type": "code",
   "execution_count": 91,
   "metadata": {},
   "outputs": [
    {
     "data": {
      "image/png": "[encoded data removed]",
      "text/plain": [
       "<Figure size 576x576 with 1 Axes>"
      ]
     },
     "metadata": {
      "needs_background": "light"
     },
     "output_type": "display_data"
    }
   ],
   "source": [
    "fpr, tpr, _= roc_curve(y_test, pred_proba[:,1])\n",
    "roc_auc = auc(fpr, tpr)\n",
    "# Plot of a ROC curve for a specific class\n",
    "plt.figure(figsize = (8,8))\n",
    "plt.plot(fpr, tpr, label='ROC curve (area = %0.4f)' % roc_auc)\n",
    "plt.plot([0, 1], [0, 1], 'k--', label='baseline')\n",
    "plt.xlim([-0.01, 1.0])\n",
    "plt.ylim([0.0, 1.01])\n",
    "plt.xlabel('False Positive Rate', fontsize =20)\n",
    "plt.ylabel('True Positive Rate', fontsize = 20)\n",
    "plt.title('Receiver Operating Characteristic Curve', fontsize=18)\n",
    "plt.legend(loc=\"lower right\");"
   ]
  },
  {
   "cell_type": "code",
   "execution_count": 92,
   "metadata": {},
   "outputs": [],
   "source": [
    "# To allow us to better read the Sentences\n",
    "pd.set_option('display.max_colwidth', None)"
   ]
  },
  {
   "cell_type": "code",
   "execution_count": 93,
   "metadata": {},
   "outputs": [
    {
     "data": {
      "text/html": [
       "<div>\n",
       "<style scoped>\n",
       "    .dataframe tbody tr th:only-of-type {\n",
       "        vertical-align: middle;\n",
       "    }\n",
       "\n",
       "    .dataframe tbody tr th {\n",
       "        vertical-align: top;\n",
       "    }\n",
       "\n",
       "    .dataframe thead th {\n",
       "        text-align: right;\n",
       "    }\n",
       "</style>\n",
       "<table border=\"1\" class=\"dataframe\">\n",
       "  <thead>\n",
       "    <tr style=\"text-align: right;\">\n",
       "      <th></th>\n",
       "      <th>prediction</th>\n",
       "      <th>actual</th>\n",
       "      <th>Sentence</th>\n",
       "    </tr>\n",
       "  </thead>\n",
       "  <tbody>\n",
       "    <tr>\n",
       "      <th>0</th>\n",
       "      <td>0</td>\n",
       "      <td>0</td>\n",
       "      <td>\" mezzanine loan default \" mean an \" event of default \" under the mezzanine loan document .</td>\n",
       "    </tr>\n",
       "    <tr>\n",
       "      <th>1</th>\n",
       "      <td>0</td>\n",
       "      <td>0</td>\n",
       "      <td>provide that no mortgage loan event of default be continue , the lender will release to the borrowers’ operate account all amount then contain in the excess cash flow reserve account on the first payment date follow termination of a cash sweep period .</td>\n",
       "    </tr>\n",
       "    <tr>\n",
       "      <th>2</th>\n",
       "      <td>0</td>\n",
       "      <td>0</td>\n",
       "      <td>mortgage lender will disburse to the borrower the leasing reserve funds upon satisfaction by the borrower of each of the following condition : ( i ) the borrower will submit a request for payment to mortgage lender at least 10 business days prior to the date on which the borrower request such payment be make and specifie the approved leasing costs to be pay ; ( ii ) on the date such request be receive by mortgage lender and on the date such payment be to be make , no mortgage loan event of default will exist and remain uncured ; and ( iii ) mortgage lender will have receive a certificate from the borrower state either that such tenant improvement payment be require to be pay to the tenant under -PRON- lease or , otherwise , ( a ) state that the item to be fund by the request disbursement be approve leasing costs , ( b ) state to the borrower ’s knowledge , that all tenant improvement at the property to be fund by the request disbursement have be complete ( or complete to the extent of the request disbursement ) in good and workmanlike manner and in accordance with all applicable federal , state and local law , rule and regulation , and ( c ) state that each person that supply material or labor in connection with the tenant improvement to be fund by the request disbursement have be pay in full for work complete through such date or will be pay in full upon such disbursement ( or if progress payment be be make , that such person have be or will be pay all amount owe to -PRON- base on the work such person have complete ) ; ( iv ) at mortgage lender ’s option , if the amount of any individual disbursement of leasing reserve funds exceed $ 250,000 , a title search for the property indicate that the property be free from all lien , claim and other encumbrance not previously approve by mortgage lender ; and ( v ) mortgage lender will have receive such other evidence as mortgage lender will reasonably request that the approved leasing costs to be fund by the request disbursement have be complete ( to the extent applicable ) , be due and payable and be pay for or will be pay upon such disbursement to the borrower .</td>\n",
       "    </tr>\n",
       "    <tr>\n",
       "      <th>3</th>\n",
       "      <td>0</td>\n",
       "      <td>0</td>\n",
       "      <td>a \" trigger period \" will commence upon the occurrence of ( i ) an event of default , ( ii ) a low debt yield trigger period or ( iii ) the commencement of an event of default under the mezzanine loan ; and will end if , ( a ) with respect to a trigger period continue pursuant to clause ( i ) , the event of default commence the trigger period have be cure and such cure have be accept by the lender ( and no other event of default be then continue ) , ( b ) with respect to a trigger period continue pursuant to clause ( ii ) , the low debt yield trigger period have end or ( c ) with respect to a trigger period continue pursuant to clause ( iii ) , receipt by the lender of a mezzanine loan default revocation notice .</td>\n",
       "    </tr>\n",
       "    <tr>\n",
       "      <th>4</th>\n",
       "      <td>0</td>\n",
       "      <td>0</td>\n",
       "      <td>\" low cash flow period \" mean a period : ( a ) commence upon the debt yield ( test quarterly ) fall below ( a ) six percent ( 6.0 % ) during the initial term of the whole loan or the first , second or third extension period or ( b ) six and one - half percent ( 6.50 % ) during the fourth or fifth extension period , in each case for any two ( 2 ) consecutive fiscal quarter ; and ( b ) expire upon the date that the debt yield ( test quarterly ) be equal to or great than ( a ) six percent ( 6.00 % ) during the initial term of the whole loan or the first , second or third extension period or ( b ) six and one - half percent ( 6.50 % ) during the fourth or fifth extension period , in each case for any two ( 2 ) consecutive fiscal quarter .</td>\n",
       "    </tr>\n",
       "  </tbody>\n",
       "</table>\n",
       "</div>"
      ],
      "text/plain": [
       "   prediction  actual  \\\n",
       "0           0       0   \n",
       "1           0       0   \n",
       "2           0       0   \n",
       "3           0       0   \n",
       "4           0       0   \n",
       "\n",
       "                                                                                                                                                                                                                                                                                                                                                                                                                                                                                                                                                                                                                                                                                                                                                                                                                                                                                                                                                                                                                                                                                                                                                                                                                                                                                                                                                                                                                                                                                                                                                                                                                                                                                                                                                                                                                                                                                                                                                                                                                                                                                                                                                                                                                          Sentence  \n",
       "0                                                                                                                                                                                                                                                                                                                                                                                                                                                                                                                                                                                                                                                                                                                                                                                                                                                                                                                                                                                                                                                                                                                                                                                                                                                                                                                                                                                                                                                                                                                                                                                                                                                                                                                                                                                                                                                                                                                                                                                                                                                                                                                                      \" mezzanine loan default \" mean an \" event of default \" under the mezzanine loan document .  \n",
       "1                                                                                                                                                                                                                                                                                                                                                                                                                                                                                                                                                                                                                                                                                                                                                                                                                                                                                                                                                                                                                                                                                                                                                                                                                                                                                                                                                                                                                                                                                                                                                                                                                                                                                                                                                                                                                                                                                                                                                                     provide that no mortgage loan event of default be continue , the lender will release to the borrowers’ operate account all amount then contain in the excess cash flow reserve account on the first payment date follow termination of a cash sweep period .  \n",
       "2  mortgage lender will disburse to the borrower the leasing reserve funds upon satisfaction by the borrower of each of the following condition : ( i ) the borrower will submit a request for payment to mortgage lender at least 10 business days prior to the date on which the borrower request such payment be make and specifie the approved leasing costs to be pay ; ( ii ) on the date such request be receive by mortgage lender and on the date such payment be to be make , no mortgage loan event of default will exist and remain uncured ; and ( iii ) mortgage lender will have receive a certificate from the borrower state either that such tenant improvement payment be require to be pay to the tenant under -PRON- lease or , otherwise , ( a ) state that the item to be fund by the request disbursement be approve leasing costs , ( b ) state to the borrower ’s knowledge , that all tenant improvement at the property to be fund by the request disbursement have be complete ( or complete to the extent of the request disbursement ) in good and workmanlike manner and in accordance with all applicable federal , state and local law , rule and regulation , and ( c ) state that each person that supply material or labor in connection with the tenant improvement to be fund by the request disbursement have be pay in full for work complete through such date or will be pay in full upon such disbursement ( or if progress payment be be make , that such person have be or will be pay all amount owe to -PRON- base on the work such person have complete ) ; ( iv ) at mortgage lender ’s option , if the amount of any individual disbursement of leasing reserve funds exceed $ 250,000 , a title search for the property indicate that the property be free from all lien , claim and other encumbrance not previously approve by mortgage lender ; and ( v ) mortgage lender will have receive such other evidence as mortgage lender will reasonably request that the approved leasing costs to be fund by the request disbursement have be complete ( to the extent applicable ) , be due and payable and be pay for or will be pay upon such disbursement to the borrower .  \n",
       "3                                                                                                                                                                                                                                                                                                                                                                                                                                                                                                                                                                                                                                                                                                                                                                                                                                                                                                                                                                                                                                                                                                                                                                                                                                                                                                                                                                                                                                                                               a \" trigger period \" will commence upon the occurrence of ( i ) an event of default , ( ii ) a low debt yield trigger period or ( iii ) the commencement of an event of default under the mezzanine loan ; and will end if , ( a ) with respect to a trigger period continue pursuant to clause ( i ) , the event of default commence the trigger period have be cure and such cure have be accept by the lender ( and no other event of default be then continue ) , ( b ) with respect to a trigger period continue pursuant to clause ( ii ) , the low debt yield trigger period have end or ( c ) with respect to a trigger period continue pursuant to clause ( iii ) , receipt by the lender of a mezzanine loan default revocation notice .  \n",
       "4                                                                                                                                                                                                                                                                                                                                                                                                                                                                                                                                                                                                                                                                                                                                                                                                                                                                                                                                                                                                                                                                                                                                                                                                                                                                                                                                                                                                                                                         \" low cash flow period \" mean a period : ( a ) commence upon the debt yield ( test quarterly ) fall below ( a ) six percent ( 6.0 % ) during the initial term of the whole loan or the first , second or third extension period or ( b ) six and one - half percent ( 6.50 % ) during the fourth or fifth extension period , in each case for any two ( 2 ) consecutive fiscal quarter ; and ( b ) expire upon the date that the debt yield ( test quarterly ) be equal to or great than ( a ) six percent ( 6.00 % ) during the initial term of the whole loan or the first , second or third extension period or ( b ) six and one - half percent ( 6.50 % ) during the fourth or fifth extension period , in each case for any two ( 2 ) consecutive fiscal quarter .  "
      ]
     },
     "execution_count": 93,
     "metadata": {},
     "output_type": "execute_result"
    }
   ],
   "source": [
    "result_cols = ['prediction', 'actual', 'Sentence']\n",
    "results = pd.DataFrame({'prediction': list(preds), 'actual': list(y_test), 'Sentence': list(X_test)})\n",
    "results.head()"
   ]
  },
  {
   "cell_type": "code",
   "execution_count": 94,
   "metadata": {},
   "outputs": [],
   "source": [
    "misclassified = results[results['prediction'] != results['actual']]\n"
   ]
  },
  {
   "cell_type": "code",
   "execution_count": 95,
   "metadata": {},
   "outputs": [
    {
     "data": {
      "text/html": [
       "<div>\n",
       "<style scoped>\n",
       "    .dataframe tbody tr th:only-of-type {\n",
       "        vertical-align: middle;\n",
       "    }\n",
       "\n",
       "    .dataframe tbody tr th {\n",
       "        vertical-align: top;\n",
       "    }\n",
       "\n",
       "    .dataframe thead th {\n",
       "        text-align: right;\n",
       "    }\n",
       "</style>\n",
       "<table border=\"1\" class=\"dataframe\">\n",
       "  <thead>\n",
       "    <tr style=\"text-align: right;\">\n",
       "      <th></th>\n",
       "      <th>prediction</th>\n",
       "      <th>actual</th>\n",
       "      <th>Sentence</th>\n",
       "    </tr>\n",
       "  </thead>\n",
       "  <tbody>\n",
       "    <tr>\n",
       "      <th>19</th>\n",
       "      <td>1</td>\n",
       "      <td>0</td>\n",
       "      <td>during the continuance of a cash management period ( other than one cause by an event of default ) , the cash management bank will be require to withdraw all available fund on deposit in the cash management account on each business day and disburse such fund in the following amount and order of priority : ( i ) first , to the tax subaccount of the cash management account , an amount sufficient to fund the require monthly deposit for payment of tax ; ( ii ) second , unless the property be cover by a blanket insurance policy , to the insurance subaccount of the cash management account , an amount sufficient to fund the require monthly deposit for payment of insurance premium ; ( iii ) third , to the debt service subaccount of the cash management account , the amount of any interest accrue at the default rate and late payment charge ; ( iv ) fourth , to the debt service subaccount of the cash management account , the monthly debt service amount ( provide during the extension term this shall only be the interest calculate at the initial interest rate and the initial b note interest rate ) ; ( v ) fifth , to the cash management bank , the cash management bank ’s fee ; ( vi ) sixth , during a cash trap period ( and at all time during the extension term ) , to the borrowers , an amount equal to the operating expense reasonably approve by the lender for the month in which such loan payment date occur ; ( vii ) seventh , to the capital expenditure subaccount of the cash management account , a monthly amount equal to $ 24,369.30 ; ( viii ) eighth , to the rollover subaccount of the cash management account , a monthly amount equal to $ 182,770.75 ; ( ix ) ninth , other than during the extension term , during a cash trap period , to the excess cash flow account , all amount remain in the cash management account after deposit for item ( i ) through ( vii ) above ; ( x ) tenth , other than during the extension term , provide a cash trap period be not then continue , all amount remain in the cash management account after deposit for item ( i ) through ( ix ) above will be disburse to the borrowers ; ( xi ) eleventh , during the extension term , fund sufficient to pay the remaining portion of the monthly debt service amount ; ( xii ) twelfth , during the extension term , all amount remain in the cash management account after deposit for item ( i ) through ( xi ) above ( the \" available cash flow \" ) shall pay any outstanding excess interest then due and payable ; and ( xiii ) thirteenth , during the extension term , all amount remain in the cash management account after deposit for item ( i ) through ( xii ) above shall be apply to repay the outstanding principal balance of the whole loan on a pari passu basis .</td>\n",
       "    </tr>\n",
       "    <tr>\n",
       "      <th>38</th>\n",
       "      <td>0</td>\n",
       "      <td>1</td>\n",
       "      <td>the mortgage loan documents for each mortgage loan require the related borrower to fund the follow reserve account ( collectively with respect to each mortgage loan , the \" reserve accounts \" ) : an account ( the \" tax account \" ) into which a monthly amount sufficient to pay 1/12 of tax payable during the next ensue 12 month ( exclusive of any tax payable directly by tenant at the properties ) be require to be deposit on each payment date on and after the occurrence and during the continuance of a trigger period ; at the option of the mortgage lender , if the liability or casualty policy maintain by a borrower cover a property ( or any portion thereof ) do not constitute an approve blanket or umbrella policy under the related mortgage loan agreement , or the mortgage lender require the borrower to obtain a separate policy in accordance with the term and condition of the related mortgage loan agreement , an account ( the \" insurance account \" ) into which a monthly amount sufficient to pay 1/12 of the insurance premium for the renewal of coverage be require to deposit on each payment date on and after the occurrence and during the continuance of a trigger period ; an account ( the \" capital expenditures reserve account \" ) into which a monthly amount sufficient to pay 1/12 of an amount equal to the aggregate square footage ( as define under \" description of the mortgage loans — extension options \" in this offering circular ) multiply by ( i ) $ 0.32 with respect to pool a , ( ii ) $ 0.35 with respect to pool b and ( iii ) $ 0.45 with respect to pool c , in each case , for certain capital expenditure be require to be deposit on each payment date on and after the occurrence and during the continuance of a trigger period ; an account ( the \" environmental conditions reserve account \" ) into which an amount equal to ( i ) $ 384,000 with respect to pool a ( such amount represent 120 % of the estimate cost of the environmental work at the properties identify on annex a to this offering circular as river run and riverdale shops ) , ( ii ) $ 68,400 with respect to pool b ( such amount represent 120 % of the estimate cost of the environmental work at the property identify on annex a to this offering circular as melbourne shopping center ) and ( iii ) $ 120,000 with respect to pool c ( such amount represent 120 % of the estimate cost of the environmental work at the property identify on annex a to this offering circular as bardmoor promenade ) be , in each case , require to be deposit on the origination date , and into which true up payments ( as define under \" description of the mortgage loans — tax and insurance funds \" ) be require to be deposit in the event that any ongoing environmental testing at any property disclose environmental issue that cost in excess of fund then on deposit in the environmental conditions reserve account ; an account ( the \" leasing reserve account \" ) into which a monthly amount equal to 1/12 of the amount equal to the aggregate square footage multiply by $ 1.00 be require to be deposit on each payment date on and after the occurrence and during the continuance of a trigger period , for tenant improvement and leasing commission , and any early termination fee or payment or other termination fee or payment pay by any tenant under a major lease to a borrower , whether or not a trigger period have occur or be continue ; an account ( the \" excess cash flow account \" ) into which certain excess cash flow be require to be deposit on each payment date on and after the occurrence and during the continuance of a trigger period ; an account ( the \" operate expense account \" ) into which an amount equal to the aggregate amount of certain approve operating expense and extraordinary expense to be incur by a borrower for the then current mortgage loan interest accrual period be require to be deposit on and after the occurrence and during the continuance of a trigger period ; an account ( the \" unfunded obligations reserve account \" ) into which the amount of ( i ) $ 3,287,459 with respect to pool a , ( ii ) $ 15,294,259 with respect to pool b and ( iii ) $ 1,778,852 with respect to pool c be , in each case , require to be deposit on the origination date in respect of any outstanding tenant improvement allowance and/or lease commission due in connection with any lease at the properties as of the origination date ; and with respect to the pool a mortgage loan , an account ( the \" debt yield coverage cure reserve account \" into which the applicable borrower have the right to deposit cash ( or deliver to the applicable mortgage lender a letter of credit in lieu thereof ) in an amount sufficient to ( i ) cure an applicable trigger period or ( ii ) satisfy the debt yield requirement for a release of an applicable individual property .</td>\n",
       "    </tr>\n",
       "    <tr>\n",
       "      <th>39</th>\n",
       "      <td>0</td>\n",
       "      <td>1</td>\n",
       "      <td>to the extent that a trigger period have occur and be continue , on each payment date , the lender or servicer , as applicable , be require to allocate all fund , if any , on deposit in the cash management account and disburse such fund in the amount and order of priority as describe under \" description of the mortgage loans — cash management account \" in this offering circular .</td>\n",
       "    </tr>\n",
       "    <tr>\n",
       "      <th>51</th>\n",
       "      <td>1</td>\n",
       "      <td>0</td>\n",
       "      <td>the borrower must pay to the mortgage lender on each mortgage loan payment date , an amount equal to ( i ) the required renovations reserve monthly deposit until such time that the amount deposit into the required renovations reserve account as describe in this sentence equal or exceed $ 9,000,000 and ( ii ) the amount deposit pursuant to the cash management agreement after the occurrence of a required renovation trigger event as describe under \" —cash management account \" above .</td>\n",
       "    </tr>\n",
       "    <tr>\n",
       "      <th>53</th>\n",
       "      <td>0</td>\n",
       "      <td>1</td>\n",
       "      <td>any excess cash flow reserve funds remain on deposit in the excess cash flow reserve account upon the occurrence of a cash trap event cure will be pay ( i ) provide a cash trap period ( as define in the mezzanine loan agreement ) under the mezzanine loan be then continue or any amount be then due and payable to mezzanine lender , to mezzanine lender to be hold by mezzanine lender pursuant to the mezzanine loan agreement for the purpose describe therein and ( ii ) if the mezzanine loan be no longer outstanding or if there do not then exist a cash trap period ( as define in the mezzanine loan agreement ) under the mezzanine loan and all amount due and payable to the mezzanine lender have be pay , to borrower .</td>\n",
       "    </tr>\n",
       "    <tr>\n",
       "      <th>132</th>\n",
       "      <td>0</td>\n",
       "      <td>1</td>\n",
       "      <td>follow the termination of the trigger period ( determine without consideration of the partial payment guaranty ) and provide no subsequent trigger period result from a separate event have occur which have not be cure , the partial payment guaranty will be deem of no further force and effect and mortgage lender will , at borrower ’s request , return to borrower the partial payment guaranty .</td>\n",
       "    </tr>\n",
       "    <tr>\n",
       "      <th>153</th>\n",
       "      <td>1</td>\n",
       "      <td>0</td>\n",
       "      <td>notwithstanding anything in this \" —tax and insurance funds \" section to the contrary , borrower be not require to make the monthly tax deposit so long as ( i ) no reserve waiver revocation event period have commence and ( ii ) borrower provide mortgage lender with pay receipt and other evidence reasonably satisfactory to mortgage lender that all tax have be and continue to be fully and timely pay prior to the date such tax would otherwise be delinquent ( collectively , the \" tax payment waiver conditions \" ) .</td>\n",
       "    </tr>\n",
       "    <tr>\n",
       "      <th>168</th>\n",
       "      <td>1</td>\n",
       "      <td>0</td>\n",
       "      <td>during a cash sweep period , the borrower be require to fund the follow reserve account , each of which be subaccount of the cash management account : an account for the purpose of reserve amount payable by the borrower in respect of property tax and other charge and insurance premium ( the \" tax and insurance reserve account \" in an amount equal to ( i ) an amount sufficient to pay all property tax by the 30th day prior to the date that -PRON- become due , assume subsequent monthly funding on mortgage loan payment dates of 1/12th of project annual property tax and other charge , plus ( ii ) an amount sufficient to pay all insurance premium by the 30th day prior to the date that -PRON- expire , assume subsequent monthly funding on mortgage loan payment dates of 1/12th of project annual insurance premium ; provide , the borrower will not be require to make deposit into the tax and insurance reserve account if certain condition be meet , include but not limit to delivery of satisfactory evidence that metropolitan have pay all tax and insurance premium pursuant to the metropolitan lease and be maintain insurance policy satisfy the applicable requirement set forth in the mortgage loan agreement ; an account for the purpose of reserve amount payable by the borrower under the leasehold portion prime lease ( the \" ground rent reserve account \" in an amount equal to the   next monthly payment of ground rent ( include both base and additional rent ) and other charge due under the leasehold portion prime lease that the lender estimate will be payable by the borrower as lessee under the leasehold portion prime lease , without duplication , on the next payment date thereunder ; provide , the borrower will not be require to make deposit into the ground rent reserve account if certain condition be meet , include but not limit to delivery of satisfactory evidence that metropolitan have pay all ground rent pursuant to the metropolitan lease ; and an account for excess cash flow ( after payment of all require debt service , reserve and operating expense ) as describe under \" description of the mortgage loan — cash management \" ( the \" excess cash flow reserve account \" ) ( if no cash sweep period or mortgage loan event of default be continue , amount in the excess cash flow reserve account will be release to the borrower ) .</td>\n",
       "    </tr>\n",
       "    <tr>\n",
       "      <th>171</th>\n",
       "      <td>1</td>\n",
       "      <td>0</td>\n",
       "      <td>upon the commencement of any reserve waiver revocation event period , borrower ( i ) will be require to make the monthly ground rent deposits on each payment date commence on the first payment date follow the commencement of the reserve waiver revocation event period and ( ii ) on the first payment date follow the commencement of the reserve waiver revocation event period , borrower be obligate make a true up payment such that there will be sufficient fund , when add to the monthly deposit to be deposit with mortgage lender on each payment date thereafter , to accumulate sufficient fund to pay all ground rent at least 10 day prior to the date such ground rent be due .</td>\n",
       "    </tr>\n",
       "  </tbody>\n",
       "</table>\n",
       "</div>"
      ],
      "text/plain": [
       "     prediction  actual  \\\n",
       "19            1       0   \n",
       "38            0       1   \n",
       "39            0       1   \n",
       "51            1       0   \n",
       "53            0       1   \n",
       "132           0       1   \n",
       "153           1       0   \n",
       "168           1       0   \n",
       "171           1       0   \n",
       "\n",
       "                                                                                                                                                                                                                                                                                                                                                                                                                                                                                                                                                                                                                                                                                                                                                                                                                                                                                                                                                                                                                                                                                                                                                                                                                                                                                                                                                                                                                                                                                                                                                                                                                                                                                                                                                                                                                                                                                                                                                                                                                                                                                                                                                                                                                                                                                                                                                                                                                                                                                                                                                                                                                                                                                                                                                                                                                                                                                                                                                                                                                                                                                                                                                                                                                                                                                                                                                                                                                                                                                                                                                                                                                                                                                                                                                                                                                                                                                                                                                                                                                                                                                                                                                                                                                                                                                                                                                                                                                                                                                                                                                                                                                                                                                                                                                                                                                                                                                                                                                                                                                      Sentence  \n",
       "19                                                                                                                                                                                                                                                                                                                                                                                                                                                                                                                                                                                                                                                                                                                                                                                                                                                                                                                                                                                                                                                                                                                                                                                                                                                                                                                                                                                                                                                                                                                                                                                                                                                                                                                                                                                                                                                                                                                                                                                                                                                                                                                                                                   during the continuance of a cash management period ( other than one cause by an event of default ) , the cash management bank will be require to withdraw all available fund on deposit in the cash management account on each business day and disburse such fund in the following amount and order of priority : ( i ) first , to the tax subaccount of the cash management account , an amount sufficient to fund the require monthly deposit for payment of tax ; ( ii ) second , unless the property be cover by a blanket insurance policy , to the insurance subaccount of the cash management account , an amount sufficient to fund the require monthly deposit for payment of insurance premium ; ( iii ) third , to the debt service subaccount of the cash management account , the amount of any interest accrue at the default rate and late payment charge ; ( iv ) fourth , to the debt service subaccount of the cash management account , the monthly debt service amount ( provide during the extension term this shall only be the interest calculate at the initial interest rate and the initial b note interest rate ) ; ( v ) fifth , to the cash management bank , the cash management bank ’s fee ; ( vi ) sixth , during a cash trap period ( and at all time during the extension term ) , to the borrowers , an amount equal to the operating expense reasonably approve by the lender for the month in which such loan payment date occur ; ( vii ) seventh , to the capital expenditure subaccount of the cash management account , a monthly amount equal to $ 24,369.30 ; ( viii ) eighth , to the rollover subaccount of the cash management account , a monthly amount equal to $ 182,770.75 ; ( ix ) ninth , other than during the extension term , during a cash trap period , to the excess cash flow account , all amount remain in the cash management account after deposit for item ( i ) through ( vii ) above ; ( x ) tenth , other than during the extension term , provide a cash trap period be not then continue , all amount remain in the cash management account after deposit for item ( i ) through ( ix ) above will be disburse to the borrowers ; ( xi ) eleventh , during the extension term , fund sufficient to pay the remaining portion of the monthly debt service amount ; ( xii ) twelfth , during the extension term , all amount remain in the cash management account after deposit for item ( i ) through ( xi ) above ( the \" available cash flow \" ) shall pay any outstanding excess interest then due and payable ; and ( xiii ) thirteenth , during the extension term , all amount remain in the cash management account after deposit for item ( i ) through ( xii ) above shall be apply to repay the outstanding principal balance of the whole loan on a pari passu basis .  \n",
       "38   the mortgage loan documents for each mortgage loan require the related borrower to fund the follow reserve account ( collectively with respect to each mortgage loan , the \" reserve accounts \" ) : an account ( the \" tax account \" ) into which a monthly amount sufficient to pay 1/12 of tax payable during the next ensue 12 month ( exclusive of any tax payable directly by tenant at the properties ) be require to be deposit on each payment date on and after the occurrence and during the continuance of a trigger period ; at the option of the mortgage lender , if the liability or casualty policy maintain by a borrower cover a property ( or any portion thereof ) do not constitute an approve blanket or umbrella policy under the related mortgage loan agreement , or the mortgage lender require the borrower to obtain a separate policy in accordance with the term and condition of the related mortgage loan agreement , an account ( the \" insurance account \" ) into which a monthly amount sufficient to pay 1/12 of the insurance premium for the renewal of coverage be require to deposit on each payment date on and after the occurrence and during the continuance of a trigger period ; an account ( the \" capital expenditures reserve account \" ) into which a monthly amount sufficient to pay 1/12 of an amount equal to the aggregate square footage ( as define under \" description of the mortgage loans — extension options \" in this offering circular ) multiply by ( i ) $ 0.32 with respect to pool a , ( ii ) $ 0.35 with respect to pool b and ( iii ) $ 0.45 with respect to pool c , in each case , for certain capital expenditure be require to be deposit on each payment date on and after the occurrence and during the continuance of a trigger period ; an account ( the \" environmental conditions reserve account \" ) into which an amount equal to ( i ) $ 384,000 with respect to pool a ( such amount represent 120 % of the estimate cost of the environmental work at the properties identify on annex a to this offering circular as river run and riverdale shops ) , ( ii ) $ 68,400 with respect to pool b ( such amount represent 120 % of the estimate cost of the environmental work at the property identify on annex a to this offering circular as melbourne shopping center ) and ( iii ) $ 120,000 with respect to pool c ( such amount represent 120 % of the estimate cost of the environmental work at the property identify on annex a to this offering circular as bardmoor promenade ) be , in each case , require to be deposit on the origination date , and into which true up payments ( as define under \" description of the mortgage loans — tax and insurance funds \" ) be require to be deposit in the event that any ongoing environmental testing at any property disclose environmental issue that cost in excess of fund then on deposit in the environmental conditions reserve account ; an account ( the \" leasing reserve account \" ) into which a monthly amount equal to 1/12 of the amount equal to the aggregate square footage multiply by $ 1.00 be require to be deposit on each payment date on and after the occurrence and during the continuance of a trigger period , for tenant improvement and leasing commission , and any early termination fee or payment or other termination fee or payment pay by any tenant under a major lease to a borrower , whether or not a trigger period have occur or be continue ; an account ( the \" excess cash flow account \" ) into which certain excess cash flow be require to be deposit on each payment date on and after the occurrence and during the continuance of a trigger period ; an account ( the \" operate expense account \" ) into which an amount equal to the aggregate amount of certain approve operating expense and extraordinary expense to be incur by a borrower for the then current mortgage loan interest accrual period be require to be deposit on and after the occurrence and during the continuance of a trigger period ; an account ( the \" unfunded obligations reserve account \" ) into which the amount of ( i ) $ 3,287,459 with respect to pool a , ( ii ) $ 15,294,259 with respect to pool b and ( iii ) $ 1,778,852 with respect to pool c be , in each case , require to be deposit on the origination date in respect of any outstanding tenant improvement allowance and/or lease commission due in connection with any lease at the properties as of the origination date ; and with respect to the pool a mortgage loan , an account ( the \" debt yield coverage cure reserve account \" into which the applicable borrower have the right to deposit cash ( or deliver to the applicable mortgage lender a letter of credit in lieu thereof ) in an amount sufficient to ( i ) cure an applicable trigger period or ( ii ) satisfy the debt yield requirement for a release of an applicable individual property .  \n",
       "39                                                                                                                                                                                                                                                                                                                                                                                                                                                                                                                                                                                                                                                                                                                                                                                                                                                                                                                                                                                                                                                                                                                                                                                                                                                                                                                                                                                                                                                                                                                                                                                                                                                                                                                                                                                                                                                                                                                                                                                                                                                                                                                                                                                                                                                                                                                                                                                                                                                                                                                                                                                                                                                                                                                                                                                                                                                                                                                                                                                                                                                                                                                                                                                                                                                                                                                                                                                                                                                                                                                                                                                                                                                                                                                                                                                                                                                                                                                                                                                                                                                                                                                                                                                                                                                                                                                                                                                                                                                                                                                                                                                                                              to the extent that a trigger period have occur and be continue , on each payment date , the lender or servicer , as applicable , be require to allocate all fund , if any , on deposit in the cash management account and disburse such fund in the amount and order of priority as describe under \" description of the mortgage loans — cash management account \" in this offering circular .  \n",
       "51                                                                                                                                                                                                                                                                                                                                                                                                                                                                                                                                                                                                                                                                                                                                                                                                                                                                                                                                                                                                                                                                                                                                                                                                                                                                                                                                                                                                                                                                                                                                                                                                                                                                                                                                                                                                                                                                                                                                                                                                                                                                                                                                                                                                                                                                                                                                                                                                                                                                                                                                                                                                                                                                                                                                                                                                                                                                                                                                                                                                                                                                                                                                                                                                                                                                                                                                                                                                                                                                                                                                                                                                                                                                                                                                                                                                                                                                                                                                                                                                                                                                                                                                                                                                                                                                                                                                                                                                                                                                                                                       the borrower must pay to the mortgage lender on each mortgage loan payment date , an amount equal to ( i ) the required renovations reserve monthly deposit until such time that the amount deposit into the required renovations reserve account as describe in this sentence equal or exceed $ 9,000,000 and ( ii ) the amount deposit pursuant to the cash management agreement after the occurrence of a required renovation trigger event as describe under \" —cash management account \" above .  \n",
       "53                                                                                                                                                                                                                                                                                                                                                                                                                                                                                                                                                                                                                                                                                                                                                                                                                                                                                                                                                                                                                                                                                                                                                                                                                                                                                                                                                                                                                                                                                                                                                                                                                                                                                                                                                                                                                                                                                                                                                                                                                                                                                                                                                                                                                                                                                                                                                                                                                                                                                                                                                                                                                                                                                                                                                                                                                                                                                                                                                                                                                                                                                                                                                                                                                                                                                                                                                                                                                                                                                                                                                                                                                                                                                                                                                                                                                                                                                                                                                                                                                                                                                                                                                                                                                                                                               any excess cash flow reserve funds remain on deposit in the excess cash flow reserve account upon the occurrence of a cash trap event cure will be pay ( i ) provide a cash trap period ( as define in the mezzanine loan agreement ) under the mezzanine loan be then continue or any amount be then due and payable to mezzanine lender , to mezzanine lender to be hold by mezzanine lender pursuant to the mezzanine loan agreement for the purpose describe therein and ( ii ) if the mezzanine loan be no longer outstanding or if there do not then exist a cash trap period ( as define in the mezzanine loan agreement ) under the mezzanine loan and all amount due and payable to the mezzanine lender have be pay , to borrower .  \n",
       "132                                                                                                                                                                                                                                                                                                                                                                                                                                                                                                                                                                                                                                                                                                                                                                                                                                                                                                                                                                                                                                                                                                                                                                                                                                                                                                                                                                                                                                                                                                                                                                                                                                                                                                                                                                                                                                                                                                                                                                                                                                                                                                                                                                                                                                                                                                                                                                                                                                                                                                                                                                                                                                                                                                                                                                                                                                                                                                                                                                                                                                                                                                                                                                                                                                                                                                                                                                                                                                                                                                                                                                                                                                                                                                                                                                                                                                                                                                                                                                                                                                                                                                                                                                                                                                                                                                                                                                                                                                                                                                                                                                                                                  follow the termination of the trigger period ( determine without consideration of the partial payment guaranty ) and provide no subsequent trigger period result from a separate event have occur which have not be cure , the partial payment guaranty will be deem of no further force and effect and mortgage lender will , at borrower ’s request , return to borrower the partial payment guaranty .  \n",
       "153                                                                                                                                                                                                                                                                                                                                                                                                                                                                                                                                                                                                                                                                                                                                                                                                                                                                                                                                                                                                                                                                                                                                                                                                                                                                                                                                                                                                                                                                                                                                                                                                                                                                                                                                                                                                                                                                                                                                                                                                                                                                                                                                                                                                                                                                                                                                                                                                                                                                                                                                                                                                                                                                                                                                                                                                                                                                                                                                                                                                                                                                                                                                                                                                                                                                                                                                                                                                                                                                                                                                                                                                                                                                                                                                                                                                                                                                                                                                                                                                                                                                                                                                                                                                                                                                                                                                                                                                                                                                                       notwithstanding anything in this \" —tax and insurance funds \" section to the contrary , borrower be not require to make the monthly tax deposit so long as ( i ) no reserve waiver revocation event period have commence and ( ii ) borrower provide mortgage lender with pay receipt and other evidence reasonably satisfactory to mortgage lender that all tax have be and continue to be fully and timely pay prior to the date such tax would otherwise be delinquent ( collectively , the \" tax payment waiver conditions \" ) .  \n",
       "168                                                                                                                                                                                                                                                                                                                                                                                                                                                                                                                                                                                                                                                                                                                                                                                                                                                                                                                                                                                                                                                                                                                                                                                                                                                                                                                                                                                                                                                                                                                                                                                                                                                                                                                                                                                                                                                                                                                                                                                                                                                                                                                                                                                                                                                                                                                                                                                                                                                                                                                                                                              during a cash sweep period , the borrower be require to fund the follow reserve account , each of which be subaccount of the cash management account : an account for the purpose of reserve amount payable by the borrower in respect of property tax and other charge and insurance premium ( the \" tax and insurance reserve account \" in an amount equal to ( i ) an amount sufficient to pay all property tax by the 30th day prior to the date that -PRON- become due , assume subsequent monthly funding on mortgage loan payment dates of 1/12th of project annual property tax and other charge , plus ( ii ) an amount sufficient to pay all insurance premium by the 30th day prior to the date that -PRON- expire , assume subsequent monthly funding on mortgage loan payment dates of 1/12th of project annual insurance premium ; provide , the borrower will not be require to make deposit into the tax and insurance reserve account if certain condition be meet , include but not limit to delivery of satisfactory evidence that metropolitan have pay all tax and insurance premium pursuant to the metropolitan lease and be maintain insurance policy satisfy the applicable requirement set forth in the mortgage loan agreement ; an account for the purpose of reserve amount payable by the borrower under the leasehold portion prime lease ( the \" ground rent reserve account \" in an amount equal to the   next monthly payment of ground rent ( include both base and additional rent ) and other charge due under the leasehold portion prime lease that the lender estimate will be payable by the borrower as lessee under the leasehold portion prime lease , without duplication , on the next payment date thereunder ; provide , the borrower will not be require to make deposit into the ground rent reserve account if certain condition be meet , include but not limit to delivery of satisfactory evidence that metropolitan have pay all ground rent pursuant to the metropolitan lease ; and an account for excess cash flow ( after payment of all require debt service , reserve and operating expense ) as describe under \" description of the mortgage loan — cash management \" ( the \" excess cash flow reserve account \" ) ( if no cash sweep period or mortgage loan event of default be continue , amount in the excess cash flow reserve account will be release to the borrower ) .  \n",
       "171                                                                                                                                                                                                                                                                                                                                                                                                                                                                                                                                                                                                                                                                                                                                                                                                                                                                                                                                                                                                                                                                                                                                                                                                                                                                                                                                                                                                                                                                                                                                                                                                                                                                                                                                                                                                                                                                                                                                                                                                                                                                                                                                                                                                                                                                                                                                                                                                                                                                                                                                                                                                                                                                                                                                                                                                                                                                                                                                                                                                                                                                                                                                                                                                                                                                                                                                                                                                                                                                                                                                                                                                                                                                                                                                                                                                                                                                                                                                                                                                                                                                                                                                                                                                                                                                                                                       upon the commencement of any reserve waiver revocation event period , borrower ( i ) will be require to make the monthly ground rent deposits on each payment date commence on the first payment date follow the commencement of the reserve waiver revocation event period and ( ii ) on the first payment date follow the commencement of the reserve waiver revocation event period , borrower be obligate make a true up payment such that there will be sufficient fund , when add to the monthly deposit to be deposit with mortgage lender on each payment date thereafter , to accumulate sufficient fund to pay all ground rent at least 10 day prior to the date such ground rent be due .  "
      ]
     },
     "execution_count": 95,
     "metadata": {},
     "output_type": "execute_result"
    }
   ],
   "source": [
    "misclassified.head(10)"
   ]
  },
  {
   "cell_type": "code",
   "execution_count": null,
   "metadata": {},
   "outputs": [],
   "source": []
  },
  {
   "cell_type": "code",
   "execution_count": 96,
   "metadata": {},
   "outputs": [
    {
     "data": {
      "text/plain": [
       "Document                                                                                                            20150307_028S2X_Prospectus_SD000000002389024187.pdf\n",
       "Sentence                        During the continuance of a Cash Management Period, Borrower shall deposit a monthly amount of $24,369.30 into the replacement reserve.\n",
       "loan_default                                                                                                                                                          0\n",
       "aggregate_dscr_fall                                                                                                                                                   0\n",
       "dscr_fall                                                                                                                                                             0\n",
       "unspecified                                                                                                                                                           1\n",
       "debt_yield_fall                                                                                                                                                       0\n",
       "aggregate_debt_yield_fall                                                                                                                                             0\n",
       "mezzanine_default                                                                                                                                                     0\n",
       "tenant_failure                                                                                                                                                        0\n",
       "mezzanine_outstanding                                                                                                                                                 0\n",
       "operator_termination                                                                                                                                                  0\n",
       "bankruptcy                                                                                                                                                            0\n",
       "aggregate_debt_yield                                                                                                                                                  0\n",
       "sponsor_termination                                                                                                                                                   0\n",
       "renovations                                                                                                                                                           0\n",
       "sentence_char_count                                                                                                                                                 135\n",
       "SentenceTokens               During the continuance of a Cash Management Period , Borrower shall deposit a monthly amount of $ 24,369.30 into the replacement reserve .\n",
       "SentenceLemmas               during the continuance of a cash management period , borrower shall deposit a monthly amount of $ 24,369.30 into the replacement reserve .\n",
       "SentenceLemmas_nopunc             during the continuance of a cash management period borrower shall deposit a monthly amount of 24 369 30 into the replacement reserve \n",
       "Name: 42, dtype: object"
      ]
     },
     "execution_count": 96,
     "metadata": {},
     "output_type": "execute_result"
    }
   ],
   "source": [
    "df.loc[42]"
   ]
  },
  {
   "cell_type": "code",
   "execution_count": null,
   "metadata": {},
   "outputs": [],
   "source": []
  },
  {
   "cell_type": "code",
   "execution_count": null,
   "metadata": {},
   "outputs": [],
   "source": []
  }
 ],
 "metadata": {
  "kernelspec": {
   "display_name": "Python 3",
   "language": "python",
   "name": "python3"
  },
  "language_info": {
   "codemirror_mode": {
    "name": "ipython",
    "version": 3
   },
   "file_extension": ".py",
   "mimetype": "text/x-python",
   "name": "python",
   "nbconvert_exporter": "python",
   "pygments_lexer": "ipython3",
   "version": "3.7.5"
  },
  "toc": {
   "base_numbering": 1,
   "nav_menu": {},
   "number_sections": true,
   "sideBar": true,
   "skip_h1_title": false,
   "title_cell": "Table of Contents",
   "title_sidebar": "Contents",
   "toc_cell": false,
   "toc_position": {},
   "toc_section_display": true,
   "toc_window_display": true
  }
 },
 "nbformat": 4,
 "nbformat_minor": 2
}
