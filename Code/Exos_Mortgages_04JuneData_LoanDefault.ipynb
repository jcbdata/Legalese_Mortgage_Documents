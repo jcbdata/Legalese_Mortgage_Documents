{
 "cells": [
  {
   "cell_type": "markdown",
   "metadata": {},
   "source": [
    "# Claira Project: Mortgage Contracts"
   ]
  },
  {
   "cell_type": "markdown",
   "metadata": {},
   "source": [
    "## Import Packages"
   ]
  },
  {
   "cell_type": "code",
   "execution_count": 1,
   "metadata": {},
   "outputs": [
    {
     "name": "stderr",
     "output_type": "stream",
     "text": [
      "/opt/anaconda3/envs/dsi/lib/python3.7/site-packages/sklearn/utils/deprecation.py:144: FutureWarning: The sklearn.feature_extraction.stop_words module is  deprecated in version 0.22 and will be removed in version 0.24. The corresponding classes / functions should instead be imported from sklearn.feature_extraction.text. Anything that cannot be imported from sklearn.feature_extraction.text is now part of the private API.\n",
      "  warnings.warn(message, FutureWarning)\n"
     ]
    }
   ],
   "source": [
    "import pandas as pd\n",
    "import matplotlib.pyplot as plt\n",
    "import json\n",
    "import string\n",
    "import numpy as np\n",
    "import gzip\n",
    "import seaborn as sns\n",
    "np.random.seed(99)\n",
    "RANDOM_STATE = 99\n",
    "import datetime\n",
    "pd.set_option('display.max_rows', 151)\n",
    "\n",
    "\n",
    "# Import vectorizing and modeling tools in preparation for modeling steps\n",
    "from sklearn.feature_extraction.text import CountVectorizer,TfidfVectorizer\n",
    "from sklearn.feature_extraction import text, stop_words\n",
    "from sklearn.naive_bayes import MultinomialNB, GaussianNB, BernoulliNB\n",
    "from sklearn.ensemble import RandomForestClassifier\n",
    "import time\n",
    "\n",
    "from nltk import word_tokenize\n",
    "from nltk.corpus import stopwords\n",
    "from nltk.stem.wordnet import WordNetLemmatizer\n",
    "\n",
    "import spacy\n",
    "import en_core_web_lg\n",
    "from spacy.lang.en import English\n",
    "from spacy.lang.en.stop_words import STOP_WORDS\n",
    "\n",
    "from sklearn.model_selection import train_test_split, GridSearchCV, cross_val_score, cross_val_predict\n",
    "from sklearn.pipeline import Pipeline\n",
    "from sklearn.linear_model import LogisticRegression\n",
    "from sklearn.tree import DecisionTreeClassifier\n",
    "\n",
    "from sklearn.metrics import roc_curve, auc\n",
    "\n",
    "# Import CountVectorizer and TFIDFVectorizer from feature_extraction.text.\n",
    "from sklearn.feature_extraction.text import CountVectorizer, TfidfVectorizer"
   ]
  },
  {
   "cell_type": "markdown",
   "metadata": {},
   "source": [
    "## Import Data"
   ]
  },
  {
   "cell_type": "code",
   "execution_count": 2,
   "metadata": {},
   "outputs": [],
   "source": [
    "# Import the CSV file\n",
    "# raw_df = pd.read_csv('../data/sasb_cash_trap_triggers.csv')"
   ]
  },
  {
   "cell_type": "code",
   "execution_count": 3,
   "metadata": {},
   "outputs": [],
   "source": [
    "# Import the CSV file\n",
    "raw_df = pd.read_csv('../data/sasb_cash_trap_triggers_06_04_20.csv')"
   ]
  },
  {
   "cell_type": "code",
   "execution_count": 4,
   "metadata": {},
   "outputs": [
    {
     "data": {
      "text/html": [
       "<div>\n",
       "<style scoped>\n",
       "    .dataframe tbody tr th:only-of-type {\n",
       "        vertical-align: middle;\n",
       "    }\n",
       "\n",
       "    .dataframe tbody tr th {\n",
       "        vertical-align: top;\n",
       "    }\n",
       "\n",
       "    .dataframe thead th {\n",
       "        text-align: right;\n",
       "    }\n",
       "</style>\n",
       "<table border=\"1\" class=\"dataframe\">\n",
       "  <thead>\n",
       "    <tr style=\"text-align: right;\">\n",
       "      <th></th>\n",
       "      <th>Document</th>\n",
       "      <th>Sentence</th>\n",
       "      <th>Trigger</th>\n",
       "      <th>Multiclass</th>\n",
       "    </tr>\n",
       "  </thead>\n",
       "  <tbody>\n",
       "    <tr>\n",
       "      <th>0</th>\n",
       "      <td>20120828_01Y0R8_Prospectus_CM00000000205875087...</td>\n",
       "      <td>On each Business Day, the financial institutio...</td>\n",
       "      <td>Loan Default</td>\n",
       "      <td>0</td>\n",
       "    </tr>\n",
       "    <tr>\n",
       "      <th>1</th>\n",
       "      <td>20120828_01Y0R8_Prospectus_CM00000000205875087...</td>\n",
       "      <td>The Borrower has established and is required t...</td>\n",
       "      <td>Aggregate DSCR Fall</td>\n",
       "      <td>1</td>\n",
       "    </tr>\n",
       "    <tr>\n",
       "      <th>2</th>\n",
       "      <td>20120828_01Y0R8_Prospectus_CM00000000205875087...</td>\n",
       "      <td>The Borrower has established and is required t...</td>\n",
       "      <td>Loan Default</td>\n",
       "      <td>1</td>\n",
       "    </tr>\n",
       "    <tr>\n",
       "      <th>3</th>\n",
       "      <td>20120828_01Y0R8_Prospectus_CM00000000205875087...</td>\n",
       "      <td>During a Trigger Period or while an event of d...</td>\n",
       "      <td>Loan Default</td>\n",
       "      <td>0</td>\n",
       "    </tr>\n",
       "    <tr>\n",
       "      <th>4</th>\n",
       "      <td>20120828_01Y0R8_Prospectus_CM00000000205875087...</td>\n",
       "      <td>On any Business Day all amounts on deposit in ...</td>\n",
       "      <td>Loan Default</td>\n",
       "      <td>0</td>\n",
       "    </tr>\n",
       "  </tbody>\n",
       "</table>\n",
       "</div>"
      ],
      "text/plain": [
       "                                            Document  \\\n",
       "0  20120828_01Y0R8_Prospectus_CM00000000205875087...   \n",
       "1  20120828_01Y0R8_Prospectus_CM00000000205875087...   \n",
       "2  20120828_01Y0R8_Prospectus_CM00000000205875087...   \n",
       "3  20120828_01Y0R8_Prospectus_CM00000000205875087...   \n",
       "4  20120828_01Y0R8_Prospectus_CM00000000205875087...   \n",
       "\n",
       "                                            Sentence              Trigger  \\\n",
       "0  On each Business Day, the financial institutio...         Loan Default   \n",
       "1  The Borrower has established and is required t...  Aggregate DSCR Fall   \n",
       "2  The Borrower has established and is required t...         Loan Default   \n",
       "3  During a Trigger Period or while an event of d...         Loan Default   \n",
       "4  On any Business Day all amounts on deposit in ...         Loan Default   \n",
       "\n",
       "   Multiclass  \n",
       "0           0  \n",
       "1           1  \n",
       "2           1  \n",
       "3           0  \n",
       "4           0  "
      ]
     },
     "execution_count": 4,
     "metadata": {},
     "output_type": "execute_result"
    }
   ],
   "source": [
    "# Review the first few rows of the data set\n",
    "raw_df.head()"
   ]
  },
  {
   "cell_type": "code",
   "execution_count": 5,
   "metadata": {},
   "outputs": [
    {
     "data": {
      "text/plain": [
       "(2008, 4)"
      ]
     },
     "execution_count": 5,
     "metadata": {},
     "output_type": "execute_result"
    }
   ],
   "source": [
    "# Check size of the data set\n",
    "raw_df.shape"
   ]
  },
  {
   "cell_type": "code",
   "execution_count": 6,
   "metadata": {},
   "outputs": [],
   "source": [
    "raw_df = raw_df[['Document', 'Sentence', 'Trigger', 'Multiclass']]"
   ]
  },
  {
   "cell_type": "code",
   "execution_count": 7,
   "metadata": {},
   "outputs": [
    {
     "data": {
      "text/plain": [
       "Document      0\n",
       "Sentence      0\n",
       "Trigger       0\n",
       "Multiclass    0\n",
       "dtype: int64"
      ]
     },
     "execution_count": 7,
     "metadata": {},
     "output_type": "execute_result"
    }
   ],
   "source": [
    "# Check for null values\n",
    "raw_df.isnull().sum()"
   ]
  },
  {
   "cell_type": "code",
   "execution_count": 8,
   "metadata": {},
   "outputs": [
    {
     "data": {
      "text/plain": [
       "(2008, 4)"
      ]
     },
     "execution_count": 8,
     "metadata": {},
     "output_type": "execute_result"
    }
   ],
   "source": [
    "raw_df.dropna()\n",
    "raw_df.shape"
   ]
  },
  {
   "cell_type": "code",
   "execution_count": 9,
   "metadata": {},
   "outputs": [
    {
     "data": {
      "text/html": [
       "<div>\n",
       "<style scoped>\n",
       "    .dataframe tbody tr th:only-of-type {\n",
       "        vertical-align: middle;\n",
       "    }\n",
       "\n",
       "    .dataframe tbody tr th {\n",
       "        vertical-align: top;\n",
       "    }\n",
       "\n",
       "    .dataframe thead th {\n",
       "        text-align: right;\n",
       "    }\n",
       "</style>\n",
       "<table border=\"1\" class=\"dataframe\">\n",
       "  <thead>\n",
       "    <tr style=\"text-align: right;\">\n",
       "      <th></th>\n",
       "      <th>Document</th>\n",
       "      <th>Sentence</th>\n",
       "      <th>Trigger</th>\n",
       "      <th>Multiclass</th>\n",
       "    </tr>\n",
       "  </thead>\n",
       "  <tbody>\n",
       "    <tr>\n",
       "      <th>0</th>\n",
       "      <td>20120828_01Y0R8_Prospectus_CM00000000205875087...</td>\n",
       "      <td>On each Business Day, the financial institutio...</td>\n",
       "      <td>Loan Default</td>\n",
       "      <td>0</td>\n",
       "    </tr>\n",
       "    <tr>\n",
       "      <th>1</th>\n",
       "      <td>20120828_01Y0R8_Prospectus_CM00000000205875087...</td>\n",
       "      <td>The Borrower has established and is required t...</td>\n",
       "      <td>Aggregate DSCR Fall</td>\n",
       "      <td>1</td>\n",
       "    </tr>\n",
       "    <tr>\n",
       "      <th>2</th>\n",
       "      <td>20120828_01Y0R8_Prospectus_CM00000000205875087...</td>\n",
       "      <td>The Borrower has established and is required t...</td>\n",
       "      <td>Loan Default</td>\n",
       "      <td>1</td>\n",
       "    </tr>\n",
       "    <tr>\n",
       "      <th>3</th>\n",
       "      <td>20120828_01Y0R8_Prospectus_CM00000000205875087...</td>\n",
       "      <td>During a Trigger Period or while an event of d...</td>\n",
       "      <td>Loan Default</td>\n",
       "      <td>0</td>\n",
       "    </tr>\n",
       "    <tr>\n",
       "      <th>4</th>\n",
       "      <td>20120828_01Y0R8_Prospectus_CM00000000205875087...</td>\n",
       "      <td>On any Business Day all amounts on deposit in ...</td>\n",
       "      <td>Loan Default</td>\n",
       "      <td>0</td>\n",
       "    </tr>\n",
       "  </tbody>\n",
       "</table>\n",
       "</div>"
      ],
      "text/plain": [
       "                                            Document  \\\n",
       "0  20120828_01Y0R8_Prospectus_CM00000000205875087...   \n",
       "1  20120828_01Y0R8_Prospectus_CM00000000205875087...   \n",
       "2  20120828_01Y0R8_Prospectus_CM00000000205875087...   \n",
       "3  20120828_01Y0R8_Prospectus_CM00000000205875087...   \n",
       "4  20120828_01Y0R8_Prospectus_CM00000000205875087...   \n",
       "\n",
       "                                            Sentence              Trigger  \\\n",
       "0  On each Business Day, the financial institutio...         Loan Default   \n",
       "1  The Borrower has established and is required t...  Aggregate DSCR Fall   \n",
       "2  The Borrower has established and is required t...         Loan Default   \n",
       "3  During a Trigger Period or while an event of d...         Loan Default   \n",
       "4  On any Business Day all amounts on deposit in ...         Loan Default   \n",
       "\n",
       "   Multiclass  \n",
       "0           0  \n",
       "1           1  \n",
       "2           1  \n",
       "3           0  \n",
       "4           0  "
      ]
     },
     "execution_count": 9,
     "metadata": {},
     "output_type": "execute_result"
    }
   ],
   "source": [
    "raw_df.head()"
   ]
  },
  {
   "cell_type": "markdown",
   "metadata": {},
   "source": [
    "## Data Cleaning"
   ]
  },
  {
   "cell_type": "code",
   "execution_count": 10,
   "metadata": {},
   "outputs": [
    {
     "data": {
      "text/plain": [
       "nontrigger                   1056\n",
       "Unspecified                   286\n",
       "Loan Default                  252\n",
       "Debt Yield Fall                95\n",
       "Loan default                   75\n",
       "Mezzanine Default              39\n",
       "Tenant Failure                 35\n",
       "Debt yield fall                34\n",
       "Bankruptcy                     29\n",
       "DSCR Fall                      18\n",
       "Operator Termination           17\n",
       "Renovations                    16\n",
       "Sponsor Termination            14\n",
       "Aggregate Debt Yield Fall      11\n",
       "Mezzanine Outstanding          10\n",
       "Mezzanine default               8\n",
       "Aggregate debt yield fall       6\n",
       "Debt Yield Falll                4\n",
       "Aggregate DSCR Fall             2\n",
       "Aggregate debt yield            1\n",
       "Name: Trigger, dtype: int64"
      ]
     },
     "execution_count": 10,
     "metadata": {},
     "output_type": "execute_result"
    }
   ],
   "source": [
    "# Review number of Trigger types\n",
    "raw_df['Trigger'].value_counts()"
   ]
  },
  {
   "cell_type": "code",
   "execution_count": 11,
   "metadata": {},
   "outputs": [],
   "source": [
    "# Convert each category to Title format (to remove discrepancies based on capitalization)\n",
    "raw_df['Trigger'] = raw_df['Trigger'].str.title()"
   ]
  },
  {
   "cell_type": "code",
   "execution_count": 12,
   "metadata": {},
   "outputs": [],
   "source": [
    "raw_df['Trigger'] = raw_df['Trigger'].str.replace('Falll', 'Fall')"
   ]
  },
  {
   "cell_type": "code",
   "execution_count": 13,
   "metadata": {},
   "outputs": [],
   "source": [
    "raw_df.loc[raw_df['Trigger'] == 'Aggregate Debt Yield', 'Trigger'] = 'Aggregate Debt Yield Fall'"
   ]
  },
  {
   "cell_type": "code",
   "execution_count": 14,
   "metadata": {},
   "outputs": [],
   "source": [
    "raw_df['Sentence'] = raw_df['Sentence'].replace({'\\$':''}, regex = True)"
   ]
  },
  {
   "cell_type": "code",
   "execution_count": 15,
   "metadata": {},
   "outputs": [
    {
     "data": {
      "text/plain": [
       "Nontrigger                   1056\n",
       "Loan Default                  327\n",
       "Unspecified                   286\n",
       "Debt Yield Fall               133\n",
       "Mezzanine Default              47\n",
       "Tenant Failure                 35\n",
       "Bankruptcy                     29\n",
       "Dscr Fall                      18\n",
       "Aggregate Debt Yield Fall      18\n",
       "Operator Termination           17\n",
       "Renovations                    16\n",
       "Sponsor Termination            14\n",
       "Mezzanine Outstanding          10\n",
       "Aggregate Dscr Fall             2\n",
       "Name: Trigger, dtype: int64"
      ]
     },
     "execution_count": 15,
     "metadata": {},
     "output_type": "execute_result"
    }
   ],
   "source": [
    "# Review clean Trigger Types\n",
    "raw_df['Trigger'].value_counts()"
   ]
  },
  {
   "cell_type": "code",
   "execution_count": 16,
   "metadata": {},
   "outputs": [],
   "source": [
    "# Rename first column (document title)\n",
    "# raw_df = raw_df.rename(columns = {'0': 'Document'})"
   ]
  },
  {
   "cell_type": "code",
   "execution_count": 17,
   "metadata": {},
   "outputs": [
    {
     "data": {
      "text/html": [
       "<div>\n",
       "<style scoped>\n",
       "    .dataframe tbody tr th:only-of-type {\n",
       "        vertical-align: middle;\n",
       "    }\n",
       "\n",
       "    .dataframe tbody tr th {\n",
       "        vertical-align: top;\n",
       "    }\n",
       "\n",
       "    .dataframe thead th {\n",
       "        text-align: right;\n",
       "    }\n",
       "</style>\n",
       "<table border=\"1\" class=\"dataframe\">\n",
       "  <thead>\n",
       "    <tr style=\"text-align: right;\">\n",
       "      <th></th>\n",
       "      <th>Document</th>\n",
       "      <th>Sentence</th>\n",
       "      <th>Trigger</th>\n",
       "    </tr>\n",
       "  </thead>\n",
       "  <tbody>\n",
       "    <tr>\n",
       "      <th>0</th>\n",
       "      <td>20120828_01Y0R8_Prospectus_CM00000000205875087...</td>\n",
       "      <td>On each Business Day, the financial institutio...</td>\n",
       "      <td>Loan Default</td>\n",
       "    </tr>\n",
       "    <tr>\n",
       "      <th>1</th>\n",
       "      <td>20120828_01Y0R8_Prospectus_CM00000000205875087...</td>\n",
       "      <td>The Borrower has established and is required t...</td>\n",
       "      <td>Aggregate Dscr Fall</td>\n",
       "    </tr>\n",
       "    <tr>\n",
       "      <th>2</th>\n",
       "      <td>20120828_01Y0R8_Prospectus_CM00000000205875087...</td>\n",
       "      <td>The Borrower has established and is required t...</td>\n",
       "      <td>Loan Default</td>\n",
       "    </tr>\n",
       "    <tr>\n",
       "      <th>3</th>\n",
       "      <td>20120828_01Y0R8_Prospectus_CM00000000205875087...</td>\n",
       "      <td>During a Trigger Period or while an event of d...</td>\n",
       "      <td>Loan Default</td>\n",
       "    </tr>\n",
       "    <tr>\n",
       "      <th>4</th>\n",
       "      <td>20120828_01Y0R8_Prospectus_CM00000000205875087...</td>\n",
       "      <td>On any Business Day all amounts on deposit in ...</td>\n",
       "      <td>Loan Default</td>\n",
       "    </tr>\n",
       "  </tbody>\n",
       "</table>\n",
       "</div>"
      ],
      "text/plain": [
       "                                            Document  \\\n",
       "0  20120828_01Y0R8_Prospectus_CM00000000205875087...   \n",
       "1  20120828_01Y0R8_Prospectus_CM00000000205875087...   \n",
       "2  20120828_01Y0R8_Prospectus_CM00000000205875087...   \n",
       "3  20120828_01Y0R8_Prospectus_CM00000000205875087...   \n",
       "4  20120828_01Y0R8_Prospectus_CM00000000205875087...   \n",
       "\n",
       "                                            Sentence              Trigger  \n",
       "0  On each Business Day, the financial institutio...         Loan Default  \n",
       "1  The Borrower has established and is required t...  Aggregate Dscr Fall  \n",
       "2  The Borrower has established and is required t...         Loan Default  \n",
       "3  During a Trigger Period or while an event of d...         Loan Default  \n",
       "4  On any Business Day all amounts on deposit in ...         Loan Default  "
      ]
     },
     "execution_count": 17,
     "metadata": {},
     "output_type": "execute_result"
    }
   ],
   "source": [
    "# Drop Multiclass column for now \n",
    "raw_df = raw_df.drop('Multiclass', axis = 1)\n",
    "raw_df.head()"
   ]
  },
  {
   "cell_type": "code",
   "execution_count": 18,
   "metadata": {},
   "outputs": [
    {
     "data": {
      "text/plain": [
       "(2008, 3)"
      ]
     },
     "execution_count": 18,
     "metadata": {},
     "output_type": "execute_result"
    }
   ],
   "source": [
    "raw_df.shape"
   ]
  },
  {
   "cell_type": "code",
   "execution_count": 19,
   "metadata": {},
   "outputs": [
    {
     "name": "stdout",
     "output_type": "stream",
     "text": [
      "22 unique documents have been included in the data set\n"
     ]
    }
   ],
   "source": [
    "# Count the number of distinct documents\n",
    "num_docs = raw_df['Document'].nunique()\n",
    "print(f'{num_docs} unique documents have been included in the data set')"
   ]
  },
  {
   "cell_type": "code",
   "execution_count": 20,
   "metadata": {
    "scrolled": true
   },
   "outputs": [
    {
     "data": {
      "text/plain": [
       "20181231_02IEP9_Prospectus_SD000000002568455603.pdf    176\n",
       "20190220_02IPLU_Prospectus_SD000000002587491183.pdf    138\n",
       "20190220_02IUQ7_Prospectus_SD000000002587520085.pdf    135\n",
       "20160510_02B0XU_Prospectus_SD000000002312723382.pdf    125\n",
       "20190108_02IFF1_Prospectus_SD000000002570458466.pdf    118\n",
       "20190131_02IFCW_Prospectus_SD000000002578232050.pdf    114\n",
       "20190131_02IFDN_Prospectus_SD000000002578234912.pdf    112\n",
       "20190131_02IFE7_Prospectus_SD000000002578234792.pdf    111\n",
       "20190208_02IM7M_Prospectus_SD000000002581684036.pdf    109\n",
       "20190205_02IJ77_Prospectus_SD000000002579874729.pdf     99\n",
       "20170616_02DNAM_Prospectus_SD000000002355931744.pdf     84\n",
       "20180125_02FE6L_Prospectus_SD000000002394837596.pdf     82\n",
       "20170814_02E227_Prospectus_SD000000002367167139.pdf     82\n",
       "20170727_02DTVX_Prospectus_SD000000002362015714.pdf     75\n",
       "20170525_02DG4Z_Prospectus_SD000000002352418696.pdf     75\n",
       "20170525_02DFUI_Prospectus_SD000000002352389122.pdf     68\n",
       "20120828_01Y0R8_Prospectus_CM000000002058750876.pdf     66\n",
       "20170801_02DX5C_Prospectus_SD000000002363000910.pdf     65\n",
       "20150307_028S2X_Prospectus_SD000000002389024187.pdf     56\n",
       "20171019_02EFSE_Prospectus_SD000000002376978886.pdf     49\n",
       "20190220_02IUQG_Prospectus_SD000000002587491537.pdf     44\n",
       "20160310_02AQCW_Prospectus_SD0000000-2003264558.pdf     25\n",
       "Name: Document, dtype: int64"
      ]
     },
     "execution_count": 20,
     "metadata": {},
     "output_type": "execute_result"
    }
   ],
   "source": [
    "# Review the distinct documents and the number of Trigger events identified for each\n",
    "raw_df['Document'].value_counts()"
   ]
  },
  {
   "cell_type": "code",
   "execution_count": 21,
   "metadata": {},
   "outputs": [
    {
     "name": "stdout",
     "output_type": "stream",
     "text": [
      "The 22 Documents have tag counts that range from 25 to 176.\n"
     ]
    }
   ],
   "source": [
    "# Summarize the trigger counts for the existing Document set\n",
    "max_triggers = raw_df['Document'].value_counts().max()\n",
    "min_triggers = raw_df['Document'].value_counts().min()\n",
    "print(f'The {num_docs} Documents have tag counts that range from {min_triggers} to {max_triggers}.')"
   ]
  },
  {
   "cell_type": "code",
   "execution_count": 22,
   "metadata": {},
   "outputs": [
    {
     "data": {
      "text/plain": [
       "False    1937\n",
       "True       71\n",
       "Name: is_duplicate, dtype: int64"
      ]
     },
     "execution_count": 22,
     "metadata": {},
     "output_type": "execute_result"
    }
   ],
   "source": [
    "# Check for duplicate rows\n",
    "raw_df['is_duplicate'] = raw_df.duplicated(subset = None)\n",
    "raw_df['is_duplicate'].value_counts()"
   ]
  },
  {
   "cell_type": "code",
   "execution_count": 23,
   "metadata": {},
   "outputs": [
    {
     "name": "stdout",
     "output_type": "stream",
     "text": [
      "There are 71 row duplicates in the data set.\n"
     ]
    }
   ],
   "source": [
    "num_duplicated_rows = (raw_df['is_duplicate'] == True).sum()\n",
    "print(f'There are {num_duplicated_rows} row duplicates in the data set.')"
   ]
  },
  {
   "cell_type": "code",
   "execution_count": 24,
   "metadata": {},
   "outputs": [],
   "source": [
    "# We'll remove the extra duplicate rows\n",
    "raw_df = raw_df.drop('is_duplicate', axis = 1)\n",
    "raw_df = raw_df.drop_duplicates()"
   ]
  },
  {
   "cell_type": "code",
   "execution_count": 25,
   "metadata": {},
   "outputs": [
    {
     "data": {
      "text/plain": [
       "(1937, 3)"
      ]
     },
     "execution_count": 25,
     "metadata": {},
     "output_type": "execute_result"
    }
   ],
   "source": [
    "raw_df.shape"
   ]
  },
  {
   "cell_type": "code",
   "execution_count": 26,
   "metadata": {},
   "outputs": [
    {
     "data": {
      "text/html": [
       "<div>\n",
       "<style scoped>\n",
       "    .dataframe tbody tr th:only-of-type {\n",
       "        vertical-align: middle;\n",
       "    }\n",
       "\n",
       "    .dataframe tbody tr th {\n",
       "        vertical-align: top;\n",
       "    }\n",
       "\n",
       "    .dataframe thead th {\n",
       "        text-align: right;\n",
       "    }\n",
       "</style>\n",
       "<table border=\"1\" class=\"dataframe\">\n",
       "  <thead>\n",
       "    <tr style=\"text-align: right;\">\n",
       "      <th></th>\n",
       "      <th>Document</th>\n",
       "      <th>Sentence</th>\n",
       "      <th>Trigger</th>\n",
       "    </tr>\n",
       "  </thead>\n",
       "  <tbody>\n",
       "    <tr>\n",
       "      <th>0</th>\n",
       "      <td>20120828_01Y0R8_Prospectus_CM00000000205875087...</td>\n",
       "      <td>On each Business Day, the financial institutio...</td>\n",
       "      <td>Loan Default</td>\n",
       "    </tr>\n",
       "    <tr>\n",
       "      <th>1</th>\n",
       "      <td>20120828_01Y0R8_Prospectus_CM00000000205875087...</td>\n",
       "      <td>The Borrower has established and is required t...</td>\n",
       "      <td>Aggregate Dscr Fall</td>\n",
       "    </tr>\n",
       "    <tr>\n",
       "      <th>2</th>\n",
       "      <td>20120828_01Y0R8_Prospectus_CM00000000205875087...</td>\n",
       "      <td>The Borrower has established and is required t...</td>\n",
       "      <td>Loan Default</td>\n",
       "    </tr>\n",
       "    <tr>\n",
       "      <th>3</th>\n",
       "      <td>20120828_01Y0R8_Prospectus_CM00000000205875087...</td>\n",
       "      <td>During a Trigger Period or while an event of d...</td>\n",
       "      <td>Loan Default</td>\n",
       "    </tr>\n",
       "    <tr>\n",
       "      <th>4</th>\n",
       "      <td>20120828_01Y0R8_Prospectus_CM00000000205875087...</td>\n",
       "      <td>On any Business Day all amounts on deposit in ...</td>\n",
       "      <td>Loan Default</td>\n",
       "    </tr>\n",
       "  </tbody>\n",
       "</table>\n",
       "</div>"
      ],
      "text/plain": [
       "                                            Document  \\\n",
       "0  20120828_01Y0R8_Prospectus_CM00000000205875087...   \n",
       "1  20120828_01Y0R8_Prospectus_CM00000000205875087...   \n",
       "2  20120828_01Y0R8_Prospectus_CM00000000205875087...   \n",
       "3  20120828_01Y0R8_Prospectus_CM00000000205875087...   \n",
       "4  20120828_01Y0R8_Prospectus_CM00000000205875087...   \n",
       "\n",
       "                                            Sentence              Trigger  \n",
       "0  On each Business Day, the financial institutio...         Loan Default  \n",
       "1  The Borrower has established and is required t...  Aggregate Dscr Fall  \n",
       "2  The Borrower has established and is required t...         Loan Default  \n",
       "3  During a Trigger Period or while an event of d...         Loan Default  \n",
       "4  On any Business Day all amounts on deposit in ...         Loan Default  "
      ]
     },
     "execution_count": 26,
     "metadata": {},
     "output_type": "execute_result"
    }
   ],
   "source": [
    "raw_df.head()"
   ]
  },
  {
   "cell_type": "code",
   "execution_count": 27,
   "metadata": {},
   "outputs": [
    {
     "data": {
      "text/plain": [
       "Nontrigger                   1030\n",
       "Loan Default                  317\n",
       "Unspecified                   277\n",
       "Debt Yield Fall               119\n",
       "Mezzanine Default              43\n",
       "Tenant Failure                 35\n",
       "Bankruptcy                     26\n",
       "Aggregate Debt Yield Fall      18\n",
       "Dscr Fall                      17\n",
       "Renovations                    16\n",
       "Operator Termination           15\n",
       "Sponsor Termination            14\n",
       "Mezzanine Outstanding           8\n",
       "Aggregate Dscr Fall             2\n",
       "Name: Trigger, dtype: int64"
      ]
     },
     "execution_count": 27,
     "metadata": {},
     "output_type": "execute_result"
    }
   ],
   "source": [
    "# Review new number of Trigger types\n",
    "raw_df['Trigger'].value_counts()"
   ]
  },
  {
   "cell_type": "code",
   "execution_count": 28,
   "metadata": {},
   "outputs": [
    {
     "data": {
      "image/png": "[encoded data removed]",
      "text/plain": [
       "<Figure size 576x576 with 1 Axes>"
      ]
     },
     "metadata": {
      "needs_background": "light"
     },
     "output_type": "display_data"
    }
   ],
   "source": [
    "trigger_order = raw_df['Trigger'].value_counts().sort_values(ascending = False).index\n",
    "\n",
    "fig = plt.gcf()\n",
    "fig.set_size_inches(8, 8)\n",
    "ax = sns.countplot(y=raw_df['Trigger'], data=raw_df, orient = 'h', order = trigger_order)\n",
    "ax.set_title('Number of Trigger Types');\n",
    "\n",
    "for p in ax.patches:\n",
    "    ax.annotate(int(p.get_width()),((p.get_x() + p.get_width()), p.get_y()), xytext=(17, -15),fontsize=9,textcoords='offset points', horizontalalignment='right')\n",
    "    \n",
    "#https://stackoverflow.com/questions/50190409/how-to-annotate-horizontal-seaborn-countplots"
   ]
  },
  {
   "cell_type": "code",
   "execution_count": 29,
   "metadata": {},
   "outputs": [
    {
     "data": {
      "text/plain": [
       "20181231_02IEP9_Prospectus_SD000000002568455603.pdf    176\n",
       "20190220_02IPLU_Prospectus_SD000000002587491183.pdf    133\n",
       "20190220_02IUQ7_Prospectus_SD000000002587520085.pdf    130\n",
       "20160510_02B0XU_Prospectus_SD000000002312723382.pdf    117\n",
       "20190131_02IFCW_Prospectus_SD000000002578232050.pdf    114\n",
       "20190131_02IFDN_Prospectus_SD000000002578234912.pdf    112\n",
       "20190131_02IFE7_Prospectus_SD000000002578234792.pdf    111\n",
       "20190108_02IFF1_Prospectus_SD000000002570458466.pdf    109\n",
       "20190208_02IM7M_Prospectus_SD000000002581684036.pdf    109\n",
       "20190205_02IJ77_Prospectus_SD000000002579874729.pdf     99\n",
       "20170616_02DNAM_Prospectus_SD000000002355931744.pdf     84\n",
       "20170814_02E227_Prospectus_SD000000002367167139.pdf     77\n",
       "20180125_02FE6L_Prospectus_SD000000002394837596.pdf     71\n",
       "20170727_02DTVX_Prospectus_SD000000002362015714.pdf     69\n",
       "20170525_02DG4Z_Prospectus_SD000000002352418696.pdf     67\n",
       "20170801_02DX5C_Prospectus_SD000000002363000910.pdf     64\n",
       "20120828_01Y0R8_Prospectus_CM000000002058750876.pdf     63\n",
       "20170525_02DFUI_Prospectus_SD000000002352389122.pdf     62\n",
       "20150307_028S2X_Prospectus_SD000000002389024187.pdf     56\n",
       "20171019_02EFSE_Prospectus_SD000000002376978886.pdf     49\n",
       "20190220_02IUQG_Prospectus_SD000000002587491537.pdf     40\n",
       "20160310_02AQCW_Prospectus_SD0000000-2003264558.pdf     25\n",
       "Name: Document, dtype: int64"
      ]
     },
     "execution_count": 29,
     "metadata": {},
     "output_type": "execute_result"
    }
   ],
   "source": [
    "# Review new distinct documents and the number of Trigger events identified for each\n",
    "raw_df['Document'].value_counts()"
   ]
  },
  {
   "cell_type": "code",
   "execution_count": 30,
   "metadata": {},
   "outputs": [
    {
     "data": {
      "text/plain": [
       "Document    object\n",
       "Sentence    object\n",
       "Trigger     object\n",
       "dtype: object"
      ]
     },
     "execution_count": 30,
     "metadata": {},
     "output_type": "execute_result"
    }
   ],
   "source": [
    "raw_df.dtypes"
   ]
  },
  {
   "cell_type": "markdown",
   "metadata": {},
   "source": [
    "## Reshape the Data"
   ]
  },
  {
   "cell_type": "markdown",
   "metadata": {},
   "source": [
    "In this section, we'll reshape the data, such that each sentence is represented once, with separate categorization columns for each Trigger type"
   ]
  },
  {
   "cell_type": "code",
   "execution_count": 31,
   "metadata": {},
   "outputs": [],
   "source": [
    "# function to reshape the dataframe such that the triggers are 0/1 columns. Remove duplicates\n",
    "def reshape_trigger_representation(dataframe):\n",
    "    # select trigger types\n",
    "    trigger_types = list(dataframe['Trigger'].unique())\n",
    "    trigger_types = [x for x in trigger_types if str(x) != 'nan']\n",
    "    \n",
    "    # create new dataframe with unique document-sentence pairs (no duplicates)\n",
    "    reshaped = dataframe.drop('Trigger', axis = 1).drop_duplicates().reset_index().drop('index', axis = 1)\n",
    "    \n",
    "    # select rows by trigger, reassign as 1 or 0 (for True or False)\n",
    "    for tt in trigger_types:\n",
    "        # select part that is trigger_type\n",
    "        temp = dataframe.loc[dataframe['Trigger'] == tt].copy()\n",
    "\n",
    "        # create a new column of true with trigger name\n",
    "        temp[tt.lower().replace(' ', '_')] = np.int64(1)\n",
    "        temp.drop('Trigger', axis=1, inplace=True)\n",
    "        temp[tt.lower().replace(' ', '_')] = temp[tt.lower().replace(' ', '_')].astype('Int64')\n",
    "        \n",
    "        # left join this adjusted column to the unique data\n",
    "        reshaped = reshaped.merge(temp, how='left', left_on=['Document', 'Sentence'], right_on=['Document', 'Sentence'])\n",
    "\n",
    "    # replace nulls with False\n",
    "    reshaped = reshaped.fillna(0)    \n",
    "    \n",
    "    return reshaped"
   ]
  },
  {
   "cell_type": "code",
   "execution_count": 32,
   "metadata": {},
   "outputs": [],
   "source": [
    "# Reshape our original dataframe\n",
    "df = reshape_trigger_representation(raw_df)"
   ]
  },
  {
   "cell_type": "code",
   "execution_count": 33,
   "metadata": {},
   "outputs": [
    {
     "data": {
      "text/html": [
       "<div>\n",
       "<style scoped>\n",
       "    .dataframe tbody tr th:only-of-type {\n",
       "        vertical-align: middle;\n",
       "    }\n",
       "\n",
       "    .dataframe tbody tr th {\n",
       "        vertical-align: top;\n",
       "    }\n",
       "\n",
       "    .dataframe thead th {\n",
       "        text-align: right;\n",
       "    }\n",
       "</style>\n",
       "<table border=\"1\" class=\"dataframe\">\n",
       "  <thead>\n",
       "    <tr style=\"text-align: right;\">\n",
       "      <th></th>\n",
       "      <th>Document</th>\n",
       "      <th>Sentence</th>\n",
       "      <th>loan_default</th>\n",
       "      <th>aggregate_dscr_fall</th>\n",
       "      <th>dscr_fall</th>\n",
       "      <th>unspecified</th>\n",
       "      <th>debt_yield_fall</th>\n",
       "      <th>aggregate_debt_yield_fall</th>\n",
       "      <th>mezzanine_default</th>\n",
       "      <th>tenant_failure</th>\n",
       "      <th>mezzanine_outstanding</th>\n",
       "      <th>operator_termination</th>\n",
       "      <th>bankruptcy</th>\n",
       "      <th>sponsor_termination</th>\n",
       "      <th>renovations</th>\n",
       "      <th>nontrigger</th>\n",
       "    </tr>\n",
       "  </thead>\n",
       "  <tbody>\n",
       "    <tr>\n",
       "      <th>0</th>\n",
       "      <td>20120828_01Y0R8_Prospectus_CM00000000205875087...</td>\n",
       "      <td>On each Business Day, the financial institutio...</td>\n",
       "      <td>1</td>\n",
       "      <td>0</td>\n",
       "      <td>0</td>\n",
       "      <td>0</td>\n",
       "      <td>0</td>\n",
       "      <td>0</td>\n",
       "      <td>0</td>\n",
       "      <td>0</td>\n",
       "      <td>0</td>\n",
       "      <td>0</td>\n",
       "      <td>0</td>\n",
       "      <td>0</td>\n",
       "      <td>0</td>\n",
       "      <td>0</td>\n",
       "    </tr>\n",
       "    <tr>\n",
       "      <th>1</th>\n",
       "      <td>20120828_01Y0R8_Prospectus_CM00000000205875087...</td>\n",
       "      <td>The Borrower has established and is required t...</td>\n",
       "      <td>1</td>\n",
       "      <td>1</td>\n",
       "      <td>0</td>\n",
       "      <td>0</td>\n",
       "      <td>0</td>\n",
       "      <td>0</td>\n",
       "      <td>0</td>\n",
       "      <td>0</td>\n",
       "      <td>0</td>\n",
       "      <td>0</td>\n",
       "      <td>0</td>\n",
       "      <td>0</td>\n",
       "      <td>0</td>\n",
       "      <td>0</td>\n",
       "    </tr>\n",
       "    <tr>\n",
       "      <th>2</th>\n",
       "      <td>20120828_01Y0R8_Prospectus_CM00000000205875087...</td>\n",
       "      <td>During a Trigger Period or while an event of d...</td>\n",
       "      <td>1</td>\n",
       "      <td>0</td>\n",
       "      <td>0</td>\n",
       "      <td>0</td>\n",
       "      <td>0</td>\n",
       "      <td>0</td>\n",
       "      <td>0</td>\n",
       "      <td>0</td>\n",
       "      <td>0</td>\n",
       "      <td>0</td>\n",
       "      <td>0</td>\n",
       "      <td>0</td>\n",
       "      <td>0</td>\n",
       "      <td>0</td>\n",
       "    </tr>\n",
       "    <tr>\n",
       "      <th>3</th>\n",
       "      <td>20120828_01Y0R8_Prospectus_CM00000000205875087...</td>\n",
       "      <td>On any Business Day all amounts on deposit in ...</td>\n",
       "      <td>1</td>\n",
       "      <td>0</td>\n",
       "      <td>0</td>\n",
       "      <td>0</td>\n",
       "      <td>0</td>\n",
       "      <td>0</td>\n",
       "      <td>0</td>\n",
       "      <td>0</td>\n",
       "      <td>0</td>\n",
       "      <td>0</td>\n",
       "      <td>0</td>\n",
       "      <td>0</td>\n",
       "      <td>0</td>\n",
       "      <td>0</td>\n",
       "    </tr>\n",
       "    <tr>\n",
       "      <th>4</th>\n",
       "      <td>20120828_01Y0R8_Prospectus_CM00000000205875087...</td>\n",
       "      <td>Available funds in each Cash Management Accoun...</td>\n",
       "      <td>1</td>\n",
       "      <td>0</td>\n",
       "      <td>0</td>\n",
       "      <td>0</td>\n",
       "      <td>0</td>\n",
       "      <td>0</td>\n",
       "      <td>0</td>\n",
       "      <td>0</td>\n",
       "      <td>0</td>\n",
       "      <td>0</td>\n",
       "      <td>0</td>\n",
       "      <td>0</td>\n",
       "      <td>0</td>\n",
       "      <td>0</td>\n",
       "    </tr>\n",
       "  </tbody>\n",
       "</table>\n",
       "</div>"
      ],
      "text/plain": [
       "                                            Document  \\\n",
       "0  20120828_01Y0R8_Prospectus_CM00000000205875087...   \n",
       "1  20120828_01Y0R8_Prospectus_CM00000000205875087...   \n",
       "2  20120828_01Y0R8_Prospectus_CM00000000205875087...   \n",
       "3  20120828_01Y0R8_Prospectus_CM00000000205875087...   \n",
       "4  20120828_01Y0R8_Prospectus_CM00000000205875087...   \n",
       "\n",
       "                                            Sentence  loan_default  \\\n",
       "0  On each Business Day, the financial institutio...             1   \n",
       "1  The Borrower has established and is required t...             1   \n",
       "2  During a Trigger Period or while an event of d...             1   \n",
       "3  On any Business Day all amounts on deposit in ...             1   \n",
       "4  Available funds in each Cash Management Accoun...             1   \n",
       "\n",
       "   aggregate_dscr_fall  dscr_fall  unspecified  debt_yield_fall  \\\n",
       "0                    0          0            0                0   \n",
       "1                    1          0            0                0   \n",
       "2                    0          0            0                0   \n",
       "3                    0          0            0                0   \n",
       "4                    0          0            0                0   \n",
       "\n",
       "   aggregate_debt_yield_fall  mezzanine_default  tenant_failure  \\\n",
       "0                          0                  0               0   \n",
       "1                          0                  0               0   \n",
       "2                          0                  0               0   \n",
       "3                          0                  0               0   \n",
       "4                          0                  0               0   \n",
       "\n",
       "   mezzanine_outstanding  operator_termination  bankruptcy  \\\n",
       "0                      0                     0           0   \n",
       "1                      0                     0           0   \n",
       "2                      0                     0           0   \n",
       "3                      0                     0           0   \n",
       "4                      0                     0           0   \n",
       "\n",
       "   sponsor_termination  renovations  nontrigger  \n",
       "0                    0            0           0  \n",
       "1                    0            0           0  \n",
       "2                    0            0           0  \n",
       "3                    0            0           0  \n",
       "4                    0            0           0  "
      ]
     },
     "execution_count": 33,
     "metadata": {},
     "output_type": "execute_result"
    }
   ],
   "source": [
    "df.head(5)"
   ]
  },
  {
   "cell_type": "code",
   "execution_count": 34,
   "metadata": {},
   "outputs": [],
   "source": [
    "# Export reshaped to CSV file\n",
    "# df.to_csv('../data/reshaped_06_02_20.csv')"
   ]
  },
  {
   "cell_type": "code",
   "execution_count": 35,
   "metadata": {},
   "outputs": [
    {
     "data": {
      "text/plain": [
       "Document                     object\n",
       "Sentence                     object\n",
       "loan_default                  Int64\n",
       "aggregate_dscr_fall           Int64\n",
       "dscr_fall                     Int64\n",
       "unspecified                   Int64\n",
       "debt_yield_fall               Int64\n",
       "aggregate_debt_yield_fall     Int64\n",
       "mezzanine_default             Int64\n",
       "tenant_failure                Int64\n",
       "mezzanine_outstanding         Int64\n",
       "operator_termination          Int64\n",
       "bankruptcy                    Int64\n",
       "sponsor_termination           Int64\n",
       "renovations                   Int64\n",
       "nontrigger                    Int64\n",
       "dtype: object"
      ]
     },
     "execution_count": 35,
     "metadata": {},
     "output_type": "execute_result"
    }
   ],
   "source": [
    "df.dtypes"
   ]
  },
  {
   "cell_type": "code",
   "execution_count": 36,
   "metadata": {},
   "outputs": [
    {
     "data": {
      "text/plain": [
       "(1760, 16)"
      ]
     },
     "execution_count": 36,
     "metadata": {},
     "output_type": "execute_result"
    }
   ],
   "source": [
    "df.shape"
   ]
  },
  {
   "cell_type": "code",
   "execution_count": 37,
   "metadata": {},
   "outputs": [
    {
     "data": {
      "text/plain": [
       "Document                     20120828_01Y0R8_Prospectus_CM00000000205875087...\n",
       "Sentence                     On each Business Day, the financial institutio...\n",
       "loan_default                                                               317\n",
       "aggregate_dscr_fall                                                          2\n",
       "dscr_fall                                                                   17\n",
       "unspecified                                                                277\n",
       "debt_yield_fall                                                            119\n",
       "aggregate_debt_yield_fall                                                   18\n",
       "mezzanine_default                                                           43\n",
       "tenant_failure                                                              35\n",
       "mezzanine_outstanding                                                        8\n",
       "operator_termination                                                        15\n",
       "bankruptcy                                                                  26\n",
       "sponsor_termination                                                         14\n",
       "renovations                                                                 16\n",
       "nontrigger                                                                1030\n",
       "dtype: object"
      ]
     },
     "execution_count": 37,
     "metadata": {},
     "output_type": "execute_result"
    }
   ],
   "source": [
    "# We can confirm that the number of Triggers is consistent with the prior dataframe\n",
    "df.sum()"
   ]
  },
  {
   "cell_type": "code",
   "execution_count": null,
   "metadata": {},
   "outputs": [],
   "source": []
  },
  {
   "cell_type": "markdown",
   "metadata": {},
   "source": [
    "## Feature Engineering"
   ]
  },
  {
   "cell_type": "code",
   "execution_count": 38,
   "metadata": {},
   "outputs": [],
   "source": [
    "# Create a column with length of Sentence\n",
    "df['sentence_char_count'] = df['Sentence'].str.len()"
   ]
  },
  {
   "cell_type": "code",
   "execution_count": null,
   "metadata": {},
   "outputs": [],
   "source": []
  },
  {
   "cell_type": "code",
   "execution_count": 39,
   "metadata": {},
   "outputs": [
    {
     "data": {
      "text/html": [
       "<div>\n",
       "<style scoped>\n",
       "    .dataframe tbody tr th:only-of-type {\n",
       "        vertical-align: middle;\n",
       "    }\n",
       "\n",
       "    .dataframe tbody tr th {\n",
       "        vertical-align: top;\n",
       "    }\n",
       "\n",
       "    .dataframe thead th {\n",
       "        text-align: right;\n",
       "    }\n",
       "</style>\n",
       "<table border=\"1\" class=\"dataframe\">\n",
       "  <thead>\n",
       "    <tr style=\"text-align: right;\">\n",
       "      <th></th>\n",
       "      <th>Document</th>\n",
       "      <th>Sentence</th>\n",
       "      <th>loan_default</th>\n",
       "      <th>aggregate_dscr_fall</th>\n",
       "      <th>dscr_fall</th>\n",
       "      <th>unspecified</th>\n",
       "      <th>debt_yield_fall</th>\n",
       "      <th>aggregate_debt_yield_fall</th>\n",
       "      <th>mezzanine_default</th>\n",
       "      <th>tenant_failure</th>\n",
       "      <th>mezzanine_outstanding</th>\n",
       "      <th>operator_termination</th>\n",
       "      <th>bankruptcy</th>\n",
       "      <th>sponsor_termination</th>\n",
       "      <th>renovations</th>\n",
       "      <th>nontrigger</th>\n",
       "      <th>sentence_char_count</th>\n",
       "    </tr>\n",
       "  </thead>\n",
       "  <tbody>\n",
       "    <tr>\n",
       "      <th>0</th>\n",
       "      <td>20120828_01Y0R8_Prospectus_CM00000000205875087...</td>\n",
       "      <td>On each Business Day, the financial institutio...</td>\n",
       "      <td>1</td>\n",
       "      <td>0</td>\n",
       "      <td>0</td>\n",
       "      <td>0</td>\n",
       "      <td>0</td>\n",
       "      <td>0</td>\n",
       "      <td>0</td>\n",
       "      <td>0</td>\n",
       "      <td>0</td>\n",
       "      <td>0</td>\n",
       "      <td>0</td>\n",
       "      <td>0</td>\n",
       "      <td>0</td>\n",
       "      <td>0</td>\n",
       "      <td>446</td>\n",
       "    </tr>\n",
       "    <tr>\n",
       "      <th>1</th>\n",
       "      <td>20120828_01Y0R8_Prospectus_CM00000000205875087...</td>\n",
       "      <td>The Borrower has established and is required t...</td>\n",
       "      <td>1</td>\n",
       "      <td>1</td>\n",
       "      <td>0</td>\n",
       "      <td>0</td>\n",
       "      <td>0</td>\n",
       "      <td>0</td>\n",
       "      <td>0</td>\n",
       "      <td>0</td>\n",
       "      <td>0</td>\n",
       "      <td>0</td>\n",
       "      <td>0</td>\n",
       "      <td>0</td>\n",
       "      <td>0</td>\n",
       "      <td>0</td>\n",
       "      <td>837</td>\n",
       "    </tr>\n",
       "    <tr>\n",
       "      <th>2</th>\n",
       "      <td>20120828_01Y0R8_Prospectus_CM00000000205875087...</td>\n",
       "      <td>During a Trigger Period or while an event of d...</td>\n",
       "      <td>1</td>\n",
       "      <td>0</td>\n",
       "      <td>0</td>\n",
       "      <td>0</td>\n",
       "      <td>0</td>\n",
       "      <td>0</td>\n",
       "      <td>0</td>\n",
       "      <td>0</td>\n",
       "      <td>0</td>\n",
       "      <td>0</td>\n",
       "      <td>0</td>\n",
       "      <td>0</td>\n",
       "      <td>0</td>\n",
       "      <td>0</td>\n",
       "      <td>1766</td>\n",
       "    </tr>\n",
       "    <tr>\n",
       "      <th>3</th>\n",
       "      <td>20120828_01Y0R8_Prospectus_CM00000000205875087...</td>\n",
       "      <td>On any Business Day all amounts on deposit in ...</td>\n",
       "      <td>1</td>\n",
       "      <td>0</td>\n",
       "      <td>0</td>\n",
       "      <td>0</td>\n",
       "      <td>0</td>\n",
       "      <td>0</td>\n",
       "      <td>0</td>\n",
       "      <td>0</td>\n",
       "      <td>0</td>\n",
       "      <td>0</td>\n",
       "      <td>0</td>\n",
       "      <td>0</td>\n",
       "      <td>0</td>\n",
       "      <td>0</td>\n",
       "      <td>302</td>\n",
       "    </tr>\n",
       "    <tr>\n",
       "      <th>4</th>\n",
       "      <td>20120828_01Y0R8_Prospectus_CM00000000205875087...</td>\n",
       "      <td>Available funds in each Cash Management Accoun...</td>\n",
       "      <td>1</td>\n",
       "      <td>0</td>\n",
       "      <td>0</td>\n",
       "      <td>0</td>\n",
       "      <td>0</td>\n",
       "      <td>0</td>\n",
       "      <td>0</td>\n",
       "      <td>0</td>\n",
       "      <td>0</td>\n",
       "      <td>0</td>\n",
       "      <td>0</td>\n",
       "      <td>0</td>\n",
       "      <td>0</td>\n",
       "      <td>0</td>\n",
       "      <td>235</td>\n",
       "    </tr>\n",
       "  </tbody>\n",
       "</table>\n",
       "</div>"
      ],
      "text/plain": [
       "                                            Document  \\\n",
       "0  20120828_01Y0R8_Prospectus_CM00000000205875087...   \n",
       "1  20120828_01Y0R8_Prospectus_CM00000000205875087...   \n",
       "2  20120828_01Y0R8_Prospectus_CM00000000205875087...   \n",
       "3  20120828_01Y0R8_Prospectus_CM00000000205875087...   \n",
       "4  20120828_01Y0R8_Prospectus_CM00000000205875087...   \n",
       "\n",
       "                                            Sentence  loan_default  \\\n",
       "0  On each Business Day, the financial institutio...             1   \n",
       "1  The Borrower has established and is required t...             1   \n",
       "2  During a Trigger Period or while an event of d...             1   \n",
       "3  On any Business Day all amounts on deposit in ...             1   \n",
       "4  Available funds in each Cash Management Accoun...             1   \n",
       "\n",
       "   aggregate_dscr_fall  dscr_fall  unspecified  debt_yield_fall  \\\n",
       "0                    0          0            0                0   \n",
       "1                    1          0            0                0   \n",
       "2                    0          0            0                0   \n",
       "3                    0          0            0                0   \n",
       "4                    0          0            0                0   \n",
       "\n",
       "   aggregate_debt_yield_fall  mezzanine_default  tenant_failure  \\\n",
       "0                          0                  0               0   \n",
       "1                          0                  0               0   \n",
       "2                          0                  0               0   \n",
       "3                          0                  0               0   \n",
       "4                          0                  0               0   \n",
       "\n",
       "   mezzanine_outstanding  operator_termination  bankruptcy  \\\n",
       "0                      0                     0           0   \n",
       "1                      0                     0           0   \n",
       "2                      0                     0           0   \n",
       "3                      0                     0           0   \n",
       "4                      0                     0           0   \n",
       "\n",
       "   sponsor_termination  renovations  nontrigger  sentence_char_count  \n",
       "0                    0            0           0                  446  \n",
       "1                    0            0           0                  837  \n",
       "2                    0            0           0                 1766  \n",
       "3                    0            0           0                  302  \n",
       "4                    0            0           0                  235  "
      ]
     },
     "execution_count": 39,
     "metadata": {},
     "output_type": "execute_result"
    }
   ],
   "source": [
    "df.head()"
   ]
  },
  {
   "cell_type": "code",
   "execution_count": null,
   "metadata": {},
   "outputs": [],
   "source": []
  },
  {
   "cell_type": "code",
   "execution_count": null,
   "metadata": {},
   "outputs": [],
   "source": []
  },
  {
   "cell_type": "markdown",
   "metadata": {},
   "source": [
    "## Natural Language Processing of the sentence column"
   ]
  },
  {
   "cell_type": "code",
   "execution_count": 40,
   "metadata": {},
   "outputs": [],
   "source": [
    "nlp = spacy.load('en_core_web_sm', disable = ['ner', 'parser'])"
   ]
  },
  {
   "cell_type": "code",
   "execution_count": 41,
   "metadata": {},
   "outputs": [
    {
     "data": {
      "text/plain": [
       "['During',\n",
       " 'a',\n",
       " 'Trigger',\n",
       " 'Period',\n",
       " 'or',\n",
       " 'while',\n",
       " 'an',\n",
       " 'event',\n",
       " 'of',\n",
       " 'default',\n",
       " 'under',\n",
       " 'the',\n",
       " 'Mortgage',\n",
       " 'Loan',\n",
       " 'is',\n",
       " 'continuing',\n",
       " ',',\n",
       " 'all',\n",
       " 'amounts',\n",
       " 'available',\n",
       " 'in',\n",
       " 'the',\n",
       " 'Cash',\n",
       " 'Management',\n",
       " 'Account',\n",
       " 'will',\n",
       " 'be',\n",
       " 'applied',\n",
       " 'on',\n",
       " 'each',\n",
       " 'Loan',\n",
       " 'Payment',\n",
       " 'Date',\n",
       " 'in',\n",
       " 'the',\n",
       " 'following',\n",
       " 'order',\n",
       " 'of',\n",
       " 'priority',\n",
       " ':',\n",
       " '(',\n",
       " 'i',\n",
       " ')',\n",
       " 'to',\n",
       " 'the',\n",
       " 'Tax',\n",
       " 'and',\n",
       " 'Insurance',\n",
       " 'Reserve',\n",
       " 'Account',\n",
       " ',',\n",
       " '(',\n",
       " 'a',\n",
       " ')',\n",
       " '1/12th',\n",
       " 'of',\n",
       " 'projected',\n",
       " 'annual',\n",
       " 'taxes',\n",
       " 'and',\n",
       " '(',\n",
       " 'b',\n",
       " ')',\n",
       " '1/12th',\n",
       " 'of',\n",
       " 'projected',\n",
       " 'annual',\n",
       " 'insurance',\n",
       " 'premiums',\n",
       " '(',\n",
       " 'unless',\n",
       " 'certain',\n",
       " 'blanket',\n",
       " 'policies',\n",
       " 'are',\n",
       " 'in',\n",
       " 'effect',\n",
       " ')',\n",
       " ',',\n",
       " '(',\n",
       " 'ii',\n",
       " ')',\n",
       " 'to',\n",
       " 'the',\n",
       " 'lender',\n",
       " ',',\n",
       " 'the',\n",
       " 'amount',\n",
       " 'of',\n",
       " 'all',\n",
       " 'scheduled',\n",
       " 'or',\n",
       " 'delinquent',\n",
       " 'interest',\n",
       " 'and',\n",
       " 'principal',\n",
       " 'on',\n",
       " 'the',\n",
       " 'Mortgage',\n",
       " 'Loan',\n",
       " 'and',\n",
       " 'all',\n",
       " 'other',\n",
       " 'amounts',\n",
       " 'then',\n",
       " 'due',\n",
       " 'and',\n",
       " 'payable',\n",
       " 'under',\n",
       " 'the',\n",
       " 'Loan',\n",
       " 'Documents',\n",
       " '(',\n",
       " 'with',\n",
       " 'amounts',\n",
       " 'in',\n",
       " 'respect',\n",
       " 'of',\n",
       " 'principal',\n",
       " 'paid',\n",
       " 'last',\n",
       " ')',\n",
       " ',',\n",
       " '(',\n",
       " 'iii',\n",
       " ')',\n",
       " 'provided',\n",
       " 'there',\n",
       " 'has',\n",
       " 'been',\n",
       " 'no',\n",
       " 'enforcement',\n",
       " 'action',\n",
       " ',',\n",
       " 'after',\n",
       " 'the',\n",
       " 'occurrence',\n",
       " 'and',\n",
       " 'during',\n",
       " 'the',\n",
       " 'continuance',\n",
       " 'of',\n",
       " 'an',\n",
       " 'event',\n",
       " 'of',\n",
       " 'default',\n",
       " 'under',\n",
       " 'the',\n",
       " 'Mortgage',\n",
       " 'Loan',\n",
       " ',',\n",
       " 'to',\n",
       " 'operating',\n",
       " 'accounts',\n",
       " ',',\n",
       " 'an',\n",
       " 'amount',\n",
       " 'equal',\n",
       " 'to',\n",
       " 'the',\n",
       " 'budgeted',\n",
       " 'operating',\n",
       " 'expenses',\n",
       " 'for',\n",
       " 'the',\n",
       " 'month',\n",
       " 'in',\n",
       " 'which',\n",
       " 'such',\n",
       " 'Loan',\n",
       " 'Payment',\n",
       " 'Date',\n",
       " 'occurs',\n",
       " '(',\n",
       " 'as',\n",
       " 'described',\n",
       " 'in',\n",
       " '“',\n",
       " 'Description',\n",
       " 'of',\n",
       " 'the',\n",
       " 'Mortgage',\n",
       " 'Loan',\n",
       " '—',\n",
       " 'Cash',\n",
       " 'Management',\n",
       " '”',\n",
       " ')',\n",
       " ';',\n",
       " '(',\n",
       " 'iv',\n",
       " ')',\n",
       " 'to',\n",
       " 'the',\n",
       " 'Capital',\n",
       " 'Expenditure',\n",
       " 'Reserve',\n",
       " 'Account,\\U00100003an',\n",
       " 'amount',\n",
       " 'equal',\n",
       " 'to',\n",
       " 'the',\n",
       " 'lesser',\n",
       " 'of',\n",
       " '(',\n",
       " 'a',\n",
       " ')',\n",
       " '9,018',\n",
       " '(',\n",
       " 'which',\n",
       " 'is',\n",
       " '0.15',\n",
       " 'per',\n",
       " 'owned',\n",
       " 'rentable',\n",
       " 'square',\n",
       " 'foot',\n",
       " 'per',\n",
       " 'annum',\n",
       " ')',\n",
       " 'or',\n",
       " '(',\n",
       " 'b',\n",
       " ')',\n",
       " 'the',\n",
       " 'amount',\n",
       " 'that',\n",
       " 'would',\n",
       " 'cause',\n",
       " 'the',\n",
       " 'total',\n",
       " 'amount',\n",
       " 'contained',\n",
       " 'in',\n",
       " 'the',\n",
       " 'Capital',\n",
       " 'Expenditure',\n",
       " 'Reserve',\n",
       " 'Account',\n",
       " 'to',\n",
       " 'equal',\n",
       " '108,216',\n",
       " '(',\n",
       " 'which',\n",
       " 'is',\n",
       " '12',\n",
       " 'times',\n",
       " 'the',\n",
       " 'monthly',\n",
       " 'required',\n",
       " 'amount',\n",
       " 'set',\n",
       " 'forth',\n",
       " 'in',\n",
       " 'clause',\n",
       " '(',\n",
       " 'a',\n",
       " ')',\n",
       " ')',\n",
       " ',',\n",
       " '(',\n",
       " 'v',\n",
       " ')',\n",
       " 'to',\n",
       " 'the',\n",
       " 'TI',\n",
       " '/',\n",
       " 'LC',\n",
       " 'Reserve',\n",
       " 'Account',\n",
       " 'an',\n",
       " 'amount',\n",
       " 'equal',\n",
       " 'to',\n",
       " 'the',\n",
       " 'lesser',\n",
       " 'of',\n",
       " '(',\n",
       " 'a',\n",
       " ')',\n",
       " '60,120',\n",
       " '(',\n",
       " 'which',\n",
       " 'is',\n",
       " '1.00',\n",
       " 'per',\n",
       " 'owned',\n",
       " 'rentable',\n",
       " 'square',\n",
       " 'foot',\n",
       " 'per',\n",
       " 'annum',\n",
       " ')',\n",
       " 'or',\n",
       " '(',\n",
       " 'b',\n",
       " ')',\n",
       " 'the',\n",
       " 'amount',\n",
       " 'that',\n",
       " 'would',\n",
       " 'cause',\n",
       " 'the',\n",
       " 'total',\n",
       " 'amount',\n",
       " 'contained',\n",
       " 'in',\n",
       " 'the',\n",
       " 'Capital',\n",
       " 'Expenditure',\n",
       " 'Reserve',\n",
       " 'Account',\n",
       " 'to',\n",
       " 'equal',\n",
       " '721,438',\n",
       " '(',\n",
       " 'which',\n",
       " 'is',\n",
       " '12',\n",
       " 'times',\n",
       " 'the',\n",
       " 'monthly',\n",
       " 'required',\n",
       " 'amount',\n",
       " 'set',\n",
       " 'forth',\n",
       " 'in',\n",
       " 'clause',\n",
       " '(',\n",
       " 'a',\n",
       " ')',\n",
       " ')',\n",
       " ',',\n",
       " 'and',\n",
       " '(',\n",
       " 'vi',\n",
       " ')',\n",
       " 'unless',\n",
       " 'an',\n",
       " 'event',\n",
       " 'of',\n",
       " 'default',\n",
       " 'under',\n",
       " 'the',\n",
       " 'Loan',\n",
       " 'Documents',\n",
       " 'is',\n",
       " 'continuing',\n",
       " ',',\n",
       " 'all',\n",
       " 'remaining',\n",
       " 'amounts',\n",
       " 'to',\n",
       " 'the',\n",
       " 'Borrower',\n",
       " '.']"
      ]
     },
     "execution_count": 41,
     "metadata": {},
     "output_type": "execute_result"
    }
   ],
   "source": [
    "# Review a tokenized sample Sentence\n",
    "[token.text for token in nlp(df['Sentence'][2])]"
   ]
  },
  {
   "cell_type": "code",
   "execution_count": 42,
   "metadata": {},
   "outputs": [
    {
     "data": {
      "text/plain": [
       "['during',\n",
       " 'a',\n",
       " 'trigger',\n",
       " 'period',\n",
       " 'or',\n",
       " 'while',\n",
       " 'an',\n",
       " 'event',\n",
       " 'of',\n",
       " 'default',\n",
       " 'under',\n",
       " 'the',\n",
       " 'mortgage',\n",
       " 'loan',\n",
       " 'be',\n",
       " 'continue',\n",
       " ',',\n",
       " 'all',\n",
       " 'amount',\n",
       " 'available',\n",
       " 'in',\n",
       " 'the',\n",
       " 'cash',\n",
       " 'management',\n",
       " 'account',\n",
       " 'will',\n",
       " 'be',\n",
       " 'apply',\n",
       " 'on',\n",
       " 'each',\n",
       " 'loan',\n",
       " 'payment',\n",
       " 'date',\n",
       " 'in',\n",
       " 'the',\n",
       " 'follow',\n",
       " 'order',\n",
       " 'of',\n",
       " 'priority',\n",
       " ':',\n",
       " '(',\n",
       " 'i',\n",
       " ')',\n",
       " 'to',\n",
       " 'the',\n",
       " 'tax',\n",
       " 'and',\n",
       " 'insurance',\n",
       " 'reserve',\n",
       " 'account',\n",
       " ',',\n",
       " '(',\n",
       " 'a',\n",
       " ')',\n",
       " '1/12th',\n",
       " 'of',\n",
       " 'project',\n",
       " 'annual',\n",
       " 'tax',\n",
       " 'and',\n",
       " '(',\n",
       " 'b',\n",
       " ')',\n",
       " '1/12th',\n",
       " 'of',\n",
       " 'project',\n",
       " 'annual',\n",
       " 'insurance',\n",
       " 'premium',\n",
       " '(',\n",
       " 'unless',\n",
       " 'certain',\n",
       " 'blanket',\n",
       " 'policy',\n",
       " 'be',\n",
       " 'in',\n",
       " 'effect',\n",
       " ')',\n",
       " ',',\n",
       " '(',\n",
       " 'ii',\n",
       " ')',\n",
       " 'to',\n",
       " 'the',\n",
       " 'lender',\n",
       " ',',\n",
       " 'the',\n",
       " 'amount',\n",
       " 'of',\n",
       " 'all',\n",
       " 'schedule',\n",
       " 'or',\n",
       " 'delinquent',\n",
       " 'interest',\n",
       " 'and',\n",
       " 'principal',\n",
       " 'on',\n",
       " 'the',\n",
       " 'mortgage',\n",
       " 'loan',\n",
       " 'and',\n",
       " 'all',\n",
       " 'other',\n",
       " 'amount',\n",
       " 'then',\n",
       " 'due',\n",
       " 'and',\n",
       " 'payable',\n",
       " 'under',\n",
       " 'the',\n",
       " 'loan',\n",
       " 'documents',\n",
       " '(',\n",
       " 'with',\n",
       " 'amount',\n",
       " 'in',\n",
       " 'respect',\n",
       " 'of',\n",
       " 'principal',\n",
       " 'pay',\n",
       " 'last',\n",
       " ')',\n",
       " ',',\n",
       " '(',\n",
       " 'iii',\n",
       " ')',\n",
       " 'provide',\n",
       " 'there',\n",
       " 'have',\n",
       " 'be',\n",
       " 'no',\n",
       " 'enforcement',\n",
       " 'action',\n",
       " ',',\n",
       " 'after',\n",
       " 'the',\n",
       " 'occurrence',\n",
       " 'and',\n",
       " 'during',\n",
       " 'the',\n",
       " 'continuance',\n",
       " 'of',\n",
       " 'an',\n",
       " 'event',\n",
       " 'of',\n",
       " 'default',\n",
       " 'under',\n",
       " 'the',\n",
       " 'mortgage',\n",
       " 'loan',\n",
       " ',',\n",
       " 'to',\n",
       " 'operating',\n",
       " 'account',\n",
       " ',',\n",
       " 'an',\n",
       " 'amount',\n",
       " 'equal',\n",
       " 'to',\n",
       " 'the',\n",
       " 'budget',\n",
       " 'operating',\n",
       " 'expense',\n",
       " 'for',\n",
       " 'the',\n",
       " 'month',\n",
       " 'in',\n",
       " 'which',\n",
       " 'such',\n",
       " 'loan',\n",
       " 'payment',\n",
       " 'date',\n",
       " 'occur',\n",
       " '(',\n",
       " 'as',\n",
       " 'describe',\n",
       " 'in',\n",
       " '\"',\n",
       " 'description',\n",
       " 'of',\n",
       " 'the',\n",
       " 'mortgage',\n",
       " 'loan',\n",
       " '—',\n",
       " 'cash',\n",
       " 'management',\n",
       " '\"',\n",
       " ')',\n",
       " ';',\n",
       " '(',\n",
       " 'iv',\n",
       " ')',\n",
       " 'to',\n",
       " 'the',\n",
       " 'capital',\n",
       " 'expenditure',\n",
       " 'reserve',\n",
       " 'account,\\U00100003an',\n",
       " 'amount',\n",
       " 'equal',\n",
       " 'to',\n",
       " 'the',\n",
       " 'less',\n",
       " 'of',\n",
       " '(',\n",
       " 'a',\n",
       " ')',\n",
       " '9,018',\n",
       " '(',\n",
       " 'which',\n",
       " 'be',\n",
       " '0.15',\n",
       " 'per',\n",
       " 'own',\n",
       " 'rentable',\n",
       " 'square',\n",
       " 'foot',\n",
       " 'per',\n",
       " 'annum',\n",
       " ')',\n",
       " 'or',\n",
       " '(',\n",
       " 'b',\n",
       " ')',\n",
       " 'the',\n",
       " 'amount',\n",
       " 'that',\n",
       " 'would',\n",
       " 'because',\n",
       " 'the',\n",
       " 'total',\n",
       " 'amount',\n",
       " 'contain',\n",
       " 'in',\n",
       " 'the',\n",
       " 'capital',\n",
       " 'expenditure',\n",
       " 'reserve',\n",
       " 'account',\n",
       " 'to',\n",
       " 'equal',\n",
       " '108,216',\n",
       " '(',\n",
       " 'which',\n",
       " 'be',\n",
       " '12',\n",
       " 'time',\n",
       " 'the',\n",
       " 'monthly',\n",
       " 'require',\n",
       " 'amount',\n",
       " 'set',\n",
       " 'forth',\n",
       " 'in',\n",
       " 'clause',\n",
       " '(',\n",
       " 'a',\n",
       " ')',\n",
       " ')',\n",
       " ',',\n",
       " '(',\n",
       " 'v',\n",
       " ')',\n",
       " 'to',\n",
       " 'the',\n",
       " 'ti',\n",
       " '/',\n",
       " 'lc',\n",
       " 'reserve',\n",
       " 'account',\n",
       " 'an',\n",
       " 'amount',\n",
       " 'equal',\n",
       " 'to',\n",
       " 'the',\n",
       " 'less',\n",
       " 'of',\n",
       " '(',\n",
       " 'a',\n",
       " ')',\n",
       " '60,120',\n",
       " '(',\n",
       " 'which',\n",
       " 'be',\n",
       " '1.00',\n",
       " 'per',\n",
       " 'own',\n",
       " 'rentable',\n",
       " 'square',\n",
       " 'foot',\n",
       " 'per',\n",
       " 'annum',\n",
       " ')',\n",
       " 'or',\n",
       " '(',\n",
       " 'b',\n",
       " ')',\n",
       " 'the',\n",
       " 'amount',\n",
       " 'that',\n",
       " 'would',\n",
       " 'because',\n",
       " 'the',\n",
       " 'total',\n",
       " 'amount',\n",
       " 'contain',\n",
       " 'in',\n",
       " 'the',\n",
       " 'capital',\n",
       " 'expenditure',\n",
       " 'reserve',\n",
       " 'account',\n",
       " 'to',\n",
       " 'equal',\n",
       " '721,438',\n",
       " '(',\n",
       " 'which',\n",
       " 'be',\n",
       " '12',\n",
       " 'time',\n",
       " 'the',\n",
       " 'monthly',\n",
       " 'require',\n",
       " 'amount',\n",
       " 'set',\n",
       " 'forth',\n",
       " 'in',\n",
       " 'clause',\n",
       " '(',\n",
       " 'a',\n",
       " ')',\n",
       " ')',\n",
       " ',',\n",
       " 'and',\n",
       " '(',\n",
       " 'vi',\n",
       " ')',\n",
       " 'unless',\n",
       " 'an',\n",
       " 'event',\n",
       " 'of',\n",
       " 'default',\n",
       " 'under',\n",
       " 'the',\n",
       " 'loan',\n",
       " 'documents',\n",
       " 'be',\n",
       " 'continue',\n",
       " ',',\n",
       " 'all',\n",
       " 'remain',\n",
       " 'amount',\n",
       " 'to',\n",
       " 'the',\n",
       " 'borrower',\n",
       " '.']"
      ]
     },
     "execution_count": 42,
     "metadata": {},
     "output_type": "execute_result"
    }
   ],
   "source": [
    "# Review a lemmatized sample Sentence\n",
    "[token.lemma_ for token in nlp(df['Sentence'][2])]"
   ]
  },
  {
   "cell_type": "code",
   "execution_count": 43,
   "metadata": {},
   "outputs": [],
   "source": [
    "def tokenize(text):\n",
    "    doc = nlp(text)\n",
    "    tokens = [token.text for token in doc]\n",
    "    return ' '.join(tokens)\n",
    "\n",
    "df['SentenceTokens'] = df['Sentence'].apply(tokenize)"
   ]
  },
  {
   "cell_type": "code",
   "execution_count": 44,
   "metadata": {},
   "outputs": [],
   "source": [
    "def lemmatize(text):\n",
    "    doc = nlp(text)\n",
    "    lemmas = [token.lemma_ for token in doc]\n",
    "    return ' '.join(lemmas)\n",
    "\n",
    "df['SentenceLemmas'] = df['Sentence'].apply(lemmatize)"
   ]
  },
  {
   "cell_type": "code",
   "execution_count": 45,
   "metadata": {},
   "outputs": [
    {
     "data": {
      "text/html": [
       "<div>\n",
       "<style scoped>\n",
       "    .dataframe tbody tr th:only-of-type {\n",
       "        vertical-align: middle;\n",
       "    }\n",
       "\n",
       "    .dataframe tbody tr th {\n",
       "        vertical-align: top;\n",
       "    }\n",
       "\n",
       "    .dataframe thead th {\n",
       "        text-align: right;\n",
       "    }\n",
       "</style>\n",
       "<table border=\"1\" class=\"dataframe\">\n",
       "  <thead>\n",
       "    <tr style=\"text-align: right;\">\n",
       "      <th></th>\n",
       "      <th>Document</th>\n",
       "      <th>Sentence</th>\n",
       "      <th>loan_default</th>\n",
       "      <th>aggregate_dscr_fall</th>\n",
       "      <th>dscr_fall</th>\n",
       "      <th>unspecified</th>\n",
       "      <th>debt_yield_fall</th>\n",
       "      <th>aggregate_debt_yield_fall</th>\n",
       "      <th>mezzanine_default</th>\n",
       "      <th>tenant_failure</th>\n",
       "      <th>mezzanine_outstanding</th>\n",
       "      <th>operator_termination</th>\n",
       "      <th>bankruptcy</th>\n",
       "      <th>sponsor_termination</th>\n",
       "      <th>renovations</th>\n",
       "      <th>nontrigger</th>\n",
       "      <th>sentence_char_count</th>\n",
       "      <th>SentenceTokens</th>\n",
       "      <th>SentenceLemmas</th>\n",
       "    </tr>\n",
       "  </thead>\n",
       "  <tbody>\n",
       "    <tr>\n",
       "      <th>0</th>\n",
       "      <td>20120828_01Y0R8_Prospectus_CM00000000205875087...</td>\n",
       "      <td>On each Business Day, the financial institutio...</td>\n",
       "      <td>1</td>\n",
       "      <td>0</td>\n",
       "      <td>0</td>\n",
       "      <td>0</td>\n",
       "      <td>0</td>\n",
       "      <td>0</td>\n",
       "      <td>0</td>\n",
       "      <td>0</td>\n",
       "      <td>0</td>\n",
       "      <td>0</td>\n",
       "      <td>0</td>\n",
       "      <td>0</td>\n",
       "      <td>0</td>\n",
       "      <td>0</td>\n",
       "      <td>446</td>\n",
       "      <td>On each Business Day , the financial instituti...</td>\n",
       "      <td>on each business day , the financial instituti...</td>\n",
       "    </tr>\n",
       "    <tr>\n",
       "      <th>1</th>\n",
       "      <td>20120828_01Y0R8_Prospectus_CM00000000205875087...</td>\n",
       "      <td>The Borrower has established and is required t...</td>\n",
       "      <td>1</td>\n",
       "      <td>1</td>\n",
       "      <td>0</td>\n",
       "      <td>0</td>\n",
       "      <td>0</td>\n",
       "      <td>0</td>\n",
       "      <td>0</td>\n",
       "      <td>0</td>\n",
       "      <td>0</td>\n",
       "      <td>0</td>\n",
       "      <td>0</td>\n",
       "      <td>0</td>\n",
       "      <td>0</td>\n",
       "      <td>0</td>\n",
       "      <td>837</td>\n",
       "      <td>The Borrower has established and is required t...</td>\n",
       "      <td>the borrower have establish and be require to ...</td>\n",
       "    </tr>\n",
       "    <tr>\n",
       "      <th>2</th>\n",
       "      <td>20120828_01Y0R8_Prospectus_CM00000000205875087...</td>\n",
       "      <td>During a Trigger Period or while an event of d...</td>\n",
       "      <td>1</td>\n",
       "      <td>0</td>\n",
       "      <td>0</td>\n",
       "      <td>0</td>\n",
       "      <td>0</td>\n",
       "      <td>0</td>\n",
       "      <td>0</td>\n",
       "      <td>0</td>\n",
       "      <td>0</td>\n",
       "      <td>0</td>\n",
       "      <td>0</td>\n",
       "      <td>0</td>\n",
       "      <td>0</td>\n",
       "      <td>0</td>\n",
       "      <td>1766</td>\n",
       "      <td>During a Trigger Period or while an event of d...</td>\n",
       "      <td>during a trigger period or while an event of d...</td>\n",
       "    </tr>\n",
       "    <tr>\n",
       "      <th>3</th>\n",
       "      <td>20120828_01Y0R8_Prospectus_CM00000000205875087...</td>\n",
       "      <td>On any Business Day all amounts on deposit in ...</td>\n",
       "      <td>1</td>\n",
       "      <td>0</td>\n",
       "      <td>0</td>\n",
       "      <td>0</td>\n",
       "      <td>0</td>\n",
       "      <td>0</td>\n",
       "      <td>0</td>\n",
       "      <td>0</td>\n",
       "      <td>0</td>\n",
       "      <td>0</td>\n",
       "      <td>0</td>\n",
       "      <td>0</td>\n",
       "      <td>0</td>\n",
       "      <td>0</td>\n",
       "      <td>302</td>\n",
       "      <td>On any Business Day all amounts on deposit in ...</td>\n",
       "      <td>on any business day all amount on deposit in t...</td>\n",
       "    </tr>\n",
       "    <tr>\n",
       "      <th>4</th>\n",
       "      <td>20120828_01Y0R8_Prospectus_CM00000000205875087...</td>\n",
       "      <td>Available funds in each Cash Management Accoun...</td>\n",
       "      <td>1</td>\n",
       "      <td>0</td>\n",
       "      <td>0</td>\n",
       "      <td>0</td>\n",
       "      <td>0</td>\n",
       "      <td>0</td>\n",
       "      <td>0</td>\n",
       "      <td>0</td>\n",
       "      <td>0</td>\n",
       "      <td>0</td>\n",
       "      <td>0</td>\n",
       "      <td>0</td>\n",
       "      <td>0</td>\n",
       "      <td>0</td>\n",
       "      <td>235</td>\n",
       "      <td>Available funds in each Cash Management Accoun...</td>\n",
       "      <td>available fund in each cash management account...</td>\n",
       "    </tr>\n",
       "  </tbody>\n",
       "</table>\n",
       "</div>"
      ],
      "text/plain": [
       "                                            Document  \\\n",
       "0  20120828_01Y0R8_Prospectus_CM00000000205875087...   \n",
       "1  20120828_01Y0R8_Prospectus_CM00000000205875087...   \n",
       "2  20120828_01Y0R8_Prospectus_CM00000000205875087...   \n",
       "3  20120828_01Y0R8_Prospectus_CM00000000205875087...   \n",
       "4  20120828_01Y0R8_Prospectus_CM00000000205875087...   \n",
       "\n",
       "                                            Sentence  loan_default  \\\n",
       "0  On each Business Day, the financial institutio...             1   \n",
       "1  The Borrower has established and is required t...             1   \n",
       "2  During a Trigger Period or while an event of d...             1   \n",
       "3  On any Business Day all amounts on deposit in ...             1   \n",
       "4  Available funds in each Cash Management Accoun...             1   \n",
       "\n",
       "   aggregate_dscr_fall  dscr_fall  unspecified  debt_yield_fall  \\\n",
       "0                    0          0            0                0   \n",
       "1                    1          0            0                0   \n",
       "2                    0          0            0                0   \n",
       "3                    0          0            0                0   \n",
       "4                    0          0            0                0   \n",
       "\n",
       "   aggregate_debt_yield_fall  mezzanine_default  tenant_failure  \\\n",
       "0                          0                  0               0   \n",
       "1                          0                  0               0   \n",
       "2                          0                  0               0   \n",
       "3                          0                  0               0   \n",
       "4                          0                  0               0   \n",
       "\n",
       "   mezzanine_outstanding  operator_termination  bankruptcy  \\\n",
       "0                      0                     0           0   \n",
       "1                      0                     0           0   \n",
       "2                      0                     0           0   \n",
       "3                      0                     0           0   \n",
       "4                      0                     0           0   \n",
       "\n",
       "   sponsor_termination  renovations  nontrigger  sentence_char_count  \\\n",
       "0                    0            0           0                  446   \n",
       "1                    0            0           0                  837   \n",
       "2                    0            0           0                 1766   \n",
       "3                    0            0           0                  302   \n",
       "4                    0            0           0                  235   \n",
       "\n",
       "                                      SentenceTokens  \\\n",
       "0  On each Business Day , the financial instituti...   \n",
       "1  The Borrower has established and is required t...   \n",
       "2  During a Trigger Period or while an event of d...   \n",
       "3  On any Business Day all amounts on deposit in ...   \n",
       "4  Available funds in each Cash Management Accoun...   \n",
       "\n",
       "                                      SentenceLemmas  \n",
       "0  on each business day , the financial instituti...  \n",
       "1  the borrower have establish and be require to ...  \n",
       "2  during a trigger period or while an event of d...  \n",
       "3  on any business day all amount on deposit in t...  \n",
       "4  available fund in each cash management account...  "
      ]
     },
     "execution_count": 45,
     "metadata": {},
     "output_type": "execute_result"
    }
   ],
   "source": [
    "df.head()"
   ]
  },
  {
   "cell_type": "code",
   "execution_count": 46,
   "metadata": {},
   "outputs": [
    {
     "data": {
      "text/plain": [
       "'On each Business Day , the financial institution maintaining the blocked ac'"
      ]
     },
     "execution_count": 46,
     "metadata": {},
     "output_type": "execute_result"
    }
   ],
   "source": [
    "# Put all sentences into a list of review tokens\n",
    "all_sentence_tokens = ' '.join(df['SentenceTokens'])\n",
    "all_sentence_tokens[:75]"
   ]
  },
  {
   "cell_type": "code",
   "execution_count": 47,
   "metadata": {},
   "outputs": [
    {
     "data": {
      "text/plain": [
       "'on each business day , the financial institution maintain the block account'"
      ]
     },
     "execution_count": 47,
     "metadata": {},
     "output_type": "execute_result"
    }
   ],
   "source": [
    "# Put all sentences into a list of review lemmas\n",
    "all_sentence_lemmas = ' '.join(df['SentenceLemmas'])\n",
    "all_sentence_lemmas[:75]"
   ]
  },
  {
   "cell_type": "code",
   "execution_count": 48,
   "metadata": {},
   "outputs": [],
   "source": [
    "sentence_token_list = [token for token in all_sentence_tokens.split(' ')]\n",
    "sentence_lemma_list = [lemma for lemma in all_sentence_lemmas.split(' ')]"
   ]
  },
  {
   "cell_type": "code",
   "execution_count": 49,
   "metadata": {},
   "outputs": [],
   "source": [
    "token_df = pd.Series(sentence_token_list)\n",
    "lemma_df = pd.Series(sentence_lemma_list)"
   ]
  },
  {
   "cell_type": "code",
   "execution_count": 50,
   "metadata": {},
   "outputs": [
    {
     "data": {
      "image/png": "[encoded data removed]",
      "text/plain": [
       "<Figure size 432x432 with 1 Axes>"
      ]
     },
     "metadata": {
      "needs_background": "light"
     },
     "output_type": "display_data"
    }
   ],
   "source": [
    "# Plotting the raw token count\n",
    "token_series = token_df.value_counts().head(15).sort_values(ascending = True)\n",
    "ax = token_series.plot.barh(figsize = (6,6))\n",
    "ax.set_xlabel('count')\n",
    "ax.set_ylabel('token')\n",
    "ax.set_title('Sentences: Raw Token Count');"
   ]
  },
  {
   "cell_type": "code",
   "execution_count": 51,
   "metadata": {},
   "outputs": [
    {
     "data": {
      "image/png": "[encoded data removed]",
      "text/plain": [
       "<Figure size 432x432 with 1 Axes>"
      ]
     },
     "metadata": {
      "needs_background": "light"
     },
     "output_type": "display_data"
    }
   ],
   "source": [
    "# Plotting the raw lemma count\n",
    "lemma_series = lemma_df.value_counts().head(15).sort_values(ascending = True)\n",
    "ax = lemma_series.plot.barh(figsize = (6,6))\n",
    "ax.set_xlabel('count')\n",
    "ax.set_ylabel('lemma')\n",
    "ax.set_title('Sentences: Raw Lemma Count');"
   ]
  },
  {
   "cell_type": "code",
   "execution_count": 52,
   "metadata": {},
   "outputs": [],
   "source": [
    "# Remove punctuation, maintain letters and numbers\n",
    "df['SentenceLemmas_nopunc'] = df['SentenceLemmas'].str.replace(\"[^a-zA-Z0-9#']\", \" \")"
   ]
  },
  {
   "cell_type": "code",
   "execution_count": 53,
   "metadata": {},
   "outputs": [
    {
     "data": {
      "text/plain": [
       "['on',\n",
       " 'each',\n",
       " 'business',\n",
       " 'day',\n",
       " 'the',\n",
       " 'financial',\n",
       " 'institution',\n",
       " 'maintain',\n",
       " 'the',\n",
       " 'block']"
      ]
     },
     "execution_count": 53,
     "metadata": {},
     "output_type": "execute_result"
    }
   ],
   "source": [
    "# Put all SentenceLemmas_nopunc into a list\n",
    "all_lemmas_nopunc = ' '.join(df['SentenceLemmas_nopunc'])\n",
    "lemma_list_nopunc = [lemma for lemma in all_lemmas_nopunc.split(' ')]\n",
    "lemma_list_nopunc = [lemma for lemma in lemma_list_nopunc if lemma not in ['']]\n",
    "lemma_list_nopunc[:10]"
   ]
  },
  {
   "cell_type": "code",
   "execution_count": 54,
   "metadata": {},
   "outputs": [
    {
     "data": {
      "image/png": "[encoded data removed]",
      "text/plain": [
       "<Figure size 432x432 with 1 Axes>"
      ]
     },
     "metadata": {
      "needs_background": "light"
     },
     "output_type": "display_data"
    }
   ],
   "source": [
    "# Create a data series containing the list of words\n",
    "lemma_df_nopunc = pd.Series(lemma_list_nopunc)\n",
    "lemma_series_nopunc = lemma_df_nopunc.value_counts().head(15).sort_values(ascending = True)\n",
    "ax = lemma_series_nopunc.plot.barh(figsize = (6,6))\n",
    "ax.set_xlabel('count')\n",
    "ax.set_ylabel('lemma')\n",
    "ax.set_title('Sentences: Lemma Count, no punctuation');"
   ]
  },
  {
   "cell_type": "code",
   "execution_count": 55,
   "metadata": {},
   "outputs": [
    {
     "data": {
      "text/plain": [
       "0    on each business day   the financial instituti...\n",
       "1    the borrower have establish and be require to ...\n",
       "2    during a trigger period or while an event of d...\n",
       "3    on any business day all amount on deposit in t...\n",
       "4    available fund in each cash management account...\n",
       "Name: SentenceLemmas_nopunc, dtype: object"
      ]
     },
     "execution_count": 55,
     "metadata": {},
     "output_type": "execute_result"
    }
   ],
   "source": [
    "df['SentenceLemmas_nopunc'].head()"
   ]
  },
  {
   "cell_type": "code",
   "execution_count": 56,
   "metadata": {},
   "outputs": [],
   "source": [
    "df['SentenceLemmas_nopunc'] = df['SentenceLemmas_nopunc'].str.replace('\\s{2,}', ' ')"
   ]
  },
  {
   "cell_type": "code",
   "execution_count": 57,
   "metadata": {},
   "outputs": [
    {
     "data": {
      "text/plain": [
       "0    on each business day the financial institution...\n",
       "1    the borrower have establish and be require to ...\n",
       "2    during a trigger period or while an event of d...\n",
       "3    on any business day all amount on deposit in t...\n",
       "4    available fund in each cash management account...\n",
       "Name: SentenceLemmas_nopunc, dtype: object"
      ]
     },
     "execution_count": 57,
     "metadata": {},
     "output_type": "execute_result"
    }
   ],
   "source": [
    "df['SentenceLemmas_nopunc'].head()"
   ]
  },
  {
   "cell_type": "markdown",
   "metadata": {},
   "source": [
    "## Preprocessing and Preparation for Modeling"
   ]
  },
  {
   "cell_type": "code",
   "execution_count": 58,
   "metadata": {},
   "outputs": [],
   "source": [
    "short_stopwords = ['the', 'and', 'a', 'to', 'I', 'it', 'be', 'for', 'with', 'that']"
   ]
  },
  {
   "cell_type": "code",
   "execution_count": 59,
   "metadata": {},
   "outputs": [
    {
     "data": {
      "text/plain": [
       "['latterly',\n",
       " 'you',\n",
       " 'thereafter',\n",
       " 'becomes',\n",
       " 'further',\n",
       " 'somewhere',\n",
       " 'just',\n",
       " 'whereafter',\n",
       " 'does',\n",
       " 'down',\n",
       " 'forty',\n",
       " 'though',\n",
       " 'thus',\n",
       " 'them',\n",
       " 'many',\n",
       " 'that',\n",
       " 'or',\n",
       " 'latter',\n",
       " 'ourselves',\n",
       " 'out',\n",
       " 'too',\n",
       " 'it',\n",
       " 'being',\n",
       " 'might',\n",
       " 'anything',\n",
       " 'six',\n",
       " 'whole',\n",
       " 'would',\n",
       " 'however',\n",
       " 'must',\n",
       " 'used',\n",
       " 'against',\n",
       " 'during',\n",
       " 'whither',\n",
       " 'whereby',\n",
       " 'so',\n",
       " 'give',\n",
       " 'me',\n",
       " 'has',\n",
       " 'four',\n",
       " 'say',\n",
       " 'are',\n",
       " 'go',\n",
       " 'another',\n",
       " 'how',\n",
       " 'seem',\n",
       " 'again',\n",
       " 'whoever',\n",
       " 'get',\n",
       " 'hundred',\n",
       " 'hence',\n",
       " 'among',\n",
       " 'sometime',\n",
       " 'some',\n",
       " 'their',\n",
       " 'upon',\n",
       " 'not',\n",
       " 'hereupon',\n",
       " 'nowhere',\n",
       " 'itself',\n",
       " 'did',\n",
       " 'ever',\n",
       " 'namely',\n",
       " 'elsewhere',\n",
       " 'mostly',\n",
       " 'sometimes',\n",
       " 'side',\n",
       " 'sixty',\n",
       " 'off',\n",
       " 'although',\n",
       " 'besides',\n",
       " 'were',\n",
       " 'serious',\n",
       " 'was',\n",
       " 'thru',\n",
       " 'seemed',\n",
       " 'every',\n",
       " 'when',\n",
       " 'seems',\n",
       " 'neither',\n",
       " 'anyhow',\n",
       " 'mine',\n",
       " 'now',\n",
       " 'noone',\n",
       " 'up',\n",
       " 'his',\n",
       " 'us',\n",
       " 'regarding',\n",
       " 're',\n",
       " 'unless',\n",
       " 'make',\n",
       " 'above',\n",
       " 'next',\n",
       " 'beforehand',\n",
       " 'than',\n",
       " 'before',\n",
       " 'cannot',\n",
       " 'no',\n",
       " 'in',\n",
       " 'became',\n",
       " 'formerly',\n",
       " 'is',\n",
       " 'same',\n",
       " 'made',\n",
       " 'they',\n",
       " 'toward',\n",
       " 'whereupon',\n",
       " 'while',\n",
       " 'everything',\n",
       " 'behind',\n",
       " 'could',\n",
       " 'already',\n",
       " 'whereas',\n",
       " 'we',\n",
       " 'our',\n",
       " 'fifty',\n",
       " 'such',\n",
       " 'take',\n",
       " 'none',\n",
       " 'your',\n",
       " 'bottom',\n",
       " 'nobody',\n",
       " 'without',\n",
       " 'towards',\n",
       " 'via',\n",
       " 'been',\n",
       " 'whose',\n",
       " 'please',\n",
       " 'together',\n",
       " 'whether',\n",
       " 'amongst',\n",
       " 'those',\n",
       " 'into',\n",
       " 'more',\n",
       " 'two',\n",
       " 'twelve',\n",
       " 'enough',\n",
       " 'fifteen',\n",
       " 'per',\n",
       " 'who',\n",
       " 'rather',\n",
       " 'various',\n",
       " 'most',\n",
       " 'whatever',\n",
       " 'within',\n",
       " 'third',\n",
       " 'anyway',\n",
       " 'doing',\n",
       " 'herself',\n",
       " 'its',\n",
       " 'her',\n",
       " 'themselves',\n",
       " 'three',\n",
       " 'well',\n",
       " 'whom',\n",
       " 'hereby',\n",
       " 'thereby',\n",
       " 'except',\n",
       " 'few',\n",
       " 'nothing',\n",
       " 'around',\n",
       " 'am',\n",
       " 'empty',\n",
       " 'others',\n",
       " 'see',\n",
       " 'myself',\n",
       " 'why',\n",
       " 'yours',\n",
       " 'along',\n",
       " 'if',\n",
       " 'but',\n",
       " 'someone',\n",
       " 'can',\n",
       " 'much',\n",
       " 'until',\n",
       " 'almost',\n",
       " 'everywhere',\n",
       " 'keep',\n",
       " 'after',\n",
       " 'across',\n",
       " 'he',\n",
       " 'five',\n",
       " 'least',\n",
       " 'my',\n",
       " 'otherwise',\n",
       " 'show',\n",
       " 'back',\n",
       " 'both',\n",
       " 'full',\n",
       " 'move',\n",
       " 'the',\n",
       " 'have',\n",
       " 'beyond',\n",
       " 'also',\n",
       " 'top',\n",
       " 'amount',\n",
       " 'wherever',\n",
       " 'anyone',\n",
       " 'therefore',\n",
       " 'last',\n",
       " 'twenty',\n",
       " 'call',\n",
       " 'will',\n",
       " 'yourselves',\n",
       " 'often',\n",
       " 'something',\n",
       " 'really',\n",
       " 'thereupon',\n",
       " 'may',\n",
       " 'beside',\n",
       " 'here',\n",
       " 'thence',\n",
       " 'else',\n",
       " 'with',\n",
       " 'perhaps',\n",
       " 'once',\n",
       " 'to',\n",
       " 'somehow',\n",
       " 'first',\n",
       " 'through',\n",
       " 'even',\n",
       " 'an',\n",
       " 'ten',\n",
       " 'moreover',\n",
       " 'name',\n",
       " 'never',\n",
       " 'part',\n",
       " 'at',\n",
       " 'him',\n",
       " 'always',\n",
       " 'i',\n",
       " 'what',\n",
       " 'former',\n",
       " 'alone',\n",
       " 'on',\n",
       " 'becoming',\n",
       " 'less',\n",
       " 'hereafter',\n",
       " 'seeming',\n",
       " 'using',\n",
       " 'eight',\n",
       " 'nor',\n",
       " 'one',\n",
       " 'each',\n",
       " 'hers',\n",
       " 'everyone',\n",
       " 'over',\n",
       " 'several',\n",
       " 'therein',\n",
       " 'she',\n",
       " 'ca',\n",
       " 'other',\n",
       " 'these',\n",
       " 'become',\n",
       " 'all',\n",
       " 'about',\n",
       " 'indeed',\n",
       " 'since',\n",
       " 'should',\n",
       " 'throughout',\n",
       " 'quite',\n",
       " 'whence',\n",
       " 'which',\n",
       " 'ours',\n",
       " 'and',\n",
       " 'nevertheless',\n",
       " 'below',\n",
       " 'still',\n",
       " 'do',\n",
       " 'onto',\n",
       " 'there',\n",
       " 'front',\n",
       " 'of',\n",
       " 'either',\n",
       " 'own',\n",
       " 'put',\n",
       " 'be',\n",
       " 'wherein',\n",
       " 'as',\n",
       " 'by',\n",
       " 'between',\n",
       " 'done',\n",
       " 'then',\n",
       " 'under',\n",
       " 'a',\n",
       " 'anywhere',\n",
       " 'yet',\n",
       " 'yourself',\n",
       " 'due',\n",
       " 'from',\n",
       " 'only',\n",
       " 'eleven',\n",
       " 'afterwards',\n",
       " 'this',\n",
       " 'very',\n",
       " 'where',\n",
       " 'nine',\n",
       " 'whenever',\n",
       " 'had',\n",
       " 'meanwhile',\n",
       " 'himself',\n",
       " 'for',\n",
       " 'herein',\n",
       " 'any',\n",
       " 'because']"
      ]
     },
     "execution_count": 59,
     "metadata": {},
     "output_type": "execute_result"
    }
   ],
   "source": [
    "# Look at original stopword list\n",
    "stopwords = list(STOP_WORDS)\n",
    "stopwords"
   ]
  },
  {
   "cell_type": "code",
   "execution_count": 60,
   "metadata": {},
   "outputs": [],
   "source": [
    "# Choose to exclude anything with numbers are might be particularly relevant\n",
    "to_exclude = ['thereupon', 'cannot', 'should'] "
   ]
  },
  {
   "cell_type": "code",
   "execution_count": 61,
   "metadata": {},
   "outputs": [
    {
     "data": {
      "text/plain": [
       "['latterly',\n",
       " 'you',\n",
       " 'thereafter',\n",
       " 'becomes',\n",
       " 'further',\n",
       " 'somewhere',\n",
       " 'just',\n",
       " 'whereafter',\n",
       " 'does',\n",
       " 'down',\n",
       " 'forty',\n",
       " 'though',\n",
       " 'thus',\n",
       " 'them',\n",
       " 'many',\n",
       " 'that',\n",
       " 'or',\n",
       " 'latter',\n",
       " 'ourselves',\n",
       " 'out',\n",
       " 'too',\n",
       " 'it',\n",
       " 'being',\n",
       " 'might',\n",
       " 'anything',\n",
       " 'six',\n",
       " 'whole',\n",
       " 'would',\n",
       " 'however',\n",
       " 'must',\n",
       " 'used',\n",
       " 'against',\n",
       " 'during',\n",
       " 'whither',\n",
       " 'whereby',\n",
       " 'so',\n",
       " 'give',\n",
       " 'me',\n",
       " 'has',\n",
       " 'four',\n",
       " 'say',\n",
       " 'are',\n",
       " 'go',\n",
       " 'another',\n",
       " 'how',\n",
       " 'seem',\n",
       " 'again',\n",
       " 'whoever',\n",
       " 'get',\n",
       " 'hundred',\n",
       " 'hence',\n",
       " 'among',\n",
       " 'sometime',\n",
       " 'some',\n",
       " 'their',\n",
       " 'upon',\n",
       " 'not',\n",
       " 'hereupon',\n",
       " 'nowhere',\n",
       " 'itself',\n",
       " 'did',\n",
       " 'ever',\n",
       " 'namely',\n",
       " 'elsewhere',\n",
       " 'mostly',\n",
       " 'sometimes',\n",
       " 'side',\n",
       " 'sixty',\n",
       " 'off',\n",
       " 'although',\n",
       " 'besides',\n",
       " 'were',\n",
       " 'serious',\n",
       " 'was',\n",
       " 'thru',\n",
       " 'seemed',\n",
       " 'every',\n",
       " 'when',\n",
       " 'seems',\n",
       " 'neither',\n",
       " 'anyhow',\n",
       " 'mine',\n",
       " 'now',\n",
       " 'noone',\n",
       " 'up',\n",
       " 'his',\n",
       " 'us',\n",
       " 'regarding',\n",
       " 're',\n",
       " 'unless',\n",
       " 'make',\n",
       " 'above',\n",
       " 'next',\n",
       " 'beforehand',\n",
       " 'than',\n",
       " 'before',\n",
       " 'no',\n",
       " 'in',\n",
       " 'became',\n",
       " 'formerly',\n",
       " 'is',\n",
       " 'same',\n",
       " 'made',\n",
       " 'they',\n",
       " 'toward',\n",
       " 'whereupon',\n",
       " 'while',\n",
       " 'everything',\n",
       " 'behind',\n",
       " 'could',\n",
       " 'already',\n",
       " 'whereas',\n",
       " 'we',\n",
       " 'our',\n",
       " 'fifty',\n",
       " 'such',\n",
       " 'take',\n",
       " 'none',\n",
       " 'your',\n",
       " 'bottom',\n",
       " 'nobody',\n",
       " 'without',\n",
       " 'towards',\n",
       " 'via',\n",
       " 'been',\n",
       " 'whose',\n",
       " 'please',\n",
       " 'together',\n",
       " 'whether',\n",
       " 'amongst',\n",
       " 'those',\n",
       " 'into',\n",
       " 'more',\n",
       " 'two',\n",
       " 'twelve',\n",
       " 'enough',\n",
       " 'fifteen',\n",
       " 'per',\n",
       " 'who',\n",
       " 'rather',\n",
       " 'various',\n",
       " 'most',\n",
       " 'whatever',\n",
       " 'within',\n",
       " 'third',\n",
       " 'anyway',\n",
       " 'doing',\n",
       " 'herself',\n",
       " 'its',\n",
       " 'her',\n",
       " 'themselves',\n",
       " 'three',\n",
       " 'well',\n",
       " 'whom',\n",
       " 'hereby',\n",
       " 'thereby',\n",
       " 'except',\n",
       " 'few',\n",
       " 'nothing',\n",
       " 'around',\n",
       " 'am',\n",
       " 'empty',\n",
       " 'others',\n",
       " 'see',\n",
       " 'myself',\n",
       " 'why',\n",
       " 'yours',\n",
       " 'along',\n",
       " 'if',\n",
       " 'but',\n",
       " 'someone',\n",
       " 'can',\n",
       " 'much',\n",
       " 'until',\n",
       " 'almost',\n",
       " 'everywhere',\n",
       " 'keep',\n",
       " 'after',\n",
       " 'across',\n",
       " 'he',\n",
       " 'five',\n",
       " 'least',\n",
       " 'my',\n",
       " 'otherwise',\n",
       " 'show',\n",
       " 'back',\n",
       " 'both',\n",
       " 'full',\n",
       " 'move',\n",
       " 'the',\n",
       " 'have',\n",
       " 'beyond',\n",
       " 'also',\n",
       " 'top',\n",
       " 'amount',\n",
       " 'wherever',\n",
       " 'anyone',\n",
       " 'therefore',\n",
       " 'last',\n",
       " 'twenty',\n",
       " 'call',\n",
       " 'will',\n",
       " 'yourselves',\n",
       " 'often',\n",
       " 'something',\n",
       " 'really',\n",
       " 'may',\n",
       " 'beside',\n",
       " 'here',\n",
       " 'thence',\n",
       " 'else',\n",
       " 'with',\n",
       " 'perhaps',\n",
       " 'once',\n",
       " 'to',\n",
       " 'somehow',\n",
       " 'first',\n",
       " 'through',\n",
       " 'even',\n",
       " 'an',\n",
       " 'ten',\n",
       " 'moreover',\n",
       " 'name',\n",
       " 'never',\n",
       " 'part',\n",
       " 'at',\n",
       " 'him',\n",
       " 'always',\n",
       " 'i',\n",
       " 'what',\n",
       " 'former',\n",
       " 'alone',\n",
       " 'on',\n",
       " 'becoming',\n",
       " 'less',\n",
       " 'hereafter',\n",
       " 'seeming',\n",
       " 'using',\n",
       " 'eight',\n",
       " 'nor',\n",
       " 'one',\n",
       " 'each',\n",
       " 'hers',\n",
       " 'everyone',\n",
       " 'over',\n",
       " 'several',\n",
       " 'therein',\n",
       " 'she',\n",
       " 'ca',\n",
       " 'other',\n",
       " 'these',\n",
       " 'become',\n",
       " 'all',\n",
       " 'about',\n",
       " 'indeed',\n",
       " 'since',\n",
       " 'throughout',\n",
       " 'quite',\n",
       " 'whence',\n",
       " 'which',\n",
       " 'ours',\n",
       " 'and',\n",
       " 'nevertheless',\n",
       " 'below',\n",
       " 'still',\n",
       " 'do',\n",
       " 'onto',\n",
       " 'there',\n",
       " 'front',\n",
       " 'of',\n",
       " 'either',\n",
       " 'own',\n",
       " 'put',\n",
       " 'be',\n",
       " 'wherein',\n",
       " 'as',\n",
       " 'by',\n",
       " 'between',\n",
       " 'done',\n",
       " 'then',\n",
       " 'under',\n",
       " 'a',\n",
       " 'anywhere',\n",
       " 'yet',\n",
       " 'yourself',\n",
       " 'due',\n",
       " 'from',\n",
       " 'only',\n",
       " 'eleven',\n",
       " 'afterwards',\n",
       " 'this',\n",
       " 'very',\n",
       " 'where',\n",
       " 'nine',\n",
       " 'whenever',\n",
       " 'had',\n",
       " 'meanwhile',\n",
       " 'himself',\n",
       " 'for',\n",
       " 'herein',\n",
       " 'any',\n",
       " 'because']"
      ]
     },
     "execution_count": 61,
     "metadata": {},
     "output_type": "execute_result"
    }
   ],
   "source": [
    "# Define our selected stopword lists \n",
    "select_stopwords = [word for word in stopwords if word not in to_exclude]\n",
    "select_stopwords"
   ]
  },
  {
   "cell_type": "code",
   "execution_count": null,
   "metadata": {},
   "outputs": [],
   "source": []
  },
  {
   "cell_type": "code",
   "execution_count": null,
   "metadata": {},
   "outputs": [],
   "source": []
  },
  {
   "cell_type": "markdown",
   "metadata": {},
   "source": [
    "## Train/Test Split"
   ]
  },
  {
   "cell_type": "code",
   "execution_count": 62,
   "metadata": {},
   "outputs": [
    {
     "data": {
      "text/html": [
       "<div>\n",
       "<style scoped>\n",
       "    .dataframe tbody tr th:only-of-type {\n",
       "        vertical-align: middle;\n",
       "    }\n",
       "\n",
       "    .dataframe tbody tr th {\n",
       "        vertical-align: top;\n",
       "    }\n",
       "\n",
       "    .dataframe thead th {\n",
       "        text-align: right;\n",
       "    }\n",
       "</style>\n",
       "<table border=\"1\" class=\"dataframe\">\n",
       "  <thead>\n",
       "    <tr style=\"text-align: right;\">\n",
       "      <th></th>\n",
       "      <th>Document</th>\n",
       "      <th>Sentence</th>\n",
       "      <th>loan_default</th>\n",
       "      <th>aggregate_dscr_fall</th>\n",
       "      <th>dscr_fall</th>\n",
       "      <th>unspecified</th>\n",
       "      <th>debt_yield_fall</th>\n",
       "      <th>aggregate_debt_yield_fall</th>\n",
       "      <th>mezzanine_default</th>\n",
       "      <th>tenant_failure</th>\n",
       "      <th>mezzanine_outstanding</th>\n",
       "      <th>operator_termination</th>\n",
       "      <th>bankruptcy</th>\n",
       "      <th>sponsor_termination</th>\n",
       "      <th>renovations</th>\n",
       "      <th>nontrigger</th>\n",
       "      <th>sentence_char_count</th>\n",
       "      <th>SentenceTokens</th>\n",
       "      <th>SentenceLemmas</th>\n",
       "      <th>SentenceLemmas_nopunc</th>\n",
       "    </tr>\n",
       "  </thead>\n",
       "  <tbody>\n",
       "    <tr>\n",
       "      <th>0</th>\n",
       "      <td>20120828_01Y0R8_Prospectus_CM00000000205875087...</td>\n",
       "      <td>On each Business Day, the financial institutio...</td>\n",
       "      <td>1</td>\n",
       "      <td>0</td>\n",
       "      <td>0</td>\n",
       "      <td>0</td>\n",
       "      <td>0</td>\n",
       "      <td>0</td>\n",
       "      <td>0</td>\n",
       "      <td>0</td>\n",
       "      <td>0</td>\n",
       "      <td>0</td>\n",
       "      <td>0</td>\n",
       "      <td>0</td>\n",
       "      <td>0</td>\n",
       "      <td>0</td>\n",
       "      <td>446</td>\n",
       "      <td>On each Business Day , the financial instituti...</td>\n",
       "      <td>on each business day , the financial instituti...</td>\n",
       "      <td>on each business day the financial institution...</td>\n",
       "    </tr>\n",
       "    <tr>\n",
       "      <th>1</th>\n",
       "      <td>20120828_01Y0R8_Prospectus_CM00000000205875087...</td>\n",
       "      <td>The Borrower has established and is required t...</td>\n",
       "      <td>1</td>\n",
       "      <td>1</td>\n",
       "      <td>0</td>\n",
       "      <td>0</td>\n",
       "      <td>0</td>\n",
       "      <td>0</td>\n",
       "      <td>0</td>\n",
       "      <td>0</td>\n",
       "      <td>0</td>\n",
       "      <td>0</td>\n",
       "      <td>0</td>\n",
       "      <td>0</td>\n",
       "      <td>0</td>\n",
       "      <td>0</td>\n",
       "      <td>837</td>\n",
       "      <td>The Borrower has established and is required t...</td>\n",
       "      <td>the borrower have establish and be require to ...</td>\n",
       "      <td>the borrower have establish and be require to ...</td>\n",
       "    </tr>\n",
       "    <tr>\n",
       "      <th>2</th>\n",
       "      <td>20120828_01Y0R8_Prospectus_CM00000000205875087...</td>\n",
       "      <td>During a Trigger Period or while an event of d...</td>\n",
       "      <td>1</td>\n",
       "      <td>0</td>\n",
       "      <td>0</td>\n",
       "      <td>0</td>\n",
       "      <td>0</td>\n",
       "      <td>0</td>\n",
       "      <td>0</td>\n",
       "      <td>0</td>\n",
       "      <td>0</td>\n",
       "      <td>0</td>\n",
       "      <td>0</td>\n",
       "      <td>0</td>\n",
       "      <td>0</td>\n",
       "      <td>0</td>\n",
       "      <td>1766</td>\n",
       "      <td>During a Trigger Period or while an event of d...</td>\n",
       "      <td>during a trigger period or while an event of d...</td>\n",
       "      <td>during a trigger period or while an event of d...</td>\n",
       "    </tr>\n",
       "    <tr>\n",
       "      <th>3</th>\n",
       "      <td>20120828_01Y0R8_Prospectus_CM00000000205875087...</td>\n",
       "      <td>On any Business Day all amounts on deposit in ...</td>\n",
       "      <td>1</td>\n",
       "      <td>0</td>\n",
       "      <td>0</td>\n",
       "      <td>0</td>\n",
       "      <td>0</td>\n",
       "      <td>0</td>\n",
       "      <td>0</td>\n",
       "      <td>0</td>\n",
       "      <td>0</td>\n",
       "      <td>0</td>\n",
       "      <td>0</td>\n",
       "      <td>0</td>\n",
       "      <td>0</td>\n",
       "      <td>0</td>\n",
       "      <td>302</td>\n",
       "      <td>On any Business Day all amounts on deposit in ...</td>\n",
       "      <td>on any business day all amount on deposit in t...</td>\n",
       "      <td>on any business day all amount on deposit in t...</td>\n",
       "    </tr>\n",
       "    <tr>\n",
       "      <th>4</th>\n",
       "      <td>20120828_01Y0R8_Prospectus_CM00000000205875087...</td>\n",
       "      <td>Available funds in each Cash Management Accoun...</td>\n",
       "      <td>1</td>\n",
       "      <td>0</td>\n",
       "      <td>0</td>\n",
       "      <td>0</td>\n",
       "      <td>0</td>\n",
       "      <td>0</td>\n",
       "      <td>0</td>\n",
       "      <td>0</td>\n",
       "      <td>0</td>\n",
       "      <td>0</td>\n",
       "      <td>0</td>\n",
       "      <td>0</td>\n",
       "      <td>0</td>\n",
       "      <td>0</td>\n",
       "      <td>235</td>\n",
       "      <td>Available funds in each Cash Management Accoun...</td>\n",
       "      <td>available fund in each cash management account...</td>\n",
       "      <td>available fund in each cash management account...</td>\n",
       "    </tr>\n",
       "  </tbody>\n",
       "</table>\n",
       "</div>"
      ],
      "text/plain": [
       "                                            Document  \\\n",
       "0  20120828_01Y0R8_Prospectus_CM00000000205875087...   \n",
       "1  20120828_01Y0R8_Prospectus_CM00000000205875087...   \n",
       "2  20120828_01Y0R8_Prospectus_CM00000000205875087...   \n",
       "3  20120828_01Y0R8_Prospectus_CM00000000205875087...   \n",
       "4  20120828_01Y0R8_Prospectus_CM00000000205875087...   \n",
       "\n",
       "                                            Sentence  loan_default  \\\n",
       "0  On each Business Day, the financial institutio...             1   \n",
       "1  The Borrower has established and is required t...             1   \n",
       "2  During a Trigger Period or while an event of d...             1   \n",
       "3  On any Business Day all amounts on deposit in ...             1   \n",
       "4  Available funds in each Cash Management Accoun...             1   \n",
       "\n",
       "   aggregate_dscr_fall  dscr_fall  unspecified  debt_yield_fall  \\\n",
       "0                    0          0            0                0   \n",
       "1                    1          0            0                0   \n",
       "2                    0          0            0                0   \n",
       "3                    0          0            0                0   \n",
       "4                    0          0            0                0   \n",
       "\n",
       "   aggregate_debt_yield_fall  mezzanine_default  tenant_failure  \\\n",
       "0                          0                  0               0   \n",
       "1                          0                  0               0   \n",
       "2                          0                  0               0   \n",
       "3                          0                  0               0   \n",
       "4                          0                  0               0   \n",
       "\n",
       "   mezzanine_outstanding  operator_termination  bankruptcy  \\\n",
       "0                      0                     0           0   \n",
       "1                      0                     0           0   \n",
       "2                      0                     0           0   \n",
       "3                      0                     0           0   \n",
       "4                      0                     0           0   \n",
       "\n",
       "   sponsor_termination  renovations  nontrigger  sentence_char_count  \\\n",
       "0                    0            0           0                  446   \n",
       "1                    0            0           0                  837   \n",
       "2                    0            0           0                 1766   \n",
       "3                    0            0           0                  302   \n",
       "4                    0            0           0                  235   \n",
       "\n",
       "                                      SentenceTokens  \\\n",
       "0  On each Business Day , the financial instituti...   \n",
       "1  The Borrower has established and is required t...   \n",
       "2  During a Trigger Period or while an event of d...   \n",
       "3  On any Business Day all amounts on deposit in ...   \n",
       "4  Available funds in each Cash Management Accoun...   \n",
       "\n",
       "                                      SentenceLemmas  \\\n",
       "0  on each business day , the financial instituti...   \n",
       "1  the borrower have establish and be require to ...   \n",
       "2  during a trigger period or while an event of d...   \n",
       "3  on any business day all amount on deposit in t...   \n",
       "4  available fund in each cash management account...   \n",
       "\n",
       "                               SentenceLemmas_nopunc  \n",
       "0  on each business day the financial institution...  \n",
       "1  the borrower have establish and be require to ...  \n",
       "2  during a trigger period or while an event of d...  \n",
       "3  on any business day all amount on deposit in t...  \n",
       "4  available fund in each cash management account...  "
      ]
     },
     "execution_count": 62,
     "metadata": {},
     "output_type": "execute_result"
    }
   ],
   "source": [
    "df.head()"
   ]
  },
  {
   "cell_type": "code",
   "execution_count": 63,
   "metadata": {},
   "outputs": [],
   "source": [
    "# Start by predicting Loan Default trigger\n",
    "\n",
    "target = 'loan_default'\n",
    "\n",
    "\n",
    "X = df['Sentence']\n",
    "y = df['loan_default']\n",
    "\n",
    "y = y.astype('int')"
   ]
  },
  {
   "cell_type": "code",
   "execution_count": 64,
   "metadata": {},
   "outputs": [
    {
     "data": {
      "text/plain": [
       "dtype('int64')"
      ]
     },
     "execution_count": 64,
     "metadata": {},
     "output_type": "execute_result"
    }
   ],
   "source": [
    "y.dtypes"
   ]
  },
  {
   "cell_type": "code",
   "execution_count": null,
   "metadata": {},
   "outputs": [],
   "source": []
  },
  {
   "cell_type": "code",
   "execution_count": 65,
   "metadata": {},
   "outputs": [
    {
     "name": "stdout",
     "output_type": "stream",
     "text": [
      "X shape is (1760,)\n",
      "y shape is (1760,)\n"
     ]
    }
   ],
   "source": [
    "# Checking shape of X and y \n",
    "print(f'X shape is {X.shape}')\n",
    "print(f'y shape is {y.shape}')"
   ]
  },
  {
   "cell_type": "code",
   "execution_count": 66,
   "metadata": {},
   "outputs": [
    {
     "data": {
      "text/plain": [
       "0    1443\n",
       "1     317\n",
       "Name: loan_default, dtype: int64"
      ]
     },
     "execution_count": 66,
     "metadata": {},
     "output_type": "execute_result"
    }
   ],
   "source": [
    "y.value_counts()"
   ]
  },
  {
   "cell_type": "code",
   "execution_count": 67,
   "metadata": {},
   "outputs": [
    {
     "name": "stdout",
     "output_type": "stream",
     "text": [
      "(1320,) (1320,)\n",
      "(440,) (440,)\n"
     ]
    }
   ],
   "source": [
    "X_train, X_test, y_train, y_test = train_test_split(X, y, random_state = RANDOM_STATE)\n",
    "print(X_train.shape, y_train.shape)\n",
    "print(X_test.shape, y_test.shape)"
   ]
  },
  {
   "cell_type": "code",
   "execution_count": 68,
   "metadata": {},
   "outputs": [
    {
     "data": {
      "text/plain": [
       "0    On each Business Day, the financial institutio...\n",
       "1    The Borrower has established and is required t...\n",
       "2    During a Trigger Period or while an event of d...\n",
       "3    On any Business Day all amounts on deposit in ...\n",
       "4    Available funds in each Cash Management Accoun...\n",
       "Name: Sentence, dtype: object"
      ]
     },
     "execution_count": 68,
     "metadata": {},
     "output_type": "execute_result"
    }
   ],
   "source": [
    "X.head()"
   ]
  },
  {
   "cell_type": "code",
   "execution_count": 69,
   "metadata": {},
   "outputs": [
    {
     "data": {
      "text/plain": [
       "1320"
      ]
     },
     "execution_count": 69,
     "metadata": {},
     "output_type": "execute_result"
    }
   ],
   "source": [
    "X_train.shape[0]"
   ]
  },
  {
   "cell_type": "code",
   "execution_count": 70,
   "metadata": {},
   "outputs": [
    {
     "data": {
      "text/plain": [
       "1320"
      ]
     },
     "execution_count": 70,
     "metadata": {},
     "output_type": "execute_result"
    }
   ],
   "source": [
    "y_train.shape[0]"
   ]
  },
  {
   "cell_type": "code",
   "execution_count": null,
   "metadata": {},
   "outputs": [],
   "source": []
  },
  {
   "cell_type": "markdown",
   "metadata": {},
   "source": [
    "## Modeling"
   ]
  },
  {
   "cell_type": "markdown",
   "metadata": {},
   "source": [
    "### CountVectorizer + Logistic Regression GridSearch and modeling"
   ]
  },
  {
   "cell_type": "code",
   "execution_count": 71,
   "metadata": {},
   "outputs": [
    {
     "name": "stdout",
     "output_type": "stream",
     "text": [
      "Seconds elapsed for fitting: 1366.781\n"
     ]
    }
   ],
   "source": [
    "# Define CVEC + Logistic Regression Pipeline\n",
    "pipe_cvec = Pipeline([('cvec', CountVectorizer()), ('lr', LogisticRegression(solver = 'liblinear', random_state = RANDOM_STATE))])\n",
    "cvec_params = {\n",
    "    'cvec__ngram_range': [(1,2), (1,3), (1,4), (1,5), (1,6), (1,7), (1,8), (1,9), (1,10)],\n",
    "    'cvec__stop_words': [None, short_stopwords, select_stopwords],  \n",
    "    'cvec__max_features': [100, 200, 400, 600, 800, 1000],\n",
    "    'cvec__min_df': [2,3],\n",
    "    'cvec__max_df': [.99, .98],\n",
    "    }\n",
    "\n",
    "gs_cvec = GridSearchCV(pipe_cvec, param_grid = cvec_params, cv = 3, scoring = 'accuracy')\n",
    "\n",
    "# Start the timer.\n",
    "t0 = time.time()\n",
    "\n",
    "results_cvec = gs_cvec.fit(X_train, y_train)\n",
    "\n",
    "print(f'Seconds elapsed for fitting: {(time.time() - t0):.3f}') # How many seconds elapsed.\n",
    "\n"
   ]
  },
  {
   "cell_type": "code",
   "execution_count": 72,
   "metadata": {},
   "outputs": [],
   "source": [
    "#log_reg = LogisticRegression()\n",
    "#logreg.fit(X_train, y_train)\n"
   ]
  },
  {
   "cell_type": "code",
   "execution_count": 73,
   "metadata": {},
   "outputs": [
    {
     "name": "stdout",
     "output_type": "stream",
     "text": [
      "Training score is 0.995\n",
      "Test score is 0.977\n",
      "Cross Validation score is 0.931\n",
      "Seconds elapsed for score calculation: 1.388\n"
     ]
    }
   ],
   "source": [
    "t0 = time.time()\n",
    "print(f'Training score is {results_cvec.score(X_train, y_train):.3f}')\n",
    "print(f'Test score is {results_cvec.score(X_test, y_test):.3f}')\n",
    "print(f'Cross Validation score is {cross_val_score(results_cvec.best_estimator_, X, y, cv = 3).mean():.3f}')\n",
    "print(f'Seconds elapsed for score calculation: {(time.time() - t0):.3f}') # How many seconds elapsed."
   ]
  },
  {
   "cell_type": "code",
   "execution_count": 74,
   "metadata": {},
   "outputs": [
    {
     "name": "stdout",
     "output_type": "stream",
     "text": [
      "Best Score:0.977\n",
      "Best Parameters :{'cvec__max_df': 0.99, 'cvec__max_features': 1000, 'cvec__min_df': 2, 'cvec__ngram_range': (1, 3), 'cvec__stop_words': ['latterly', 'you', 'thereafter', 'becomes', 'further', 'somewhere', 'just', 'whereafter', 'does', 'down', 'forty', 'though', 'thus', 'them', 'many', 'that', 'or', 'latter', 'ourselves', 'out', 'too', 'it', 'being', 'might', 'anything', 'six', 'whole', 'would', 'however', 'must', 'used', 'against', 'during', 'whither', 'whereby', 'so', 'give', 'me', 'has', 'four', 'say', 'are', 'go', 'another', 'how', 'seem', 'again', 'whoever', 'get', 'hundred', 'hence', 'among', 'sometime', 'some', 'their', 'upon', 'not', 'hereupon', 'nowhere', 'itself', 'did', 'ever', 'namely', 'elsewhere', 'mostly', 'sometimes', 'side', 'sixty', 'off', 'although', 'besides', 'were', 'serious', 'was', 'thru', 'seemed', 'every', 'when', 'seems', 'neither', 'anyhow', 'mine', 'now', 'noone', 'up', 'his', 'us', 'regarding', 're', 'unless', 'make', 'above', 'next', 'beforehand', 'than', 'before', 'no', 'in', 'became', 'formerly', 'is', 'same', 'made', 'they', 'toward', 'whereupon', 'while', 'everything', 'behind', 'could', 'already', 'whereas', 'we', 'our', 'fifty', 'such', 'take', 'none', 'your', 'bottom', 'nobody', 'without', 'towards', 'via', 'been', 'whose', 'please', 'together', 'whether', 'amongst', 'those', 'into', 'more', 'two', 'twelve', 'enough', 'fifteen', 'per', 'who', 'rather', 'various', 'most', 'whatever', 'within', 'third', 'anyway', 'doing', 'herself', 'its', 'her', 'themselves', 'three', 'well', 'whom', 'hereby', 'thereby', 'except', 'few', 'nothing', 'around', 'am', 'empty', 'others', 'see', 'myself', 'why', 'yours', 'along', 'if', 'but', 'someone', 'can', 'much', 'until', 'almost', 'everywhere', 'keep', 'after', 'across', 'he', 'five', 'least', 'my', 'otherwise', 'show', 'back', 'both', 'full', 'move', 'the', 'have', 'beyond', 'also', 'top', 'amount', 'wherever', 'anyone', 'therefore', 'last', 'twenty', 'call', 'will', 'yourselves', 'often', 'something', 'really', 'may', 'beside', 'here', 'thence', 'else', 'with', 'perhaps', 'once', 'to', 'somehow', 'first', 'through', 'even', 'an', 'ten', 'moreover', 'name', 'never', 'part', 'at', 'him', 'always', 'i', 'what', 'former', 'alone', 'on', 'becoming', 'less', 'hereafter', 'seeming', 'using', 'eight', 'nor', 'one', 'each', 'hers', 'everyone', 'over', 'several', 'therein', 'she', 'ca', 'other', 'these', 'become', 'all', 'about', 'indeed', 'since', 'throughout', 'quite', 'whence', 'which', 'ours', 'and', 'nevertheless', 'below', 'still', 'do', 'onto', 'there', 'front', 'of', 'either', 'own', 'put', 'be', 'wherein', 'as', 'by', 'between', 'done', 'then', 'under', 'a', 'anywhere', 'yet', 'yourself', 'due', 'from', 'only', 'eleven', 'afterwards', 'this', 'very', 'where', 'nine', 'whenever', 'had', 'meanwhile', 'himself', 'for', 'herein', 'any', 'because']}\n"
     ]
    }
   ],
   "source": [
    "print(f'Best Score:{(results_cvec.best_score_):.3f}')\n",
    "print(f'Best Parameters :{results_cvec.best_params_}')"
   ]
  },
  {
   "cell_type": "code",
   "execution_count": null,
   "metadata": {},
   "outputs": [],
   "source": []
  },
  {
   "cell_type": "markdown",
   "metadata": {},
   "source": [
    "### 2: TFIDF + Logistic Regression GridSearch and modeling"
   ]
  },
  {
   "cell_type": "code",
   "execution_count": 75,
   "metadata": {},
   "outputs": [
    {
     "name": "stdout",
     "output_type": "stream",
     "text": [
      "Seconds elapsed for fitting: 351.575\n"
     ]
    }
   ],
   "source": [
    "# Define TFIDF + Logistic Regression Pipeline\n",
    "\n",
    "pipe_tfidf = Pipeline([('tfidf', TfidfVectorizer()), ('lr', LogisticRegression(max_iter = 4000, random_state = RANDOM_STATE))])\n",
    "\n",
    "tfidf_params = {\n",
    "    'tfidf__ngram_range': [(1,2), (1,3), (1,4), (1,5), (1,6), (1,7), (1,8), (1,9), (1,10)],\n",
    "    'tfidf__stop_words': [None, short_stopwords, select_stopwords],  \n",
    "    'tfidf__max_features': [100, 200, 400, 600, 800, 1000],\n",
    "#    'tfidf__min_df': [2],\n",
    "#    'tfidf__max_df': [.99],\n",
    "    }\n",
    "\n",
    "gs_tfidf = GridSearchCV(pipe_tfidf, param_grid = tfidf_params, cv = 3, scoring = 'accuracy')\n",
    "\n",
    "results_tfidf = gs_tfidf.fit(X_train, y_train)\n",
    "\n",
    "print(f'Seconds elapsed for fitting: {(time.time() - t0):.3f}') # How many seconds elapsed.\n",
    "\n"
   ]
  },
  {
   "cell_type": "code",
   "execution_count": 76,
   "metadata": {},
   "outputs": [
    {
     "name": "stdout",
     "output_type": "stream",
     "text": [
      "Training score is 0.962\n",
      "Test score is 0.957\n",
      "Cross Validation score is 0.951\n",
      "Seconds elapsed for score calculation: 1.651\n"
     ]
    }
   ],
   "source": [
    "t0 = time.time()\n",
    "print(f'Training score is {results_tfidf.score(X_train, y_train):.3f}')\n",
    "print(f'Test score is {results_tfidf.score(X_test, y_test):.3f}')\n",
    "print(f'Cross Validation score is {cross_val_score(results_tfidf.best_estimator_, X, y, cv = 3).mean():.3f}')\n",
    "print(f'Seconds elapsed for score calculation: {(time.time() - t0):.3f}') # How many seconds elapsed."
   ]
  },
  {
   "cell_type": "code",
   "execution_count": 77,
   "metadata": {},
   "outputs": [
    {
     "name": "stdout",
     "output_type": "stream",
     "text": [
      "Best Score: 0.9522727272727272\n",
      "Best Parameters: {'tfidf__max_features': 100, 'tfidf__ngram_range': (1, 4), 'tfidf__stop_words': ['the', 'and', 'a', 'to', 'I', 'it', 'be', 'for', 'with', 'that']}\n"
     ]
    }
   ],
   "source": [
    "print(f'Best Score: {results_tfidf.best_score_}')\n",
    "print(f'Best Parameters: {results_tfidf.best_params_}')"
   ]
  },
  {
   "cell_type": "code",
   "execution_count": null,
   "metadata": {},
   "outputs": [],
   "source": []
  },
  {
   "cell_type": "markdown",
   "metadata": {},
   "source": [
    "### 3: CountVectorizer + Multinomial Naive Bayes GridSearch & modeling"
   ]
  },
  {
   "cell_type": "code",
   "execution_count": 78,
   "metadata": {},
   "outputs": [
    {
     "name": "stdout",
     "output_type": "stream",
     "text": [
      "Seconds elapsed for fitting: 285.426\n"
     ]
    }
   ],
   "source": [
    "# Define CountVectorizer + Multinomial Naive Bayes Grisearch pipeline\n",
    "\n",
    "pipe_mnb = Pipeline([('cvec', CountVectorizer()), ('mnb', MultinomialNB())])\n",
    "mnb_params = {\n",
    "    'cvec__ngram_range': [(1,2), (1,3), (1,4), (1,5), (1,6), (1,7), (1,8), (1,9), (1,10)],\n",
    "    'cvec__stop_words': [None, short_stopwords, select_stopwords],\n",
    "    'cvec__max_features': [100, 200, 400, 600, 800, 1000],\n",
    "#    'cvec__min_df': [3],\n",
    "#    'cvec__max_df': [ .99],\n",
    "    }\n",
    "\n",
    "gs_mnb = GridSearchCV(pipe_mnb, param_grid = mnb_params, cv = 3, scoring = 'accuracy')\n",
    "\n",
    "# Start the timer.\n",
    "t0 = time.time()\n",
    "\n",
    "results_mnb = gs_mnb.fit(X_train, y_train)\n",
    "\n",
    "print(f'Seconds elapsed for fitting: {(time.time() - t0):.3f}') # How many seconds elapsed."
   ]
  },
  {
   "cell_type": "code",
   "execution_count": 79,
   "metadata": {},
   "outputs": [
    {
     "name": "stdout",
     "output_type": "stream",
     "text": [
      "Training score is 0.962\n",
      "Test score is 0.950\n",
      "Cross Validation score is 0.888\n",
      "Seconds elapsed for score calculation: 1.608\n"
     ]
    }
   ],
   "source": [
    "t0 = time.time()\n",
    "print(f'Training score is {results_mnb.score(X_train, y_train):.3f}')\n",
    "print(f'Test score is {results_mnb.score(X_test, y_test):.3f}')\n",
    "print(f'Cross Validation score is {cross_val_score(results_mnb.best_estimator_, X, y, cv = 3).mean():.3f}')\n",
    "print(f'Seconds elapsed for score calculation: {(time.time() - t0):.3f}') # How many seconds elapsed."
   ]
  },
  {
   "cell_type": "code",
   "execution_count": 80,
   "metadata": {},
   "outputs": [
    {
     "name": "stdout",
     "output_type": "stream",
     "text": [
      "Best Score: 0.943181818181818\n",
      "Best Parameters: {'cvec__max_features': 100, 'cvec__ngram_range': (1, 4), 'cvec__stop_words': ['the', 'and', 'a', 'to', 'I', 'it', 'be', 'for', 'with', 'that']}\n"
     ]
    }
   ],
   "source": [
    "print(f'Best Score: {results_mnb.best_score_}')\n",
    "print(f'Best Parameters: {results_mnb.best_params_}')"
   ]
  },
  {
   "cell_type": "code",
   "execution_count": null,
   "metadata": {},
   "outputs": [],
   "source": []
  },
  {
   "cell_type": "markdown",
   "metadata": {},
   "source": [
    "### 4: TFIDF + Gaussian Naive Bayes GridSearch & modeling"
   ]
  },
  {
   "cell_type": "code",
   "execution_count": 81,
   "metadata": {},
   "outputs": [
    {
     "name": "stdout",
     "output_type": "stream",
     "text": [
      "Seconds elapsed for fitting: 288.583\n"
     ]
    }
   ],
   "source": [
    "# Define TFIDF + Gaussian Naive Bayes Gridsearch pipeline\n",
    "\n",
    "from sklearn.base import TransformerMixin\n",
    "class DenseTransformer(TransformerMixin):\n",
    "\n",
    "    def fit(self, X, y=None, **fit_params):\n",
    "        return self\n",
    "\n",
    "    def transform(self, X, y=None, **fit_params):\n",
    "        return X.todense()\n",
    "\n",
    "\n",
    "pipe_gnb = Pipeline([('tfidf', TfidfVectorizer()), ('to_dense', DenseTransformer()),('gnb', GaussianNB())])\n",
    "\n",
    "gnb_params = {\n",
    "    'tfidf__ngram_range': [(1,2), (1,3), (1,4), (1,5), (1,6), (1,7), (1,8), (1,9), (1,10)],\n",
    "    'tfidf__stop_words': [None, short_stopwords, select_stopwords],\n",
    "    'tfidf__max_features': [100, 200, 400, 600, 800, 1000],\n",
    "#    'tfidf__min_df': [2],\n",
    "#    'tfidf__max_df': [.99],\n",
    "    }\n",
    "\n",
    "gs_gnb = GridSearchCV(pipe_gnb, param_grid = gnb_params, cv = 3, scoring = 'accuracy')\n",
    "\n",
    "# Start the timer.\n",
    "t0 = time.time()\n",
    "\n",
    "results_gnb = gs_gnb.fit(X_train, y_train)\n",
    "\n",
    "print(f'Seconds elapsed for fitting: {(time.time() - t0):.3f}') # How many seconds elapsed."
   ]
  },
  {
   "cell_type": "code",
   "execution_count": 82,
   "metadata": {},
   "outputs": [
    {
     "name": "stdout",
     "output_type": "stream",
     "text": [
      "Training score is 0.964\n",
      "Test score is 0.948\n",
      "Cross Validation score is 0.898\n",
      "Seconds elapsed for score calculation: 1.593\n"
     ]
    }
   ],
   "source": [
    "t0 = time.time()\n",
    "print(f'Training score is {results_gnb.score(X_train, y_train):.3f}')\n",
    "print(f'Test score is {results_gnb.score(X_test, y_test):.3f}')\n",
    "print(f'Cross Validation score is {cross_val_score(results_gnb.best_estimator_, X, y, cv = 3).mean():.3f}')\n",
    "print(f'Seconds elapsed for score calculation: {(time.time() - t0):.3f}') # How many seconds elapsed."
   ]
  },
  {
   "cell_type": "code",
   "execution_count": 83,
   "metadata": {},
   "outputs": [
    {
     "name": "stdout",
     "output_type": "stream",
     "text": [
      "Best Score: 0.9507575757575758\n",
      "Best Parameters: {'tfidf__max_features': 100, 'tfidf__ngram_range': (1, 4), 'tfidf__stop_words': ['the', 'and', 'a', 'to', 'I', 'it', 'be', 'for', 'with', 'that']}\n"
     ]
    }
   ],
   "source": [
    "print(f'Best Score: {results_gnb.best_score_}')\n",
    "print(f'Best Parameters: {results_gnb.best_params_}')"
   ]
  },
  {
   "cell_type": "markdown",
   "metadata": {},
   "source": [
    "### CountVectorizor + Random Forest"
   ]
  },
  {
   "cell_type": "code",
   "execution_count": 84,
   "metadata": {},
   "outputs": [
    {
     "name": "stdout",
     "output_type": "stream",
     "text": [
      "Seconds elapsed for fitting: 721.951\n"
     ]
    }
   ],
   "source": [
    "# Define CVEC + Logistic Regression Pipeline\n",
    "pipe_rf = Pipeline([('cvec', CountVectorizer()), ('rf', RandomForestClassifier(random_state = RANDOM_STATE, n_jobs = 2))])\n",
    "rf_params = {\n",
    "    'cvec__ngram_range': [(1,2), (1,3), (1,4), (1,5)],\n",
    "    'cvec__stop_words': [None, short_stopwords, select_stopwords],  \n",
    "    'cvec__max_features': [800, 1000, 1200],\n",
    "    'cvec__min_df': [2],\n",
    "    'cvec__max_df': [.99],\n",
    "    'rf__max_depth': [4,5, 6],\n",
    "    'rf__min_samples_split': [2,3],\n",
    "    'rf__min_samples_leaf': [10, 12]\n",
    "    }\n",
    "\n",
    "gs_rf = GridSearchCV(pipe_rf, param_grid = rf_params, cv = 3, scoring = 'accuracy')\n",
    "\n",
    "# Start the timer.\n",
    "t0 = time.time()\n",
    "\n",
    "results_rf = gs_rf.fit(X_train, y_train)\n",
    "\n",
    "print(f'Seconds elapsed for fitting: {(time.time() - t0):.3f}') # How many seconds elapsed.\n",
    "\n"
   ]
  },
  {
   "cell_type": "code",
   "execution_count": 85,
   "metadata": {},
   "outputs": [
    {
     "name": "stdout",
     "output_type": "stream",
     "text": [
      "Training score is 0.989\n",
      "Test score is 0.982\n",
      "Cross Validation score is 0.985\n",
      "Seconds elapsed for score calculation: 2.475\n"
     ]
    }
   ],
   "source": [
    "t0 = time.time()\n",
    "print(f'Training score is {results_rf.score(X_train, y_train):.3f}')\n",
    "print(f'Test score is {results_rf.score(X_test, y_test):.3f}')\n",
    "print(f'Cross Validation score is {cross_val_score(results_rf.best_estimator_, X, y, cv = 3).mean():.3f}')\n",
    "print(f'Seconds elapsed for score calculation: {(time.time() - t0):.3f}') # How many seconds elapsed."
   ]
  },
  {
   "cell_type": "code",
   "execution_count": 86,
   "metadata": {},
   "outputs": [
    {
     "name": "stdout",
     "output_type": "stream",
     "text": [
      "Best Score: 0.9878787878787879\n",
      "Best Parameters: {'cvec__max_df': 0.99, 'cvec__max_features': 800, 'cvec__min_df': 2, 'cvec__ngram_range': (1, 3), 'cvec__stop_words': None, 'rf__max_depth': 6, 'rf__min_samples_leaf': 12, 'rf__min_samples_split': 2}\n"
     ]
    }
   ],
   "source": [
    "print(f'Best Score: {results_rf.best_score_}')\n",
    "print(f'Best Parameters: {results_rf.best_params_}')"
   ]
  },
  {
   "cell_type": "code",
   "execution_count": null,
   "metadata": {},
   "outputs": [],
   "source": []
  },
  {
   "cell_type": "code",
   "execution_count": null,
   "metadata": {},
   "outputs": [],
   "source": []
  },
  {
   "cell_type": "code",
   "execution_count": null,
   "metadata": {},
   "outputs": [],
   "source": []
  },
  {
   "cell_type": "code",
   "execution_count": null,
   "metadata": {},
   "outputs": [],
   "source": []
  },
  {
   "cell_type": "code",
   "execution_count": null,
   "metadata": {},
   "outputs": [],
   "source": []
  },
  {
   "cell_type": "markdown",
   "metadata": {},
   "source": [
    "## Model Selection\n",
    "- In this section we compare the Train and Test scores across the various models"
   ]
  },
  {
   "cell_type": "code",
   "execution_count": null,
   "metadata": {},
   "outputs": [],
   "source": []
  },
  {
   "cell_type": "code",
   "execution_count": 87,
   "metadata": {},
   "outputs": [
    {
     "name": "stdout",
     "output_type": "stream",
     "text": [
      "Baseline Score:                                0.770\n",
      "CountVectorizer + LogisticRegression Accuracy: 0.995\n",
      "TfidfVectorizer + LogisticRegression Accuracy: 0.962\n",
      "CountVectorizer + Multinomial Naive Bayes:     0.962\n",
      "TfidfVectorizer + Gaussian Naive Bayes:        0.964\n",
      "CountVectorizer + Random Forest Accuracy:      0.989\n"
     ]
    }
   ],
   "source": [
    "# Check Training Scores across all models\n",
    "print(f'Baseline Score:                                {y_test.value_counts(normalize=True)[0]:.3f}')\n",
    "print(f'CountVectorizer + LogisticRegression Accuracy: {results_cvec.score(X_train, y_train):.3f}')\n",
    "print(f'TfidfVectorizer + LogisticRegression Accuracy: {results_tfidf.score(X_train, y_train):.3f}')\n",
    "print(f'CountVectorizer + Multinomial Naive Bayes:     {results_mnb.score(X_train, y_train):.3f}')\n",
    "print(f'TfidfVectorizer + Gaussian Naive Bayes:        {results_gnb.score(X_train, y_train):.3f}')\n",
    "print(f'CountVectorizer + Random Forest Accuracy:      {results_rf.score(X_train, y_train):.3f}')"
   ]
  },
  {
   "cell_type": "code",
   "execution_count": 88,
   "metadata": {},
   "outputs": [
    {
     "name": "stdout",
     "output_type": "stream",
     "text": [
      "Baseline Score:                                0.770\n",
      "CountVectorizer + LogisticRegression Accuracy: 0.977\n",
      "TfidfVectorizer + LogisticRegression Accuracy: 0.957\n",
      "CountVectorizer + Multinomial Naive Bayes:     0.950\n",
      "TfidfVectorizer + Gaussian Naive Bayes:        0.948\n",
      "CountVectorizer + Random Forest Accuracy:      0.982\n"
     ]
    }
   ],
   "source": [
    "# Check Testing Scores across all models\n",
    "print(f'Baseline Score:                                {y_test.value_counts(normalize=True)[0]:.3f}')\n",
    "print(f'CountVectorizer + LogisticRegression Accuracy: {results_cvec.score(X_test, y_test):.3f}')\n",
    "print(f'TfidfVectorizer + LogisticRegression Accuracy: {results_tfidf.score(X_test, y_test):.3f}')\n",
    "print(f'CountVectorizer + Multinomial Naive Bayes:     {results_mnb.score(X_test, y_test):.3f}')\n",
    "print(f'TfidfVectorizer + Gaussian Naive Bayes:        {results_gnb.score(X_test, y_test):.3f}')\n",
    "print(f'CountVectorizer + Random Forest Accuracy:      {results_rf.score(X_test, y_test):.3f}')"
   ]
  },
  {
   "cell_type": "code",
   "execution_count": null,
   "metadata": {},
   "outputs": [],
   "source": []
  },
  {
   "cell_type": "markdown",
   "metadata": {},
   "source": [
    "## Model Evaluation - Logistic Regression"
   ]
  },
  {
   "cell_type": "code",
   "execution_count": 89,
   "metadata": {},
   "outputs": [],
   "source": [
    "# Isolate the individual words and their coefficients\n",
    "# Feature names (i.e., words in the Sentences):\n",
    "names = results_cvec.best_estimator_.steps[0][1].get_feature_names()\n",
    "\n",
    "# classifier (betas):\n",
    "classifier = results_cvec.best_estimator_.named_steps['lr']\n",
    "\n",
    "# https://stackoverflow.com/questions/43856280/return-coefficients-from-pipeline-object-in-sklearn"
   ]
  },
  {
   "cell_type": "code",
   "execution_count": 90,
   "metadata": {},
   "outputs": [
    {
     "data": {
      "text/plain": [
       "[-0.04548896733604445,\n",
       " -0.09488298091270428,\n",
       " -0.03261170445160255,\n",
       " -0.1094439992606837,\n",
       " 0.020283120186385218,\n",
       " 0.025809642926854368,\n",
       " 0.0525826930435609,\n",
       " -0.024666317003036207,\n",
       " -0.08507458962430627,\n",
       " -0.027128974834364435]"
      ]
     },
     "execution_count": 90,
     "metadata": {},
     "output_type": "execute_result"
    }
   ],
   "source": [
    "# Extract coefficients from the classifier defined above\n",
    "coef_cvec = np.array(classifier.coef_).tolist()[0]\n",
    "coef_cvec[:10] #Look at 10 coefficients"
   ]
  },
  {
   "cell_type": "code",
   "execution_count": 91,
   "metadata": {},
   "outputs": [],
   "source": [
    "# Create zipped list of the word names with their corresponding beta coefficients\n",
    "cvec_top_words = list(zip(names, coef_cvec))"
   ]
  },
  {
   "cell_type": "code",
   "execution_count": 92,
   "metadata": {},
   "outputs": [],
   "source": [
    "# Create final dataframe of words with their corresponding coefficients\n",
    "df_cvec_coefs = pd.DataFrame(cvec_top_words).rename(columns = {0: 'word', 1: 'coef'}).sort_values(by = 'coef', ascending = True)"
   ]
  },
  {
   "cell_type": "code",
   "execution_count": 93,
   "metadata": {},
   "outputs": [
    {
     "data": {
      "text/html": [
       "<div>\n",
       "<style scoped>\n",
       "    .dataframe tbody tr th:only-of-type {\n",
       "        vertical-align: middle;\n",
       "    }\n",
       "\n",
       "    .dataframe tbody tr th {\n",
       "        vertical-align: top;\n",
       "    }\n",
       "\n",
       "    .dataframe thead th {\n",
       "        text-align: right;\n",
       "    }\n",
       "</style>\n",
       "<table border=\"1\" class=\"dataframe\">\n",
       "  <thead>\n",
       "    <tr style=\"text-align: right;\">\n",
       "      <th></th>\n",
       "      <th>word</th>\n",
       "      <th>coef</th>\n",
       "    </tr>\n",
       "  </thead>\n",
       "  <tbody>\n",
       "    <tr>\n",
       "      <th>274</th>\n",
       "      <td>default</td>\n",
       "      <td>1.774097</td>\n",
       "    </tr>\n",
       "    <tr>\n",
       "      <th>362</th>\n",
       "      <td>event default</td>\n",
       "      <td>1.649325</td>\n",
       "    </tr>\n",
       "    <tr>\n",
       "      <th>609</th>\n",
       "      <td>mortgage loan event</td>\n",
       "      <td>1.393923</td>\n",
       "    </tr>\n",
       "    <tr>\n",
       "      <th>228</th>\n",
       "      <td>continuance</td>\n",
       "      <td>0.847666</td>\n",
       "    </tr>\n",
       "    <tr>\n",
       "      <th>650</th>\n",
       "      <td>order</td>\n",
       "      <td>0.585130</td>\n",
       "    </tr>\n",
       "    <tr>\n",
       "      <th>531</th>\n",
       "      <td>loan event default</td>\n",
       "      <td>0.583377</td>\n",
       "    </tr>\n",
       "    <tr>\n",
       "      <th>530</th>\n",
       "      <td>loan event</td>\n",
       "      <td>0.576680</td>\n",
       "    </tr>\n",
       "    <tr>\n",
       "      <th>605</th>\n",
       "      <td>mortgage loan</td>\n",
       "      <td>0.562212</td>\n",
       "    </tr>\n",
       "    <tr>\n",
       "      <th>48</th>\n",
       "      <td>account required</td>\n",
       "      <td>0.555053</td>\n",
       "    </tr>\n",
       "    <tr>\n",
       "      <th>360</th>\n",
       "      <td>event</td>\n",
       "      <td>0.540102</td>\n",
       "    </tr>\n",
       "    <tr>\n",
       "      <th>363</th>\n",
       "      <td>event default continuing</td>\n",
       "      <td>0.532502</td>\n",
       "    </tr>\n",
       "    <tr>\n",
       "      <th>234</th>\n",
       "      <td>continuing</td>\n",
       "      <td>0.473897</td>\n",
       "    </tr>\n",
       "    <tr>\n",
       "      <th>89</th>\n",
       "      <td>apply</td>\n",
       "      <td>0.472705</td>\n",
       "    </tr>\n",
       "    <tr>\n",
       "      <th>883</th>\n",
       "      <td>shall</td>\n",
       "      <td>0.457539</td>\n",
       "    </tr>\n",
       "    <tr>\n",
       "      <th>371</th>\n",
       "      <td>exceeds</td>\n",
       "      <td>0.454698</td>\n",
       "    </tr>\n",
       "    <tr>\n",
       "      <th>496</th>\n",
       "      <td>leases</td>\n",
       "      <td>0.451647</td>\n",
       "    </tr>\n",
       "    <tr>\n",
       "      <th>542</th>\n",
       "      <td>long</td>\n",
       "      <td>0.422295</td>\n",
       "    </tr>\n",
       "    <tr>\n",
       "      <th>828</th>\n",
       "      <td>reserve account</td>\n",
       "      <td>0.421839</td>\n",
       "    </tr>\n",
       "    <tr>\n",
       "      <th>955</th>\n",
       "      <td>trigger</td>\n",
       "      <td>0.393380</td>\n",
       "    </tr>\n",
       "    <tr>\n",
       "      <th>277</th>\n",
       "      <td>default mortgage</td>\n",
       "      <td>0.377705</td>\n",
       "    </tr>\n",
       "  </tbody>\n",
       "</table>\n",
       "</div>"
      ],
      "text/plain": [
       "                         word      coef\n",
       "274                   default  1.774097\n",
       "362             event default  1.649325\n",
       "609       mortgage loan event  1.393923\n",
       "228               continuance  0.847666\n",
       "650                     order  0.585130\n",
       "531        loan event default  0.583377\n",
       "530                loan event  0.576680\n",
       "605             mortgage loan  0.562212\n",
       "48           account required  0.555053\n",
       "360                     event  0.540102\n",
       "363  event default continuing  0.532502\n",
       "234                continuing  0.473897\n",
       "89                      apply  0.472705\n",
       "883                     shall  0.457539\n",
       "371                   exceeds  0.454698\n",
       "496                    leases  0.451647\n",
       "542                      long  0.422295\n",
       "828           reserve account  0.421839\n",
       "955                   trigger  0.393380\n",
       "277          default mortgage  0.377705"
      ]
     },
     "execution_count": 93,
     "metadata": {},
     "output_type": "execute_result"
    }
   ],
   "source": [
    "# Top differentiating words and phrases for this Trigger type\n",
    "df_cvec_coefs.tail(20).sort_values('coef', ascending = False)"
   ]
  },
  {
   "cell_type": "code",
   "execution_count": 94,
   "metadata": {},
   "outputs": [
    {
     "data": {
      "text/html": [
       "<div>\n",
       "<style scoped>\n",
       "    .dataframe tbody tr th:only-of-type {\n",
       "        vertical-align: middle;\n",
       "    }\n",
       "\n",
       "    .dataframe tbody tr th {\n",
       "        vertical-align: top;\n",
       "    }\n",
       "\n",
       "    .dataframe thead th {\n",
       "        text-align: right;\n",
       "    }\n",
       "</style>\n",
       "<table border=\"1\" class=\"dataframe\">\n",
       "  <thead>\n",
       "    <tr style=\"text-align: right;\">\n",
       "      <th></th>\n",
       "      <th>word</th>\n",
       "      <th>coef</th>\n",
       "    </tr>\n",
       "  </thead>\n",
       "  <tbody>\n",
       "    <tr>\n",
       "      <th>568</th>\n",
       "      <td>means</td>\n",
       "      <td>-1.323108</td>\n",
       "    </tr>\n",
       "    <tr>\n",
       "      <th>787</th>\n",
       "      <td>renovation work replacements</td>\n",
       "      <td>-0.520052</td>\n",
       "    </tr>\n",
       "    <tr>\n",
       "      <th>622</th>\n",
       "      <td>notice</td>\n",
       "      <td>-0.510947</td>\n",
       "    </tr>\n",
       "    <tr>\n",
       "      <th>989</th>\n",
       "      <td>work replacements</td>\n",
       "      <td>-0.450405</td>\n",
       "    </tr>\n",
       "    <tr>\n",
       "      <th>577</th>\n",
       "      <td>mezzanine loan</td>\n",
       "      <td>-0.438065</td>\n",
       "    </tr>\n",
       "    <tr>\n",
       "      <th>830</th>\n",
       "      <td>reserve fund</td>\n",
       "      <td>-0.398912</td>\n",
       "    </tr>\n",
       "    <tr>\n",
       "      <th>26</th>\n",
       "      <td>account</td>\n",
       "      <td>-0.378440</td>\n",
       "    </tr>\n",
       "    <tr>\n",
       "      <th>796</th>\n",
       "      <td>replacement</td>\n",
       "      <td>-0.373509</td>\n",
       "    </tr>\n",
       "    <tr>\n",
       "      <th>596</th>\n",
       "      <td>mortgage lender</td>\n",
       "      <td>-0.365286</td>\n",
       "    </tr>\n",
       "    <tr>\n",
       "      <th>772</th>\n",
       "      <td>received written notice</td>\n",
       "      <td>-0.359946</td>\n",
       "    </tr>\n",
       "    <tr>\n",
       "      <th>771</th>\n",
       "      <td>received written</td>\n",
       "      <td>-0.359885</td>\n",
       "    </tr>\n",
       "    <tr>\n",
       "      <th>513</th>\n",
       "      <td>lender received written</td>\n",
       "      <td>-0.359323</td>\n",
       "    </tr>\n",
       "    <tr>\n",
       "      <th>40</th>\n",
       "      <td>account insurance</td>\n",
       "      <td>-0.357886</td>\n",
       "    </tr>\n",
       "    <tr>\n",
       "      <th>41</th>\n",
       "      <td>account insurance account</td>\n",
       "      <td>-0.357762</td>\n",
       "    </tr>\n",
       "    <tr>\n",
       "      <th>481</th>\n",
       "      <td>insurance account</td>\n",
       "      <td>-0.351770</td>\n",
       "    </tr>\n",
       "    <tr>\n",
       "      <th>210</th>\n",
       "      <td>complete</td>\n",
       "      <td>-0.349645</td>\n",
       "    </tr>\n",
       "    <tr>\n",
       "      <th>993</th>\n",
       "      <td>written notice</td>\n",
       "      <td>-0.348332</td>\n",
       "    </tr>\n",
       "    <tr>\n",
       "      <th>851</th>\n",
       "      <td>result</td>\n",
       "      <td>-0.344374</td>\n",
       "    </tr>\n",
       "    <tr>\n",
       "      <th>783</th>\n",
       "      <td>renovation</td>\n",
       "      <td>-0.340106</td>\n",
       "    </tr>\n",
       "    <tr>\n",
       "      <th>202</th>\n",
       "      <td>collateral</td>\n",
       "      <td>-0.332345</td>\n",
       "    </tr>\n",
       "  </tbody>\n",
       "</table>\n",
       "</div>"
      ],
      "text/plain": [
       "                             word      coef\n",
       "568                         means -1.323108\n",
       "787  renovation work replacements -0.520052\n",
       "622                        notice -0.510947\n",
       "989             work replacements -0.450405\n",
       "577                mezzanine loan -0.438065\n",
       "830                  reserve fund -0.398912\n",
       "26                        account -0.378440\n",
       "796                   replacement -0.373509\n",
       "596               mortgage lender -0.365286\n",
       "772       received written notice -0.359946\n",
       "771              received written -0.359885\n",
       "513       lender received written -0.359323\n",
       "40              account insurance -0.357886\n",
       "41      account insurance account -0.357762\n",
       "481             insurance account -0.351770\n",
       "210                      complete -0.349645\n",
       "993                written notice -0.348332\n",
       "851                        result -0.344374\n",
       "783                    renovation -0.340106\n",
       "202                    collateral -0.332345"
      ]
     },
     "execution_count": 94,
     "metadata": {},
     "output_type": "execute_result"
    }
   ],
   "source": [
    "# Display top opposing words and phrases for this Trigger type\n",
    "df_cvec_coefs.head(20)"
   ]
  },
  {
   "cell_type": "code",
   "execution_count": 95,
   "metadata": {},
   "outputs": [
    {
     "data": {
      "image/png": "[encoded data removed]",
      "text/plain": [
       "<Figure size 720x576 with 1 Axes>"
      ]
     },
     "metadata": {
      "needs_background": "light"
     },
     "output_type": "display_data"
    }
   ],
   "source": [
    "def coef_plot(category):\n",
    "    '''\n",
    "    Plots the top 10 and bottom 10 coefficients for the complexity category specified\n",
    "    '''\n",
    "    coefs_1 = df_cvec_coefs.sort_values(by=category, ascending=False).tail(10) # getting the top 10 coefficients\n",
    "    coefs_2 = df_cvec_coefs.sort_values(by=category, ascending=False).head(10) # getting the bottom 10 coefficients\n",
    "    coefs = pd.concat([coefs_2, coefs_1], axis = 0) # merging the two into one\n",
    "    # plotting importance\n",
    "    plt.figure(figsize=(10, 8)) # plotting the coefficients\n",
    "    plt.title(f'Feature Coefficients for Loan Default', fontsize=25)\n",
    "    sns.set_style(\"darkgrid\")\n",
    "    sns.barplot(data=coefs,\n",
    "                x=category,\n",
    "                y='word',\n",
    "                orient='h',\n",
    "                palette = 'PuBuGn_d')\n",
    "    plt.xlabel('coefficient', fontsize=15)\n",
    "    plt.ylabel('feature', fontsize=15)\n",
    "    plt.tick_params(labelsize=15)\n",
    "coef_plot('coef')"
   ]
  },
  {
   "cell_type": "code",
   "execution_count": null,
   "metadata": {},
   "outputs": [],
   "source": []
  },
  {
   "cell_type": "code",
   "execution_count": null,
   "metadata": {},
   "outputs": [],
   "source": []
  },
  {
   "cell_type": "code",
   "execution_count": null,
   "metadata": {},
   "outputs": [],
   "source": []
  },
  {
   "cell_type": "markdown",
   "metadata": {},
   "source": [
    "## Calculating predictions and Confusion Matrix"
   ]
  },
  {
   "cell_type": "code",
   "execution_count": 96,
   "metadata": {},
   "outputs": [],
   "source": [
    "# Here, we isolate our best model & make predictions based on our test data\n",
    "best_model = results_rf.best_estimator_\n",
    "preds = best_model.predict(X_test)"
   ]
  },
  {
   "cell_type": "code",
   "execution_count": 97,
   "metadata": {},
   "outputs": [
    {
     "data": {
      "text/plain": [
       "array([1, 1, 0, 0, 0, 0, 0, 1, 0, 0])"
      ]
     },
     "execution_count": 97,
     "metadata": {},
     "output_type": "execute_result"
    }
   ],
   "source": [
    "# Checking our predictions\n",
    "preds[:10]"
   ]
  },
  {
   "cell_type": "code",
   "execution_count": 98,
   "metadata": {},
   "outputs": [
    {
     "name": "stdout",
     "output_type": "stream",
     "text": [
      "This is a confusion matrix for our test data vs predictions:\n",
      "[[334   5]\n",
      " [  3  98]]\n"
     ]
    }
   ],
   "source": [
    "## Create a confusion matrix\n",
    "from sklearn.metrics import confusion_matrix\n",
    "cm_test = confusion_matrix(y_test, preds)\n",
    "print('This is a confusion matrix for our test data vs predictions:')\n",
    "print(cm_test)"
   ]
  },
  {
   "cell_type": "code",
   "execution_count": 99,
   "metadata": {},
   "outputs": [],
   "source": [
    "# Converting our confusion matrix into a dataframe\n",
    "cm_test = pd.DataFrame(cm_test, columns=['Predicted Negative','Predicted Positive'], \n",
    "                       index=['Actual Negative','Actual Positive'])"
   ]
  },
  {
   "cell_type": "code",
   "execution_count": 100,
   "metadata": {},
   "outputs": [
    {
     "data": {
      "text/html": [
       "<div>\n",
       "<style scoped>\n",
       "    .dataframe tbody tr th:only-of-type {\n",
       "        vertical-align: middle;\n",
       "    }\n",
       "\n",
       "    .dataframe tbody tr th {\n",
       "        vertical-align: top;\n",
       "    }\n",
       "\n",
       "    .dataframe thead th {\n",
       "        text-align: right;\n",
       "    }\n",
       "</style>\n",
       "<table border=\"1\" class=\"dataframe\">\n",
       "  <thead>\n",
       "    <tr style=\"text-align: right;\">\n",
       "      <th></th>\n",
       "      <th>Predicted Negative</th>\n",
       "      <th>Predicted Positive</th>\n",
       "    </tr>\n",
       "  </thead>\n",
       "  <tbody>\n",
       "    <tr>\n",
       "      <th>Actual Negative</th>\n",
       "      <td>334</td>\n",
       "      <td>5</td>\n",
       "    </tr>\n",
       "    <tr>\n",
       "      <th>Actual Positive</th>\n",
       "      <td>3</td>\n",
       "      <td>98</td>\n",
       "    </tr>\n",
       "  </tbody>\n",
       "</table>\n",
       "</div>"
      ],
      "text/plain": [
       "                 Predicted Negative  Predicted Positive\n",
       "Actual Negative                 334                   5\n",
       "Actual Positive                   3                  98"
      ]
     },
     "execution_count": 100,
     "metadata": {},
     "output_type": "execute_result"
    }
   ],
   "source": [
    "cm_test"
   ]
  },
  {
   "cell_type": "code",
   "execution_count": 101,
   "metadata": {},
   "outputs": [
    {
     "data": {
      "image/png": "[encoded data removed]",
      "text/plain": [
       "<Figure size 432x432 with 1 Axes>"
      ]
     },
     "metadata": {},
     "output_type": "display_data"
    }
   ],
   "source": [
    "# Plot our confusion matrix\n",
    "plt.figure(figsize = (6,6))\n",
    "ax = plt.subplot()\n",
    "sns.heatmap(cm_test, \n",
    "            annot=True, \n",
    "            ax = ax, \n",
    "            fmt='g', \n",
    "            cbar=False,\n",
    "            cmap=\"Blues\"); #annot=True to annotate cells\n",
    "\n",
    "# labels, title and ticks\n",
    "ax.set_title('Confusion Matrix - Trigger Prediction', size=16)\n",
    "ax.set_xlabel('Predicted', size=14)\n",
    "ax.set_ylabel('Actual', size=14)\n",
    "ax.xaxis.set_ticklabels(['Negative', 'Positive'])\n",
    "ax.yaxis.set_ticklabels(['Negative', 'Positive']);"
   ]
  },
  {
   "cell_type": "code",
   "execution_count": 102,
   "metadata": {},
   "outputs": [],
   "source": [
    "# Setting up probabilities for the ROC curve\n",
    "pred_proba = results_rf.predict_proba(X_test)\n",
    "preds = results_cvec.predict(X_test)"
   ]
  },
  {
   "cell_type": "code",
   "execution_count": 103,
   "metadata": {},
   "outputs": [
    {
     "data": {
      "image/png": "[encoded data removed]",
      "text/plain": [
       "<Figure size 576x576 with 1 Axes>"
      ]
     },
     "metadata": {},
     "output_type": "display_data"
    }
   ],
   "source": [
    "fpr, tpr, _= roc_curve(y_test, pred_proba[:,1])\n",
    "roc_auc = auc(fpr, tpr)\n",
    "# Plot of a ROC curve for a specific class\n",
    "plt.figure(figsize = (8,8))\n",
    "plt.plot(fpr, tpr, label='ROC curve (area = %0.4f)' % roc_auc)\n",
    "plt.plot([0, 1], [0, 1], 'k--', label='baseline')\n",
    "plt.xlim([-0.01, 1.0])\n",
    "plt.ylim([0.0, 1.01])\n",
    "plt.xlabel('False Positive Rate', fontsize =20)\n",
    "plt.ylabel('True Positive Rate', fontsize = 20)\n",
    "plt.title('Receiver Operating Characteristic Curve', fontsize=18)\n",
    "plt.legend(loc=\"lower right\");"
   ]
  },
  {
   "cell_type": "code",
   "execution_count": 104,
   "metadata": {},
   "outputs": [],
   "source": [
    "# To allow us to better read the Sentences\n",
    "pd.set_option('display.max_colwidth', None)"
   ]
  },
  {
   "cell_type": "code",
   "execution_count": 105,
   "metadata": {},
   "outputs": [],
   "source": [
    "result_cols = ['prediction', 'actual', 'Sentence']\n",
    "results = pd.DataFrame({'prediction': list(preds), 'actual': list(y_test), 'Sentence': list(X_test)})"
   ]
  },
  {
   "cell_type": "code",
   "execution_count": 106,
   "metadata": {},
   "outputs": [],
   "source": [
    "misclassified = results[results['prediction'] != results['actual']]\n"
   ]
  },
  {
   "cell_type": "code",
   "execution_count": 107,
   "metadata": {},
   "outputs": [
    {
     "data": {
      "text/html": [
       "<div>\n",
       "<style scoped>\n",
       "    .dataframe tbody tr th:only-of-type {\n",
       "        vertical-align: middle;\n",
       "    }\n",
       "\n",
       "    .dataframe tbody tr th {\n",
       "        vertical-align: top;\n",
       "    }\n",
       "\n",
       "    .dataframe thead th {\n",
       "        text-align: right;\n",
       "    }\n",
       "</style>\n",
       "<table border=\"1\" class=\"dataframe\">\n",
       "  <thead>\n",
       "    <tr style=\"text-align: right;\">\n",
       "      <th></th>\n",
       "      <th>prediction</th>\n",
       "      <th>actual</th>\n",
       "      <th>Sentence</th>\n",
       "    </tr>\n",
       "  </thead>\n",
       "  <tbody>\n",
       "    <tr>\n",
       "      <th>17</th>\n",
       "      <td>0</td>\n",
       "      <td>1</td>\n",
       "      <td>Under the terms of the Mortgage Loan Documents, the Borrower is required to maintain the following reserve accounts (collectively, the “Reserve Accounts”) with the Servicer: (i) a tax and insurance escrow account (the “Tax and Insurance Escrow Fund”) for taxes and insurance premiums payable with respect to the Mortgaged Properties during the continuance of a Cash Sweep Period, the Borrower is required to deposit on a monthly basis 1/12 of taxes and insurance premiums that the Servicer reasonably estimates will be payable during the next 12 months; provided that so long as no Mortgage Loan Event of Default has occurred, to the extent insurance coverage is provided under a blanket policy reasonably acceptable to the Mortgage Lender, the Borrower will not be required to make deposits into the Tax and Insurance Escrow Fund with respect to the insurance premiums applicable to such blanket policies; (ii) a replacement and repair reserve account (the “Replacement Reserve Fund”) for the payment of certain replacements and repairs required to be made to the Mortgaged Properties and into which the Borrower will be required to deposit the amounts required by the Mortgage Loan Agreement on each Mortgage Loan Payment Date during a Cash Sweep Period; (iii) a rollover reserve fund (the “Rollover Reserve Fund”) for the payment of tenant improvements, tenant related capital expenses, leasing commissions and vacant space preparation and marketing costs required to be made to the Mortgaged Properties and into which the Borrower will be required to deposit the amounts required by the Mortgage Loan Agreement on each Mortgage Loan Payment Date during a Cash Sweep Period; (iv) an unfunded obligations reserve account (the “Unfunded Obligations Reserve Fund”) into which the Borrower deposited 1,836,559.09 on the Origination Date, for outstanding free rent and unfunded tenant improvement allowance, landlord work and leasing commissions which are to be performed or funded in the 12 months following the Origination Date pursuant to certain leases in effect at the Mortgaged Properties; (v) a lease termination reserve fund (the “Lease Termination Reserve Fund”) into which the Borrower is required to deposit lease termination payments actually received by the Borrower following the early termination of any lease by its tenant at the Mortgaged Properties; and (vi) an excess cash flow reserve (the “Excess Cash Flow Reserve Fund”) for payment of all remaining amounts on deposit in the Cash Management Account after payment of all escrows, reserves, operating expenses, debt service, management fees and other amounts required to be made in accordance with the Mortgage Loan Documents during the continuance of any Cash Sweep Period.</td>\n",
       "    </tr>\n",
       "    <tr>\n",
       "      <th>38</th>\n",
       "      <td>1</td>\n",
       "      <td>0</td>\n",
       "      <td>However, the Borrower may deposit an amount in excess of the Replacements Monthly Deposit in any month (or, for the avoidance of doubt, spend amounts for Replacements described in this “—Replacements Reserve Fund” section in excess of the Replacements Monthly Deposit), and any such documented excess amount spent or so deposited may, provided no Mortgage Loan Event of Default is continuing, be applied by the Borrower at any time as a credit against each Replacements Monthly Deposit required thereafter, until fully credited.</td>\n",
       "    </tr>\n",
       "    <tr>\n",
       "      <th>83</th>\n",
       "      <td>0</td>\n",
       "      <td>1</td>\n",
       "      <td>Lender is not required to disburse Immediate Repair Funds more frequently than once each calendar month nor in an amount less than the Minimum Disbursement Amount (or a lesser amount if the total Immediate Repair Funds on deposit in the Immediate Repair Account is less than the Minimum Disbursement Amount, in which case only one disbursement of the amount remaining in the Immediate Repair Account is required to be made).</td>\n",
       "    </tr>\n",
       "    <tr>\n",
       "      <th>174</th>\n",
       "      <td>1</td>\n",
       "      <td>0</td>\n",
       "      <td>The Mortgage Lender is required to disburse to the Borrower the Immediate Repair Funds upon satisfaction by Borrower of each of the following conditions: (i) Borrower submits a request for payment to Mortgage Lender at least 10 days prior to the date on which Borrower requests such payment be made and specifies the Immediate Repairs to be paid; (ii) on the date such request is received by Mortgage Lender and on the date such payment is to be made, no Mortgage Loan Event of Default exists; (iii) Mortgage Lender has received a certificate from Borrower (A) stating that all Immediate Repairs to be funded by the requested disbursement have been completed in a good and workmanlike manner and in accordance with all applicable Legal Requirements, such certificate to be accompanied by a copy of any license, permit or other approval by any Governmental Authority required in connection with the Immediate Repairs, (B) identifying each Person that supplied materials or labor in connection with the Immediate Repairs to be funded by the requested disbursement, and (C) stating that each such Person has been paid in full or will be paid in full upon such disbursement, such certificate to be accompanied by lien waivers, invoices and/or other evidence of payment reasonably satisfactory to Mortgage Lender; (iv) at Mortgage Lender’s option, if the cost of the Immediate Repairs exceeds 50,000, a title search for the applicable Property indicating that the applicable Property is free from all liens, claims and other encumbrances other than Permitted Encumbrances; (v) at Mortgage Lender’s option, if the cost of the Immediate Repairs exceeds 50,000, Mortgage Lender receives a report satisfactory to Mortgage Lender in its reasonable discretion from an architect or engineer approved by Mortgage Lender (such approval not to be unreasonably withheld or delayed) in respect of such architect or engineer’s inspection of the required repairs; and (vi) Mortgage Lender receives such other evidence as Mortgage Lender reasonably requests that the Immediate Repairs to be funded by the requested disbursement have been completed and are paid for or will be paid upon such disbursement to Borrower.</td>\n",
       "    </tr>\n",
       "    <tr>\n",
       "      <th>224</th>\n",
       "      <td>1</td>\n",
       "      <td>0</td>\n",
       "      <td>Provided no Mortgage Loan Event of Default has occurred and is continuing, the Mortgage Lender is required to disburse the Operating Expense Funds to the Borrower to pay Approved Operating Expenses and/or Approved Extraordinary Expenses upon the Borrower’s request (which such request is required to be accompanied by an Officer’s Certificate containing reasonable detail as to the applicable expenses to which the requested disbursement relates (if such Approved Operating Expenses and/or Approved Operating Expenses are not set forth in the then applicable Approved Annual Budget) and attesting that such expense is required to be paid with the requested disbursement).</td>\n",
       "    </tr>\n",
       "    <tr>\n",
       "      <th>298</th>\n",
       "      <td>0</td>\n",
       "      <td>1</td>\n",
       "      <td>Cash Management Trigger (i) the occurrence of a mortgage loan or mezzanine loan event of default; (ii) the debt yield, including both the mortgage and mezzanine loans, being less than (a) 6.25% for two consecutive quarters with respect to the initial term and the first three extension terms and (b) 7.00% for two consecutive quarters with respect to the fourth and fifth extension</td>\n",
       "    </tr>\n",
       "    <tr>\n",
       "      <th>315</th>\n",
       "      <td>1</td>\n",
       "      <td>0</td>\n",
       "      <td>“Priority Payment Cessation Period” means the period of time after (i) the acceleration of the Mortgage Loan during the continuance of a Mortgage Loan Event of Default, (ii) the initiation of (a) judicial or non-judicial foreclosure proceedings, (b) proceedings for the appointment of a receiver, or (c) similar remedies permitted by the Mortgage Loan Agreement or the other Mortgage Loan Documents relating to all or a material portion of an Individual Property, and/or (iii) the imposition of a stay, an injunction, or a similar judicially-imposed device that has the effect of preventing Mortgage Lender from exercising its remedies under the Mortgage Loan Agreement or the other Mortgage Loan Documents.</td>\n",
       "    </tr>\n",
       "    <tr>\n",
       "      <th>341</th>\n",
       "      <td>0</td>\n",
       "      <td>1</td>\n",
       "      <td>On each Payment Date during a Trigger Period, the Mortgage Lender or Servicer, as applicable, will allocate all funds without duplication, if any, on deposit in the Cash Management Account and disburse such funds in the following amounts and order of priority (so long as no Mortgage Loan Event of Default then exists): First, funds sufficient to pay the Monthly Ground Rent Deposit due for the then applicable Payment Date (if any) and any True Up Payments required to be made in the Ground Rent Account (if any) is required to be deposited in the Ground Rent Account; Second, funds sufficient to pay the Monthly Tax Deposit due for the then applicable Payment Date (if any) and any True Up Payments required to be made in the Tax Account (if any) is required to be deposited in the Tax Account; Third, funds sufficient to pay the Monthly Condo Assessments Deposit due for the then applicable Payment Date (if any) and any True Up Payments required to be made in the Condo Assessments Account (if any) is required to be deposited in the Condo Assessments Account; Fourth, funds sufficient to pay the Monthly Insurance Deposit due for the then applicable Payment Date (if any) and any True Up Payments required to be made in the Insurance Account (if any) is required to be deposited in the Insurance Account; • Fifth, funds sufficient to pay the Debt Service due on the then applicable Payment Date is required to be deposited in the Debt Service Account; Sixth, funds sufficient to pay any other amounts due and owing to the Mortgage Lender and/or Servicer pursuant to the terms of the Mortgage Loan Agreement and/or of the other Mortgage Loan Documents, if any, is required to be deposited with or as directed by the Mortgage Lender; Seventh, funds sufficient to pay the Op Ex Monthly Deposit for the then-current Payment Date (if any) is required to be deposited in the Operating Expense Account; Eighth, funds sufficient to pay the Monthly Leasing Reserve Deposit for the then applicable Payment Date is required to be deposited in the Leasing Reserve Account; Ninth, funds sufficient to pay the Monthly Capital Expenditures Deposit for the then applicable Payment Date is required to be deposited in the Capital Expenditures Reserve Account; Tenth, funds sufficient to pay the Senior Mezzanine Debt Service due on the applicable Payment Date as well as other sums then due and required to be paid to Senior Mezzanine Lender pursuant to Article 2 of the Senior Mezzanine Loan Agreement (other than the payment of any outstanding principal balance of the Senior Mezzanine Loan on the Maturity Date (as defined in the Senior Mezzanine Loan), whether such Maturity Date (as defined in the Senior Mezzanine Loan) is the scheduled Maturity Date (as defined in the Senior Mezzanine Loan) or an earlier date due to an acceleration of the Senior Mezzanine Loan) is required to be deposited in the Senior Mezzanine Debt Service Account; Eleventh, so long as there exists no Senior Mezzanine Loan Event of Default, funds sufficient to pay the Junior Mezzanine Debt Service due on the applicable Payment Date as well as other sums then due and required to be paid to Junior Mezzanine Lender pursuant to Article 2 of the Junior Mezzanine Loan Agreement (other than the payment of any outstanding principal balance of the Junior Mezzanine Loan on the Maturity Date (as defined in the Junior Mezzanine Loan), whether such Maturity Date (as defined in the Junior Mezzanine Loan) is the scheduled Maturity Date (as defined in the Junior Mezzanine Loan) or an earlier date due to an acceleration of the Junior Mezzanine Loan) is required to be deposited in the Junior Mezzanine Debt Service Account; Twelfth, aggregate funds in an amount equal to five percent (5%) of the Op Ex Monthly Deposit for the then-current Payment Date (if any) is required to be deposited in the Operating Expense Account; Thirteenth, during the continuation of a Specified Tenant Trigger Period all amounts remaining in the Cash Management Account after deposits for all of the above items (the “Excess Cash Flow”) is required to be deposited in the Specified Tenant Space Leasing Reserve Account until such time as the amount deposited as a result of such Specified Tenant Trigger Period equals or exceeds the Specified Tenant Trigger Cap; and Fourteenth, all remaining Excess Cash Flow is required to be deposited in the Excess Cash Flow Account.</td>\n",
       "    </tr>\n",
       "    <tr>\n",
       "      <th>402</th>\n",
       "      <td>0</td>\n",
       "      <td>1</td>\n",
       "      <td>During the continuance of a Cash Trap Period, the Mortgage Lender will be required to designate the Cash Management Account as the account to which amounts on deposit in the Lockbox Account will be transferred by Lockbox Bank; (v) Pursuant and subject to the terms of the Mortgage Loan Agreement and the other applicable Mortgage Loan Documents, and the Lockbox Agreement (FF&amp;E Reserve), Lockbox Bank, Brand Manager and Agent have agreed to comply with all instructions originated by Lender, without further consent by Borrower or Brand Manager following an event of default (beyond applicable notice and cure periods) under the Brand Management Agreement, directing disposition of the Manager FF&amp;E Reserve Account and all sums at any time held, deposited or invested therein, together with any interest or other earnings thereon, and all proceeds thereof (including proceeds of sales and other dispositions), whether accounts, general intangibles, chattel paper, deposit accounts, instruments, documents or securities; and (vi) Pursuant to the Mortgage Loan Agreement, Borrower has granted the Mortgage Lender a first priority security interest in each Manager FF&amp;E Reserve Account maintained by the Property Manager.</td>\n",
       "    </tr>\n",
       "    <tr>\n",
       "      <th>411</th>\n",
       "      <td>0</td>\n",
       "      <td>1</td>\n",
       "      <td>On the Origination Date, Borrower deposited with Mortgage Lender 4,526,661 into the Contested Real Estate Tax Reserve; and an excess cash flow reserve account (the “Excess Cash Flow Reserve Account”) as additional security for the Mortgage Loan into which, during a Cash Trap Period, the Borrower will be required to deposit all Excess Cash Flow from remaining amounts on deposit in the Cash Management Account.</td>\n",
       "    </tr>\n",
       "  </tbody>\n",
       "</table>\n",
       "</div>"
      ],
      "text/plain": [
       "     prediction  actual  \\\n",
       "17            0       1   \n",
       "38            1       0   \n",
       "83            0       1   \n",
       "174           1       0   \n",
       "224           1       0   \n",
       "298           0       1   \n",
       "315           1       0   \n",
       "341           0       1   \n",
       "402           0       1   \n",
       "411           0       1   \n",
       "\n",
       "                                                                                                                                                                                                                                                                                                                                                                                                                                                                                                                                                                                                                                                                                                                                                                                                                                                                                                                                                                                                                                                                                                                                                                                                                                                                                                                                                                                                                                                                                                                                                                                                                                                                                                                                                                                                                                                                                                                                                                                                                                                                                                                                                                                                                                                                                                                                                                                                                                                                                                                                                                                                                                                                                                                                                                                                                                                                                                                                                                                                                                                                                                                                                                                                                                                                                                                                                                                                                                                                                                                                                                                                                                                                                                                                                                                                                                                                                                                                                                                                                                                                                                                                                                                                                                                                                                                                                                                                                                                                                                                                                                                          Sentence  \n",
       "17                                                                                                                                                                                                                                                                                                                                                                                                                                                                                                                                                                                                                                                                                                                                                                                                                                                                                                                                                                                                                                                                                                                                                                                                                                                                                                                                                                                                                                                                                                                                                                                                                                                                                                                                         Under the terms of the Mortgage Loan Documents, the Borrower is required to maintain the following reserve accounts (collectively, the “Reserve Accounts”) with the Servicer: (i) a tax and insurance escrow account (the “Tax and Insurance Escrow Fund”) for taxes and insurance premiums payable with respect to the Mortgaged Properties during the continuance of a Cash Sweep Period, the Borrower is required to deposit on a monthly basis 1/12 of taxes and insurance premiums that the Servicer reasonably estimates will be payable during the next 12 months; provided that so long as no Mortgage Loan Event of Default has occurred, to the extent insurance coverage is provided under a blanket policy reasonably acceptable to the Mortgage Lender, the Borrower will not be required to make deposits into the Tax and Insurance Escrow Fund with respect to the insurance premiums applicable to such blanket policies; (ii) a replacement and repair reserve account (the “Replacement Reserve Fund”) for the payment of certain replacements and repairs required to be made to the Mortgaged Properties and into which the Borrower will be required to deposit the amounts required by the Mortgage Loan Agreement on each Mortgage Loan Payment Date during a Cash Sweep Period; (iii) a rollover reserve fund (the “Rollover Reserve Fund”) for the payment of tenant improvements, tenant related capital expenses, leasing commissions and vacant space preparation and marketing costs required to be made to the Mortgaged Properties and into which the Borrower will be required to deposit the amounts required by the Mortgage Loan Agreement on each Mortgage Loan Payment Date during a Cash Sweep Period; (iv) an unfunded obligations reserve account (the “Unfunded Obligations Reserve Fund”) into which the Borrower deposited 1,836,559.09 on the Origination Date, for outstanding free rent and unfunded tenant improvement allowance, landlord work and leasing commissions which are to be performed or funded in the 12 months following the Origination Date pursuant to certain leases in effect at the Mortgaged Properties; (v) a lease termination reserve fund (the “Lease Termination Reserve Fund”) into which the Borrower is required to deposit lease termination payments actually received by the Borrower following the early termination of any lease by its tenant at the Mortgaged Properties; and (vi) an excess cash flow reserve (the “Excess Cash Flow Reserve Fund”) for payment of all remaining amounts on deposit in the Cash Management Account after payment of all escrows, reserves, operating expenses, debt service, management fees and other amounts required to be made in accordance with the Mortgage Loan Documents during the continuance of any Cash Sweep Period.  \n",
       "38                                                                                                                                                                                                                                                                                                                                                                                                                                                                                                                                                                                                                                                                                                                                                                                                                                                                                                                                                                                                                                                                                                                                                                                                                                                                                                                                                                                                                                                                                                                                                                                                                                                                                                                                                                                                                                                                                                                                                                                                                                                                                                                                                                                                                                                                                                                                                                                                                                                                                                                                                                                                                                                                                                                                                                                                                                                                                                                                                                                                                                                                                                                                                                                                                                                                                                                                                                                                                                                                                                                                                                                                                                                                                                                                                                                                                                                                                                                                                                                                                                                However, the Borrower may deposit an amount in excess of the Replacements Monthly Deposit in any month (or, for the avoidance of doubt, spend amounts for Replacements described in this “—Replacements Reserve Fund” section in excess of the Replacements Monthly Deposit), and any such documented excess amount spent or so deposited may, provided no Mortgage Loan Event of Default is continuing, be applied by the Borrower at any time as a credit against each Replacements Monthly Deposit required thereafter, until fully credited.  \n",
       "83                                                                                                                                                                                                                                                                                                                                                                                                                                                                                                                                                                                                                                                                                                                                                                                                                                                                                                                                                                                                                                                                                                                                                                                                                                                                                                                                                                                                                                                                                                                                                                                                                                                                                                                                                                                                                                                                                                                                                                                                                                                                                                                                                                                                                                                                                                                                                                                                                                                                                                                                                                                                                                                                                                                                                                                                                                                                                                                                                                                                                                                                                                                                                                                                                                                                                                                                                                                                                                                                                                                                                                                                                                                                                                                                                                                                                                                                                                                                                                                                                                                                                                                                                        Lender is not required to disburse Immediate Repair Funds more frequently than once each calendar month nor in an amount less than the Minimum Disbursement Amount (or a lesser amount if the total Immediate Repair Funds on deposit in the Immediate Repair Account is less than the Minimum Disbursement Amount, in which case only one disbursement of the amount remaining in the Immediate Repair Account is required to be made).  \n",
       "174                                                                                                                                                                                                                                                                                                                                                                                                                                                                                                                                                                                                                                                                                                                                                                                                                                                                                                                                                                                                                                                                                                                                                                                                                                                                                                                                                                                                                                                                                                                                                                                                                                                                                                                                                                                                                                                                                                                                                                                                                                                                                                                                                                                                                                                                                                           The Mortgage Lender is required to disburse to the Borrower the Immediate Repair Funds upon satisfaction by Borrower of each of the following conditions: (i) Borrower submits a request for payment to Mortgage Lender at least 10 days prior to the date on which Borrower requests such payment be made and specifies the Immediate Repairs to be paid; (ii) on the date such request is received by Mortgage Lender and on the date such payment is to be made, no Mortgage Loan Event of Default exists; (iii) Mortgage Lender has received a certificate from Borrower (A) stating that all Immediate Repairs to be funded by the requested disbursement have been completed in a good and workmanlike manner and in accordance with all applicable Legal Requirements, such certificate to be accompanied by a copy of any license, permit or other approval by any Governmental Authority required in connection with the Immediate Repairs, (B) identifying each Person that supplied materials or labor in connection with the Immediate Repairs to be funded by the requested disbursement, and (C) stating that each such Person has been paid in full or will be paid in full upon such disbursement, such certificate to be accompanied by lien waivers, invoices and/or other evidence of payment reasonably satisfactory to Mortgage Lender; (iv) at Mortgage Lender’s option, if the cost of the Immediate Repairs exceeds 50,000, a title search for the applicable Property indicating that the applicable Property is free from all liens, claims and other encumbrances other than Permitted Encumbrances; (v) at Mortgage Lender’s option, if the cost of the Immediate Repairs exceeds 50,000, Mortgage Lender receives a report satisfactory to Mortgage Lender in its reasonable discretion from an architect or engineer approved by Mortgage Lender (such approval not to be unreasonably withheld or delayed) in respect of such architect or engineer’s inspection of the required repairs; and (vi) Mortgage Lender receives such other evidence as Mortgage Lender reasonably requests that the Immediate Repairs to be funded by the requested disbursement have been completed and are paid for or will be paid upon such disbursement to Borrower.  \n",
       "224                                                                                                                                                                                                                                                                                                                                                                                                                                                                                                                                                                                                                                                                                                                                                                                                                                                                                                                                                                                                                                                                                                                                                                                                                                                                                                                                                                                                                                                                                                                                                                                                                                                                                                                                                                                                                                                                                                                                                                                                                                                                                                                                                                                                                                                                                                                                                                                                                                                                                                                                                                                                                                                                                                                                                                                                                                                                                                                                                                                                                                                                                                                                                                                                                                                                                                                                                                                                                                                                                                                                                                                                                                                                                                                                                                                                                                                                                                Provided no Mortgage Loan Event of Default has occurred and is continuing, the Mortgage Lender is required to disburse the Operating Expense Funds to the Borrower to pay Approved Operating Expenses and/or Approved Extraordinary Expenses upon the Borrower’s request (which such request is required to be accompanied by an Officer’s Certificate containing reasonable detail as to the applicable expenses to which the requested disbursement relates (if such Approved Operating Expenses and/or Approved Operating Expenses are not set forth in the then applicable Approved Annual Budget) and attesting that such expense is required to be paid with the requested disbursement).  \n",
       "298                                                                                                                                                                                                                                                                                                                                                                                                                                                                                                                                                                                                                                                                                                                                                                                                                                                                                                                                                                                                                                                                                                                                                                                                                                                                                                                                                                                                                                                                                                                                                                                                                                                                                                                                                                                                                                                                                                                                                                                                                                                                                                                                                                                                                                                                                                                                                                                                                                                                                                                                                                                                                                                                                                                                                                                                                                                                                                                                                                                                                                                                                                                                                                                                                                                                                                                                                                                                                                                                                                                                                                                                                                                                                                                                                                                                                                                                                                                                                                                                                                                                                                                                                                                                  Cash Management Trigger (i) the occurrence of a mortgage loan or mezzanine loan event of default; (ii) the debt yield, including both the mortgage and mezzanine loans, being less than (a) 6.25% for two consecutive quarters with respect to the initial term and the first three extension terms and (b) 7.00% for two consecutive quarters with respect to the fourth and fifth extension  \n",
       "315                                                                                                                                                                                                                                                                                                                                                                                                                                                                                                                                                                                                                                                                                                                                                                                                                                                                                                                                                                                                                                                                                                                                                                                                                                                                                                                                                                                                                                                                                                                                                                                                                                                                                                                                                                                                                                                                                                                                                                                                                                                                                                                                                                                                                                                                                                                                                                                                                                                                                                                                                                                                                                                                                                                                                                                                                                                                                                                                                                                                                                                                                                                                                                                                                                                                                                                                                                                                                                                                                                                                                                                                                                                                                                                                                                                                                                                            “Priority Payment Cessation Period” means the period of time after (i) the acceleration of the Mortgage Loan during the continuance of a Mortgage Loan Event of Default, (ii) the initiation of (a) judicial or non-judicial foreclosure proceedings, (b) proceedings for the appointment of a receiver, or (c) similar remedies permitted by the Mortgage Loan Agreement or the other Mortgage Loan Documents relating to all or a material portion of an Individual Property, and/or (iii) the imposition of a stay, an injunction, or a similar judicially-imposed device that has the effect of preventing Mortgage Lender from exercising its remedies under the Mortgage Loan Agreement or the other Mortgage Loan Documents.  \n",
       "341  On each Payment Date during a Trigger Period, the Mortgage Lender or Servicer, as applicable, will allocate all funds without duplication, if any, on deposit in the Cash Management Account and disburse such funds in the following amounts and order of priority (so long as no Mortgage Loan Event of Default then exists): First, funds sufficient to pay the Monthly Ground Rent Deposit due for the then applicable Payment Date (if any) and any True Up Payments required to be made in the Ground Rent Account (if any) is required to be deposited in the Ground Rent Account; Second, funds sufficient to pay the Monthly Tax Deposit due for the then applicable Payment Date (if any) and any True Up Payments required to be made in the Tax Account (if any) is required to be deposited in the Tax Account; Third, funds sufficient to pay the Monthly Condo Assessments Deposit due for the then applicable Payment Date (if any) and any True Up Payments required to be made in the Condo Assessments Account (if any) is required to be deposited in the Condo Assessments Account; Fourth, funds sufficient to pay the Monthly Insurance Deposit due for the then applicable Payment Date (if any) and any True Up Payments required to be made in the Insurance Account (if any) is required to be deposited in the Insurance Account; • Fifth, funds sufficient to pay the Debt Service due on the then applicable Payment Date is required to be deposited in the Debt Service Account; Sixth, funds sufficient to pay any other amounts due and owing to the Mortgage Lender and/or Servicer pursuant to the terms of the Mortgage Loan Agreement and/or of the other Mortgage Loan Documents, if any, is required to be deposited with or as directed by the Mortgage Lender; Seventh, funds sufficient to pay the Op Ex Monthly Deposit for the then-current Payment Date (if any) is required to be deposited in the Operating Expense Account; Eighth, funds sufficient to pay the Monthly Leasing Reserve Deposit for the then applicable Payment Date is required to be deposited in the Leasing Reserve Account; Ninth, funds sufficient to pay the Monthly Capital Expenditures Deposit for the then applicable Payment Date is required to be deposited in the Capital Expenditures Reserve Account; Tenth, funds sufficient to pay the Senior Mezzanine Debt Service due on the applicable Payment Date as well as other sums then due and required to be paid to Senior Mezzanine Lender pursuant to Article 2 of the Senior Mezzanine Loan Agreement (other than the payment of any outstanding principal balance of the Senior Mezzanine Loan on the Maturity Date (as defined in the Senior Mezzanine Loan), whether such Maturity Date (as defined in the Senior Mezzanine Loan) is the scheduled Maturity Date (as defined in the Senior Mezzanine Loan) or an earlier date due to an acceleration of the Senior Mezzanine Loan) is required to be deposited in the Senior Mezzanine Debt Service Account; Eleventh, so long as there exists no Senior Mezzanine Loan Event of Default, funds sufficient to pay the Junior Mezzanine Debt Service due on the applicable Payment Date as well as other sums then due and required to be paid to Junior Mezzanine Lender pursuant to Article 2 of the Junior Mezzanine Loan Agreement (other than the payment of any outstanding principal balance of the Junior Mezzanine Loan on the Maturity Date (as defined in the Junior Mezzanine Loan), whether such Maturity Date (as defined in the Junior Mezzanine Loan) is the scheduled Maturity Date (as defined in the Junior Mezzanine Loan) or an earlier date due to an acceleration of the Junior Mezzanine Loan) is required to be deposited in the Junior Mezzanine Debt Service Account; Twelfth, aggregate funds in an amount equal to five percent (5%) of the Op Ex Monthly Deposit for the then-current Payment Date (if any) is required to be deposited in the Operating Expense Account; Thirteenth, during the continuation of a Specified Tenant Trigger Period all amounts remaining in the Cash Management Account after deposits for all of the above items (the “Excess Cash Flow”) is required to be deposited in the Specified Tenant Space Leasing Reserve Account until such time as the amount deposited as a result of such Specified Tenant Trigger Period equals or exceeds the Specified Tenant Trigger Cap; and Fourteenth, all remaining Excess Cash Flow is required to be deposited in the Excess Cash Flow Account.  \n",
       "402                                                                                                                                                                                                                                                                                                                                                                                                                                                                                                                                                                                                                                                                                                                                                                                                                                                                                                                                                                                                                                                                                                                                                                                                                                                                                                                                                                                                                                                                                                                                                                                                                                                                                                                                                                                                                                                                                                                                                                                                                                                                                                                                                                                                                                                                                                                                                                                                                                                                                                                                                                                                                                                                                                                                                                                                                                                                                                                                                                                                                                                                                                                                                                                                                                                                                                                            During the continuance of a Cash Trap Period, the Mortgage Lender will be required to designate the Cash Management Account as the account to which amounts on deposit in the Lockbox Account will be transferred by Lockbox Bank; (v) Pursuant and subject to the terms of the Mortgage Loan Agreement and the other applicable Mortgage Loan Documents, and the Lockbox Agreement (FF&E Reserve), Lockbox Bank, Brand Manager and Agent have agreed to comply with all instructions originated by Lender, without further consent by Borrower or Brand Manager following an event of default (beyond applicable notice and cure periods) under the Brand Management Agreement, directing disposition of the Manager FF&E Reserve Account and all sums at any time held, deposited or invested therein, together with any interest or other earnings thereon, and all proceeds thereof (including proceeds of sales and other dispositions), whether accounts, general intangibles, chattel paper, deposit accounts, instruments, documents or securities; and (vi) Pursuant to the Mortgage Loan Agreement, Borrower has granted the Mortgage Lender a first priority security interest in each Manager FF&E Reserve Account maintained by the Property Manager.   \n",
       "411                                                                                                                                                                                                                                                                                                                                                                                                                                                                                                                                                                                                                                                                                                                                                                                                                                                                                                                                                                                                                                                                                                                                                                                                                                                                                                                                                                                                                                                                                                                                                                                                                                                                                                                                                                                                                                                                                                                                                                                                                                                                                                                                                                                                                                                                                                                                                                                                                                                                                                                                                                                                                                                                                                                                                                                                                                                                                                                                                                                                                                                                                                                                                                                                                                                                                                                                                                                                                                                                                                                                                                                                                                                                                                                                                                                                                                                                                                                                                                                                                                                                                                                                                                   On the Origination Date, Borrower deposited with Mortgage Lender 4,526,661 into the Contested Real Estate Tax Reserve; and an excess cash flow reserve account (the “Excess Cash Flow Reserve Account”) as additional security for the Mortgage Loan into which, during a Cash Trap Period, the Borrower will be required to deposit all Excess Cash Flow from remaining amounts on deposit in the Cash Management Account.   "
      ]
     },
     "execution_count": 107,
     "metadata": {},
     "output_type": "execute_result"
    }
   ],
   "source": [
    "misclassified.head(10)"
   ]
  },
  {
   "cell_type": "code",
   "execution_count": null,
   "metadata": {},
   "outputs": [],
   "source": []
  },
  {
   "cell_type": "code",
   "execution_count": null,
   "metadata": {},
   "outputs": [],
   "source": []
  },
  {
   "cell_type": "code",
   "execution_count": null,
   "metadata": {},
   "outputs": [],
   "source": []
  },
  {
   "cell_type": "code",
   "execution_count": null,
   "metadata": {},
   "outputs": [],
   "source": []
  }
 ],
 "metadata": {
  "kernelspec": {
   "display_name": "Python 3",
   "language": "python",
   "name": "python3"
  },
  "language_info": {
   "codemirror_mode": {
    "name": "ipython",
    "version": 3
   },
   "file_extension": ".py",
   "mimetype": "text/x-python",
   "name": "python",
   "nbconvert_exporter": "python",
   "pygments_lexer": "ipython3",
   "version": "3.7.5"
  },
  "toc": {
   "base_numbering": 1,
   "nav_menu": {},
   "number_sections": true,
   "sideBar": true,
   "skip_h1_title": false,
   "title_cell": "Table of Contents",
   "title_sidebar": "Contents",
   "toc_cell": false,
   "toc_position": {},
   "toc_section_display": true,
   "toc_window_display": true
  }
 },
 "nbformat": 4,
 "nbformat_minor": 2
}
