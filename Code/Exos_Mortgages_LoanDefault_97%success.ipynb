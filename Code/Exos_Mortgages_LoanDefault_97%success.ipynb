{
 "cells": [
  {
   "cell_type": "markdown",
   "metadata": {},
   "source": [
    "# Claira Project: Mortgage Contracts"
   ]
  },
  {
   "cell_type": "markdown",
   "metadata": {},
   "source": [
    "## Import Packages"
   ]
  },
  {
   "cell_type": "code",
   "execution_count": 1,
   "metadata": {},
   "outputs": [
    {
     "name": "stderr",
     "output_type": "stream",
     "text": [
      "/opt/anaconda3/envs/dsi/lib/python3.7/site-packages/sklearn/utils/deprecation.py:144: FutureWarning: The sklearn.feature_extraction.stop_words module is  deprecated in version 0.22 and will be removed in version 0.24. The corresponding classes / functions should instead be imported from sklearn.feature_extraction.text. Anything that cannot be imported from sklearn.feature_extraction.text is now part of the private API.\n",
      "  warnings.warn(message, FutureWarning)\n"
     ]
    }
   ],
   "source": [
    "import pandas as pd\n",
    "import matplotlib.pyplot as plt\n",
    "import json\n",
    "import string\n",
    "import numpy as np\n",
    "import gzip\n",
    "np.random.seed(99)\n",
    "RANDOM_STATE = 99\n",
    "import datetime\n",
    "pd.set_option('display.max_rows', 151)\n",
    "\n",
    "\n",
    "# Import vectorizing and modeling tools in preparation for modeling steps\n",
    "from sklearn.feature_extraction.text import CountVectorizer,TfidfVectorizer\n",
    "from sklearn.feature_extraction import text, stop_words\n",
    "from sklearn.naive_bayes import MultinomialNB, GaussianNB, BernoulliNB\n",
    "import time\n",
    "\n",
    "from nltk import word_tokenize\n",
    "from nltk.corpus import stopwords\n",
    "from nltk.stem.wordnet import WordNetLemmatizer\n",
    "\n",
    "import spacy\n",
    "import en_core_web_lg\n",
    "from spacy.lang.en import English\n",
    "from spacy.lang.en.stop_words import STOP_WORDS\n",
    "\n",
    "from sklearn.model_selection import train_test_split, GridSearchCV, cross_val_score, cross_val_predict\n",
    "from sklearn.pipeline import Pipeline\n",
    "from sklearn.linear_model import LogisticRegression\n",
    "from sklearn.tree import DecisionTreeClassifier\n",
    "\n",
    "from sklearn.metrics import roc_curve, auc\n",
    "\n",
    "# Import CountVectorizer and TFIDFVectorizer from feature_extraction.text.\n",
    "from sklearn.feature_extraction.text import CountVectorizer, TfidfVectorizer"
   ]
  },
  {
   "cell_type": "markdown",
   "metadata": {},
   "source": [
    "## Import Data"
   ]
  },
  {
   "cell_type": "code",
   "execution_count": 2,
   "metadata": {},
   "outputs": [],
   "source": [
    "# Import the CSV file\n",
    "raw_df = pd.read_csv('../data/sasb_cash_trap_triggers.csv')"
   ]
  },
  {
   "cell_type": "code",
   "execution_count": 3,
   "metadata": {},
   "outputs": [
    {
     "data": {
      "text/html": [
       "<div>\n",
       "<style scoped>\n",
       "    .dataframe tbody tr th:only-of-type {\n",
       "        vertical-align: middle;\n",
       "    }\n",
       "\n",
       "    .dataframe tbody tr th {\n",
       "        vertical-align: top;\n",
       "    }\n",
       "\n",
       "    .dataframe thead th {\n",
       "        text-align: right;\n",
       "    }\n",
       "</style>\n",
       "<table border=\"1\" class=\"dataframe\">\n",
       "  <thead>\n",
       "    <tr style=\"text-align: right;\">\n",
       "      <th></th>\n",
       "      <th>0</th>\n",
       "      <th>Sentence</th>\n",
       "      <th>Trigger</th>\n",
       "      <th>Multiclass</th>\n",
       "    </tr>\n",
       "  </thead>\n",
       "  <tbody>\n",
       "    <tr>\n",
       "      <th>0</th>\n",
       "      <td>20120828_01Y0R8_Prospectus_CM00000000205875087...</td>\n",
       "      <td>On each Business Day, the financial institutio...</td>\n",
       "      <td>Loan Default</td>\n",
       "      <td>0</td>\n",
       "    </tr>\n",
       "    <tr>\n",
       "      <th>1</th>\n",
       "      <td>20120828_01Y0R8_Prospectus_CM00000000205875087...</td>\n",
       "      <td>The Borrower has established and is required t...</td>\n",
       "      <td>Aggregate DSCR Fall</td>\n",
       "      <td>1</td>\n",
       "    </tr>\n",
       "    <tr>\n",
       "      <th>2</th>\n",
       "      <td>20120828_01Y0R8_Prospectus_CM00000000205875087...</td>\n",
       "      <td>The Borrower has established and is required t...</td>\n",
       "      <td>Loan Default</td>\n",
       "      <td>1</td>\n",
       "    </tr>\n",
       "    <tr>\n",
       "      <th>3</th>\n",
       "      <td>20120828_01Y0R8_Prospectus_CM00000000205875087...</td>\n",
       "      <td>During a Trigger Period or while an event of d...</td>\n",
       "      <td>Loan Default</td>\n",
       "      <td>0</td>\n",
       "    </tr>\n",
       "    <tr>\n",
       "      <th>4</th>\n",
       "      <td>20120828_01Y0R8_Prospectus_CM00000000205875087...</td>\n",
       "      <td>On any Business Day all amounts on deposit in ...</td>\n",
       "      <td>Loan Default</td>\n",
       "      <td>0</td>\n",
       "    </tr>\n",
       "  </tbody>\n",
       "</table>\n",
       "</div>"
      ],
      "text/plain": [
       "                                                   0  \\\n",
       "0  20120828_01Y0R8_Prospectus_CM00000000205875087...   \n",
       "1  20120828_01Y0R8_Prospectus_CM00000000205875087...   \n",
       "2  20120828_01Y0R8_Prospectus_CM00000000205875087...   \n",
       "3  20120828_01Y0R8_Prospectus_CM00000000205875087...   \n",
       "4  20120828_01Y0R8_Prospectus_CM00000000205875087...   \n",
       "\n",
       "                                            Sentence              Trigger  \\\n",
       "0  On each Business Day, the financial institutio...         Loan Default   \n",
       "1  The Borrower has established and is required t...  Aggregate DSCR Fall   \n",
       "2  The Borrower has established and is required t...         Loan Default   \n",
       "3  During a Trigger Period or while an event of d...         Loan Default   \n",
       "4  On any Business Day all amounts on deposit in ...         Loan Default   \n",
       "\n",
       "   Multiclass  \n",
       "0           0  \n",
       "1           1  \n",
       "2           1  \n",
       "3           0  \n",
       "4           0  "
      ]
     },
     "execution_count": 3,
     "metadata": {},
     "output_type": "execute_result"
    }
   ],
   "source": [
    "# Review the first few rows of the data set\n",
    "raw_df.head()"
   ]
  },
  {
   "cell_type": "code",
   "execution_count": 4,
   "metadata": {},
   "outputs": [
    {
     "data": {
      "text/plain": [
       "(461, 4)"
      ]
     },
     "execution_count": 4,
     "metadata": {},
     "output_type": "execute_result"
    }
   ],
   "source": [
    "# Check size of the data set\n",
    "raw_df.shape"
   ]
  },
  {
   "cell_type": "code",
   "execution_count": 5,
   "metadata": {},
   "outputs": [
    {
     "data": {
      "text/plain": [
       "0             0\n",
       "Sentence      0\n",
       "Trigger       0\n",
       "Multiclass    0\n",
       "dtype: int64"
      ]
     },
     "execution_count": 5,
     "metadata": {},
     "output_type": "execute_result"
    }
   ],
   "source": [
    "# Check for null values\n",
    "raw_df.isnull().sum()"
   ]
  },
  {
   "cell_type": "markdown",
   "metadata": {},
   "source": [
    "## Data Cleaning"
   ]
  },
  {
   "cell_type": "code",
   "execution_count": 6,
   "metadata": {},
   "outputs": [
    {
     "data": {
      "text/plain": [
       "Unspecified                       127\n",
       "Loan Default                      114\n",
       "Loan default                       75\n",
       "Debt yield fall                    34\n",
       "Debt Yield Fall                    25\n",
       "DSCR Fall                          17\n",
       "Operator Termination               13\n",
       "Bankruptcy                         12\n",
       "Mezzanine Default                  12\n",
       "Mezzanine Outstanding              10\n",
       "Mezzanine default                   8\n",
       "Aggregate debt yield fall           6\n",
       "Aggregate Debt Yield Fall           3\n",
       "Tenant Failure                      2\n",
       "Debt yield fall | Loan default      1\n",
       "Aggregate DSCR Fall                 1\n",
       "Aggregate debt yield                1\n",
       "Name: Trigger, dtype: int64"
      ]
     },
     "execution_count": 6,
     "metadata": {},
     "output_type": "execute_result"
    }
   ],
   "source": [
    "# Review number of Trigger types\n",
    "raw_df['Trigger'].value_counts()"
   ]
  },
  {
   "cell_type": "code",
   "execution_count": 7,
   "metadata": {},
   "outputs": [],
   "source": [
    "# Convert each category to Title format (to remove discrepancies based on capitalization)\n",
    "raw_df['Trigger'] = raw_df['Trigger'].str.title()"
   ]
  },
  {
   "cell_type": "code",
   "execution_count": 8,
   "metadata": {},
   "outputs": [
    {
     "data": {
      "text/plain": [
       "Loan Default                      189\n",
       "Unspecified                       127\n",
       "Debt Yield Fall                    59\n",
       "Mezzanine Default                  20\n",
       "Dscr Fall                          17\n",
       "Operator Termination               13\n",
       "Bankruptcy                         12\n",
       "Mezzanine Outstanding              10\n",
       "Aggregate Debt Yield Fall           9\n",
       "Tenant Failure                      2\n",
       "Aggregate Debt Yield                1\n",
       "Debt Yield Fall | Loan Default      1\n",
       "Aggregate Dscr Fall                 1\n",
       "Name: Trigger, dtype: int64"
      ]
     },
     "execution_count": 8,
     "metadata": {},
     "output_type": "execute_result"
    }
   ],
   "source": [
    "# Review clean Trigger Types\n",
    "raw_df['Trigger'].value_counts()"
   ]
  },
  {
   "cell_type": "code",
   "execution_count": 9,
   "metadata": {},
   "outputs": [],
   "source": [
    "# Rename first column (document title)\n",
    "raw_df = raw_df.rename(columns = {'0': 'Document'})"
   ]
  },
  {
   "cell_type": "code",
   "execution_count": 10,
   "metadata": {},
   "outputs": [
    {
     "data": {
      "text/html": [
       "<div>\n",
       "<style scoped>\n",
       "    .dataframe tbody tr th:only-of-type {\n",
       "        vertical-align: middle;\n",
       "    }\n",
       "\n",
       "    .dataframe tbody tr th {\n",
       "        vertical-align: top;\n",
       "    }\n",
       "\n",
       "    .dataframe thead th {\n",
       "        text-align: right;\n",
       "    }\n",
       "</style>\n",
       "<table border=\"1\" class=\"dataframe\">\n",
       "  <thead>\n",
       "    <tr style=\"text-align: right;\">\n",
       "      <th></th>\n",
       "      <th>Document</th>\n",
       "      <th>Sentence</th>\n",
       "      <th>Trigger</th>\n",
       "    </tr>\n",
       "  </thead>\n",
       "  <tbody>\n",
       "    <tr>\n",
       "      <th>0</th>\n",
       "      <td>20120828_01Y0R8_Prospectus_CM00000000205875087...</td>\n",
       "      <td>On each Business Day, the financial institutio...</td>\n",
       "      <td>Loan Default</td>\n",
       "    </tr>\n",
       "    <tr>\n",
       "      <th>1</th>\n",
       "      <td>20120828_01Y0R8_Prospectus_CM00000000205875087...</td>\n",
       "      <td>The Borrower has established and is required t...</td>\n",
       "      <td>Aggregate Dscr Fall</td>\n",
       "    </tr>\n",
       "    <tr>\n",
       "      <th>2</th>\n",
       "      <td>20120828_01Y0R8_Prospectus_CM00000000205875087...</td>\n",
       "      <td>The Borrower has established and is required t...</td>\n",
       "      <td>Loan Default</td>\n",
       "    </tr>\n",
       "    <tr>\n",
       "      <th>3</th>\n",
       "      <td>20120828_01Y0R8_Prospectus_CM00000000205875087...</td>\n",
       "      <td>During a Trigger Period or while an event of d...</td>\n",
       "      <td>Loan Default</td>\n",
       "    </tr>\n",
       "    <tr>\n",
       "      <th>4</th>\n",
       "      <td>20120828_01Y0R8_Prospectus_CM00000000205875087...</td>\n",
       "      <td>On any Business Day all amounts on deposit in ...</td>\n",
       "      <td>Loan Default</td>\n",
       "    </tr>\n",
       "  </tbody>\n",
       "</table>\n",
       "</div>"
      ],
      "text/plain": [
       "                                            Document  \\\n",
       "0  20120828_01Y0R8_Prospectus_CM00000000205875087...   \n",
       "1  20120828_01Y0R8_Prospectus_CM00000000205875087...   \n",
       "2  20120828_01Y0R8_Prospectus_CM00000000205875087...   \n",
       "3  20120828_01Y0R8_Prospectus_CM00000000205875087...   \n",
       "4  20120828_01Y0R8_Prospectus_CM00000000205875087...   \n",
       "\n",
       "                                            Sentence              Trigger  \n",
       "0  On each Business Day, the financial institutio...         Loan Default  \n",
       "1  The Borrower has established and is required t...  Aggregate Dscr Fall  \n",
       "2  The Borrower has established and is required t...         Loan Default  \n",
       "3  During a Trigger Period or while an event of d...         Loan Default  \n",
       "4  On any Business Day all amounts on deposit in ...         Loan Default  "
      ]
     },
     "execution_count": 10,
     "metadata": {},
     "output_type": "execute_result"
    }
   ],
   "source": [
    "# Drop Multiclass column for now \n",
    "raw_df = raw_df.drop('Multiclass', axis = 1)\n",
    "raw_df.head()"
   ]
  },
  {
   "cell_type": "code",
   "execution_count": 11,
   "metadata": {},
   "outputs": [
    {
     "data": {
      "text/plain": [
       "(461, 3)"
      ]
     },
     "execution_count": 11,
     "metadata": {},
     "output_type": "execute_result"
    }
   ],
   "source": [
    "raw_df.shape"
   ]
  },
  {
   "cell_type": "code",
   "execution_count": 12,
   "metadata": {},
   "outputs": [
    {
     "name": "stdout",
     "output_type": "stream",
     "text": [
      "13 unique documents have been included in the data set\n"
     ]
    }
   ],
   "source": [
    "# Count the number of distinct documents\n",
    "num_docs = raw_df['Document'].nunique()\n",
    "print(f'{num_docs} unique documents have been included in the data set')"
   ]
  },
  {
   "cell_type": "code",
   "execution_count": 13,
   "metadata": {
    "scrolled": true
   },
   "outputs": [
    {
     "data": {
      "text/plain": [
       "20181231_02IEP9_Prospectus_SD000000002568455603.pdf    65\n",
       "20180125_02FE6L_Prospectus_SD000000002394837596.pdf    44\n",
       "20160510_02B0XU_Prospectus_SD000000002312723382.pdf    43\n",
       "20170525_02DG4Z_Prospectus_SD000000002352418696.pdf    42\n",
       "20170525_02DFUI_Prospectus_SD000000002352389122.pdf    37\n",
       "20170727_02DTVX_Prospectus_SD000000002362015714.pdf    35\n",
       "20171019_02EFSE_Prospectus_SD000000002376978886.pdf    35\n",
       "20170814_02E227_Prospectus_SD000000002367167139.pdf    34\n",
       "20150307_028S2X_Prospectus_SD000000002389024187.pdf    29\n",
       "20170801_02DX5C_Prospectus_SD000000002363000910.pdf    28\n",
       "20160310_02AQCW_Prospectus_SD0000000-2003264558.pdf    25\n",
       "20190108_02IFF1_Prospectus_SD000000002570458466.pdf    24\n",
       "20120828_01Y0R8_Prospectus_CM000000002058750876.pdf    20\n",
       "Name: Document, dtype: int64"
      ]
     },
     "execution_count": 13,
     "metadata": {},
     "output_type": "execute_result"
    }
   ],
   "source": [
    "# Review the distinct documents and the number of Trigger events identified for each\n",
    "raw_df['Document'].value_counts()"
   ]
  },
  {
   "cell_type": "code",
   "execution_count": 14,
   "metadata": {},
   "outputs": [
    {
     "name": "stdout",
     "output_type": "stream",
     "text": [
      "The 13 Documents have trigger counts that range from 20 to 65.\n"
     ]
    }
   ],
   "source": [
    "# Summarize the trigger counts for the existing Document set\n",
    "max_triggers = raw_df['Document'].value_counts().max()\n",
    "min_triggers = raw_df['Document'].value_counts().min()\n",
    "print(f'The {num_docs} Documents have trigger counts that range from {min_triggers} to {max_triggers}.')"
   ]
  },
  {
   "cell_type": "code",
   "execution_count": 15,
   "metadata": {},
   "outputs": [
    {
     "data": {
      "text/plain": [
       "False    422\n",
       "True      39\n",
       "Name: is_duplicate, dtype: int64"
      ]
     },
     "execution_count": 15,
     "metadata": {},
     "output_type": "execute_result"
    }
   ],
   "source": [
    "# Check for duplicate rows\n",
    "raw_df['is_duplicate'] = raw_df.duplicated(subset = None)\n",
    "raw_df['is_duplicate'].value_counts()"
   ]
  },
  {
   "cell_type": "code",
   "execution_count": 16,
   "metadata": {},
   "outputs": [
    {
     "name": "stdout",
     "output_type": "stream",
     "text": [
      "There are 39 row duplicates in the data set.\n"
     ]
    }
   ],
   "source": [
    "num_duplicated_rows = (raw_df['is_duplicate'] == True).sum()\n",
    "print(f'There are {num_duplicated_rows} row duplicates in the data set.')"
   ]
  },
  {
   "cell_type": "code",
   "execution_count": 17,
   "metadata": {},
   "outputs": [],
   "source": [
    "# We'll remove the extra duplicate rows\n",
    "raw_df = raw_df.drop('is_duplicate', axis = 1)\n",
    "raw_df = raw_df.drop_duplicates()"
   ]
  },
  {
   "cell_type": "code",
   "execution_count": 18,
   "metadata": {},
   "outputs": [
    {
     "data": {
      "text/plain": [
       "(422, 3)"
      ]
     },
     "execution_count": 18,
     "metadata": {},
     "output_type": "execute_result"
    }
   ],
   "source": [
    "raw_df.shape"
   ]
  },
  {
   "cell_type": "code",
   "execution_count": 19,
   "metadata": {},
   "outputs": [
    {
     "data": {
      "text/html": [
       "<div>\n",
       "<style scoped>\n",
       "    .dataframe tbody tr th:only-of-type {\n",
       "        vertical-align: middle;\n",
       "    }\n",
       "\n",
       "    .dataframe tbody tr th {\n",
       "        vertical-align: top;\n",
       "    }\n",
       "\n",
       "    .dataframe thead th {\n",
       "        text-align: right;\n",
       "    }\n",
       "</style>\n",
       "<table border=\"1\" class=\"dataframe\">\n",
       "  <thead>\n",
       "    <tr style=\"text-align: right;\">\n",
       "      <th></th>\n",
       "      <th>Document</th>\n",
       "      <th>Sentence</th>\n",
       "      <th>Trigger</th>\n",
       "    </tr>\n",
       "  </thead>\n",
       "  <tbody>\n",
       "    <tr>\n",
       "      <th>0</th>\n",
       "      <td>20120828_01Y0R8_Prospectus_CM00000000205875087...</td>\n",
       "      <td>On each Business Day, the financial institutio...</td>\n",
       "      <td>Loan Default</td>\n",
       "    </tr>\n",
       "    <tr>\n",
       "      <th>1</th>\n",
       "      <td>20120828_01Y0R8_Prospectus_CM00000000205875087...</td>\n",
       "      <td>The Borrower has established and is required t...</td>\n",
       "      <td>Aggregate Dscr Fall</td>\n",
       "    </tr>\n",
       "    <tr>\n",
       "      <th>2</th>\n",
       "      <td>20120828_01Y0R8_Prospectus_CM00000000205875087...</td>\n",
       "      <td>The Borrower has established and is required t...</td>\n",
       "      <td>Loan Default</td>\n",
       "    </tr>\n",
       "    <tr>\n",
       "      <th>3</th>\n",
       "      <td>20120828_01Y0R8_Prospectus_CM00000000205875087...</td>\n",
       "      <td>During a Trigger Period or while an event of d...</td>\n",
       "      <td>Loan Default</td>\n",
       "    </tr>\n",
       "    <tr>\n",
       "      <th>4</th>\n",
       "      <td>20120828_01Y0R8_Prospectus_CM00000000205875087...</td>\n",
       "      <td>On any Business Day all amounts on deposit in ...</td>\n",
       "      <td>Loan Default</td>\n",
       "    </tr>\n",
       "  </tbody>\n",
       "</table>\n",
       "</div>"
      ],
      "text/plain": [
       "                                            Document  \\\n",
       "0  20120828_01Y0R8_Prospectus_CM00000000205875087...   \n",
       "1  20120828_01Y0R8_Prospectus_CM00000000205875087...   \n",
       "2  20120828_01Y0R8_Prospectus_CM00000000205875087...   \n",
       "3  20120828_01Y0R8_Prospectus_CM00000000205875087...   \n",
       "4  20120828_01Y0R8_Prospectus_CM00000000205875087...   \n",
       "\n",
       "                                            Sentence              Trigger  \n",
       "0  On each Business Day, the financial institutio...         Loan Default  \n",
       "1  The Borrower has established and is required t...  Aggregate Dscr Fall  \n",
       "2  The Borrower has established and is required t...         Loan Default  \n",
       "3  During a Trigger Period or while an event of d...         Loan Default  \n",
       "4  On any Business Day all amounts on deposit in ...         Loan Default  "
      ]
     },
     "execution_count": 19,
     "metadata": {},
     "output_type": "execute_result"
    }
   ],
   "source": [
    "raw_df.head()"
   ]
  },
  {
   "cell_type": "code",
   "execution_count": 20,
   "metadata": {},
   "outputs": [
    {
     "data": {
      "text/plain": [
       "Loan Default                      180\n",
       "Unspecified                       119\n",
       "Debt Yield Fall                    48\n",
       "Mezzanine Default                  17\n",
       "Dscr Fall                          16\n",
       "Operator Termination               11\n",
       "Bankruptcy                          9\n",
       "Aggregate Debt Yield Fall           9\n",
       "Mezzanine Outstanding               8\n",
       "Tenant Failure                      2\n",
       "Aggregate Debt Yield                1\n",
       "Debt Yield Fall | Loan Default      1\n",
       "Aggregate Dscr Fall                 1\n",
       "Name: Trigger, dtype: int64"
      ]
     },
     "execution_count": 20,
     "metadata": {},
     "output_type": "execute_result"
    }
   ],
   "source": [
    "# Review new number of Trigger types\n",
    "raw_df['Trigger'].value_counts()"
   ]
  },
  {
   "cell_type": "code",
   "execution_count": 21,
   "metadata": {},
   "outputs": [
    {
     "data": {
      "text/plain": [
       "20181231_02IEP9_Prospectus_SD000000002568455603.pdf    65\n",
       "20160510_02B0XU_Prospectus_SD000000002312723382.pdf    38\n",
       "20171019_02EFSE_Prospectus_SD000000002376978886.pdf    35\n",
       "20170525_02DG4Z_Prospectus_SD000000002352418696.pdf    34\n",
       "20180125_02FE6L_Prospectus_SD000000002394837596.pdf    34\n",
       "20170525_02DFUI_Prospectus_SD000000002352389122.pdf    33\n",
       "20170814_02E227_Prospectus_SD000000002367167139.pdf    31\n",
       "20170727_02DTVX_Prospectus_SD000000002362015714.pdf    29\n",
       "20150307_028S2X_Prospectus_SD000000002389024187.pdf    29\n",
       "20170801_02DX5C_Prospectus_SD000000002363000910.pdf    27\n",
       "20160310_02AQCW_Prospectus_SD0000000-2003264558.pdf    25\n",
       "20190108_02IFF1_Prospectus_SD000000002570458466.pdf    22\n",
       "20120828_01Y0R8_Prospectus_CM000000002058750876.pdf    20\n",
       "Name: Document, dtype: int64"
      ]
     },
     "execution_count": 21,
     "metadata": {},
     "output_type": "execute_result"
    }
   ],
   "source": [
    "# Review new distinct documents and the number of Trigger events identified for each\n",
    "raw_df['Document'].value_counts()"
   ]
  },
  {
   "cell_type": "markdown",
   "metadata": {},
   "source": [
    "## Reshape the Data"
   ]
  },
  {
   "cell_type": "markdown",
   "metadata": {},
   "source": [
    "In this section, we'll reshape the data, such that each sentence is represented once, with separate categorization columns for each Trigger type"
   ]
  },
  {
   "cell_type": "code",
   "execution_count": 22,
   "metadata": {},
   "outputs": [],
   "source": [
    "# function to reshape the dataframe such that the triggers are 0/1 columns. Remove duplicates\n",
    "def reshape_trigger_representation(dataframe):\n",
    "    # select trigger types\n",
    "    trigger_types = list(dataframe['Trigger'].unique())\n",
    "    \n",
    "    # create new dataframe with unique document-sentence pairs (no duplicates)\n",
    "    reshaped = dataframe.drop('Trigger', axis = 1).drop_duplicates().reset_index().drop('index', axis = 1)\n",
    "    \n",
    "    # select rows by trigger, reassign as 1 or 0 (for True or False)\n",
    "    for tt in trigger_types:\n",
    "        # select part that is trigger_type\n",
    "        temp = dataframe.loc[dataframe['Trigger'] == tt].copy()\n",
    "\n",
    "        # create a new column of true with trigger name\n",
    "        temp[tt.lower().replace(' ', '_')] = np.int64(1)\n",
    "        temp.drop('Trigger', axis=1, inplace=True)\n",
    "        temp[tt.lower().replace(' ', '_')] = temp[tt.lower().replace(' ', '_')].astype('Int64')\n",
    "        \n",
    "        # left join this adjusted column to the unique data\n",
    "        reshaped = reshaped.merge(temp, how='left', left_on=['Document', 'Sentence'], right_on=['Document', 'Sentence'])\n",
    "\n",
    "    # replace nulls with False\n",
    "    reshaped = reshaped.fillna(0)    \n",
    "    \n",
    "    return reshaped"
   ]
  },
  {
   "cell_type": "code",
   "execution_count": 23,
   "metadata": {},
   "outputs": [],
   "source": [
    "# Reshape our original dataframe\n",
    "df = reshape_trigger_representation(raw_df)"
   ]
  },
  {
   "cell_type": "code",
   "execution_count": 24,
   "metadata": {},
   "outputs": [
    {
     "data": {
      "text/html": [
       "<div>\n",
       "<style scoped>\n",
       "    .dataframe tbody tr th:only-of-type {\n",
       "        vertical-align: middle;\n",
       "    }\n",
       "\n",
       "    .dataframe tbody tr th {\n",
       "        vertical-align: top;\n",
       "    }\n",
       "\n",
       "    .dataframe thead th {\n",
       "        text-align: right;\n",
       "    }\n",
       "</style>\n",
       "<table border=\"1\" class=\"dataframe\">\n",
       "  <thead>\n",
       "    <tr style=\"text-align: right;\">\n",
       "      <th></th>\n",
       "      <th>Document</th>\n",
       "      <th>Sentence</th>\n",
       "      <th>loan_default</th>\n",
       "      <th>aggregate_dscr_fall</th>\n",
       "      <th>dscr_fall</th>\n",
       "      <th>unspecified</th>\n",
       "      <th>debt_yield_fall</th>\n",
       "      <th>aggregate_debt_yield_fall</th>\n",
       "      <th>mezzanine_default</th>\n",
       "      <th>tenant_failure</th>\n",
       "      <th>mezzanine_outstanding</th>\n",
       "      <th>operator_termination</th>\n",
       "      <th>bankruptcy</th>\n",
       "      <th>aggregate_debt_yield</th>\n",
       "      <th>debt_yield_fall_|_loan_default</th>\n",
       "    </tr>\n",
       "  </thead>\n",
       "  <tbody>\n",
       "    <tr>\n",
       "      <th>0</th>\n",
       "      <td>20120828_01Y0R8_Prospectus_CM00000000205875087...</td>\n",
       "      <td>On each Business Day, the financial institutio...</td>\n",
       "      <td>1</td>\n",
       "      <td>0</td>\n",
       "      <td>0</td>\n",
       "      <td>0</td>\n",
       "      <td>0</td>\n",
       "      <td>0</td>\n",
       "      <td>0</td>\n",
       "      <td>0</td>\n",
       "      <td>0</td>\n",
       "      <td>0</td>\n",
       "      <td>0</td>\n",
       "      <td>0</td>\n",
       "      <td>0</td>\n",
       "    </tr>\n",
       "    <tr>\n",
       "      <th>1</th>\n",
       "      <td>20120828_01Y0R8_Prospectus_CM00000000205875087...</td>\n",
       "      <td>The Borrower has established and is required t...</td>\n",
       "      <td>1</td>\n",
       "      <td>1</td>\n",
       "      <td>0</td>\n",
       "      <td>0</td>\n",
       "      <td>0</td>\n",
       "      <td>0</td>\n",
       "      <td>0</td>\n",
       "      <td>0</td>\n",
       "      <td>0</td>\n",
       "      <td>0</td>\n",
       "      <td>0</td>\n",
       "      <td>0</td>\n",
       "      <td>0</td>\n",
       "    </tr>\n",
       "    <tr>\n",
       "      <th>2</th>\n",
       "      <td>20120828_01Y0R8_Prospectus_CM00000000205875087...</td>\n",
       "      <td>During a Trigger Period or while an event of d...</td>\n",
       "      <td>1</td>\n",
       "      <td>0</td>\n",
       "      <td>0</td>\n",
       "      <td>0</td>\n",
       "      <td>0</td>\n",
       "      <td>0</td>\n",
       "      <td>0</td>\n",
       "      <td>0</td>\n",
       "      <td>0</td>\n",
       "      <td>0</td>\n",
       "      <td>0</td>\n",
       "      <td>0</td>\n",
       "      <td>0</td>\n",
       "    </tr>\n",
       "    <tr>\n",
       "      <th>3</th>\n",
       "      <td>20120828_01Y0R8_Prospectus_CM00000000205875087...</td>\n",
       "      <td>On any Business Day all amounts on deposit in ...</td>\n",
       "      <td>1</td>\n",
       "      <td>0</td>\n",
       "      <td>0</td>\n",
       "      <td>0</td>\n",
       "      <td>0</td>\n",
       "      <td>0</td>\n",
       "      <td>0</td>\n",
       "      <td>0</td>\n",
       "      <td>0</td>\n",
       "      <td>0</td>\n",
       "      <td>0</td>\n",
       "      <td>0</td>\n",
       "      <td>0</td>\n",
       "    </tr>\n",
       "    <tr>\n",
       "      <th>4</th>\n",
       "      <td>20120828_01Y0R8_Prospectus_CM00000000205875087...</td>\n",
       "      <td>Available funds in each Cash Management Accoun...</td>\n",
       "      <td>1</td>\n",
       "      <td>0</td>\n",
       "      <td>0</td>\n",
       "      <td>0</td>\n",
       "      <td>0</td>\n",
       "      <td>0</td>\n",
       "      <td>0</td>\n",
       "      <td>0</td>\n",
       "      <td>0</td>\n",
       "      <td>0</td>\n",
       "      <td>0</td>\n",
       "      <td>0</td>\n",
       "      <td>0</td>\n",
       "    </tr>\n",
       "  </tbody>\n",
       "</table>\n",
       "</div>"
      ],
      "text/plain": [
       "                                            Document  \\\n",
       "0  20120828_01Y0R8_Prospectus_CM00000000205875087...   \n",
       "1  20120828_01Y0R8_Prospectus_CM00000000205875087...   \n",
       "2  20120828_01Y0R8_Prospectus_CM00000000205875087...   \n",
       "3  20120828_01Y0R8_Prospectus_CM00000000205875087...   \n",
       "4  20120828_01Y0R8_Prospectus_CM00000000205875087...   \n",
       "\n",
       "                                            Sentence  loan_default  \\\n",
       "0  On each Business Day, the financial institutio...             1   \n",
       "1  The Borrower has established and is required t...             1   \n",
       "2  During a Trigger Period or while an event of d...             1   \n",
       "3  On any Business Day all amounts on deposit in ...             1   \n",
       "4  Available funds in each Cash Management Accoun...             1   \n",
       "\n",
       "   aggregate_dscr_fall  dscr_fall  unspecified  debt_yield_fall  \\\n",
       "0                    0          0            0                0   \n",
       "1                    1          0            0                0   \n",
       "2                    0          0            0                0   \n",
       "3                    0          0            0                0   \n",
       "4                    0          0            0                0   \n",
       "\n",
       "   aggregate_debt_yield_fall  mezzanine_default  tenant_failure  \\\n",
       "0                          0                  0               0   \n",
       "1                          0                  0               0   \n",
       "2                          0                  0               0   \n",
       "3                          0                  0               0   \n",
       "4                          0                  0               0   \n",
       "\n",
       "   mezzanine_outstanding  operator_termination  bankruptcy  \\\n",
       "0                      0                     0           0   \n",
       "1                      0                     0           0   \n",
       "2                      0                     0           0   \n",
       "3                      0                     0           0   \n",
       "4                      0                     0           0   \n",
       "\n",
       "   aggregate_debt_yield  debt_yield_fall_|_loan_default  \n",
       "0                     0                               0  \n",
       "1                     0                               0  \n",
       "2                     0                               0  \n",
       "3                     0                               0  \n",
       "4                     0                               0  "
      ]
     },
     "execution_count": 24,
     "metadata": {},
     "output_type": "execute_result"
    }
   ],
   "source": [
    "df.head()"
   ]
  },
  {
   "cell_type": "code",
   "execution_count": 25,
   "metadata": {},
   "outputs": [
    {
     "data": {
      "text/plain": [
       "Document                          object\n",
       "Sentence                          object\n",
       "loan_default                       Int64\n",
       "aggregate_dscr_fall                Int64\n",
       "dscr_fall                          Int64\n",
       "unspecified                        Int64\n",
       "debt_yield_fall                    Int64\n",
       "aggregate_debt_yield_fall          Int64\n",
       "mezzanine_default                  Int64\n",
       "tenant_failure                     Int64\n",
       "mezzanine_outstanding              Int64\n",
       "operator_termination               Int64\n",
       "bankruptcy                         Int64\n",
       "aggregate_debt_yield               Int64\n",
       "debt_yield_fall_|_loan_default     Int64\n",
       "dtype: object"
      ]
     },
     "execution_count": 25,
     "metadata": {},
     "output_type": "execute_result"
    }
   ],
   "source": [
    "df.dtypes"
   ]
  },
  {
   "cell_type": "code",
   "execution_count": null,
   "metadata": {},
   "outputs": [],
   "source": []
  },
  {
   "cell_type": "code",
   "execution_count": null,
   "metadata": {},
   "outputs": [],
   "source": []
  },
  {
   "cell_type": "code",
   "execution_count": null,
   "metadata": {},
   "outputs": [],
   "source": []
  },
  {
   "cell_type": "code",
   "execution_count": null,
   "metadata": {},
   "outputs": [],
   "source": []
  },
  {
   "cell_type": "code",
   "execution_count": null,
   "metadata": {},
   "outputs": [],
   "source": []
  },
  {
   "cell_type": "code",
   "execution_count": null,
   "metadata": {},
   "outputs": [],
   "source": []
  },
  {
   "cell_type": "code",
   "execution_count": 26,
   "metadata": {},
   "outputs": [
    {
     "data": {
      "text/plain": [
       "(349, 15)"
      ]
     },
     "execution_count": 26,
     "metadata": {},
     "output_type": "execute_result"
    }
   ],
   "source": [
    "df.shape"
   ]
  },
  {
   "cell_type": "code",
   "execution_count": 27,
   "metadata": {},
   "outputs": [
    {
     "data": {
      "text/plain": [
       "Document                          20120828_01Y0R8_Prospectus_CM00000000205875087...\n",
       "Sentence                          On each Business Day, the financial institutio...\n",
       "loan_default                                                                    180\n",
       "aggregate_dscr_fall                                                               1\n",
       "dscr_fall                                                                        16\n",
       "unspecified                                                                     119\n",
       "debt_yield_fall                                                                  48\n",
       "aggregate_debt_yield_fall                                                         9\n",
       "mezzanine_default                                                                17\n",
       "tenant_failure                                                                    2\n",
       "mezzanine_outstanding                                                             8\n",
       "operator_termination                                                             11\n",
       "bankruptcy                                                                        9\n",
       "aggregate_debt_yield                                                              1\n",
       "debt_yield_fall_|_loan_default                                                    1\n",
       "dtype: object"
      ]
     },
     "execution_count": 27,
     "metadata": {},
     "output_type": "execute_result"
    }
   ],
   "source": [
    "# We can confirm that the number of Triggers is consistent with the prior dataframe\n",
    "df.sum()"
   ]
  },
  {
   "cell_type": "code",
   "execution_count": null,
   "metadata": {},
   "outputs": [],
   "source": []
  },
  {
   "cell_type": "markdown",
   "metadata": {},
   "source": [
    "## Feature Engineering"
   ]
  },
  {
   "cell_type": "code",
   "execution_count": 28,
   "metadata": {},
   "outputs": [],
   "source": [
    "# Create a column with length of Sentence\n",
    "df['sentence_char_count'] = df['Sentence'].str.len()"
   ]
  },
  {
   "cell_type": "code",
   "execution_count": null,
   "metadata": {},
   "outputs": [],
   "source": []
  },
  {
   "cell_type": "code",
   "execution_count": 29,
   "metadata": {},
   "outputs": [
    {
     "data": {
      "text/html": [
       "<div>\n",
       "<style scoped>\n",
       "    .dataframe tbody tr th:only-of-type {\n",
       "        vertical-align: middle;\n",
       "    }\n",
       "\n",
       "    .dataframe tbody tr th {\n",
       "        vertical-align: top;\n",
       "    }\n",
       "\n",
       "    .dataframe thead th {\n",
       "        text-align: right;\n",
       "    }\n",
       "</style>\n",
       "<table border=\"1\" class=\"dataframe\">\n",
       "  <thead>\n",
       "    <tr style=\"text-align: right;\">\n",
       "      <th></th>\n",
       "      <th>Document</th>\n",
       "      <th>Sentence</th>\n",
       "      <th>loan_default</th>\n",
       "      <th>aggregate_dscr_fall</th>\n",
       "      <th>dscr_fall</th>\n",
       "      <th>unspecified</th>\n",
       "      <th>debt_yield_fall</th>\n",
       "      <th>aggregate_debt_yield_fall</th>\n",
       "      <th>mezzanine_default</th>\n",
       "      <th>tenant_failure</th>\n",
       "      <th>mezzanine_outstanding</th>\n",
       "      <th>operator_termination</th>\n",
       "      <th>bankruptcy</th>\n",
       "      <th>aggregate_debt_yield</th>\n",
       "      <th>debt_yield_fall_|_loan_default</th>\n",
       "      <th>sentence_char_count</th>\n",
       "    </tr>\n",
       "  </thead>\n",
       "  <tbody>\n",
       "    <tr>\n",
       "      <th>0</th>\n",
       "      <td>20120828_01Y0R8_Prospectus_CM00000000205875087...</td>\n",
       "      <td>On each Business Day, the financial institutio...</td>\n",
       "      <td>1</td>\n",
       "      <td>0</td>\n",
       "      <td>0</td>\n",
       "      <td>0</td>\n",
       "      <td>0</td>\n",
       "      <td>0</td>\n",
       "      <td>0</td>\n",
       "      <td>0</td>\n",
       "      <td>0</td>\n",
       "      <td>0</td>\n",
       "      <td>0</td>\n",
       "      <td>0</td>\n",
       "      <td>0</td>\n",
       "      <td>446</td>\n",
       "    </tr>\n",
       "    <tr>\n",
       "      <th>1</th>\n",
       "      <td>20120828_01Y0R8_Prospectus_CM00000000205875087...</td>\n",
       "      <td>The Borrower has established and is required t...</td>\n",
       "      <td>1</td>\n",
       "      <td>1</td>\n",
       "      <td>0</td>\n",
       "      <td>0</td>\n",
       "      <td>0</td>\n",
       "      <td>0</td>\n",
       "      <td>0</td>\n",
       "      <td>0</td>\n",
       "      <td>0</td>\n",
       "      <td>0</td>\n",
       "      <td>0</td>\n",
       "      <td>0</td>\n",
       "      <td>0</td>\n",
       "      <td>837</td>\n",
       "    </tr>\n",
       "    <tr>\n",
       "      <th>2</th>\n",
       "      <td>20120828_01Y0R8_Prospectus_CM00000000205875087...</td>\n",
       "      <td>During a Trigger Period or while an event of d...</td>\n",
       "      <td>1</td>\n",
       "      <td>0</td>\n",
       "      <td>0</td>\n",
       "      <td>0</td>\n",
       "      <td>0</td>\n",
       "      <td>0</td>\n",
       "      <td>0</td>\n",
       "      <td>0</td>\n",
       "      <td>0</td>\n",
       "      <td>0</td>\n",
       "      <td>0</td>\n",
       "      <td>0</td>\n",
       "      <td>0</td>\n",
       "      <td>1772</td>\n",
       "    </tr>\n",
       "    <tr>\n",
       "      <th>3</th>\n",
       "      <td>20120828_01Y0R8_Prospectus_CM00000000205875087...</td>\n",
       "      <td>On any Business Day all amounts on deposit in ...</td>\n",
       "      <td>1</td>\n",
       "      <td>0</td>\n",
       "      <td>0</td>\n",
       "      <td>0</td>\n",
       "      <td>0</td>\n",
       "      <td>0</td>\n",
       "      <td>0</td>\n",
       "      <td>0</td>\n",
       "      <td>0</td>\n",
       "      <td>0</td>\n",
       "      <td>0</td>\n",
       "      <td>0</td>\n",
       "      <td>0</td>\n",
       "      <td>302</td>\n",
       "    </tr>\n",
       "    <tr>\n",
       "      <th>4</th>\n",
       "      <td>20120828_01Y0R8_Prospectus_CM00000000205875087...</td>\n",
       "      <td>Available funds in each Cash Management Accoun...</td>\n",
       "      <td>1</td>\n",
       "      <td>0</td>\n",
       "      <td>0</td>\n",
       "      <td>0</td>\n",
       "      <td>0</td>\n",
       "      <td>0</td>\n",
       "      <td>0</td>\n",
       "      <td>0</td>\n",
       "      <td>0</td>\n",
       "      <td>0</td>\n",
       "      <td>0</td>\n",
       "      <td>0</td>\n",
       "      <td>0</td>\n",
       "      <td>235</td>\n",
       "    </tr>\n",
       "  </tbody>\n",
       "</table>\n",
       "</div>"
      ],
      "text/plain": [
       "                                            Document  \\\n",
       "0  20120828_01Y0R8_Prospectus_CM00000000205875087...   \n",
       "1  20120828_01Y0R8_Prospectus_CM00000000205875087...   \n",
       "2  20120828_01Y0R8_Prospectus_CM00000000205875087...   \n",
       "3  20120828_01Y0R8_Prospectus_CM00000000205875087...   \n",
       "4  20120828_01Y0R8_Prospectus_CM00000000205875087...   \n",
       "\n",
       "                                            Sentence  loan_default  \\\n",
       "0  On each Business Day, the financial institutio...             1   \n",
       "1  The Borrower has established and is required t...             1   \n",
       "2  During a Trigger Period or while an event of d...             1   \n",
       "3  On any Business Day all amounts on deposit in ...             1   \n",
       "4  Available funds in each Cash Management Accoun...             1   \n",
       "\n",
       "   aggregate_dscr_fall  dscr_fall  unspecified  debt_yield_fall  \\\n",
       "0                    0          0            0                0   \n",
       "1                    1          0            0                0   \n",
       "2                    0          0            0                0   \n",
       "3                    0          0            0                0   \n",
       "4                    0          0            0                0   \n",
       "\n",
       "   aggregate_debt_yield_fall  mezzanine_default  tenant_failure  \\\n",
       "0                          0                  0               0   \n",
       "1                          0                  0               0   \n",
       "2                          0                  0               0   \n",
       "3                          0                  0               0   \n",
       "4                          0                  0               0   \n",
       "\n",
       "   mezzanine_outstanding  operator_termination  bankruptcy  \\\n",
       "0                      0                     0           0   \n",
       "1                      0                     0           0   \n",
       "2                      0                     0           0   \n",
       "3                      0                     0           0   \n",
       "4                      0                     0           0   \n",
       "\n",
       "   aggregate_debt_yield  debt_yield_fall_|_loan_default  sentence_char_count  \n",
       "0                     0                               0                  446  \n",
       "1                     0                               0                  837  \n",
       "2                     0                               0                 1772  \n",
       "3                     0                               0                  302  \n",
       "4                     0                               0                  235  "
      ]
     },
     "execution_count": 29,
     "metadata": {},
     "output_type": "execute_result"
    }
   ],
   "source": [
    "df.head()"
   ]
  },
  {
   "cell_type": "code",
   "execution_count": null,
   "metadata": {},
   "outputs": [],
   "source": []
  },
  {
   "cell_type": "code",
   "execution_count": null,
   "metadata": {},
   "outputs": [],
   "source": []
  },
  {
   "cell_type": "markdown",
   "metadata": {},
   "source": [
    "## Natural Language Processing of the sentence column"
   ]
  },
  {
   "cell_type": "code",
   "execution_count": 30,
   "metadata": {},
   "outputs": [],
   "source": [
    "nlp = spacy.load('en_core_web_sm', disable = ['ner', 'parser'])"
   ]
  },
  {
   "cell_type": "code",
   "execution_count": 31,
   "metadata": {},
   "outputs": [
    {
     "data": {
      "text/plain": [
       "['During',\n",
       " 'a',\n",
       " 'Trigger',\n",
       " 'Period',\n",
       " 'or',\n",
       " 'while',\n",
       " 'an',\n",
       " 'event',\n",
       " 'of',\n",
       " 'default',\n",
       " 'under',\n",
       " 'the',\n",
       " 'Mortgage',\n",
       " 'Loan',\n",
       " 'is',\n",
       " 'continuing',\n",
       " ',',\n",
       " 'all',\n",
       " 'amounts',\n",
       " 'available',\n",
       " 'in',\n",
       " 'the',\n",
       " 'Cash',\n",
       " 'Management',\n",
       " 'Account',\n",
       " 'will',\n",
       " 'be',\n",
       " 'applied',\n",
       " 'on',\n",
       " 'each',\n",
       " 'Loan',\n",
       " 'Payment',\n",
       " 'Date',\n",
       " 'in',\n",
       " 'the',\n",
       " 'following',\n",
       " 'order',\n",
       " 'of',\n",
       " 'priority',\n",
       " ':',\n",
       " '(',\n",
       " 'i',\n",
       " ')',\n",
       " 'to',\n",
       " 'the',\n",
       " 'Tax',\n",
       " 'and',\n",
       " 'Insurance',\n",
       " 'Reserve',\n",
       " 'Account',\n",
       " ',',\n",
       " '(',\n",
       " 'a',\n",
       " ')',\n",
       " '1/12th',\n",
       " 'of',\n",
       " 'projected',\n",
       " 'annual',\n",
       " 'taxes',\n",
       " 'and',\n",
       " '(',\n",
       " 'b',\n",
       " ')',\n",
       " '1/12th',\n",
       " 'of',\n",
       " 'projected',\n",
       " 'annual',\n",
       " 'insurance',\n",
       " 'premiums',\n",
       " '(',\n",
       " 'unless',\n",
       " 'certain',\n",
       " 'blanket',\n",
       " 'policies',\n",
       " 'are',\n",
       " 'in',\n",
       " 'effect',\n",
       " ')',\n",
       " ',',\n",
       " '(',\n",
       " 'ii',\n",
       " ')',\n",
       " 'to',\n",
       " 'the',\n",
       " 'lender',\n",
       " ',',\n",
       " 'the',\n",
       " 'amount',\n",
       " 'of',\n",
       " 'all',\n",
       " 'scheduled',\n",
       " 'or',\n",
       " 'delinquent',\n",
       " 'interest',\n",
       " 'and',\n",
       " 'principal',\n",
       " 'on',\n",
       " 'the',\n",
       " 'Mortgage',\n",
       " 'Loan',\n",
       " 'and',\n",
       " 'all',\n",
       " 'other',\n",
       " 'amounts',\n",
       " 'then',\n",
       " 'due',\n",
       " 'and',\n",
       " 'payable',\n",
       " 'under',\n",
       " 'the',\n",
       " 'Loan',\n",
       " 'Documents',\n",
       " '(',\n",
       " 'with',\n",
       " 'amounts',\n",
       " 'in',\n",
       " 'respect',\n",
       " 'of',\n",
       " 'principal',\n",
       " 'paid',\n",
       " 'last',\n",
       " ')',\n",
       " ',',\n",
       " '(',\n",
       " 'iii',\n",
       " ')',\n",
       " 'provided',\n",
       " 'there',\n",
       " 'has',\n",
       " 'been',\n",
       " 'no',\n",
       " 'enforcement',\n",
       " 'action',\n",
       " ',',\n",
       " 'after',\n",
       " 'the',\n",
       " 'occurrence',\n",
       " 'and',\n",
       " 'during',\n",
       " 'the',\n",
       " 'continuance',\n",
       " 'of',\n",
       " 'an',\n",
       " 'event',\n",
       " 'of',\n",
       " 'default',\n",
       " 'under',\n",
       " 'the',\n",
       " 'Mortgage',\n",
       " 'Loan',\n",
       " ',',\n",
       " 'to',\n",
       " 'operating',\n",
       " 'accounts',\n",
       " ',',\n",
       " 'an',\n",
       " 'amount',\n",
       " 'equal',\n",
       " 'to',\n",
       " 'the',\n",
       " 'budgeted',\n",
       " 'operating',\n",
       " 'expenses',\n",
       " 'for',\n",
       " 'the',\n",
       " 'month',\n",
       " 'in',\n",
       " 'which',\n",
       " 'such',\n",
       " 'Loan',\n",
       " 'Payment',\n",
       " 'Date',\n",
       " 'occurs',\n",
       " '(',\n",
       " 'as',\n",
       " 'described',\n",
       " 'in',\n",
       " '“',\n",
       " 'Description',\n",
       " 'of',\n",
       " 'the',\n",
       " 'Mortgage',\n",
       " 'Loan',\n",
       " '—',\n",
       " 'Cash',\n",
       " 'Management',\n",
       " '”',\n",
       " ')',\n",
       " ';',\n",
       " '(',\n",
       " 'iv',\n",
       " ')',\n",
       " 'to',\n",
       " 'the',\n",
       " 'Capital',\n",
       " 'Expenditure',\n",
       " 'Reserve',\n",
       " 'Account,\\U00100003an',\n",
       " 'amount',\n",
       " 'equal',\n",
       " 'to',\n",
       " 'the',\n",
       " 'lesser',\n",
       " 'of',\n",
       " '(',\n",
       " 'a',\n",
       " ')',\n",
       " '$',\n",
       " '9,018',\n",
       " '(',\n",
       " 'which',\n",
       " 'is',\n",
       " '$',\n",
       " '0.15',\n",
       " 'per',\n",
       " 'owned',\n",
       " 'rentable',\n",
       " 'square',\n",
       " 'foot',\n",
       " 'per',\n",
       " 'annum',\n",
       " ')',\n",
       " 'or',\n",
       " '(',\n",
       " 'b',\n",
       " ')',\n",
       " 'the',\n",
       " 'amount',\n",
       " 'that',\n",
       " 'would',\n",
       " 'cause',\n",
       " 'the',\n",
       " 'total',\n",
       " 'amount',\n",
       " 'contained',\n",
       " 'in',\n",
       " 'the',\n",
       " 'Capital',\n",
       " 'Expenditure',\n",
       " 'Reserve',\n",
       " 'Account',\n",
       " 'to',\n",
       " 'equal',\n",
       " '$',\n",
       " '108,216',\n",
       " '(',\n",
       " 'which',\n",
       " 'is',\n",
       " '12',\n",
       " 'times',\n",
       " 'the',\n",
       " 'monthly',\n",
       " 'required',\n",
       " 'amount',\n",
       " 'set',\n",
       " 'forth',\n",
       " 'in',\n",
       " 'clause',\n",
       " '(',\n",
       " 'a',\n",
       " ')',\n",
       " ')',\n",
       " ',',\n",
       " '(',\n",
       " 'v',\n",
       " ')',\n",
       " 'to',\n",
       " 'the',\n",
       " 'TI',\n",
       " '/',\n",
       " 'LC',\n",
       " 'Reserve',\n",
       " 'Account',\n",
       " 'an',\n",
       " 'amount',\n",
       " 'equal',\n",
       " 'to',\n",
       " 'the',\n",
       " 'lesser',\n",
       " 'of',\n",
       " '(',\n",
       " 'a',\n",
       " ')',\n",
       " '$',\n",
       " '60,120',\n",
       " '(',\n",
       " 'which',\n",
       " 'is',\n",
       " '$',\n",
       " '1.00',\n",
       " 'per',\n",
       " 'owned',\n",
       " 'rentable',\n",
       " 'square',\n",
       " 'foot',\n",
       " 'per',\n",
       " 'annum',\n",
       " ')',\n",
       " 'or',\n",
       " '(',\n",
       " 'b',\n",
       " ')',\n",
       " 'the',\n",
       " 'amount',\n",
       " 'that',\n",
       " 'would',\n",
       " 'cause',\n",
       " 'the',\n",
       " 'total',\n",
       " 'amount',\n",
       " 'contained',\n",
       " 'in',\n",
       " 'the',\n",
       " 'Capital',\n",
       " 'Expenditure',\n",
       " 'Reserve',\n",
       " 'Account',\n",
       " 'to',\n",
       " 'equal',\n",
       " '$',\n",
       " '721,438',\n",
       " '(',\n",
       " 'which',\n",
       " 'is',\n",
       " '12',\n",
       " 'times',\n",
       " 'the',\n",
       " 'monthly',\n",
       " 'required',\n",
       " 'amount',\n",
       " 'set',\n",
       " 'forth',\n",
       " 'in',\n",
       " 'clause',\n",
       " '(',\n",
       " 'a',\n",
       " ')',\n",
       " ')',\n",
       " ',',\n",
       " 'and',\n",
       " '(',\n",
       " 'vi',\n",
       " ')',\n",
       " 'unless',\n",
       " 'an',\n",
       " 'event',\n",
       " 'of',\n",
       " 'default',\n",
       " 'under',\n",
       " 'the',\n",
       " 'Loan',\n",
       " 'Documents',\n",
       " 'is',\n",
       " 'continuing',\n",
       " ',',\n",
       " 'all',\n",
       " 'remaining',\n",
       " 'amounts',\n",
       " 'to',\n",
       " 'the',\n",
       " 'Borrower',\n",
       " '.']"
      ]
     },
     "execution_count": 31,
     "metadata": {},
     "output_type": "execute_result"
    }
   ],
   "source": [
    "# Review a tokenized sample Sentence\n",
    "[token.text for token in nlp(df['Sentence'][2])]"
   ]
  },
  {
   "cell_type": "code",
   "execution_count": 32,
   "metadata": {},
   "outputs": [
    {
     "data": {
      "text/plain": [
       "['during',\n",
       " 'a',\n",
       " 'trigger',\n",
       " 'period',\n",
       " 'or',\n",
       " 'while',\n",
       " 'an',\n",
       " 'event',\n",
       " 'of',\n",
       " 'default',\n",
       " 'under',\n",
       " 'the',\n",
       " 'mortgage',\n",
       " 'loan',\n",
       " 'be',\n",
       " 'continue',\n",
       " ',',\n",
       " 'all',\n",
       " 'amount',\n",
       " 'available',\n",
       " 'in',\n",
       " 'the',\n",
       " 'cash',\n",
       " 'management',\n",
       " 'account',\n",
       " 'will',\n",
       " 'be',\n",
       " 'apply',\n",
       " 'on',\n",
       " 'each',\n",
       " 'loan',\n",
       " 'payment',\n",
       " 'date',\n",
       " 'in',\n",
       " 'the',\n",
       " 'follow',\n",
       " 'order',\n",
       " 'of',\n",
       " 'priority',\n",
       " ':',\n",
       " '(',\n",
       " 'i',\n",
       " ')',\n",
       " 'to',\n",
       " 'the',\n",
       " 'tax',\n",
       " 'and',\n",
       " 'insurance',\n",
       " 'reserve',\n",
       " 'account',\n",
       " ',',\n",
       " '(',\n",
       " 'a',\n",
       " ')',\n",
       " '1/12th',\n",
       " 'of',\n",
       " 'project',\n",
       " 'annual',\n",
       " 'tax',\n",
       " 'and',\n",
       " '(',\n",
       " 'b',\n",
       " ')',\n",
       " '1/12th',\n",
       " 'of',\n",
       " 'project',\n",
       " 'annual',\n",
       " 'insurance',\n",
       " 'premium',\n",
       " '(',\n",
       " 'unless',\n",
       " 'certain',\n",
       " 'blanket',\n",
       " 'policy',\n",
       " 'be',\n",
       " 'in',\n",
       " 'effect',\n",
       " ')',\n",
       " ',',\n",
       " '(',\n",
       " 'ii',\n",
       " ')',\n",
       " 'to',\n",
       " 'the',\n",
       " 'lender',\n",
       " ',',\n",
       " 'the',\n",
       " 'amount',\n",
       " 'of',\n",
       " 'all',\n",
       " 'schedule',\n",
       " 'or',\n",
       " 'delinquent',\n",
       " 'interest',\n",
       " 'and',\n",
       " 'principal',\n",
       " 'on',\n",
       " 'the',\n",
       " 'mortgage',\n",
       " 'loan',\n",
       " 'and',\n",
       " 'all',\n",
       " 'other',\n",
       " 'amount',\n",
       " 'then',\n",
       " 'due',\n",
       " 'and',\n",
       " 'payable',\n",
       " 'under',\n",
       " 'the',\n",
       " 'loan',\n",
       " 'documents',\n",
       " '(',\n",
       " 'with',\n",
       " 'amount',\n",
       " 'in',\n",
       " 'respect',\n",
       " 'of',\n",
       " 'principal',\n",
       " 'pay',\n",
       " 'last',\n",
       " ')',\n",
       " ',',\n",
       " '(',\n",
       " 'iii',\n",
       " ')',\n",
       " 'provide',\n",
       " 'there',\n",
       " 'have',\n",
       " 'be',\n",
       " 'no',\n",
       " 'enforcement',\n",
       " 'action',\n",
       " ',',\n",
       " 'after',\n",
       " 'the',\n",
       " 'occurrence',\n",
       " 'and',\n",
       " 'during',\n",
       " 'the',\n",
       " 'continuance',\n",
       " 'of',\n",
       " 'an',\n",
       " 'event',\n",
       " 'of',\n",
       " 'default',\n",
       " 'under',\n",
       " 'the',\n",
       " 'mortgage',\n",
       " 'loan',\n",
       " ',',\n",
       " 'to',\n",
       " 'operating',\n",
       " 'account',\n",
       " ',',\n",
       " 'an',\n",
       " 'amount',\n",
       " 'equal',\n",
       " 'to',\n",
       " 'the',\n",
       " 'budget',\n",
       " 'operating',\n",
       " 'expense',\n",
       " 'for',\n",
       " 'the',\n",
       " 'month',\n",
       " 'in',\n",
       " 'which',\n",
       " 'such',\n",
       " 'loan',\n",
       " 'payment',\n",
       " 'date',\n",
       " 'occur',\n",
       " '(',\n",
       " 'as',\n",
       " 'describe',\n",
       " 'in',\n",
       " '\"',\n",
       " 'description',\n",
       " 'of',\n",
       " 'the',\n",
       " 'mortgage',\n",
       " 'loan',\n",
       " '—',\n",
       " 'cash',\n",
       " 'management',\n",
       " '\"',\n",
       " ')',\n",
       " ';',\n",
       " '(',\n",
       " 'iv',\n",
       " ')',\n",
       " 'to',\n",
       " 'the',\n",
       " 'capital',\n",
       " 'expenditure',\n",
       " 'reserve',\n",
       " 'account,\\U00100003an',\n",
       " 'amount',\n",
       " 'equal',\n",
       " 'to',\n",
       " 'the',\n",
       " 'less',\n",
       " 'of',\n",
       " '(',\n",
       " 'a',\n",
       " ')',\n",
       " '$',\n",
       " '9,018',\n",
       " '(',\n",
       " 'which',\n",
       " 'be',\n",
       " '$',\n",
       " '0.15',\n",
       " 'per',\n",
       " 'own',\n",
       " 'rentable',\n",
       " 'square',\n",
       " 'foot',\n",
       " 'per',\n",
       " 'annum',\n",
       " ')',\n",
       " 'or',\n",
       " '(',\n",
       " 'b',\n",
       " ')',\n",
       " 'the',\n",
       " 'amount',\n",
       " 'that',\n",
       " 'would',\n",
       " 'because',\n",
       " 'the',\n",
       " 'total',\n",
       " 'amount',\n",
       " 'contain',\n",
       " 'in',\n",
       " 'the',\n",
       " 'capital',\n",
       " 'expenditure',\n",
       " 'reserve',\n",
       " 'account',\n",
       " 'to',\n",
       " 'equal',\n",
       " '$',\n",
       " '108,216',\n",
       " '(',\n",
       " 'which',\n",
       " 'be',\n",
       " '12',\n",
       " 'time',\n",
       " 'the',\n",
       " 'monthly',\n",
       " 'require',\n",
       " 'amount',\n",
       " 'set',\n",
       " 'forth',\n",
       " 'in',\n",
       " 'clause',\n",
       " '(',\n",
       " 'a',\n",
       " ')',\n",
       " ')',\n",
       " ',',\n",
       " '(',\n",
       " 'v',\n",
       " ')',\n",
       " 'to',\n",
       " 'the',\n",
       " 'ti',\n",
       " '/',\n",
       " 'lc',\n",
       " 'reserve',\n",
       " 'account',\n",
       " 'an',\n",
       " 'amount',\n",
       " 'equal',\n",
       " 'to',\n",
       " 'the',\n",
       " 'less',\n",
       " 'of',\n",
       " '(',\n",
       " 'a',\n",
       " ')',\n",
       " '$',\n",
       " '60,120',\n",
       " '(',\n",
       " 'which',\n",
       " 'be',\n",
       " '$',\n",
       " '1.00',\n",
       " 'per',\n",
       " 'own',\n",
       " 'rentable',\n",
       " 'square',\n",
       " 'foot',\n",
       " 'per',\n",
       " 'annum',\n",
       " ')',\n",
       " 'or',\n",
       " '(',\n",
       " 'b',\n",
       " ')',\n",
       " 'the',\n",
       " 'amount',\n",
       " 'that',\n",
       " 'would',\n",
       " 'because',\n",
       " 'the',\n",
       " 'total',\n",
       " 'amount',\n",
       " 'contain',\n",
       " 'in',\n",
       " 'the',\n",
       " 'capital',\n",
       " 'expenditure',\n",
       " 'reserve',\n",
       " 'account',\n",
       " 'to',\n",
       " 'equal',\n",
       " '$',\n",
       " '721,438',\n",
       " '(',\n",
       " 'which',\n",
       " 'be',\n",
       " '12',\n",
       " 'time',\n",
       " 'the',\n",
       " 'monthly',\n",
       " 'require',\n",
       " 'amount',\n",
       " 'set',\n",
       " 'forth',\n",
       " 'in',\n",
       " 'clause',\n",
       " '(',\n",
       " 'a',\n",
       " ')',\n",
       " ')',\n",
       " ',',\n",
       " 'and',\n",
       " '(',\n",
       " 'vi',\n",
       " ')',\n",
       " 'unless',\n",
       " 'an',\n",
       " 'event',\n",
       " 'of',\n",
       " 'default',\n",
       " 'under',\n",
       " 'the',\n",
       " 'loan',\n",
       " 'documents',\n",
       " 'be',\n",
       " 'continue',\n",
       " ',',\n",
       " 'all',\n",
       " 'remain',\n",
       " 'amount',\n",
       " 'to',\n",
       " 'the',\n",
       " 'borrower',\n",
       " '.']"
      ]
     },
     "execution_count": 32,
     "metadata": {},
     "output_type": "execute_result"
    }
   ],
   "source": [
    "# Review a lemmatized sample Sentence\n",
    "[token.lemma_ for token in nlp(df['Sentence'][2])]"
   ]
  },
  {
   "cell_type": "code",
   "execution_count": 33,
   "metadata": {},
   "outputs": [],
   "source": [
    "def tokenize(text):\n",
    "    doc = nlp(text)\n",
    "    tokens = [token.text for token in doc]\n",
    "    return ' '.join(tokens)\n",
    "\n",
    "df['SentenceTokens'] = df['Sentence'].apply(tokenize)"
   ]
  },
  {
   "cell_type": "code",
   "execution_count": 34,
   "metadata": {},
   "outputs": [],
   "source": [
    "def lemmatize(text):\n",
    "    doc = nlp(text)\n",
    "    lemmas = [token.lemma_ for token in doc]\n",
    "    return ' '.join(lemmas)\n",
    "\n",
    "df['SentenceLemmas'] = df['Sentence'].apply(lemmatize)"
   ]
  },
  {
   "cell_type": "code",
   "execution_count": 35,
   "metadata": {},
   "outputs": [
    {
     "data": {
      "text/html": [
       "<div>\n",
       "<style scoped>\n",
       "    .dataframe tbody tr th:only-of-type {\n",
       "        vertical-align: middle;\n",
       "    }\n",
       "\n",
       "    .dataframe tbody tr th {\n",
       "        vertical-align: top;\n",
       "    }\n",
       "\n",
       "    .dataframe thead th {\n",
       "        text-align: right;\n",
       "    }\n",
       "</style>\n",
       "<table border=\"1\" class=\"dataframe\">\n",
       "  <thead>\n",
       "    <tr style=\"text-align: right;\">\n",
       "      <th></th>\n",
       "      <th>Document</th>\n",
       "      <th>Sentence</th>\n",
       "      <th>loan_default</th>\n",
       "      <th>aggregate_dscr_fall</th>\n",
       "      <th>dscr_fall</th>\n",
       "      <th>unspecified</th>\n",
       "      <th>debt_yield_fall</th>\n",
       "      <th>aggregate_debt_yield_fall</th>\n",
       "      <th>mezzanine_default</th>\n",
       "      <th>tenant_failure</th>\n",
       "      <th>mezzanine_outstanding</th>\n",
       "      <th>operator_termination</th>\n",
       "      <th>bankruptcy</th>\n",
       "      <th>aggregate_debt_yield</th>\n",
       "      <th>debt_yield_fall_|_loan_default</th>\n",
       "      <th>sentence_char_count</th>\n",
       "      <th>SentenceTokens</th>\n",
       "      <th>SentenceLemmas</th>\n",
       "    </tr>\n",
       "  </thead>\n",
       "  <tbody>\n",
       "    <tr>\n",
       "      <th>0</th>\n",
       "      <td>20120828_01Y0R8_Prospectus_CM00000000205875087...</td>\n",
       "      <td>On each Business Day, the financial institutio...</td>\n",
       "      <td>1</td>\n",
       "      <td>0</td>\n",
       "      <td>0</td>\n",
       "      <td>0</td>\n",
       "      <td>0</td>\n",
       "      <td>0</td>\n",
       "      <td>0</td>\n",
       "      <td>0</td>\n",
       "      <td>0</td>\n",
       "      <td>0</td>\n",
       "      <td>0</td>\n",
       "      <td>0</td>\n",
       "      <td>0</td>\n",
       "      <td>446</td>\n",
       "      <td>On each Business Day , the financial instituti...</td>\n",
       "      <td>on each business day , the financial instituti...</td>\n",
       "    </tr>\n",
       "    <tr>\n",
       "      <th>1</th>\n",
       "      <td>20120828_01Y0R8_Prospectus_CM00000000205875087...</td>\n",
       "      <td>The Borrower has established and is required t...</td>\n",
       "      <td>1</td>\n",
       "      <td>1</td>\n",
       "      <td>0</td>\n",
       "      <td>0</td>\n",
       "      <td>0</td>\n",
       "      <td>0</td>\n",
       "      <td>0</td>\n",
       "      <td>0</td>\n",
       "      <td>0</td>\n",
       "      <td>0</td>\n",
       "      <td>0</td>\n",
       "      <td>0</td>\n",
       "      <td>0</td>\n",
       "      <td>837</td>\n",
       "      <td>The Borrower has established and is required t...</td>\n",
       "      <td>the borrower have establish and be require to ...</td>\n",
       "    </tr>\n",
       "    <tr>\n",
       "      <th>2</th>\n",
       "      <td>20120828_01Y0R8_Prospectus_CM00000000205875087...</td>\n",
       "      <td>During a Trigger Period or while an event of d...</td>\n",
       "      <td>1</td>\n",
       "      <td>0</td>\n",
       "      <td>0</td>\n",
       "      <td>0</td>\n",
       "      <td>0</td>\n",
       "      <td>0</td>\n",
       "      <td>0</td>\n",
       "      <td>0</td>\n",
       "      <td>0</td>\n",
       "      <td>0</td>\n",
       "      <td>0</td>\n",
       "      <td>0</td>\n",
       "      <td>0</td>\n",
       "      <td>1772</td>\n",
       "      <td>During a Trigger Period or while an event of d...</td>\n",
       "      <td>during a trigger period or while an event of d...</td>\n",
       "    </tr>\n",
       "    <tr>\n",
       "      <th>3</th>\n",
       "      <td>20120828_01Y0R8_Prospectus_CM00000000205875087...</td>\n",
       "      <td>On any Business Day all amounts on deposit in ...</td>\n",
       "      <td>1</td>\n",
       "      <td>0</td>\n",
       "      <td>0</td>\n",
       "      <td>0</td>\n",
       "      <td>0</td>\n",
       "      <td>0</td>\n",
       "      <td>0</td>\n",
       "      <td>0</td>\n",
       "      <td>0</td>\n",
       "      <td>0</td>\n",
       "      <td>0</td>\n",
       "      <td>0</td>\n",
       "      <td>0</td>\n",
       "      <td>302</td>\n",
       "      <td>On any Business Day all amounts on deposit in ...</td>\n",
       "      <td>on any business day all amount on deposit in t...</td>\n",
       "    </tr>\n",
       "    <tr>\n",
       "      <th>4</th>\n",
       "      <td>20120828_01Y0R8_Prospectus_CM00000000205875087...</td>\n",
       "      <td>Available funds in each Cash Management Accoun...</td>\n",
       "      <td>1</td>\n",
       "      <td>0</td>\n",
       "      <td>0</td>\n",
       "      <td>0</td>\n",
       "      <td>0</td>\n",
       "      <td>0</td>\n",
       "      <td>0</td>\n",
       "      <td>0</td>\n",
       "      <td>0</td>\n",
       "      <td>0</td>\n",
       "      <td>0</td>\n",
       "      <td>0</td>\n",
       "      <td>0</td>\n",
       "      <td>235</td>\n",
       "      <td>Available funds in each Cash Management Accoun...</td>\n",
       "      <td>available fund in each cash management account...</td>\n",
       "    </tr>\n",
       "  </tbody>\n",
       "</table>\n",
       "</div>"
      ],
      "text/plain": [
       "                                            Document  \\\n",
       "0  20120828_01Y0R8_Prospectus_CM00000000205875087...   \n",
       "1  20120828_01Y0R8_Prospectus_CM00000000205875087...   \n",
       "2  20120828_01Y0R8_Prospectus_CM00000000205875087...   \n",
       "3  20120828_01Y0R8_Prospectus_CM00000000205875087...   \n",
       "4  20120828_01Y0R8_Prospectus_CM00000000205875087...   \n",
       "\n",
       "                                            Sentence  loan_default  \\\n",
       "0  On each Business Day, the financial institutio...             1   \n",
       "1  The Borrower has established and is required t...             1   \n",
       "2  During a Trigger Period or while an event of d...             1   \n",
       "3  On any Business Day all amounts on deposit in ...             1   \n",
       "4  Available funds in each Cash Management Accoun...             1   \n",
       "\n",
       "   aggregate_dscr_fall  dscr_fall  unspecified  debt_yield_fall  \\\n",
       "0                    0          0            0                0   \n",
       "1                    1          0            0                0   \n",
       "2                    0          0            0                0   \n",
       "3                    0          0            0                0   \n",
       "4                    0          0            0                0   \n",
       "\n",
       "   aggregate_debt_yield_fall  mezzanine_default  tenant_failure  \\\n",
       "0                          0                  0               0   \n",
       "1                          0                  0               0   \n",
       "2                          0                  0               0   \n",
       "3                          0                  0               0   \n",
       "4                          0                  0               0   \n",
       "\n",
       "   mezzanine_outstanding  operator_termination  bankruptcy  \\\n",
       "0                      0                     0           0   \n",
       "1                      0                     0           0   \n",
       "2                      0                     0           0   \n",
       "3                      0                     0           0   \n",
       "4                      0                     0           0   \n",
       "\n",
       "   aggregate_debt_yield  debt_yield_fall_|_loan_default  sentence_char_count  \\\n",
       "0                     0                               0                  446   \n",
       "1                     0                               0                  837   \n",
       "2                     0                               0                 1772   \n",
       "3                     0                               0                  302   \n",
       "4                     0                               0                  235   \n",
       "\n",
       "                                      SentenceTokens  \\\n",
       "0  On each Business Day , the financial instituti...   \n",
       "1  The Borrower has established and is required t...   \n",
       "2  During a Trigger Period or while an event of d...   \n",
       "3  On any Business Day all amounts on deposit in ...   \n",
       "4  Available funds in each Cash Management Accoun...   \n",
       "\n",
       "                                      SentenceLemmas  \n",
       "0  on each business day , the financial instituti...  \n",
       "1  the borrower have establish and be require to ...  \n",
       "2  during a trigger period or while an event of d...  \n",
       "3  on any business day all amount on deposit in t...  \n",
       "4  available fund in each cash management account...  "
      ]
     },
     "execution_count": 35,
     "metadata": {},
     "output_type": "execute_result"
    }
   ],
   "source": [
    "df.head()"
   ]
  },
  {
   "cell_type": "code",
   "execution_count": 36,
   "metadata": {},
   "outputs": [
    {
     "data": {
      "text/plain": [
       "'On each Business Day , the financial institution maintaining the blocked ac'"
      ]
     },
     "execution_count": 36,
     "metadata": {},
     "output_type": "execute_result"
    }
   ],
   "source": [
    "# Put all sentences into a list of review tokens\n",
    "all_sentence_tokens = ' '.join(df['SentenceTokens'])\n",
    "all_sentence_tokens[:75]"
   ]
  },
  {
   "cell_type": "code",
   "execution_count": 37,
   "metadata": {},
   "outputs": [
    {
     "data": {
      "text/plain": [
       "'on each business day , the financial institution maintain the block account'"
      ]
     },
     "execution_count": 37,
     "metadata": {},
     "output_type": "execute_result"
    }
   ],
   "source": [
    "# Put all sentences into a list of review lemmas\n",
    "all_sentence_lemmas = ' '.join(df['SentenceLemmas'])\n",
    "all_sentence_lemmas[:75]"
   ]
  },
  {
   "cell_type": "code",
   "execution_count": 38,
   "metadata": {},
   "outputs": [],
   "source": [
    "sentence_token_list = [token for token in all_sentence_tokens.split(' ')]\n",
    "sentence_lemma_list = [lemma for lemma in all_sentence_lemmas.split(' ')]"
   ]
  },
  {
   "cell_type": "code",
   "execution_count": 39,
   "metadata": {},
   "outputs": [],
   "source": [
    "token_df = pd.Series(sentence_token_list)\n",
    "lemma_df = pd.Series(sentence_lemma_list)"
   ]
  },
  {
   "cell_type": "code",
   "execution_count": 40,
   "metadata": {},
   "outputs": [
    {
     "data": {
      "image/png": "[encoded data removed]",
      "text/plain": [
       "<Figure size 432x432 with 1 Axes>"
      ]
     },
     "metadata": {
      "needs_background": "light"
     },
     "output_type": "display_data"
    }
   ],
   "source": [
    "# Plotting the raw token count\n",
    "token_series = token_df.value_counts().head(15).sort_values(ascending = True)\n",
    "ax = token_series.plot.barh(figsize = (6,6))\n",
    "ax.set_xlabel('count')\n",
    "ax.set_ylabel('token')\n",
    "ax.set_title('Sentences: Raw Token Count');"
   ]
  },
  {
   "cell_type": "code",
   "execution_count": 41,
   "metadata": {},
   "outputs": [
    {
     "data": {
      "image/png": "[encoded data removed]",
      "text/plain": [
       "<Figure size 432x432 with 1 Axes>"
      ]
     },
     "metadata": {
      "needs_background": "light"
     },
     "output_type": "display_data"
    }
   ],
   "source": [
    "# Plotting the raw lemma count\n",
    "lemma_series = lemma_df.value_counts().head(15).sort_values(ascending = True)\n",
    "ax = lemma_series.plot.barh(figsize = (6,6))\n",
    "ax.set_xlabel('count')\n",
    "ax.set_ylabel('lemma')\n",
    "ax.set_title('Sentences: Raw Lemma Count');"
   ]
  },
  {
   "cell_type": "code",
   "execution_count": 42,
   "metadata": {},
   "outputs": [],
   "source": [
    "# Remove punctuation, maintain letters and numbers\n",
    "df['SentenceLemmas_nopunc'] = df['SentenceLemmas'].str.replace(\"[^a-zA-Z0-9#']\", \" \")"
   ]
  },
  {
   "cell_type": "code",
   "execution_count": 43,
   "metadata": {},
   "outputs": [
    {
     "data": {
      "text/plain": [
       "['on',\n",
       " 'each',\n",
       " 'business',\n",
       " 'day',\n",
       " 'the',\n",
       " 'financial',\n",
       " 'institution',\n",
       " 'maintain',\n",
       " 'the',\n",
       " 'block']"
      ]
     },
     "execution_count": 43,
     "metadata": {},
     "output_type": "execute_result"
    }
   ],
   "source": [
    "# Put all SentenceLemmas_nopunc into a list\n",
    "all_lemmas_nopunc = ' '.join(df['SentenceLemmas_nopunc'])\n",
    "lemma_list_nopunc = [lemma for lemma in all_lemmas_nopunc.split(' ')]\n",
    "lemma_list_nopunc = [lemma for lemma in lemma_list_nopunc if lemma not in ['']]\n",
    "lemma_list_nopunc[:10]"
   ]
  },
  {
   "cell_type": "code",
   "execution_count": 44,
   "metadata": {},
   "outputs": [
    {
     "data": {
      "image/png": "[encoded data removed]",
      "text/plain": [
       "<Figure size 432x432 with 1 Axes>"
      ]
     },
     "metadata": {
      "needs_background": "light"
     },
     "output_type": "display_data"
    }
   ],
   "source": [
    "# Create a data series containing the list of words\n",
    "lemma_df_nopunc = pd.Series(lemma_list_nopunc)\n",
    "lemma_series_nopunc = lemma_df_nopunc.value_counts().head(15).sort_values(ascending = True)\n",
    "ax = lemma_series_nopunc.plot.barh(figsize = (6,6))\n",
    "ax.set_xlabel('count')\n",
    "ax.set_ylabel('lemma')\n",
    "ax.set_title('Sentences: Lemma Count, no punctuation');"
   ]
  },
  {
   "cell_type": "code",
   "execution_count": 45,
   "metadata": {},
   "outputs": [
    {
     "data": {
      "text/plain": [
       "0    on each business day   the financial instituti...\n",
       "1    the borrower have establish and be require to ...\n",
       "2    during a trigger period or while an event of d...\n",
       "3    on any business day all amount on deposit in t...\n",
       "4    available fund in each cash management account...\n",
       "Name: SentenceLemmas_nopunc, dtype: object"
      ]
     },
     "execution_count": 45,
     "metadata": {},
     "output_type": "execute_result"
    }
   ],
   "source": [
    "df['SentenceLemmas_nopunc'].head()"
   ]
  },
  {
   "cell_type": "code",
   "execution_count": 46,
   "metadata": {},
   "outputs": [],
   "source": [
    "df['SentenceLemmas_nopunc'] = df['SentenceLemmas_nopunc'].str.replace('\\s{2,}', ' ')"
   ]
  },
  {
   "cell_type": "code",
   "execution_count": 47,
   "metadata": {},
   "outputs": [
    {
     "data": {
      "text/plain": [
       "0    on each business day the financial institution...\n",
       "1    the borrower have establish and be require to ...\n",
       "2    during a trigger period or while an event of d...\n",
       "3    on any business day all amount on deposit in t...\n",
       "4    available fund in each cash management account...\n",
       "Name: SentenceLemmas_nopunc, dtype: object"
      ]
     },
     "execution_count": 47,
     "metadata": {},
     "output_type": "execute_result"
    }
   ],
   "source": [
    "df['SentenceLemmas_nopunc'].head()"
   ]
  },
  {
   "cell_type": "markdown",
   "metadata": {},
   "source": [
    "## Preprocessing and Preparation for Modeling"
   ]
  },
  {
   "cell_type": "code",
   "execution_count": 48,
   "metadata": {},
   "outputs": [],
   "source": [
    "short_stopwords = ['the', 'and', 'a', 'to', 'I', 'it', 'be', 'for', 'with', 'that']"
   ]
  },
  {
   "cell_type": "code",
   "execution_count": 49,
   "metadata": {},
   "outputs": [
    {
     "data": {
      "text/plain": [
       "['their',\n",
       " 'further',\n",
       " 'throughout',\n",
       " 'each',\n",
       " 'none',\n",
       " 'is',\n",
       " 'hereupon',\n",
       " 'hers',\n",
       " 'yours',\n",
       " 'back',\n",
       " 'hereby',\n",
       " 'same',\n",
       " 'so',\n",
       " 'former',\n",
       " 'never',\n",
       " 'otherwise',\n",
       " 'a',\n",
       " 'formerly',\n",
       " 'thence',\n",
       " 'which',\n",
       " 'afterwards',\n",
       " 'have',\n",
       " 'nowhere',\n",
       " 'enough',\n",
       " 'are',\n",
       " 'anything',\n",
       " 'ten',\n",
       " 'take',\n",
       " 'indeed',\n",
       " 'whoever',\n",
       " 'just',\n",
       " 'on',\n",
       " 'you',\n",
       " 'almost',\n",
       " 'had',\n",
       " 'along',\n",
       " 'hundred',\n",
       " 'thereafter',\n",
       " 'get',\n",
       " 'even',\n",
       " 'meanwhile',\n",
       " 'keep',\n",
       " 'quite',\n",
       " 'yourself',\n",
       " 'those',\n",
       " 'rather',\n",
       " 'everything',\n",
       " 'someone',\n",
       " 'move',\n",
       " 'off',\n",
       " 'them',\n",
       " 'ca',\n",
       " 'they',\n",
       " 'his',\n",
       " 'among',\n",
       " 'go',\n",
       " 'as',\n",
       " 'ourselves',\n",
       " 'down',\n",
       " 'how',\n",
       " 'then',\n",
       " 'if',\n",
       " 'was',\n",
       " 'five',\n",
       " 'see',\n",
       " 'am',\n",
       " 'since',\n",
       " 'i',\n",
       " 'therein',\n",
       " 'where',\n",
       " 'eleven',\n",
       " 'really',\n",
       " 'neither',\n",
       " 'nor',\n",
       " 'itself',\n",
       " 'nine',\n",
       " 'beside',\n",
       " 'onto',\n",
       " 'while',\n",
       " 'all',\n",
       " 'and',\n",
       " 'whenever',\n",
       " 'thereby',\n",
       " 'whereas',\n",
       " 'make',\n",
       " 'twelve',\n",
       " 'whole',\n",
       " 'forty',\n",
       " 'themselves',\n",
       " 'already',\n",
       " 'been',\n",
       " 'upon',\n",
       " 'myself',\n",
       " 'well',\n",
       " 'for',\n",
       " 'done',\n",
       " 'across',\n",
       " 'front',\n",
       " 'our',\n",
       " 'per',\n",
       " 'everyone',\n",
       " 'into',\n",
       " 'nothing',\n",
       " 'much',\n",
       " 'us',\n",
       " 'using',\n",
       " 'used',\n",
       " 'via',\n",
       " 'your',\n",
       " 'becoming',\n",
       " 'but',\n",
       " 'there',\n",
       " 'do',\n",
       " 'after',\n",
       " 'elsewhere',\n",
       " 'wherein',\n",
       " 'mostly',\n",
       " 'call',\n",
       " 'doing',\n",
       " 'serious',\n",
       " 'alone',\n",
       " 'namely',\n",
       " 'mine',\n",
       " 'once',\n",
       " 'him',\n",
       " 'together',\n",
       " 'also',\n",
       " 'two',\n",
       " 'whence',\n",
       " 'twenty',\n",
       " 'she',\n",
       " 'last',\n",
       " 'above',\n",
       " 'has',\n",
       " 'or',\n",
       " 'seem',\n",
       " 'should',\n",
       " 'made',\n",
       " 'unless',\n",
       " 'it',\n",
       " 'sixty',\n",
       " 'many',\n",
       " 'seemed',\n",
       " 'anywhere',\n",
       " 'thus',\n",
       " 'everywhere',\n",
       " 'no',\n",
       " 'of',\n",
       " 'somewhere',\n",
       " 'somehow',\n",
       " 'please',\n",
       " 'hence',\n",
       " 'ours',\n",
       " 'we',\n",
       " 'between',\n",
       " 'anyhow',\n",
       " 'bottom',\n",
       " 'something',\n",
       " 'whereafter',\n",
       " 'six',\n",
       " 'being',\n",
       " 'here',\n",
       " 'amount',\n",
       " 'empty',\n",
       " 'full',\n",
       " 'seeming',\n",
       " 'various',\n",
       " 'either',\n",
       " 'often',\n",
       " 'until',\n",
       " 'again',\n",
       " 'with',\n",
       " 'several',\n",
       " 'wherever',\n",
       " 'any',\n",
       " 'against',\n",
       " 'thereupon',\n",
       " 'this',\n",
       " 'yourselves',\n",
       " 'own',\n",
       " 'around',\n",
       " 'nevertheless',\n",
       " 'whatever',\n",
       " 'part',\n",
       " 'some',\n",
       " 'because',\n",
       " 'whereupon',\n",
       " 'anyway',\n",
       " 'before',\n",
       " 'less',\n",
       " 'eight',\n",
       " 'became',\n",
       " 'the',\n",
       " 'during',\n",
       " 'four',\n",
       " 'nobody',\n",
       " 'about',\n",
       " 'were',\n",
       " 'name',\n",
       " 'latter',\n",
       " 'other',\n",
       " 'through',\n",
       " 'herself',\n",
       " 'too',\n",
       " 'very',\n",
       " 'whose',\n",
       " 'top',\n",
       " 'however',\n",
       " 'show',\n",
       " 'at',\n",
       " 'every',\n",
       " 'beyond',\n",
       " 'my',\n",
       " 'put',\n",
       " 'when',\n",
       " 'another',\n",
       " 'fifty',\n",
       " 'due',\n",
       " 'except',\n",
       " 'whether',\n",
       " 'without',\n",
       " 'next',\n",
       " 'one',\n",
       " 'to',\n",
       " 'in',\n",
       " 'least',\n",
       " 'could',\n",
       " 'sometime',\n",
       " 'whither',\n",
       " 'cannot',\n",
       " 'therefore',\n",
       " 'both',\n",
       " 'ever',\n",
       " 'now',\n",
       " 'anyone',\n",
       " 'yet',\n",
       " 'become',\n",
       " 'himself',\n",
       " 'me',\n",
       " 'noone',\n",
       " 'first',\n",
       " 'out',\n",
       " 'must',\n",
       " 'few',\n",
       " 'whom',\n",
       " 'besides',\n",
       " 'its',\n",
       " 'always',\n",
       " 'although',\n",
       " 'from',\n",
       " 'he',\n",
       " 'give',\n",
       " 'hereafter',\n",
       " 'latterly',\n",
       " 'others',\n",
       " 're',\n",
       " 'why',\n",
       " 'thru',\n",
       " 'who',\n",
       " 'three',\n",
       " 'perhaps',\n",
       " 'becomes',\n",
       " 'toward',\n",
       " 'did',\n",
       " 'within',\n",
       " 'be',\n",
       " 'by',\n",
       " 'fifteen',\n",
       " 'what',\n",
       " 'can',\n",
       " 'not',\n",
       " 'say',\n",
       " 'moreover',\n",
       " 'such',\n",
       " 'up',\n",
       " 'would',\n",
       " 'an',\n",
       " 'these',\n",
       " 'will',\n",
       " 'amongst',\n",
       " 'else',\n",
       " 'towards',\n",
       " 'beforehand',\n",
       " 'than',\n",
       " 'over',\n",
       " 'third',\n",
       " 'though',\n",
       " 'behind',\n",
       " 'below',\n",
       " 'might',\n",
       " 'under',\n",
       " 'side',\n",
       " 'still',\n",
       " 'sometimes',\n",
       " 'whereby',\n",
       " 'herein',\n",
       " 'her',\n",
       " 'most',\n",
       " 'that',\n",
       " 'does',\n",
       " 'may',\n",
       " 'more',\n",
       " 'only',\n",
       " 'regarding',\n",
       " 'seems']"
      ]
     },
     "execution_count": 49,
     "metadata": {},
     "output_type": "execute_result"
    }
   ],
   "source": [
    "# Look at original stopword list\n",
    "stopwords = list(STOP_WORDS)\n",
    "stopwords"
   ]
  },
  {
   "cell_type": "code",
   "execution_count": 50,
   "metadata": {},
   "outputs": [],
   "source": [
    "# Choose to exclude anything with numbers are might be particularly relevant\n",
    "to_exclude = ['thereupon', 'cannot', 'should'] "
   ]
  },
  {
   "cell_type": "code",
   "execution_count": 51,
   "metadata": {},
   "outputs": [
    {
     "data": {
      "text/plain": [
       "['their',\n",
       " 'further',\n",
       " 'throughout',\n",
       " 'each',\n",
       " 'none',\n",
       " 'is',\n",
       " 'hereupon',\n",
       " 'hers',\n",
       " 'yours',\n",
       " 'back',\n",
       " 'hereby',\n",
       " 'same',\n",
       " 'so',\n",
       " 'former',\n",
       " 'never',\n",
       " 'otherwise',\n",
       " 'a',\n",
       " 'formerly',\n",
       " 'thence',\n",
       " 'which',\n",
       " 'afterwards',\n",
       " 'have',\n",
       " 'nowhere',\n",
       " 'enough',\n",
       " 'are',\n",
       " 'anything',\n",
       " 'ten',\n",
       " 'take',\n",
       " 'indeed',\n",
       " 'whoever',\n",
       " 'just',\n",
       " 'on',\n",
       " 'you',\n",
       " 'almost',\n",
       " 'had',\n",
       " 'along',\n",
       " 'hundred',\n",
       " 'thereafter',\n",
       " 'get',\n",
       " 'even',\n",
       " 'meanwhile',\n",
       " 'keep',\n",
       " 'quite',\n",
       " 'yourself',\n",
       " 'those',\n",
       " 'rather',\n",
       " 'everything',\n",
       " 'someone',\n",
       " 'move',\n",
       " 'off',\n",
       " 'them',\n",
       " 'ca',\n",
       " 'they',\n",
       " 'his',\n",
       " 'among',\n",
       " 'go',\n",
       " 'as',\n",
       " 'ourselves',\n",
       " 'down',\n",
       " 'how',\n",
       " 'then',\n",
       " 'if',\n",
       " 'was',\n",
       " 'five',\n",
       " 'see',\n",
       " 'am',\n",
       " 'since',\n",
       " 'i',\n",
       " 'therein',\n",
       " 'where',\n",
       " 'eleven',\n",
       " 'really',\n",
       " 'neither',\n",
       " 'nor',\n",
       " 'itself',\n",
       " 'nine',\n",
       " 'beside',\n",
       " 'onto',\n",
       " 'while',\n",
       " 'all',\n",
       " 'and',\n",
       " 'whenever',\n",
       " 'thereby',\n",
       " 'whereas',\n",
       " 'make',\n",
       " 'twelve',\n",
       " 'whole',\n",
       " 'forty',\n",
       " 'themselves',\n",
       " 'already',\n",
       " 'been',\n",
       " 'upon',\n",
       " 'myself',\n",
       " 'well',\n",
       " 'for',\n",
       " 'done',\n",
       " 'across',\n",
       " 'front',\n",
       " 'our',\n",
       " 'per',\n",
       " 'everyone',\n",
       " 'into',\n",
       " 'nothing',\n",
       " 'much',\n",
       " 'us',\n",
       " 'using',\n",
       " 'used',\n",
       " 'via',\n",
       " 'your',\n",
       " 'becoming',\n",
       " 'but',\n",
       " 'there',\n",
       " 'do',\n",
       " 'after',\n",
       " 'elsewhere',\n",
       " 'wherein',\n",
       " 'mostly',\n",
       " 'call',\n",
       " 'doing',\n",
       " 'serious',\n",
       " 'alone',\n",
       " 'namely',\n",
       " 'mine',\n",
       " 'once',\n",
       " 'him',\n",
       " 'together',\n",
       " 'also',\n",
       " 'two',\n",
       " 'whence',\n",
       " 'twenty',\n",
       " 'she',\n",
       " 'last',\n",
       " 'above',\n",
       " 'has',\n",
       " 'or',\n",
       " 'seem',\n",
       " 'made',\n",
       " 'unless',\n",
       " 'it',\n",
       " 'sixty',\n",
       " 'many',\n",
       " 'seemed',\n",
       " 'anywhere',\n",
       " 'thus',\n",
       " 'everywhere',\n",
       " 'no',\n",
       " 'of',\n",
       " 'somewhere',\n",
       " 'somehow',\n",
       " 'please',\n",
       " 'hence',\n",
       " 'ours',\n",
       " 'we',\n",
       " 'between',\n",
       " 'anyhow',\n",
       " 'bottom',\n",
       " 'something',\n",
       " 'whereafter',\n",
       " 'six',\n",
       " 'being',\n",
       " 'here',\n",
       " 'amount',\n",
       " 'empty',\n",
       " 'full',\n",
       " 'seeming',\n",
       " 'various',\n",
       " 'either',\n",
       " 'often',\n",
       " 'until',\n",
       " 'again',\n",
       " 'with',\n",
       " 'several',\n",
       " 'wherever',\n",
       " 'any',\n",
       " 'against',\n",
       " 'this',\n",
       " 'yourselves',\n",
       " 'own',\n",
       " 'around',\n",
       " 'nevertheless',\n",
       " 'whatever',\n",
       " 'part',\n",
       " 'some',\n",
       " 'because',\n",
       " 'whereupon',\n",
       " 'anyway',\n",
       " 'before',\n",
       " 'less',\n",
       " 'eight',\n",
       " 'became',\n",
       " 'the',\n",
       " 'during',\n",
       " 'four',\n",
       " 'nobody',\n",
       " 'about',\n",
       " 'were',\n",
       " 'name',\n",
       " 'latter',\n",
       " 'other',\n",
       " 'through',\n",
       " 'herself',\n",
       " 'too',\n",
       " 'very',\n",
       " 'whose',\n",
       " 'top',\n",
       " 'however',\n",
       " 'show',\n",
       " 'at',\n",
       " 'every',\n",
       " 'beyond',\n",
       " 'my',\n",
       " 'put',\n",
       " 'when',\n",
       " 'another',\n",
       " 'fifty',\n",
       " 'due',\n",
       " 'except',\n",
       " 'whether',\n",
       " 'without',\n",
       " 'next',\n",
       " 'one',\n",
       " 'to',\n",
       " 'in',\n",
       " 'least',\n",
       " 'could',\n",
       " 'sometime',\n",
       " 'whither',\n",
       " 'therefore',\n",
       " 'both',\n",
       " 'ever',\n",
       " 'now',\n",
       " 'anyone',\n",
       " 'yet',\n",
       " 'become',\n",
       " 'himself',\n",
       " 'me',\n",
       " 'noone',\n",
       " 'first',\n",
       " 'out',\n",
       " 'must',\n",
       " 'few',\n",
       " 'whom',\n",
       " 'besides',\n",
       " 'its',\n",
       " 'always',\n",
       " 'although',\n",
       " 'from',\n",
       " 'he',\n",
       " 'give',\n",
       " 'hereafter',\n",
       " 'latterly',\n",
       " 'others',\n",
       " 're',\n",
       " 'why',\n",
       " 'thru',\n",
       " 'who',\n",
       " 'three',\n",
       " 'perhaps',\n",
       " 'becomes',\n",
       " 'toward',\n",
       " 'did',\n",
       " 'within',\n",
       " 'be',\n",
       " 'by',\n",
       " 'fifteen',\n",
       " 'what',\n",
       " 'can',\n",
       " 'not',\n",
       " 'say',\n",
       " 'moreover',\n",
       " 'such',\n",
       " 'up',\n",
       " 'would',\n",
       " 'an',\n",
       " 'these',\n",
       " 'will',\n",
       " 'amongst',\n",
       " 'else',\n",
       " 'towards',\n",
       " 'beforehand',\n",
       " 'than',\n",
       " 'over',\n",
       " 'third',\n",
       " 'though',\n",
       " 'behind',\n",
       " 'below',\n",
       " 'might',\n",
       " 'under',\n",
       " 'side',\n",
       " 'still',\n",
       " 'sometimes',\n",
       " 'whereby',\n",
       " 'herein',\n",
       " 'her',\n",
       " 'most',\n",
       " 'that',\n",
       " 'does',\n",
       " 'may',\n",
       " 'more',\n",
       " 'only',\n",
       " 'regarding',\n",
       " 'seems']"
      ]
     },
     "execution_count": 51,
     "metadata": {},
     "output_type": "execute_result"
    }
   ],
   "source": [
    "# Define our selected stopword lists \n",
    "select_stopwords = [word for word in stopwords if word not in to_exclude]\n",
    "select_stopwords"
   ]
  },
  {
   "cell_type": "code",
   "execution_count": null,
   "metadata": {},
   "outputs": [],
   "source": []
  },
  {
   "cell_type": "code",
   "execution_count": null,
   "metadata": {},
   "outputs": [],
   "source": []
  },
  {
   "cell_type": "markdown",
   "metadata": {},
   "source": [
    "## Train/Test Split"
   ]
  },
  {
   "cell_type": "code",
   "execution_count": 52,
   "metadata": {},
   "outputs": [
    {
     "data": {
      "text/html": [
       "<div>\n",
       "<style scoped>\n",
       "    .dataframe tbody tr th:only-of-type {\n",
       "        vertical-align: middle;\n",
       "    }\n",
       "\n",
       "    .dataframe tbody tr th {\n",
       "        vertical-align: top;\n",
       "    }\n",
       "\n",
       "    .dataframe thead th {\n",
       "        text-align: right;\n",
       "    }\n",
       "</style>\n",
       "<table border=\"1\" class=\"dataframe\">\n",
       "  <thead>\n",
       "    <tr style=\"text-align: right;\">\n",
       "      <th></th>\n",
       "      <th>Document</th>\n",
       "      <th>Sentence</th>\n",
       "      <th>loan_default</th>\n",
       "      <th>aggregate_dscr_fall</th>\n",
       "      <th>dscr_fall</th>\n",
       "      <th>unspecified</th>\n",
       "      <th>debt_yield_fall</th>\n",
       "      <th>aggregate_debt_yield_fall</th>\n",
       "      <th>mezzanine_default</th>\n",
       "      <th>tenant_failure</th>\n",
       "      <th>mezzanine_outstanding</th>\n",
       "      <th>operator_termination</th>\n",
       "      <th>bankruptcy</th>\n",
       "      <th>aggregate_debt_yield</th>\n",
       "      <th>debt_yield_fall_|_loan_default</th>\n",
       "      <th>sentence_char_count</th>\n",
       "      <th>SentenceTokens</th>\n",
       "      <th>SentenceLemmas</th>\n",
       "      <th>SentenceLemmas_nopunc</th>\n",
       "    </tr>\n",
       "  </thead>\n",
       "  <tbody>\n",
       "    <tr>\n",
       "      <th>0</th>\n",
       "      <td>20120828_01Y0R8_Prospectus_CM00000000205875087...</td>\n",
       "      <td>On each Business Day, the financial institutio...</td>\n",
       "      <td>1</td>\n",
       "      <td>0</td>\n",
       "      <td>0</td>\n",
       "      <td>0</td>\n",
       "      <td>0</td>\n",
       "      <td>0</td>\n",
       "      <td>0</td>\n",
       "      <td>0</td>\n",
       "      <td>0</td>\n",
       "      <td>0</td>\n",
       "      <td>0</td>\n",
       "      <td>0</td>\n",
       "      <td>0</td>\n",
       "      <td>446</td>\n",
       "      <td>On each Business Day , the financial instituti...</td>\n",
       "      <td>on each business day , the financial instituti...</td>\n",
       "      <td>on each business day the financial institution...</td>\n",
       "    </tr>\n",
       "    <tr>\n",
       "      <th>1</th>\n",
       "      <td>20120828_01Y0R8_Prospectus_CM00000000205875087...</td>\n",
       "      <td>The Borrower has established and is required t...</td>\n",
       "      <td>1</td>\n",
       "      <td>1</td>\n",
       "      <td>0</td>\n",
       "      <td>0</td>\n",
       "      <td>0</td>\n",
       "      <td>0</td>\n",
       "      <td>0</td>\n",
       "      <td>0</td>\n",
       "      <td>0</td>\n",
       "      <td>0</td>\n",
       "      <td>0</td>\n",
       "      <td>0</td>\n",
       "      <td>0</td>\n",
       "      <td>837</td>\n",
       "      <td>The Borrower has established and is required t...</td>\n",
       "      <td>the borrower have establish and be require to ...</td>\n",
       "      <td>the borrower have establish and be require to ...</td>\n",
       "    </tr>\n",
       "    <tr>\n",
       "      <th>2</th>\n",
       "      <td>20120828_01Y0R8_Prospectus_CM00000000205875087...</td>\n",
       "      <td>During a Trigger Period or while an event of d...</td>\n",
       "      <td>1</td>\n",
       "      <td>0</td>\n",
       "      <td>0</td>\n",
       "      <td>0</td>\n",
       "      <td>0</td>\n",
       "      <td>0</td>\n",
       "      <td>0</td>\n",
       "      <td>0</td>\n",
       "      <td>0</td>\n",
       "      <td>0</td>\n",
       "      <td>0</td>\n",
       "      <td>0</td>\n",
       "      <td>0</td>\n",
       "      <td>1772</td>\n",
       "      <td>During a Trigger Period or while an event of d...</td>\n",
       "      <td>during a trigger period or while an event of d...</td>\n",
       "      <td>during a trigger period or while an event of d...</td>\n",
       "    </tr>\n",
       "    <tr>\n",
       "      <th>3</th>\n",
       "      <td>20120828_01Y0R8_Prospectus_CM00000000205875087...</td>\n",
       "      <td>On any Business Day all amounts on deposit in ...</td>\n",
       "      <td>1</td>\n",
       "      <td>0</td>\n",
       "      <td>0</td>\n",
       "      <td>0</td>\n",
       "      <td>0</td>\n",
       "      <td>0</td>\n",
       "      <td>0</td>\n",
       "      <td>0</td>\n",
       "      <td>0</td>\n",
       "      <td>0</td>\n",
       "      <td>0</td>\n",
       "      <td>0</td>\n",
       "      <td>0</td>\n",
       "      <td>302</td>\n",
       "      <td>On any Business Day all amounts on deposit in ...</td>\n",
       "      <td>on any business day all amount on deposit in t...</td>\n",
       "      <td>on any business day all amount on deposit in t...</td>\n",
       "    </tr>\n",
       "    <tr>\n",
       "      <th>4</th>\n",
       "      <td>20120828_01Y0R8_Prospectus_CM00000000205875087...</td>\n",
       "      <td>Available funds in each Cash Management Accoun...</td>\n",
       "      <td>1</td>\n",
       "      <td>0</td>\n",
       "      <td>0</td>\n",
       "      <td>0</td>\n",
       "      <td>0</td>\n",
       "      <td>0</td>\n",
       "      <td>0</td>\n",
       "      <td>0</td>\n",
       "      <td>0</td>\n",
       "      <td>0</td>\n",
       "      <td>0</td>\n",
       "      <td>0</td>\n",
       "      <td>0</td>\n",
       "      <td>235</td>\n",
       "      <td>Available funds in each Cash Management Accoun...</td>\n",
       "      <td>available fund in each cash management account...</td>\n",
       "      <td>available fund in each cash management account...</td>\n",
       "    </tr>\n",
       "  </tbody>\n",
       "</table>\n",
       "</div>"
      ],
      "text/plain": [
       "                                            Document  \\\n",
       "0  20120828_01Y0R8_Prospectus_CM00000000205875087...   \n",
       "1  20120828_01Y0R8_Prospectus_CM00000000205875087...   \n",
       "2  20120828_01Y0R8_Prospectus_CM00000000205875087...   \n",
       "3  20120828_01Y0R8_Prospectus_CM00000000205875087...   \n",
       "4  20120828_01Y0R8_Prospectus_CM00000000205875087...   \n",
       "\n",
       "                                            Sentence  loan_default  \\\n",
       "0  On each Business Day, the financial institutio...             1   \n",
       "1  The Borrower has established and is required t...             1   \n",
       "2  During a Trigger Period or while an event of d...             1   \n",
       "3  On any Business Day all amounts on deposit in ...             1   \n",
       "4  Available funds in each Cash Management Accoun...             1   \n",
       "\n",
       "   aggregate_dscr_fall  dscr_fall  unspecified  debt_yield_fall  \\\n",
       "0                    0          0            0                0   \n",
       "1                    1          0            0                0   \n",
       "2                    0          0            0                0   \n",
       "3                    0          0            0                0   \n",
       "4                    0          0            0                0   \n",
       "\n",
       "   aggregate_debt_yield_fall  mezzanine_default  tenant_failure  \\\n",
       "0                          0                  0               0   \n",
       "1                          0                  0               0   \n",
       "2                          0                  0               0   \n",
       "3                          0                  0               0   \n",
       "4                          0                  0               0   \n",
       "\n",
       "   mezzanine_outstanding  operator_termination  bankruptcy  \\\n",
       "0                      0                     0           0   \n",
       "1                      0                     0           0   \n",
       "2                      0                     0           0   \n",
       "3                      0                     0           0   \n",
       "4                      0                     0           0   \n",
       "\n",
       "   aggregate_debt_yield  debt_yield_fall_|_loan_default  sentence_char_count  \\\n",
       "0                     0                               0                  446   \n",
       "1                     0                               0                  837   \n",
       "2                     0                               0                 1772   \n",
       "3                     0                               0                  302   \n",
       "4                     0                               0                  235   \n",
       "\n",
       "                                      SentenceTokens  \\\n",
       "0  On each Business Day , the financial instituti...   \n",
       "1  The Borrower has established and is required t...   \n",
       "2  During a Trigger Period or while an event of d...   \n",
       "3  On any Business Day all amounts on deposit in ...   \n",
       "4  Available funds in each Cash Management Accoun...   \n",
       "\n",
       "                                      SentenceLemmas  \\\n",
       "0  on each business day , the financial instituti...   \n",
       "1  the borrower have establish and be require to ...   \n",
       "2  during a trigger period or while an event of d...   \n",
       "3  on any business day all amount on deposit in t...   \n",
       "4  available fund in each cash management account...   \n",
       "\n",
       "                               SentenceLemmas_nopunc  \n",
       "0  on each business day the financial institution...  \n",
       "1  the borrower have establish and be require to ...  \n",
       "2  during a trigger period or while an event of d...  \n",
       "3  on any business day all amount on deposit in t...  \n",
       "4  available fund in each cash management account...  "
      ]
     },
     "execution_count": 52,
     "metadata": {},
     "output_type": "execute_result"
    }
   ],
   "source": [
    "df.head()"
   ]
  },
  {
   "cell_type": "code",
   "execution_count": 53,
   "metadata": {},
   "outputs": [],
   "source": [
    "# Start by predicting Loan Default trigger\n",
    "\n",
    "target = 'loan_default'\n",
    "\n",
    "\n",
    "X = df['Sentence']\n",
    "y = df['loan_default']\n",
    "\n",
    "y = y.astype('int')"
   ]
  },
  {
   "cell_type": "code",
   "execution_count": 54,
   "metadata": {},
   "outputs": [
    {
     "data": {
      "text/plain": [
       "dtype('int64')"
      ]
     },
     "execution_count": 54,
     "metadata": {},
     "output_type": "execute_result"
    }
   ],
   "source": [
    "y.dtypes"
   ]
  },
  {
   "cell_type": "code",
   "execution_count": null,
   "metadata": {},
   "outputs": [],
   "source": []
  },
  {
   "cell_type": "code",
   "execution_count": 55,
   "metadata": {},
   "outputs": [
    {
     "name": "stdout",
     "output_type": "stream",
     "text": [
      "X shape is (349,)\n",
      "y shape is (349,)\n"
     ]
    }
   ],
   "source": [
    "# Checking shape of X and y \n",
    "print(f'X shape is {X.shape}')\n",
    "print(f'y shape is {y.shape}')"
   ]
  },
  {
   "cell_type": "code",
   "execution_count": 56,
   "metadata": {},
   "outputs": [
    {
     "data": {
      "text/plain": [
       "1    180\n",
       "0    169\n",
       "Name: loan_default, dtype: int64"
      ]
     },
     "execution_count": 56,
     "metadata": {},
     "output_type": "execute_result"
    }
   ],
   "source": [
    "y.value_counts()"
   ]
  },
  {
   "cell_type": "code",
   "execution_count": 57,
   "metadata": {},
   "outputs": [
    {
     "name": "stdout",
     "output_type": "stream",
     "text": [
      "(261,) (261,)\n",
      "(88,) (88,)\n"
     ]
    }
   ],
   "source": [
    "X_train, X_test, y_train, y_test = train_test_split(X, y, random_state = RANDOM_STATE)\n",
    "print(X_train.shape, y_train.shape)\n",
    "print(X_test.shape, y_test.shape)"
   ]
  },
  {
   "cell_type": "code",
   "execution_count": 58,
   "metadata": {},
   "outputs": [
    {
     "data": {
      "text/plain": [
       "0    On each Business Day, the financial institutio...\n",
       "1    The Borrower has established and is required t...\n",
       "2    During a Trigger Period or while an event of d...\n",
       "3    On any Business Day all amounts on deposit in ...\n",
       "4    Available funds in each Cash Management Accoun...\n",
       "Name: Sentence, dtype: object"
      ]
     },
     "execution_count": 58,
     "metadata": {},
     "output_type": "execute_result"
    }
   ],
   "source": [
    "X.head()"
   ]
  },
  {
   "cell_type": "code",
   "execution_count": 59,
   "metadata": {},
   "outputs": [
    {
     "data": {
      "text/plain": [
       "261"
      ]
     },
     "execution_count": 59,
     "metadata": {},
     "output_type": "execute_result"
    }
   ],
   "source": [
    "X_train.shape[0]"
   ]
  },
  {
   "cell_type": "code",
   "execution_count": 60,
   "metadata": {},
   "outputs": [
    {
     "data": {
      "text/plain": [
       "261"
      ]
     },
     "execution_count": 60,
     "metadata": {},
     "output_type": "execute_result"
    }
   ],
   "source": [
    "y_train.shape[0]"
   ]
  },
  {
   "cell_type": "code",
   "execution_count": null,
   "metadata": {},
   "outputs": [],
   "source": []
  },
  {
   "cell_type": "markdown",
   "metadata": {},
   "source": [
    "## Modeling"
   ]
  },
  {
   "cell_type": "markdown",
   "metadata": {},
   "source": [
    "### CountVectorizer + Logistic Regression GridSearch and modeling"
   ]
  },
  {
   "cell_type": "code",
   "execution_count": 61,
   "metadata": {},
   "outputs": [
    {
     "name": "stdout",
     "output_type": "stream",
     "text": [
      "Seconds elapsed for fitting: 87.708\n"
     ]
    }
   ],
   "source": [
    "# Define CVEC + Logistic Regression Pipeline\n",
    "pipe_cvec = Pipeline([('cvec', CountVectorizer()), ('lr', LogisticRegression(solver = 'liblinear', random_state = RANDOM_STATE))])\n",
    "cvec_params = {\n",
    "    'cvec__ngram_range': [(1,2), (1,3), (1,4), (1,5), (1,6), (1,7), (1,8), (1,9), (1,10)],\n",
    "    'cvec__stop_words': [None, short_stopwords, select_stopwords],  \n",
    "    'cvec__max_features': [100, 200, 400, 600, 800, 1000],\n",
    "#    'cvec__min_df': [2],\n",
    "#    'cvec__max_df': [.99],\n",
    "    }\n",
    "\n",
    "gs_cvec = GridSearchCV(pipe_cvec, param_grid = cvec_params, cv = 3, scoring = 'accuracy')\n",
    "\n",
    "# Start the timer.\n",
    "t0 = time.time()\n",
    "\n",
    "results_cvec = gs_cvec.fit(X_train, y_train)\n",
    "\n",
    "print(f'Seconds elapsed for fitting: {(time.time() - t0):.3f}') # How many seconds elapsed.\n",
    "\n"
   ]
  },
  {
   "cell_type": "code",
   "execution_count": 62,
   "metadata": {},
   "outputs": [],
   "source": [
    "#log_reg = LogisticRegression()\n",
    "#logreg.fit(X_train, y_train)\n"
   ]
  },
  {
   "cell_type": "code",
   "execution_count": 63,
   "metadata": {},
   "outputs": [
    {
     "name": "stdout",
     "output_type": "stream",
     "text": [
      "Training score is 0.996\n",
      "Test score is 0.977\n",
      "Cross Validation score is 0.934\n",
      "Seconds elapsed for score calculation: 0.404\n"
     ]
    }
   ],
   "source": [
    "t0 = time.time()\n",
    "print(f'Training score is {results_cvec.score(X_train, y_train):.3f}')\n",
    "print(f'Test score is {results_cvec.score(X_test, y_test):.3f}')\n",
    "print(f'Cross Validation score is {cross_val_score(results_cvec.best_estimator_, X, y, cv = 3).mean():.3f}')\n",
    "print(f'Seconds elapsed for score calculation: {(time.time() - t0):.3f}') # How many seconds elapsed."
   ]
  },
  {
   "cell_type": "code",
   "execution_count": 64,
   "metadata": {},
   "outputs": [
    {
     "name": "stdout",
     "output_type": "stream",
     "text": [
      "Best Score:0.962\n",
      "Best Parameters :{'cvec__max_features': 200, 'cvec__ngram_range': (1, 4), 'cvec__stop_words': ['their', 'further', 'throughout', 'each', 'none', 'is', 'hereupon', 'hers', 'yours', 'back', 'hereby', 'same', 'so', 'former', 'never', 'otherwise', 'a', 'formerly', 'thence', 'which', 'afterwards', 'have', 'nowhere', 'enough', 'are', 'anything', 'ten', 'take', 'indeed', 'whoever', 'just', 'on', 'you', 'almost', 'had', 'along', 'hundred', 'thereafter', 'get', 'even', 'meanwhile', 'keep', 'quite', 'yourself', 'those', 'rather', 'everything', 'someone', 'move', 'off', 'them', 'ca', 'they', 'his', 'among', 'go', 'as', 'ourselves', 'down', 'how', 'then', 'if', 'was', 'five', 'see', 'am', 'since', 'i', 'therein', 'where', 'eleven', 'really', 'neither', 'nor', 'itself', 'nine', 'beside', 'onto', 'while', 'all', 'and', 'whenever', 'thereby', 'whereas', 'make', 'twelve', 'whole', 'forty', 'themselves', 'already', 'been', 'upon', 'myself', 'well', 'for', 'done', 'across', 'front', 'our', 'per', 'everyone', 'into', 'nothing', 'much', 'us', 'using', 'used', 'via', 'your', 'becoming', 'but', 'there', 'do', 'after', 'elsewhere', 'wherein', 'mostly', 'call', 'doing', 'serious', 'alone', 'namely', 'mine', 'once', 'him', 'together', 'also', 'two', 'whence', 'twenty', 'she', 'last', 'above', 'has', 'or', 'seem', 'made', 'unless', 'it', 'sixty', 'many', 'seemed', 'anywhere', 'thus', 'everywhere', 'no', 'of', 'somewhere', 'somehow', 'please', 'hence', 'ours', 'we', 'between', 'anyhow', 'bottom', 'something', 'whereafter', 'six', 'being', 'here', 'amount', 'empty', 'full', 'seeming', 'various', 'either', 'often', 'until', 'again', 'with', 'several', 'wherever', 'any', 'against', 'this', 'yourselves', 'own', 'around', 'nevertheless', 'whatever', 'part', 'some', 'because', 'whereupon', 'anyway', 'before', 'less', 'eight', 'became', 'the', 'during', 'four', 'nobody', 'about', 'were', 'name', 'latter', 'other', 'through', 'herself', 'too', 'very', 'whose', 'top', 'however', 'show', 'at', 'every', 'beyond', 'my', 'put', 'when', 'another', 'fifty', 'due', 'except', 'whether', 'without', 'next', 'one', 'to', 'in', 'least', 'could', 'sometime', 'whither', 'therefore', 'both', 'ever', 'now', 'anyone', 'yet', 'become', 'himself', 'me', 'noone', 'first', 'out', 'must', 'few', 'whom', 'besides', 'its', 'always', 'although', 'from', 'he', 'give', 'hereafter', 'latterly', 'others', 're', 'why', 'thru', 'who', 'three', 'perhaps', 'becomes', 'toward', 'did', 'within', 'be', 'by', 'fifteen', 'what', 'can', 'not', 'say', 'moreover', 'such', 'up', 'would', 'an', 'these', 'will', 'amongst', 'else', 'towards', 'beforehand', 'than', 'over', 'third', 'though', 'behind', 'below', 'might', 'under', 'side', 'still', 'sometimes', 'whereby', 'herein', 'her', 'most', 'that', 'does', 'may', 'more', 'only', 'regarding', 'seems']}\n"
     ]
    }
   ],
   "source": [
    "print(f'Best Score:{(results_cvec.best_score_):.3f}')\n",
    "print(f'Best Parameters :{results_cvec.best_params_}')"
   ]
  },
  {
   "cell_type": "code",
   "execution_count": null,
   "metadata": {},
   "outputs": [],
   "source": []
  },
  {
   "cell_type": "markdown",
   "metadata": {},
   "source": [
    "### 2: TFIDF + Logistic Regression GridSearch and modeling"
   ]
  },
  {
   "cell_type": "code",
   "execution_count": 65,
   "metadata": {},
   "outputs": [
    {
     "name": "stdout",
     "output_type": "stream",
     "text": [
      "Seconds elapsed for fitting: 91.636\n"
     ]
    }
   ],
   "source": [
    "# Define TFIDF + Logistic Regression Pipeline\n",
    "\n",
    "pipe_tfidf = Pipeline([('tfidf', TfidfVectorizer()), ('lr', LogisticRegression(max_iter = 4000, random_state = RANDOM_STATE))])\n",
    "\n",
    "tfidf_params = {\n",
    "    'tfidf__ngram_range': [(1,2), (1,3), (1,4), (1,5), (1,6), (1,7), (1,8), (1,9), (1,10)],\n",
    "    'tfidf__stop_words': [None, short_stopwords, select_stopwords],  \n",
    "    'tfidf__max_features': [100, 200, 400, 600, 800, 1000],\n",
    "#    'tfidf__min_df': [2],\n",
    "#    'tfidf__max_df': [.99],\n",
    "    }\n",
    "\n",
    "gs_tfidf = GridSearchCV(pipe_tfidf, param_grid = tfidf_params, cv = 3, scoring = 'accuracy')\n",
    "\n",
    "results_tfidf = gs_tfidf.fit(X_train, y_train)\n",
    "\n",
    "print(f'Seconds elapsed for fitting: {(time.time() - t0):.3f}') # How many seconds elapsed.\n",
    "\n"
   ]
  },
  {
   "cell_type": "code",
   "execution_count": 66,
   "metadata": {},
   "outputs": [
    {
     "name": "stdout",
     "output_type": "stream",
     "text": [
      "Training score is 0.977\n",
      "Test score is 0.943\n",
      "Cross Validation score is 0.931\n",
      "Seconds elapsed for score calculation: 0.592\n"
     ]
    }
   ],
   "source": [
    "t0 = time.time()\n",
    "print(f'Training score is {results_tfidf.score(X_train, y_train):.3f}')\n",
    "print(f'Test score is {results_tfidf.score(X_test, y_test):.3f}')\n",
    "print(f'Cross Validation score is {cross_val_score(results_tfidf.best_estimator_, X, y, cv = 3).mean():.3f}')\n",
    "print(f'Seconds elapsed for score calculation: {(time.time() - t0):.3f}') # How many seconds elapsed."
   ]
  },
  {
   "cell_type": "code",
   "execution_count": 67,
   "metadata": {},
   "outputs": [
    {
     "name": "stdout",
     "output_type": "stream",
     "text": [
      "Best Score: 0.946360153256705\n",
      "Best Parameters: {'tfidf__max_features': 100, 'tfidf__ngram_range': (1, 4), 'tfidf__stop_words': None}\n"
     ]
    }
   ],
   "source": [
    "print(f'Best Score: {results_tfidf.best_score_}')\n",
    "print(f'Best Parameters: {results_tfidf.best_params_}')"
   ]
  },
  {
   "cell_type": "code",
   "execution_count": null,
   "metadata": {},
   "outputs": [],
   "source": []
  },
  {
   "cell_type": "markdown",
   "metadata": {},
   "source": [
    "### 3: CountVectorizer + Multinomial Naive Bayes GridSearch & modeling"
   ]
  },
  {
   "cell_type": "code",
   "execution_count": 70,
   "metadata": {},
   "outputs": [
    {
     "name": "stdout",
     "output_type": "stream",
     "text": [
      "Seconds elapsed for fitting: 86.806\n"
     ]
    }
   ],
   "source": [
    "# Define CountVectorizer + Multinomial Naive Bayes Grisearch pipeline\n",
    "\n",
    "pipe_mnb = Pipeline([('cvec', CountVectorizer()), ('mnb', MultinomialNB())])\n",
    "mnb_params = {\n",
    "    'cvec__ngram_range': [(1,2), (1,3), (1,4), (1,5), (1,6), (1,7), (1,8), (1,9), (1,10)],\n",
    "    'cvec__stop_words': [None, short_stopwords, select_stopwords],\n",
    "    'cvec__max_features': [100, 200, 400, 600, 800, 1000],\n",
    "#    'cvec__min_df': [3],\n",
    "#    'cvec__max_df': [ .99],\n",
    "    }\n",
    "\n",
    "gs_mnb = GridSearchCV(pipe_mnb, param_grid = mnb_params, cv = 3, scoring = 'accuracy')\n",
    "\n",
    "# Start the timer.\n",
    "t0 = time.time()\n",
    "\n",
    "results_mnb = gs_mnb.fit(X_train, y_train)\n",
    "\n",
    "print(f'Seconds elapsed for fitting: {(time.time() - t0):.3f}') # How many seconds elapsed."
   ]
  },
  {
   "cell_type": "code",
   "execution_count": 71,
   "metadata": {},
   "outputs": [
    {
     "name": "stdout",
     "output_type": "stream",
     "text": [
      "Training score is 0.966\n",
      "Test score is 0.955\n",
      "Cross Validation score is 0.920\n",
      "Seconds elapsed for score calculation: 0.910\n"
     ]
    }
   ],
   "source": [
    "t0 = time.time()\n",
    "print(f'Training score is {results_mnb.score(X_train, y_train):.3f}')\n",
    "print(f'Test score is {results_mnb.score(X_test, y_test):.3f}')\n",
    "print(f'Cross Validation score is {cross_val_score(results_mnb.best_estimator_, X, y, cv = 3).mean():.3f}')\n",
    "print(f'Seconds elapsed for score calculation: {(time.time() - t0):.3f}') # How many seconds elapsed."
   ]
  },
  {
   "cell_type": "code",
   "execution_count": 72,
   "metadata": {},
   "outputs": [
    {
     "name": "stdout",
     "output_type": "stream",
     "text": [
      "Best Score: 0.9272030651340996\n",
      "Best Parameters: {'cvec__max_features': 100, 'cvec__ngram_range': (1, 4), 'cvec__stop_words': None}\n"
     ]
    }
   ],
   "source": [
    "print(f'Best Score: {results_mnb.best_score_}')\n",
    "print(f'Best Parameters: {results_mnb.best_params_}')"
   ]
  },
  {
   "cell_type": "code",
   "execution_count": null,
   "metadata": {},
   "outputs": [],
   "source": []
  },
  {
   "cell_type": "markdown",
   "metadata": {},
   "source": [
    "### 4: TFIDF + Gaussian Naive Bayes GridSearch & modeling"
   ]
  },
  {
   "cell_type": "code",
   "execution_count": 74,
   "metadata": {},
   "outputs": [
    {
     "name": "stdout",
     "output_type": "stream",
     "text": [
      "Seconds elapsed for fitting: 93.819\n"
     ]
    }
   ],
   "source": [
    "# Define TFIDF + Gaussian Naive Bayes Gridsearch pipeline\n",
    "\n",
    "from sklearn.base import TransformerMixin\n",
    "class DenseTransformer(TransformerMixin):\n",
    "\n",
    "    def fit(self, X, y=None, **fit_params):\n",
    "        return self\n",
    "\n",
    "    def transform(self, X, y=None, **fit_params):\n",
    "        return X.todense()\n",
    "\n",
    "\n",
    "pipe_gnb = Pipeline([('tfidf', TfidfVectorizer()), ('to_dense', DenseTransformer()),('gnb', GaussianNB())])\n",
    "\n",
    "gnb_params = {\n",
    "    'tfidf__ngram_range': [(1,2), (1,3), (1,4), (1,5), (1,6), (1,7), (1,8), (1,9), (1,10)],\n",
    "    'tfidf__stop_words': [None, short_stopwords, select_stopwords],\n",
    "    'tfidf__max_features': [100, 200, 400, 600, 800, 1000],\n",
    "#    'tfidf__min_df': [2],\n",
    "#    'tfidf__max_df': [.99],\n",
    "    }\n",
    "\n",
    "gs_gnb = GridSearchCV(pipe_gnb, param_grid = gnb_params, cv = 3, scoring = 'accuracy')\n",
    "\n",
    "# Start the timer.\n",
    "t0 = time.time()\n",
    "\n",
    "results_gnb = gs_gnb.fit(X_train, y_train)\n",
    "\n",
    "print(f'Seconds elapsed for fitting: {(time.time() - t0):.3f}') # How many seconds elapsed."
   ]
  },
  {
   "cell_type": "code",
   "execution_count": 75,
   "metadata": {},
   "outputs": [
    {
     "name": "stdout",
     "output_type": "stream",
     "text": [
      "Training score is 0.954\n",
      "Test score is 0.932\n",
      "Cross Validation score is 0.931\n",
      "Seconds elapsed for score calculation: 0.527\n"
     ]
    }
   ],
   "source": [
    "t0 = time.time()\n",
    "print(f'Training score is {results_gnb.score(X_train, y_train):.3f}')\n",
    "print(f'Test score is {results_gnb.score(X_test, y_test):.3f}')\n",
    "print(f'Cross Validation score is {cross_val_score(results_gnb.best_estimator_, X, y, cv = 3).mean():.3f}')\n",
    "print(f'Seconds elapsed for score calculation: {(time.time() - t0):.3f}') # How many seconds elapsed."
   ]
  },
  {
   "cell_type": "code",
   "execution_count": 76,
   "metadata": {},
   "outputs": [
    {
     "name": "stdout",
     "output_type": "stream",
     "text": [
      "Best Score: 0.9386973180076628\n",
      "Best Parameters: {'tfidf__max_features': 100, 'tfidf__ngram_range': (1, 4), 'tfidf__stop_words': ['the', 'and', 'a', 'to', 'I', 'it', 'be', 'for', 'with', 'that']}\n"
     ]
    }
   ],
   "source": [
    "print(f'Best Score: {results_gnb.best_score_}')\n",
    "print(f'Best Parameters: {results_gnb.best_params_}')"
   ]
  },
  {
   "cell_type": "code",
   "execution_count": null,
   "metadata": {},
   "outputs": [],
   "source": []
  },
  {
   "cell_type": "markdown",
   "metadata": {},
   "source": [
    "## Model Selection\n",
    "- In this section we compare the Train and Test scores across the various models"
   ]
  },
  {
   "cell_type": "code",
   "execution_count": null,
   "metadata": {},
   "outputs": [],
   "source": []
  },
  {
   "cell_type": "code",
   "execution_count": 77,
   "metadata": {},
   "outputs": [
    {
     "name": "stdout",
     "output_type": "stream",
     "text": [
      "Baseline Score:                                0.511\n",
      "CountVectorizer + LogisticRegression Accuracy: 0.996\n",
      "TfidfVectorizer + LogisticRegression Accuracy: 0.977\n",
      "CountVectorizer + Multinomial Naive Bayes:     0.966\n",
      "TfidfVectorizer + Gaussian Naive Bayes:        0.954\n"
     ]
    }
   ],
   "source": [
    "# Check Training Scores across all models\n",
    "print(f'Baseline Score:                                {y_test.value_counts(normalize=True)[0]:.3f}')\n",
    "print(f'CountVectorizer + LogisticRegression Accuracy: {results_cvec.score(X_train, y_train):.3f}')\n",
    "print(f'TfidfVectorizer + LogisticRegression Accuracy: {results_tfidf.score(X_train, y_train):.3f}')\n",
    "print(f'CountVectorizer + Multinomial Naive Bayes:     {results_mnb.score(X_train, y_train):.3f}')\n",
    "print(f'TfidfVectorizer + Gaussian Naive Bayes:        {results_gnb.score(X_train, y_train):.3f}')"
   ]
  },
  {
   "cell_type": "code",
   "execution_count": 78,
   "metadata": {},
   "outputs": [
    {
     "name": "stdout",
     "output_type": "stream",
     "text": [
      "Baseline Score:                                0.511\n",
      "CountVectorizer + LogisticRegression Accuracy: 0.977\n",
      "TfidfVectorizer + LogisticRegression Accuracy: 0.943\n",
      "CountVectorizer + Multinomial Naive Bayes:     0.955\n",
      "TfidfVectorizer + Gaussian Naive Bayes:        0.932\n"
     ]
    }
   ],
   "source": [
    "# Check Testing Scores across all models\n",
    "print(f'Baseline Score:                                {y_test.value_counts(normalize=True)[0]:.3f}')\n",
    "print(f'CountVectorizer + LogisticRegression Accuracy: {results_cvec.score(X_test, y_test):.3f}')\n",
    "print(f'TfidfVectorizer + LogisticRegression Accuracy: {results_tfidf.score(X_test, y_test):.3f}')\n",
    "print(f'CountVectorizer + Multinomial Naive Bayes:     {results_mnb.score(X_test, y_test):.3f}')\n",
    "print(f'TfidfVectorizer + Gaussian Naive Bayes:        {results_gnb.score(X_test, y_test):.3f}')"
   ]
  },
  {
   "cell_type": "code",
   "execution_count": null,
   "metadata": {},
   "outputs": [],
   "source": []
  },
  {
   "cell_type": "markdown",
   "metadata": {},
   "source": [
    "## Model Evaluation"
   ]
  },
  {
   "cell_type": "code",
   "execution_count": 79,
   "metadata": {},
   "outputs": [],
   "source": [
    "# Isolate the individual words and their coefficients\n",
    "# Feature names (i.e., words in the Sentences):\n",
    "names = results_cvec.best_estimator_.steps[0][1].get_feature_names()\n",
    "\n",
    "# classifier (betas):\n",
    "classifier = results_cvec.best_estimator_.named_steps['lr']\n",
    "\n",
    "# https://stackoverflow.com/questions/43856280/return-coefficients-from-pipeline-object-in-sklearn"
   ]
  },
  {
   "cell_type": "code",
   "execution_count": 80,
   "metadata": {},
   "outputs": [
    {
     "data": {
      "text/plain": [
       "[-0.22360809802301485,\n",
       " -0.15201223584219423,\n",
       " -0.13127565719667766,\n",
       " -0.22532360150329409,\n",
       " 0.031106373614245748,\n",
       " 0.3678307782329629,\n",
       " -0.03550587663661965,\n",
       " -0.05113826536409439,\n",
       " -0.26280899461605023,\n",
       " -0.09998315612844669]"
      ]
     },
     "execution_count": 80,
     "metadata": {},
     "output_type": "execute_result"
    }
   ],
   "source": [
    "# Extract coefficients from the classifier defined above\n",
    "coef_cvec = np.array(classifier.coef_).tolist()[0]\n",
    "coef_cvec[:10] #Look at 10 coefficients"
   ]
  },
  {
   "cell_type": "code",
   "execution_count": 81,
   "metadata": {},
   "outputs": [],
   "source": [
    "# Create zipped list of the word names with their corresponding beta coefficients\n",
    "cvec_top_words = list(zip(names, coef_cvec))"
   ]
  },
  {
   "cell_type": "code",
   "execution_count": 82,
   "metadata": {},
   "outputs": [],
   "source": [
    "# Create final dataframe of words with their corresponding coefficients\n",
    "df_cvec_coefs = pd.DataFrame(cvec_top_words).rename(columns = {0: 'word', 1: 'coef'}).sort_values(by = 'coef', ascending = False)"
   ]
  },
  {
   "cell_type": "code",
   "execution_count": 83,
   "metadata": {},
   "outputs": [
    {
     "data": {
      "text/html": [
       "<div>\n",
       "<style scoped>\n",
       "    .dataframe tbody tr th:only-of-type {\n",
       "        vertical-align: middle;\n",
       "    }\n",
       "\n",
       "    .dataframe tbody tr th {\n",
       "        vertical-align: top;\n",
       "    }\n",
       "\n",
       "    .dataframe thead th {\n",
       "        text-align: right;\n",
       "    }\n",
       "</style>\n",
       "<table border=\"1\" class=\"dataframe\">\n",
       "  <thead>\n",
       "    <tr style=\"text-align: right;\">\n",
       "      <th></th>\n",
       "      <th>word</th>\n",
       "      <th>coef</th>\n",
       "    </tr>\n",
       "  </thead>\n",
       "  <tbody>\n",
       "    <tr>\n",
       "      <th>123</th>\n",
       "      <td>means</td>\n",
       "      <td>-1.060596</td>\n",
       "    </tr>\n",
       "    <tr>\n",
       "      <th>179</th>\n",
       "      <td>servicer</td>\n",
       "      <td>-0.411302</td>\n",
       "    </tr>\n",
       "    <tr>\n",
       "      <th>26</th>\n",
       "      <td>cash</td>\n",
       "      <td>-0.378190</td>\n",
       "    </tr>\n",
       "    <tr>\n",
       "      <th>156</th>\n",
       "      <td>pool</td>\n",
       "      <td>-0.347799</td>\n",
       "    </tr>\n",
       "    <tr>\n",
       "      <th>19</th>\n",
       "      <td>borrower required</td>\n",
       "      <td>-0.323154</td>\n",
       "    </tr>\n",
       "    <tr>\n",
       "      <th>172</th>\n",
       "      <td>required</td>\n",
       "      <td>-0.312953</td>\n",
       "    </tr>\n",
       "    <tr>\n",
       "      <th>167</th>\n",
       "      <td>reasonably</td>\n",
       "      <td>-0.312691</td>\n",
       "    </tr>\n",
       "    <tr>\n",
       "      <th>68</th>\n",
       "      <td>documents</td>\n",
       "      <td>-0.300476</td>\n",
       "    </tr>\n",
       "    <tr>\n",
       "      <th>111</th>\n",
       "      <td>loan documents</td>\n",
       "      <td>-0.300476</td>\n",
       "    </tr>\n",
       "    <tr>\n",
       "      <th>66</th>\n",
       "      <td>disbursed</td>\n",
       "      <td>-0.295579</td>\n",
       "    </tr>\n",
       "    <tr>\n",
       "      <th>140</th>\n",
       "      <td>occurrence</td>\n",
       "      <td>-0.286196</td>\n",
       "    </tr>\n",
       "    <tr>\n",
       "      <th>127</th>\n",
       "      <td>monthly</td>\n",
       "      <td>-0.273678</td>\n",
       "    </tr>\n",
       "    <tr>\n",
       "      <th>196</th>\n",
       "      <td>trigger event</td>\n",
       "      <td>-0.270149</td>\n",
       "    </tr>\n",
       "    <tr>\n",
       "      <th>8</th>\n",
       "      <td>agreement</td>\n",
       "      <td>-0.262809</td>\n",
       "    </tr>\n",
       "    <tr>\n",
       "      <th>52</th>\n",
       "      <td>debt yield</td>\n",
       "      <td>-0.261034</td>\n",
       "    </tr>\n",
       "    <tr>\n",
       "      <th>198</th>\n",
       "      <td>yield</td>\n",
       "      <td>-0.261034</td>\n",
       "    </tr>\n",
       "    <tr>\n",
       "      <th>13</th>\n",
       "      <td>applicable</td>\n",
       "      <td>-0.254890</td>\n",
       "    </tr>\n",
       "    <tr>\n",
       "      <th>152</th>\n",
       "      <td>payment date</td>\n",
       "      <td>-0.250958</td>\n",
       "    </tr>\n",
       "    <tr>\n",
       "      <th>63</th>\n",
       "      <td>description mortgage</td>\n",
       "      <td>-0.249440</td>\n",
       "    </tr>\n",
       "    <tr>\n",
       "      <th>195</th>\n",
       "      <td>trigger</td>\n",
       "      <td>-0.245675</td>\n",
       "    </tr>\n",
       "  </tbody>\n",
       "</table>\n",
       "</div>"
      ],
      "text/plain": [
       "                     word      coef\n",
       "123                 means -1.060596\n",
       "179              servicer -0.411302\n",
       "26                   cash -0.378190\n",
       "156                  pool -0.347799\n",
       "19      borrower required -0.323154\n",
       "172              required -0.312953\n",
       "167            reasonably -0.312691\n",
       "68              documents -0.300476\n",
       "111        loan documents -0.300476\n",
       "66              disbursed -0.295579\n",
       "140            occurrence -0.286196\n",
       "127               monthly -0.273678\n",
       "196         trigger event -0.270149\n",
       "8               agreement -0.262809\n",
       "52             debt yield -0.261034\n",
       "198                 yield -0.261034\n",
       "13             applicable -0.254890\n",
       "152          payment date -0.250958\n",
       "63   description mortgage -0.249440\n",
       "195               trigger -0.245675"
      ]
     },
     "execution_count": 83,
     "metadata": {},
     "output_type": "execute_result"
    }
   ],
   "source": [
    "# Top differentiating words and phrases in High Star Ratings\n",
    "df_cvec_coefs.tail(20).sort_values('coef', ascending = True)"
   ]
  },
  {
   "cell_type": "code",
   "execution_count": 84,
   "metadata": {},
   "outputs": [
    {
     "data": {
      "text/html": [
       "<div>\n",
       "<style scoped>\n",
       "    .dataframe tbody tr th:only-of-type {\n",
       "        vertical-align: middle;\n",
       "    }\n",
       "\n",
       "    .dataframe tbody tr th {\n",
       "        vertical-align: top;\n",
       "    }\n",
       "\n",
       "    .dataframe thead th {\n",
       "        text-align: right;\n",
       "    }\n",
       "</style>\n",
       "<table border=\"1\" class=\"dataframe\">\n",
       "  <thead>\n",
       "    <tr style=\"text-align: right;\">\n",
       "      <th></th>\n",
       "      <th>word</th>\n",
       "      <th>coef</th>\n",
       "    </tr>\n",
       "  </thead>\n",
       "  <tbody>\n",
       "    <tr>\n",
       "      <th>54</th>\n",
       "      <td>default</td>\n",
       "      <td>1.442525</td>\n",
       "    </tr>\n",
       "    <tr>\n",
       "      <th>72</th>\n",
       "      <td>event default</td>\n",
       "      <td>1.320199</td>\n",
       "    </tr>\n",
       "    <tr>\n",
       "      <th>134</th>\n",
       "      <td>mortgage loan event</td>\n",
       "      <td>0.863208</td>\n",
       "    </tr>\n",
       "    <tr>\n",
       "      <th>135</th>\n",
       "      <td>mortgage loan event default</td>\n",
       "      <td>0.863208</td>\n",
       "    </tr>\n",
       "    <tr>\n",
       "      <th>71</th>\n",
       "      <td>event</td>\n",
       "      <td>0.573847</td>\n",
       "    </tr>\n",
       "    <tr>\n",
       "      <th>43</th>\n",
       "      <td>continuing</td>\n",
       "      <td>0.565203</td>\n",
       "    </tr>\n",
       "    <tr>\n",
       "      <th>67</th>\n",
       "      <td>discretion</td>\n",
       "      <td>0.506171</td>\n",
       "    </tr>\n",
       "    <tr>\n",
       "      <th>55</th>\n",
       "      <td>default continuing</td>\n",
       "      <td>0.460695</td>\n",
       "    </tr>\n",
       "    <tr>\n",
       "      <th>73</th>\n",
       "      <td>event default continuing</td>\n",
       "      <td>0.460695</td>\n",
       "    </tr>\n",
       "    <tr>\n",
       "      <th>39</th>\n",
       "      <td>continuance</td>\n",
       "      <td>0.455440</td>\n",
       "    </tr>\n",
       "    <tr>\n",
       "      <th>177</th>\n",
       "      <td>respect</td>\n",
       "      <td>0.432580</td>\n",
       "    </tr>\n",
       "    <tr>\n",
       "      <th>169</th>\n",
       "      <td>remaining</td>\n",
       "      <td>0.389789</td>\n",
       "    </tr>\n",
       "    <tr>\n",
       "      <th>5</th>\n",
       "      <td>account required</td>\n",
       "      <td>0.367831</td>\n",
       "    </tr>\n",
       "    <tr>\n",
       "      <th>187</th>\n",
       "      <td>tax</td>\n",
       "      <td>0.362177</td>\n",
       "    </tr>\n",
       "    <tr>\n",
       "      <th>131</th>\n",
       "      <td>mortgage loan</td>\n",
       "      <td>0.340145</td>\n",
       "    </tr>\n",
       "    <tr>\n",
       "      <th>121</th>\n",
       "      <td>management account</td>\n",
       "      <td>0.318415</td>\n",
       "    </tr>\n",
       "    <tr>\n",
       "      <th>31</th>\n",
       "      <td>cash management account</td>\n",
       "      <td>0.318415</td>\n",
       "    </tr>\n",
       "    <tr>\n",
       "      <th>114</th>\n",
       "      <td>loan event default continuing</td>\n",
       "      <td>0.297208</td>\n",
       "    </tr>\n",
       "    <tr>\n",
       "      <th>148</th>\n",
       "      <td>paid</td>\n",
       "      <td>0.293917</td>\n",
       "    </tr>\n",
       "    <tr>\n",
       "      <th>133</th>\n",
       "      <td>mortgage loan documents</td>\n",
       "      <td>0.292938</td>\n",
       "    </tr>\n",
       "  </tbody>\n",
       "</table>\n",
       "</div>"
      ],
      "text/plain": [
       "                              word      coef\n",
       "54                         default  1.442525\n",
       "72                   event default  1.320199\n",
       "134            mortgage loan event  0.863208\n",
       "135    mortgage loan event default  0.863208\n",
       "71                           event  0.573847\n",
       "43                      continuing  0.565203\n",
       "67                      discretion  0.506171\n",
       "55              default continuing  0.460695\n",
       "73        event default continuing  0.460695\n",
       "39                     continuance  0.455440\n",
       "177                        respect  0.432580\n",
       "169                      remaining  0.389789\n",
       "5                 account required  0.367831\n",
       "187                            tax  0.362177\n",
       "131                  mortgage loan  0.340145\n",
       "121             management account  0.318415\n",
       "31         cash management account  0.318415\n",
       "114  loan event default continuing  0.297208\n",
       "148                           paid  0.293917\n",
       "133        mortgage loan documents  0.292938"
      ]
     },
     "execution_count": 84,
     "metadata": {},
     "output_type": "execute_result"
    }
   ],
   "source": [
    "# Display top differentiating words and phrases in Low Star Ratings\n",
    "df_cvec_coefs.head(20)"
   ]
  },
  {
   "cell_type": "markdown",
   "metadata": {},
   "source": [
    "### Calculating predictions and Confusion Matrix"
   ]
  },
  {
   "cell_type": "code",
   "execution_count": 85,
   "metadata": {},
   "outputs": [],
   "source": [
    "# Here, we isolate our best model & make predictions based on our test data\n",
    "best_model = results_cvec.best_estimator_\n",
    "preds = best_model.predict(X_test)"
   ]
  },
  {
   "cell_type": "code",
   "execution_count": 86,
   "metadata": {},
   "outputs": [
    {
     "data": {
      "text/plain": [
       "array([0, 0, 0, 0, 0, 1, 1, 0, 0, 1])"
      ]
     },
     "execution_count": 86,
     "metadata": {},
     "output_type": "execute_result"
    }
   ],
   "source": [
    "# Checking our predictions\n",
    "preds[:10]"
   ]
  },
  {
   "cell_type": "code",
   "execution_count": 87,
   "metadata": {},
   "outputs": [
    {
     "name": "stdout",
     "output_type": "stream",
     "text": [
      "This is a confusion matrix for our test data vs predictions:\n",
      "[[43  2]\n",
      " [ 0 43]]\n"
     ]
    }
   ],
   "source": [
    "## Create a confusion matrix\n",
    "from sklearn.metrics import confusion_matrix\n",
    "cm_test = confusion_matrix(y_test, preds)\n",
    "print('This is a confusion matrix for our test data vs predictions:')\n",
    "print(cm_test)"
   ]
  },
  {
   "cell_type": "code",
   "execution_count": 88,
   "metadata": {},
   "outputs": [],
   "source": [
    "# Converting our confusion matrix into a dataframe\n",
    "cm_test = pd.DataFrame(cm_test, columns=['Predicted Negative','Predicted Positive'], \n",
    "                       index=['Actual Negative','Actual Positive'])"
   ]
  },
  {
   "cell_type": "code",
   "execution_count": 89,
   "metadata": {},
   "outputs": [
    {
     "data": {
      "text/html": [
       "<div>\n",
       "<style scoped>\n",
       "    .dataframe tbody tr th:only-of-type {\n",
       "        vertical-align: middle;\n",
       "    }\n",
       "\n",
       "    .dataframe tbody tr th {\n",
       "        vertical-align: top;\n",
       "    }\n",
       "\n",
       "    .dataframe thead th {\n",
       "        text-align: right;\n",
       "    }\n",
       "</style>\n",
       "<table border=\"1\" class=\"dataframe\">\n",
       "  <thead>\n",
       "    <tr style=\"text-align: right;\">\n",
       "      <th></th>\n",
       "      <th>Predicted Negative</th>\n",
       "      <th>Predicted Positive</th>\n",
       "    </tr>\n",
       "  </thead>\n",
       "  <tbody>\n",
       "    <tr>\n",
       "      <th>Actual Negative</th>\n",
       "      <td>43</td>\n",
       "      <td>2</td>\n",
       "    </tr>\n",
       "    <tr>\n",
       "      <th>Actual Positive</th>\n",
       "      <td>0</td>\n",
       "      <td>43</td>\n",
       "    </tr>\n",
       "  </tbody>\n",
       "</table>\n",
       "</div>"
      ],
      "text/plain": [
       "                 Predicted Negative  Predicted Positive\n",
       "Actual Negative                  43                   2\n",
       "Actual Positive                   0                  43"
      ]
     },
     "execution_count": 89,
     "metadata": {},
     "output_type": "execute_result"
    }
   ],
   "source": [
    "cm_test"
   ]
  },
  {
   "cell_type": "code",
   "execution_count": 90,
   "metadata": {},
   "outputs": [],
   "source": [
    "# Setting up probabilities for the ROC curve\n",
    "pred_proba = results_cvec.predict_proba(X_test)\n",
    "preds = results_cvec.predict(X_test)"
   ]
  },
  {
   "cell_type": "code",
   "execution_count": 91,
   "metadata": {},
   "outputs": [
    {
     "data": {
      "image/png": "[encoded data removed]",
      "text/plain": [
       "<Figure size 576x576 with 1 Axes>"
      ]
     },
     "metadata": {
      "needs_background": "light"
     },
     "output_type": "display_data"
    }
   ],
   "source": [
    "fpr, tpr, _= roc_curve(y_test, pred_proba[:,1])\n",
    "roc_auc = auc(fpr, tpr)\n",
    "# Plot of a ROC curve for a specific class\n",
    "plt.figure(figsize = (8,8))\n",
    "plt.plot(fpr, tpr, label='ROC curve (area = %0.4f)' % roc_auc)\n",
    "plt.plot([0, 1], [0, 1], 'k--', label='baseline')\n",
    "plt.xlim([-0.01, 1.0])\n",
    "plt.ylim([0.0, 1.01])\n",
    "plt.xlabel('False Positive Rate', fontsize =20)\n",
    "plt.ylabel('True Positive Rate', fontsize = 20)\n",
    "plt.title('Receiver Operating Characteristic Curve', fontsize=18)\n",
    "plt.legend(loc=\"lower right\");"
   ]
  },
  {
   "cell_type": "code",
   "execution_count": 92,
   "metadata": {},
   "outputs": [],
   "source": [
    "# To allow us to better read the Sentences\n",
    "pd.set_option('display.max_colwidth', None)"
   ]
  },
  {
   "cell_type": "code",
   "execution_count": 93,
   "metadata": {},
   "outputs": [
    {
     "data": {
      "text/html": [
       "<div>\n",
       "<style scoped>\n",
       "    .dataframe tbody tr th:only-of-type {\n",
       "        vertical-align: middle;\n",
       "    }\n",
       "\n",
       "    .dataframe tbody tr th {\n",
       "        vertical-align: top;\n",
       "    }\n",
       "\n",
       "    .dataframe thead th {\n",
       "        text-align: right;\n",
       "    }\n",
       "</style>\n",
       "<table border=\"1\" class=\"dataframe\">\n",
       "  <thead>\n",
       "    <tr style=\"text-align: right;\">\n",
       "      <th></th>\n",
       "      <th>prediction</th>\n",
       "      <th>actual</th>\n",
       "      <th>Sentence</th>\n",
       "    </tr>\n",
       "  </thead>\n",
       "  <tbody>\n",
       "    <tr>\n",
       "      <th>0</th>\n",
       "      <td>0</td>\n",
       "      <td>0</td>\n",
       "      <td>A Cash Management Period is currently in place due to the existence of mezzanine debt.</td>\n",
       "    </tr>\n",
       "    <tr>\n",
       "      <th>1</th>\n",
       "      <td>0</td>\n",
       "      <td>0</td>\n",
       "      <td>Upon the first occurrence of a Trigger Period, the lender, on the Borrower’s behalf, will establish an Eligible Account (the “Cash Management Account”) with an Eligible Institution (or the lender or Servicer, as applicable) for the sole and exclusive benefit of the lender.</td>\n",
       "    </tr>\n",
       "    <tr>\n",
       "      <th>2</th>\n",
       "      <td>0</td>\n",
       "      <td>0</td>\n",
       "      <td>On each loan payment date during the continuance of a Trigger Period, the borrowers are required to fund a tax, insurance and homeowner’s association fees reserve in an amount equal to one-twelfth of the amount that the lender reasonably estimates will be necessary to pay taxes, insurance premiums and homeowner’s association fees over the then succeeding 12-month period.</td>\n",
       "    </tr>\n",
       "    <tr>\n",
       "      <th>3</th>\n",
       "      <td>0</td>\n",
       "      <td>0</td>\n",
       "      <td>Upon the occurrence and during the continuance of a Cash Sweep Period (as defined below), the Borrower is required to establish and maintain a segregated eligible account (the “Cash Management Account”) to be held by the Mortgage Lender.</td>\n",
       "    </tr>\n",
       "    <tr>\n",
       "      <th>4</th>\n",
       "      <td>0</td>\n",
       "      <td>0</td>\n",
       "      <td>In the event no Marriott Management Period or period in which a qualified replacement Hotel Operator is not managing the Property exists, the Borrower will establish and is required to maintain a lockbox account into which income from the Property will be deposited.</td>\n",
       "    </tr>\n",
       "  </tbody>\n",
       "</table>\n",
       "</div>"
      ],
      "text/plain": [
       "   prediction  actual  \\\n",
       "0           0       0   \n",
       "1           0       0   \n",
       "2           0       0   \n",
       "3           0       0   \n",
       "4           0       0   \n",
       "\n",
       "                                                                                                                                                                                                                                                                                                                                                                                Sentence  \n",
       "0                                                                                                                                                                                                                                                                                                 A Cash Management Period is currently in place due to the existence of mezzanine debt.  \n",
       "1                                                                                                      Upon the first occurrence of a Trigger Period, the lender, on the Borrower’s behalf, will establish an Eligible Account (the “Cash Management Account”) with an Eligible Institution (or the lender or Servicer, as applicable) for the sole and exclusive benefit of the lender.  \n",
       "2  On each loan payment date during the continuance of a Trigger Period, the borrowers are required to fund a tax, insurance and homeowner’s association fees reserve in an amount equal to one-twelfth of the amount that the lender reasonably estimates will be necessary to pay taxes, insurance premiums and homeowner’s association fees over the then succeeding 12-month period.  \n",
       "3                                                                                                                                          Upon the occurrence and during the continuance of a Cash Sweep Period (as defined below), the Borrower is required to establish and maintain a segregated eligible account (the “Cash Management Account”) to be held by the Mortgage Lender.  \n",
       "4                                                                                                             In the event no Marriott Management Period or period in which a qualified replacement Hotel Operator is not managing the Property exists, the Borrower will establish and is required to maintain a lockbox account into which income from the Property will be deposited.  "
      ]
     },
     "execution_count": 93,
     "metadata": {},
     "output_type": "execute_result"
    }
   ],
   "source": [
    "result_cols = ['prediction', 'actual', 'Sentence']\n",
    "results = pd.DataFrame({'prediction': list(preds), 'actual': list(y_test), 'Sentence': list(X_test)})\n",
    "results.head()"
   ]
  },
  {
   "cell_type": "code",
   "execution_count": 94,
   "metadata": {},
   "outputs": [],
   "source": [
    "misclassified = results[results['prediction'] != results['actual']]\n"
   ]
  },
  {
   "cell_type": "code",
   "execution_count": 95,
   "metadata": {},
   "outputs": [
    {
     "data": {
      "text/html": [
       "<div>\n",
       "<style scoped>\n",
       "    .dataframe tbody tr th:only-of-type {\n",
       "        vertical-align: middle;\n",
       "    }\n",
       "\n",
       "    .dataframe tbody tr th {\n",
       "        vertical-align: top;\n",
       "    }\n",
       "\n",
       "    .dataframe thead th {\n",
       "        text-align: right;\n",
       "    }\n",
       "</style>\n",
       "<table border=\"1\" class=\"dataframe\">\n",
       "  <thead>\n",
       "    <tr style=\"text-align: right;\">\n",
       "      <th></th>\n",
       "      <th>prediction</th>\n",
       "      <th>actual</th>\n",
       "      <th>Sentence</th>\n",
       "    </tr>\n",
       "  </thead>\n",
       "  <tbody>\n",
       "    <tr>\n",
       "      <th>26</th>\n",
       "      <td>1</td>\n",
       "      <td>0</td>\n",
       "      <td>“Mezzanine Loan Default” means an “Event of Default” under the Mezzanine Loan documents.</td>\n",
       "    </tr>\n",
       "    <tr>\n",
       "      <th>59</th>\n",
       "      <td>1</td>\n",
       "      <td>0</td>\n",
       "      <td>A “Mezzanine Loan Default” means an “Event of Default” under the Mezzanine Loan documents.</td>\n",
       "    </tr>\n",
       "  </tbody>\n",
       "</table>\n",
       "</div>"
      ],
      "text/plain": [
       "    prediction  actual  \\\n",
       "26           1       0   \n",
       "59           1       0   \n",
       "\n",
       "                                                                                      Sentence  \n",
       "26    “Mezzanine Loan Default” means an “Event of Default” under the Mezzanine Loan documents.  \n",
       "59  A “Mezzanine Loan Default” means an “Event of Default” under the Mezzanine Loan documents.  "
      ]
     },
     "execution_count": 95,
     "metadata": {},
     "output_type": "execute_result"
    }
   ],
   "source": [
    "misclassified.head(10)"
   ]
  },
  {
   "cell_type": "code",
   "execution_count": null,
   "metadata": {},
   "outputs": [],
   "source": []
  },
  {
   "cell_type": "code",
   "execution_count": null,
   "metadata": {},
   "outputs": [],
   "source": []
  },
  {
   "cell_type": "code",
   "execution_count": null,
   "metadata": {},
   "outputs": [],
   "source": []
  },
  {
   "cell_type": "code",
   "execution_count": null,
   "metadata": {},
   "outputs": [],
   "source": []
  }
 ],
 "metadata": {
  "kernelspec": {
   "display_name": "Python 3",
   "language": "python",
   "name": "python3"
  },
  "language_info": {
   "codemirror_mode": {
    "name": "ipython",
    "version": 3
   },
   "file_extension": ".py",
   "mimetype": "text/x-python",
   "name": "python",
   "nbconvert_exporter": "python",
   "pygments_lexer": "ipython3",
   "version": "3.7.5"
  },
  "toc": {
   "base_numbering": 1,
   "nav_menu": {},
   "number_sections": true,
   "sideBar": true,
   "skip_h1_title": false,
   "title_cell": "Table of Contents",
   "title_sidebar": "Contents",
   "toc_cell": false,
   "toc_position": {},
   "toc_section_display": true,
   "toc_window_display": true
  }
 },
 "nbformat": 4,
 "nbformat_minor": 2
}
