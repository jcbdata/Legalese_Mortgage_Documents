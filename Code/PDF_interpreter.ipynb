{
 "cells": [
  {
   "cell_type": "markdown",
   "metadata": {},
   "source": [
    "# File to extract sentences from text document"
   ]
  },
  {
   "cell_type": "code",
   "execution_count": 2,
   "metadata": {},
   "outputs": [
    {
     "ename": "SyntaxError",
     "evalue": "invalid syntax (<ipython-input-2-89ed8a8f6760>, line 1)",
     "output_type": "error",
     "traceback": [
      "\u001b[0;36m  File \u001b[0;32m\"<ipython-input-2-89ed8a8f6760>\"\u001b[0;36m, line \u001b[0;32m1\u001b[0m\n\u001b[0;31m    jupyter install PyPDF2\u001b[0m\n\u001b[0m                  ^\u001b[0m\n\u001b[0;31mSyntaxError\u001b[0m\u001b[0;31m:\u001b[0m invalid syntax\n"
     ]
    }
   ],
   "source": [
    "jupyter install PyPDF2\n"
   ]
  },
  {
   "cell_type": "code",
   "execution_count": 1,
   "metadata": {},
   "outputs": [
    {
     "ename": "ModuleNotFoundError",
     "evalue": "No module named 'PyPDF2'",
     "output_type": "error",
     "traceback": [
      "\u001b[0;31m---------------------------------------------------------------------------\u001b[0m",
      "\u001b[0;31mModuleNotFoundError\u001b[0m                       Traceback (most recent call last)",
      "\u001b[0;32m<ipython-input-1-7334d183aced>\u001b[0m in \u001b[0;36m<module>\u001b[0;34m\u001b[0m\n\u001b[1;32m      1\u001b[0m \u001b[0;31m# import required libraries - assume already ran pip install pyPDF2\u001b[0m\u001b[0;34m\u001b[0m\u001b[0;34m\u001b[0m\u001b[0;34m\u001b[0m\u001b[0m\n\u001b[0;32m----> 2\u001b[0;31m \u001b[0;32mimport\u001b[0m \u001b[0mPyPDF2\u001b[0m\u001b[0;34m\u001b[0m\u001b[0;34m\u001b[0m\u001b[0m\n\u001b[0m\u001b[1;32m      3\u001b[0m \u001b[0;32mimport\u001b[0m \u001b[0mre\u001b[0m\u001b[0;34m\u001b[0m\u001b[0;34m\u001b[0m\u001b[0m\n",
      "\u001b[0;31mModuleNotFoundError\u001b[0m: No module named 'PyPDF2'"
     ]
    }
   ],
   "source": [
    "# import required libraries - assume already ran pip install pyPDF2\n",
    "import PyPDF2\n",
    "import re"
   ]
  },
  {
   "cell_type": "code",
   "execution_count": null,
   "metadata": {},
   "outputs": [],
   "source": [
    "# Open pdf reader from file name. Return reader object and #pages\n",
    "def open_pdf_reader(filename):\n",
    "    # create the pdf reader\n",
    "    pdf_file_obj = open(filename, 'rb')\n",
    "    \n",
    "    # get the reader object\n",
    "    pdf_reader = PyPDF2.PdfFileReader(pdf_file_obj)\n",
    "\n",
    "    # get the page numbers\n",
    "    num_pages = pdf_reader.numPages\n",
    "    \n",
    "    return pdf_reader, num_pages"
   ]
  },
  {
   "cell_type": "code",
   "execution_count": null,
   "metadata": {},
   "outputs": [],
   "source": []
  },
  {
   "cell_type": "code",
   "execution_count": null,
   "metadata": {},
   "outputs": [],
   "source": []
  },
  {
   "cell_type": "code",
   "execution_count": null,
   "metadata": {},
   "outputs": [],
   "source": [
    "# get the page text. Remove the page number and return as a string. Will ignore pages without valid page numbers.\n",
    "# valid page numbers assumed to have the last digit as a number. A-5, A5 works, but 5A or 5-A or ii do not work\n",
    "def get_page_text(reader, page_num):\n",
    "    # set of valid \n",
    "    # pull out raw text\n",
    "    raw_text = reader.getPage(page_num).extractText()\n",
    "    \n",
    "    # extract page number - assume '\\n' in first 'x' identifies it. but no \".\"\n",
    "    i = 10\n",
    "    valid_number = False\n",
    "    while i > 0:\n",
    "        if raw_text[i] != '\\n': # check if != \\n continue searching backward\n",
    "            i = i-1\n",
    "            continue\n",
    "        elif raw_text[i-1].isdigit(): # check if there is number, if so assume it is a page number\n",
    "            # flag this search as valid. Also use i as the top of the slice\n",
    "            valid_number = True\n",
    "            break\n",
    "        else:\n",
    "            i = i-1\n",
    "    \n",
    "    # if not valid page number, skip by returning empty text\n",
    "    if valid_number == False:\n",
    "        return '', ''\n",
    "\n",
    "    # page number slice\n",
    "    pdf_page_num = raw_text[:i].replace('\\n', '')\n",
    "    \n",
    "    # remainder text\n",
    "    new_text = raw_text[i:]\n",
    "    \n",
    "    return pdf_page_num, new_text"
   ]
  },
  {
   "cell_type": "code",
   "execution_count": null,
   "metadata": {},
   "outputs": [],
   "source": [
    "# function to extract sentences from a page\n",
    "def extract_page_sentences(reader, page_num, residual_text ):\n",
    "    # Get additional text - an empty pdf_page_num or new_text should be skipped.\n",
    "    try:\n",
    "        pdf_page_num, new_text = get_page_text(reader, page_num)\n",
    "    except:\n",
    "        pdf_page_num = ''\n",
    "        new_text = ''\n",
    "        \n",
    "    if pdf_page_num == '':\n",
    "        print('should skip this page. There is no valid page number so likely table of context or odd format')\n",
    "        return [], ''\n",
    "\n",
    "    page_text = residual_text + new_text\n",
    "\n",
    "    # initialize variables needed\n",
    "    temp_sentences = [] # local copy of extracted sentences\n",
    "    local_num = 0 # running number of the sentences in the page\n",
    "    i_start = 0 # position in the temp_text\n",
    "    i_max = len(page_text) # if any thing returns past this point, collect as residual and be done\n",
    "    i_period = 0 # i_of the active period underinvestigation\n",
    "\n",
    "    not_at_end = True\n",
    "\n",
    "    # continue while not at the end\n",
    "    while(not_at_end):\n",
    "        # get the next possible period\n",
    "        i_period = page_text.find('.', i_period +1 )\n",
    "        is_sentence_end = False\n",
    "\n",
    "        # special cases - end of the file:\n",
    "        if i_period < 0: # if there are no other periods: \n",
    "            not_at_end = False\n",
    "            continue\n",
    "\n",
    "        elif i_period == i_max-2 and page_text[i_period:] == '.\\n': # special case where exactly a sentence at the end of the page\n",
    "            is_sentence_end = True\n",
    "            not_at_end = False\n",
    "\n",
    "        elif i_period > i_max - 10: # if too close to the end, just attach to the next page\n",
    "            not_at_end = False\n",
    "            continue\n",
    "\n",
    "        # Identify if the period is the end of a sentence\n",
    "\n",
    "        # reject if the '.' is proceeded and is followed by a number\n",
    "        if page_text[i_period-1].isdigit() and page_text[i_period+1].isdigit():\n",
    "            continue\n",
    "\n",
    "        # look for positive identification of a sentence end;\n",
    "        expr = '\\\\n[A-Z]'\n",
    "        if re.search(expr, page_text[i_period+1:i_period+4]):\n",
    "            is_sentence_end = True\n",
    "\n",
    "        expr = '  [A-Z]'\n",
    "        if re.search(expr, page_text[i_period+1:i_period+4]):\n",
    "            is_sentence_end = True\n",
    "\n",
    "        expr = ' [A-Z]' # only one space check that there was not a capital proceeding the .\n",
    "        if re.search(expr, page_text[i_period+1:i_period+3]):\n",
    "            expr = '[A-Z]'\n",
    "            if re.search(expr, page_text[i_period-3:i_period]):\n",
    "                is_sentence_end = False\n",
    "            else:\n",
    "                is_sentence_end = True\n",
    "\n",
    "        # special case where we check if the period is followed by numbering in perenthesis\n",
    "        expr = '\\\\n\\(\\w{1,3}\\)'\n",
    "        if re.search(expr, page_text[i_period+1:i_period+8]):\n",
    "            is_sentence_end = True\n",
    "\n",
    "        # special case where we check for \\n.............\n",
    "        expr = '\\\\n...'\n",
    "        if re.search(expr, page_text[i_period-2:i_period+3]):\n",
    "            is_sentence_end = True\n",
    "\n",
    "        # if is_sentence_end, select the sentence\n",
    "        if is_sentence_end:\n",
    "            local_num = local_num + 1\n",
    "            entry = {}\n",
    "            entry['page_num'] = str(page_num)\n",
    "            entry['pdf_page_num'] = pdf_page_num\n",
    "            entry['local_num'] = local_num\n",
    "            entry['category'] = 'sentence'\n",
    "            entry['sentence'] = page_text[i_start:i_period+1]\n",
    "\n",
    "            # add the entry to the set\n",
    "            temp_sentences.append(entry)\n",
    "\n",
    "            # set i_start to be the next location after i_period\n",
    "            i_start = i_period+1\n",
    "\n",
    "            # check for special case of ..... If so, remove ....\n",
    "            expr = '\\\\n...'\n",
    "            if re.search(expr, page_text[i_period-2:i_period+3]):\n",
    "                i_dot = i_period\n",
    "                check = True\n",
    "                while check:\n",
    "                    # step forward through the text\n",
    "                    i_dot = i_dot+1\n",
    "\n",
    "                    # stop advancing once there is a real character\n",
    "                    if re.search('\\w', page_text[i_dot]) and page_text[i_dot+1] != '.':\n",
    "                        check = False\n",
    "\n",
    "                # set i_start at the last i_dot which was not a dot\n",
    "                i_start = i_dot\n",
    "                i_period = i_dot\n",
    "\n",
    "\n",
    "    # record the residual\n",
    "    residual_text = page_text[i_start:-1]\n",
    "\n",
    "    return temp_sentences, residual_text\n"
   ]
  },
  {
   "cell_type": "code",
   "execution_count": null,
   "metadata": {},
   "outputs": [],
   "source": []
  },
  {
   "cell_type": "code",
   "execution_count": null,
   "metadata": {},
   "outputs": [],
   "source": [
    "# function to globalize the sentences - update the running number and repare the sentences ot have only standard characters\n",
    "def globalize_sentences(temp_sentences, global_num):\n",
    "\n",
    "    # pull each entry individually.\n",
    "    max_num = 0\n",
    "    global_sentences = []\n",
    "    for entry in temp_sentences:\n",
    "        # make global number\n",
    "        entry['global_num'] = int(entry['local_num']) + global_num\n",
    "\n",
    "        # update tracker of the max number\n",
    "        max_num = max([global_num, entry['global_num']])\n",
    "\n",
    "        # remove non-standard characters from the sentences\n",
    "        entry['sentence'] = entry['sentence'].replace('\\n', '')    \n",
    "        entry['sentence'] = entry['sentence'].replace(\"[^a-zA-Z0-9#']\", \" \")\n",
    "        entry['sentence'] = entry['sentence'].strip()\n",
    "\n",
    "        # append the correct entry to the global entries   \n",
    "        global_sentences.append(entry)\n",
    "\n",
    "    # return temp_sentences, global_num\n",
    "    return global_sentences, max_num"
   ]
  },
  {
   "cell_type": "code",
   "execution_count": null,
   "metadata": {},
   "outputs": [],
   "source": [
    "# Control - run the functions to extract sentences from a file\n",
    "filename = 'extract_document.pdf'\n",
    "reader, num_pages = open_pdf_reader(filename)\n",
    "\n",
    "# hold extracted sentences dictionary:\n",
    "# global_num: keep an order of extraction - could consider the proximity of sentences in later analysis\n",
    "# page_num: page number of the extracted text\n",
    "# category: type of sentence or set of words extracted - could be sentence or heading or other\n",
    "# sentence: hold the actual sentence\n",
    "sentences = []\n",
    "residual_text = ''\n",
    "global_num = 0\n",
    "\n",
    "# extract page by page. Execute by all information in a buffer - patterns cannot be extracted from a single location.\n",
    "# between pages hold onto residual information and pass into the next page for concatination\n",
    "for page_num in range(0,num_pages-1):\n",
    "    temp_sentences, residual_text = extract_page_sentences(reader, page_num, residual_text )\n",
    "    \n",
    "    # if the sentences are empty, skip the page and keep going\n",
    "    if temp_sentences == []:\n",
    "        continue\n",
    "\n",
    "    # fix the temp_sentences - remove extra characters, make lower\n",
    "    temp_sentences, global_num = globalize_sentences(temp_sentences, global_num) \n",
    "\n",
    "    # append the temp_sentences to the set of sentences\n",
    "    sentences = sentences + temp_sentences\n",
    "\n",
    "    print('page ', str(page_num), ' global_num ', str(global_num))\n",
    "sentences\n",
    "\n",
    "\n"
   ]
  },
  {
   "cell_type": "code",
   "execution_count": null,
   "metadata": {},
   "outputs": [],
   "source": [
    "num_pages"
   ]
  },
  {
   "cell_type": "code",
   "execution_count": null,
   "metadata": {},
   "outputs": [],
   "source": [
    "page_obj = reader.getPage(21)\n",
    "#help(page_obj)\n",
    "reader.getPageNumber(page_obj)\n"
   ]
  },
  {
   "cell_type": "code",
   "execution_count": null,
   "metadata": {},
   "outputs": [],
   "source": [
    "page_obj.getItem('/Page')\n",
    "\n"
   ]
  },
  {
   "cell_type": "code",
   "execution_count": null,
   "metadata": {},
   "outputs": [],
   "source": [
    "page_obj = pdf_reader.getPage(51)\n",
    "x = page_obj.extractText()\n",
    "x[2:4]\n",
    "expr = '\\\\n[A-Z]'\n",
    "m = re.search(expr, x[2:4])\n",
    "if m:\n",
    "    x = True\n",
    "else:\n",
    "    x = False\n",
    "x"
   ]
  },
  {
   "cell_type": "code",
   "execution_count": null,
   "metadata": {},
   "outputs": [],
   "source": [
    "page_obj = pdf_reader.getPage(22)\n",
    "x = page_obj.extractText()\n",
    "x\n"
   ]
  },
  {
   "cell_type": "code",
   "execution_count": null,
   "metadata": {},
   "outputs": [],
   "source": []
  },
  {
   "cell_type": "code",
   "execution_count": null,
   "metadata": {},
   "outputs": [],
   "source": []
  },
  {
   "cell_type": "code",
   "execution_count": null,
   "metadata": {},
   "outputs": [],
   "source": []
  },
  {
   "cell_type": "code",
   "execution_count": null,
   "metadata": {},
   "outputs": [],
   "source": [
    "len(page_text)\n",
    "page_text[362] == '.'\n",
    "\n",
    "page_text[363].encode('utf-8')\n",
    "#page_text[363].lower()\n",
    "len('$'.encode('utf-8'))"
   ]
  }
 ],
 "metadata": {
  "kernelspec": {
   "display_name": "Python 3",
   "language": "python",
   "name": "python3"
  },
  "language_info": {
   "codemirror_mode": {
    "name": "ipython",
    "version": 3
   },
   "file_extension": ".py",
   "mimetype": "text/x-python",
   "name": "python",
   "nbconvert_exporter": "python",
   "pygments_lexer": "ipython3",
   "version": "3.7.5"
  },
  "toc": {
   "base_numbering": 1,
   "nav_menu": {},
   "number_sections": true,
   "sideBar": true,
   "skip_h1_title": false,
   "title_cell": "Table of Contents",
   "title_sidebar": "Contents",
   "toc_cell": false,
   "toc_position": {},
   "toc_section_display": true,
   "toc_window_display": false
  }
 },
 "nbformat": 4,
 "nbformat_minor": 2
}
